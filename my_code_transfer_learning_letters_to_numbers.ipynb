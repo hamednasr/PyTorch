{
  "cells": [
    {
      "cell_type": "markdown",
      "metadata": {
        "id": "view-in-github",
        "colab_type": "text"
      },
      "source": [
        "<a href=\"https://colab.research.google.com/github/hamednasr/deep-learning/blob/main/my_code_transfer_learning_letters_to_numbers.ipynb\" target=\"_parent\"><img src=\"https://colab.research.google.com/assets/colab-badge.svg\" alt=\"Open In Colab\"/></a>"
      ]
    },
    {
      "cell_type": "code",
      "execution_count": 1,
      "metadata": {
        "id": "YeuAheYyhdZw"
      },
      "outputs": [],
      "source": [
        "# import libraries\n",
        "import numpy as np\n",
        "\n",
        "import torch\n",
        "import torch.nn as nn\n",
        "import torch.nn.functional as F\n",
        "from torch.utils.data import DataLoader,TensorDataset\n",
        "import copy\n",
        "from sklearn.model_selection import train_test_split\n",
        "\n",
        "# for importing data\n",
        "import torchvision\n",
        "import torchvision.transforms as T\n",
        "\n",
        "import matplotlib.pyplot as plt\n",
        "from IPython import display\n",
        "display.set_matplotlib_formats('svg')"
      ]
    },
    {
      "cell_type": "code",
      "execution_count": 2,
      "metadata": {
        "colab": {
          "base_uri": "https://localhost:8080/"
        },
        "id": "IBSQO5HB6Kje",
        "outputId": "2bca9937-6a48-4b3b-e422-cc2f1d0875c2"
      },
      "outputs": [
        {
          "output_type": "execute_result",
          "data": {
            "text/plain": [
              "device(type='cuda', index=0)"
            ]
          },
          "metadata": {},
          "execution_count": 2
        }
      ],
      "source": [
        "# use GPU if available\n",
        "# device = 'cpu'\n",
        "device = torch.device('cuda:0' if torch.cuda.is_available() else 'cpu')\n",
        "device"
      ]
    },
    {
      "cell_type": "markdown",
      "metadata": {
        "id": "0HOkOefftqyg"
      },
      "source": [
        "# Import and inspect the data"
      ]
    },
    {
      "cell_type": "code",
      "source": [
        "trans = T.Compose([T.ToTensor()])"
      ],
      "metadata": {
        "id": "yBg4ZiFvn2pi"
      },
      "execution_count": 3,
      "outputs": []
    },
    {
      "cell_type": "code",
      "execution_count": 4,
      "metadata": {
        "colab": {
          "base_uri": "https://localhost:8080/",
          "height": 85,
          "referenced_widgets": [
            "31acb4cdcd734278a09e61f8a94aaf04",
            "4e25694ed72440f5b859508d5f0cd064",
            "08b974e39685489c8323db03d51eb429",
            "44d4224de57647799ef5f0fbe1fdebc5",
            "9bff9b9d28404c1f9d738b8dd5a0f6c2",
            "ce4f4a46a7134ba3af90f37b40b75057",
            "02cbcf64e72f47a4a781889737ffcf40",
            "99f8c31849e54ef1a380dcaad989ed56",
            "4d585157b3b54a498d05b3d8da269686",
            "7ce3ce964f954e188742ea7e7de14a9b",
            "9b39e9396db3421abc565fd996dc149c"
          ]
        },
        "id": "MU7rvmWuhjud",
        "outputId": "e08061e5-b5e9-4847-a697-fd37a0c14381"
      },
      "outputs": [
        {
          "output_type": "stream",
          "name": "stdout",
          "text": [
            "Downloading https://www.itl.nist.gov/iaui/vip/cs_links/EMNIST/gzip.zip to emnist/EMNIST/raw/gzip.zip\n"
          ]
        },
        {
          "output_type": "display_data",
          "data": {
            "application/vnd.jupyter.widget-view+json": {
              "model_id": "31acb4cdcd734278a09e61f8a94aaf04",
              "version_minor": 0,
              "version_major": 2
            },
            "text/plain": [
              "  0%|          | 0/561753746 [00:00<?, ?it/s]"
            ]
          },
          "metadata": {}
        },
        {
          "output_type": "stream",
          "name": "stdout",
          "text": [
            "Extracting emnist/EMNIST/raw/gzip.zip to emnist/EMNIST/raw\n"
          ]
        }
      ],
      "source": [
        "# download the dataset\n",
        "letters_train = torchvision.datasets.EMNIST(root='emnist',split='letters',\n",
        "                                            download=True,train=True,transform=trans)\n",
        "numbers_train = torchvision.datasets.EMNIST(root='emnist',split='digits',\n",
        "                                            download=True,train=True,transform=trans)\n",
        "\n",
        "letters_test = torchvision.datasets.EMNIST(root='emnist',split='letters',\n",
        "                                           download=True,train=False,transform=trans)\n",
        "numbers_test = torchvision.datasets.EMNIST(root='emnist',split='digits',\n",
        "                                           download=True,train=False,transform=trans)\n",
        "\n",
        "# more info: https://www.nist.gov/itl/products-and-services/emnist-dataset"
      ]
    },
    {
      "cell_type": "code",
      "source": [
        "letters_train.data.shape"
      ],
      "metadata": {
        "colab": {
          "base_uri": "https://localhost:8080/"
        },
        "id": "tKOB-9MenYCi",
        "outputId": "fa1bc3e4-61f1-49d9-ece2-1ab9ee9f833e"
      },
      "execution_count": 5,
      "outputs": [
        {
          "output_type": "execute_result",
          "data": {
            "text/plain": [
              "torch.Size([124800, 28, 28])"
            ]
          },
          "metadata": {},
          "execution_count": 5
        }
      ]
    },
    {
      "cell_type": "code",
      "source": [
        "numbers_train.data.shape"
      ],
      "metadata": {
        "colab": {
          "base_uri": "https://localhost:8080/"
        },
        "id": "O1Vp2xZEnUjT",
        "outputId": "cc438b06-4f56-4b43-c5c0-badb9e35dfe0"
      },
      "execution_count": 6,
      "outputs": [
        {
          "output_type": "execute_result",
          "data": {
            "text/plain": [
              "torch.Size([240000, 28, 28])"
            ]
          },
          "metadata": {},
          "execution_count": 6
        }
      ]
    },
    {
      "cell_type": "code",
      "execution_count": 7,
      "metadata": {
        "colab": {
          "base_uri": "https://localhost:8080/"
        },
        "id": "fPJJu-5edsyi",
        "outputId": "025b9ddb-93fe-49aa-9cb3-0b246c19e68e"
      },
      "outputs": [
        {
          "output_type": "stream",
          "name": "stdout",
          "text": [
            "['N/A', 'a', 'b', 'c', 'd', 'e', 'f', 'g', 'h', 'i', 'j', 'k', 'l', 'm', 'n', 'o', 'p', 'q', 'r', 's', 't', 'u', 'v', 'w', 'x', 'y', 'z']\n",
            "27 classes\n",
            "\n",
            "Data size:\n",
            "torch.Size([124800, 28, 28])\n"
          ]
        }
      ],
      "source": [
        "# inspect the data\n",
        "\n",
        "# the categories (but how many letters??)\n",
        "print(letters_train.classes)\n",
        "print(str(len(letters_train.classes)) + ' classes')\n",
        "\n",
        "print('\\nData size:')\n",
        "print(letters_train.data.shape)\n"
      ]
    },
    {
      "cell_type": "code",
      "execution_count": 8,
      "metadata": {
        "colab": {
          "base_uri": "https://localhost:8080/"
        },
        "id": "PD4UCg6umqOW",
        "outputId": "21f37012-ac86-4034-d41a-1ceffc504813"
      },
      "outputs": [
        {
          "output_type": "stream",
          "name": "stdout",
          "text": [
            "tensor(0)\n"
          ]
        },
        {
          "output_type": "execute_result",
          "data": {
            "text/plain": [
              "tensor([ 1,  2,  3,  4,  5,  6,  7,  8,  9, 10, 11, 12, 13, 14, 15, 16, 17, 18,\n",
              "        19, 20, 21, 22, 23, 24, 25, 26])"
            ]
          },
          "metadata": {},
          "execution_count": 8
        }
      ],
      "source": [
        "# brief aside: class 'N/A' doesn't exist in the data.\n",
        "print( torch.sum(letters_train.targets==0) )\n",
        "\n",
        "# However, it causes problems in one-hot encoding...\n",
        "torch.unique(letters_train.targets)"
      ]
    },
    {
      "cell_type": "code",
      "execution_count": 9,
      "metadata": {
        "colab": {
          "base_uri": "https://localhost:8080/"
        },
        "id": "6KttY-pHt8e3",
        "outputId": "381aec32-6d9f-4552-bd62-9d425e36b7c4"
      },
      "outputs": [
        {
          "output_type": "stream",
          "name": "stdout",
          "text": [
            "torch.Size([124800])\n",
            "tensor(4800)\n"
          ]
        },
        {
          "output_type": "execute_result",
          "data": {
            "text/plain": [
              "tensor([ 0,  1,  2,  3,  4,  5,  6,  7,  8,  9, 10, 11, 12, 13, 14, 15, 16, 17,\n",
              "        18, 19, 20, 21, 22, 23, 24, 25])"
            ]
          },
          "metadata": {},
          "execution_count": 9
        }
      ],
      "source": [
        "# so therefore we'll eliminate it and subtract 1 from the original\n",
        "\n",
        "# remove the first class category\n",
        "letterCategories = letters_train.classes[1:]\n",
        "\n",
        "# relabel labels to start at 0\n",
        "letterlabels_train = copy.deepcopy(letters_train.targets)-1\n",
        "letterlabels_test = copy.deepcopy(letters_test.targets)-1\n",
        "print(letterlabels_train.shape)\n",
        "\n",
        "### \n",
        "print( torch.sum(letterlabels_train==0) )\n",
        "torch.unique(letterlabels_train)"
      ]
    },
    {
      "cell_type": "markdown",
      "metadata": {
        "id": "OhLQ2YSvpiGj"
      },
      "source": [
        "# Create train/test groups using DataLoader"
      ]
    },
    {
      "cell_type": "code",
      "source": [
        "letters_train.targets= letterlabels_train\n",
        "letters_test.targets= letterlabels_test"
      ],
      "metadata": {
        "id": "P5Ca2-Ex17ca"
      },
      "execution_count": 10,
      "outputs": []
    },
    {
      "cell_type": "code",
      "execution_count": 11,
      "metadata": {
        "id": "Y_tZ1ymVp0Sf"
      },
      "outputs": [],
      "source": [
        "# Step 4: translate into dataloader objects\n",
        "batchsize    = 128\n",
        "train_loader_letters = DataLoader(letters_train,batch_size=batchsize,shuffle=True,drop_last=True)\n",
        "test_loader_letters  = DataLoader(letters_test,batch_size=letters_test.data.shape[0])\n",
        "\n",
        "train_loader_numbers = DataLoader(numbers_train,batch_size=batchsize,shuffle=True,drop_last=True)\n",
        "test_loader_numbers  = DataLoader(numbers_test,batch_size=numbers_test.data.shape[0])"
      ]
    },
    {
      "cell_type": "code",
      "source": [
        "train_loader_letters.dataset.targets"
      ],
      "metadata": {
        "colab": {
          "base_uri": "https://localhost:8080/"
        },
        "id": "nBSgB8up1FgJ",
        "outputId": "ba7919d5-4850-42b3-def3-9af6f2fb8ebc"
      },
      "execution_count": 12,
      "outputs": [
        {
          "output_type": "execute_result",
          "data": {
            "text/plain": [
              "tensor([22,  6, 15,  ..., 12, 14, 18])"
            ]
          },
          "metadata": {},
          "execution_count": 12
        }
      ]
    },
    {
      "cell_type": "code",
      "execution_count": 13,
      "metadata": {
        "colab": {
          "base_uri": "https://localhost:8080/"
        },
        "id": "Zhsr13r2rk8I",
        "outputId": "4e97eefe-2ada-4ea2-d4f2-2735e83addfb"
      },
      "outputs": [
        {
          "output_type": "stream",
          "name": "stdout",
          "text": [
            "torch.Size([124800, 28, 28])\n",
            "torch.Size([20800, 28, 28])\n"
          ]
        }
      ],
      "source": [
        "# check size (should be images X channels X width X height\n",
        "print( train_loader_letters.dataset.data.shape )\n",
        "print( test_loader_letters.dataset.data.shape )"
      ]
    },
    {
      "cell_type": "markdown",
      "metadata": {
        "id": "OK8Opkhgp0bO"
      },
      "source": [
        "# Create the DL model"
      ]
    },
    {
      "cell_type": "code",
      "execution_count": 14,
      "metadata": {
        "id": "JK3OO3tAtZkA"
      },
      "outputs": [],
      "source": [
        "# create a class for the model\n",
        "def makeTheNet(C):\n",
        "\n",
        "  class emnistnet(nn.Module):\n",
        "    def __init__(self):\n",
        "      super().__init__()\n",
        "\n",
        "\n",
        "      ### -------------- feature map layers -------------- ###\n",
        "      # first convolution layer\n",
        "      self.conv1  = nn.Conv2d(1,6,3,padding=1)\n",
        "      self.bnorm1 = nn.BatchNorm2d(6) # input the number of channels in this layer\n",
        "      # output size: (28+2*1-3)/1 + 1 = 28/2 = 14 (/2 b/c maxpool)\n",
        "\n",
        "      # second convolution layer\n",
        "      self.conv2  = nn.Conv2d(6,6,3,padding=1)\n",
        "      self.bnorm2 = nn.BatchNorm2d(6) # input the number of channels in this layer\n",
        "      # output size: (14+2*1-3)/1 + 1 = 14/2 = 7 (/2 b/c maxpool)\n",
        "\n",
        "      \n",
        "      ### -------------- linear decision layers -------------- ###\n",
        "      self.fc1 = nn.Linear(7*7*6,50)\n",
        "      self.fc2 = nn.Linear(50,C)\n",
        "\n",
        "    def forward(self,x):\n",
        "     \n",
        "     \n",
        "      # first block: convolution -> maxpool -> batchnorm -> relu\n",
        "      x = F.max_pool2d(self.conv1(x),2)\n",
        "      x = F.leaky_relu(self.bnorm1(x))\n",
        "\n",
        "      # second block: convolution -> maxpool -> batchnorm -> relu\n",
        "      x = F.max_pool2d(self.conv2(x),2)\n",
        "      x = F.leaky_relu(self.bnorm2(x))\n",
        "\n",
        "      # reshape for linear layer\n",
        "      nUnits = x.shape.numel()/x.shape[0]\n",
        "      x = x.view(-1,int(nUnits))\n",
        "      \n",
        "      # linear layers\n",
        "      x = F.leaky_relu(self.fc1(x))\n",
        "      x = self.fc2(x)\n",
        "\n",
        "      return x\n",
        "\n",
        "  # create the model instance\n",
        "  net = emnistnet()\n",
        "  \n",
        "  # loss function\n",
        "  lossfun = nn.CrossEntropyLoss()\n",
        "\n",
        "  # optimizer\n",
        "  optimizer = torch.optim.Adam(net.parameters(),lr=.001)\n",
        "\n",
        "  return net,lossfun,optimizer"
      ]
    },
    {
      "cell_type": "code",
      "execution_count": 15,
      "metadata": {
        "colab": {
          "base_uri": "https://localhost:8080/"
        },
        "id": "y6icEJcXp0el",
        "outputId": "49423241-98a8-4a88-9325-c63160227f16"
      },
      "outputs": [
        {
          "output_type": "stream",
          "name": "stdout",
          "text": [
            "\n",
            "Output size:\n",
            "torch.Size([128, 26])\n",
            " \n",
            "Loss:\n",
            "tensor(3.2341, grad_fn=<NllLossBackward0>)\n"
          ]
        }
      ],
      "source": [
        "# test the model with one batch\n",
        "net,lossfun,optimizer = makeTheNet(26)\n",
        "\n",
        "X,y = iter(train_loader_letters).next()\n",
        "yHat = net(X)\n",
        "\n",
        "# check size of output\n",
        "print('\\nOutput size:')\n",
        "print(yHat.shape)\n",
        "\n",
        "# # now let's compute the loss\n",
        "loss = lossfun(yHat,torch.squeeze(y))\n",
        "print(' ')\n",
        "print('Loss:')\n",
        "print(loss)"
      ]
    },
    {
      "cell_type": "markdown",
      "metadata": {
        "id": "dvfGQIRGp0ht"
      },
      "source": [
        "# Create a function that trains the model"
      ]
    },
    {
      "cell_type": "code",
      "execution_count": 16,
      "metadata": {
        "id": "IblJo1NCp0kl"
      },
      "outputs": [],
      "source": [
        "# a function that trains the model\n",
        "\n",
        "def function2trainTheModel(net,train_loader,test_loader,numepochs = 5):\n",
        "\n",
        "  \n",
        "  # send the model to the GPU\n",
        "  net.to(device)\n",
        "\n",
        "  # initialize losses\n",
        "  trainLoss = torch.zeros(numepochs)\n",
        "  testLoss  = torch.zeros(numepochs)\n",
        "  trainErr  = torch.zeros(numepochs)\n",
        "  testErr   = torch.zeros(numepochs)\n",
        "\n",
        "\n",
        "  # loop over epochs\n",
        "  for epochi in range(numepochs):\n",
        "\n",
        "    # loop over training data batches\n",
        "    net.train()\n",
        "    batchLoss = []\n",
        "    batchErr  = []\n",
        "    for X,y in train_loader:\n",
        "\n",
        "      # push data to GPU\n",
        "      X = X.to(device)\n",
        "      y = y.to(device)\n",
        "\n",
        "      # forward pass and loss\n",
        "      yHat = net(X)\n",
        "      loss = lossfun(yHat,y)\n",
        "\n",
        "      # backprop\n",
        "      optimizer.zero_grad()\n",
        "      loss.backward()\n",
        "      optimizer.step()\n",
        "\n",
        "      # loss and error from this batch\n",
        "      batchLoss.append(loss.item())\n",
        "      batchErr.append( torch.mean((torch.argmax(yHat,axis=1) != y).float()).item() )\n",
        "    # end of batch loop...\n",
        "\n",
        "    # and get average losses and error rates across the batches\n",
        "    trainLoss[epochi] = np.mean(batchLoss)\n",
        "    trainErr[epochi]  = 100*np.mean(batchErr)\n",
        "\n",
        "    ### test performance\n",
        "    net.eval()\n",
        "    X,y = next(iter(test_loader)) # extract X,y from test dataloader\n",
        "\n",
        "    # push data to GPU\n",
        "    X = X.to(device)\n",
        "    y = y.to(device)\n",
        "\n",
        "    with torch.no_grad(): # deactivates autograd\n",
        "      yHat = net(X)\n",
        "      loss = lossfun(yHat,y)\n",
        "      \n",
        "    # get loss and error rate from the test batch\n",
        "    testLoss[epochi] = loss.item()\n",
        "    testErr[epochi]  = 100*torch.mean((torch.argmax(yHat,axis=1) != y).float()).item()\n",
        "\n",
        "  # end epochs\n",
        "\n",
        "  # function output\n",
        "  return trainLoss,testLoss,trainErr,testErr,net"
      ]
    },
    {
      "cell_type": "markdown",
      "metadata": {
        "id": "XpGm9xdQ27Ob"
      },
      "source": [
        "# Run the model and show the results!"
      ]
    },
    {
      "cell_type": "code",
      "execution_count": 17,
      "metadata": {
        "id": "l9pCC1R2p0nu"
      },
      "outputs": [],
      "source": [
        "# create a new model\n",
        "lettersnet,lossfun,optimizer = makeTheNet(26)\n",
        "# ~2 minutes with 10 epochs on GPU (8 mins on the CPU!)\n",
        "trainLoss,testLoss,trainErr,testErr,net = function2trainTheModel(lettersnet,train_loader_letters,test_loader_letters,5)"
      ]
    },
    {
      "cell_type": "code",
      "execution_count": 18,
      "metadata": {
        "colab": {
          "base_uri": "https://localhost:8080/",
          "height": 483
        },
        "id": "gHzKOZjnp0qn",
        "outputId": "77c562fa-d90d-4e71-d56f-4a37315fed2c"
      },
      "outputs": [
        {
          "output_type": "display_data",
          "data": {
            "text/plain": [
              "<Figure size 1152x360 with 2 Axes>"
            ],
            "image/svg+xml": "<?xml version=\"1.0\" encoding=\"utf-8\" standalone=\"no\"?>\n<!DOCTYPE svg PUBLIC \"-//W3C//DTD SVG 1.1//EN\"\n  \"http://www.w3.org/Graphics/SVG/1.1/DTD/svg11.dtd\">\n<!-- Created with matplotlib (https://matplotlib.org/) -->\n<svg height=\"331.674375pt\" version=\"1.1\" viewBox=\"0 0 943.78125 331.674375\" width=\"943.78125pt\" xmlns=\"http://www.w3.org/2000/svg\" xmlns:xlink=\"http://www.w3.org/1999/xlink\">\n <defs>\n  <style type=\"text/css\">\n*{stroke-linecap:butt;stroke-linejoin:round;}\n  </style>\n </defs>\n <g id=\"figure_1\">\n  <g id=\"patch_1\">\n   <path d=\"M 0 331.674375 \nL 943.78125 331.674375 \nL 943.78125 0 \nL 0 0 \nz\n\" style=\"fill:none;\"/>\n  </g>\n  <g id=\"axes_1\">\n   <g id=\"patch_2\">\n    <path d=\"M 43.78125 294.118125 \nL 449.599432 294.118125 \nL 449.599432 22.318125 \nL 43.78125 22.318125 \nz\n\" style=\"fill:#ffffff;\"/>\n   </g>\n   <g id=\"matplotlib.axis_1\">\n    <g id=\"xtick_1\">\n     <g id=\"line2d_1\">\n      <defs>\n       <path d=\"M 0 0 \nL 0 3.5 \n\" id=\"m8703c82064\" style=\"stroke:#000000;stroke-width:0.8;\"/>\n      </defs>\n      <g>\n       <use style=\"stroke:#000000;stroke-width:0.8;\" x=\"62.227531\" xlink:href=\"#m8703c82064\" y=\"294.118125\"/>\n      </g>\n     </g>\n     <g id=\"text_1\">\n      <!-- 0.0 -->\n      <defs>\n       <path d=\"M 31.78125 66.40625 \nQ 24.171875 66.40625 20.328125 58.90625 \nQ 16.5 51.421875 16.5 36.375 \nQ 16.5 21.390625 20.328125 13.890625 \nQ 24.171875 6.390625 31.78125 6.390625 \nQ 39.453125 6.390625 43.28125 13.890625 \nQ 47.125 21.390625 47.125 36.375 \nQ 47.125 51.421875 43.28125 58.90625 \nQ 39.453125 66.40625 31.78125 66.40625 \nz\nM 31.78125 74.21875 \nQ 44.046875 74.21875 50.515625 64.515625 \nQ 56.984375 54.828125 56.984375 36.375 \nQ 56.984375 17.96875 50.515625 8.265625 \nQ 44.046875 -1.421875 31.78125 -1.421875 \nQ 19.53125 -1.421875 13.0625 8.265625 \nQ 6.59375 17.96875 6.59375 36.375 \nQ 6.59375 54.828125 13.0625 64.515625 \nQ 19.53125 74.21875 31.78125 74.21875 \nz\n\" id=\"DejaVuSans-48\"/>\n       <path d=\"M 10.6875 12.40625 \nL 21 12.40625 \nL 21 0 \nL 10.6875 0 \nz\n\" id=\"DejaVuSans-46\"/>\n      </defs>\n      <g transform=\"translate(54.275968 308.716563)scale(0.1 -0.1)\">\n       <use xlink:href=\"#DejaVuSans-48\"/>\n       <use x=\"63.623047\" xlink:href=\"#DejaVuSans-46\"/>\n       <use x=\"95.410156\" xlink:href=\"#DejaVuSans-48\"/>\n      </g>\n     </g>\n    </g>\n    <g id=\"xtick_2\">\n     <g id=\"line2d_2\">\n      <g>\n       <use style=\"stroke:#000000;stroke-width:0.8;\" x=\"108.343233\" xlink:href=\"#m8703c82064\" y=\"294.118125\"/>\n      </g>\n     </g>\n     <g id=\"text_2\">\n      <!-- 0.5 -->\n      <defs>\n       <path d=\"M 10.796875 72.90625 \nL 49.515625 72.90625 \nL 49.515625 64.59375 \nL 19.828125 64.59375 \nL 19.828125 46.734375 \nQ 21.96875 47.46875 24.109375 47.828125 \nQ 26.265625 48.1875 28.421875 48.1875 \nQ 40.625 48.1875 47.75 41.5 \nQ 54.890625 34.8125 54.890625 23.390625 \nQ 54.890625 11.625 47.5625 5.09375 \nQ 40.234375 -1.421875 26.90625 -1.421875 \nQ 22.3125 -1.421875 17.546875 -0.640625 \nQ 12.796875 0.140625 7.71875 1.703125 \nL 7.71875 11.625 \nQ 12.109375 9.234375 16.796875 8.0625 \nQ 21.484375 6.890625 26.703125 6.890625 \nQ 35.15625 6.890625 40.078125 11.328125 \nQ 45.015625 15.765625 45.015625 23.390625 \nQ 45.015625 31 40.078125 35.4375 \nQ 35.15625 39.890625 26.703125 39.890625 \nQ 22.75 39.890625 18.8125 39.015625 \nQ 14.890625 38.140625 10.796875 36.28125 \nz\n\" id=\"DejaVuSans-53\"/>\n      </defs>\n      <g transform=\"translate(100.391671 308.716563)scale(0.1 -0.1)\">\n       <use xlink:href=\"#DejaVuSans-48\"/>\n       <use x=\"63.623047\" xlink:href=\"#DejaVuSans-46\"/>\n       <use x=\"95.410156\" xlink:href=\"#DejaVuSans-53\"/>\n      </g>\n     </g>\n    </g>\n    <g id=\"xtick_3\">\n     <g id=\"line2d_3\">\n      <g>\n       <use style=\"stroke:#000000;stroke-width:0.8;\" x=\"154.458936\" xlink:href=\"#m8703c82064\" y=\"294.118125\"/>\n      </g>\n     </g>\n     <g id=\"text_3\">\n      <!-- 1.0 -->\n      <defs>\n       <path d=\"M 12.40625 8.296875 \nL 28.515625 8.296875 \nL 28.515625 63.921875 \nL 10.984375 60.40625 \nL 10.984375 69.390625 \nL 28.421875 72.90625 \nL 38.28125 72.90625 \nL 38.28125 8.296875 \nL 54.390625 8.296875 \nL 54.390625 0 \nL 12.40625 0 \nz\n\" id=\"DejaVuSans-49\"/>\n      </defs>\n      <g transform=\"translate(146.507373 308.716563)scale(0.1 -0.1)\">\n       <use xlink:href=\"#DejaVuSans-49\"/>\n       <use x=\"63.623047\" xlink:href=\"#DejaVuSans-46\"/>\n       <use x=\"95.410156\" xlink:href=\"#DejaVuSans-48\"/>\n      </g>\n     </g>\n    </g>\n    <g id=\"xtick_4\">\n     <g id=\"line2d_4\">\n      <g>\n       <use style=\"stroke:#000000;stroke-width:0.8;\" x=\"200.574638\" xlink:href=\"#m8703c82064\" y=\"294.118125\"/>\n      </g>\n     </g>\n     <g id=\"text_4\">\n      <!-- 1.5 -->\n      <g transform=\"translate(192.623076 308.716563)scale(0.1 -0.1)\">\n       <use xlink:href=\"#DejaVuSans-49\"/>\n       <use x=\"63.623047\" xlink:href=\"#DejaVuSans-46\"/>\n       <use x=\"95.410156\" xlink:href=\"#DejaVuSans-53\"/>\n      </g>\n     </g>\n    </g>\n    <g id=\"xtick_5\">\n     <g id=\"line2d_5\">\n      <g>\n       <use style=\"stroke:#000000;stroke-width:0.8;\" x=\"246.690341\" xlink:href=\"#m8703c82064\" y=\"294.118125\"/>\n      </g>\n     </g>\n     <g id=\"text_5\">\n      <!-- 2.0 -->\n      <defs>\n       <path d=\"M 19.1875 8.296875 \nL 53.609375 8.296875 \nL 53.609375 0 \nL 7.328125 0 \nL 7.328125 8.296875 \nQ 12.9375 14.109375 22.625 23.890625 \nQ 32.328125 33.6875 34.8125 36.53125 \nQ 39.546875 41.84375 41.421875 45.53125 \nQ 43.3125 49.21875 43.3125 52.78125 \nQ 43.3125 58.59375 39.234375 62.25 \nQ 35.15625 65.921875 28.609375 65.921875 \nQ 23.96875 65.921875 18.8125 64.3125 \nQ 13.671875 62.703125 7.8125 59.421875 \nL 7.8125 69.390625 \nQ 13.765625 71.78125 18.9375 73 \nQ 24.125 74.21875 28.421875 74.21875 \nQ 39.75 74.21875 46.484375 68.546875 \nQ 53.21875 62.890625 53.21875 53.421875 \nQ 53.21875 48.921875 51.53125 44.890625 \nQ 49.859375 40.875 45.40625 35.40625 \nQ 44.1875 33.984375 37.640625 27.21875 \nQ 31.109375 20.453125 19.1875 8.296875 \nz\n\" id=\"DejaVuSans-50\"/>\n      </defs>\n      <g transform=\"translate(238.738778 308.716563)scale(0.1 -0.1)\">\n       <use xlink:href=\"#DejaVuSans-50\"/>\n       <use x=\"63.623047\" xlink:href=\"#DejaVuSans-46\"/>\n       <use x=\"95.410156\" xlink:href=\"#DejaVuSans-48\"/>\n      </g>\n     </g>\n    </g>\n    <g id=\"xtick_6\">\n     <g id=\"line2d_6\">\n      <g>\n       <use style=\"stroke:#000000;stroke-width:0.8;\" x=\"292.806043\" xlink:href=\"#m8703c82064\" y=\"294.118125\"/>\n      </g>\n     </g>\n     <g id=\"text_6\">\n      <!-- 2.5 -->\n      <g transform=\"translate(284.854481 308.716563)scale(0.1 -0.1)\">\n       <use xlink:href=\"#DejaVuSans-50\"/>\n       <use x=\"63.623047\" xlink:href=\"#DejaVuSans-46\"/>\n       <use x=\"95.410156\" xlink:href=\"#DejaVuSans-53\"/>\n      </g>\n     </g>\n    </g>\n    <g id=\"xtick_7\">\n     <g id=\"line2d_7\">\n      <g>\n       <use style=\"stroke:#000000;stroke-width:0.8;\" x=\"338.921746\" xlink:href=\"#m8703c82064\" y=\"294.118125\"/>\n      </g>\n     </g>\n     <g id=\"text_7\">\n      <!-- 3.0 -->\n      <defs>\n       <path d=\"M 40.578125 39.3125 \nQ 47.65625 37.796875 51.625 33 \nQ 55.609375 28.21875 55.609375 21.1875 \nQ 55.609375 10.40625 48.1875 4.484375 \nQ 40.765625 -1.421875 27.09375 -1.421875 \nQ 22.515625 -1.421875 17.65625 -0.515625 \nQ 12.796875 0.390625 7.625 2.203125 \nL 7.625 11.71875 \nQ 11.71875 9.328125 16.59375 8.109375 \nQ 21.484375 6.890625 26.8125 6.890625 \nQ 36.078125 6.890625 40.9375 10.546875 \nQ 45.796875 14.203125 45.796875 21.1875 \nQ 45.796875 27.640625 41.28125 31.265625 \nQ 36.765625 34.90625 28.71875 34.90625 \nL 20.21875 34.90625 \nL 20.21875 43.015625 \nL 29.109375 43.015625 \nQ 36.375 43.015625 40.234375 45.921875 \nQ 44.09375 48.828125 44.09375 54.296875 \nQ 44.09375 59.90625 40.109375 62.90625 \nQ 36.140625 65.921875 28.71875 65.921875 \nQ 24.65625 65.921875 20.015625 65.03125 \nQ 15.375 64.15625 9.8125 62.3125 \nL 9.8125 71.09375 \nQ 15.4375 72.65625 20.34375 73.4375 \nQ 25.25 74.21875 29.59375 74.21875 \nQ 40.828125 74.21875 47.359375 69.109375 \nQ 53.90625 64.015625 53.90625 55.328125 \nQ 53.90625 49.265625 50.4375 45.09375 \nQ 46.96875 40.921875 40.578125 39.3125 \nz\n\" id=\"DejaVuSans-51\"/>\n      </defs>\n      <g transform=\"translate(330.970183 308.716563)scale(0.1 -0.1)\">\n       <use xlink:href=\"#DejaVuSans-51\"/>\n       <use x=\"63.623047\" xlink:href=\"#DejaVuSans-46\"/>\n       <use x=\"95.410156\" xlink:href=\"#DejaVuSans-48\"/>\n      </g>\n     </g>\n    </g>\n    <g id=\"xtick_8\">\n     <g id=\"line2d_8\">\n      <g>\n       <use style=\"stroke:#000000;stroke-width:0.8;\" x=\"385.037448\" xlink:href=\"#m8703c82064\" y=\"294.118125\"/>\n      </g>\n     </g>\n     <g id=\"text_8\">\n      <!-- 3.5 -->\n      <g transform=\"translate(377.085886 308.716563)scale(0.1 -0.1)\">\n       <use xlink:href=\"#DejaVuSans-51\"/>\n       <use x=\"63.623047\" xlink:href=\"#DejaVuSans-46\"/>\n       <use x=\"95.410156\" xlink:href=\"#DejaVuSans-53\"/>\n      </g>\n     </g>\n    </g>\n    <g id=\"xtick_9\">\n     <g id=\"line2d_9\">\n      <g>\n       <use style=\"stroke:#000000;stroke-width:0.8;\" x=\"431.153151\" xlink:href=\"#m8703c82064\" y=\"294.118125\"/>\n      </g>\n     </g>\n     <g id=\"text_9\">\n      <!-- 4.0 -->\n      <defs>\n       <path d=\"M 37.796875 64.3125 \nL 12.890625 25.390625 \nL 37.796875 25.390625 \nz\nM 35.203125 72.90625 \nL 47.609375 72.90625 \nL 47.609375 25.390625 \nL 58.015625 25.390625 \nL 58.015625 17.1875 \nL 47.609375 17.1875 \nL 47.609375 0 \nL 37.796875 0 \nL 37.796875 17.1875 \nL 4.890625 17.1875 \nL 4.890625 26.703125 \nz\n\" id=\"DejaVuSans-52\"/>\n      </defs>\n      <g transform=\"translate(423.201588 308.716563)scale(0.1 -0.1)\">\n       <use xlink:href=\"#DejaVuSans-52\"/>\n       <use x=\"63.623047\" xlink:href=\"#DejaVuSans-46\"/>\n       <use x=\"95.410156\" xlink:href=\"#DejaVuSans-48\"/>\n      </g>\n     </g>\n    </g>\n    <g id=\"text_10\">\n     <!-- Epochs -->\n     <defs>\n      <path d=\"M 9.8125 72.90625 \nL 55.90625 72.90625 \nL 55.90625 64.59375 \nL 19.671875 64.59375 \nL 19.671875 43.015625 \nL 54.390625 43.015625 \nL 54.390625 34.71875 \nL 19.671875 34.71875 \nL 19.671875 8.296875 \nL 56.78125 8.296875 \nL 56.78125 0 \nL 9.8125 0 \nz\n\" id=\"DejaVuSans-69\"/>\n      <path d=\"M 18.109375 8.203125 \nL 18.109375 -20.796875 \nL 9.078125 -20.796875 \nL 9.078125 54.6875 \nL 18.109375 54.6875 \nL 18.109375 46.390625 \nQ 20.953125 51.265625 25.265625 53.625 \nQ 29.59375 56 35.59375 56 \nQ 45.5625 56 51.78125 48.09375 \nQ 58.015625 40.1875 58.015625 27.296875 \nQ 58.015625 14.40625 51.78125 6.484375 \nQ 45.5625 -1.421875 35.59375 -1.421875 \nQ 29.59375 -1.421875 25.265625 0.953125 \nQ 20.953125 3.328125 18.109375 8.203125 \nz\nM 48.6875 27.296875 \nQ 48.6875 37.203125 44.609375 42.84375 \nQ 40.53125 48.484375 33.40625 48.484375 \nQ 26.265625 48.484375 22.1875 42.84375 \nQ 18.109375 37.203125 18.109375 27.296875 \nQ 18.109375 17.390625 22.1875 11.75 \nQ 26.265625 6.109375 33.40625 6.109375 \nQ 40.53125 6.109375 44.609375 11.75 \nQ 48.6875 17.390625 48.6875 27.296875 \nz\n\" id=\"DejaVuSans-112\"/>\n      <path d=\"M 30.609375 48.390625 \nQ 23.390625 48.390625 19.1875 42.75 \nQ 14.984375 37.109375 14.984375 27.296875 \nQ 14.984375 17.484375 19.15625 11.84375 \nQ 23.34375 6.203125 30.609375 6.203125 \nQ 37.796875 6.203125 41.984375 11.859375 \nQ 46.1875 17.53125 46.1875 27.296875 \nQ 46.1875 37.015625 41.984375 42.703125 \nQ 37.796875 48.390625 30.609375 48.390625 \nz\nM 30.609375 56 \nQ 42.328125 56 49.015625 48.375 \nQ 55.71875 40.765625 55.71875 27.296875 \nQ 55.71875 13.875 49.015625 6.21875 \nQ 42.328125 -1.421875 30.609375 -1.421875 \nQ 18.84375 -1.421875 12.171875 6.21875 \nQ 5.515625 13.875 5.515625 27.296875 \nQ 5.515625 40.765625 12.171875 48.375 \nQ 18.84375 56 30.609375 56 \nz\n\" id=\"DejaVuSans-111\"/>\n      <path d=\"M 48.78125 52.59375 \nL 48.78125 44.1875 \nQ 44.96875 46.296875 41.140625 47.34375 \nQ 37.3125 48.390625 33.40625 48.390625 \nQ 24.65625 48.390625 19.8125 42.84375 \nQ 14.984375 37.3125 14.984375 27.296875 \nQ 14.984375 17.28125 19.8125 11.734375 \nQ 24.65625 6.203125 33.40625 6.203125 \nQ 37.3125 6.203125 41.140625 7.25 \nQ 44.96875 8.296875 48.78125 10.40625 \nL 48.78125 2.09375 \nQ 45.015625 0.34375 40.984375 -0.53125 \nQ 36.96875 -1.421875 32.421875 -1.421875 \nQ 20.0625 -1.421875 12.78125 6.34375 \nQ 5.515625 14.109375 5.515625 27.296875 \nQ 5.515625 40.671875 12.859375 48.328125 \nQ 20.21875 56 33.015625 56 \nQ 37.15625 56 41.109375 55.140625 \nQ 45.0625 54.296875 48.78125 52.59375 \nz\n\" id=\"DejaVuSans-99\"/>\n      <path d=\"M 54.890625 33.015625 \nL 54.890625 0 \nL 45.90625 0 \nL 45.90625 32.71875 \nQ 45.90625 40.484375 42.875 44.328125 \nQ 39.84375 48.1875 33.796875 48.1875 \nQ 26.515625 48.1875 22.3125 43.546875 \nQ 18.109375 38.921875 18.109375 30.90625 \nL 18.109375 0 \nL 9.078125 0 \nL 9.078125 75.984375 \nL 18.109375 75.984375 \nL 18.109375 46.1875 \nQ 21.34375 51.125 25.703125 53.5625 \nQ 30.078125 56 35.796875 56 \nQ 45.21875 56 50.046875 50.171875 \nQ 54.890625 44.34375 54.890625 33.015625 \nz\n\" id=\"DejaVuSans-104\"/>\n      <path d=\"M 44.28125 53.078125 \nL 44.28125 44.578125 \nQ 40.484375 46.53125 36.375 47.5 \nQ 32.28125 48.484375 27.875 48.484375 \nQ 21.1875 48.484375 17.84375 46.4375 \nQ 14.5 44.390625 14.5 40.28125 \nQ 14.5 37.15625 16.890625 35.375 \nQ 19.28125 33.59375 26.515625 31.984375 \nL 29.59375 31.296875 \nQ 39.15625 29.25 43.1875 25.515625 \nQ 47.21875 21.78125 47.21875 15.09375 \nQ 47.21875 7.46875 41.1875 3.015625 \nQ 35.15625 -1.421875 24.609375 -1.421875 \nQ 20.21875 -1.421875 15.453125 -0.5625 \nQ 10.6875 0.296875 5.421875 2 \nL 5.421875 11.28125 \nQ 10.40625 8.6875 15.234375 7.390625 \nQ 20.0625 6.109375 24.8125 6.109375 \nQ 31.15625 6.109375 34.5625 8.28125 \nQ 37.984375 10.453125 37.984375 14.40625 \nQ 37.984375 18.0625 35.515625 20.015625 \nQ 33.0625 21.96875 24.703125 23.78125 \nL 21.578125 24.515625 \nQ 13.234375 26.265625 9.515625 29.90625 \nQ 5.8125 33.546875 5.8125 39.890625 \nQ 5.8125 47.609375 11.28125 51.796875 \nQ 16.75 56 26.8125 56 \nQ 31.78125 56 36.171875 55.265625 \nQ 40.578125 54.546875 44.28125 53.078125 \nz\n\" id=\"DejaVuSans-115\"/>\n     </defs>\n     <g transform=\"translate(228.774716 322.394687)scale(0.1 -0.1)\">\n      <use xlink:href=\"#DejaVuSans-69\"/>\n      <use x=\"63.183594\" xlink:href=\"#DejaVuSans-112\"/>\n      <use x=\"126.660156\" xlink:href=\"#DejaVuSans-111\"/>\n      <use x=\"187.841797\" xlink:href=\"#DejaVuSans-99\"/>\n      <use x=\"242.822266\" xlink:href=\"#DejaVuSans-104\"/>\n      <use x=\"306.201172\" xlink:href=\"#DejaVuSans-115\"/>\n     </g>\n    </g>\n   </g>\n   <g id=\"matplotlib.axis_2\">\n    <g id=\"ytick_1\">\n     <g id=\"line2d_10\">\n      <defs>\n       <path d=\"M 0 0 \nL -3.5 0 \n\" id=\"m325027a811\" style=\"stroke:#000000;stroke-width:0.8;\"/>\n      </defs>\n      <g>\n       <use style=\"stroke:#000000;stroke-width:0.8;\" x=\"43.78125\" xlink:href=\"#m325027a811\" y=\"260.025058\"/>\n      </g>\n     </g>\n     <g id=\"text_11\">\n      <!-- 0.3 -->\n      <g transform=\"translate(20.878125 263.824277)scale(0.1 -0.1)\">\n       <use xlink:href=\"#DejaVuSans-48\"/>\n       <use x=\"63.623047\" xlink:href=\"#DejaVuSans-46\"/>\n       <use x=\"95.410156\" xlink:href=\"#DejaVuSans-51\"/>\n      </g>\n     </g>\n    </g>\n    <g id=\"ytick_2\">\n     <g id=\"line2d_11\">\n      <g>\n       <use style=\"stroke:#000000;stroke-width:0.8;\" x=\"43.78125\" xlink:href=\"#m325027a811\" y=\"210.656865\"/>\n      </g>\n     </g>\n     <g id=\"text_12\">\n      <!-- 0.4 -->\n      <g transform=\"translate(20.878125 214.456083)scale(0.1 -0.1)\">\n       <use xlink:href=\"#DejaVuSans-48\"/>\n       <use x=\"63.623047\" xlink:href=\"#DejaVuSans-46\"/>\n       <use x=\"95.410156\" xlink:href=\"#DejaVuSans-52\"/>\n      </g>\n     </g>\n    </g>\n    <g id=\"ytick_3\">\n     <g id=\"line2d_12\">\n      <g>\n       <use style=\"stroke:#000000;stroke-width:0.8;\" x=\"43.78125\" xlink:href=\"#m325027a811\" y=\"161.288671\"/>\n      </g>\n     </g>\n     <g id=\"text_13\">\n      <!-- 0.5 -->\n      <g transform=\"translate(20.878125 165.08789)scale(0.1 -0.1)\">\n       <use xlink:href=\"#DejaVuSans-48\"/>\n       <use x=\"63.623047\" xlink:href=\"#DejaVuSans-46\"/>\n       <use x=\"95.410156\" xlink:href=\"#DejaVuSans-53\"/>\n      </g>\n     </g>\n    </g>\n    <g id=\"ytick_4\">\n     <g id=\"line2d_13\">\n      <g>\n       <use style=\"stroke:#000000;stroke-width:0.8;\" x=\"43.78125\" xlink:href=\"#m325027a811\" y=\"111.920478\"/>\n      </g>\n     </g>\n     <g id=\"text_14\">\n      <!-- 0.6 -->\n      <defs>\n       <path d=\"M 33.015625 40.375 \nQ 26.375 40.375 22.484375 35.828125 \nQ 18.609375 31.296875 18.609375 23.390625 \nQ 18.609375 15.53125 22.484375 10.953125 \nQ 26.375 6.390625 33.015625 6.390625 \nQ 39.65625 6.390625 43.53125 10.953125 \nQ 47.40625 15.53125 47.40625 23.390625 \nQ 47.40625 31.296875 43.53125 35.828125 \nQ 39.65625 40.375 33.015625 40.375 \nz\nM 52.59375 71.296875 \nL 52.59375 62.3125 \nQ 48.875 64.0625 45.09375 64.984375 \nQ 41.3125 65.921875 37.59375 65.921875 \nQ 27.828125 65.921875 22.671875 59.328125 \nQ 17.53125 52.734375 16.796875 39.40625 \nQ 19.671875 43.65625 24.015625 45.921875 \nQ 28.375 48.1875 33.59375 48.1875 \nQ 44.578125 48.1875 50.953125 41.515625 \nQ 57.328125 34.859375 57.328125 23.390625 \nQ 57.328125 12.15625 50.6875 5.359375 \nQ 44.046875 -1.421875 33.015625 -1.421875 \nQ 20.359375 -1.421875 13.671875 8.265625 \nQ 6.984375 17.96875 6.984375 36.375 \nQ 6.984375 53.65625 15.1875 63.9375 \nQ 23.390625 74.21875 37.203125 74.21875 \nQ 40.921875 74.21875 44.703125 73.484375 \nQ 48.484375 72.75 52.59375 71.296875 \nz\n\" id=\"DejaVuSans-54\"/>\n      </defs>\n      <g transform=\"translate(20.878125 115.719697)scale(0.1 -0.1)\">\n       <use xlink:href=\"#DejaVuSans-48\"/>\n       <use x=\"63.623047\" xlink:href=\"#DejaVuSans-46\"/>\n       <use x=\"95.410156\" xlink:href=\"#DejaVuSans-54\"/>\n      </g>\n     </g>\n    </g>\n    <g id=\"ytick_5\">\n     <g id=\"line2d_14\">\n      <g>\n       <use style=\"stroke:#000000;stroke-width:0.8;\" x=\"43.78125\" xlink:href=\"#m325027a811\" y=\"62.552284\"/>\n      </g>\n     </g>\n     <g id=\"text_15\">\n      <!-- 0.7 -->\n      <defs>\n       <path d=\"M 8.203125 72.90625 \nL 55.078125 72.90625 \nL 55.078125 68.703125 \nL 28.609375 0 \nL 18.3125 0 \nL 43.21875 64.59375 \nL 8.203125 64.59375 \nz\n\" id=\"DejaVuSans-55\"/>\n      </defs>\n      <g transform=\"translate(20.878125 66.351503)scale(0.1 -0.1)\">\n       <use xlink:href=\"#DejaVuSans-48\"/>\n       <use x=\"63.623047\" xlink:href=\"#DejaVuSans-46\"/>\n       <use x=\"95.410156\" xlink:href=\"#DejaVuSans-55\"/>\n      </g>\n     </g>\n    </g>\n    <g id=\"text_16\">\n     <!-- Loss (MSE) -->\n     <defs>\n      <path d=\"M 9.8125 72.90625 \nL 19.671875 72.90625 \nL 19.671875 8.296875 \nL 55.171875 8.296875 \nL 55.171875 0 \nL 9.8125 0 \nz\n\" id=\"DejaVuSans-76\"/>\n      <path id=\"DejaVuSans-32\"/>\n      <path d=\"M 31 75.875 \nQ 24.46875 64.65625 21.28125 53.65625 \nQ 18.109375 42.671875 18.109375 31.390625 \nQ 18.109375 20.125 21.3125 9.0625 \nQ 24.515625 -2 31 -13.1875 \nL 23.1875 -13.1875 \nQ 15.875 -1.703125 12.234375 9.375 \nQ 8.59375 20.453125 8.59375 31.390625 \nQ 8.59375 42.28125 12.203125 53.3125 \nQ 15.828125 64.359375 23.1875 75.875 \nz\n\" id=\"DejaVuSans-40\"/>\n      <path d=\"M 9.8125 72.90625 \nL 24.515625 72.90625 \nL 43.109375 23.296875 \nL 61.8125 72.90625 \nL 76.515625 72.90625 \nL 76.515625 0 \nL 66.890625 0 \nL 66.890625 64.015625 \nL 48.09375 14.015625 \nL 38.1875 14.015625 \nL 19.390625 64.015625 \nL 19.390625 0 \nL 9.8125 0 \nz\n\" id=\"DejaVuSans-77\"/>\n      <path d=\"M 53.515625 70.515625 \nL 53.515625 60.890625 \nQ 47.90625 63.578125 42.921875 64.890625 \nQ 37.9375 66.21875 33.296875 66.21875 \nQ 25.25 66.21875 20.875 63.09375 \nQ 16.5 59.96875 16.5 54.203125 \nQ 16.5 49.359375 19.40625 46.890625 \nQ 22.3125 44.4375 30.421875 42.921875 \nL 36.375 41.703125 \nQ 47.40625 39.59375 52.65625 34.296875 \nQ 57.90625 29 57.90625 20.125 \nQ 57.90625 9.515625 50.796875 4.046875 \nQ 43.703125 -1.421875 29.984375 -1.421875 \nQ 24.8125 -1.421875 18.96875 -0.25 \nQ 13.140625 0.921875 6.890625 3.21875 \nL 6.890625 13.375 \nQ 12.890625 10.015625 18.65625 8.296875 \nQ 24.421875 6.59375 29.984375 6.59375 \nQ 38.421875 6.59375 43.015625 9.90625 \nQ 47.609375 13.234375 47.609375 19.390625 \nQ 47.609375 24.75 44.3125 27.78125 \nQ 41.015625 30.8125 33.5 32.328125 \nL 27.484375 33.5 \nQ 16.453125 35.6875 11.515625 40.375 \nQ 6.59375 45.0625 6.59375 53.421875 \nQ 6.59375 63.09375 13.40625 68.65625 \nQ 20.21875 74.21875 32.171875 74.21875 \nQ 37.3125 74.21875 42.625 73.28125 \nQ 47.953125 72.359375 53.515625 70.515625 \nz\n\" id=\"DejaVuSans-83\"/>\n      <path d=\"M 8.015625 75.875 \nL 15.828125 75.875 \nQ 23.140625 64.359375 26.78125 53.3125 \nQ 30.421875 42.28125 30.421875 31.390625 \nQ 30.421875 20.453125 26.78125 9.375 \nQ 23.140625 -1.703125 15.828125 -13.1875 \nL 8.015625 -13.1875 \nQ 14.5 -2 17.703125 9.0625 \nQ 20.90625 20.125 20.90625 31.390625 \nQ 20.90625 42.671875 17.703125 53.65625 \nQ 14.5 64.65625 8.015625 75.875 \nz\n\" id=\"DejaVuSans-41\"/>\n     </defs>\n     <g transform=\"translate(14.798438 185.323594)rotate(-90)scale(0.1 -0.1)\">\n      <use xlink:href=\"#DejaVuSans-76\"/>\n      <use x=\"53.962891\" xlink:href=\"#DejaVuSans-111\"/>\n      <use x=\"115.144531\" xlink:href=\"#DejaVuSans-115\"/>\n      <use x=\"167.244141\" xlink:href=\"#DejaVuSans-115\"/>\n      <use x=\"219.34375\" xlink:href=\"#DejaVuSans-32\"/>\n      <use x=\"251.130859\" xlink:href=\"#DejaVuSans-40\"/>\n      <use x=\"290.144531\" xlink:href=\"#DejaVuSans-77\"/>\n      <use x=\"376.423828\" xlink:href=\"#DejaVuSans-83\"/>\n      <use x=\"439.900391\" xlink:href=\"#DejaVuSans-69\"/>\n      <use x=\"503.083984\" xlink:href=\"#DejaVuSans-41\"/>\n     </g>\n    </g>\n   </g>\n   <g id=\"line2d_15\">\n    <path clip-path=\"url(#pe7542fe780)\" d=\"M 62.227531 34.67267 \nL 154.458936 232.678053 \nL 246.690341 259.179474 \nL 338.921746 273.019722 \nL 431.153151 281.76358 \n\" style=\"fill:none;stroke:#1f77b4;stroke-linecap:square;stroke-width:1.5;\"/>\n    <defs>\n     <path d=\"M -3 3 \nL 3 3 \nL 3 -3 \nL -3 -3 \nz\n\" id=\"m383a168457\" style=\"stroke:#1f77b4;stroke-linejoin:miter;\"/>\n    </defs>\n    <g clip-path=\"url(#pe7542fe780)\">\n     <use style=\"fill:#1f77b4;stroke:#1f77b4;stroke-linejoin:miter;\" x=\"62.227531\" xlink:href=\"#m383a168457\" y=\"34.67267\"/>\n     <use style=\"fill:#1f77b4;stroke:#1f77b4;stroke-linejoin:miter;\" x=\"154.458936\" xlink:href=\"#m383a168457\" y=\"232.678053\"/>\n     <use style=\"fill:#1f77b4;stroke:#1f77b4;stroke-linejoin:miter;\" x=\"246.690341\" xlink:href=\"#m383a168457\" y=\"259.179474\"/>\n     <use style=\"fill:#1f77b4;stroke:#1f77b4;stroke-linejoin:miter;\" x=\"338.921746\" xlink:href=\"#m383a168457\" y=\"273.019722\"/>\n     <use style=\"fill:#1f77b4;stroke:#1f77b4;stroke-linejoin:miter;\" x=\"431.153151\" xlink:href=\"#m383a168457\" y=\"281.76358\"/>\n    </g>\n   </g>\n   <g id=\"line2d_16\">\n    <path clip-path=\"url(#pe7542fe780)\" d=\"M 62.227531 213.835886 \nL 154.458936 244.649266 \nL 246.690341 254.193445 \nL 338.921746 265.701026 \nL 431.153151 267.680922 \n\" style=\"fill:none;stroke:#ff7f0e;stroke-linecap:square;stroke-width:1.5;\"/>\n    <defs>\n     <path d=\"M 0 3 \nC 0.795609 3 1.55874 2.683901 2.12132 2.12132 \nC 2.683901 1.55874 3 0.795609 3 0 \nC 3 -0.795609 2.683901 -1.55874 2.12132 -2.12132 \nC 1.55874 -2.683901 0.795609 -3 0 -3 \nC -0.795609 -3 -1.55874 -2.683901 -2.12132 -2.12132 \nC -2.683901 -1.55874 -3 -0.795609 -3 0 \nC -3 0.795609 -2.683901 1.55874 -2.12132 2.12132 \nC -1.55874 2.683901 -0.795609 3 0 3 \nz\n\" id=\"m7bea940a7d\" style=\"stroke:#ff7f0e;\"/>\n    </defs>\n    <g clip-path=\"url(#pe7542fe780)\">\n     <use style=\"fill:#ff7f0e;stroke:#ff7f0e;\" x=\"62.227531\" xlink:href=\"#m7bea940a7d\" y=\"213.835886\"/>\n     <use style=\"fill:#ff7f0e;stroke:#ff7f0e;\" x=\"154.458936\" xlink:href=\"#m7bea940a7d\" y=\"244.649266\"/>\n     <use style=\"fill:#ff7f0e;stroke:#ff7f0e;\" x=\"246.690341\" xlink:href=\"#m7bea940a7d\" y=\"254.193445\"/>\n     <use style=\"fill:#ff7f0e;stroke:#ff7f0e;\" x=\"338.921746\" xlink:href=\"#m7bea940a7d\" y=\"265.701026\"/>\n     <use style=\"fill:#ff7f0e;stroke:#ff7f0e;\" x=\"431.153151\" xlink:href=\"#m7bea940a7d\" y=\"267.680922\"/>\n    </g>\n   </g>\n   <g id=\"patch_3\">\n    <path d=\"M 43.78125 294.118125 \nL 43.78125 22.318125 \n\" style=\"fill:none;stroke:#000000;stroke-linecap:square;stroke-linejoin:miter;stroke-width:0.8;\"/>\n   </g>\n   <g id=\"patch_4\">\n    <path d=\"M 449.599432 294.118125 \nL 449.599432 22.318125 \n\" style=\"fill:none;stroke:#000000;stroke-linecap:square;stroke-linejoin:miter;stroke-width:0.8;\"/>\n   </g>\n   <g id=\"patch_5\">\n    <path d=\"M 43.78125 294.118125 \nL 449.599432 294.118125 \n\" style=\"fill:none;stroke:#000000;stroke-linecap:square;stroke-linejoin:miter;stroke-width:0.8;\"/>\n   </g>\n   <g id=\"patch_6\">\n    <path d=\"M 43.78125 22.318125 \nL 449.599432 22.318125 \n\" style=\"fill:none;stroke:#000000;stroke-linecap:square;stroke-linejoin:miter;stroke-width:0.8;\"/>\n   </g>\n   <g id=\"text_17\">\n    <!-- Model loss -->\n    <defs>\n     <path d=\"M 45.40625 46.390625 \nL 45.40625 75.984375 \nL 54.390625 75.984375 \nL 54.390625 0 \nL 45.40625 0 \nL 45.40625 8.203125 \nQ 42.578125 3.328125 38.25 0.953125 \nQ 33.9375 -1.421875 27.875 -1.421875 \nQ 17.96875 -1.421875 11.734375 6.484375 \nQ 5.515625 14.40625 5.515625 27.296875 \nQ 5.515625 40.1875 11.734375 48.09375 \nQ 17.96875 56 27.875 56 \nQ 33.9375 56 38.25 53.625 \nQ 42.578125 51.265625 45.40625 46.390625 \nz\nM 14.796875 27.296875 \nQ 14.796875 17.390625 18.875 11.75 \nQ 22.953125 6.109375 30.078125 6.109375 \nQ 37.203125 6.109375 41.296875 11.75 \nQ 45.40625 17.390625 45.40625 27.296875 \nQ 45.40625 37.203125 41.296875 42.84375 \nQ 37.203125 48.484375 30.078125 48.484375 \nQ 22.953125 48.484375 18.875 42.84375 \nQ 14.796875 37.203125 14.796875 27.296875 \nz\n\" id=\"DejaVuSans-100\"/>\n     <path d=\"M 56.203125 29.59375 \nL 56.203125 25.203125 \nL 14.890625 25.203125 \nQ 15.484375 15.921875 20.484375 11.0625 \nQ 25.484375 6.203125 34.421875 6.203125 \nQ 39.59375 6.203125 44.453125 7.46875 \nQ 49.3125 8.734375 54.109375 11.28125 \nL 54.109375 2.78125 \nQ 49.265625 0.734375 44.1875 -0.34375 \nQ 39.109375 -1.421875 33.890625 -1.421875 \nQ 20.796875 -1.421875 13.15625 6.1875 \nQ 5.515625 13.8125 5.515625 26.8125 \nQ 5.515625 40.234375 12.765625 48.109375 \nQ 20.015625 56 32.328125 56 \nQ 43.359375 56 49.78125 48.890625 \nQ 56.203125 41.796875 56.203125 29.59375 \nz\nM 47.21875 32.234375 \nQ 47.125 39.59375 43.09375 43.984375 \nQ 39.0625 48.390625 32.421875 48.390625 \nQ 24.90625 48.390625 20.390625 44.140625 \nQ 15.875 39.890625 15.1875 32.171875 \nz\n\" id=\"DejaVuSans-101\"/>\n     <path d=\"M 9.421875 75.984375 \nL 18.40625 75.984375 \nL 18.40625 0 \nL 9.421875 0 \nz\n\" id=\"DejaVuSans-108\"/>\n    </defs>\n    <g transform=\"translate(215.178153 16.318125)scale(0.12 -0.12)\">\n     <use xlink:href=\"#DejaVuSans-77\"/>\n     <use x=\"86.279297\" xlink:href=\"#DejaVuSans-111\"/>\n     <use x=\"147.460938\" xlink:href=\"#DejaVuSans-100\"/>\n     <use x=\"210.9375\" xlink:href=\"#DejaVuSans-101\"/>\n     <use x=\"272.460938\" xlink:href=\"#DejaVuSans-108\"/>\n     <use x=\"300.244141\" xlink:href=\"#DejaVuSans-32\"/>\n     <use x=\"332.03125\" xlink:href=\"#DejaVuSans-108\"/>\n     <use x=\"359.814453\" xlink:href=\"#DejaVuSans-111\"/>\n     <use x=\"420.996094\" xlink:href=\"#DejaVuSans-115\"/>\n     <use x=\"473.095703\" xlink:href=\"#DejaVuSans-115\"/>\n    </g>\n   </g>\n  </g>\n  <g id=\"axes_2\">\n   <g id=\"patch_7\">\n    <path d=\"M 530.763068 294.118125 \nL 936.58125 294.118125 \nL 936.58125 22.318125 \nL 530.763068 22.318125 \nz\n\" style=\"fill:#ffffff;\"/>\n   </g>\n   <g id=\"matplotlib.axis_3\">\n    <g id=\"xtick_10\">\n     <g id=\"line2d_17\">\n      <g>\n       <use style=\"stroke:#000000;stroke-width:0.8;\" x=\"549.209349\" xlink:href=\"#m8703c82064\" y=\"294.118125\"/>\n      </g>\n     </g>\n     <g id=\"text_18\">\n      <!-- 0.0 -->\n      <g transform=\"translate(541.257787 308.716563)scale(0.1 -0.1)\">\n       <use xlink:href=\"#DejaVuSans-48\"/>\n       <use x=\"63.623047\" xlink:href=\"#DejaVuSans-46\"/>\n       <use x=\"95.410156\" xlink:href=\"#DejaVuSans-48\"/>\n      </g>\n     </g>\n    </g>\n    <g id=\"xtick_11\">\n     <g id=\"line2d_18\">\n      <g>\n       <use style=\"stroke:#000000;stroke-width:0.8;\" x=\"595.325052\" xlink:href=\"#m8703c82064\" y=\"294.118125\"/>\n      </g>\n     </g>\n     <g id=\"text_19\">\n      <!-- 0.5 -->\n      <g transform=\"translate(587.373489 308.716563)scale(0.1 -0.1)\">\n       <use xlink:href=\"#DejaVuSans-48\"/>\n       <use x=\"63.623047\" xlink:href=\"#DejaVuSans-46\"/>\n       <use x=\"95.410156\" xlink:href=\"#DejaVuSans-53\"/>\n      </g>\n     </g>\n    </g>\n    <g id=\"xtick_12\">\n     <g id=\"line2d_19\">\n      <g>\n       <use style=\"stroke:#000000;stroke-width:0.8;\" x=\"641.440754\" xlink:href=\"#m8703c82064\" y=\"294.118125\"/>\n      </g>\n     </g>\n     <g id=\"text_20\">\n      <!-- 1.0 -->\n      <g transform=\"translate(633.489192 308.716563)scale(0.1 -0.1)\">\n       <use xlink:href=\"#DejaVuSans-49\"/>\n       <use x=\"63.623047\" xlink:href=\"#DejaVuSans-46\"/>\n       <use x=\"95.410156\" xlink:href=\"#DejaVuSans-48\"/>\n      </g>\n     </g>\n    </g>\n    <g id=\"xtick_13\">\n     <g id=\"line2d_20\">\n      <g>\n       <use style=\"stroke:#000000;stroke-width:0.8;\" x=\"687.556457\" xlink:href=\"#m8703c82064\" y=\"294.118125\"/>\n      </g>\n     </g>\n     <g id=\"text_21\">\n      <!-- 1.5 -->\n      <g transform=\"translate(679.604894 308.716563)scale(0.1 -0.1)\">\n       <use xlink:href=\"#DejaVuSans-49\"/>\n       <use x=\"63.623047\" xlink:href=\"#DejaVuSans-46\"/>\n       <use x=\"95.410156\" xlink:href=\"#DejaVuSans-53\"/>\n      </g>\n     </g>\n    </g>\n    <g id=\"xtick_14\">\n     <g id=\"line2d_21\">\n      <g>\n       <use style=\"stroke:#000000;stroke-width:0.8;\" x=\"733.672159\" xlink:href=\"#m8703c82064\" y=\"294.118125\"/>\n      </g>\n     </g>\n     <g id=\"text_22\">\n      <!-- 2.0 -->\n      <g transform=\"translate(725.720597 308.716563)scale(0.1 -0.1)\">\n       <use xlink:href=\"#DejaVuSans-50\"/>\n       <use x=\"63.623047\" xlink:href=\"#DejaVuSans-46\"/>\n       <use x=\"95.410156\" xlink:href=\"#DejaVuSans-48\"/>\n      </g>\n     </g>\n    </g>\n    <g id=\"xtick_15\">\n     <g id=\"line2d_22\">\n      <g>\n       <use style=\"stroke:#000000;stroke-width:0.8;\" x=\"779.787862\" xlink:href=\"#m8703c82064\" y=\"294.118125\"/>\n      </g>\n     </g>\n     <g id=\"text_23\">\n      <!-- 2.5 -->\n      <g transform=\"translate(771.836299 308.716563)scale(0.1 -0.1)\">\n       <use xlink:href=\"#DejaVuSans-50\"/>\n       <use x=\"63.623047\" xlink:href=\"#DejaVuSans-46\"/>\n       <use x=\"95.410156\" xlink:href=\"#DejaVuSans-53\"/>\n      </g>\n     </g>\n    </g>\n    <g id=\"xtick_16\">\n     <g id=\"line2d_23\">\n      <g>\n       <use style=\"stroke:#000000;stroke-width:0.8;\" x=\"825.903564\" xlink:href=\"#m8703c82064\" y=\"294.118125\"/>\n      </g>\n     </g>\n     <g id=\"text_24\">\n      <!-- 3.0 -->\n      <g transform=\"translate(817.952002 308.716563)scale(0.1 -0.1)\">\n       <use xlink:href=\"#DejaVuSans-51\"/>\n       <use x=\"63.623047\" xlink:href=\"#DejaVuSans-46\"/>\n       <use x=\"95.410156\" xlink:href=\"#DejaVuSans-48\"/>\n      </g>\n     </g>\n    </g>\n    <g id=\"xtick_17\">\n     <g id=\"line2d_24\">\n      <g>\n       <use style=\"stroke:#000000;stroke-width:0.8;\" x=\"872.019267\" xlink:href=\"#m8703c82064\" y=\"294.118125\"/>\n      </g>\n     </g>\n     <g id=\"text_25\">\n      <!-- 3.5 -->\n      <g transform=\"translate(864.067704 308.716563)scale(0.1 -0.1)\">\n       <use xlink:href=\"#DejaVuSans-51\"/>\n       <use x=\"63.623047\" xlink:href=\"#DejaVuSans-46\"/>\n       <use x=\"95.410156\" xlink:href=\"#DejaVuSans-53\"/>\n      </g>\n     </g>\n    </g>\n    <g id=\"xtick_18\">\n     <g id=\"line2d_25\">\n      <g>\n       <use style=\"stroke:#000000;stroke-width:0.8;\" x=\"918.134969\" xlink:href=\"#m8703c82064\" y=\"294.118125\"/>\n      </g>\n     </g>\n     <g id=\"text_26\">\n      <!-- 4.0 -->\n      <g transform=\"translate(910.183407 308.716563)scale(0.1 -0.1)\">\n       <use xlink:href=\"#DejaVuSans-52\"/>\n       <use x=\"63.623047\" xlink:href=\"#DejaVuSans-46\"/>\n       <use x=\"95.410156\" xlink:href=\"#DejaVuSans-48\"/>\n      </g>\n     </g>\n    </g>\n    <g id=\"text_27\">\n     <!-- Epochs -->\n     <g transform=\"translate(715.756534 322.394687)scale(0.1 -0.1)\">\n      <use xlink:href=\"#DejaVuSans-69\"/>\n      <use x=\"63.183594\" xlink:href=\"#DejaVuSans-112\"/>\n      <use x=\"126.660156\" xlink:href=\"#DejaVuSans-111\"/>\n      <use x=\"187.841797\" xlink:href=\"#DejaVuSans-99\"/>\n      <use x=\"242.822266\" xlink:href=\"#DejaVuSans-104\"/>\n      <use x=\"306.201172\" xlink:href=\"#DejaVuSans-115\"/>\n     </g>\n    </g>\n   </g>\n   <g id=\"matplotlib.axis_4\">\n    <g id=\"ytick_6\">\n     <g id=\"line2d_26\">\n      <g>\n       <use style=\"stroke:#000000;stroke-width:0.8;\" x=\"530.763068\" xlink:href=\"#m325027a811\" y=\"287.662229\"/>\n      </g>\n     </g>\n     <g id=\"text_28\">\n      <!-- 8 -->\n      <defs>\n       <path d=\"M 31.78125 34.625 \nQ 24.75 34.625 20.71875 30.859375 \nQ 16.703125 27.09375 16.703125 20.515625 \nQ 16.703125 13.921875 20.71875 10.15625 \nQ 24.75 6.390625 31.78125 6.390625 \nQ 38.8125 6.390625 42.859375 10.171875 \nQ 46.921875 13.96875 46.921875 20.515625 \nQ 46.921875 27.09375 42.890625 30.859375 \nQ 38.875 34.625 31.78125 34.625 \nz\nM 21.921875 38.8125 \nQ 15.578125 40.375 12.03125 44.71875 \nQ 8.5 49.078125 8.5 55.328125 \nQ 8.5 64.0625 14.71875 69.140625 \nQ 20.953125 74.21875 31.78125 74.21875 \nQ 42.671875 74.21875 48.875 69.140625 \nQ 55.078125 64.0625 55.078125 55.328125 \nQ 55.078125 49.078125 51.53125 44.71875 \nQ 48 40.375 41.703125 38.8125 \nQ 48.828125 37.15625 52.796875 32.3125 \nQ 56.78125 27.484375 56.78125 20.515625 \nQ 56.78125 9.90625 50.3125 4.234375 \nQ 43.84375 -1.421875 31.78125 -1.421875 \nQ 19.734375 -1.421875 13.25 4.234375 \nQ 6.78125 9.90625 6.78125 20.515625 \nQ 6.78125 27.484375 10.78125 32.3125 \nQ 14.796875 37.15625 21.921875 38.8125 \nz\nM 18.3125 54.390625 \nQ 18.3125 48.734375 21.84375 45.5625 \nQ 25.390625 42.390625 31.78125 42.390625 \nQ 38.140625 42.390625 41.71875 45.5625 \nQ 45.3125 48.734375 45.3125 54.390625 \nQ 45.3125 60.0625 41.71875 63.234375 \nQ 38.140625 66.40625 31.78125 66.40625 \nQ 25.390625 66.40625 21.84375 63.234375 \nQ 18.3125 60.0625 18.3125 54.390625 \nz\n\" id=\"DejaVuSans-56\"/>\n      </defs>\n      <g transform=\"translate(517.400568 291.461448)scale(0.1 -0.1)\">\n       <use xlink:href=\"#DejaVuSans-56\"/>\n      </g>\n     </g>\n    </g>\n    <g id=\"ytick_7\">\n     <g id=\"line2d_27\">\n      <g>\n       <use style=\"stroke:#000000;stroke-width:0.8;\" x=\"530.763068\" xlink:href=\"#m325027a811\" y=\"250.669733\"/>\n      </g>\n     </g>\n     <g id=\"text_29\">\n      <!-- 10 -->\n      <g transform=\"translate(511.038068 254.468951)scale(0.1 -0.1)\">\n       <use xlink:href=\"#DejaVuSans-49\"/>\n       <use x=\"63.623047\" xlink:href=\"#DejaVuSans-48\"/>\n      </g>\n     </g>\n    </g>\n    <g id=\"ytick_8\">\n     <g id=\"line2d_28\">\n      <g>\n       <use style=\"stroke:#000000;stroke-width:0.8;\" x=\"530.763068\" xlink:href=\"#m325027a811\" y=\"213.677236\"/>\n      </g>\n     </g>\n     <g id=\"text_30\">\n      <!-- 12 -->\n      <g transform=\"translate(511.038068 217.476455)scale(0.1 -0.1)\">\n       <use xlink:href=\"#DejaVuSans-49\"/>\n       <use x=\"63.623047\" xlink:href=\"#DejaVuSans-50\"/>\n      </g>\n     </g>\n    </g>\n    <g id=\"ytick_9\">\n     <g id=\"line2d_29\">\n      <g>\n       <use style=\"stroke:#000000;stroke-width:0.8;\" x=\"530.763068\" xlink:href=\"#m325027a811\" y=\"176.684739\"/>\n      </g>\n     </g>\n     <g id=\"text_31\">\n      <!-- 14 -->\n      <g transform=\"translate(511.038068 180.483958)scale(0.1 -0.1)\">\n       <use xlink:href=\"#DejaVuSans-49\"/>\n       <use x=\"63.623047\" xlink:href=\"#DejaVuSans-52\"/>\n      </g>\n     </g>\n    </g>\n    <g id=\"ytick_10\">\n     <g id=\"line2d_30\">\n      <g>\n       <use style=\"stroke:#000000;stroke-width:0.8;\" x=\"530.763068\" xlink:href=\"#m325027a811\" y=\"139.692242\"/>\n      </g>\n     </g>\n     <g id=\"text_32\">\n      <!-- 16 -->\n      <g transform=\"translate(511.038068 143.491461)scale(0.1 -0.1)\">\n       <use xlink:href=\"#DejaVuSans-49\"/>\n       <use x=\"63.623047\" xlink:href=\"#DejaVuSans-54\"/>\n      </g>\n     </g>\n    </g>\n    <g id=\"ytick_11\">\n     <g id=\"line2d_31\">\n      <g>\n       <use style=\"stroke:#000000;stroke-width:0.8;\" x=\"530.763068\" xlink:href=\"#m325027a811\" y=\"102.699746\"/>\n      </g>\n     </g>\n     <g id=\"text_33\">\n      <!-- 18 -->\n      <g transform=\"translate(511.038068 106.498965)scale(0.1 -0.1)\">\n       <use xlink:href=\"#DejaVuSans-49\"/>\n       <use x=\"63.623047\" xlink:href=\"#DejaVuSans-56\"/>\n      </g>\n     </g>\n    </g>\n    <g id=\"ytick_12\">\n     <g id=\"line2d_32\">\n      <g>\n       <use style=\"stroke:#000000;stroke-width:0.8;\" x=\"530.763068\" xlink:href=\"#m325027a811\" y=\"65.707249\"/>\n      </g>\n     </g>\n     <g id=\"text_34\">\n      <!-- 20 -->\n      <g transform=\"translate(511.038068 69.506468)scale(0.1 -0.1)\">\n       <use xlink:href=\"#DejaVuSans-50\"/>\n       <use x=\"63.623047\" xlink:href=\"#DejaVuSans-48\"/>\n      </g>\n     </g>\n    </g>\n    <g id=\"ytick_13\">\n     <g id=\"line2d_33\">\n      <g>\n       <use style=\"stroke:#000000;stroke-width:0.8;\" x=\"530.763068\" xlink:href=\"#m325027a811\" y=\"28.714752\"/>\n      </g>\n     </g>\n     <g id=\"text_35\">\n      <!-- 22 -->\n      <g transform=\"translate(511.038068 32.513971)scale(0.1 -0.1)\">\n       <use xlink:href=\"#DejaVuSans-50\"/>\n       <use x=\"63.623047\" xlink:href=\"#DejaVuSans-50\"/>\n      </g>\n     </g>\n    </g>\n    <g id=\"text_36\">\n     <!-- Error rates (%) -->\n     <defs>\n      <path d=\"M 41.109375 46.296875 \nQ 39.59375 47.171875 37.8125 47.578125 \nQ 36.03125 48 33.890625 48 \nQ 26.265625 48 22.1875 43.046875 \nQ 18.109375 38.09375 18.109375 28.8125 \nL 18.109375 0 \nL 9.078125 0 \nL 9.078125 54.6875 \nL 18.109375 54.6875 \nL 18.109375 46.1875 \nQ 20.953125 51.171875 25.484375 53.578125 \nQ 30.03125 56 36.53125 56 \nQ 37.453125 56 38.578125 55.875 \nQ 39.703125 55.765625 41.0625 55.515625 \nz\n\" id=\"DejaVuSans-114\"/>\n      <path d=\"M 34.28125 27.484375 \nQ 23.390625 27.484375 19.1875 25 \nQ 14.984375 22.515625 14.984375 16.5 \nQ 14.984375 11.71875 18.140625 8.90625 \nQ 21.296875 6.109375 26.703125 6.109375 \nQ 34.1875 6.109375 38.703125 11.40625 \nQ 43.21875 16.703125 43.21875 25.484375 \nL 43.21875 27.484375 \nz\nM 52.203125 31.203125 \nL 52.203125 0 \nL 43.21875 0 \nL 43.21875 8.296875 \nQ 40.140625 3.328125 35.546875 0.953125 \nQ 30.953125 -1.421875 24.3125 -1.421875 \nQ 15.921875 -1.421875 10.953125 3.296875 \nQ 6 8.015625 6 15.921875 \nQ 6 25.140625 12.171875 29.828125 \nQ 18.359375 34.515625 30.609375 34.515625 \nL 43.21875 34.515625 \nL 43.21875 35.40625 \nQ 43.21875 41.609375 39.140625 45 \nQ 35.0625 48.390625 27.6875 48.390625 \nQ 23 48.390625 18.546875 47.265625 \nQ 14.109375 46.140625 10.015625 43.890625 \nL 10.015625 52.203125 \nQ 14.9375 54.109375 19.578125 55.046875 \nQ 24.21875 56 28.609375 56 \nQ 40.484375 56 46.34375 49.84375 \nQ 52.203125 43.703125 52.203125 31.203125 \nz\n\" id=\"DejaVuSans-97\"/>\n      <path d=\"M 18.3125 70.21875 \nL 18.3125 54.6875 \nL 36.8125 54.6875 \nL 36.8125 47.703125 \nL 18.3125 47.703125 \nL 18.3125 18.015625 \nQ 18.3125 11.328125 20.140625 9.421875 \nQ 21.96875 7.515625 27.59375 7.515625 \nL 36.8125 7.515625 \nL 36.8125 0 \nL 27.59375 0 \nQ 17.1875 0 13.234375 3.875 \nQ 9.28125 7.765625 9.28125 18.015625 \nL 9.28125 47.703125 \nL 2.6875 47.703125 \nL 2.6875 54.6875 \nL 9.28125 54.6875 \nL 9.28125 70.21875 \nz\n\" id=\"DejaVuSans-116\"/>\n      <path d=\"M 72.703125 32.078125 \nQ 68.453125 32.078125 66.03125 28.46875 \nQ 63.625 24.859375 63.625 18.40625 \nQ 63.625 12.0625 66.03125 8.421875 \nQ 68.453125 4.78125 72.703125 4.78125 \nQ 76.859375 4.78125 79.265625 8.421875 \nQ 81.6875 12.0625 81.6875 18.40625 \nQ 81.6875 24.8125 79.265625 28.4375 \nQ 76.859375 32.078125 72.703125 32.078125 \nz\nM 72.703125 38.28125 \nQ 80.421875 38.28125 84.953125 32.90625 \nQ 89.5 27.546875 89.5 18.40625 \nQ 89.5 9.28125 84.9375 3.921875 \nQ 80.375 -1.421875 72.703125 -1.421875 \nQ 64.890625 -1.421875 60.34375 3.921875 \nQ 55.8125 9.28125 55.8125 18.40625 \nQ 55.8125 27.59375 60.375 32.9375 \nQ 64.9375 38.28125 72.703125 38.28125 \nz\nM 22.3125 68.015625 \nQ 18.109375 68.015625 15.6875 64.375 \nQ 13.28125 60.75 13.28125 54.390625 \nQ 13.28125 47.953125 15.671875 44.328125 \nQ 18.0625 40.71875 22.3125 40.71875 \nQ 26.5625 40.71875 28.96875 44.328125 \nQ 31.390625 47.953125 31.390625 54.390625 \nQ 31.390625 60.6875 28.953125 64.34375 \nQ 26.515625 68.015625 22.3125 68.015625 \nz\nM 66.40625 74.21875 \nL 74.21875 74.21875 \nL 28.609375 -1.421875 \nL 20.796875 -1.421875 \nz\nM 22.3125 74.21875 \nQ 30.03125 74.21875 34.609375 68.875 \nQ 39.203125 63.53125 39.203125 54.390625 \nQ 39.203125 45.171875 34.640625 39.84375 \nQ 30.078125 34.515625 22.3125 34.515625 \nQ 14.546875 34.515625 10.03125 39.859375 \nQ 5.515625 45.21875 5.515625 54.390625 \nQ 5.515625 63.484375 10.046875 68.84375 \nQ 14.59375 74.21875 22.3125 74.21875 \nz\n\" id=\"DejaVuSans-37\"/>\n     </defs>\n     <g transform=\"translate(504.958381 194.994688)rotate(-90)scale(0.1 -0.1)\">\n      <use xlink:href=\"#DejaVuSans-69\"/>\n      <use x=\"63.183594\" xlink:href=\"#DejaVuSans-114\"/>\n      <use x=\"102.546875\" xlink:href=\"#DejaVuSans-114\"/>\n      <use x=\"141.410156\" xlink:href=\"#DejaVuSans-111\"/>\n      <use x=\"202.591797\" xlink:href=\"#DejaVuSans-114\"/>\n      <use x=\"243.705078\" xlink:href=\"#DejaVuSans-32\"/>\n      <use x=\"275.492188\" xlink:href=\"#DejaVuSans-114\"/>\n      <use x=\"316.605469\" xlink:href=\"#DejaVuSans-97\"/>\n      <use x=\"377.884766\" xlink:href=\"#DejaVuSans-116\"/>\n      <use x=\"417.09375\" xlink:href=\"#DejaVuSans-101\"/>\n      <use x=\"478.617188\" xlink:href=\"#DejaVuSans-115\"/>\n      <use x=\"530.716797\" xlink:href=\"#DejaVuSans-32\"/>\n      <use x=\"562.503906\" xlink:href=\"#DejaVuSans-40\"/>\n      <use x=\"601.517578\" xlink:href=\"#DejaVuSans-37\"/>\n      <use x=\"696.537109\" xlink:href=\"#DejaVuSans-41\"/>\n     </g>\n    </g>\n   </g>\n   <g id=\"line2d_34\">\n    <path clip-path=\"url(#p3b6d3e730c)\" d=\"M 549.209349 34.67267 \nL 641.440754 230.231969 \nL 733.672159 256.701754 \nL 825.903564 272.426535 \nL 918.134969 281.76358 \n\" style=\"fill:none;stroke:#1f77b4;stroke-linecap:square;stroke-width:1.5;\"/>\n    <g clip-path=\"url(#p3b6d3e730c)\">\n     <use style=\"fill:#1f77b4;stroke:#1f77b4;stroke-linejoin:miter;\" x=\"549.209349\" xlink:href=\"#m383a168457\" y=\"34.67267\"/>\n     <use style=\"fill:#1f77b4;stroke:#1f77b4;stroke-linejoin:miter;\" x=\"641.440754\" xlink:href=\"#m383a168457\" y=\"230.231969\"/>\n     <use style=\"fill:#1f77b4;stroke:#1f77b4;stroke-linejoin:miter;\" x=\"733.672159\" xlink:href=\"#m383a168457\" y=\"256.701754\"/>\n     <use style=\"fill:#1f77b4;stroke:#1f77b4;stroke-linejoin:miter;\" x=\"825.903564\" xlink:href=\"#m383a168457\" y=\"272.426535\"/>\n     <use style=\"fill:#1f77b4;stroke:#1f77b4;stroke-linejoin:miter;\" x=\"918.134969\" xlink:href=\"#m383a168457\" y=\"281.76358\"/>\n    </g>\n   </g>\n   <g id=\"line2d_35\">\n    <path clip-path=\"url(#p3b6d3e730c)\" d=\"M 549.209349 213.410458 \nL 641.440754 245.156433 \nL 733.672159 252.270367 \nL 825.903564 266.320411 \nL 918.134969 269.877378 \n\" style=\"fill:none;stroke:#ff7f0e;stroke-linecap:square;stroke-width:1.5;\"/>\n    <g clip-path=\"url(#p3b6d3e730c)\">\n     <use style=\"fill:#ff7f0e;stroke:#ff7f0e;\" x=\"549.209349\" xlink:href=\"#m7bea940a7d\" y=\"213.410458\"/>\n     <use style=\"fill:#ff7f0e;stroke:#ff7f0e;\" x=\"641.440754\" xlink:href=\"#m7bea940a7d\" y=\"245.156433\"/>\n     <use style=\"fill:#ff7f0e;stroke:#ff7f0e;\" x=\"733.672159\" xlink:href=\"#m7bea940a7d\" y=\"252.270367\"/>\n     <use style=\"fill:#ff7f0e;stroke:#ff7f0e;\" x=\"825.903564\" xlink:href=\"#m7bea940a7d\" y=\"266.320411\"/>\n     <use style=\"fill:#ff7f0e;stroke:#ff7f0e;\" x=\"918.134969\" xlink:href=\"#m7bea940a7d\" y=\"269.877378\"/>\n    </g>\n   </g>\n   <g id=\"patch_8\">\n    <path d=\"M 530.763068 294.118125 \nL 530.763068 22.318125 \n\" style=\"fill:none;stroke:#000000;stroke-linecap:square;stroke-linejoin:miter;stroke-width:0.8;\"/>\n   </g>\n   <g id=\"patch_9\">\n    <path d=\"M 936.58125 294.118125 \nL 936.58125 22.318125 \n\" style=\"fill:none;stroke:#000000;stroke-linecap:square;stroke-linejoin:miter;stroke-width:0.8;\"/>\n   </g>\n   <g id=\"patch_10\">\n    <path d=\"M 530.763068 294.118125 \nL 936.58125 294.118125 \n\" style=\"fill:none;stroke:#000000;stroke-linecap:square;stroke-linejoin:miter;stroke-width:0.8;\"/>\n   </g>\n   <g id=\"patch_11\">\n    <path d=\"M 530.763068 22.318125 \nL 936.58125 22.318125 \n\" style=\"fill:none;stroke:#000000;stroke-linecap:square;stroke-linejoin:miter;stroke-width:0.8;\"/>\n   </g>\n   <g id=\"text_37\">\n    <!-- Final model test error rate: 8.96% -->\n    <defs>\n     <path d=\"M 9.8125 72.90625 \nL 51.703125 72.90625 \nL 51.703125 64.59375 \nL 19.671875 64.59375 \nL 19.671875 43.109375 \nL 48.578125 43.109375 \nL 48.578125 34.8125 \nL 19.671875 34.8125 \nL 19.671875 0 \nL 9.8125 0 \nz\n\" id=\"DejaVuSans-70\"/>\n     <path d=\"M 9.421875 54.6875 \nL 18.40625 54.6875 \nL 18.40625 0 \nL 9.421875 0 \nz\nM 9.421875 75.984375 \nL 18.40625 75.984375 \nL 18.40625 64.59375 \nL 9.421875 64.59375 \nz\n\" id=\"DejaVuSans-105\"/>\n     <path d=\"M 54.890625 33.015625 \nL 54.890625 0 \nL 45.90625 0 \nL 45.90625 32.71875 \nQ 45.90625 40.484375 42.875 44.328125 \nQ 39.84375 48.1875 33.796875 48.1875 \nQ 26.515625 48.1875 22.3125 43.546875 \nQ 18.109375 38.921875 18.109375 30.90625 \nL 18.109375 0 \nL 9.078125 0 \nL 9.078125 54.6875 \nL 18.109375 54.6875 \nL 18.109375 46.1875 \nQ 21.34375 51.125 25.703125 53.5625 \nQ 30.078125 56 35.796875 56 \nQ 45.21875 56 50.046875 50.171875 \nQ 54.890625 44.34375 54.890625 33.015625 \nz\n\" id=\"DejaVuSans-110\"/>\n     <path d=\"M 52 44.1875 \nQ 55.375 50.25 60.0625 53.125 \nQ 64.75 56 71.09375 56 \nQ 79.640625 56 84.28125 50.015625 \nQ 88.921875 44.046875 88.921875 33.015625 \nL 88.921875 0 \nL 79.890625 0 \nL 79.890625 32.71875 \nQ 79.890625 40.578125 77.09375 44.375 \nQ 74.3125 48.1875 68.609375 48.1875 \nQ 61.625 48.1875 57.5625 43.546875 \nQ 53.515625 38.921875 53.515625 30.90625 \nL 53.515625 0 \nL 44.484375 0 \nL 44.484375 32.71875 \nQ 44.484375 40.625 41.703125 44.40625 \nQ 38.921875 48.1875 33.109375 48.1875 \nQ 26.21875 48.1875 22.15625 43.53125 \nQ 18.109375 38.875 18.109375 30.90625 \nL 18.109375 0 \nL 9.078125 0 \nL 9.078125 54.6875 \nL 18.109375 54.6875 \nL 18.109375 46.1875 \nQ 21.1875 51.21875 25.484375 53.609375 \nQ 29.78125 56 35.6875 56 \nQ 41.65625 56 45.828125 52.96875 \nQ 50 49.953125 52 44.1875 \nz\n\" id=\"DejaVuSans-109\"/>\n     <path d=\"M 11.71875 12.40625 \nL 22.015625 12.40625 \nL 22.015625 0 \nL 11.71875 0 \nz\nM 11.71875 51.703125 \nL 22.015625 51.703125 \nL 22.015625 39.3125 \nL 11.71875 39.3125 \nz\n\" id=\"DejaVuSans-58\"/>\n     <path d=\"M 10.984375 1.515625 \nL 10.984375 10.5 \nQ 14.703125 8.734375 18.5 7.8125 \nQ 22.3125 6.890625 25.984375 6.890625 \nQ 35.75 6.890625 40.890625 13.453125 \nQ 46.046875 20.015625 46.78125 33.40625 \nQ 43.953125 29.203125 39.59375 26.953125 \nQ 35.25 24.703125 29.984375 24.703125 \nQ 19.046875 24.703125 12.671875 31.3125 \nQ 6.296875 37.9375 6.296875 49.421875 \nQ 6.296875 60.640625 12.9375 67.421875 \nQ 19.578125 74.21875 30.609375 74.21875 \nQ 43.265625 74.21875 49.921875 64.515625 \nQ 56.59375 54.828125 56.59375 36.375 \nQ 56.59375 19.140625 48.40625 8.859375 \nQ 40.234375 -1.421875 26.421875 -1.421875 \nQ 22.703125 -1.421875 18.890625 -0.6875 \nQ 15.09375 0.046875 10.984375 1.515625 \nz\nM 30.609375 32.421875 \nQ 37.25 32.421875 41.125 36.953125 \nQ 45.015625 41.5 45.015625 49.421875 \nQ 45.015625 57.28125 41.125 61.84375 \nQ 37.25 66.40625 30.609375 66.40625 \nQ 23.96875 66.40625 20.09375 61.84375 \nQ 16.21875 57.28125 16.21875 49.421875 \nQ 16.21875 41.5 20.09375 36.953125 \nQ 23.96875 32.421875 30.609375 32.421875 \nz\n\" id=\"DejaVuSans-57\"/>\n    </defs>\n    <g transform=\"translate(632.311534 16.318125)scale(0.12 -0.12)\">\n     <use xlink:href=\"#DejaVuSans-70\"/>\n     <use x=\"50.269531\" xlink:href=\"#DejaVuSans-105\"/>\n     <use x=\"78.052734\" xlink:href=\"#DejaVuSans-110\"/>\n     <use x=\"141.431641\" xlink:href=\"#DejaVuSans-97\"/>\n     <use x=\"202.710938\" xlink:href=\"#DejaVuSans-108\"/>\n     <use x=\"230.494141\" xlink:href=\"#DejaVuSans-32\"/>\n     <use x=\"262.28125\" xlink:href=\"#DejaVuSans-109\"/>\n     <use x=\"359.693359\" xlink:href=\"#DejaVuSans-111\"/>\n     <use x=\"420.875\" xlink:href=\"#DejaVuSans-100\"/>\n     <use x=\"484.351562\" xlink:href=\"#DejaVuSans-101\"/>\n     <use x=\"545.875\" xlink:href=\"#DejaVuSans-108\"/>\n     <use x=\"573.658203\" xlink:href=\"#DejaVuSans-32\"/>\n     <use x=\"605.445312\" xlink:href=\"#DejaVuSans-116\"/>\n     <use x=\"644.654297\" xlink:href=\"#DejaVuSans-101\"/>\n     <use x=\"706.177734\" xlink:href=\"#DejaVuSans-115\"/>\n     <use x=\"758.277344\" xlink:href=\"#DejaVuSans-116\"/>\n     <use x=\"797.486328\" xlink:href=\"#DejaVuSans-32\"/>\n     <use x=\"829.273438\" xlink:href=\"#DejaVuSans-101\"/>\n     <use x=\"890.796875\" xlink:href=\"#DejaVuSans-114\"/>\n     <use x=\"930.160156\" xlink:href=\"#DejaVuSans-114\"/>\n     <use x=\"969.023438\" xlink:href=\"#DejaVuSans-111\"/>\n     <use x=\"1030.205078\" xlink:href=\"#DejaVuSans-114\"/>\n     <use x=\"1071.318359\" xlink:href=\"#DejaVuSans-32\"/>\n     <use x=\"1103.105469\" xlink:href=\"#DejaVuSans-114\"/>\n     <use x=\"1144.21875\" xlink:href=\"#DejaVuSans-97\"/>\n     <use x=\"1205.498047\" xlink:href=\"#DejaVuSans-116\"/>\n     <use x=\"1244.707031\" xlink:href=\"#DejaVuSans-101\"/>\n     <use x=\"1306.230469\" xlink:href=\"#DejaVuSans-58\"/>\n     <use x=\"1339.921875\" xlink:href=\"#DejaVuSans-32\"/>\n     <use x=\"1371.708984\" xlink:href=\"#DejaVuSans-56\"/>\n     <use x=\"1435.332031\" xlink:href=\"#DejaVuSans-46\"/>\n     <use x=\"1467.119141\" xlink:href=\"#DejaVuSans-57\"/>\n     <use x=\"1530.742188\" xlink:href=\"#DejaVuSans-54\"/>\n     <use x=\"1594.365234\" xlink:href=\"#DejaVuSans-37\"/>\n    </g>\n   </g>\n   <g id=\"legend_1\">\n    <g id=\"patch_12\">\n     <path d=\"M 873.59375 59.674375 \nL 929.58125 59.674375 \nQ 931.58125 59.674375 931.58125 57.674375 \nL 931.58125 29.318125 \nQ 931.58125 27.318125 929.58125 27.318125 \nL 873.59375 27.318125 \nQ 871.59375 27.318125 871.59375 29.318125 \nL 871.59375 57.674375 \nQ 871.59375 59.674375 873.59375 59.674375 \nz\n\" style=\"fill:#ffffff;opacity:0.8;stroke:#cccccc;stroke-linejoin:miter;\"/>\n    </g>\n    <g id=\"line2d_36\">\n     <path d=\"M 875.59375 35.416562 \nL 895.59375 35.416562 \n\" style=\"fill:none;stroke:#1f77b4;stroke-linecap:square;stroke-width:1.5;\"/>\n    </g>\n    <g id=\"line2d_37\">\n     <g>\n      <use style=\"fill:#1f77b4;stroke:#1f77b4;stroke-linejoin:miter;\" x=\"885.59375\" xlink:href=\"#m383a168457\" y=\"35.416562\"/>\n     </g>\n    </g>\n    <g id=\"text_38\">\n     <!-- Train -->\n     <defs>\n      <path d=\"M -0.296875 72.90625 \nL 61.375 72.90625 \nL 61.375 64.59375 \nL 35.5 64.59375 \nL 35.5 0 \nL 25.59375 0 \nL 25.59375 64.59375 \nL -0.296875 64.59375 \nz\n\" id=\"DejaVuSans-84\"/>\n     </defs>\n     <g transform=\"translate(903.59375 38.916562)scale(0.1 -0.1)\">\n      <use xlink:href=\"#DejaVuSans-84\"/>\n      <use x=\"46.333984\" xlink:href=\"#DejaVuSans-114\"/>\n      <use x=\"87.447266\" xlink:href=\"#DejaVuSans-97\"/>\n      <use x=\"148.726562\" xlink:href=\"#DejaVuSans-105\"/>\n      <use x=\"176.509766\" xlink:href=\"#DejaVuSans-110\"/>\n     </g>\n    </g>\n    <g id=\"line2d_38\">\n     <path d=\"M 875.59375 50.094688 \nL 895.59375 50.094688 \n\" style=\"fill:none;stroke:#ff7f0e;stroke-linecap:square;stroke-width:1.5;\"/>\n    </g>\n    <g id=\"line2d_39\">\n     <g>\n      <use style=\"fill:#ff7f0e;stroke:#ff7f0e;\" x=\"885.59375\" xlink:href=\"#m7bea940a7d\" y=\"50.094688\"/>\n     </g>\n    </g>\n    <g id=\"text_39\">\n     <!-- Test -->\n     <g transform=\"translate(903.59375 53.594688)scale(0.1 -0.1)\">\n      <use xlink:href=\"#DejaVuSans-84\"/>\n      <use x=\"44.083984\" xlink:href=\"#DejaVuSans-101\"/>\n      <use x=\"105.607422\" xlink:href=\"#DejaVuSans-115\"/>\n      <use x=\"157.707031\" xlink:href=\"#DejaVuSans-116\"/>\n     </g>\n    </g>\n   </g>\n  </g>\n </g>\n <defs>\n  <clipPath id=\"pe7542fe780\">\n   <rect height=\"271.8\" width=\"405.818182\" x=\"43.78125\" y=\"22.318125\"/>\n  </clipPath>\n  <clipPath id=\"p3b6d3e730c\">\n   <rect height=\"271.8\" width=\"405.818182\" x=\"530.763068\" y=\"22.318125\"/>\n  </clipPath>\n </defs>\n</svg>\n"
          },
          "metadata": {
            "needs_background": "light"
          }
        }
      ],
      "source": [
        "fig,ax = plt.subplots(1,2,figsize=(16,5))\n",
        "\n",
        "ax[0].plot(trainLoss,'s-',label='Train')\n",
        "ax[0].plot(testLoss,'o-',label='Test')\n",
        "ax[0].set_xlabel('Epochs')\n",
        "ax[0].set_ylabel('Loss (MSE)')\n",
        "ax[0].set_title('Model loss')\n",
        "\n",
        "ax[1].plot(trainErr,'s-',label='Train')\n",
        "ax[1].plot(testErr,'o-',label='Test')\n",
        "ax[1].set_xlabel('Epochs')\n",
        "ax[1].set_ylabel('Error rates (%)')\n",
        "ax[1].set_title(f'Final model test error rate: {testErr[-1]:.2f}%')\n",
        "ax[1].legend()\n",
        "\n",
        "plt.show()"
      ]
    },
    {
      "cell_type": "markdown",
      "metadata": {
        "id": "rFn0Gn-Q5ElD"
      },
      "source": [
        "# Accuracy by letter"
      ]
    },
    {
      "cell_type": "code",
      "source": [
        "X,y = next(iter(test_loader_numbers))\n",
        "X = X.to(device)\n",
        "y = y.to(device)\n",
        "\n",
        "lettersnet.eval()\n",
        "yHat = lettersnet(X)\n",
        "\n",
        "# the test\n",
        "numbererr = 100*torch.mean((torch.argmax(yHat,axis=1)!=y).float())\n",
        "\n",
        "print(f'letterNet error rate on NUMBER data: {numbererr:.2f}%')"
      ],
      "metadata": {
        "colab": {
          "base_uri": "https://localhost:8080/"
        },
        "id": "eq91Zs2UDhWq",
        "outputId": "1074238f-aff3-44e1-b086-456948eadac9"
      },
      "execution_count": 19,
      "outputs": [
        {
          "output_type": "stream",
          "name": "stdout",
          "text": [
            "letterNet error rate on NUMBER data: 96.25%\n"
          ]
        }
      ]
    },
    {
      "cell_type": "code",
      "source": [
        ""
      ],
      "metadata": {
        "id": "Ytq7ZdHREPkh"
      },
      "execution_count": 19,
      "outputs": []
    },
    {
      "cell_type": "markdown",
      "source": [
        "## without transfer learning:"
      ],
      "metadata": {
        "id": "Q2BXCIDE1cvL"
      }
    },
    {
      "cell_type": "code",
      "execution_count": 45,
      "metadata": {
        "id": "uW0EtQb41omS"
      },
      "outputs": [],
      "source": [
        "# create a new model\n",
        "numbersnet,lossfun,optimizer = makeTheNet(10)\n",
        "\n",
        "# for target, source in zip(numbersnet.named_parameters(),lettersnet.named_parameters()):\n",
        "#   target[1].data = copy.deepcopy(source[1].data)\n"
      ]
    },
    {
      "cell_type": "code",
      "source": [
        "trainLoss,testLoss,trainErr,testErr,net = \\\n",
        "function2trainTheModel(numbersnet,train_loader_numbers,test_loader_numbers,1)"
      ],
      "metadata": {
        "id": "Mo7cCyb-1omS"
      },
      "execution_count": 46,
      "outputs": []
    },
    {
      "cell_type": "code",
      "execution_count": 47,
      "metadata": {
        "colab": {
          "base_uri": "https://localhost:8080/"
        },
        "outputId": "1f8ecd6b-fc0a-4049-f830-16505dfe47a8",
        "id": "4B2SucPR1omT"
      },
      "outputs": [
        {
          "output_type": "stream",
          "name": "stdout",
          "text": [
            "numberNet TRAIN error: 2.97%\n",
            "numberNet TEST error: 1.21%\n"
          ]
        }
      ],
      "source": [
        "print(f'numberNet TRAIN error: {trainErr[-1]:.2f}%')\n",
        "print(f'numberNet TEST error: {testErr[-1]:.2f}%')"
      ]
    },
    {
      "cell_type": "markdown",
      "source": [
        "## fine-tuing all layers:"
      ],
      "metadata": {
        "id": "SF0BdeAjEQGM"
      }
    },
    {
      "cell_type": "code",
      "execution_count": 48,
      "metadata": {
        "id": "qOfUnmus8kps"
      },
      "outputs": [],
      "source": [
        "# create a new model\n",
        "numbersnet,lossfun,optimizer = makeTheNet(10)\n",
        "\n",
        "for target, source in zip(numbersnet.named_parameters(),lettersnet.named_parameters()):\n",
        "  target[1].data = copy.deepcopy(source[1].data)\n"
      ]
    },
    {
      "cell_type": "code",
      "source": [
        "trainLoss,testLoss,trainErr,testErr,net = \\\n",
        "function2trainTheModel(numbersnet,train_loader_numbers,test_loader_numbers,1)"
      ],
      "metadata": {
        "id": "ff3NY5N4lL8J"
      },
      "execution_count": 49,
      "outputs": []
    },
    {
      "cell_type": "code",
      "execution_count": 50,
      "metadata": {
        "id": "q9eLv6nF9LML",
        "colab": {
          "base_uri": "https://localhost:8080/"
        },
        "outputId": "be368093-4b34-4cbe-fd7f-731e8e5ea7d5"
      },
      "outputs": [
        {
          "output_type": "stream",
          "name": "stdout",
          "text": [
            "numberNet TRAIN error: 4.47%\n",
            "numberNet TEST error: 1.36%\n"
          ]
        }
      ],
      "source": [
        "print(f'numberNet TRAIN error: {trainErr[-1]:.2f}%')\n",
        "print(f'numberNet TEST error: {testErr[-1]:.2f}%')"
      ]
    },
    {
      "cell_type": "markdown",
      "source": [
        "## fine-tuing only last layer:"
      ],
      "metadata": {
        "id": "qrWGYDwTEFYq"
      }
    },
    {
      "cell_type": "code",
      "execution_count": 60,
      "metadata": {
        "id": "Fa2UPaKJEbVV"
      },
      "outputs": [],
      "source": [
        "# create a new model\n",
        "numbersnet,lossfun,optimizer = makeTheNet(10)\n",
        "\n",
        "for target, source in zip(numbersnet.named_parameters(),lettersnet.named_parameters()):\n",
        "  target[1].data = copy.deepcopy(source[1].data)\n"
      ]
    },
    {
      "cell_type": "code",
      "source": [
        "for p in numbersnet.named_parameters():\n",
        "  if 'fc2' not in p[0]:\n",
        "    p[1].requires_grad=False"
      ],
      "metadata": {
        "id": "NivmxcQjEfJo"
      },
      "execution_count": 61,
      "outputs": []
    },
    {
      "cell_type": "code",
      "source": [
        "for p in numbersnet.named_parameters():\n",
        "  print('Requires_grad status in layer %s: %s' %(p[0],p[1].requires_grad))"
      ],
      "metadata": {
        "colab": {
          "base_uri": "https://localhost:8080/"
        },
        "id": "msWEf_KX2-6u",
        "outputId": "b8bfccac-5326-4365-dce8-b49035b3a612"
      },
      "execution_count": 62,
      "outputs": [
        {
          "output_type": "stream",
          "name": "stdout",
          "text": [
            "Requires_grad status in layer conv1.weight: False\n",
            "Requires_grad status in layer conv1.bias: False\n",
            "Requires_grad status in layer bnorm1.weight: False\n",
            "Requires_grad status in layer bnorm1.bias: False\n",
            "Requires_grad status in layer conv2.weight: False\n",
            "Requires_grad status in layer conv2.bias: False\n",
            "Requires_grad status in layer bnorm2.weight: False\n",
            "Requires_grad status in layer bnorm2.bias: False\n",
            "Requires_grad status in layer fc1.weight: False\n",
            "Requires_grad status in layer fc1.bias: False\n",
            "Requires_grad status in layer fc2.weight: True\n",
            "Requires_grad status in layer fc2.bias: True\n"
          ]
        }
      ]
    },
    {
      "cell_type": "code",
      "source": [
        "trainLoss,testLoss,trainErr,testErr,net = \\\n",
        "function2trainTheModel(numbersnet,train_loader_numbers,test_loader_numbers,1)"
      ],
      "metadata": {
        "id": "QeVclIyBEbVW"
      },
      "execution_count": 63,
      "outputs": []
    },
    {
      "cell_type": "code",
      "execution_count": 64,
      "metadata": {
        "colab": {
          "base_uri": "https://localhost:8080/"
        },
        "outputId": "30145fbd-b18e-41d9-ddf1-394f98c14ff1",
        "id": "80tLZyorEbVW"
      },
      "outputs": [
        {
          "output_type": "stream",
          "name": "stdout",
          "text": [
            "numberNet TRAIN error: 11.31%\n",
            "numberNet TEST error: 3.08%\n"
          ]
        }
      ],
      "source": [
        "print(f'numberNet TRAIN error: {trainErr[-1]:.2f}%')\n",
        "print(f'numberNet TEST error: {testErr[-1]:.2f}%')"
      ]
    },
    {
      "cell_type": "code",
      "source": [
        ""
      ],
      "metadata": {
        "id": "LAoyJwGdEU1d"
      },
      "execution_count": 26,
      "outputs": []
    }
  ],
  "metadata": {
    "colab": {
      "collapsed_sections": [],
      "name": "my code transfer learning letters to numbers.ipynb",
      "provenance": [],
      "include_colab_link": true
    },
    "kernelspec": {
      "display_name": "Python 3",
      "name": "python3"
    },
    "widgets": {
      "application/vnd.jupyter.widget-state+json": {
        "31acb4cdcd734278a09e61f8a94aaf04": {
          "model_module": "@jupyter-widgets/controls",
          "model_name": "HBoxModel",
          "model_module_version": "1.5.0",
          "state": {
            "_view_name": "HBoxView",
            "_dom_classes": [],
            "_model_name": "HBoxModel",
            "_view_module": "@jupyter-widgets/controls",
            "_model_module_version": "1.5.0",
            "_view_count": null,
            "_view_module_version": "1.5.0",
            "box_style": "",
            "layout": "IPY_MODEL_4e25694ed72440f5b859508d5f0cd064",
            "_model_module": "@jupyter-widgets/controls",
            "children": [
              "IPY_MODEL_08b974e39685489c8323db03d51eb429",
              "IPY_MODEL_44d4224de57647799ef5f0fbe1fdebc5",
              "IPY_MODEL_9bff9b9d28404c1f9d738b8dd5a0f6c2"
            ]
          }
        },
        "4e25694ed72440f5b859508d5f0cd064": {
          "model_module": "@jupyter-widgets/base",
          "model_name": "LayoutModel",
          "model_module_version": "1.2.0",
          "state": {
            "_view_name": "LayoutView",
            "grid_template_rows": null,
            "right": null,
            "justify_content": null,
            "_view_module": "@jupyter-widgets/base",
            "overflow": null,
            "_model_module_version": "1.2.0",
            "_view_count": null,
            "flex_flow": null,
            "width": null,
            "min_width": null,
            "border": null,
            "align_items": null,
            "bottom": null,
            "_model_module": "@jupyter-widgets/base",
            "top": null,
            "grid_column": null,
            "overflow_y": null,
            "overflow_x": null,
            "grid_auto_flow": null,
            "grid_area": null,
            "grid_template_columns": null,
            "flex": null,
            "_model_name": "LayoutModel",
            "justify_items": null,
            "grid_row": null,
            "max_height": null,
            "align_content": null,
            "visibility": null,
            "align_self": null,
            "height": null,
            "min_height": null,
            "padding": null,
            "grid_auto_rows": null,
            "grid_gap": null,
            "max_width": null,
            "order": null,
            "_view_module_version": "1.2.0",
            "grid_template_areas": null,
            "object_position": null,
            "object_fit": null,
            "grid_auto_columns": null,
            "margin": null,
            "display": null,
            "left": null
          }
        },
        "08b974e39685489c8323db03d51eb429": {
          "model_module": "@jupyter-widgets/controls",
          "model_name": "HTMLModel",
          "model_module_version": "1.5.0",
          "state": {
            "_view_name": "HTMLView",
            "style": "IPY_MODEL_ce4f4a46a7134ba3af90f37b40b75057",
            "_dom_classes": [],
            "description": "",
            "_model_name": "HTMLModel",
            "placeholder": "​",
            "_view_module": "@jupyter-widgets/controls",
            "_model_module_version": "1.5.0",
            "value": "",
            "_view_count": null,
            "_view_module_version": "1.5.0",
            "description_tooltip": null,
            "_model_module": "@jupyter-widgets/controls",
            "layout": "IPY_MODEL_02cbcf64e72f47a4a781889737ffcf40"
          }
        },
        "44d4224de57647799ef5f0fbe1fdebc5": {
          "model_module": "@jupyter-widgets/controls",
          "model_name": "FloatProgressModel",
          "model_module_version": "1.5.0",
          "state": {
            "_view_name": "ProgressView",
            "style": "IPY_MODEL_99f8c31849e54ef1a380dcaad989ed56",
            "_dom_classes": [],
            "description": "",
            "_model_name": "FloatProgressModel",
            "bar_style": "success",
            "max": 561753746,
            "_view_module": "@jupyter-widgets/controls",
            "_model_module_version": "1.5.0",
            "value": 561753746,
            "_view_count": null,
            "_view_module_version": "1.5.0",
            "orientation": "horizontal",
            "min": 0,
            "description_tooltip": null,
            "_model_module": "@jupyter-widgets/controls",
            "layout": "IPY_MODEL_4d585157b3b54a498d05b3d8da269686"
          }
        },
        "9bff9b9d28404c1f9d738b8dd5a0f6c2": {
          "model_module": "@jupyter-widgets/controls",
          "model_name": "HTMLModel",
          "model_module_version": "1.5.0",
          "state": {
            "_view_name": "HTMLView",
            "style": "IPY_MODEL_7ce3ce964f954e188742ea7e7de14a9b",
            "_dom_classes": [],
            "description": "",
            "_model_name": "HTMLModel",
            "placeholder": "​",
            "_view_module": "@jupyter-widgets/controls",
            "_model_module_version": "1.5.0",
            "value": " 561754112/? [00:10&lt;00:00, 56977070.74it/s]",
            "_view_count": null,
            "_view_module_version": "1.5.0",
            "description_tooltip": null,
            "_model_module": "@jupyter-widgets/controls",
            "layout": "IPY_MODEL_9b39e9396db3421abc565fd996dc149c"
          }
        },
        "ce4f4a46a7134ba3af90f37b40b75057": {
          "model_module": "@jupyter-widgets/controls",
          "model_name": "DescriptionStyleModel",
          "model_module_version": "1.5.0",
          "state": {
            "_view_name": "StyleView",
            "_model_name": "DescriptionStyleModel",
            "description_width": "",
            "_view_module": "@jupyter-widgets/base",
            "_model_module_version": "1.5.0",
            "_view_count": null,
            "_view_module_version": "1.2.0",
            "_model_module": "@jupyter-widgets/controls"
          }
        },
        "02cbcf64e72f47a4a781889737ffcf40": {
          "model_module": "@jupyter-widgets/base",
          "model_name": "LayoutModel",
          "model_module_version": "1.2.0",
          "state": {
            "_view_name": "LayoutView",
            "grid_template_rows": null,
            "right": null,
            "justify_content": null,
            "_view_module": "@jupyter-widgets/base",
            "overflow": null,
            "_model_module_version": "1.2.0",
            "_view_count": null,
            "flex_flow": null,
            "width": null,
            "min_width": null,
            "border": null,
            "align_items": null,
            "bottom": null,
            "_model_module": "@jupyter-widgets/base",
            "top": null,
            "grid_column": null,
            "overflow_y": null,
            "overflow_x": null,
            "grid_auto_flow": null,
            "grid_area": null,
            "grid_template_columns": null,
            "flex": null,
            "_model_name": "LayoutModel",
            "justify_items": null,
            "grid_row": null,
            "max_height": null,
            "align_content": null,
            "visibility": null,
            "align_self": null,
            "height": null,
            "min_height": null,
            "padding": null,
            "grid_auto_rows": null,
            "grid_gap": null,
            "max_width": null,
            "order": null,
            "_view_module_version": "1.2.0",
            "grid_template_areas": null,
            "object_position": null,
            "object_fit": null,
            "grid_auto_columns": null,
            "margin": null,
            "display": null,
            "left": null
          }
        },
        "99f8c31849e54ef1a380dcaad989ed56": {
          "model_module": "@jupyter-widgets/controls",
          "model_name": "ProgressStyleModel",
          "model_module_version": "1.5.0",
          "state": {
            "_view_name": "StyleView",
            "_model_name": "ProgressStyleModel",
            "description_width": "",
            "_view_module": "@jupyter-widgets/base",
            "_model_module_version": "1.5.0",
            "_view_count": null,
            "_view_module_version": "1.2.0",
            "bar_color": null,
            "_model_module": "@jupyter-widgets/controls"
          }
        },
        "4d585157b3b54a498d05b3d8da269686": {
          "model_module": "@jupyter-widgets/base",
          "model_name": "LayoutModel",
          "model_module_version": "1.2.0",
          "state": {
            "_view_name": "LayoutView",
            "grid_template_rows": null,
            "right": null,
            "justify_content": null,
            "_view_module": "@jupyter-widgets/base",
            "overflow": null,
            "_model_module_version": "1.2.0",
            "_view_count": null,
            "flex_flow": null,
            "width": null,
            "min_width": null,
            "border": null,
            "align_items": null,
            "bottom": null,
            "_model_module": "@jupyter-widgets/base",
            "top": null,
            "grid_column": null,
            "overflow_y": null,
            "overflow_x": null,
            "grid_auto_flow": null,
            "grid_area": null,
            "grid_template_columns": null,
            "flex": null,
            "_model_name": "LayoutModel",
            "justify_items": null,
            "grid_row": null,
            "max_height": null,
            "align_content": null,
            "visibility": null,
            "align_self": null,
            "height": null,
            "min_height": null,
            "padding": null,
            "grid_auto_rows": null,
            "grid_gap": null,
            "max_width": null,
            "order": null,
            "_view_module_version": "1.2.0",
            "grid_template_areas": null,
            "object_position": null,
            "object_fit": null,
            "grid_auto_columns": null,
            "margin": null,
            "display": null,
            "left": null
          }
        },
        "7ce3ce964f954e188742ea7e7de14a9b": {
          "model_module": "@jupyter-widgets/controls",
          "model_name": "DescriptionStyleModel",
          "model_module_version": "1.5.0",
          "state": {
            "_view_name": "StyleView",
            "_model_name": "DescriptionStyleModel",
            "description_width": "",
            "_view_module": "@jupyter-widgets/base",
            "_model_module_version": "1.5.0",
            "_view_count": null,
            "_view_module_version": "1.2.0",
            "_model_module": "@jupyter-widgets/controls"
          }
        },
        "9b39e9396db3421abc565fd996dc149c": {
          "model_module": "@jupyter-widgets/base",
          "model_name": "LayoutModel",
          "model_module_version": "1.2.0",
          "state": {
            "_view_name": "LayoutView",
            "grid_template_rows": null,
            "right": null,
            "justify_content": null,
            "_view_module": "@jupyter-widgets/base",
            "overflow": null,
            "_model_module_version": "1.2.0",
            "_view_count": null,
            "flex_flow": null,
            "width": null,
            "min_width": null,
            "border": null,
            "align_items": null,
            "bottom": null,
            "_model_module": "@jupyter-widgets/base",
            "top": null,
            "grid_column": null,
            "overflow_y": null,
            "overflow_x": null,
            "grid_auto_flow": null,
            "grid_area": null,
            "grid_template_columns": null,
            "flex": null,
            "_model_name": "LayoutModel",
            "justify_items": null,
            "grid_row": null,
            "max_height": null,
            "align_content": null,
            "visibility": null,
            "align_self": null,
            "height": null,
            "min_height": null,
            "padding": null,
            "grid_auto_rows": null,
            "grid_gap": null,
            "max_width": null,
            "order": null,
            "_view_module_version": "1.2.0",
            "grid_template_areas": null,
            "object_position": null,
            "object_fit": null,
            "grid_auto_columns": null,
            "margin": null,
            "display": null,
            "left": null
          }
        }
      }
    },
    "accelerator": "GPU"
  },
  "nbformat": 4,
  "nbformat_minor": 0
}