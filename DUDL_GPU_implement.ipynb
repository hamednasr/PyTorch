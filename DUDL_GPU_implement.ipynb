{
  "nbformat": 4,
  "nbformat_minor": 0,
  "metadata": {
    "colab": {
      "name": "DUDL_GPU_implement.ipynb",
      "provenance": [],
      "collapsed_sections": [],
      "include_colab_link": true
    },
    "kernelspec": {
      "name": "python3",
      "display_name": "Python 3"
    },
    "language_info": {
      "name": "python"
    },
    "accelerator": "GPU"
  },
  "cells": [
    {
      "cell_type": "markdown",
      "metadata": {
        "id": "view-in-github",
        "colab_type": "text"
      },
      "source": [
        "<a href=\"https://colab.research.google.com/github/hamednasr/deep-learning/blob/main/DUDL_GPU_implement.ipynb\" target=\"_parent\"><img src=\"https://colab.research.google.com/assets/colab-badge.svg\" alt=\"Open In Colab\"/></a>"
      ]
    },
    {
      "cell_type": "markdown",
      "metadata": {
        "id": "bhWV8oes-wKR"
      },
      "source": [
        "# COURSE: A deep understanding of deep learning\n",
        "## SECTION: Running models on a GPU\n",
        "### LECTURE: Implementation\n",
        "#### TEACHER: Mike X Cohen, sincxpress.com\n",
        "##### COURSE URL: udemy.com/course/dudl/?couponCode=202109"
      ]
    },
    {
      "cell_type": "code",
      "metadata": {
        "id": "YeuAheYyhdZw"
      },
      "source": [
        "# import libraries\n",
        "import torch\n",
        "import torch.nn as nn\n",
        "import matplotlib.pyplot as plt\n",
        "import time"
      ],
      "execution_count": 38,
      "outputs": []
    },
    {
      "cell_type": "markdown",
      "metadata": {
        "id": "g0O-zq4UiM0P"
      },
      "source": [
        "# Select the processor device"
      ]
    },
    {
      "cell_type": "code",
      "metadata": {
        "id": "03MycVnQiRqO"
      },
      "source": [
        "## Note: To run models on a GPU you must select from the menu:\n",
        "#   -> Runtime\n",
        "#     -> Change runtime type\n",
        "#       -> Hardware accelerator\n",
        "#         -> GPU"
      ],
      "execution_count": null,
      "outputs": []
    },
    {
      "cell_type": "code",
      "metadata": {
        "colab": {
          "base_uri": "https://localhost:8080/"
        },
        "id": "OhrhSW6-KrA7",
        "outputId": "ee0be181-e14c-42c9-a2ac-7534d1b47dc9"
      },
      "source": [
        "torch.device"
      ],
      "execution_count": 6,
      "outputs": [
        {
          "output_type": "execute_result",
          "data": {
            "text/plain": [
              "torch.device"
            ]
          },
          "metadata": {},
          "execution_count": 6
        }
      ]
    },
    {
      "cell_type": "code",
      "metadata": {
        "id": "cThPRuj_iJA2",
        "colab": {
          "base_uri": "https://localhost:8080/"
        },
        "outputId": "f002e66b-565f-4d62-da20-faab3228b4c0"
      },
      "source": [
        "# use GPU\n",
        "device = torch.device('cuda:0' if torch.cuda.is_available() else 'cpu')\n",
        "print(device)"
      ],
      "execution_count": 4,
      "outputs": [
        {
          "output_type": "stream",
          "name": "stdout",
          "text": [
            "cuda:0\n"
          ]
        }
      ]
    },
    {
      "cell_type": "markdown",
      "metadata": {
        "id": "rcumdem5jtiD"
      },
      "source": [
        "# Build a simple model"
      ]
    },
    {
      "cell_type": "code",
      "metadata": {
        "id": "AMi1lQWOj09S"
      },
      "source": [
        "net = nn.Sequential(\n",
        "    nn.Linear(20,100),\n",
        "    nn.ReLU(),\n",
        "    nn.Linear(100,500),\n",
        "    nn.ReLU(),\n",
        "    nn.Linear(500,30),\n",
        "    nn.ReLU(),\n",
        "    nn.Linear(30,2)\n",
        "      )"
      ],
      "execution_count": 25,
      "outputs": []
    },
    {
      "cell_type": "markdown",
      "metadata": {
        "id": "TTfiVpw5j6Mq"
      },
      "source": [
        "# Make some data"
      ]
    },
    {
      "cell_type": "code",
      "metadata": {
        "id": "A_AGHhXDj1UN"
      },
      "source": [
        "# just some random fluff\n",
        "data   = torch.randn((1000,20)) # samples X features\n",
        "labels = torch.randint(low=0,high=2,size=(1,1000))"
      ],
      "execution_count": 26,
      "outputs": []
    },
    {
      "cell_type": "markdown",
      "metadata": {
        "id": "laT9cpQcmA1l"
      },
      "source": [
        "# Send the model and the data to the GPU"
      ]
    },
    {
      "cell_type": "code",
      "metadata": {
        "id": "nQzP_FXLj1QW"
      },
      "source": [
        "# model\n",
        "net.to(device)\n",
        "\n",
        "# data\n",
        "data   = data.to(device)\n",
        "labels = labels.to(device)"
      ],
      "execution_count": 27,
      "outputs": []
    },
    {
      "cell_type": "code",
      "metadata": {
        "id": "b-uDroB7jPBe",
        "colab": {
          "base_uri": "https://localhost:8080/"
        },
        "outputId": "aaff1808-7abc-4e6f-8a82-cf46bfba8322"
      },
      "source": [
        "data"
      ],
      "execution_count": 28,
      "outputs": [
        {
          "output_type": "execute_result",
          "data": {
            "text/plain": [
              "tensor([[ 1.6724, -0.1334,  0.6315,  ..., -1.1067, -0.7506,  0.2083],\n",
              "        [ 0.7349,  1.4348,  0.1151,  ..., -0.7256,  0.7897, -0.0277],\n",
              "        [ 0.5005, -0.8412, -0.2732,  ...,  0.8237, -0.5094, -1.4706],\n",
              "        ...,\n",
              "        [ 1.1820,  0.1679,  0.3781,  ..., -0.7059,  0.6417,  1.7013],\n",
              "        [ 0.5468, -0.7145, -0.9026,  ...,  1.3308, -0.6642,  0.6431],\n",
              "        [ 0.2213,  0.4510,  0.3334,  ...,  1.2523,  1.1413, -0.0345]])"
            ]
          },
          "metadata": {},
          "execution_count": 28
        }
      ]
    },
    {
      "cell_type": "code",
      "metadata": {
        "id": "kCg4D6Hlfkgb",
        "colab": {
          "base_uri": "https://localhost:8080/"
        },
        "outputId": "3706707b-1b0f-405f-e9b4-a624bef0b886"
      },
      "source": [
        "# you can also create data directly on the GPU\n",
        "dataG = torch.randn((1000,20),device=device)\n",
        "dataC = torch.randn((1000,20),device='cpu')\n",
        "\n",
        "print(data.device)\n",
        "print(dataG.device)\n",
        "print(dataC.device)"
      ],
      "execution_count": 29,
      "outputs": [
        {
          "output_type": "stream",
          "name": "stdout",
          "text": [
            "cpu\n",
            "cpu\n",
            "cpu\n"
          ]
        }
      ]
    },
    {
      "cell_type": "markdown",
      "metadata": {
        "id": "9yrwlRyQj1dF"
      },
      "source": [
        "# Getting results from the model"
      ]
    },
    {
      "cell_type": "code",
      "metadata": {
        "id": "tryFiNSej1gF"
      },
      "source": [
        "output = net(data)"
      ],
      "execution_count": 30,
      "outputs": []
    },
    {
      "cell_type": "code",
      "metadata": {
        "id": "_0-0zxQOj1it",
        "colab": {
          "base_uri": "https://localhost:8080/"
        },
        "outputId": "777c99a6-72d3-4254-ab7a-93e0f9bf195a"
      },
      "source": [
        "output.device"
      ],
      "execution_count": 31,
      "outputs": [
        {
          "output_type": "execute_result",
          "data": {
            "text/plain": [
              "device(type='cpu')"
            ]
          },
          "metadata": {},
          "execution_count": 31
        }
      ]
    },
    {
      "cell_type": "code",
      "metadata": {
        "id": "DQVKoRmWmUm5",
        "colab": {
          "base_uri": "https://localhost:8080/",
          "height": 265
        },
        "outputId": "d59fb2b0-d91f-4fcd-a886-3642d88956ed"
      },
      "source": [
        "# try to plot the data\n",
        "# plt.plot(output.detach());\n",
        "\n",
        "plt.plot(output.detach().cpu());"
      ],
      "execution_count": 32,
      "outputs": [
        {
          "output_type": "display_data",
          "data": {
            "image/png": "[encoded data removed]",
            "text/plain": [
              "<Figure size 432x288 with 1 Axes>"
            ]
          },
          "metadata": {
            "needs_background": "light"
          }
        }
      ]
    },
    {
      "cell_type": "markdown",
      "metadata": {
        "id": "VcNrG3HRnwms"
      },
      "source": [
        "# Experiment: Computation time"
      ]
    },
    {
      "cell_type": "code",
      "metadata": {
        "id": "4lJBOELHnyJf"
      },
      "source": [
        "# start the clock\n",
        "starttime = time.process_time()\n",
        "\n",
        "# move, run, retrieve\n",
        "device = 'cuda:0'\n",
        "net.to(device)\n",
        "data   = data.to(device)\n",
        "labels = labels.to(device)\n",
        "output = net(data).detach().cpu()\n",
        "\n",
        "# stop the clock\n",
        "GPUtime = 1000*(time.process_time() - starttime)"
      ],
      "execution_count": 33,
      "outputs": []
    },
    {
      "cell_type": "code",
      "metadata": {
        "id": "a3o-SgmMnyMG"
      },
      "source": [
        "# start the clock\n",
        "starttime = time.process_time()\n",
        "\n",
        "# move, run, retrieve\n",
        "device = 'cpu'\n",
        "net.to(device)\n",
        "data   = data.to(device)\n",
        "labels = labels.to(device)\n",
        "output = net(data).detach().cpu()\n",
        "\n",
        "# stop the clock\n",
        "CPUtime = 1000*(time.process_time() - starttime)"
      ],
      "execution_count": 34,
      "outputs": []
    },
    {
      "cell_type": "code",
      "metadata": {
        "id": "hzYccKwjnyOw",
        "colab": {
          "base_uri": "https://localhost:8080/"
        },
        "outputId": "0ded12c1-a37f-4e11-e1e5-23bafe4c3bb0"
      },
      "source": [
        "# time in ms\n",
        "[CPUtime,GPUtime]"
      ],
      "execution_count": 35,
      "outputs": [
        {
          "output_type": "execute_result",
          "data": {
            "text/plain": [
              "[8.047608999994793, 3.4166109999986816]"
            ]
          },
          "metadata": {},
          "execution_count": 35
        }
      ]
    },
    {
      "cell_type": "code",
      "metadata": {
        "id": "Bo5dt4Nipprn"
      },
      "source": [
        "# but maybe \"sending\" it to the CPU takes too much overhead?"
      ],
      "execution_count": 36,
      "outputs": []
    },
    {
      "cell_type": "code",
      "metadata": {
        "id": "J-NvS5tvnyRX",
        "colab": {
          "base_uri": "https://localhost:8080/"
        },
        "outputId": "78ab9a1b-9939-46ae-b620-ba6d16e0423f"
      },
      "source": [
        "# recreate network and data\n",
        "net  = nn.Sequential(nn.Linear(20,100),nn.ReLU(),nn.Linear(100,500),nn.ReLU(),nn.Linear(500,30),nn.ReLU(),nn.Linear(30,2))\n",
        "data = torch.randn((1000,20))\n",
        "\n",
        "# rerun the experiment\n",
        "starttime = time.process_time()\n",
        "output    = net(data).detach()\n",
        "CPUtime2  = 1000*(time.process_time() - starttime)\n",
        "\n",
        "# report the results\n",
        "[CPUtime2,CPUtime,GPUtime]"
      ],
      "execution_count": 37,
      "outputs": [
        {
          "output_type": "execute_result",
          "data": {
            "text/plain": [
              "[5.306361000002369, 8.047608999994793, 3.4166109999986816]"
            ]
          },
          "metadata": {},
          "execution_count": 37
        }
      ]
    },
    {
      "cell_type": "code",
      "metadata": {
        "id": "dJ1p2lXWkSdl"
      },
      "source": [
        ""
      ],
      "execution_count": 37,
      "outputs": []
    }
  ]
}