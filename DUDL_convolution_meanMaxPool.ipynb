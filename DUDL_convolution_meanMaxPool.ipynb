{
  "nbformat": 4,
  "nbformat_minor": 0,
  "metadata": {
    "colab": {
      "name": "DUDL_convolution_meanMaxPool.ipynb",
      "provenance": [],
      "collapsed_sections": [],
      "include_colab_link": true
    },
    "kernelspec": {
      "name": "python3",
      "display_name": "Python 3"
    }
  },
  "cells": [
    {
      "cell_type": "markdown",
      "metadata": {
        "id": "view-in-github",
        "colab_type": "text"
      },
      "source": [
        "<a href=\"https://colab.research.google.com/github/hamednasr/deep-learning/blob/main/DUDL_convolution_meanMaxPool.ipynb\" target=\"_parent\"><img src=\"https://colab.research.google.com/assets/colab-badge.svg\" alt=\"Open In Colab\"/></a>"
      ]
    },
    {
      "cell_type": "markdown",
      "metadata": {
        "id": "bhWV8oes-wKR"
      },
      "source": [
        "# COURSE: A deep understanding of deep learning\n",
        "## SECTION: Convolution and transformations\n",
        "### LECTURE: Max/mean pooling\n",
        "#### TEACHER: Mike X Cohen, sincxpress.com\n",
        "##### COURSE URL: udemy.com/course/dudl/?couponCode=202109"
      ]
    },
    {
      "cell_type": "code",
      "metadata": {
        "id": "YeuAheYyhdZw"
      },
      "source": [
        "# import libraries\n",
        "import torch\n",
        "import torch.nn as nn"
      ],
      "execution_count": 1,
      "outputs": []
    },
    {
      "cell_type": "markdown",
      "metadata": {
        "id": "0HOkOefftqyg"
      },
      "source": [
        "# Create a maxpool instance"
      ]
    },
    {
      "cell_type": "code",
      "metadata": {
        "id": "VhIKo0_iaGz2",
        "colab": {
          "base_uri": "https://localhost:8080/"
        },
        "outputId": "90d1295f-c93c-4831-a009-8c4400cbfbc5"
      },
      "source": [
        "# create a pool class instance with parameters\n",
        "\n",
        "# parameters\n",
        "poolSize = 3\n",
        "stride   = 3\n",
        "\n",
        "# create the instance\n",
        "p2 = nn.MaxPool2d(poolSize,stride=3)\n",
        "p3 = nn.MaxPool3d(poolSize,stride=3)\n",
        "\n",
        "# let's have a look at them\n",
        "print(p2)\n",
        "print(p3)"
      ],
      "execution_count": 2,
      "outputs": [
        {
          "output_type": "stream",
          "name": "stdout",
          "text": [
            "MaxPool2d(kernel_size=3, stride=3, padding=0, dilation=1, ceil_mode=False)\n",
            "MaxPool3d(kernel_size=3, stride=3, padding=0, dilation=1, ceil_mode=False)\n"
          ]
        }
      ]
    },
    {
      "cell_type": "code",
      "metadata": {
        "id": "G669cetLBMFO",
        "colab": {
          "base_uri": "https://localhost:8080/"
        },
        "outputId": "2c7d101a-d5a0-4cf7-ff85-e807c8caf8e8"
      },
      "source": [
        "# Create image and apply maxpooling\n",
        "\n",
        "# create a 2D and a 3D image\n",
        "img2 = torch.randn(1,1,30,30)\n",
        "img3 = torch.randn(1,3,30,30)\n",
        "\n",
        "\n",
        "# all combinations of image and maxpool dimensionality\n",
        "img2Pool2 = p2(img2)\n",
        "print(f'2D image, 2D maxpool: {img2Pool2.shape}\\n' )\n",
        "\n",
        "# img2Pool3 = p3(img2)\n",
        "# print(f'2D image, 3D maxpool: {img2Pool3.shape}\\n' )\n",
        "\n",
        "img3Pool2 = p2(img3)\n",
        "print(f'3D image, 2D maxpool: {img3Pool2.shape}\\n' )\n",
        "\n",
        "img3Pool3 = p3(img3)\n",
        "print(f'3D image, 3D maxpool: {img3Pool3.shape}\\n' )\n"
      ],
      "execution_count": 7,
      "outputs": [
        {
          "output_type": "stream",
          "name": "stdout",
          "text": [
            "2D image, 2D maxpool: torch.Size([1, 1, 10, 10])\n",
            "\n",
            "3D image, 2D maxpool: torch.Size([1, 3, 10, 10])\n",
            "\n",
            "3D image, 3D maxpool: torch.Size([1, 1, 10, 10])\n",
            "\n"
          ]
        }
      ]
    },
    {
      "cell_type": "markdown",
      "metadata": {
        "id": "VAqVrcrGd98S"
      },
      "source": [
        "# Create a simple CNN"
      ]
    },
    {
      "cell_type": "code",
      "metadata": {
        "id": "Bub-D2xxAiR3"
      },
      "source": [
        "littlenet = nn.Sequential(\n",
        "    \n",
        "    ## the conv-pool block\n",
        "    nn.Conv2d(3,10,5,3,2), # convolution layer\n",
        "    nn.ReLU(),             # activation function\n",
        "    nn.AvgPool3d(3,3),     # average-pool\n",
        "    \n",
        "    ## the FFN block\n",
        "    nn.Flatten(),          # vectorize to get from image to linear\n",
        "    nn.Linear(588,1),      # FC linear layer\n",
        "    nn.Sigmoid()           # output activation\n",
        "  )\n"
      ],
      "execution_count": 16,
      "outputs": []
    },
    {
      "cell_type": "code",
      "metadata": {
        "id": "9SnUUHPm7xQE",
        "colab": {
          "base_uri": "https://localhost:8080/"
        },
        "outputId": "9c4e607c-e12a-4215-b2a6-0646878830a8"
      },
      "source": [
        "# test with a bit of data\n",
        "img = torch.rand(1,3,128,128)\n",
        "littlenet(img)"
      ],
      "execution_count": 18,
      "outputs": [
        {
          "output_type": "execute_result",
          "data": {
            "text/plain": [
              "tensor([[0.5729]], grad_fn=<SigmoidBackward0>)"
            ]
          },
          "metadata": {},
          "execution_count": 18
        }
      ]
    },
    {
      "cell_type": "code",
      "metadata": {
        "id": "fCooGt9PiNb6"
      },
      "source": [
        ""
      ],
      "execution_count": 17,
      "outputs": []
    }
  ]
}