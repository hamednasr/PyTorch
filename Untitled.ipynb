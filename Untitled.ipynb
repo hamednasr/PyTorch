{
 "cells": [
  {
   "cell_type": "code",
   "execution_count": 1,
   "metadata": {},
   "outputs": [],
   "source": [
    "import numpy as np\n",
    "import torch\n",
    "import torch.nn as nn\n",
    "import matplotlib.pyplot as plt"
   ]
  },
  {
   "cell_type": "code",
   "execution_count": 11,
   "metadata": {},
   "outputs": [
    {
     "name": "stdout",
     "output_type": "stream",
     "text": [
      "[1, 2, 3, 4]\n"
     ]
    }
   ],
   "source": [
    "aa= [1,2,3,4]\n",
    "print(aa)"
   ]
  },
  {
   "cell_type": "code",
   "execution_count": 19,
   "metadata": {},
   "outputs": [
    {
     "name": "stdout",
     "output_type": "stream",
     "text": [
      "[[1 2 3 4]]\n",
      "(1, 4)\n"
     ]
    }
   ],
   "source": [
    "a= np.array([[1,2,3,4]])\n",
    "print(a)\n",
    "print(a.shape)"
   ]
  },
  {
   "cell_type": "code",
   "execution_count": 17,
   "metadata": {},
   "outputs": [
    {
     "name": "stdout",
     "output_type": "stream",
     "text": [
      "[[1 2 3 4]\n",
      " [3 4 5 6]]\n",
      "(2, 4)\n"
     ]
    }
   ],
   "source": [
    "a= np.array([[1,2,3,4],[3,4,5,6]])\n",
    "print(a)\n",
    "print(a.shape)"
   ]
  },
  {
   "cell_type": "code",
   "execution_count": 23,
   "metadata": {},
   "outputs": [
    {
     "name": "stdout",
     "output_type": "stream",
     "text": [
      "tensor([[1, 2, 3, 4],\n",
      "        [3, 4, 5, 6]])\n",
      "torch.Size([2, 4])\n"
     ]
    }
   ],
   "source": [
    "b =torch.tensor([[1,2,3,4],[3,4,5,6]])\n",
    "print(b)\n",
    "print(b.shape)"
   ]
  },
  {
   "cell_type": "code",
   "execution_count": 24,
   "metadata": {},
   "outputs": [
    {
     "name": "stdout",
     "output_type": "stream",
     "text": [
      "-2\n",
      "-2\n"
     ]
    }
   ],
   "source": [
    "nv1 = np.array([1,2,3,4])\n",
    "nv2 = np.array([0,1,0,-1])\n",
    "\n",
    "# dot product via function\n",
    "print(np.dot(nv1,nv2))\n",
    "\n",
    "# dot product via computation\n",
    "print(np.sum( nv1*nv2 ))"
   ]
  },
  {
   "cell_type": "code",
   "execution_count": 26,
   "metadata": {},
   "outputs": [
    {
     "name": "stdout",
     "output_type": "stream",
     "text": [
      "tensor(-2)\n",
      "tensor(-2)\n"
     ]
    }
   ],
   "source": [
    "tv1 = torch.tensor([1,2,3,4])\n",
    "tv2 = torch.tensor([0,1,0,-1])\n",
    "\n",
    "# dot product via function\n",
    "print(torch.dot(tv1,tv2))\n",
    "\n",
    "# dot product via computation\n",
    "print(torch.sum( tv1*tv2 ))"
   ]
  },
  {
   "cell_type": "code",
   "execution_count": 27,
   "metadata": {},
   "outputs": [
    {
     "data": {
      "text/plain": [
       "[1, 2, 3, 4]"
      ]
     },
     "execution_count": 27,
     "metadata": {},
     "output_type": "execute_result"
    }
   ],
   "source": [
    "aa"
   ]
  },
  {
   "cell_type": "code",
   "execution_count": 29,
   "metadata": {},
   "outputs": [],
   "source": [
    "a= np.random.randint(-5,15,20)"
   ]
  },
  {
   "cell_type": "code",
   "execution_count": 30,
   "metadata": {},
   "outputs": [
    {
     "data": {
      "text/plain": [
       "array([10, 13, 10,  8,  2, 13,  4,  7,  9,  7,  3, 14,  9,  2,  2,  9, -1,\n",
       "        4,  9,  4])"
      ]
     },
     "execution_count": 30,
     "metadata": {},
     "output_type": "execute_result"
    }
   ],
   "source": [
    "a"
   ]
  },
  {
   "cell_type": "code",
   "execution_count": 34,
   "metadata": {},
   "outputs": [
    {
     "data": {
      "text/plain": [
       "array([1.01538282e-02, 2.03945092e-01, 1.01538282e-02, 1.37417122e-03,\n",
       "       3.40622990e-06, 2.03945092e-01, 2.51688238e-05, 5.05529340e-04,\n",
       "       3.73538466e-03, 5.05529340e-04, 9.25909285e-06, 5.54380237e-01,\n",
       "       3.73538466e-03, 3.40622990e-06, 3.40622990e-06, 3.73538466e-03,\n",
       "       1.69586201e-07, 2.51688238e-05, 3.73538466e-03, 2.51688238e-05])"
      ]
     },
     "execution_count": 34,
     "metadata": {},
     "output_type": "execute_result"
    }
   ],
   "source": [
    "np.exp(a)/sum(np.exp(a))"
   ]
  },
  {
   "cell_type": "code",
   "execution_count": 55,
   "metadata": {},
   "outputs": [],
   "source": [
    "softmax = nn.Softmax(dim=0)"
   ]
  },
  {
   "cell_type": "code",
   "execution_count": 56,
   "metadata": {},
   "outputs": [],
   "source": [
    "a_t = torch.Tensor(a)"
   ]
  },
  {
   "cell_type": "code",
   "execution_count": 57,
   "metadata": {},
   "outputs": [
    {
     "data": {
      "text/plain": [
       "tensor([1.0154e-02, 2.0395e-01, 1.0154e-02, 1.3742e-03, 3.4062e-06, 2.0395e-01,\n",
       "        2.5169e-05, 5.0553e-04, 3.7354e-03, 5.0553e-04, 9.2591e-06, 5.5438e-01,\n",
       "        3.7354e-03, 3.4062e-06, 3.4062e-06, 3.7354e-03, 1.6959e-07, 2.5169e-05,\n",
       "        3.7354e-03, 2.5169e-05])"
      ]
     },
     "execution_count": 57,
     "metadata": {},
     "output_type": "execute_result"
    }
   ],
   "source": [
    "softmax(a_t)"
   ]
  },
  {
   "cell_type": "code",
   "execution_count": null,
   "metadata": {},
   "outputs": [],
   "source": []
  },
  {
   "cell_type": "code",
   "execution_count": 9,
   "metadata": {},
   "outputs": [
    {
     "name": "stdout",
     "output_type": "stream",
     "text": [
      "tensor([[ 0,  1, 10],\n",
      "        [-5,  8,  5]])\n",
      " \n"
     ]
    },
    {
     "data": {
      "text/plain": [
       "tensor(-5)"
      ]
     },
     "execution_count": 9,
     "metadata": {},
     "output_type": "execute_result"
    }
   ],
   "source": [
    "# repeat with matrix\n",
    "M = torch.tensor([ [0,1,10], [-5,8,5] ])\n",
    "print(M), print(' ')\n",
    "\n",
    "# various minima in this matrix!\n",
    "min1 = torch.min(M)        # minimum from ENTIRE matrix\n",
    "min2 = torch.min(M,axis=0) # minimum of each column (across rows)\n",
    "min3 = torch.min(M,axis=1) # minimum of each row (across columns)\n",
    "\n",
    "# # print them out\n",
    "# print(min1), print(' ')\n",
    "# print(min2), print(' ')\n",
    "# print(min2.values)\n",
    "# print(min2.indices)\n",
    "min1"
   ]
  },
  {
   "cell_type": "code",
   "execution_count": 10,
   "metadata": {},
   "outputs": [
    {
     "name": "stdout",
     "output_type": "stream",
     "text": [
      "3.142857142857143\n",
      "3.142857142857143\n"
     ]
    }
   ],
   "source": [
    "# create a list of numbers to compute the mean and variance of\n",
    "x = [1,2,4,6,5,4,0]\n",
    "n = len(x)\n",
    "\n",
    "# compute the mean\n",
    "mean1 = np.mean(x)\n",
    "mean2 = np.sum(x) / n\n",
    "\n",
    "# print them\n",
    "print(mean1)\n",
    "print(mean2)"
   ]
  },
  {
   "cell_type": "code",
   "execution_count": 27,
   "metadata": {},
   "outputs": [],
   "source": [
    "mean = np.sum(x)/len(x)"
   ]
  },
  {
   "cell_type": "code",
   "execution_count": 28,
   "metadata": {},
   "outputs": [
    {
     "data": {
      "text/plain": [
       "3.142857142857143"
      ]
     },
     "execution_count": 28,
     "metadata": {},
     "output_type": "execute_result"
    }
   ],
   "source": [
    "mean"
   ]
  },
  {
   "cell_type": "code",
   "execution_count": 30,
   "metadata": {},
   "outputs": [
    {
     "data": {
      "text/plain": [
       "numpy.float64"
      ]
     },
     "execution_count": 30,
     "metadata": {},
     "output_type": "execute_result"
    }
   ],
   "source": [
    "type(mean)"
   ]
  },
  {
   "cell_type": "code",
   "execution_count": 39,
   "metadata": {},
   "outputs": [
    {
     "data": {
      "text/plain": [
       "4.122448979591836"
      ]
     },
     "execution_count": 39,
     "metadata": {},
     "output_type": "execute_result"
    }
   ],
   "source": [
    "(np.sum((x-mean)**2))/7"
   ]
  },
  {
   "cell_type": "code",
   "execution_count": 38,
   "metadata": {},
   "outputs": [
    {
     "data": {
      "text/plain": [
       "4.122448979591836"
      ]
     },
     "execution_count": 38,
     "metadata": {},
     "output_type": "execute_result"
    }
   ],
   "source": [
    "np.var(x)"
   ]
  },
  {
   "cell_type": "code",
   "execution_count": 3,
   "metadata": {},
   "outputs": [
    {
     "data": {
      "text/plain": [
       "16"
      ]
     },
     "execution_count": 3,
     "metadata": {},
     "output_type": "execute_result"
    }
   ],
   "source": [
    "x = [1,2,4,6,5,4,0,-4,5,-2,6,10,-9,1,3,-6]\n",
    "n = len(x)\n",
    "n"
   ]
  },
  {
   "cell_type": "code",
   "execution_count": 45,
   "metadata": {},
   "outputs": [
    {
     "data": {
      "text/plain": [
       "array([ 6,  3, 10, 10, 10,  3,  1,  4])"
      ]
     },
     "execution_count": 45,
     "metadata": {},
     "output_type": "execute_result"
    }
   ],
   "source": [
    "sample = np.random.choice(x,size=8)\n",
    "sample"
   ]
  },
  {
   "cell_type": "code",
   "execution_count": 122,
   "metadata": {},
   "outputs": [],
   "source": [
    "nExpers = 100000\n",
    "\n",
    "# run the experiment!\n",
    "sampleMeans = []\n",
    "for i in range(nExpers):\n",
    "\n",
    "  # step 1: draw a sample\n",
    "  sample = np.random.choice(x,size=7,replace=False)\n",
    "\n",
    "  # step 2: compute its mean\n",
    "  sampleMeans.append(np.mean(sample))"
   ]
  },
  {
   "cell_type": "code",
   "execution_count": 123,
   "metadata": {},
   "outputs": [
    {
     "data": {
      "text/plain": [
       "1.6244442857142856"
      ]
     },
     "execution_count": 123,
     "metadata": {},
     "output_type": "execute_result"
    }
   ],
   "source": [
    "np.mean(sampleMeans)"
   ]
  },
  {
   "cell_type": "code",
   "execution_count": 124,
   "metadata": {},
   "outputs": [
    {
     "data": {
      "text/plain": [
       "1.625"
      ]
     },
     "execution_count": 124,
     "metadata": {},
     "output_type": "execute_result"
    }
   ],
   "source": [
    "np.mean(x)"
   ]
  },
  {
   "cell_type": "code",
   "execution_count": 125,
   "metadata": {},
   "outputs": [
    {
     "data": {
      "image/png": "[encoded data removed]",
      "text/plain": [
       "<Figure size 432x288 with 1 Axes>"
      ]
     },
     "metadata": {
      "needs_background": "light"
     },
     "output_type": "display_data"
    }
   ],
   "source": [
    "plt.hist(sampleMeans,bins=70)\n",
    "plt.show()"
   ]
  },
  {
   "cell_type": "code",
   "execution_count": 126,
   "metadata": {},
   "outputs": [],
   "source": []
  },
  {
   "cell_type": "code",
   "execution_count": 250,
   "metadata": {},
   "outputs": [
    {
     "data": {
      "text/plain": [
       "168"
      ]
     },
     "execution_count": 250,
     "metadata": {},
     "output_type": "execute_result"
    }
   ],
   "source": [
    "np.random.seed(2)\n",
    "np.random.randint(459)"
   ]
  },
  {
   "cell_type": "code",
   "execution_count": 271,
   "metadata": {},
   "outputs": [
    {
     "name": "stdout",
     "output_type": "stream",
     "text": [
      "168\n",
      "15\n",
      "4\n"
     ]
    }
   ],
   "source": [
    "randseed1=np.random.RandomState(2)\n",
    "randseed2=np.random.RandomState(43)\n",
    "print(randseed1.randint(505))\n",
    "print(randseed1.randint(459))\n",
    "print(randseed2.randint(50))"
   ]
  },
  {
   "cell_type": "code",
   "execution_count": 261,
   "metadata": {},
   "outputs": [
    {
     "name": "stdout",
     "output_type": "stream",
     "text": [
      "168\n"
     ]
    }
   ],
   "source": [
    "randseed1=np.random.RandomState(2)\n",
    "print(randseed1.randint(459))"
   ]
  },
  {
   "cell_type": "code",
   "execution_count": 342,
   "metadata": {},
   "outputs": [
    {
     "name": "stdout",
     "output_type": "stream",
     "text": [
      "[-0.98834229  0.8145156  -1.15223854  0.54015116 -1.8330558 ]\n",
      " \n",
      "tensor([ 1.0302, -0.5073, -0.1017,  1.3587, -3.0745])\n"
     ]
    }
   ],
   "source": [
    "torch.manual_seed(22)\n",
    "print(np.random.randn(5))\n",
    "print( ' ')\n",
    "print(torch.randn(5))"
   ]
  },
  {
   "cell_type": "code",
   "execution_count": null,
   "metadata": {},
   "outputs": [],
   "source": []
  },
  {
   "cell_type": "code",
   "execution_count": 2,
   "metadata": {},
   "outputs": [],
   "source": [
    "import scipy.stats as stats"
   ]
  },
  {
   "cell_type": "code",
   "execution_count": 13,
   "metadata": {},
   "outputs": [],
   "source": [
    "# parameters\n",
    "n1 = 30   # samples in dataset 1\n",
    "n2 = 40   # ...and 2\n",
    "mu1 = 1   # population mean in dataset 1\n",
    "mu2 = 1.4   # population mean in dataset 2\n",
    "\n",
    "# generate the data\n",
    "data1 = mu1 + np.random.randn(n1)\n",
    "data2 = mu2 + np.random.randn(n2)"
   ]
  },
  {
   "cell_type": "code",
   "execution_count": 14,
   "metadata": {},
   "outputs": [
    {
     "data": {
      "image/png": "[encoded data removed]",
      "text/plain": [
       "<Figure size 432x288 with 1 Axes>"
      ]
     },
     "metadata": {
      "needs_background": "light"
     },
     "output_type": "display_data"
    }
   ],
   "source": [
    "# plot them\n",
    "plt.plot(np.zeros(n1),data1,'ro',markerfacecolor='w',markersize=14)\n",
    "plt.plot(np.ones(n2), data2,'bs',markerfacecolor='w',markersize=14)\n",
    "plt.xlim([-1,2])\n",
    "plt.xticks([0,1],labels=['Group 1','Group 2'])\n",
    "plt.show()"
   ]
  },
  {
   "cell_type": "code",
   "execution_count": 15,
   "metadata": {},
   "outputs": [
    {
     "data": {
      "text/plain": [
       "Ttest_indResult(statistic=1.6405776398931877, pvalue=0.1055031508245124)"
      ]
     },
     "execution_count": 15,
     "metadata": {},
     "output_type": "execute_result"
    }
   ],
   "source": [
    "stats.ttest_ind(data2,data1)"
   ]
  },
  {
   "cell_type": "code",
   "execution_count": null,
   "metadata": {},
   "outputs": [],
   "source": []
  }
 ],
 "metadata": {
  "kernelspec": {
   "display_name": "Python 3",
   "language": "python",
   "name": "python3"
  },
  "language_info": {
   "codemirror_mode": {
    "name": "ipython",
    "version": 3
   },
   "file_extension": ".py",
   "mimetype": "text/x-python",
   "name": "python",
   "nbconvert_exporter": "python",
   "pygments_lexer": "ipython3",
   "version": "3.7.4"
  }
 },
 "nbformat": 4,
 "nbformat_minor": 4
}
