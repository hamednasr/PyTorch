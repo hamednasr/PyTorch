{
 "cells": [
  {
   "cell_type": "code",
   "execution_count": 1,
   "metadata": {},
   "outputs": [],
   "source": [
    "import numpy as np\n",
    "import torch\n",
    "import torch.nn as nn\n",
    "import matplotlib.pyplot as plt"
   ]
  },
  {
   "cell_type": "code",
   "execution_count": 11,
   "metadata": {},
   "outputs": [
    {
     "name": "stdout",
     "output_type": "stream",
     "text": [
      "[1, 2, 3, 4]\n"
     ]
    }
   ],
   "source": [
    "aa= [1,2,3,4]\n",
    "print(aa)"
   ]
  },
  {
   "cell_type": "code",
   "execution_count": 19,
   "metadata": {},
   "outputs": [
    {
     "name": "stdout",
     "output_type": "stream",
     "text": [
      "[[1 2 3 4]]\n",
      "(1, 4)\n"
     ]
    }
   ],
   "source": [
    "a= np.array([[1,2,3,4]])\n",
    "print(a)\n",
    "print(a.shape)"
   ]
  },
  {
   "cell_type": "code",
   "execution_count": 17,
   "metadata": {},
   "outputs": [
    {
     "name": "stdout",
     "output_type": "stream",
     "text": [
      "[[1 2 3 4]\n",
      " [3 4 5 6]]\n",
      "(2, 4)\n"
     ]
    }
   ],
   "source": [
    "a= np.array([[1,2,3,4],[3,4,5,6]])\n",
    "print(a)\n",
    "print(a.shape)"
   ]
  },
  {
   "cell_type": "code",
   "execution_count": 23,
   "metadata": {},
   "outputs": [
    {
     "name": "stdout",
     "output_type": "stream",
     "text": [
      "tensor([[1, 2, 3, 4],\n",
      "        [3, 4, 5, 6]])\n",
      "torch.Size([2, 4])\n"
     ]
    }
   ],
   "source": [
    "b =torch.tensor([[1,2,3,4],[3,4,5,6]])\n",
    "print(b)\n",
    "print(b.shape)"
   ]
  },
  {
   "cell_type": "code",
   "execution_count": 24,
   "metadata": {},
   "outputs": [
    {
     "name": "stdout",
     "output_type": "stream",
     "text": [
      "-2\n",
      "-2\n"
     ]
    }
   ],
   "source": [
    "nv1 = np.array([1,2,3,4])\n",
    "nv2 = np.array([0,1,0,-1])\n",
    "\n",
    "# dot product via function\n",
    "print(np.dot(nv1,nv2))\n",
    "\n",
    "# dot product via computation\n",
    "print(np.sum( nv1*nv2 ))"
   ]
  },
  {
   "cell_type": "code",
   "execution_count": 26,
   "metadata": {},
   "outputs": [
    {
     "name": "stdout",
     "output_type": "stream",
     "text": [
      "tensor(-2)\n",
      "tensor(-2)\n"
     ]
    }
   ],
   "source": [
    "tv1 = torch.tensor([1,2,3,4])\n",
    "tv2 = torch.tensor([0,1,0,-1])\n",
    "\n",
    "# dot product via function\n",
    "print(torch.dot(tv1,tv2))\n",
    "\n",
    "# dot product via computation\n",
    "print(torch.sum( tv1*tv2 ))"
   ]
  },
  {
   "cell_type": "code",
   "execution_count": 27,
   "metadata": {},
   "outputs": [
    {
     "data": {
      "text/plain": [
       "[1, 2, 3, 4]"
      ]
     },
     "execution_count": 27,
     "metadata": {},
     "output_type": "execute_result"
    }
   ],
   "source": [
    "aa"
   ]
  },
  {
   "cell_type": "code",
   "execution_count": 29,
   "metadata": {},
   "outputs": [],
   "source": [
    "a= np.random.randint(-5,15,20)"
   ]
  },
  {
   "cell_type": "code",
   "execution_count": 30,
   "metadata": {},
   "outputs": [
    {
     "data": {
      "text/plain": [
       "array([10, 13, 10,  8,  2, 13,  4,  7,  9,  7,  3, 14,  9,  2,  2,  9, -1,\n",
       "        4,  9,  4])"
      ]
     },
     "execution_count": 30,
     "metadata": {},
     "output_type": "execute_result"
    }
   ],
   "source": [
    "a"
   ]
  },
  {
   "cell_type": "code",
   "execution_count": 34,
   "metadata": {},
   "outputs": [
    {
     "data": {
      "text/plain": [
       "array([1.01538282e-02, 2.03945092e-01, 1.01538282e-02, 1.37417122e-03,\n",
       "       3.40622990e-06, 2.03945092e-01, 2.51688238e-05, 5.05529340e-04,\n",
       "       3.73538466e-03, 5.05529340e-04, 9.25909285e-06, 5.54380237e-01,\n",
       "       3.73538466e-03, 3.40622990e-06, 3.40622990e-06, 3.73538466e-03,\n",
       "       1.69586201e-07, 2.51688238e-05, 3.73538466e-03, 2.51688238e-05])"
      ]
     },
     "execution_count": 34,
     "metadata": {},
     "output_type": "execute_result"
    }
   ],
   "source": [
    "np.exp(a)/sum(np.exp(a))"
   ]
  },
  {
   "cell_type": "code",
   "execution_count": 55,
   "metadata": {},
   "outputs": [],
   "source": [
    "softmax = nn.Softmax(dim=0)"
   ]
  },
  {
   "cell_type": "code",
   "execution_count": 56,
   "metadata": {},
   "outputs": [],
   "source": [
    "a_t = torch.Tensor(a)"
   ]
  },
  {
   "cell_type": "code",
   "execution_count": 57,
   "metadata": {},
   "outputs": [
    {
     "data": {
      "text/plain": [
       "tensor([1.0154e-02, 2.0395e-01, 1.0154e-02, 1.3742e-03, 3.4062e-06, 2.0395e-01,\n",
       "        2.5169e-05, 5.0553e-04, 3.7354e-03, 5.0553e-04, 9.2591e-06, 5.5438e-01,\n",
       "        3.7354e-03, 3.4062e-06, 3.4062e-06, 3.7354e-03, 1.6959e-07, 2.5169e-05,\n",
       "        3.7354e-03, 2.5169e-05])"
      ]
     },
     "execution_count": 57,
     "metadata": {},
     "output_type": "execute_result"
    }
   ],
   "source": [
    "softmax(a_t)"
   ]
  },
  {
   "cell_type": "code",
   "execution_count": null,
   "metadata": {},
   "outputs": [],
   "source": []
  },
  {
   "cell_type": "code",
   "execution_count": 9,
   "metadata": {},
   "outputs": [
    {
     "name": "stdout",
     "output_type": "stream",
     "text": [
      "tensor([[ 0,  1, 10],\n",
      "        [-5,  8,  5]])\n",
      " \n"
     ]
    },
    {
     "data": {
      "text/plain": [
       "tensor(-5)"
      ]
     },
     "execution_count": 9,
     "metadata": {},
     "output_type": "execute_result"
    }
   ],
   "source": [
    "# repeat with matrix\n",
    "M = torch.tensor([ [0,1,10], [-5,8,5] ])\n",
    "print(M), print(' ')\n",
    "\n",
    "# various minima in this matrix!\n",
    "min1 = torch.min(M)        # minimum from ENTIRE matrix\n",
    "min2 = torch.min(M,axis=0) # minimum of each column (across rows)\n",
    "min3 = torch.min(M,axis=1) # minimum of each row (across columns)\n",
    "\n",
    "# # print them out\n",
    "# print(min1), print(' ')\n",
    "# print(min2), print(' ')\n",
    "# print(min2.values)\n",
    "# print(min2.indices)\n",
    "min1"
   ]
  },
  {
   "cell_type": "code",
   "execution_count": 10,
   "metadata": {},
   "outputs": [
    {
     "name": "stdout",
     "output_type": "stream",
     "text": [
      "3.142857142857143\n",
      "3.142857142857143\n"
     ]
    }
   ],
   "source": [
    "# create a list of numbers to compute the mean and variance of\n",
    "x = [1,2,4,6,5,4,0]\n",
    "n = len(x)\n",
    "\n",
    "# compute the mean\n",
    "mean1 = np.mean(x)\n",
    "mean2 = np.sum(x) / n\n",
    "\n",
    "# print them\n",
    "print(mean1)\n",
    "print(mean2)"
   ]
  },
  {
   "cell_type": "code",
   "execution_count": 27,
   "metadata": {},
   "outputs": [],
   "source": [
    "mean = np.sum(x)/len(x)"
   ]
  },
  {
   "cell_type": "code",
   "execution_count": 28,
   "metadata": {},
   "outputs": [
    {
     "data": {
      "text/plain": [
       "3.142857142857143"
      ]
     },
     "execution_count": 28,
     "metadata": {},
     "output_type": "execute_result"
    }
   ],
   "source": [
    "mean"
   ]
  },
  {
   "cell_type": "code",
   "execution_count": 30,
   "metadata": {},
   "outputs": [
    {
     "data": {
      "text/plain": [
       "numpy.float64"
      ]
     },
     "execution_count": 30,
     "metadata": {},
     "output_type": "execute_result"
    }
   ],
   "source": [
    "type(mean)"
   ]
  },
  {
   "cell_type": "code",
   "execution_count": 39,
   "metadata": {},
   "outputs": [
    {
     "data": {
      "text/plain": [
       "4.122448979591836"
      ]
     },
     "execution_count": 39,
     "metadata": {},
     "output_type": "execute_result"
    }
   ],
   "source": [
    "(np.sum((x-mean)**2))/7"
   ]
  },
  {
   "cell_type": "code",
   "execution_count": 38,
   "metadata": {},
   "outputs": [
    {
     "data": {
      "text/plain": [
       "4.122448979591836"
      ]
     },
     "execution_count": 38,
     "metadata": {},
     "output_type": "execute_result"
    }
   ],
   "source": [
    "np.var(x)"
   ]
  },
  {
   "cell_type": "code",
   "execution_count": 3,
   "metadata": {},
   "outputs": [
    {
     "data": {
      "text/plain": [
       "16"
      ]
     },
     "execution_count": 3,
     "metadata": {},
     "output_type": "execute_result"
    }
   ],
   "source": [
    "x = [1,2,4,6,5,4,0,-4,5,-2,6,10,-9,1,3,-6]\n",
    "n = len(x)\n",
    "n"
   ]
  },
  {
   "cell_type": "code",
   "execution_count": 45,
   "metadata": {},
   "outputs": [
    {
     "data": {
      "text/plain": [
       "array([ 6,  3, 10, 10, 10,  3,  1,  4])"
      ]
     },
     "execution_count": 45,
     "metadata": {},
     "output_type": "execute_result"
    }
   ],
   "source": [
    "sample = np.random.choice(x,size=8)\n",
    "sample"
   ]
  },
  {
   "cell_type": "code",
   "execution_count": 122,
   "metadata": {},
   "outputs": [],
   "source": [
    "nExpers = 100000\n",
    "\n",
    "# run the experiment!\n",
    "sampleMeans = []\n",
    "for i in range(nExpers):\n",
    "\n",
    "  # step 1: draw a sample\n",
    "  sample = np.random.choice(x,size=7,replace=False)\n",
    "\n",
    "  # step 2: compute its mean\n",
    "  sampleMeans.append(np.mean(sample))"
   ]
  },
  {
   "cell_type": "code",
   "execution_count": 123,
   "metadata": {},
   "outputs": [
    {
     "data": {
      "text/plain": [
       "1.6244442857142856"
      ]
     },
     "execution_count": 123,
     "metadata": {},
     "output_type": "execute_result"
    }
   ],
   "source": [
    "np.mean(sampleMeans)"
   ]
  },
  {
   "cell_type": "code",
   "execution_count": 124,
   "metadata": {},
   "outputs": [
    {
     "data": {
      "text/plain": [
       "1.625"
      ]
     },
     "execution_count": 124,
     "metadata": {},
     "output_type": "execute_result"
    }
   ],
   "source": [
    "np.mean(x)"
   ]
  },
  {
   "cell_type": "code",
   "execution_count": 125,
   "metadata": {},
   "outputs": [
    {
     "data": {
      "image/png": "[encoded data removed]",
      "text/plain": [
       "<Figure size 432x288 with 1 Axes>"
      ]
     },
     "metadata": {
      "needs_background": "light"
     },
     "output_type": "display_data"
    }
   ],
   "source": [
    "plt.hist(sampleMeans,bins=70)\n",
    "plt.show()"
   ]
  },
  {
   "cell_type": "code",
   "execution_count": 126,
   "metadata": {},
   "outputs": [],
   "source": []
  },
  {
   "cell_type": "code",
   "execution_count": 250,
   "metadata": {},
   "outputs": [
    {
     "data": {
      "text/plain": [
       "168"
      ]
     },
     "execution_count": 250,
     "metadata": {},
     "output_type": "execute_result"
    }
   ],
   "source": [
    "np.random.seed(2)\n",
    "np.random.randint(459)"
   ]
  },
  {
   "cell_type": "code",
   "execution_count": 271,
   "metadata": {},
   "outputs": [
    {
     "name": "stdout",
     "output_type": "stream",
     "text": [
      "168\n",
      "15\n",
      "4\n"
     ]
    }
   ],
   "source": [
    "randseed1=np.random.RandomState(2)\n",
    "randseed2=np.random.RandomState(43)\n",
    "print(randseed1.randint(505))\n",
    "print(randseed1.randint(459))\n",
    "print(randseed2.randint(50))"
   ]
  },
  {
   "cell_type": "code",
   "execution_count": 261,
   "metadata": {},
   "outputs": [
    {
     "name": "stdout",
     "output_type": "stream",
     "text": [
      "168\n"
     ]
    }
   ],
   "source": [
    "randseed1=np.random.RandomState(2)\n",
    "print(randseed1.randint(459))"
   ]
  },
  {
   "cell_type": "code",
   "execution_count": 342,
   "metadata": {},
   "outputs": [
    {
     "name": "stdout",
     "output_type": "stream",
     "text": [
      "[-0.98834229  0.8145156  -1.15223854  0.54015116 -1.8330558 ]\n",
      " \n",
      "tensor([ 1.0302, -0.5073, -0.1017,  1.3587, -3.0745])\n"
     ]
    }
   ],
   "source": [
    "torch.manual_seed(22)\n",
    "print(np.random.randn(5))\n",
    "print( ' ')\n",
    "print(torch.randn(5))"
   ]
  },
  {
   "cell_type": "code",
   "execution_count": null,
   "metadata": {},
   "outputs": [],
   "source": []
  },
  {
   "cell_type": "code",
   "execution_count": 2,
   "metadata": {},
   "outputs": [],
   "source": [
    "import scipy.stats as stats"
   ]
  },
  {
   "cell_type": "code",
   "execution_count": 13,
   "metadata": {},
   "outputs": [],
   "source": [
    "# parameters\n",
    "n1 = 30   # samples in dataset 1\n",
    "n2 = 40   # ...and 2\n",
    "mu1 = 1   # population mean in dataset 1\n",
    "mu2 = 1.4   # population mean in dataset 2\n",
    "\n",
    "# generate the data\n",
    "data1 = mu1 + np.random.randn(n1)\n",
    "data2 = mu2 + np.random.randn(n2)"
   ]
  },
  {
   "cell_type": "code",
   "execution_count": 14,
   "metadata": {},
   "outputs": [
    {
     "data": {
      "image/png": "[encoded data removed]",
      "text/plain": [
       "<Figure size 432x288 with 1 Axes>"
      ]
     },
     "metadata": {
      "needs_background": "light"
     },
     "output_type": "display_data"
    }
   ],
   "source": [
    "# plot them\n",
    "plt.plot(np.zeros(n1),data1,'ro',markerfacecolor='w',markersize=14)\n",
    "plt.plot(np.ones(n2), data2,'bs',markerfacecolor='w',markersize=14)\n",
    "plt.xlim([-1,2])\n",
    "plt.xticks([0,1],labels=['Group 1','Group 2'])\n",
    "plt.show()"
   ]
  },
  {
   "cell_type": "code",
   "execution_count": 15,
   "metadata": {},
   "outputs": [
    {
     "data": {
      "text/plain": [
       "Ttest_indResult(statistic=1.6405776398931877, pvalue=0.1055031508245124)"
      ]
     },
     "execution_count": 15,
     "metadata": {},
     "output_type": "execute_result"
    }
   ],
   "source": [
    "stats.ttest_ind(data2,data1)"
   ]
  },
  {
   "cell_type": "code",
   "execution_count": 18,
   "metadata": {},
   "outputs": [],
   "source": [
    "# function (as a function)\n",
    "def fx(x):\n",
    "  return 3*x**2 - 3*x + 4\n",
    "\n",
    "# derivative function\n",
    "def deriv(x):\n",
    "  return 6*x - 3"
   ]
  },
  {
   "cell_type": "code",
   "execution_count": 19,
   "metadata": {},
   "outputs": [
    {
     "data": {
      "image/png": "[encoded data removed]",
      "text/plain": [
       "<Figure size 432x288 with 1 Axes>"
      ]
     },
     "metadata": {
      "needs_background": "light"
     },
     "output_type": "display_data"
    }
   ],
   "source": [
    "# plot the function and its derivative\n",
    "\n",
    "# define a range for x\n",
    "x = np.linspace(-2,2,2001)\n",
    "\n",
    "# plotting\n",
    "plt.plot(x,fx(x), x,deriv(x))\n",
    "plt.xlim(x[[0,-1]])\n",
    "plt.grid()\n",
    "plt.xlabel('x')\n",
    "plt.ylabel('f(x)')\n",
    "plt.legend(['y','dy'])\n",
    "plt.show()"
   ]
  },
  {
   "cell_type": "code",
   "execution_count": 335,
   "metadata": {},
   "outputs": [
    {
     "name": "stdout",
     "output_type": "stream",
     "text": [
      "[-0.362]\n"
     ]
    },
    {
     "data": {
      "text/plain": [
       "array([0.4982287])"
      ]
     },
     "execution_count": 335,
     "metadata": {},
     "output_type": "execute_result"
    }
   ],
   "source": [
    "# random starting point\n",
    "localmin = np.random.choice(x,1)\n",
    "print(localmin)\n",
    "\n",
    "# learning parameters\n",
    "learning_rate = 0.01\n",
    "training_epochs = 100\n",
    "\n",
    "# run through training\n",
    "for i in range(training_epochs):\n",
    "  grad = deriv(localmin)\n",
    "  localmin = localmin - learning_rate*grad\n",
    "\n",
    "localmin"
   ]
  },
  {
   "cell_type": "code",
   "execution_count": 409,
   "metadata": {},
   "outputs": [
    {
     "name": "stdout",
     "output_type": "stream",
     "text": [
      "[-0.66]\n"
     ]
    },
    {
     "data": {
      "text/plain": [
       "array([0.49983337])"
      ]
     },
     "execution_count": 409,
     "metadata": {},
     "output_type": "execute_result"
    }
   ],
   "source": [
    "# random starting point\n",
    "localmin = np.random.choice(x,1)\n",
    "print(localmin)\n",
    "\n",
    "# learning parameters\n",
    "learning_rate = 0.01\n",
    "\n",
    "grad = deriv(localmin)\n",
    "# run through training\n",
    "while abs(grad)>0.001:\n",
    "    localmin = localmin -  learning_rate*grad\n",
    "    grad = deriv(localmin)\n",
    "\n",
    "localmin"
   ]
  },
  {
   "cell_type": "code",
   "execution_count": 574,
   "metadata": {},
   "outputs": [],
   "source": [
    "# code challenge:\n",
    "def fx(x):\n",
    "    return np.cos(2*np.pi*x) + x**2\n",
    "def devx(x):\n",
    "    return -2*np.pi*np.sin(2*np.pi*x) + 2*x"
   ]
  },
  {
   "cell_type": "code",
   "execution_count": 575,
   "metadata": {},
   "outputs": [
    {
     "data": {
      "text/plain": [
       "[<matplotlib.lines.Line2D at 0x21642759f08>]"
      ]
     },
     "execution_count": 575,
     "metadata": {},
     "output_type": "execute_result"
    },
    {
     "data": {
      "image/png": "[encoded data removed]",
      "text/plain": [
       "<Figure size 432x288 with 1 Axes>"
      ]
     },
     "metadata": {
      "needs_background": "light"
     },
     "output_type": "display_data"
    }
   ],
   "source": [
    "plt.plot(x,fx(x), x,devx(x))\n",
    "plt.plot(x,np.zeros(2000))"
   ]
  },
  {
   "cell_type": "code",
   "execution_count": 576,
   "metadata": {},
   "outputs": [],
   "source": [
    "x = np.linspace(-2,2,2000)"
   ]
  },
  {
   "cell_type": "code",
   "execution_count": 577,
   "metadata": {},
   "outputs": [
    {
     "name": "stdout",
     "output_type": "stream",
     "text": [
      "the first random point is : -0.5772886443221612\n",
      "the estimated local minima is : -0.47580245102422175\n"
     ]
    }
   ],
   "source": [
    "point = np.random.choice(x)\n",
    "print(f'the first random point is : {point}')\n",
    "epoch=1000\n",
    "lr = 0.001\n",
    "\n",
    "for i in range(epoch):\n",
    "    grad = devx(point)\n",
    "    point = point - lr*grad\n",
    "    \n",
    "print(f'the estimated local minima is : {point}')\n",
    "    \n"
   ]
  },
  {
   "cell_type": "code",
   "execution_count": 602,
   "metadata": {},
   "outputs": [
    {
     "name": "stdout",
     "output_type": "stream",
     "text": [
      "the first random point is : x = 0\n",
      "the estimated local minima is : 0.0\n"
     ]
    }
   ],
   "source": [
    "point = 0\n",
    "print(f'the first random point is : x = 0')\n",
    "epoch=1000\n",
    "lr = 0.001\n",
    "\n",
    "for i in range(epoch):\n",
    "    grad = devx(point)\n",
    "    point = point - lr*grad\n",
    "    \n",
    "print(f'the estimated local minima is : {point}')\n",
    "    "
   ]
  },
  {
   "cell_type": "code",
   "execution_count": null,
   "metadata": {},
   "outputs": [],
   "source": []
  },
  {
   "cell_type": "code",
   "execution_count": 2,
   "metadata": {},
   "outputs": [],
   "source": [
    "# import all necessary modules\n",
    "import numpy as np\n",
    "import matplotlib.pyplot as plt\n",
    "import sympy as sym # sympy to compute the partial derivatives\n",
    "\n",
    "from IPython import display\n",
    "display.set_matplotlib_formats('svg')"
   ]
  },
  {
   "cell_type": "code",
   "execution_count": 3,
   "metadata": {},
   "outputs": [],
   "source": [
    "# the \"peaks\" function\n",
    "def peaks(x,y): # expand to a 2D mesh\n",
    "    x,y = np.meshgrid(x,y)\n",
    "    z = 3*(1-x)**2 * np.exp(-(x**2) - (y+1)**2) \\\n",
    "      - 10*(x/5 - x**3 - y**5) * np.exp(-x**2-y**2) \\\n",
    "      - 1/3*np.exp(-(x+1)**2 - y**2)\n",
    "    return z"
   ]
  },
  {
   "cell_type": "code",
   "execution_count": 4,
   "metadata": {},
   "outputs": [
    {
     "data": {
      "image/svg+xml": [
       "<?xml version=\"1.0\" encoding=\"utf-8\" standalone=\"no\"?>\r\n",
       "<!DOCTYPE svg PUBLIC \"-//W3C//DTD SVG 1.1//EN\"\r\n",
       "  \"http://www.w3.org/Graphics/SVG/1.1/DTD/svg11.dtd\">\r\n",
       "<!-- Created with matplotlib (https://matplotlib.org/) -->\r\n",
       "<svg height=\"252.317344pt\" version=\"1.1\" viewBox=\"0 0 256.763437 252.317344\" width=\"256.763437pt\" xmlns=\"http://www.w3.org/2000/svg\" xmlns:xlink=\"http://www.w3.org/1999/xlink\">\r\n",
       " <metadata>\r\n",
       "  <rdf:RDF xmlns:cc=\"http://creativecommons.org/ns#\" xmlns:dc=\"http://purl.org/dc/elements/1.1/\" xmlns:rdf=\"http://www.w3.org/1999/02/22-rdf-syntax-ns#\">\r\n",
       "   <cc:Work>\r\n",
       "    <dc:type rdf:resource=\"http://purl.org/dc/dcmitype/StillImage\"/>\r\n",
       "    <dc:date>2021-10-01T02:24:21.757450</dc:date>\r\n",
       "    <dc:format>image/svg+xml</dc:format>\r\n",
       "    <dc:creator>\r\n",
       "     <cc:Agent>\r\n",
       "      <dc:title>Matplotlib v3.3.4, https://matplotlib.org/</dc:title>\r\n",
       "     </cc:Agent>\r\n",
       "    </dc:creator>\r\n",
       "   </cc:Work>\r\n",
       "  </rdf:RDF>\r\n",
       " </metadata>\r\n",
       " <defs>\r\n",
       "  <style type=\"text/css\">*{stroke-linecap:butt;stroke-linejoin:round;}</style>\r\n",
       " </defs>\r\n",
       " <g id=\"figure_1\">\r\n",
       "  <g id=\"patch_1\">\r\n",
       "   <path d=\"M 0 252.317344 \r\n",
       "L 256.763437 252.317344 \r\n",
       "L 256.763437 0 \r\n",
       "L 0 0 \r\n",
       "z\r\n",
       "\" style=\"fill:none;\"/>\r\n",
       "  </g>\r\n",
       "  <g id=\"axes_1\">\r\n",
       "   <g id=\"patch_2\">\r\n",
       "    <path d=\"M 28.942188 228.439219 \r\n",
       "L 246.382188 228.439219 \r\n",
       "L 246.382188 10.999219 \r\n",
       "L 28.942188 10.999219 \r\n",
       "z\r\n",
       "\" style=\"fill:#ffffff;\"/>\r\n",
       "   </g>\r\n",
       "   <g clip-path=\"url(#p34887577a2)\">\r\n",
       "    <image height=\"218\" id=\"image75779bb210\" transform=\"scale(1 -1)translate(0 -218)\" width=\"218\" x=\"28.942188\" xlink:href=\"data:image/png;base64,\r\n",
       "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\" y=\"-10.439219\"/>\r\n",
       "   </g>\r\n",
       "   <g id=\"matplotlib.axis_1\">\r\n",
       "    <g id=\"xtick_1\">\r\n",
       "     <g id=\"line2d_1\">\r\n",
       "      <defs>\r\n",
       "       <path d=\"M 0 0 \r\n",
       "L 0 3.5 \r\n",
       "\" id=\"m27738ae320\" style=\"stroke:#000000;stroke-width:0.8;\"/>\r\n",
       "      </defs>\r\n",
       "      <g>\r\n",
       "       <use style=\"stroke:#000000;stroke-width:0.8;\" x=\"28.942188\" xlink:href=\"#m27738ae320\" y=\"228.439219\"/>\r\n",
       "      </g>\r\n",
       "     </g>\r\n",
       "     <g id=\"text_1\">\r\n",
       "      <!-- −3 -->\r\n",
       "      <g transform=\"translate(21.571094 243.037656)scale(0.1 -0.1)\">\r\n",
       "       <defs>\r\n",
       "        <path d=\"M 10.59375 35.5 \r\n",
       "L 73.1875 35.5 \r\n",
       "L 73.1875 27.203125 \r\n",
       "L 10.59375 27.203125 \r\n",
       "z\r\n",
       "\" id=\"DejaVuSans-8722\"/>\r\n",
       "        <path d=\"M 40.578125 39.3125 \r\n",
       "Q 47.65625 37.796875 51.625 33 \r\n",
       "Q 55.609375 28.21875 55.609375 21.1875 \r\n",
       "Q 55.609375 10.40625 48.1875 4.484375 \r\n",
       "Q 40.765625 -1.421875 27.09375 -1.421875 \r\n",
       "Q 22.515625 -1.421875 17.65625 -0.515625 \r\n",
       "Q 12.796875 0.390625 7.625 2.203125 \r\n",
       "L 7.625 11.71875 \r\n",
       "Q 11.71875 9.328125 16.59375 8.109375 \r\n",
       "Q 21.484375 6.890625 26.8125 6.890625 \r\n",
       "Q 36.078125 6.890625 40.9375 10.546875 \r\n",
       "Q 45.796875 14.203125 45.796875 21.1875 \r\n",
       "Q 45.796875 27.640625 41.28125 31.265625 \r\n",
       "Q 36.765625 34.90625 28.71875 34.90625 \r\n",
       "L 20.21875 34.90625 \r\n",
       "L 20.21875 43.015625 \r\n",
       "L 29.109375 43.015625 \r\n",
       "Q 36.375 43.015625 40.234375 45.921875 \r\n",
       "Q 44.09375 48.828125 44.09375 54.296875 \r\n",
       "Q 44.09375 59.90625 40.109375 62.90625 \r\n",
       "Q 36.140625 65.921875 28.71875 65.921875 \r\n",
       "Q 24.65625 65.921875 20.015625 65.03125 \r\n",
       "Q 15.375 64.15625 9.8125 62.3125 \r\n",
       "L 9.8125 71.09375 \r\n",
       "Q 15.4375 72.65625 20.34375 73.4375 \r\n",
       "Q 25.25 74.21875 29.59375 74.21875 \r\n",
       "Q 40.828125 74.21875 47.359375 69.109375 \r\n",
       "Q 53.90625 64.015625 53.90625 55.328125 \r\n",
       "Q 53.90625 49.265625 50.4375 45.09375 \r\n",
       "Q 46.96875 40.921875 40.578125 39.3125 \r\n",
       "z\r\n",
       "\" id=\"DejaVuSans-51\"/>\r\n",
       "       </defs>\r\n",
       "       <use xlink:href=\"#DejaVuSans-8722\"/>\r\n",
       "       <use x=\"83.789062\" xlink:href=\"#DejaVuSans-51\"/>\r\n",
       "      </g>\r\n",
       "     </g>\r\n",
       "    </g>\r\n",
       "    <g id=\"xtick_2\">\r\n",
       "     <g id=\"line2d_2\">\r\n",
       "      <g>\r\n",
       "       <use style=\"stroke:#000000;stroke-width:0.8;\" x=\"65.182188\" xlink:href=\"#m27738ae320\" y=\"228.439219\"/>\r\n",
       "      </g>\r\n",
       "     </g>\r\n",
       "     <g id=\"text_2\">\r\n",
       "      <!-- −2 -->\r\n",
       "      <g transform=\"translate(57.811094 243.037656)scale(0.1 -0.1)\">\r\n",
       "       <defs>\r\n",
       "        <path d=\"M 19.1875 8.296875 \r\n",
       "L 53.609375 8.296875 \r\n",
       "L 53.609375 0 \r\n",
       "L 7.328125 0 \r\n",
       "L 7.328125 8.296875 \r\n",
       "Q 12.9375 14.109375 22.625 23.890625 \r\n",
       "Q 32.328125 33.6875 34.8125 36.53125 \r\n",
       "Q 39.546875 41.84375 41.421875 45.53125 \r\n",
       "Q 43.3125 49.21875 43.3125 52.78125 \r\n",
       "Q 43.3125 58.59375 39.234375 62.25 \r\n",
       "Q 35.15625 65.921875 28.609375 65.921875 \r\n",
       "Q 23.96875 65.921875 18.8125 64.3125 \r\n",
       "Q 13.671875 62.703125 7.8125 59.421875 \r\n",
       "L 7.8125 69.390625 \r\n",
       "Q 13.765625 71.78125 18.9375 73 \r\n",
       "Q 24.125 74.21875 28.421875 74.21875 \r\n",
       "Q 39.75 74.21875 46.484375 68.546875 \r\n",
       "Q 53.21875 62.890625 53.21875 53.421875 \r\n",
       "Q 53.21875 48.921875 51.53125 44.890625 \r\n",
       "Q 49.859375 40.875 45.40625 35.40625 \r\n",
       "Q 44.1875 33.984375 37.640625 27.21875 \r\n",
       "Q 31.109375 20.453125 19.1875 8.296875 \r\n",
       "z\r\n",
       "\" id=\"DejaVuSans-50\"/>\r\n",
       "       </defs>\r\n",
       "       <use xlink:href=\"#DejaVuSans-8722\"/>\r\n",
       "       <use x=\"83.789062\" xlink:href=\"#DejaVuSans-50\"/>\r\n",
       "      </g>\r\n",
       "     </g>\r\n",
       "    </g>\r\n",
       "    <g id=\"xtick_3\">\r\n",
       "     <g id=\"line2d_3\">\r\n",
       "      <g>\r\n",
       "       <use style=\"stroke:#000000;stroke-width:0.8;\" x=\"101.422188\" xlink:href=\"#m27738ae320\" y=\"228.439219\"/>\r\n",
       "      </g>\r\n",
       "     </g>\r\n",
       "     <g id=\"text_3\">\r\n",
       "      <!-- −1 -->\r\n",
       "      <g transform=\"translate(94.051094 243.037656)scale(0.1 -0.1)\">\r\n",
       "       <defs>\r\n",
       "        <path d=\"M 12.40625 8.296875 \r\n",
       "L 28.515625 8.296875 \r\n",
       "L 28.515625 63.921875 \r\n",
       "L 10.984375 60.40625 \r\n",
       "L 10.984375 69.390625 \r\n",
       "L 28.421875 72.90625 \r\n",
       "L 38.28125 72.90625 \r\n",
       "L 38.28125 8.296875 \r\n",
       "L 54.390625 8.296875 \r\n",
       "L 54.390625 0 \r\n",
       "L 12.40625 0 \r\n",
       "z\r\n",
       "\" id=\"DejaVuSans-49\"/>\r\n",
       "       </defs>\r\n",
       "       <use xlink:href=\"#DejaVuSans-8722\"/>\r\n",
       "       <use x=\"83.789062\" xlink:href=\"#DejaVuSans-49\"/>\r\n",
       "      </g>\r\n",
       "     </g>\r\n",
       "    </g>\r\n",
       "    <g id=\"xtick_4\">\r\n",
       "     <g id=\"line2d_4\">\r\n",
       "      <g>\r\n",
       "       <use style=\"stroke:#000000;stroke-width:0.8;\" x=\"137.662188\" xlink:href=\"#m27738ae320\" y=\"228.439219\"/>\r\n",
       "      </g>\r\n",
       "     </g>\r\n",
       "     <g id=\"text_4\">\r\n",
       "      <!-- 0 -->\r\n",
       "      <g transform=\"translate(134.480938 243.037656)scale(0.1 -0.1)\">\r\n",
       "       <defs>\r\n",
       "        <path d=\"M 31.78125 66.40625 \r\n",
       "Q 24.171875 66.40625 20.328125 58.90625 \r\n",
       "Q 16.5 51.421875 16.5 36.375 \r\n",
       "Q 16.5 21.390625 20.328125 13.890625 \r\n",
       "Q 24.171875 6.390625 31.78125 6.390625 \r\n",
       "Q 39.453125 6.390625 43.28125 13.890625 \r\n",
       "Q 47.125 21.390625 47.125 36.375 \r\n",
       "Q 47.125 51.421875 43.28125 58.90625 \r\n",
       "Q 39.453125 66.40625 31.78125 66.40625 \r\n",
       "z\r\n",
       "M 31.78125 74.21875 \r\n",
       "Q 44.046875 74.21875 50.515625 64.515625 \r\n",
       "Q 56.984375 54.828125 56.984375 36.375 \r\n",
       "Q 56.984375 17.96875 50.515625 8.265625 \r\n",
       "Q 44.046875 -1.421875 31.78125 -1.421875 \r\n",
       "Q 19.53125 -1.421875 13.0625 8.265625 \r\n",
       "Q 6.59375 17.96875 6.59375 36.375 \r\n",
       "Q 6.59375 54.828125 13.0625 64.515625 \r\n",
       "Q 19.53125 74.21875 31.78125 74.21875 \r\n",
       "z\r\n",
       "\" id=\"DejaVuSans-48\"/>\r\n",
       "       </defs>\r\n",
       "       <use xlink:href=\"#DejaVuSans-48\"/>\r\n",
       "      </g>\r\n",
       "     </g>\r\n",
       "    </g>\r\n",
       "    <g id=\"xtick_5\">\r\n",
       "     <g id=\"line2d_5\">\r\n",
       "      <g>\r\n",
       "       <use style=\"stroke:#000000;stroke-width:0.8;\" x=\"173.902188\" xlink:href=\"#m27738ae320\" y=\"228.439219\"/>\r\n",
       "      </g>\r\n",
       "     </g>\r\n",
       "     <g id=\"text_5\">\r\n",
       "      <!-- 1 -->\r\n",
       "      <g transform=\"translate(170.720938 243.037656)scale(0.1 -0.1)\">\r\n",
       "       <use xlink:href=\"#DejaVuSans-49\"/>\r\n",
       "      </g>\r\n",
       "     </g>\r\n",
       "    </g>\r\n",
       "    <g id=\"xtick_6\">\r\n",
       "     <g id=\"line2d_6\">\r\n",
       "      <g>\r\n",
       "       <use style=\"stroke:#000000;stroke-width:0.8;\" x=\"210.142188\" xlink:href=\"#m27738ae320\" y=\"228.439219\"/>\r\n",
       "      </g>\r\n",
       "     </g>\r\n",
       "     <g id=\"text_6\">\r\n",
       "      <!-- 2 -->\r\n",
       "      <g transform=\"translate(206.960938 243.037656)scale(0.1 -0.1)\">\r\n",
       "       <use xlink:href=\"#DejaVuSans-50\"/>\r\n",
       "      </g>\r\n",
       "     </g>\r\n",
       "    </g>\r\n",
       "    <g id=\"xtick_7\">\r\n",
       "     <g id=\"line2d_7\">\r\n",
       "      <g>\r\n",
       "       <use style=\"stroke:#000000;stroke-width:0.8;\" x=\"246.382187\" xlink:href=\"#m27738ae320\" y=\"228.439219\"/>\r\n",
       "      </g>\r\n",
       "     </g>\r\n",
       "     <g id=\"text_7\">\r\n",
       "      <!-- 3 -->\r\n",
       "      <g transform=\"translate(243.200937 243.037656)scale(0.1 -0.1)\">\r\n",
       "       <use xlink:href=\"#DejaVuSans-51\"/>\r\n",
       "      </g>\r\n",
       "     </g>\r\n",
       "    </g>\r\n",
       "   </g>\r\n",
       "   <g id=\"matplotlib.axis_2\">\r\n",
       "    <g id=\"ytick_1\">\r\n",
       "     <g id=\"line2d_8\">\r\n",
       "      <defs>\r\n",
       "       <path d=\"M 0 0 \r\n",
       "L -3.5 0 \r\n",
       "\" id=\"m3f667be8b6\" style=\"stroke:#000000;stroke-width:0.8;\"/>\r\n",
       "      </defs>\r\n",
       "      <g>\r\n",
       "       <use style=\"stroke:#000000;stroke-width:0.8;\" x=\"28.942188\" xlink:href=\"#m3f667be8b6\" y=\"228.439219\"/>\r\n",
       "      </g>\r\n",
       "     </g>\r\n",
       "     <g id=\"text_8\">\r\n",
       "      <!-- −3 -->\r\n",
       "      <g transform=\"translate(7.2 232.238437)scale(0.1 -0.1)\">\r\n",
       "       <use xlink:href=\"#DejaVuSans-8722\"/>\r\n",
       "       <use x=\"83.789062\" xlink:href=\"#DejaVuSans-51\"/>\r\n",
       "      </g>\r\n",
       "     </g>\r\n",
       "    </g>\r\n",
       "    <g id=\"ytick_2\">\r\n",
       "     <g id=\"line2d_9\">\r\n",
       "      <g>\r\n",
       "       <use style=\"stroke:#000000;stroke-width:0.8;\" x=\"28.942188\" xlink:href=\"#m3f667be8b6\" y=\"192.199219\"/>\r\n",
       "      </g>\r\n",
       "     </g>\r\n",
       "     <g id=\"text_9\">\r\n",
       "      <!-- −2 -->\r\n",
       "      <g transform=\"translate(7.2 195.998437)scale(0.1 -0.1)\">\r\n",
       "       <use xlink:href=\"#DejaVuSans-8722\"/>\r\n",
       "       <use x=\"83.789062\" xlink:href=\"#DejaVuSans-50\"/>\r\n",
       "      </g>\r\n",
       "     </g>\r\n",
       "    </g>\r\n",
       "    <g id=\"ytick_3\">\r\n",
       "     <g id=\"line2d_10\">\r\n",
       "      <g>\r\n",
       "       <use style=\"stroke:#000000;stroke-width:0.8;\" x=\"28.942188\" xlink:href=\"#m3f667be8b6\" y=\"155.959219\"/>\r\n",
       "      </g>\r\n",
       "     </g>\r\n",
       "     <g id=\"text_10\">\r\n",
       "      <!-- −1 -->\r\n",
       "      <g transform=\"translate(7.2 159.758437)scale(0.1 -0.1)\">\r\n",
       "       <use xlink:href=\"#DejaVuSans-8722\"/>\r\n",
       "       <use x=\"83.789062\" xlink:href=\"#DejaVuSans-49\"/>\r\n",
       "      </g>\r\n",
       "     </g>\r\n",
       "    </g>\r\n",
       "    <g id=\"ytick_4\">\r\n",
       "     <g id=\"line2d_11\">\r\n",
       "      <g>\r\n",
       "       <use style=\"stroke:#000000;stroke-width:0.8;\" x=\"28.942188\" xlink:href=\"#m3f667be8b6\" y=\"119.719219\"/>\r\n",
       "      </g>\r\n",
       "     </g>\r\n",
       "     <g id=\"text_11\">\r\n",
       "      <!-- 0 -->\r\n",
       "      <g transform=\"translate(15.579688 123.518437)scale(0.1 -0.1)\">\r\n",
       "       <use xlink:href=\"#DejaVuSans-48\"/>\r\n",
       "      </g>\r\n",
       "     </g>\r\n",
       "    </g>\r\n",
       "    <g id=\"ytick_5\">\r\n",
       "     <g id=\"line2d_12\">\r\n",
       "      <g>\r\n",
       "       <use style=\"stroke:#000000;stroke-width:0.8;\" x=\"28.942188\" xlink:href=\"#m3f667be8b6\" y=\"83.479219\"/>\r\n",
       "      </g>\r\n",
       "     </g>\r\n",
       "     <g id=\"text_12\">\r\n",
       "      <!-- 1 -->\r\n",
       "      <g transform=\"translate(15.579688 87.278437)scale(0.1 -0.1)\">\r\n",
       "       <use xlink:href=\"#DejaVuSans-49\"/>\r\n",
       "      </g>\r\n",
       "     </g>\r\n",
       "    </g>\r\n",
       "    <g id=\"ytick_6\">\r\n",
       "     <g id=\"line2d_13\">\r\n",
       "      <g>\r\n",
       "       <use style=\"stroke:#000000;stroke-width:0.8;\" x=\"28.942188\" xlink:href=\"#m3f667be8b6\" y=\"47.239219\"/>\r\n",
       "      </g>\r\n",
       "     </g>\r\n",
       "     <g id=\"text_13\">\r\n",
       "      <!-- 2 -->\r\n",
       "      <g transform=\"translate(15.579688 51.038437)scale(0.1 -0.1)\">\r\n",
       "       <use xlink:href=\"#DejaVuSans-50\"/>\r\n",
       "      </g>\r\n",
       "     </g>\r\n",
       "    </g>\r\n",
       "    <g id=\"ytick_7\">\r\n",
       "     <g id=\"line2d_14\">\r\n",
       "      <g>\r\n",
       "       <use style=\"stroke:#000000;stroke-width:0.8;\" x=\"28.942188\" xlink:href=\"#m3f667be8b6\" y=\"10.999219\"/>\r\n",
       "      </g>\r\n",
       "     </g>\r\n",
       "     <g id=\"text_14\">\r\n",
       "      <!-- 3 -->\r\n",
       "      <g transform=\"translate(15.579688 14.798437)scale(0.1 -0.1)\">\r\n",
       "       <use xlink:href=\"#DejaVuSans-51\"/>\r\n",
       "      </g>\r\n",
       "     </g>\r\n",
       "    </g>\r\n",
       "   </g>\r\n",
       "   <g id=\"patch_3\">\r\n",
       "    <path d=\"M 28.942188 228.439219 \r\n",
       "L 28.942188 10.999219 \r\n",
       "\" style=\"fill:none;stroke:#000000;stroke-linecap:square;stroke-linejoin:miter;stroke-width:0.8;\"/>\r\n",
       "   </g>\r\n",
       "   <g id=\"patch_4\">\r\n",
       "    <path d=\"M 246.382188 228.439219 \r\n",
       "L 246.382188 10.999219 \r\n",
       "\" style=\"fill:none;stroke:#000000;stroke-linecap:square;stroke-linejoin:miter;stroke-width:0.8;\"/>\r\n",
       "   </g>\r\n",
       "   <g id=\"patch_5\">\r\n",
       "    <path d=\"M 28.942188 228.439219 \r\n",
       "L 246.382187 228.439219 \r\n",
       "\" style=\"fill:none;stroke:#000000;stroke-linecap:square;stroke-linejoin:miter;stroke-width:0.8;\"/>\r\n",
       "   </g>\r\n",
       "   <g id=\"patch_6\">\r\n",
       "    <path d=\"M 28.942188 10.999219 \r\n",
       "L 246.382187 10.999219 \r\n",
       "\" style=\"fill:none;stroke:#000000;stroke-linecap:square;stroke-linejoin:miter;stroke-width:0.8;\"/>\r\n",
       "   </g>\r\n",
       "  </g>\r\n",
       " </g>\r\n",
       " <defs>\r\n",
       "  <clipPath id=\"p34887577a2\">\r\n",
       "   <rect height=\"217.44\" width=\"217.44\" x=\"28.942188\" y=\"10.999219\"/>\r\n",
       "  </clipPath>\r\n",
       " </defs>\r\n",
       "</svg>\r\n"
      ],
      "text/plain": [
       "<Figure size 432x288 with 1 Axes>"
      ]
     },
     "metadata": {
      "needs_background": "light"
     },
     "output_type": "display_data"
    }
   ],
   "source": [
    "# create the landscape\n",
    "x = np.linspace(-3,3,201)\n",
    "y = np.linspace(-3,3,201)\n",
    "\n",
    "Z = peaks(x,y)\n",
    "\n",
    "# let's have a look!\n",
    "plt.imshow(Z,extent=[x[0],x[-1],y[0],y[-1]],vmin=-5,vmax=5,origin='lower')\n",
    "plt.show()"
   ]
  },
  {
   "cell_type": "code",
   "execution_count": 5,
   "metadata": {},
   "outputs": [
    {
     "data": {
      "text/latex": [
       "$\\displaystyle -1.07369833656079$"
      ],
      "text/plain": [
       "-1.07369833656079"
      ]
     },
     "execution_count": 5,
     "metadata": {},
     "output_type": "execute_result"
    }
   ],
   "source": [
    "# create derivative functions using sympy\n",
    "\n",
    "sx,sy = sym.symbols('sx,sy')\n",
    "\n",
    "sZ = 3*(1-sx)**2 * sym.exp(-(sx**2) - (sy+1)**2) \\\n",
    "      - 10*(sx/5 - sx**3 - sy**5) * sym.exp(-sx**2-sy**2) \\\n",
    "      - 1/3*sym.exp(-(sx+1)**2 - sy**2)\n",
    "\n",
    "\n",
    "# create functions from the sympy-computed derivatives\n",
    "df_x = sym.lambdify( (sx,sy),sym.diff(sZ,sx),'sympy' )\n",
    "df_y = sym.lambdify( (sx,sy),sym.diff(sZ,sy),'sympy' )\n",
    "\n",
    "df_x(1,1).evalf()"
   ]
  },
  {
   "cell_type": "code",
   "execution_count": 10,
   "metadata": {},
   "outputs": [
    {
     "name": "stdout",
     "output_type": "stream",
     "text": [
      "[1.28798371996445 -0.0555059121403340]\n",
      "[ 1.56346782 -1.60759258]\n"
     ]
    }
   ],
   "source": [
    "# random starting point (uniform between -2 and +2)\n",
    "localmin = np.random.rand(2)*4-2 # also try specifying coordinates\n",
    "\n",
    "startpnt = localmin[:] # make a copy, not re-assign\n",
    "\n",
    "# learning parameters\n",
    "learning_rate = .001\n",
    "\n",
    "training_epochs = 1000\n",
    "\n",
    "# run through training\n",
    "trajectory = np.zeros((training_epochs,2))\n",
    "for i in range(training_epochs):\n",
    "  grad = np.array([ df_x(localmin[0],localmin[1]).evalf(), \n",
    "                    df_y(localmin[0],localmin[1]).evalf() \n",
    "                  ])\n",
    "  localmin = localmin + learning_rate*grad  # add _ or [:] to change a variable in-place\n",
    "  trajectory[i,:] = localmin\n",
    "\n",
    "\n",
    "print(localmin)\n",
    "print(startpnt)"
   ]
  },
  {
   "cell_type": "code",
   "execution_count": 11,
   "metadata": {},
   "outputs": [
    {
     "data": {
      "image/svg+xml": [
       "<?xml version=\"1.0\" encoding=\"utf-8\" standalone=\"no\"?>\r\n",
       "<!DOCTYPE svg PUBLIC \"-//W3C//DTD SVG 1.1//EN\"\r\n",
       "  \"http://www.w3.org/Graphics/SVG/1.1/DTD/svg11.dtd\">\r\n",
       "<!-- Created with matplotlib (https://matplotlib.org/) -->\r\n",
       "<svg height=\"252.317344pt\" version=\"1.1\" viewBox=\"0 0 302.936375 252.317344\" width=\"302.936375pt\" xmlns=\"http://www.w3.org/2000/svg\" xmlns:xlink=\"http://www.w3.org/1999/xlink\">\r\n",
       " <metadata>\r\n",
       "  <rdf:RDF xmlns:cc=\"http://creativecommons.org/ns#\" xmlns:dc=\"http://purl.org/dc/elements/1.1/\" xmlns:rdf=\"http://www.w3.org/1999/02/22-rdf-syntax-ns#\">\r\n",
       "   <cc:Work>\r\n",
       "    <dc:type rdf:resource=\"http://purl.org/dc/dcmitype/StillImage\"/>\r\n",
       "    <dc:date>2021-10-01T02:34:21.875222</dc:date>\r\n",
       "    <dc:format>image/svg+xml</dc:format>\r\n",
       "    <dc:creator>\r\n",
       "     <cc:Agent>\r\n",
       "      <dc:title>Matplotlib v3.3.4, https://matplotlib.org/</dc:title>\r\n",
       "     </cc:Agent>\r\n",
       "    </dc:creator>\r\n",
       "   </cc:Work>\r\n",
       "  </rdf:RDF>\r\n",
       " </metadata>\r\n",
       " <defs>\r\n",
       "  <style type=\"text/css\">*{stroke-linecap:butt;stroke-linejoin:round;}</style>\r\n",
       " </defs>\r\n",
       " <g id=\"figure_1\">\r\n",
       "  <g id=\"patch_1\">\r\n",
       "   <path d=\"M 0 252.317344 \r\n",
       "L 302.936375 252.317344 \r\n",
       "L 302.936375 0 \r\n",
       "L 0 0 \r\n",
       "z\r\n",
       "\" style=\"fill:none;\"/>\r\n",
       "  </g>\r\n",
       "  <g id=\"axes_1\">\r\n",
       "   <g id=\"patch_2\">\r\n",
       "    <path d=\"M 28.942188 228.439219 \r\n",
       "L 246.382187 228.439219 \r\n",
       "L 246.382187 10.999219 \r\n",
       "L 28.942188 10.999219 \r\n",
       "z\r\n",
       "\" style=\"fill:#ffffff;\"/>\r\n",
       "   </g>\r\n",
       "   <g clip-path=\"url(#p0657fed239)\">\r\n",
       "    <image height=\"218\" id=\"image66fb5cc18c\" transform=\"scale(1 -1)translate(0 -218)\" width=\"218\" x=\"28.942188\" xlink:href=\"data:image/png;base64,\r\n",
       "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\" y=\"-10.439219\"/>\r\n",
       "   </g>\r\n",
       "   <g id=\"matplotlib.axis_1\">\r\n",
       "    <g id=\"xtick_1\">\r\n",
       "     <g id=\"line2d_1\">\r\n",
       "      <defs>\r\n",
       "       <path d=\"M 0 0 \r\n",
       "L 0 3.5 \r\n",
       "\" id=\"m985d2789d5\" style=\"stroke:#000000;stroke-width:0.8;\"/>\r\n",
       "      </defs>\r\n",
       "      <g>\r\n",
       "       <use style=\"stroke:#000000;stroke-width:0.8;\" x=\"28.942188\" xlink:href=\"#m985d2789d5\" y=\"228.439219\"/>\r\n",
       "      </g>\r\n",
       "     </g>\r\n",
       "     <g id=\"text_1\">\r\n",
       "      <!-- −3 -->\r\n",
       "      <g transform=\"translate(21.571094 243.037656)scale(0.1 -0.1)\">\r\n",
       "       <defs>\r\n",
       "        <path d=\"M 10.59375 35.5 \r\n",
       "L 73.1875 35.5 \r\n",
       "L 73.1875 27.203125 \r\n",
       "L 10.59375 27.203125 \r\n",
       "z\r\n",
       "\" id=\"DejaVuSans-8722\"/>\r\n",
       "        <path d=\"M 40.578125 39.3125 \r\n",
       "Q 47.65625 37.796875 51.625 33 \r\n",
       "Q 55.609375 28.21875 55.609375 21.1875 \r\n",
       "Q 55.609375 10.40625 48.1875 4.484375 \r\n",
       "Q 40.765625 -1.421875 27.09375 -1.421875 \r\n",
       "Q 22.515625 -1.421875 17.65625 -0.515625 \r\n",
       "Q 12.796875 0.390625 7.625 2.203125 \r\n",
       "L 7.625 11.71875 \r\n",
       "Q 11.71875 9.328125 16.59375 8.109375 \r\n",
       "Q 21.484375 6.890625 26.8125 6.890625 \r\n",
       "Q 36.078125 6.890625 40.9375 10.546875 \r\n",
       "Q 45.796875 14.203125 45.796875 21.1875 \r\n",
       "Q 45.796875 27.640625 41.28125 31.265625 \r\n",
       "Q 36.765625 34.90625 28.71875 34.90625 \r\n",
       "L 20.21875 34.90625 \r\n",
       "L 20.21875 43.015625 \r\n",
       "L 29.109375 43.015625 \r\n",
       "Q 36.375 43.015625 40.234375 45.921875 \r\n",
       "Q 44.09375 48.828125 44.09375 54.296875 \r\n",
       "Q 44.09375 59.90625 40.109375 62.90625 \r\n",
       "Q 36.140625 65.921875 28.71875 65.921875 \r\n",
       "Q 24.65625 65.921875 20.015625 65.03125 \r\n",
       "Q 15.375 64.15625 9.8125 62.3125 \r\n",
       "L 9.8125 71.09375 \r\n",
       "Q 15.4375 72.65625 20.34375 73.4375 \r\n",
       "Q 25.25 74.21875 29.59375 74.21875 \r\n",
       "Q 40.828125 74.21875 47.359375 69.109375 \r\n",
       "Q 53.90625 64.015625 53.90625 55.328125 \r\n",
       "Q 53.90625 49.265625 50.4375 45.09375 \r\n",
       "Q 46.96875 40.921875 40.578125 39.3125 \r\n",
       "z\r\n",
       "\" id=\"DejaVuSans-51\"/>\r\n",
       "       </defs>\r\n",
       "       <use xlink:href=\"#DejaVuSans-8722\"/>\r\n",
       "       <use x=\"83.789062\" xlink:href=\"#DejaVuSans-51\"/>\r\n",
       "      </g>\r\n",
       "     </g>\r\n",
       "    </g>\r\n",
       "    <g id=\"xtick_2\">\r\n",
       "     <g id=\"line2d_2\">\r\n",
       "      <g>\r\n",
       "       <use style=\"stroke:#000000;stroke-width:0.8;\" x=\"65.182188\" xlink:href=\"#m985d2789d5\" y=\"228.439219\"/>\r\n",
       "      </g>\r\n",
       "     </g>\r\n",
       "     <g id=\"text_2\">\r\n",
       "      <!-- −2 -->\r\n",
       "      <g transform=\"translate(57.811094 243.037656)scale(0.1 -0.1)\">\r\n",
       "       <defs>\r\n",
       "        <path d=\"M 19.1875 8.296875 \r\n",
       "L 53.609375 8.296875 \r\n",
       "L 53.609375 0 \r\n",
       "L 7.328125 0 \r\n",
       "L 7.328125 8.296875 \r\n",
       "Q 12.9375 14.109375 22.625 23.890625 \r\n",
       "Q 32.328125 33.6875 34.8125 36.53125 \r\n",
       "Q 39.546875 41.84375 41.421875 45.53125 \r\n",
       "Q 43.3125 49.21875 43.3125 52.78125 \r\n",
       "Q 43.3125 58.59375 39.234375 62.25 \r\n",
       "Q 35.15625 65.921875 28.609375 65.921875 \r\n",
       "Q 23.96875 65.921875 18.8125 64.3125 \r\n",
       "Q 13.671875 62.703125 7.8125 59.421875 \r\n",
       "L 7.8125 69.390625 \r\n",
       "Q 13.765625 71.78125 18.9375 73 \r\n",
       "Q 24.125 74.21875 28.421875 74.21875 \r\n",
       "Q 39.75 74.21875 46.484375 68.546875 \r\n",
       "Q 53.21875 62.890625 53.21875 53.421875 \r\n",
       "Q 53.21875 48.921875 51.53125 44.890625 \r\n",
       "Q 49.859375 40.875 45.40625 35.40625 \r\n",
       "Q 44.1875 33.984375 37.640625 27.21875 \r\n",
       "Q 31.109375 20.453125 19.1875 8.296875 \r\n",
       "z\r\n",
       "\" id=\"DejaVuSans-50\"/>\r\n",
       "       </defs>\r\n",
       "       <use xlink:href=\"#DejaVuSans-8722\"/>\r\n",
       "       <use x=\"83.789062\" xlink:href=\"#DejaVuSans-50\"/>\r\n",
       "      </g>\r\n",
       "     </g>\r\n",
       "    </g>\r\n",
       "    <g id=\"xtick_3\">\r\n",
       "     <g id=\"line2d_3\">\r\n",
       "      <g>\r\n",
       "       <use style=\"stroke:#000000;stroke-width:0.8;\" x=\"101.422188\" xlink:href=\"#m985d2789d5\" y=\"228.439219\"/>\r\n",
       "      </g>\r\n",
       "     </g>\r\n",
       "     <g id=\"text_3\">\r\n",
       "      <!-- −1 -->\r\n",
       "      <g transform=\"translate(94.051094 243.037656)scale(0.1 -0.1)\">\r\n",
       "       <defs>\r\n",
       "        <path d=\"M 12.40625 8.296875 \r\n",
       "L 28.515625 8.296875 \r\n",
       "L 28.515625 63.921875 \r\n",
       "L 10.984375 60.40625 \r\n",
       "L 10.984375 69.390625 \r\n",
       "L 28.421875 72.90625 \r\n",
       "L 38.28125 72.90625 \r\n",
       "L 38.28125 8.296875 \r\n",
       "L 54.390625 8.296875 \r\n",
       "L 54.390625 0 \r\n",
       "L 12.40625 0 \r\n",
       "z\r\n",
       "\" id=\"DejaVuSans-49\"/>\r\n",
       "       </defs>\r\n",
       "       <use xlink:href=\"#DejaVuSans-8722\"/>\r\n",
       "       <use x=\"83.789062\" xlink:href=\"#DejaVuSans-49\"/>\r\n",
       "      </g>\r\n",
       "     </g>\r\n",
       "    </g>\r\n",
       "    <g id=\"xtick_4\">\r\n",
       "     <g id=\"line2d_4\">\r\n",
       "      <g>\r\n",
       "       <use style=\"stroke:#000000;stroke-width:0.8;\" x=\"137.662188\" xlink:href=\"#m985d2789d5\" y=\"228.439219\"/>\r\n",
       "      </g>\r\n",
       "     </g>\r\n",
       "     <g id=\"text_4\">\r\n",
       "      <!-- 0 -->\r\n",
       "      <g transform=\"translate(134.480938 243.037656)scale(0.1 -0.1)\">\r\n",
       "       <defs>\r\n",
       "        <path d=\"M 31.78125 66.40625 \r\n",
       "Q 24.171875 66.40625 20.328125 58.90625 \r\n",
       "Q 16.5 51.421875 16.5 36.375 \r\n",
       "Q 16.5 21.390625 20.328125 13.890625 \r\n",
       "Q 24.171875 6.390625 31.78125 6.390625 \r\n",
       "Q 39.453125 6.390625 43.28125 13.890625 \r\n",
       "Q 47.125 21.390625 47.125 36.375 \r\n",
       "Q 47.125 51.421875 43.28125 58.90625 \r\n",
       "Q 39.453125 66.40625 31.78125 66.40625 \r\n",
       "z\r\n",
       "M 31.78125 74.21875 \r\n",
       "Q 44.046875 74.21875 50.515625 64.515625 \r\n",
       "Q 56.984375 54.828125 56.984375 36.375 \r\n",
       "Q 56.984375 17.96875 50.515625 8.265625 \r\n",
       "Q 44.046875 -1.421875 31.78125 -1.421875 \r\n",
       "Q 19.53125 -1.421875 13.0625 8.265625 \r\n",
       "Q 6.59375 17.96875 6.59375 36.375 \r\n",
       "Q 6.59375 54.828125 13.0625 64.515625 \r\n",
       "Q 19.53125 74.21875 31.78125 74.21875 \r\n",
       "z\r\n",
       "\" id=\"DejaVuSans-48\"/>\r\n",
       "       </defs>\r\n",
       "       <use xlink:href=\"#DejaVuSans-48\"/>\r\n",
       "      </g>\r\n",
       "     </g>\r\n",
       "    </g>\r\n",
       "    <g id=\"xtick_5\">\r\n",
       "     <g id=\"line2d_5\">\r\n",
       "      <g>\r\n",
       "       <use style=\"stroke:#000000;stroke-width:0.8;\" x=\"173.902188\" xlink:href=\"#m985d2789d5\" y=\"228.439219\"/>\r\n",
       "      </g>\r\n",
       "     </g>\r\n",
       "     <g id=\"text_5\">\r\n",
       "      <!-- 1 -->\r\n",
       "      <g transform=\"translate(170.720938 243.037656)scale(0.1 -0.1)\">\r\n",
       "       <use xlink:href=\"#DejaVuSans-49\"/>\r\n",
       "      </g>\r\n",
       "     </g>\r\n",
       "    </g>\r\n",
       "    <g id=\"xtick_6\">\r\n",
       "     <g id=\"line2d_6\">\r\n",
       "      <g>\r\n",
       "       <use style=\"stroke:#000000;stroke-width:0.8;\" x=\"210.142188\" xlink:href=\"#m985d2789d5\" y=\"228.439219\"/>\r\n",
       "      </g>\r\n",
       "     </g>\r\n",
       "     <g id=\"text_6\">\r\n",
       "      <!-- 2 -->\r\n",
       "      <g transform=\"translate(206.960938 243.037656)scale(0.1 -0.1)\">\r\n",
       "       <use xlink:href=\"#DejaVuSans-50\"/>\r\n",
       "      </g>\r\n",
       "     </g>\r\n",
       "    </g>\r\n",
       "    <g id=\"xtick_7\">\r\n",
       "     <g id=\"line2d_7\">\r\n",
       "      <g>\r\n",
       "       <use style=\"stroke:#000000;stroke-width:0.8;\" x=\"246.382187\" xlink:href=\"#m985d2789d5\" y=\"228.439219\"/>\r\n",
       "      </g>\r\n",
       "     </g>\r\n",
       "     <g id=\"text_7\">\r\n",
       "      <!-- 3 -->\r\n",
       "      <g transform=\"translate(243.200937 243.037656)scale(0.1 -0.1)\">\r\n",
       "       <use xlink:href=\"#DejaVuSans-51\"/>\r\n",
       "      </g>\r\n",
       "     </g>\r\n",
       "    </g>\r\n",
       "   </g>\r\n",
       "   <g id=\"matplotlib.axis_2\">\r\n",
       "    <g id=\"ytick_1\">\r\n",
       "     <g id=\"line2d_8\">\r\n",
       "      <defs>\r\n",
       "       <path d=\"M 0 0 \r\n",
       "L -3.5 0 \r\n",
       "\" id=\"m4a11c377ba\" style=\"stroke:#000000;stroke-width:0.8;\"/>\r\n",
       "      </defs>\r\n",
       "      <g>\r\n",
       "       <use style=\"stroke:#000000;stroke-width:0.8;\" x=\"28.942188\" xlink:href=\"#m4a11c377ba\" y=\"228.439219\"/>\r\n",
       "      </g>\r\n",
       "     </g>\r\n",
       "     <g id=\"text_8\">\r\n",
       "      <!-- −3 -->\r\n",
       "      <g transform=\"translate(7.2 232.238437)scale(0.1 -0.1)\">\r\n",
       "       <use xlink:href=\"#DejaVuSans-8722\"/>\r\n",
       "       <use x=\"83.789062\" xlink:href=\"#DejaVuSans-51\"/>\r\n",
       "      </g>\r\n",
       "     </g>\r\n",
       "    </g>\r\n",
       "    <g id=\"ytick_2\">\r\n",
       "     <g id=\"line2d_9\">\r\n",
       "      <g>\r\n",
       "       <use style=\"stroke:#000000;stroke-width:0.8;\" x=\"28.942188\" xlink:href=\"#m4a11c377ba\" y=\"192.199219\"/>\r\n",
       "      </g>\r\n",
       "     </g>\r\n",
       "     <g id=\"text_9\">\r\n",
       "      <!-- −2 -->\r\n",
       "      <g transform=\"translate(7.2 195.998437)scale(0.1 -0.1)\">\r\n",
       "       <use xlink:href=\"#DejaVuSans-8722\"/>\r\n",
       "       <use x=\"83.789062\" xlink:href=\"#DejaVuSans-50\"/>\r\n",
       "      </g>\r\n",
       "     </g>\r\n",
       "    </g>\r\n",
       "    <g id=\"ytick_3\">\r\n",
       "     <g id=\"line2d_10\">\r\n",
       "      <g>\r\n",
       "       <use style=\"stroke:#000000;stroke-width:0.8;\" x=\"28.942188\" xlink:href=\"#m4a11c377ba\" y=\"155.959219\"/>\r\n",
       "      </g>\r\n",
       "     </g>\r\n",
       "     <g id=\"text_10\">\r\n",
       "      <!-- −1 -->\r\n",
       "      <g transform=\"translate(7.2 159.758437)scale(0.1 -0.1)\">\r\n",
       "       <use xlink:href=\"#DejaVuSans-8722\"/>\r\n",
       "       <use x=\"83.789062\" xlink:href=\"#DejaVuSans-49\"/>\r\n",
       "      </g>\r\n",
       "     </g>\r\n",
       "    </g>\r\n",
       "    <g id=\"ytick_4\">\r\n",
       "     <g id=\"line2d_11\">\r\n",
       "      <g>\r\n",
       "       <use style=\"stroke:#000000;stroke-width:0.8;\" x=\"28.942188\" xlink:href=\"#m4a11c377ba\" y=\"119.719219\"/>\r\n",
       "      </g>\r\n",
       "     </g>\r\n",
       "     <g id=\"text_11\">\r\n",
       "      <!-- 0 -->\r\n",
       "      <g transform=\"translate(15.579688 123.518437)scale(0.1 -0.1)\">\r\n",
       "       <use xlink:href=\"#DejaVuSans-48\"/>\r\n",
       "      </g>\r\n",
       "     </g>\r\n",
       "    </g>\r\n",
       "    <g id=\"ytick_5\">\r\n",
       "     <g id=\"line2d_12\">\r\n",
       "      <g>\r\n",
       "       <use style=\"stroke:#000000;stroke-width:0.8;\" x=\"28.942188\" xlink:href=\"#m4a11c377ba\" y=\"83.479219\"/>\r\n",
       "      </g>\r\n",
       "     </g>\r\n",
       "     <g id=\"text_12\">\r\n",
       "      <!-- 1 -->\r\n",
       "      <g transform=\"translate(15.579688 87.278437)scale(0.1 -0.1)\">\r\n",
       "       <use xlink:href=\"#DejaVuSans-49\"/>\r\n",
       "      </g>\r\n",
       "     </g>\r\n",
       "    </g>\r\n",
       "    <g id=\"ytick_6\">\r\n",
       "     <g id=\"line2d_13\">\r\n",
       "      <g>\r\n",
       "       <use style=\"stroke:#000000;stroke-width:0.8;\" x=\"28.942188\" xlink:href=\"#m4a11c377ba\" y=\"47.239219\"/>\r\n",
       "      </g>\r\n",
       "     </g>\r\n",
       "     <g id=\"text_13\">\r\n",
       "      <!-- 2 -->\r\n",
       "      <g transform=\"translate(15.579688 51.038437)scale(0.1 -0.1)\">\r\n",
       "       <use xlink:href=\"#DejaVuSans-50\"/>\r\n",
       "      </g>\r\n",
       "     </g>\r\n",
       "    </g>\r\n",
       "    <g id=\"ytick_7\">\r\n",
       "     <g id=\"line2d_14\">\r\n",
       "      <g>\r\n",
       "       <use style=\"stroke:#000000;stroke-width:0.8;\" x=\"28.942188\" xlink:href=\"#m4a11c377ba\" y=\"10.999219\"/>\r\n",
       "      </g>\r\n",
       "     </g>\r\n",
       "     <g id=\"text_14\">\r\n",
       "      <!-- 3 -->\r\n",
       "      <g transform=\"translate(15.579688 14.798437)scale(0.1 -0.1)\">\r\n",
       "       <use xlink:href=\"#DejaVuSans-51\"/>\r\n",
       "      </g>\r\n",
       "     </g>\r\n",
       "    </g>\r\n",
       "   </g>\r\n",
       "   <g id=\"line2d_15\">\r\n",
       "    <defs>\r\n",
       "     <path d=\"M -3 3 \r\n",
       "L 3 3 \r\n",
       "L 3 -3 \r\n",
       "L -3 -3 \r\n",
       "z\r\n",
       "\" id=\"m6fb87d13cf\" style=\"stroke:#0000ff;stroke-linejoin:miter;\"/>\r\n",
       "    </defs>\r\n",
       "    <g clip-path=\"url(#p0657fed239)\">\r\n",
       "     <use style=\"fill:#0000ff;stroke:#0000ff;stroke-linejoin:miter;\" x=\"194.322261\" xlink:href=\"#m6fb87d13cf\" y=\"177.978374\"/>\r\n",
       "    </g>\r\n",
       "   </g>\r\n",
       "   <g id=\"line2d_16\">\r\n",
       "    <defs>\r\n",
       "     <path d=\"M 0 3 \r\n",
       "C 0.795609 3 1.55874 2.683901 2.12132 2.12132 \r\n",
       "C 2.683901 1.55874 3 0.795609 3 0 \r\n",
       "C 3 -0.795609 2.683901 -1.55874 2.12132 -2.12132 \r\n",
       "C 1.55874 -2.683901 0.795609 -3 0 -3 \r\n",
       "C -0.795609 -3 -1.55874 -2.683901 -2.12132 -2.12132 \r\n",
       "C -2.683901 -1.55874 -3 -0.795609 -3 0 \r\n",
       "C -3 0.795609 -2.683901 1.55874 -2.12132 2.12132 \r\n",
       "C -1.55874 2.683901 -0.795609 3 0 3 \r\n",
       "z\r\n",
       "\" id=\"m0b80e1477d\" style=\"stroke:#ff0000;\"/>\r\n",
       "    </defs>\r\n",
       "    <g clip-path=\"url(#p0657fed239)\">\r\n",
       "     <use style=\"fill:#ff0000;stroke:#ff0000;\" x=\"184.338718\" xlink:href=\"#m0b80e1477d\" y=\"121.730753\"/>\r\n",
       "    </g>\r\n",
       "   </g>\r\n",
       "   <g id=\"line2d_17\">\r\n",
       "    <path clip-path=\"url(#p0657fed239)\" d=\"M 194.393689 177.951767 \r\n",
       "L 196.391353 177.088648 \r\n",
       "L 198.129371 176.099039 \r\n",
       "L 199.589461 175.012819 \r\n",
       "L 200.80807 173.826996 \r\n",
       "L 201.783841 172.570178 \r\n",
       "L 202.565628 171.196519 \r\n",
       "L 203.141511 169.729872 \r\n",
       "L 203.520044 168.155295 \r\n",
       "L 203.700238 166.453505 \r\n",
       "L 203.671763 164.600177 \r\n",
       "L 203.41439 162.565107 \r\n",
       "L 202.897061 160.311594 \r\n",
       "L 202.104805 157.87073 \r\n",
       "L 200.980171 155.141671 \r\n",
       "L 199.477873 152.090511 \r\n",
       "L 197.458022 148.509515 \r\n",
       "L 194.50622 143.772606 \r\n",
       "L 188.939846 134.922179 \r\n",
       "L 187.225656 131.715123 \r\n",
       "L 186.064057 129.08414 \r\n",
       "L 185.247251 126.700071 \r\n",
       "L 184.694262 124.405923 \r\n",
       "L 184.370465 122.103454 \r\n",
       "L 184.338718 121.730753 \r\n",
       "L 184.338718 121.730753 \r\n",
       "\" style=\"fill:none;stroke:#ff0000;stroke-linecap:square;stroke-width:1.5;\"/>\r\n",
       "   </g>\r\n",
       "   <g id=\"patch_3\">\r\n",
       "    <path d=\"M 28.942188 228.439219 \r\n",
       "L 28.942188 10.999219 \r\n",
       "\" style=\"fill:none;stroke:#000000;stroke-linecap:square;stroke-linejoin:miter;stroke-width:0.8;\"/>\r\n",
       "   </g>\r\n",
       "   <g id=\"patch_4\">\r\n",
       "    <path d=\"M 246.382187 228.439219 \r\n",
       "L 246.382187 10.999219 \r\n",
       "\" style=\"fill:none;stroke:#000000;stroke-linecap:square;stroke-linejoin:miter;stroke-width:0.8;\"/>\r\n",
       "   </g>\r\n",
       "   <g id=\"patch_5\">\r\n",
       "    <path d=\"M 28.942188 228.439219 \r\n",
       "L 246.382187 228.439219 \r\n",
       "\" style=\"fill:none;stroke:#000000;stroke-linecap:square;stroke-linejoin:miter;stroke-width:0.8;\"/>\r\n",
       "   </g>\r\n",
       "   <g id=\"patch_6\">\r\n",
       "    <path d=\"M 28.942188 10.999219 \r\n",
       "L 246.382187 10.999219 \r\n",
       "\" style=\"fill:none;stroke:#000000;stroke-linecap:square;stroke-linejoin:miter;stroke-width:0.8;\"/>\r\n",
       "   </g>\r\n",
       "   <g id=\"legend_1\">\r\n",
       "    <g id=\"patch_7\">\r\n",
       "     <path d=\"M 159.115 48.355469 \r\n",
       "L 239.382188 48.355469 \r\n",
       "Q 241.382188 48.355469 241.382188 46.355469 \r\n",
       "L 241.382188 17.999219 \r\n",
       "Q 241.382188 15.999219 239.382188 15.999219 \r\n",
       "L 159.115 15.999219 \r\n",
       "Q 157.115 15.999219 157.115 17.999219 \r\n",
       "L 157.115 46.355469 \r\n",
       "Q 157.115 48.355469 159.115 48.355469 \r\n",
       "z\r\n",
       "\" style=\"fill:#ffffff;opacity:0.8;stroke:#cccccc;stroke-linejoin:miter;\"/>\r\n",
       "    </g>\r\n",
       "    <g id=\"line2d_18\"/>\r\n",
       "    <g id=\"line2d_19\">\r\n",
       "     <g>\r\n",
       "      <use style=\"fill:#0000ff;stroke:#0000ff;stroke-linejoin:miter;\" x=\"171.115\" xlink:href=\"#m6fb87d13cf\" y=\"24.097656\"/>\r\n",
       "     </g>\r\n",
       "    </g>\r\n",
       "    <g id=\"text_15\">\r\n",
       "     <!-- rnd start -->\r\n",
       "     <g transform=\"translate(189.115 27.597656)scale(0.1 -0.1)\">\r\n",
       "      <defs>\r\n",
       "       <path d=\"M 41.109375 46.296875 \r\n",
       "Q 39.59375 47.171875 37.8125 47.578125 \r\n",
       "Q 36.03125 48 33.890625 48 \r\n",
       "Q 26.265625 48 22.1875 43.046875 \r\n",
       "Q 18.109375 38.09375 18.109375 28.8125 \r\n",
       "L 18.109375 0 \r\n",
       "L 9.078125 0 \r\n",
       "L 9.078125 54.6875 \r\n",
       "L 18.109375 54.6875 \r\n",
       "L 18.109375 46.1875 \r\n",
       "Q 20.953125 51.171875 25.484375 53.578125 \r\n",
       "Q 30.03125 56 36.53125 56 \r\n",
       "Q 37.453125 56 38.578125 55.875 \r\n",
       "Q 39.703125 55.765625 41.0625 55.515625 \r\n",
       "z\r\n",
       "\" id=\"DejaVuSans-114\"/>\r\n",
       "       <path d=\"M 54.890625 33.015625 \r\n",
       "L 54.890625 0 \r\n",
       "L 45.90625 0 \r\n",
       "L 45.90625 32.71875 \r\n",
       "Q 45.90625 40.484375 42.875 44.328125 \r\n",
       "Q 39.84375 48.1875 33.796875 48.1875 \r\n",
       "Q 26.515625 48.1875 22.3125 43.546875 \r\n",
       "Q 18.109375 38.921875 18.109375 30.90625 \r\n",
       "L 18.109375 0 \r\n",
       "L 9.078125 0 \r\n",
       "L 9.078125 54.6875 \r\n",
       "L 18.109375 54.6875 \r\n",
       "L 18.109375 46.1875 \r\n",
       "Q 21.34375 51.125 25.703125 53.5625 \r\n",
       "Q 30.078125 56 35.796875 56 \r\n",
       "Q 45.21875 56 50.046875 50.171875 \r\n",
       "Q 54.890625 44.34375 54.890625 33.015625 \r\n",
       "z\r\n",
       "\" id=\"DejaVuSans-110\"/>\r\n",
       "       <path d=\"M 45.40625 46.390625 \r\n",
       "L 45.40625 75.984375 \r\n",
       "L 54.390625 75.984375 \r\n",
       "L 54.390625 0 \r\n",
       "L 45.40625 0 \r\n",
       "L 45.40625 8.203125 \r\n",
       "Q 42.578125 3.328125 38.25 0.953125 \r\n",
       "Q 33.9375 -1.421875 27.875 -1.421875 \r\n",
       "Q 17.96875 -1.421875 11.734375 6.484375 \r\n",
       "Q 5.515625 14.40625 5.515625 27.296875 \r\n",
       "Q 5.515625 40.1875 11.734375 48.09375 \r\n",
       "Q 17.96875 56 27.875 56 \r\n",
       "Q 33.9375 56 38.25 53.625 \r\n",
       "Q 42.578125 51.265625 45.40625 46.390625 \r\n",
       "z\r\n",
       "M 14.796875 27.296875 \r\n",
       "Q 14.796875 17.390625 18.875 11.75 \r\n",
       "Q 22.953125 6.109375 30.078125 6.109375 \r\n",
       "Q 37.203125 6.109375 41.296875 11.75 \r\n",
       "Q 45.40625 17.390625 45.40625 27.296875 \r\n",
       "Q 45.40625 37.203125 41.296875 42.84375 \r\n",
       "Q 37.203125 48.484375 30.078125 48.484375 \r\n",
       "Q 22.953125 48.484375 18.875 42.84375 \r\n",
       "Q 14.796875 37.203125 14.796875 27.296875 \r\n",
       "z\r\n",
       "\" id=\"DejaVuSans-100\"/>\r\n",
       "       <path id=\"DejaVuSans-32\"/>\r\n",
       "       <path d=\"M 44.28125 53.078125 \r\n",
       "L 44.28125 44.578125 \r\n",
       "Q 40.484375 46.53125 36.375 47.5 \r\n",
       "Q 32.28125 48.484375 27.875 48.484375 \r\n",
       "Q 21.1875 48.484375 17.84375 46.4375 \r\n",
       "Q 14.5 44.390625 14.5 40.28125 \r\n",
       "Q 14.5 37.15625 16.890625 35.375 \r\n",
       "Q 19.28125 33.59375 26.515625 31.984375 \r\n",
       "L 29.59375 31.296875 \r\n",
       "Q 39.15625 29.25 43.1875 25.515625 \r\n",
       "Q 47.21875 21.78125 47.21875 15.09375 \r\n",
       "Q 47.21875 7.46875 41.1875 3.015625 \r\n",
       "Q 35.15625 -1.421875 24.609375 -1.421875 \r\n",
       "Q 20.21875 -1.421875 15.453125 -0.5625 \r\n",
       "Q 10.6875 0.296875 5.421875 2 \r\n",
       "L 5.421875 11.28125 \r\n",
       "Q 10.40625 8.6875 15.234375 7.390625 \r\n",
       "Q 20.0625 6.109375 24.8125 6.109375 \r\n",
       "Q 31.15625 6.109375 34.5625 8.28125 \r\n",
       "Q 37.984375 10.453125 37.984375 14.40625 \r\n",
       "Q 37.984375 18.0625 35.515625 20.015625 \r\n",
       "Q 33.0625 21.96875 24.703125 23.78125 \r\n",
       "L 21.578125 24.515625 \r\n",
       "Q 13.234375 26.265625 9.515625 29.90625 \r\n",
       "Q 5.8125 33.546875 5.8125 39.890625 \r\n",
       "Q 5.8125 47.609375 11.28125 51.796875 \r\n",
       "Q 16.75 56 26.8125 56 \r\n",
       "Q 31.78125 56 36.171875 55.265625 \r\n",
       "Q 40.578125 54.546875 44.28125 53.078125 \r\n",
       "z\r\n",
       "\" id=\"DejaVuSans-115\"/>\r\n",
       "       <path d=\"M 18.3125 70.21875 \r\n",
       "L 18.3125 54.6875 \r\n",
       "L 36.8125 54.6875 \r\n",
       "L 36.8125 47.703125 \r\n",
       "L 18.3125 47.703125 \r\n",
       "L 18.3125 18.015625 \r\n",
       "Q 18.3125 11.328125 20.140625 9.421875 \r\n",
       "Q 21.96875 7.515625 27.59375 7.515625 \r\n",
       "L 36.8125 7.515625 \r\n",
       "L 36.8125 0 \r\n",
       "L 27.59375 0 \r\n",
       "Q 17.1875 0 13.234375 3.875 \r\n",
       "Q 9.28125 7.765625 9.28125 18.015625 \r\n",
       "L 9.28125 47.703125 \r\n",
       "L 2.6875 47.703125 \r\n",
       "L 2.6875 54.6875 \r\n",
       "L 9.28125 54.6875 \r\n",
       "L 9.28125 70.21875 \r\n",
       "z\r\n",
       "\" id=\"DejaVuSans-116\"/>\r\n",
       "       <path d=\"M 34.28125 27.484375 \r\n",
       "Q 23.390625 27.484375 19.1875 25 \r\n",
       "Q 14.984375 22.515625 14.984375 16.5 \r\n",
       "Q 14.984375 11.71875 18.140625 8.90625 \r\n",
       "Q 21.296875 6.109375 26.703125 6.109375 \r\n",
       "Q 34.1875 6.109375 38.703125 11.40625 \r\n",
       "Q 43.21875 16.703125 43.21875 25.484375 \r\n",
       "L 43.21875 27.484375 \r\n",
       "z\r\n",
       "M 52.203125 31.203125 \r\n",
       "L 52.203125 0 \r\n",
       "L 43.21875 0 \r\n",
       "L 43.21875 8.296875 \r\n",
       "Q 40.140625 3.328125 35.546875 0.953125 \r\n",
       "Q 30.953125 -1.421875 24.3125 -1.421875 \r\n",
       "Q 15.921875 -1.421875 10.953125 3.296875 \r\n",
       "Q 6 8.015625 6 15.921875 \r\n",
       "Q 6 25.140625 12.171875 29.828125 \r\n",
       "Q 18.359375 34.515625 30.609375 34.515625 \r\n",
       "L 43.21875 34.515625 \r\n",
       "L 43.21875 35.40625 \r\n",
       "Q 43.21875 41.609375 39.140625 45 \r\n",
       "Q 35.0625 48.390625 27.6875 48.390625 \r\n",
       "Q 23 48.390625 18.546875 47.265625 \r\n",
       "Q 14.109375 46.140625 10.015625 43.890625 \r\n",
       "L 10.015625 52.203125 \r\n",
       "Q 14.9375 54.109375 19.578125 55.046875 \r\n",
       "Q 24.21875 56 28.609375 56 \r\n",
       "Q 40.484375 56 46.34375 49.84375 \r\n",
       "Q 52.203125 43.703125 52.203125 31.203125 \r\n",
       "z\r\n",
       "\" id=\"DejaVuSans-97\"/>\r\n",
       "      </defs>\r\n",
       "      <use xlink:href=\"#DejaVuSans-114\"/>\r\n",
       "      <use x=\"39.363281\" xlink:href=\"#DejaVuSans-110\"/>\r\n",
       "      <use x=\"102.742188\" xlink:href=\"#DejaVuSans-100\"/>\r\n",
       "      <use x=\"166.21875\" xlink:href=\"#DejaVuSans-32\"/>\r\n",
       "      <use x=\"198.005859\" xlink:href=\"#DejaVuSans-115\"/>\r\n",
       "      <use x=\"250.105469\" xlink:href=\"#DejaVuSans-116\"/>\r\n",
       "      <use x=\"289.314453\" xlink:href=\"#DejaVuSans-97\"/>\r\n",
       "      <use x=\"350.59375\" xlink:href=\"#DejaVuSans-114\"/>\r\n",
       "      <use x=\"391.707031\" xlink:href=\"#DejaVuSans-116\"/>\r\n",
       "     </g>\r\n",
       "    </g>\r\n",
       "    <g id=\"line2d_20\"/>\r\n",
       "    <g id=\"line2d_21\">\r\n",
       "     <g>\r\n",
       "      <use style=\"fill:#ff0000;stroke:#ff0000;\" x=\"171.115\" xlink:href=\"#m0b80e1477d\" y=\"38.775781\"/>\r\n",
       "     </g>\r\n",
       "    </g>\r\n",
       "    <g id=\"text_16\">\r\n",
       "     <!-- local max -->\r\n",
       "     <g transform=\"translate(189.115 42.275781)scale(0.1 -0.1)\">\r\n",
       "      <defs>\r\n",
       "       <path d=\"M 9.421875 75.984375 \r\n",
       "L 18.40625 75.984375 \r\n",
       "L 18.40625 0 \r\n",
       "L 9.421875 0 \r\n",
       "z\r\n",
       "\" id=\"DejaVuSans-108\"/>\r\n",
       "       <path d=\"M 30.609375 48.390625 \r\n",
       "Q 23.390625 48.390625 19.1875 42.75 \r\n",
       "Q 14.984375 37.109375 14.984375 27.296875 \r\n",
       "Q 14.984375 17.484375 19.15625 11.84375 \r\n",
       "Q 23.34375 6.203125 30.609375 6.203125 \r\n",
       "Q 37.796875 6.203125 41.984375 11.859375 \r\n",
       "Q 46.1875 17.53125 46.1875 27.296875 \r\n",
       "Q 46.1875 37.015625 41.984375 42.703125 \r\n",
       "Q 37.796875 48.390625 30.609375 48.390625 \r\n",
       "z\r\n",
       "M 30.609375 56 \r\n",
       "Q 42.328125 56 49.015625 48.375 \r\n",
       "Q 55.71875 40.765625 55.71875 27.296875 \r\n",
       "Q 55.71875 13.875 49.015625 6.21875 \r\n",
       "Q 42.328125 -1.421875 30.609375 -1.421875 \r\n",
       "Q 18.84375 -1.421875 12.171875 6.21875 \r\n",
       "Q 5.515625 13.875 5.515625 27.296875 \r\n",
       "Q 5.515625 40.765625 12.171875 48.375 \r\n",
       "Q 18.84375 56 30.609375 56 \r\n",
       "z\r\n",
       "\" id=\"DejaVuSans-111\"/>\r\n",
       "       <path d=\"M 48.78125 52.59375 \r\n",
       "L 48.78125 44.1875 \r\n",
       "Q 44.96875 46.296875 41.140625 47.34375 \r\n",
       "Q 37.3125 48.390625 33.40625 48.390625 \r\n",
       "Q 24.65625 48.390625 19.8125 42.84375 \r\n",
       "Q 14.984375 37.3125 14.984375 27.296875 \r\n",
       "Q 14.984375 17.28125 19.8125 11.734375 \r\n",
       "Q 24.65625 6.203125 33.40625 6.203125 \r\n",
       "Q 37.3125 6.203125 41.140625 7.25 \r\n",
       "Q 44.96875 8.296875 48.78125 10.40625 \r\n",
       "L 48.78125 2.09375 \r\n",
       "Q 45.015625 0.34375 40.984375 -0.53125 \r\n",
       "Q 36.96875 -1.421875 32.421875 -1.421875 \r\n",
       "Q 20.0625 -1.421875 12.78125 6.34375 \r\n",
       "Q 5.515625 14.109375 5.515625 27.296875 \r\n",
       "Q 5.515625 40.671875 12.859375 48.328125 \r\n",
       "Q 20.21875 56 33.015625 56 \r\n",
       "Q 37.15625 56 41.109375 55.140625 \r\n",
       "Q 45.0625 54.296875 48.78125 52.59375 \r\n",
       "z\r\n",
       "\" id=\"DejaVuSans-99\"/>\r\n",
       "       <path d=\"M 52 44.1875 \r\n",
       "Q 55.375 50.25 60.0625 53.125 \r\n",
       "Q 64.75 56 71.09375 56 \r\n",
       "Q 79.640625 56 84.28125 50.015625 \r\n",
       "Q 88.921875 44.046875 88.921875 33.015625 \r\n",
       "L 88.921875 0 \r\n",
       "L 79.890625 0 \r\n",
       "L 79.890625 32.71875 \r\n",
       "Q 79.890625 40.578125 77.09375 44.375 \r\n",
       "Q 74.3125 48.1875 68.609375 48.1875 \r\n",
       "Q 61.625 48.1875 57.5625 43.546875 \r\n",
       "Q 53.515625 38.921875 53.515625 30.90625 \r\n",
       "L 53.515625 0 \r\n",
       "L 44.484375 0 \r\n",
       "L 44.484375 32.71875 \r\n",
       "Q 44.484375 40.625 41.703125 44.40625 \r\n",
       "Q 38.921875 48.1875 33.109375 48.1875 \r\n",
       "Q 26.21875 48.1875 22.15625 43.53125 \r\n",
       "Q 18.109375 38.875 18.109375 30.90625 \r\n",
       "L 18.109375 0 \r\n",
       "L 9.078125 0 \r\n",
       "L 9.078125 54.6875 \r\n",
       "L 18.109375 54.6875 \r\n",
       "L 18.109375 46.1875 \r\n",
       "Q 21.1875 51.21875 25.484375 53.609375 \r\n",
       "Q 29.78125 56 35.6875 56 \r\n",
       "Q 41.65625 56 45.828125 52.96875 \r\n",
       "Q 50 49.953125 52 44.1875 \r\n",
       "z\r\n",
       "\" id=\"DejaVuSans-109\"/>\r\n",
       "       <path d=\"M 54.890625 54.6875 \r\n",
       "L 35.109375 28.078125 \r\n",
       "L 55.90625 0 \r\n",
       "L 45.3125 0 \r\n",
       "L 29.390625 21.484375 \r\n",
       "L 13.484375 0 \r\n",
       "L 2.875 0 \r\n",
       "L 24.125 28.609375 \r\n",
       "L 4.6875 54.6875 \r\n",
       "L 15.28125 54.6875 \r\n",
       "L 29.78125 35.203125 \r\n",
       "L 44.28125 54.6875 \r\n",
       "z\r\n",
       "\" id=\"DejaVuSans-120\"/>\r\n",
       "      </defs>\r\n",
       "      <use xlink:href=\"#DejaVuSans-108\"/>\r\n",
       "      <use x=\"27.783203\" xlink:href=\"#DejaVuSans-111\"/>\r\n",
       "      <use x=\"88.964844\" xlink:href=\"#DejaVuSans-99\"/>\r\n",
       "      <use x=\"143.945312\" xlink:href=\"#DejaVuSans-97\"/>\r\n",
       "      <use x=\"205.224609\" xlink:href=\"#DejaVuSans-108\"/>\r\n",
       "      <use x=\"233.007812\" xlink:href=\"#DejaVuSans-32\"/>\r\n",
       "      <use x=\"264.794922\" xlink:href=\"#DejaVuSans-109\"/>\r\n",
       "      <use x=\"362.207031\" xlink:href=\"#DejaVuSans-97\"/>\r\n",
       "      <use x=\"423.486328\" xlink:href=\"#DejaVuSans-120\"/>\r\n",
       "     </g>\r\n",
       "    </g>\r\n",
       "   </g>\r\n",
       "  </g>\r\n",
       "  <g id=\"axes_2\">\r\n",
       "   <g id=\"patch_8\">\r\n",
       "    <path clip-path=\"url(#paf642b72fa)\" d=\"M 263.122188 228.439219 \r\n",
       "L 263.122188 227.589844 \r\n",
       "L 263.122188 11.848594 \r\n",
       "L 263.122188 10.999219 \r\n",
       "L 273.994188 10.999219 \r\n",
       "L 273.994188 11.848594 \r\n",
       "L 273.994188 227.589844 \r\n",
       "L 273.994188 228.439219 \r\n",
       "z\r\n",
       "\" style=\"fill:#ffffff;stroke:#ffffff;stroke-linejoin:miter;stroke-width:0.01;\"/>\r\n",
       "   </g>\r\n",
       "   <image height=\"217\" id=\"imageab2c4b51b4\" transform=\"scale(1 -1)translate(0 -217)\" width=\"11\" x=\"263\" xlink:href=\"data:image/png;base64,\r\n",
       "iVBORw0KGgoAAAANSUhEUgAAAAsAAADZCAYAAAD2WsoCAAABSElEQVR4nN2awQ0CMQwEYztHZdRA/41AaMHzGMl3vK3V7qxD0HHxzs9Zzc+OjO7s2iuyP8yUq4gNoBwJPCPlpSkHosEa1IaHcBZpaDZEdBaNw2y0Z00aomftWJ2a0WB/1gx4NBsooLdIhxxYjwZUBsNwn4nyHWmIdSMbmrJGw9wNS9nkfEN0M7ZuirJHoz+LL3piA92Dmo3n1/14dDcM6NW9on++x6C7Hw3gmAcEnr1SRM4zaICfSG4pXsARyuA5GaTBbMxAl2JAi4bnOZMMezaWha7yB2x4AUUaYHhrNLyAng1GQ/RslbKZMhgusW6LxhVfSRnSsAIWUb6S0CANlrd1xAasG9kY0SDizGgwG1ZAVMpLDKjthnasrgVowIDWPciWn30VeAHbs1S5L7z2i/zdgJSLKYPhIsNI+Qrwug7zTN45SfCQ6g9eiIFo/nbsswAAAABJRU5ErkJggg==\" y=\"-11\"/>\r\n",
       "   <g id=\"matplotlib.axis_3\"/>\r\n",
       "   <g id=\"matplotlib.axis_4\">\r\n",
       "    <g id=\"ytick_8\">\r\n",
       "     <g id=\"line2d_22\">\r\n",
       "      <defs>\r\n",
       "       <path d=\"M 0 0 \r\n",
       "L 3.5 0 \r\n",
       "\" id=\"m3670a32a32\" style=\"stroke:#000000;stroke-width:0.8;\"/>\r\n",
       "      </defs>\r\n",
       "      <g>\r\n",
       "       <use style=\"stroke:#000000;stroke-width:0.8;\" x=\"273.994188\" xlink:href=\"#m3670a32a32\" y=\"206.695219\"/>\r\n",
       "      </g>\r\n",
       "     </g>\r\n",
       "     <g id=\"text_17\">\r\n",
       "      <!-- −4 -->\r\n",
       "      <g transform=\"translate(280.994188 210.494437)scale(0.1 -0.1)\">\r\n",
       "       <defs>\r\n",
       "        <path d=\"M 37.796875 64.3125 \r\n",
       "L 12.890625 25.390625 \r\n",
       "L 37.796875 25.390625 \r\n",
       "z\r\n",
       "M 35.203125 72.90625 \r\n",
       "L 47.609375 72.90625 \r\n",
       "L 47.609375 25.390625 \r\n",
       "L 58.015625 25.390625 \r\n",
       "L 58.015625 17.1875 \r\n",
       "L 47.609375 17.1875 \r\n",
       "L 47.609375 0 \r\n",
       "L 37.796875 0 \r\n",
       "L 37.796875 17.1875 \r\n",
       "L 4.890625 17.1875 \r\n",
       "L 4.890625 26.703125 \r\n",
       "z\r\n",
       "\" id=\"DejaVuSans-52\"/>\r\n",
       "       </defs>\r\n",
       "       <use xlink:href=\"#DejaVuSans-8722\"/>\r\n",
       "       <use x=\"83.789062\" xlink:href=\"#DejaVuSans-52\"/>\r\n",
       "      </g>\r\n",
       "     </g>\r\n",
       "    </g>\r\n",
       "    <g id=\"ytick_9\">\r\n",
       "     <g id=\"line2d_23\">\r\n",
       "      <g>\r\n",
       "       <use style=\"stroke:#000000;stroke-width:0.8;\" x=\"273.994188\" xlink:href=\"#m3670a32a32\" y=\"163.207219\"/>\r\n",
       "      </g>\r\n",
       "     </g>\r\n",
       "     <g id=\"text_18\">\r\n",
       "      <!-- −2 -->\r\n",
       "      <g transform=\"translate(280.994188 167.006437)scale(0.1 -0.1)\">\r\n",
       "       <use xlink:href=\"#DejaVuSans-8722\"/>\r\n",
       "       <use x=\"83.789062\" xlink:href=\"#DejaVuSans-50\"/>\r\n",
       "      </g>\r\n",
       "     </g>\r\n",
       "    </g>\r\n",
       "    <g id=\"ytick_10\">\r\n",
       "     <g id=\"line2d_24\">\r\n",
       "      <g>\r\n",
       "       <use style=\"stroke:#000000;stroke-width:0.8;\" x=\"273.994188\" xlink:href=\"#m3670a32a32\" y=\"119.719219\"/>\r\n",
       "      </g>\r\n",
       "     </g>\r\n",
       "     <g id=\"text_19\">\r\n",
       "      <!-- 0 -->\r\n",
       "      <g transform=\"translate(280.994188 123.518437)scale(0.1 -0.1)\">\r\n",
       "       <use xlink:href=\"#DejaVuSans-48\"/>\r\n",
       "      </g>\r\n",
       "     </g>\r\n",
       "    </g>\r\n",
       "    <g id=\"ytick_11\">\r\n",
       "     <g id=\"line2d_25\">\r\n",
       "      <g>\r\n",
       "       <use style=\"stroke:#000000;stroke-width:0.8;\" x=\"273.994188\" xlink:href=\"#m3670a32a32\" y=\"76.231219\"/>\r\n",
       "      </g>\r\n",
       "     </g>\r\n",
       "     <g id=\"text_20\">\r\n",
       "      <!-- 2 -->\r\n",
       "      <g transform=\"translate(280.994188 80.030437)scale(0.1 -0.1)\">\r\n",
       "       <use xlink:href=\"#DejaVuSans-50\"/>\r\n",
       "      </g>\r\n",
       "     </g>\r\n",
       "    </g>\r\n",
       "    <g id=\"ytick_12\">\r\n",
       "     <g id=\"line2d_26\">\r\n",
       "      <g>\r\n",
       "       <use style=\"stroke:#000000;stroke-width:0.8;\" x=\"273.994188\" xlink:href=\"#m3670a32a32\" y=\"32.743219\"/>\r\n",
       "      </g>\r\n",
       "     </g>\r\n",
       "     <g id=\"text_21\">\r\n",
       "      <!-- 4 -->\r\n",
       "      <g transform=\"translate(280.994188 36.542437)scale(0.1 -0.1)\">\r\n",
       "       <use xlink:href=\"#DejaVuSans-52\"/>\r\n",
       "      </g>\r\n",
       "     </g>\r\n",
       "    </g>\r\n",
       "   </g>\r\n",
       "   <g id=\"patch_9\">\r\n",
       "    <path d=\"M 263.122188 228.439219 \r\n",
       "L 263.122188 227.589844 \r\n",
       "L 263.122188 11.848594 \r\n",
       "L 263.122188 10.999219 \r\n",
       "L 273.994188 10.999219 \r\n",
       "L 273.994188 11.848594 \r\n",
       "L 273.994188 227.589844 \r\n",
       "L 273.994188 228.439219 \r\n",
       "z\r\n",
       "\" style=\"fill:none;stroke:#000000;stroke-linejoin:miter;stroke-width:0.8;\"/>\r\n",
       "   </g>\r\n",
       "  </g>\r\n",
       " </g>\r\n",
       " <defs>\r\n",
       "  <clipPath id=\"p0657fed239\">\r\n",
       "   <rect height=\"217.44\" width=\"217.44\" x=\"28.942188\" y=\"10.999219\"/>\r\n",
       "  </clipPath>\r\n",
       "  <clipPath id=\"paf642b72fa\">\r\n",
       "   <rect height=\"217.44\" width=\"10.872\" x=\"263.122188\" y=\"10.999219\"/>\r\n",
       "  </clipPath>\r\n",
       " </defs>\r\n",
       "</svg>\r\n"
      ],
      "text/plain": [
       "<Figure size 432x288 with 2 Axes>"
      ]
     },
     "metadata": {
      "needs_background": "light"
     },
     "output_type": "display_data"
    }
   ],
   "source": [
    "# let's have a look!\n",
    "plt.imshow(Z,extent=[x[0],x[-1],y[0],y[-1]],vmin=-5,vmax=5,origin='lower')\n",
    "plt.plot(startpnt[0],startpnt[1],'bs')\n",
    "plt.plot(localmin[0],localmin[1],'ro')\n",
    "plt.plot(trajectory[:,0],trajectory[:,1],'r')\n",
    "plt.legend(['rnd start','local max'])\n",
    "plt.colorbar()\n",
    "plt.show()"
   ]
  },
  {
   "cell_type": "code",
   "execution_count": null,
   "metadata": {},
   "outputs": [],
   "source": []
  }
 ],
 "metadata": {
  "kernelspec": {
   "display_name": "Python 3",
   "language": "python",
   "name": "python3"
  },
  "language_info": {
   "codemirror_mode": {
    "name": "ipython",
    "version": 3
   },
   "file_extension": ".py",
   "mimetype": "text/x-python",
   "name": "python",
   "nbconvert_exporter": "python",
   "pygments_lexer": "ipython3",
   "version": "3.7.4"
  }
 },
 "nbformat": 4,
 "nbformat_minor": 4
}
