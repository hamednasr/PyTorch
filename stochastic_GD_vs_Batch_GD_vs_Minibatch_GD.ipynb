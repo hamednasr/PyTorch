{
  "nbformat": 4,
  "nbformat_minor": 0,
  "metadata": {
    "colab": {
      "name": "stochastic GD vs Batch GD vs Minibatch GD.ipynb",
      "provenance": [],
      "collapsed_sections": [],
      "authorship_tag": "ABX9TyNeLmttdKuDMl9DtYKlfAmR",
      "include_colab_link": true
    },
    "kernelspec": {
      "name": "python3",
      "display_name": "Python 3"
    },
    "language_info": {
      "name": "python"
    }
  },
  "cells": [
    {
      "cell_type": "markdown",
      "metadata": {
        "id": "view-in-github",
        "colab_type": "text"
      },
      "source": [
        "<a href=\"https://colab.research.google.com/github/hamednasr/deep-learning/blob/main/stochastic_GD_vs_Batch_GD_vs_Minibatch_GD.ipynb\" target=\"_parent\"><img src=\"https://colab.research.google.com/assets/colab-badge.svg\" alt=\"Open In Colab\"/></a>"
      ]
    },
    {
      "cell_type": "code",
      "execution_count": null,
      "metadata": {
        "id": "3t8PfRK2qVrG"
      },
      "outputs": [],
      "source": [
        "import numpy as np\n",
        "import pandas as pd\n",
        "import matplotlib.pyplot as plt\n",
        "from sklearn import preprocessing\n",
        "from IPython import display\n",
        "display.set_matplotlib_formats('svg')"
      ]
    },
    {
      "cell_type": "code",
      "source": [
        "data = pd.read_csv('homeprices_banglore.csv')\n",
        "data"
      ],
      "metadata": {
        "colab": {
          "base_uri": "https://localhost:8080/",
          "height": 676
        },
        "id": "ef26M_Oeq0u-",
        "outputId": "e871e536-6dc2-488a-f5c2-3741bde3d137"
      },
      "execution_count": null,
      "outputs": [
        {
          "output_type": "execute_result",
          "data": {
            "text/html": [
              "\n",
              "  <div id=\"df-a61cc97a-5f22-44a7-97dc-5b822dfe0a6b\">\n",
              "    <div class=\"colab-df-container\">\n",
              "      <div>\n",
              "<style scoped>\n",
              "    .dataframe tbody tr th:only-of-type {\n",
              "        vertical-align: middle;\n",
              "    }\n",
              "\n",
              "    .dataframe tbody tr th {\n",
              "        vertical-align: top;\n",
              "    }\n",
              "\n",
              "    .dataframe thead th {\n",
              "        text-align: right;\n",
              "    }\n",
              "</style>\n",
              "<table border=\"1\" class=\"dataframe\">\n",
              "  <thead>\n",
              "    <tr style=\"text-align: right;\">\n",
              "      <th></th>\n",
              "      <th>area</th>\n",
              "      <th>bedrooms</th>\n",
              "      <th>price</th>\n",
              "    </tr>\n",
              "  </thead>\n",
              "  <tbody>\n",
              "    <tr>\n",
              "      <th>0</th>\n",
              "      <td>1056</td>\n",
              "      <td>2</td>\n",
              "      <td>39.07</td>\n",
              "    </tr>\n",
              "    <tr>\n",
              "      <th>1</th>\n",
              "      <td>2600</td>\n",
              "      <td>4</td>\n",
              "      <td>120.00</td>\n",
              "    </tr>\n",
              "    <tr>\n",
              "      <th>2</th>\n",
              "      <td>1440</td>\n",
              "      <td>3</td>\n",
              "      <td>62.00</td>\n",
              "    </tr>\n",
              "    <tr>\n",
              "      <th>3</th>\n",
              "      <td>1521</td>\n",
              "      <td>3</td>\n",
              "      <td>75.00</td>\n",
              "    </tr>\n",
              "    <tr>\n",
              "      <th>4</th>\n",
              "      <td>1200</td>\n",
              "      <td>2</td>\n",
              "      <td>51.00</td>\n",
              "    </tr>\n",
              "    <tr>\n",
              "      <th>5</th>\n",
              "      <td>1170</td>\n",
              "      <td>2</td>\n",
              "      <td>38.00</td>\n",
              "    </tr>\n",
              "    <tr>\n",
              "      <th>6</th>\n",
              "      <td>2732</td>\n",
              "      <td>4</td>\n",
              "      <td>135.00</td>\n",
              "    </tr>\n",
              "    <tr>\n",
              "      <th>7</th>\n",
              "      <td>3300</td>\n",
              "      <td>4</td>\n",
              "      <td>155.00</td>\n",
              "    </tr>\n",
              "    <tr>\n",
              "      <th>8</th>\n",
              "      <td>1310</td>\n",
              "      <td>3</td>\n",
              "      <td>50.00</td>\n",
              "    </tr>\n",
              "    <tr>\n",
              "      <th>9</th>\n",
              "      <td>3700</td>\n",
              "      <td>5</td>\n",
              "      <td>167.00</td>\n",
              "    </tr>\n",
              "    <tr>\n",
              "      <th>10</th>\n",
              "      <td>1800</td>\n",
              "      <td>3</td>\n",
              "      <td>82.00</td>\n",
              "    </tr>\n",
              "    <tr>\n",
              "      <th>11</th>\n",
              "      <td>2785</td>\n",
              "      <td>4</td>\n",
              "      <td>140.00</td>\n",
              "    </tr>\n",
              "    <tr>\n",
              "      <th>12</th>\n",
              "      <td>1000</td>\n",
              "      <td>2</td>\n",
              "      <td>38.00</td>\n",
              "    </tr>\n",
              "    <tr>\n",
              "      <th>13</th>\n",
              "      <td>1100</td>\n",
              "      <td>2</td>\n",
              "      <td>40.00</td>\n",
              "    </tr>\n",
              "    <tr>\n",
              "      <th>14</th>\n",
              "      <td>2250</td>\n",
              "      <td>3</td>\n",
              "      <td>101.00</td>\n",
              "    </tr>\n",
              "    <tr>\n",
              "      <th>15</th>\n",
              "      <td>1175</td>\n",
              "      <td>2</td>\n",
              "      <td>42.00</td>\n",
              "    </tr>\n",
              "    <tr>\n",
              "      <th>16</th>\n",
              "      <td>1180</td>\n",
              "      <td>3</td>\n",
              "      <td>48.00</td>\n",
              "    </tr>\n",
              "    <tr>\n",
              "      <th>17</th>\n",
              "      <td>1540</td>\n",
              "      <td>3</td>\n",
              "      <td>60.00</td>\n",
              "    </tr>\n",
              "    <tr>\n",
              "      <th>18</th>\n",
              "      <td>2770</td>\n",
              "      <td>3</td>\n",
              "      <td>102.00</td>\n",
              "    </tr>\n",
              "    <tr>\n",
              "      <th>19</th>\n",
              "      <td>800</td>\n",
              "      <td>1</td>\n",
              "      <td>32.00</td>\n",
              "    </tr>\n",
              "  </tbody>\n",
              "</table>\n",
              "</div>\n",
              "      <button class=\"colab-df-convert\" onclick=\"convertToInteractive('df-a61cc97a-5f22-44a7-97dc-5b822dfe0a6b')\"\n",
              "              title=\"Convert this dataframe to an interactive table.\"\n",
              "              style=\"display:none;\">\n",
              "        \n",
              "  <svg xmlns=\"http://www.w3.org/2000/svg\" height=\"24px\"viewBox=\"0 0 24 24\"\n",
              "       width=\"24px\">\n",
              "    <path d=\"M0 0h24v24H0V0z\" fill=\"none\"/>\n",
              "    <path d=\"M18.56 5.44l.94 2.06.94-2.06 2.06-.94-2.06-.94-.94-2.06-.94 2.06-2.06.94zm-11 1L8.5 8.5l.94-2.06 2.06-.94-2.06-.94L8.5 2.5l-.94 2.06-2.06.94zm10 10l.94 2.06.94-2.06 2.06-.94-2.06-.94-.94-2.06-.94 2.06-2.06.94z\"/><path d=\"M17.41 7.96l-1.37-1.37c-.4-.4-.92-.59-1.43-.59-.52 0-1.04.2-1.43.59L10.3 9.45l-7.72 7.72c-.78.78-.78 2.05 0 2.83L4 21.41c.39.39.9.59 1.41.59.51 0 1.02-.2 1.41-.59l7.78-7.78 2.81-2.81c.8-.78.8-2.07 0-2.86zM5.41 20L4 18.59l7.72-7.72 1.47 1.35L5.41 20z\"/>\n",
              "  </svg>\n",
              "      </button>\n",
              "      \n",
              "  <style>\n",
              "    .colab-df-container {\n",
              "      display:flex;\n",
              "      flex-wrap:wrap;\n",
              "      gap: 12px;\n",
              "    }\n",
              "\n",
              "    .colab-df-convert {\n",
              "      background-color: #E8F0FE;\n",
              "      border: none;\n",
              "      border-radius: 50%;\n",
              "      cursor: pointer;\n",
              "      display: none;\n",
              "      fill: #1967D2;\n",
              "      height: 32px;\n",
              "      padding: 0 0 0 0;\n",
              "      width: 32px;\n",
              "    }\n",
              "\n",
              "    .colab-df-convert:hover {\n",
              "      background-color: #E2EBFA;\n",
              "      box-shadow: 0px 1px 2px rgba(60, 64, 67, 0.3), 0px 1px 3px 1px rgba(60, 64, 67, 0.15);\n",
              "      fill: #174EA6;\n",
              "    }\n",
              "\n",
              "    [theme=dark] .colab-df-convert {\n",
              "      background-color: #3B4455;\n",
              "      fill: #D2E3FC;\n",
              "    }\n",
              "\n",
              "    [theme=dark] .colab-df-convert:hover {\n",
              "      background-color: #434B5C;\n",
              "      box-shadow: 0px 1px 3px 1px rgba(0, 0, 0, 0.15);\n",
              "      filter: drop-shadow(0px 1px 2px rgba(0, 0, 0, 0.3));\n",
              "      fill: #FFFFFF;\n",
              "    }\n",
              "  </style>\n",
              "\n",
              "      <script>\n",
              "        const buttonEl =\n",
              "          document.querySelector('#df-a61cc97a-5f22-44a7-97dc-5b822dfe0a6b button.colab-df-convert');\n",
              "        buttonEl.style.display =\n",
              "          google.colab.kernel.accessAllowed ? 'block' : 'none';\n",
              "\n",
              "        async function convertToInteractive(key) {\n",
              "          const element = document.querySelector('#df-a61cc97a-5f22-44a7-97dc-5b822dfe0a6b');\n",
              "          const dataTable =\n",
              "            await google.colab.kernel.invokeFunction('convertToInteractive',\n",
              "                                                     [key], {});\n",
              "          if (!dataTable) return;\n",
              "\n",
              "          const docLinkHtml = 'Like what you see? Visit the ' +\n",
              "            '<a target=\"_blank\" href=https://colab.research.google.com/notebooks/data_table.ipynb>data table notebook</a>'\n",
              "            + ' to learn more about interactive tables.';\n",
              "          element.innerHTML = '';\n",
              "          dataTable['output_type'] = 'display_data';\n",
              "          await google.colab.output.renderOutput(dataTable, element);\n",
              "          const docLink = document.createElement('div');\n",
              "          docLink.innerHTML = docLinkHtml;\n",
              "          element.appendChild(docLink);\n",
              "        }\n",
              "      </script>\n",
              "    </div>\n",
              "  </div>\n",
              "  "
            ],
            "text/plain": [
              "    area  bedrooms   price\n",
              "0   1056         2   39.07\n",
              "1   2600         4  120.00\n",
              "2   1440         3   62.00\n",
              "3   1521         3   75.00\n",
              "4   1200         2   51.00\n",
              "5   1170         2   38.00\n",
              "6   2732         4  135.00\n",
              "7   3300         4  155.00\n",
              "8   1310         3   50.00\n",
              "9   3700         5  167.00\n",
              "10  1800         3   82.00\n",
              "11  2785         4  140.00\n",
              "12  1000         2   38.00\n",
              "13  1100         2   40.00\n",
              "14  2250         3  101.00\n",
              "15  1175         2   42.00\n",
              "16  1180         3   48.00\n",
              "17  1540         3   60.00\n",
              "18  2770         3  102.00\n",
              "19   800         1   32.00"
            ]
          },
          "metadata": {},
          "execution_count": 186
        }
      ]
    },
    {
      "cell_type": "code",
      "source": [
        "scale = preprocessing.MinMaxScaler()"
      ],
      "metadata": {
        "id": "8gpe2XIRrM4o"
      },
      "execution_count": null,
      "outputs": []
    },
    {
      "cell_type": "code",
      "source": [
        "X_scaled = scale.fit_transform(data[['area','bedrooms']])\n",
        "X_scaled"
      ],
      "metadata": {
        "colab": {
          "base_uri": "https://localhost:8080/"
        },
        "id": "Da_RpAn_r5ee",
        "outputId": "f76b46d0-d729-426e-b889-920aefee9c14"
      },
      "execution_count": null,
      "outputs": [
        {
          "output_type": "execute_result",
          "data": {
            "text/plain": [
              "array([[0.08827586, 0.25      ],\n",
              "       [0.62068966, 0.75      ],\n",
              "       [0.22068966, 0.5       ],\n",
              "       [0.24862069, 0.5       ],\n",
              "       [0.13793103, 0.25      ],\n",
              "       [0.12758621, 0.25      ],\n",
              "       [0.6662069 , 0.75      ],\n",
              "       [0.86206897, 0.75      ],\n",
              "       [0.17586207, 0.5       ],\n",
              "       [1.        , 1.        ],\n",
              "       [0.34482759, 0.5       ],\n",
              "       [0.68448276, 0.75      ],\n",
              "       [0.06896552, 0.25      ],\n",
              "       [0.10344828, 0.25      ],\n",
              "       [0.5       , 0.5       ],\n",
              "       [0.12931034, 0.25      ],\n",
              "       [0.13103448, 0.5       ],\n",
              "       [0.25517241, 0.5       ],\n",
              "       [0.67931034, 0.5       ],\n",
              "       [0.        , 0.        ]])"
            ]
          },
          "metadata": {},
          "execution_count": 188
        }
      ]
    },
    {
      "cell_type": "code",
      "source": [
        "area = X_scaled[:,0]\n",
        "bedr = X_scaled[:,1]"
      ],
      "metadata": {
        "id": "YNXfuTa2FE1P"
      },
      "execution_count": null,
      "outputs": []
    },
    {
      "cell_type": "code",
      "source": [
        "y_scaled = scale.fit_transform(data[['price']])\n",
        "y_scaled"
      ],
      "metadata": {
        "colab": {
          "base_uri": "https://localhost:8080/"
        },
        "id": "eky8MEFisO93",
        "outputId": "9f37b1f6-5094-45b3-d3f5-8707eb5b3491"
      },
      "execution_count": null,
      "outputs": [
        {
          "output_type": "execute_result",
          "data": {
            "text/plain": [
              "array([[0.05237037],\n",
              "       [0.65185185],\n",
              "       [0.22222222],\n",
              "       [0.31851852],\n",
              "       [0.14074074],\n",
              "       [0.04444444],\n",
              "       [0.76296296],\n",
              "       [0.91111111],\n",
              "       [0.13333333],\n",
              "       [1.        ],\n",
              "       [0.37037037],\n",
              "       [0.8       ],\n",
              "       [0.04444444],\n",
              "       [0.05925926],\n",
              "       [0.51111111],\n",
              "       [0.07407407],\n",
              "       [0.11851852],\n",
              "       [0.20740741],\n",
              "       [0.51851852],\n",
              "       [0.        ]])"
            ]
          },
          "metadata": {},
          "execution_count": 190
        }
      ]
    },
    {
      "cell_type": "code",
      "source": [
        "p = y_scaled.flatten()\n",
        "p.shape"
      ],
      "metadata": {
        "colab": {
          "base_uri": "https://localhost:8080/"
        },
        "id": "YwvEHOKlFYaV",
        "outputId": "6f4575d6-6cd7-4406-d5d9-012f6a56517c"
      },
      "execution_count": null,
      "outputs": [
        {
          "output_type": "execute_result",
          "data": {
            "text/plain": [
              "(20,)"
            ]
          },
          "metadata": {},
          "execution_count": 191
        }
      ]
    },
    {
      "cell_type": "code",
      "source": [
        "b=0"
      ],
      "metadata": {
        "id": "O7tZFEWyHyab"
      },
      "execution_count": null,
      "outputs": []
    },
    {
      "cell_type": "code",
      "source": [
        "print(p.shape)\n",
        "print(area.shape)\n",
        "print(bedr.shape)\n",
        "print((p - area * w[0] - bedr *w[1]).shape)\n",
        "print((-area*(p - area * w[0] - bedr *w[1] - b)).shape)\n",
        "print((-(p - area*w[0] - bedr*w[1] - b)).shape)"
      ],
      "metadata": {
        "colab": {
          "base_uri": "https://localhost:8080/"
        },
        "id": "8UfwUvViGOzZ",
        "outputId": "6d5f3ea3-de6f-4fe0-8943-cd87ffa80d02"
      },
      "execution_count": null,
      "outputs": [
        {
          "output_type": "stream",
          "name": "stdout",
          "text": [
            "(20,)\n",
            "(20,)\n",
            "(20,)\n",
            "(20,)\n",
            "(20,)\n",
            "(20,)\n"
          ]
        }
      ]
    },
    {
      "cell_type": "code",
      "source": [
        ""
      ],
      "metadata": {
        "id": "sF9xAOZxeEJd"
      },
      "execution_count": null,
      "outputs": []
    },
    {
      "cell_type": "markdown",
      "source": [
        "# Batch Gradient Descent"
      ],
      "metadata": {
        "id": "9b3wPPMBeEft"
      }
    },
    {
      "cell_type": "code",
      "source": [
        "epochs = 300\n",
        "\n",
        "def batch_GD(X, y, lr = 0.01):\n",
        "\n",
        "  cost = []\n",
        "\n",
        "  p = y_scaled.flatten()\n",
        "  area = X_scaled[:,0]\n",
        "  bedr = X_scaled[:,1]\n",
        "  w = np.ones(X_scaled.shape[1])\n",
        "  b = 0\n",
        "  total_samples =  X_scaled.shape[0]\n",
        "\n",
        "  for i in range(epochs):\n",
        "\n",
        "     dl_dw = np.sum(np.array([-area*(p - area * w[0] - bedr * w[1] - b),\n",
        "                       -bedr*(p - area * w[0] - bedr * w[1] - b)]),axis=1)\n",
        "     dl_db = np.sum(-(p - area * w[0] - bedr * w[1] - b))\n",
        "    #  print(dl_dw)\n",
        "    #  print(dl_db)\n",
        "     \n",
        "     w = w - lr * dl_dw\n",
        "     b = b - lr * dl_db\n",
        "\n",
        "     p_hat = area * w[0] + bedr * w[1] + b\n",
        "\n",
        "     cost.append(np.mean(np.square(p - p_hat)))\n",
        "\n",
        "  return w,b,cost,p_hat\n",
        "\n"
      ],
      "metadata": {
        "id": "HaS-6ssxsT6O"
      },
      "execution_count": null,
      "outputs": []
    },
    {
      "cell_type": "code",
      "source": [
        "w, b, cost, p_hat= batch_GD(X_scaled,y_scaled)"
      ],
      "metadata": {
        "id": "wP9XW4j0DIVC"
      },
      "execution_count": null,
      "outputs": []
    },
    {
      "cell_type": "code",
      "source": [
        "plt.plot(range(epochs), cost, 'bo-')"
      ],
      "metadata": {
        "colab": {
          "base_uri": "https://localhost:8080/",
          "height": 373
        },
        "id": "Z1uHuZORDMnI",
        "outputId": "220f1df7-e61b-45d4-9ad1-e7db81115130"
      },
      "execution_count": null,
      "outputs": [
        {
          "output_type": "execute_result",
          "data": {
            "text/plain": [
              "[<matplotlib.lines.Line2D at 0x7f299e478110>]"
            ]
          },
          "metadata": {},
          "execution_count": 215
        },
        {
          "output_type": "display_data",
          "data": {
            "text/plain": [
              "<Figure size 432x288 with 1 Axes>"
            ],
            "image/svg+xml": "<?xml version=\"1.0\" encoding=\"utf-8\" standalone=\"no\"?>\n<!DOCTYPE svg PUBLIC \"-//W3C//DTD SVG 1.1//EN\"\n  \"http://www.w3.org/Graphics/SVG/1.1/DTD/svg11.dtd\">\n<!-- Created with matplotlib (https://matplotlib.org/) -->\n<svg height=\"250.978969pt\" version=\"1.1\" viewBox=\"0 0 378.465625 250.978969\" width=\"378.465625pt\" xmlns=\"http://www.w3.org/2000/svg\" xmlns:xlink=\"http://www.w3.org/1999/xlink\">\n <defs>\n  <style type=\"text/css\">\n*{stroke-linecap:butt;stroke-linejoin:round;}\n  </style>\n </defs>\n <g id=\"figure_1\">\n  <g id=\"patch_1\">\n   <path d=\"M 0 250.978969 \nL 378.465625 250.978969 \nL 378.465625 0 \nL 0 0 \nz\n\" style=\"fill:none;\"/>\n  </g>\n  <g id=\"axes_1\">\n   <g id=\"patch_2\">\n    <path d=\"M 36.465625 227.100844 \nL 371.265625 227.100844 \nL 371.265625 9.660844 \nL 36.465625 9.660844 \nz\n\" style=\"fill:#ffffff;\"/>\n   </g>\n   <g id=\"matplotlib.axis_1\">\n    <g id=\"xtick_1\">\n     <g id=\"line2d_1\">\n      <defs>\n       <path d=\"M 0 0 \nL 0 3.5 \n\" id=\"m148170f0ec\" style=\"stroke:#000000;stroke-width:0.8;\"/>\n      </defs>\n      <g>\n       <use style=\"stroke:#000000;stroke-width:0.8;\" x=\"51.683807\" xlink:href=\"#m148170f0ec\" y=\"227.100844\"/>\n      </g>\n     </g>\n     <g id=\"text_1\">\n      <!-- 0 -->\n      <defs>\n       <path d=\"M 31.78125 66.40625 \nQ 24.171875 66.40625 20.328125 58.90625 \nQ 16.5 51.421875 16.5 36.375 \nQ 16.5 21.390625 20.328125 13.890625 \nQ 24.171875 6.390625 31.78125 6.390625 \nQ 39.453125 6.390625 43.28125 13.890625 \nQ 47.125 21.390625 47.125 36.375 \nQ 47.125 51.421875 43.28125 58.90625 \nQ 39.453125 66.40625 31.78125 66.40625 \nz\nM 31.78125 74.21875 \nQ 44.046875 74.21875 50.515625 64.515625 \nQ 56.984375 54.828125 56.984375 36.375 \nQ 56.984375 17.96875 50.515625 8.265625 \nQ 44.046875 -1.421875 31.78125 -1.421875 \nQ 19.53125 -1.421875 13.0625 8.265625 \nQ 6.59375 17.96875 6.59375 36.375 \nQ 6.59375 54.828125 13.0625 64.515625 \nQ 19.53125 74.21875 31.78125 74.21875 \nz\n\" id=\"DejaVuSans-48\"/>\n      </defs>\n      <g transform=\"translate(48.502557 241.699282)scale(0.1 -0.1)\">\n       <use xlink:href=\"#DejaVuSans-48\"/>\n      </g>\n     </g>\n    </g>\n    <g id=\"xtick_2\">\n     <g id=\"line2d_2\">\n      <g>\n       <use style=\"stroke:#000000;stroke-width:0.8;\" x=\"102.580736\" xlink:href=\"#m148170f0ec\" y=\"227.100844\"/>\n      </g>\n     </g>\n     <g id=\"text_2\">\n      <!-- 50 -->\n      <defs>\n       <path d=\"M 10.796875 72.90625 \nL 49.515625 72.90625 \nL 49.515625 64.59375 \nL 19.828125 64.59375 \nL 19.828125 46.734375 \nQ 21.96875 47.46875 24.109375 47.828125 \nQ 26.265625 48.1875 28.421875 48.1875 \nQ 40.625 48.1875 47.75 41.5 \nQ 54.890625 34.8125 54.890625 23.390625 \nQ 54.890625 11.625 47.5625 5.09375 \nQ 40.234375 -1.421875 26.90625 -1.421875 \nQ 22.3125 -1.421875 17.546875 -0.640625 \nQ 12.796875 0.140625 7.71875 1.703125 \nL 7.71875 11.625 \nQ 12.109375 9.234375 16.796875 8.0625 \nQ 21.484375 6.890625 26.703125 6.890625 \nQ 35.15625 6.890625 40.078125 11.328125 \nQ 45.015625 15.765625 45.015625 23.390625 \nQ 45.015625 31 40.078125 35.4375 \nQ 35.15625 39.890625 26.703125 39.890625 \nQ 22.75 39.890625 18.8125 39.015625 \nQ 14.890625 38.140625 10.796875 36.28125 \nz\n\" id=\"DejaVuSans-53\"/>\n      </defs>\n      <g transform=\"translate(96.218236 241.699282)scale(0.1 -0.1)\">\n       <use xlink:href=\"#DejaVuSans-53\"/>\n       <use x=\"63.623047\" xlink:href=\"#DejaVuSans-48\"/>\n      </g>\n     </g>\n    </g>\n    <g id=\"xtick_3\">\n     <g id=\"line2d_3\">\n      <g>\n       <use style=\"stroke:#000000;stroke-width:0.8;\" x=\"153.477665\" xlink:href=\"#m148170f0ec\" y=\"227.100844\"/>\n      </g>\n     </g>\n     <g id=\"text_3\">\n      <!-- 100 -->\n      <defs>\n       <path d=\"M 12.40625 8.296875 \nL 28.515625 8.296875 \nL 28.515625 63.921875 \nL 10.984375 60.40625 \nL 10.984375 69.390625 \nL 28.421875 72.90625 \nL 38.28125 72.90625 \nL 38.28125 8.296875 \nL 54.390625 8.296875 \nL 54.390625 0 \nL 12.40625 0 \nz\n\" id=\"DejaVuSans-49\"/>\n      </defs>\n      <g transform=\"translate(143.933915 241.699282)scale(0.1 -0.1)\">\n       <use xlink:href=\"#DejaVuSans-49\"/>\n       <use x=\"63.623047\" xlink:href=\"#DejaVuSans-48\"/>\n       <use x=\"127.246094\" xlink:href=\"#DejaVuSans-48\"/>\n      </g>\n     </g>\n    </g>\n    <g id=\"xtick_4\">\n     <g id=\"line2d_4\">\n      <g>\n       <use style=\"stroke:#000000;stroke-width:0.8;\" x=\"204.374594\" xlink:href=\"#m148170f0ec\" y=\"227.100844\"/>\n      </g>\n     </g>\n     <g id=\"text_4\">\n      <!-- 150 -->\n      <g transform=\"translate(194.830844 241.699282)scale(0.1 -0.1)\">\n       <use xlink:href=\"#DejaVuSans-49\"/>\n       <use x=\"63.623047\" xlink:href=\"#DejaVuSans-53\"/>\n       <use x=\"127.246094\" xlink:href=\"#DejaVuSans-48\"/>\n      </g>\n     </g>\n    </g>\n    <g id=\"xtick_5\">\n     <g id=\"line2d_5\">\n      <g>\n       <use style=\"stroke:#000000;stroke-width:0.8;\" x=\"255.271523\" xlink:href=\"#m148170f0ec\" y=\"227.100844\"/>\n      </g>\n     </g>\n     <g id=\"text_5\">\n      <!-- 200 -->\n      <defs>\n       <path d=\"M 19.1875 8.296875 \nL 53.609375 8.296875 \nL 53.609375 0 \nL 7.328125 0 \nL 7.328125 8.296875 \nQ 12.9375 14.109375 22.625 23.890625 \nQ 32.328125 33.6875 34.8125 36.53125 \nQ 39.546875 41.84375 41.421875 45.53125 \nQ 43.3125 49.21875 43.3125 52.78125 \nQ 43.3125 58.59375 39.234375 62.25 \nQ 35.15625 65.921875 28.609375 65.921875 \nQ 23.96875 65.921875 18.8125 64.3125 \nQ 13.671875 62.703125 7.8125 59.421875 \nL 7.8125 69.390625 \nQ 13.765625 71.78125 18.9375 73 \nQ 24.125 74.21875 28.421875 74.21875 \nQ 39.75 74.21875 46.484375 68.546875 \nQ 53.21875 62.890625 53.21875 53.421875 \nQ 53.21875 48.921875 51.53125 44.890625 \nQ 49.859375 40.875 45.40625 35.40625 \nQ 44.1875 33.984375 37.640625 27.21875 \nQ 31.109375 20.453125 19.1875 8.296875 \nz\n\" id=\"DejaVuSans-50\"/>\n      </defs>\n      <g transform=\"translate(245.727773 241.699282)scale(0.1 -0.1)\">\n       <use xlink:href=\"#DejaVuSans-50\"/>\n       <use x=\"63.623047\" xlink:href=\"#DejaVuSans-48\"/>\n       <use x=\"127.246094\" xlink:href=\"#DejaVuSans-48\"/>\n      </g>\n     </g>\n    </g>\n    <g id=\"xtick_6\">\n     <g id=\"line2d_6\">\n      <g>\n       <use style=\"stroke:#000000;stroke-width:0.8;\" x=\"306.168453\" xlink:href=\"#m148170f0ec\" y=\"227.100844\"/>\n      </g>\n     </g>\n     <g id=\"text_6\">\n      <!-- 250 -->\n      <g transform=\"translate(296.624703 241.699282)scale(0.1 -0.1)\">\n       <use xlink:href=\"#DejaVuSans-50\"/>\n       <use x=\"63.623047\" xlink:href=\"#DejaVuSans-53\"/>\n       <use x=\"127.246094\" xlink:href=\"#DejaVuSans-48\"/>\n      </g>\n     </g>\n    </g>\n    <g id=\"xtick_7\">\n     <g id=\"line2d_7\">\n      <g>\n       <use style=\"stroke:#000000;stroke-width:0.8;\" x=\"357.065382\" xlink:href=\"#m148170f0ec\" y=\"227.100844\"/>\n      </g>\n     </g>\n     <g id=\"text_7\">\n      <!-- 300 -->\n      <defs>\n       <path d=\"M 40.578125 39.3125 \nQ 47.65625 37.796875 51.625 33 \nQ 55.609375 28.21875 55.609375 21.1875 \nQ 55.609375 10.40625 48.1875 4.484375 \nQ 40.765625 -1.421875 27.09375 -1.421875 \nQ 22.515625 -1.421875 17.65625 -0.515625 \nQ 12.796875 0.390625 7.625 2.203125 \nL 7.625 11.71875 \nQ 11.71875 9.328125 16.59375 8.109375 \nQ 21.484375 6.890625 26.8125 6.890625 \nQ 36.078125 6.890625 40.9375 10.546875 \nQ 45.796875 14.203125 45.796875 21.1875 \nQ 45.796875 27.640625 41.28125 31.265625 \nQ 36.765625 34.90625 28.71875 34.90625 \nL 20.21875 34.90625 \nL 20.21875 43.015625 \nL 29.109375 43.015625 \nQ 36.375 43.015625 40.234375 45.921875 \nQ 44.09375 48.828125 44.09375 54.296875 \nQ 44.09375 59.90625 40.109375 62.90625 \nQ 36.140625 65.921875 28.71875 65.921875 \nQ 24.65625 65.921875 20.015625 65.03125 \nQ 15.375 64.15625 9.8125 62.3125 \nL 9.8125 71.09375 \nQ 15.4375 72.65625 20.34375 73.4375 \nQ 25.25 74.21875 29.59375 74.21875 \nQ 40.828125 74.21875 47.359375 69.109375 \nQ 53.90625 64.015625 53.90625 55.328125 \nQ 53.90625 49.265625 50.4375 45.09375 \nQ 46.96875 40.921875 40.578125 39.3125 \nz\n\" id=\"DejaVuSans-51\"/>\n      </defs>\n      <g transform=\"translate(347.521632 241.699282)scale(0.1 -0.1)\">\n       <use xlink:href=\"#DejaVuSans-51\"/>\n       <use x=\"63.623047\" xlink:href=\"#DejaVuSans-48\"/>\n       <use x=\"127.246094\" xlink:href=\"#DejaVuSans-48\"/>\n      </g>\n     </g>\n    </g>\n   </g>\n   <g id=\"matplotlib.axis_2\">\n    <g id=\"ytick_1\">\n     <g id=\"line2d_8\">\n      <defs>\n       <path d=\"M 0 0 \nL -3.5 0 \n\" id=\"mbf84bd2c5e\" style=\"stroke:#000000;stroke-width:0.8;\"/>\n      </defs>\n      <g>\n       <use style=\"stroke:#000000;stroke-width:0.8;\" x=\"36.465625\" xlink:href=\"#mbf84bd2c5e\" y=\"222.29146\"/>\n      </g>\n     </g>\n     <g id=\"text_8\">\n      <!-- 0.00 -->\n      <defs>\n       <path d=\"M 10.6875 12.40625 \nL 21 12.40625 \nL 21 0 \nL 10.6875 0 \nz\n\" id=\"DejaVuSans-46\"/>\n      </defs>\n      <g transform=\"translate(7.2 226.090679)scale(0.1 -0.1)\">\n       <use xlink:href=\"#DejaVuSans-48\"/>\n       <use x=\"63.623047\" xlink:href=\"#DejaVuSans-46\"/>\n       <use x=\"95.410156\" xlink:href=\"#DejaVuSans-48\"/>\n       <use x=\"159.033203\" xlink:href=\"#DejaVuSans-48\"/>\n      </g>\n     </g>\n    </g>\n    <g id=\"ytick_2\">\n     <g id=\"line2d_9\">\n      <g>\n       <use style=\"stroke:#000000;stroke-width:0.8;\" x=\"36.465625\" xlink:href=\"#mbf84bd2c5e\" y=\"195.87993\"/>\n      </g>\n     </g>\n     <g id=\"text_9\">\n      <!-- 0.02 -->\n      <g transform=\"translate(7.2 199.679149)scale(0.1 -0.1)\">\n       <use xlink:href=\"#DejaVuSans-48\"/>\n       <use x=\"63.623047\" xlink:href=\"#DejaVuSans-46\"/>\n       <use x=\"95.410156\" xlink:href=\"#DejaVuSans-48\"/>\n       <use x=\"159.033203\" xlink:href=\"#DejaVuSans-50\"/>\n      </g>\n     </g>\n    </g>\n    <g id=\"ytick_3\">\n     <g id=\"line2d_10\">\n      <g>\n       <use style=\"stroke:#000000;stroke-width:0.8;\" x=\"36.465625\" xlink:href=\"#mbf84bd2c5e\" y=\"169.4684\"/>\n      </g>\n     </g>\n     <g id=\"text_10\">\n      <!-- 0.04 -->\n      <defs>\n       <path d=\"M 37.796875 64.3125 \nL 12.890625 25.390625 \nL 37.796875 25.390625 \nz\nM 35.203125 72.90625 \nL 47.609375 72.90625 \nL 47.609375 25.390625 \nL 58.015625 25.390625 \nL 58.015625 17.1875 \nL 47.609375 17.1875 \nL 47.609375 0 \nL 37.796875 0 \nL 37.796875 17.1875 \nL 4.890625 17.1875 \nL 4.890625 26.703125 \nz\n\" id=\"DejaVuSans-52\"/>\n      </defs>\n      <g transform=\"translate(7.2 173.267619)scale(0.1 -0.1)\">\n       <use xlink:href=\"#DejaVuSans-48\"/>\n       <use x=\"63.623047\" xlink:href=\"#DejaVuSans-46\"/>\n       <use x=\"95.410156\" xlink:href=\"#DejaVuSans-48\"/>\n       <use x=\"159.033203\" xlink:href=\"#DejaVuSans-52\"/>\n      </g>\n     </g>\n    </g>\n    <g id=\"ytick_4\">\n     <g id=\"line2d_11\">\n      <g>\n       <use style=\"stroke:#000000;stroke-width:0.8;\" x=\"36.465625\" xlink:href=\"#mbf84bd2c5e\" y=\"143.05687\"/>\n      </g>\n     </g>\n     <g id=\"text_11\">\n      <!-- 0.06 -->\n      <defs>\n       <path d=\"M 33.015625 40.375 \nQ 26.375 40.375 22.484375 35.828125 \nQ 18.609375 31.296875 18.609375 23.390625 \nQ 18.609375 15.53125 22.484375 10.953125 \nQ 26.375 6.390625 33.015625 6.390625 \nQ 39.65625 6.390625 43.53125 10.953125 \nQ 47.40625 15.53125 47.40625 23.390625 \nQ 47.40625 31.296875 43.53125 35.828125 \nQ 39.65625 40.375 33.015625 40.375 \nz\nM 52.59375 71.296875 \nL 52.59375 62.3125 \nQ 48.875 64.0625 45.09375 64.984375 \nQ 41.3125 65.921875 37.59375 65.921875 \nQ 27.828125 65.921875 22.671875 59.328125 \nQ 17.53125 52.734375 16.796875 39.40625 \nQ 19.671875 43.65625 24.015625 45.921875 \nQ 28.375 48.1875 33.59375 48.1875 \nQ 44.578125 48.1875 50.953125 41.515625 \nQ 57.328125 34.859375 57.328125 23.390625 \nQ 57.328125 12.15625 50.6875 5.359375 \nQ 44.046875 -1.421875 33.015625 -1.421875 \nQ 20.359375 -1.421875 13.671875 8.265625 \nQ 6.984375 17.96875 6.984375 36.375 \nQ 6.984375 53.65625 15.1875 63.9375 \nQ 23.390625 74.21875 37.203125 74.21875 \nQ 40.921875 74.21875 44.703125 73.484375 \nQ 48.484375 72.75 52.59375 71.296875 \nz\n\" id=\"DejaVuSans-54\"/>\n      </defs>\n      <g transform=\"translate(7.2 146.856088)scale(0.1 -0.1)\">\n       <use xlink:href=\"#DejaVuSans-48\"/>\n       <use x=\"63.623047\" xlink:href=\"#DejaVuSans-46\"/>\n       <use x=\"95.410156\" xlink:href=\"#DejaVuSans-48\"/>\n       <use x=\"159.033203\" xlink:href=\"#DejaVuSans-54\"/>\n      </g>\n     </g>\n    </g>\n    <g id=\"ytick_5\">\n     <g id=\"line2d_12\">\n      <g>\n       <use style=\"stroke:#000000;stroke-width:0.8;\" x=\"36.465625\" xlink:href=\"#mbf84bd2c5e\" y=\"116.645339\"/>\n      </g>\n     </g>\n     <g id=\"text_12\">\n      <!-- 0.08 -->\n      <defs>\n       <path d=\"M 31.78125 34.625 \nQ 24.75 34.625 20.71875 30.859375 \nQ 16.703125 27.09375 16.703125 20.515625 \nQ 16.703125 13.921875 20.71875 10.15625 \nQ 24.75 6.390625 31.78125 6.390625 \nQ 38.8125 6.390625 42.859375 10.171875 \nQ 46.921875 13.96875 46.921875 20.515625 \nQ 46.921875 27.09375 42.890625 30.859375 \nQ 38.875 34.625 31.78125 34.625 \nz\nM 21.921875 38.8125 \nQ 15.578125 40.375 12.03125 44.71875 \nQ 8.5 49.078125 8.5 55.328125 \nQ 8.5 64.0625 14.71875 69.140625 \nQ 20.953125 74.21875 31.78125 74.21875 \nQ 42.671875 74.21875 48.875 69.140625 \nQ 55.078125 64.0625 55.078125 55.328125 \nQ 55.078125 49.078125 51.53125 44.71875 \nQ 48 40.375 41.703125 38.8125 \nQ 48.828125 37.15625 52.796875 32.3125 \nQ 56.78125 27.484375 56.78125 20.515625 \nQ 56.78125 9.90625 50.3125 4.234375 \nQ 43.84375 -1.421875 31.78125 -1.421875 \nQ 19.734375 -1.421875 13.25 4.234375 \nQ 6.78125 9.90625 6.78125 20.515625 \nQ 6.78125 27.484375 10.78125 32.3125 \nQ 14.796875 37.15625 21.921875 38.8125 \nz\nM 18.3125 54.390625 \nQ 18.3125 48.734375 21.84375 45.5625 \nQ 25.390625 42.390625 31.78125 42.390625 \nQ 38.140625 42.390625 41.71875 45.5625 \nQ 45.3125 48.734375 45.3125 54.390625 \nQ 45.3125 60.0625 41.71875 63.234375 \nQ 38.140625 66.40625 31.78125 66.40625 \nQ 25.390625 66.40625 21.84375 63.234375 \nQ 18.3125 60.0625 18.3125 54.390625 \nz\n\" id=\"DejaVuSans-56\"/>\n      </defs>\n      <g transform=\"translate(7.2 120.444558)scale(0.1 -0.1)\">\n       <use xlink:href=\"#DejaVuSans-48\"/>\n       <use x=\"63.623047\" xlink:href=\"#DejaVuSans-46\"/>\n       <use x=\"95.410156\" xlink:href=\"#DejaVuSans-48\"/>\n       <use x=\"159.033203\" xlink:href=\"#DejaVuSans-56\"/>\n      </g>\n     </g>\n    </g>\n    <g id=\"ytick_6\">\n     <g id=\"line2d_13\">\n      <g>\n       <use style=\"stroke:#000000;stroke-width:0.8;\" x=\"36.465625\" xlink:href=\"#mbf84bd2c5e\" y=\"90.233809\"/>\n      </g>\n     </g>\n     <g id=\"text_13\">\n      <!-- 0.10 -->\n      <g transform=\"translate(7.2 94.033028)scale(0.1 -0.1)\">\n       <use xlink:href=\"#DejaVuSans-48\"/>\n       <use x=\"63.623047\" xlink:href=\"#DejaVuSans-46\"/>\n       <use x=\"95.410156\" xlink:href=\"#DejaVuSans-49\"/>\n       <use x=\"159.033203\" xlink:href=\"#DejaVuSans-48\"/>\n      </g>\n     </g>\n    </g>\n    <g id=\"ytick_7\">\n     <g id=\"line2d_14\">\n      <g>\n       <use style=\"stroke:#000000;stroke-width:0.8;\" x=\"36.465625\" xlink:href=\"#mbf84bd2c5e\" y=\"63.822279\"/>\n      </g>\n     </g>\n     <g id=\"text_14\">\n      <!-- 0.12 -->\n      <g transform=\"translate(7.2 67.621498)scale(0.1 -0.1)\">\n       <use xlink:href=\"#DejaVuSans-48\"/>\n       <use x=\"63.623047\" xlink:href=\"#DejaVuSans-46\"/>\n       <use x=\"95.410156\" xlink:href=\"#DejaVuSans-49\"/>\n       <use x=\"159.033203\" xlink:href=\"#DejaVuSans-50\"/>\n      </g>\n     </g>\n    </g>\n    <g id=\"ytick_8\">\n     <g id=\"line2d_15\">\n      <g>\n       <use style=\"stroke:#000000;stroke-width:0.8;\" x=\"36.465625\" xlink:href=\"#mbf84bd2c5e\" y=\"37.410749\"/>\n      </g>\n     </g>\n     <g id=\"text_15\">\n      <!-- 0.14 -->\n      <g transform=\"translate(7.2 41.209968)scale(0.1 -0.1)\">\n       <use xlink:href=\"#DejaVuSans-48\"/>\n       <use x=\"63.623047\" xlink:href=\"#DejaVuSans-46\"/>\n       <use x=\"95.410156\" xlink:href=\"#DejaVuSans-49\"/>\n       <use x=\"159.033203\" xlink:href=\"#DejaVuSans-52\"/>\n      </g>\n     </g>\n    </g>\n    <g id=\"ytick_9\">\n     <g id=\"line2d_16\">\n      <g>\n       <use style=\"stroke:#000000;stroke-width:0.8;\" x=\"36.465625\" xlink:href=\"#mbf84bd2c5e\" y=\"10.999219\"/>\n      </g>\n     </g>\n     <g id=\"text_16\">\n      <!-- 0.16 -->\n      <g transform=\"translate(7.2 14.798437)scale(0.1 -0.1)\">\n       <use xlink:href=\"#DejaVuSans-48\"/>\n       <use x=\"63.623047\" xlink:href=\"#DejaVuSans-46\"/>\n       <use x=\"95.410156\" xlink:href=\"#DejaVuSans-49\"/>\n       <use x=\"159.033203\" xlink:href=\"#DejaVuSans-54\"/>\n      </g>\n     </g>\n    </g>\n   </g>\n   <g id=\"line2d_17\">\n    <path clip-path=\"url(#p29a14c3b2a)\" d=\"M 51.683807 19.54448 \nL 52.701745 105.049023 \nL 53.719684 150.07498 \nL 54.737623 173.922318 \nL 55.755561 186.683582 \nL 56.7735 193.63668 \nL 57.791438 197.541896 \nL 58.809377 199.843021 \nL 59.827315 201.295421 \nL 60.845254 202.29447 \nL 62.881131 203.662511 \nL 64.917008 204.681933 \nL 67.970824 205.962329 \nL 72.042578 207.419244 \nL 76.114333 208.662728 \nL 81.204026 209.96932 \nL 86.293719 211.047311 \nL 92.40135 212.096429 \nL 99.52692 213.054124 \nL 107.670429 213.881878 \nL 116.831876 214.564569 \nL 128.029201 215.150666 \nL 141.262402 215.613416 \nL 159.585297 216.013167 \nL 186.0517 216.345764 \nL 232.876875 216.678602 \nL 333.652794 217.134885 \nL 356.047443 217.217208 \nL 356.047443 217.217208 \n\" style=\"fill:none;stroke:#0000ff;stroke-linecap:square;stroke-width:1.5;\"/>\n    <defs>\n     <path d=\"M 0 3 \nC 0.795609 3 1.55874 2.683901 2.12132 2.12132 \nC 2.683901 1.55874 3 0.795609 3 0 \nC 3 -0.795609 2.683901 -1.55874 2.12132 -2.12132 \nC 1.55874 -2.683901 0.795609 -3 0 -3 \nC -0.795609 -3 -1.55874 -2.683901 -2.12132 -2.12132 \nC -2.683901 -1.55874 -3 -0.795609 -3 0 \nC -3 0.795609 -2.683901 1.55874 -2.12132 2.12132 \nC -1.55874 2.683901 -0.795609 3 0 3 \nz\n\" id=\"m533fd1927f\" style=\"stroke:#0000ff;\"/>\n    </defs>\n    <g clip-path=\"url(#p29a14c3b2a)\">\n     <use style=\"fill:#0000ff;stroke:#0000ff;\" x=\"51.683807\" xlink:href=\"#m533fd1927f\" y=\"19.54448\"/>\n     <use style=\"fill:#0000ff;stroke:#0000ff;\" x=\"52.701745\" xlink:href=\"#m533fd1927f\" y=\"105.049023\"/>\n     <use style=\"fill:#0000ff;stroke:#0000ff;\" x=\"53.719684\" xlink:href=\"#m533fd1927f\" y=\"150.07498\"/>\n     <use style=\"fill:#0000ff;stroke:#0000ff;\" x=\"54.737623\" xlink:href=\"#m533fd1927f\" y=\"173.922318\"/>\n     <use style=\"fill:#0000ff;stroke:#0000ff;\" x=\"55.755561\" xlink:href=\"#m533fd1927f\" y=\"186.683582\"/>\n     <use style=\"fill:#0000ff;stroke:#0000ff;\" x=\"56.7735\" xlink:href=\"#m533fd1927f\" y=\"193.63668\"/>\n     <use style=\"fill:#0000ff;stroke:#0000ff;\" x=\"57.791438\" xlink:href=\"#m533fd1927f\" y=\"197.541896\"/>\n     <use style=\"fill:#0000ff;stroke:#0000ff;\" x=\"58.809377\" xlink:href=\"#m533fd1927f\" y=\"199.843021\"/>\n     <use style=\"fill:#0000ff;stroke:#0000ff;\" x=\"59.827315\" xlink:href=\"#m533fd1927f\" y=\"201.295421\"/>\n     <use style=\"fill:#0000ff;stroke:#0000ff;\" x=\"60.845254\" xlink:href=\"#m533fd1927f\" y=\"202.29447\"/>\n     <use style=\"fill:#0000ff;stroke:#0000ff;\" x=\"61.863193\" xlink:href=\"#m533fd1927f\" y=\"203.04728\"/>\n     <use style=\"fill:#0000ff;stroke:#0000ff;\" x=\"62.881131\" xlink:href=\"#m533fd1927f\" y=\"203.662511\"/>\n     <use style=\"fill:#0000ff;stroke:#0000ff;\" x=\"63.89907\" xlink:href=\"#m533fd1927f\" y=\"204.197322\"/>\n     <use style=\"fill:#0000ff;stroke:#0000ff;\" x=\"64.917008\" xlink:href=\"#m533fd1927f\" y=\"204.681933\"/>\n     <use style=\"fill:#0000ff;stroke:#0000ff;\" x=\"65.934947\" xlink:href=\"#m533fd1927f\" y=\"205.132462\"/>\n     <use style=\"fill:#0000ff;stroke:#0000ff;\" x=\"66.952886\" xlink:href=\"#m533fd1927f\" y=\"205.557641\"/>\n     <use style=\"fill:#0000ff;stroke:#0000ff;\" x=\"67.970824\" xlink:href=\"#m533fd1927f\" y=\"205.962329\"/>\n     <use style=\"fill:#0000ff;stroke:#0000ff;\" x=\"68.988763\" xlink:href=\"#m533fd1927f\" y=\"206.349348\"/>\n     <use style=\"fill:#0000ff;stroke:#0000ff;\" x=\"70.006701\" xlink:href=\"#m533fd1927f\" y=\"206.720444\"/>\n     <use style=\"fill:#0000ff;stroke:#0000ff;\" x=\"71.02464\" xlink:href=\"#m533fd1927f\" y=\"207.076788\"/>\n     <use style=\"fill:#0000ff;stroke:#0000ff;\" x=\"72.042578\" xlink:href=\"#m533fd1927f\" y=\"207.419244\"/>\n     <use style=\"fill:#0000ff;stroke:#0000ff;\" x=\"73.060517\" xlink:href=\"#m533fd1927f\" y=\"207.748503\"/>\n     <use style=\"fill:#0000ff;stroke:#0000ff;\" x=\"74.078456\" xlink:href=\"#m533fd1927f\" y=\"208.065156\"/>\n     <use style=\"fill:#0000ff;stroke:#0000ff;\" x=\"75.096394\" xlink:href=\"#m533fd1927f\" y=\"208.369734\"/>\n     <use style=\"fill:#0000ff;stroke:#0000ff;\" x=\"76.114333\" xlink:href=\"#m533fd1927f\" y=\"208.662728\"/>\n     <use style=\"fill:#0000ff;stroke:#0000ff;\" x=\"77.132271\" xlink:href=\"#m533fd1927f\" y=\"208.944599\"/>\n     <use style=\"fill:#0000ff;stroke:#0000ff;\" x=\"78.15021\" xlink:href=\"#m533fd1927f\" y=\"209.215784\"/>\n     <use style=\"fill:#0000ff;stroke:#0000ff;\" x=\"79.168149\" xlink:href=\"#m533fd1927f\" y=\"209.476702\"/>\n     <use style=\"fill:#0000ff;stroke:#0000ff;\" x=\"80.186087\" xlink:href=\"#m533fd1927f\" y=\"209.727753\"/>\n     <use style=\"fill:#0000ff;stroke:#0000ff;\" x=\"81.204026\" xlink:href=\"#m533fd1927f\" y=\"209.96932\"/>\n     <use style=\"fill:#0000ff;stroke:#0000ff;\" x=\"82.221964\" xlink:href=\"#m533fd1927f\" y=\"210.201773\"/>\n     <use style=\"fill:#0000ff;stroke:#0000ff;\" x=\"83.239903\" xlink:href=\"#m533fd1927f\" y=\"210.425465\"/>\n     <use style=\"fill:#0000ff;stroke:#0000ff;\" x=\"84.257841\" xlink:href=\"#m533fd1927f\" y=\"210.640736\"/>\n     <use style=\"fill:#0000ff;stroke:#0000ff;\" x=\"85.27578\" xlink:href=\"#m533fd1927f\" y=\"210.847913\"/>\n     <use style=\"fill:#0000ff;stroke:#0000ff;\" x=\"86.293719\" xlink:href=\"#m533fd1927f\" y=\"211.047311\"/>\n     <use style=\"fill:#0000ff;stroke:#0000ff;\" x=\"87.311657\" xlink:href=\"#m533fd1927f\" y=\"211.239231\"/>\n     <use style=\"fill:#0000ff;stroke:#0000ff;\" x=\"88.329596\" xlink:href=\"#m533fd1927f\" y=\"211.423963\"/>\n     <use style=\"fill:#0000ff;stroke:#0000ff;\" x=\"89.347534\" xlink:href=\"#m533fd1927f\" y=\"211.601785\"/>\n     <use style=\"fill:#0000ff;stroke:#0000ff;\" x=\"90.365473\" xlink:href=\"#m533fd1927f\" y=\"211.772967\"/>\n     <use style=\"fill:#0000ff;stroke:#0000ff;\" x=\"91.383412\" xlink:href=\"#m533fd1927f\" y=\"211.937766\"/>\n     <use style=\"fill:#0000ff;stroke:#0000ff;\" x=\"92.40135\" xlink:href=\"#m533fd1927f\" y=\"212.096429\"/>\n     <use style=\"fill:#0000ff;stroke:#0000ff;\" x=\"93.419289\" xlink:href=\"#m533fd1927f\" y=\"212.249193\"/>\n     <use style=\"fill:#0000ff;stroke:#0000ff;\" x=\"94.437227\" xlink:href=\"#m533fd1927f\" y=\"212.396288\"/>\n     <use style=\"fill:#0000ff;stroke:#0000ff;\" x=\"95.455166\" xlink:href=\"#m533fd1927f\" y=\"212.537934\"/>\n     <use style=\"fill:#0000ff;stroke:#0000ff;\" x=\"96.473104\" xlink:href=\"#m533fd1927f\" y=\"212.674341\"/>\n     <use style=\"fill:#0000ff;stroke:#0000ff;\" x=\"97.491043\" xlink:href=\"#m533fd1927f\" y=\"212.805713\"/>\n     <use style=\"fill:#0000ff;stroke:#0000ff;\" x=\"98.508982\" xlink:href=\"#m533fd1927f\" y=\"212.932245\"/>\n     <use style=\"fill:#0000ff;stroke:#0000ff;\" x=\"99.52692\" xlink:href=\"#m533fd1927f\" y=\"213.054124\"/>\n     <use style=\"fill:#0000ff;stroke:#0000ff;\" x=\"100.544859\" xlink:href=\"#m533fd1927f\" y=\"213.17153\"/>\n     <use style=\"fill:#0000ff;stroke:#0000ff;\" x=\"101.562797\" xlink:href=\"#m533fd1927f\" y=\"213.284637\"/>\n     <use style=\"fill:#0000ff;stroke:#0000ff;\" x=\"102.580736\" xlink:href=\"#m533fd1927f\" y=\"213.393612\"/>\n     <use style=\"fill:#0000ff;stroke:#0000ff;\" x=\"103.598675\" xlink:href=\"#m533fd1927f\" y=\"213.498613\"/>\n     <use style=\"fill:#0000ff;stroke:#0000ff;\" x=\"104.616613\" xlink:href=\"#m533fd1927f\" y=\"213.599795\"/>\n     <use style=\"fill:#0000ff;stroke:#0000ff;\" x=\"105.634552\" xlink:href=\"#m533fd1927f\" y=\"213.697307\"/>\n     <use style=\"fill:#0000ff;stroke:#0000ff;\" x=\"106.65249\" xlink:href=\"#m533fd1927f\" y=\"213.791289\"/>\n     <use style=\"fill:#0000ff;stroke:#0000ff;\" x=\"107.670429\" xlink:href=\"#m533fd1927f\" y=\"213.881878\"/>\n     <use style=\"fill:#0000ff;stroke:#0000ff;\" x=\"108.688367\" xlink:href=\"#m533fd1927f\" y=\"213.969206\"/>\n     <use style=\"fill:#0000ff;stroke:#0000ff;\" x=\"109.706306\" xlink:href=\"#m533fd1927f\" y=\"214.053398\"/>\n     <use style=\"fill:#0000ff;stroke:#0000ff;\" x=\"110.724245\" xlink:href=\"#m533fd1927f\" y=\"214.134577\"/>\n     <use style=\"fill:#0000ff;stroke:#0000ff;\" x=\"111.742183\" xlink:href=\"#m533fd1927f\" y=\"214.212858\"/>\n     <use style=\"fill:#0000ff;stroke:#0000ff;\" x=\"112.760122\" xlink:href=\"#m533fd1927f\" y=\"214.288353\"/>\n     <use style=\"fill:#0000ff;stroke:#0000ff;\" x=\"113.77806\" xlink:href=\"#m533fd1927f\" y=\"214.36117\"/>\n     <use style=\"fill:#0000ff;stroke:#0000ff;\" x=\"114.795999\" xlink:href=\"#m533fd1927f\" y=\"214.431413\"/>\n     <use style=\"fill:#0000ff;stroke:#0000ff;\" x=\"115.813938\" xlink:href=\"#m533fd1927f\" y=\"214.499181\"/>\n     <use style=\"fill:#0000ff;stroke:#0000ff;\" x=\"116.831876\" xlink:href=\"#m533fd1927f\" y=\"214.564569\"/>\n     <use style=\"fill:#0000ff;stroke:#0000ff;\" x=\"117.849815\" xlink:href=\"#m533fd1927f\" y=\"214.627669\"/>\n     <use style=\"fill:#0000ff;stroke:#0000ff;\" x=\"118.867753\" xlink:href=\"#m533fd1927f\" y=\"214.68857\"/>\n     <use style=\"fill:#0000ff;stroke:#0000ff;\" x=\"119.885692\" xlink:href=\"#m533fd1927f\" y=\"214.747356\"/>\n     <use style=\"fill:#0000ff;stroke:#0000ff;\" x=\"120.90363\" xlink:href=\"#m533fd1927f\" y=\"214.804109\"/>\n     <use style=\"fill:#0000ff;stroke:#0000ff;\" x=\"121.921569\" xlink:href=\"#m533fd1927f\" y=\"214.858907\"/>\n     <use style=\"fill:#0000ff;stroke:#0000ff;\" x=\"122.939508\" xlink:href=\"#m533fd1927f\" y=\"214.911826\"/>\n     <use style=\"fill:#0000ff;stroke:#0000ff;\" x=\"123.957446\" xlink:href=\"#m533fd1927f\" y=\"214.962938\"/>\n     <use style=\"fill:#0000ff;stroke:#0000ff;\" x=\"124.975385\" xlink:href=\"#m533fd1927f\" y=\"215.012312\"/>\n     <use style=\"fill:#0000ff;stroke:#0000ff;\" x=\"125.993323\" xlink:href=\"#m533fd1927f\" y=\"215.060016\"/>\n     <use style=\"fill:#0000ff;stroke:#0000ff;\" x=\"127.011262\" xlink:href=\"#m533fd1927f\" y=\"215.106113\"/>\n     <use style=\"fill:#0000ff;stroke:#0000ff;\" x=\"128.029201\" xlink:href=\"#m533fd1927f\" y=\"215.150666\"/>\n     <use style=\"fill:#0000ff;stroke:#0000ff;\" x=\"129.047139\" xlink:href=\"#m533fd1927f\" y=\"215.193734\"/>\n     <use style=\"fill:#0000ff;stroke:#0000ff;\" x=\"130.065078\" xlink:href=\"#m533fd1927f\" y=\"215.235373\"/>\n     <use style=\"fill:#0000ff;stroke:#0000ff;\" x=\"131.083016\" xlink:href=\"#m533fd1927f\" y=\"215.27564\"/>\n     <use style=\"fill:#0000ff;stroke:#0000ff;\" x=\"132.100955\" xlink:href=\"#m533fd1927f\" y=\"215.314585\"/>\n     <use style=\"fill:#0000ff;stroke:#0000ff;\" x=\"133.118893\" xlink:href=\"#m533fd1927f\" y=\"215.352261\"/>\n     <use style=\"fill:#0000ff;stroke:#0000ff;\" x=\"134.136832\" xlink:href=\"#m533fd1927f\" y=\"215.388716\"/>\n     <use style=\"fill:#0000ff;stroke:#0000ff;\" x=\"135.154771\" xlink:href=\"#m533fd1927f\" y=\"215.423996\"/>\n     <use style=\"fill:#0000ff;stroke:#0000ff;\" x=\"136.172709\" xlink:href=\"#m533fd1927f\" y=\"215.458147\"/>\n     <use style=\"fill:#0000ff;stroke:#0000ff;\" x=\"137.190648\" xlink:href=\"#m533fd1927f\" y=\"215.491211\"/>\n     <use style=\"fill:#0000ff;stroke:#0000ff;\" x=\"138.208586\" xlink:href=\"#m533fd1927f\" y=\"215.523232\"/>\n     <use style=\"fill:#0000ff;stroke:#0000ff;\" x=\"139.226525\" xlink:href=\"#m533fd1927f\" y=\"215.554247\"/>\n     <use style=\"fill:#0000ff;stroke:#0000ff;\" x=\"140.244464\" xlink:href=\"#m533fd1927f\" y=\"215.584296\"/>\n     <use style=\"fill:#0000ff;stroke:#0000ff;\" x=\"141.262402\" xlink:href=\"#m533fd1927f\" y=\"215.613416\"/>\n     <use style=\"fill:#0000ff;stroke:#0000ff;\" x=\"142.280341\" xlink:href=\"#m533fd1927f\" y=\"215.641642\"/>\n     <use style=\"fill:#0000ff;stroke:#0000ff;\" x=\"143.298279\" xlink:href=\"#m533fd1927f\" y=\"215.669008\"/>\n     <use style=\"fill:#0000ff;stroke:#0000ff;\" x=\"144.316218\" xlink:href=\"#m533fd1927f\" y=\"215.695547\"/>\n     <use style=\"fill:#0000ff;stroke:#0000ff;\" x=\"145.334156\" xlink:href=\"#m533fd1927f\" y=\"215.721291\"/>\n     <use style=\"fill:#0000ff;stroke:#0000ff;\" x=\"146.352095\" xlink:href=\"#m533fd1927f\" y=\"215.746269\"/>\n     <use style=\"fill:#0000ff;stroke:#0000ff;\" x=\"147.370034\" xlink:href=\"#m533fd1927f\" y=\"215.770511\"/>\n     <use style=\"fill:#0000ff;stroke:#0000ff;\" x=\"148.387972\" xlink:href=\"#m533fd1927f\" y=\"215.794045\"/>\n     <use style=\"fill:#0000ff;stroke:#0000ff;\" x=\"149.405911\" xlink:href=\"#m533fd1927f\" y=\"215.816898\"/>\n     <use style=\"fill:#0000ff;stroke:#0000ff;\" x=\"150.423849\" xlink:href=\"#m533fd1927f\" y=\"215.839095\"/>\n     <use style=\"fill:#0000ff;stroke:#0000ff;\" x=\"151.441788\" xlink:href=\"#m533fd1927f\" y=\"215.860661\"/>\n     <use style=\"fill:#0000ff;stroke:#0000ff;\" x=\"152.459727\" xlink:href=\"#m533fd1927f\" y=\"215.881621\"/>\n     <use style=\"fill:#0000ff;stroke:#0000ff;\" x=\"153.477665\" xlink:href=\"#m533fd1927f\" y=\"215.901997\"/>\n     <use style=\"fill:#0000ff;stroke:#0000ff;\" x=\"154.495604\" xlink:href=\"#m533fd1927f\" y=\"215.921811\"/>\n     <use style=\"fill:#0000ff;stroke:#0000ff;\" x=\"155.513542\" xlink:href=\"#m533fd1927f\" y=\"215.941084\"/>\n     <use style=\"fill:#0000ff;stroke:#0000ff;\" x=\"156.531481\" xlink:href=\"#m533fd1927f\" y=\"215.959837\"/>\n     <use style=\"fill:#0000ff;stroke:#0000ff;\" x=\"157.549419\" xlink:href=\"#m533fd1927f\" y=\"215.97809\"/>\n     <use style=\"fill:#0000ff;stroke:#0000ff;\" x=\"158.567358\" xlink:href=\"#m533fd1927f\" y=\"215.99586\"/>\n     <use style=\"fill:#0000ff;stroke:#0000ff;\" x=\"159.585297\" xlink:href=\"#m533fd1927f\" y=\"216.013167\"/>\n     <use style=\"fill:#0000ff;stroke:#0000ff;\" x=\"160.603235\" xlink:href=\"#m533fd1927f\" y=\"216.030028\"/>\n     <use style=\"fill:#0000ff;stroke:#0000ff;\" x=\"161.621174\" xlink:href=\"#m533fd1927f\" y=\"216.046459\"/>\n     <use style=\"fill:#0000ff;stroke:#0000ff;\" x=\"162.639112\" xlink:href=\"#m533fd1927f\" y=\"216.062476\"/>\n     <use style=\"fill:#0000ff;stroke:#0000ff;\" x=\"163.657051\" xlink:href=\"#m533fd1927f\" y=\"216.078095\"/>\n     <use style=\"fill:#0000ff;stroke:#0000ff;\" x=\"164.67499\" xlink:href=\"#m533fd1927f\" y=\"216.093331\"/>\n     <use style=\"fill:#0000ff;stroke:#0000ff;\" x=\"165.692928\" xlink:href=\"#m533fd1927f\" y=\"216.108198\"/>\n     <use style=\"fill:#0000ff;stroke:#0000ff;\" x=\"166.710867\" xlink:href=\"#m533fd1927f\" y=\"216.12271\"/>\n     <use style=\"fill:#0000ff;stroke:#0000ff;\" x=\"167.728805\" xlink:href=\"#m533fd1927f\" y=\"216.136879\"/>\n     <use style=\"fill:#0000ff;stroke:#0000ff;\" x=\"168.746744\" xlink:href=\"#m533fd1927f\" y=\"216.150719\"/>\n     <use style=\"fill:#0000ff;stroke:#0000ff;\" x=\"169.764682\" xlink:href=\"#m533fd1927f\" y=\"216.164242\"/>\n     <use style=\"fill:#0000ff;stroke:#0000ff;\" x=\"170.782621\" xlink:href=\"#m533fd1927f\" y=\"216.177459\"/>\n     <use style=\"fill:#0000ff;stroke:#0000ff;\" x=\"171.80056\" xlink:href=\"#m533fd1927f\" y=\"216.190382\"/>\n     <use style=\"fill:#0000ff;stroke:#0000ff;\" x=\"172.818498\" xlink:href=\"#m533fd1927f\" y=\"216.203021\"/>\n     <use style=\"fill:#0000ff;stroke:#0000ff;\" x=\"173.836437\" xlink:href=\"#m533fd1927f\" y=\"216.215388\"/>\n     <use style=\"fill:#0000ff;stroke:#0000ff;\" x=\"174.854375\" xlink:href=\"#m533fd1927f\" y=\"216.227491\"/>\n     <use style=\"fill:#0000ff;stroke:#0000ff;\" x=\"175.872314\" xlink:href=\"#m533fd1927f\" y=\"216.239341\"/>\n     <use style=\"fill:#0000ff;stroke:#0000ff;\" x=\"176.890253\" xlink:href=\"#m533fd1927f\" y=\"216.250946\"/>\n     <use style=\"fill:#0000ff;stroke:#0000ff;\" x=\"177.908191\" xlink:href=\"#m533fd1927f\" y=\"216.262316\"/>\n     <use style=\"fill:#0000ff;stroke:#0000ff;\" x=\"178.92613\" xlink:href=\"#m533fd1927f\" y=\"216.27346\"/>\n     <use style=\"fill:#0000ff;stroke:#0000ff;\" x=\"179.944068\" xlink:href=\"#m533fd1927f\" y=\"216.284385\"/>\n     <use style=\"fill:#0000ff;stroke:#0000ff;\" x=\"180.962007\" xlink:href=\"#m533fd1927f\" y=\"216.295099\"/>\n     <use style=\"fill:#0000ff;stroke:#0000ff;\" x=\"181.979945\" xlink:href=\"#m533fd1927f\" y=\"216.30561\"/>\n     <use style=\"fill:#0000ff;stroke:#0000ff;\" x=\"182.997884\" xlink:href=\"#m533fd1927f\" y=\"216.315925\"/>\n     <use style=\"fill:#0000ff;stroke:#0000ff;\" x=\"184.015823\" xlink:href=\"#m533fd1927f\" y=\"216.326051\"/>\n     <use style=\"fill:#0000ff;stroke:#0000ff;\" x=\"185.033761\" xlink:href=\"#m533fd1927f\" y=\"216.335995\"/>\n     <use style=\"fill:#0000ff;stroke:#0000ff;\" x=\"186.0517\" xlink:href=\"#m533fd1927f\" y=\"216.345764\"/>\n     <use style=\"fill:#0000ff;stroke:#0000ff;\" x=\"187.069638\" xlink:href=\"#m533fd1927f\" y=\"216.355363\"/>\n     <use style=\"fill:#0000ff;stroke:#0000ff;\" x=\"188.087577\" xlink:href=\"#m533fd1927f\" y=\"216.364799\"/>\n     <use style=\"fill:#0000ff;stroke:#0000ff;\" x=\"189.105516\" xlink:href=\"#m533fd1927f\" y=\"216.374077\"/>\n     <use style=\"fill:#0000ff;stroke:#0000ff;\" x=\"190.123454\" xlink:href=\"#m533fd1927f\" y=\"216.383203\"/>\n     <use style=\"fill:#0000ff;stroke:#0000ff;\" x=\"191.141393\" xlink:href=\"#m533fd1927f\" y=\"216.392182\"/>\n     <use style=\"fill:#0000ff;stroke:#0000ff;\" x=\"192.159331\" xlink:href=\"#m533fd1927f\" y=\"216.40102\"/>\n     <use style=\"fill:#0000ff;stroke:#0000ff;\" x=\"193.17727\" xlink:href=\"#m533fd1927f\" y=\"216.40972\"/>\n     <use style=\"fill:#0000ff;stroke:#0000ff;\" x=\"194.195208\" xlink:href=\"#m533fd1927f\" y=\"216.418289\"/>\n     <use style=\"fill:#0000ff;stroke:#0000ff;\" x=\"195.213147\" xlink:href=\"#m533fd1927f\" y=\"216.42673\"/>\n     <use style=\"fill:#0000ff;stroke:#0000ff;\" x=\"196.231086\" xlink:href=\"#m533fd1927f\" y=\"216.435049\"/>\n     <use style=\"fill:#0000ff;stroke:#0000ff;\" x=\"197.249024\" xlink:href=\"#m533fd1927f\" y=\"216.443248\"/>\n     <use style=\"fill:#0000ff;stroke:#0000ff;\" x=\"198.266963\" xlink:href=\"#m533fd1927f\" y=\"216.451332\"/>\n     <use style=\"fill:#0000ff;stroke:#0000ff;\" x=\"199.284901\" xlink:href=\"#m533fd1927f\" y=\"216.459306\"/>\n     <use style=\"fill:#0000ff;stroke:#0000ff;\" x=\"200.30284\" xlink:href=\"#m533fd1927f\" y=\"216.467172\"/>\n     <use style=\"fill:#0000ff;stroke:#0000ff;\" x=\"201.320779\" xlink:href=\"#m533fd1927f\" y=\"216.474934\"/>\n     <use style=\"fill:#0000ff;stroke:#0000ff;\" x=\"202.338717\" xlink:href=\"#m533fd1927f\" y=\"216.482597\"/>\n     <use style=\"fill:#0000ff;stroke:#0000ff;\" x=\"203.356656\" xlink:href=\"#m533fd1927f\" y=\"216.490162\"/>\n     <use style=\"fill:#0000ff;stroke:#0000ff;\" x=\"204.374594\" xlink:href=\"#m533fd1927f\" y=\"216.497634\"/>\n     <use style=\"fill:#0000ff;stroke:#0000ff;\" x=\"205.392533\" xlink:href=\"#m533fd1927f\" y=\"216.505015\"/>\n     <use style=\"fill:#0000ff;stroke:#0000ff;\" x=\"206.410471\" xlink:href=\"#m533fd1927f\" y=\"216.512308\"/>\n     <use style=\"fill:#0000ff;stroke:#0000ff;\" x=\"207.42841\" xlink:href=\"#m533fd1927f\" y=\"216.519517\"/>\n     <use style=\"fill:#0000ff;stroke:#0000ff;\" x=\"208.446349\" xlink:href=\"#m533fd1927f\" y=\"216.526643\"/>\n     <use style=\"fill:#0000ff;stroke:#0000ff;\" x=\"209.464287\" xlink:href=\"#m533fd1927f\" y=\"216.53369\"/>\n     <use style=\"fill:#0000ff;stroke:#0000ff;\" x=\"210.482226\" xlink:href=\"#m533fd1927f\" y=\"216.54066\"/>\n     <use style=\"fill:#0000ff;stroke:#0000ff;\" x=\"211.500164\" xlink:href=\"#m533fd1927f\" y=\"216.547556\"/>\n     <use style=\"fill:#0000ff;stroke:#0000ff;\" x=\"212.518103\" xlink:href=\"#m533fd1927f\" y=\"216.554379\"/>\n     <use style=\"fill:#0000ff;stroke:#0000ff;\" x=\"213.536042\" xlink:href=\"#m533fd1927f\" y=\"216.561133\"/>\n     <use style=\"fill:#0000ff;stroke:#0000ff;\" x=\"214.55398\" xlink:href=\"#m533fd1927f\" y=\"216.567819\"/>\n     <use style=\"fill:#0000ff;stroke:#0000ff;\" x=\"215.571919\" xlink:href=\"#m533fd1927f\" y=\"216.574439\"/>\n     <use style=\"fill:#0000ff;stroke:#0000ff;\" x=\"216.589857\" xlink:href=\"#m533fd1927f\" y=\"216.580995\"/>\n     <use style=\"fill:#0000ff;stroke:#0000ff;\" x=\"217.607796\" xlink:href=\"#m533fd1927f\" y=\"216.58749\"/>\n     <use style=\"fill:#0000ff;stroke:#0000ff;\" x=\"218.625734\" xlink:href=\"#m533fd1927f\" y=\"216.593924\"/>\n     <use style=\"fill:#0000ff;stroke:#0000ff;\" x=\"219.643673\" xlink:href=\"#m533fd1927f\" y=\"216.600301\"/>\n     <use style=\"fill:#0000ff;stroke:#0000ff;\" x=\"220.661612\" xlink:href=\"#m533fd1927f\" y=\"216.606621\"/>\n     <use style=\"fill:#0000ff;stroke:#0000ff;\" x=\"221.67955\" xlink:href=\"#m533fd1927f\" y=\"216.612886\"/>\n     <use style=\"fill:#0000ff;stroke:#0000ff;\" x=\"222.697489\" xlink:href=\"#m533fd1927f\" y=\"216.619098\"/>\n     <use style=\"fill:#0000ff;stroke:#0000ff;\" x=\"223.715427\" xlink:href=\"#m533fd1927f\" y=\"216.625259\"/>\n     <use style=\"fill:#0000ff;stroke:#0000ff;\" x=\"224.733366\" xlink:href=\"#m533fd1927f\" y=\"216.631369\"/>\n     <use style=\"fill:#0000ff;stroke:#0000ff;\" x=\"225.751305\" xlink:href=\"#m533fd1927f\" y=\"216.63743\"/>\n     <use style=\"fill:#0000ff;stroke:#0000ff;\" x=\"226.769243\" xlink:href=\"#m533fd1927f\" y=\"216.643444\"/>\n     <use style=\"fill:#0000ff;stroke:#0000ff;\" x=\"227.787182\" xlink:href=\"#m533fd1927f\" y=\"216.649412\"/>\n     <use style=\"fill:#0000ff;stroke:#0000ff;\" x=\"228.80512\" xlink:href=\"#m533fd1927f\" y=\"216.655335\"/>\n     <use style=\"fill:#0000ff;stroke:#0000ff;\" x=\"229.823059\" xlink:href=\"#m533fd1927f\" y=\"216.661215\"/>\n     <use style=\"fill:#0000ff;stroke:#0000ff;\" x=\"230.840997\" xlink:href=\"#m533fd1927f\" y=\"216.667052\"/>\n     <use style=\"fill:#0000ff;stroke:#0000ff;\" x=\"231.858936\" xlink:href=\"#m533fd1927f\" y=\"216.672847\"/>\n     <use style=\"fill:#0000ff;stroke:#0000ff;\" x=\"232.876875\" xlink:href=\"#m533fd1927f\" y=\"216.678602\"/>\n     <use style=\"fill:#0000ff;stroke:#0000ff;\" x=\"233.894813\" xlink:href=\"#m533fd1927f\" y=\"216.684318\"/>\n     <use style=\"fill:#0000ff;stroke:#0000ff;\" x=\"234.912752\" xlink:href=\"#m533fd1927f\" y=\"216.689996\"/>\n     <use style=\"fill:#0000ff;stroke:#0000ff;\" x=\"235.93069\" xlink:href=\"#m533fd1927f\" y=\"216.695636\"/>\n     <use style=\"fill:#0000ff;stroke:#0000ff;\" x=\"236.948629\" xlink:href=\"#m533fd1927f\" y=\"216.701241\"/>\n     <use style=\"fill:#0000ff;stroke:#0000ff;\" x=\"237.966568\" xlink:href=\"#m533fd1927f\" y=\"216.706809\"/>\n     <use style=\"fill:#0000ff;stroke:#0000ff;\" x=\"238.984506\" xlink:href=\"#m533fd1927f\" y=\"216.712343\"/>\n     <use style=\"fill:#0000ff;stroke:#0000ff;\" x=\"240.002445\" xlink:href=\"#m533fd1927f\" y=\"216.717843\"/>\n     <use style=\"fill:#0000ff;stroke:#0000ff;\" x=\"241.020383\" xlink:href=\"#m533fd1927f\" y=\"216.72331\"/>\n     <use style=\"fill:#0000ff;stroke:#0000ff;\" x=\"242.038322\" xlink:href=\"#m533fd1927f\" y=\"216.728745\"/>\n     <use style=\"fill:#0000ff;stroke:#0000ff;\" x=\"243.05626\" xlink:href=\"#m533fd1927f\" y=\"216.734149\"/>\n     <use style=\"fill:#0000ff;stroke:#0000ff;\" x=\"244.074199\" xlink:href=\"#m533fd1927f\" y=\"216.739521\"/>\n     <use style=\"fill:#0000ff;stroke:#0000ff;\" x=\"245.092138\" xlink:href=\"#m533fd1927f\" y=\"216.744864\"/>\n     <use style=\"fill:#0000ff;stroke:#0000ff;\" x=\"246.110076\" xlink:href=\"#m533fd1927f\" y=\"216.750177\"/>\n     <use style=\"fill:#0000ff;stroke:#0000ff;\" x=\"247.128015\" xlink:href=\"#m533fd1927f\" y=\"216.755461\"/>\n     <use style=\"fill:#0000ff;stroke:#0000ff;\" x=\"248.145953\" xlink:href=\"#m533fd1927f\" y=\"216.760717\"/>\n     <use style=\"fill:#0000ff;stroke:#0000ff;\" x=\"249.163892\" xlink:href=\"#m533fd1927f\" y=\"216.765946\"/>\n     <use style=\"fill:#0000ff;stroke:#0000ff;\" x=\"250.181831\" xlink:href=\"#m533fd1927f\" y=\"216.771147\"/>\n     <use style=\"fill:#0000ff;stroke:#0000ff;\" x=\"251.199769\" xlink:href=\"#m533fd1927f\" y=\"216.776322\"/>\n     <use style=\"fill:#0000ff;stroke:#0000ff;\" x=\"252.217708\" xlink:href=\"#m533fd1927f\" y=\"216.781471\"/>\n     <use style=\"fill:#0000ff;stroke:#0000ff;\" x=\"253.235646\" xlink:href=\"#m533fd1927f\" y=\"216.786595\"/>\n     <use style=\"fill:#0000ff;stroke:#0000ff;\" x=\"254.253585\" xlink:href=\"#m533fd1927f\" y=\"216.791693\"/>\n     <use style=\"fill:#0000ff;stroke:#0000ff;\" x=\"255.271523\" xlink:href=\"#m533fd1927f\" y=\"216.796767\"/>\n     <use style=\"fill:#0000ff;stroke:#0000ff;\" x=\"256.289462\" xlink:href=\"#m533fd1927f\" y=\"216.801818\"/>\n     <use style=\"fill:#0000ff;stroke:#0000ff;\" x=\"257.307401\" xlink:href=\"#m533fd1927f\" y=\"216.806844\"/>\n     <use style=\"fill:#0000ff;stroke:#0000ff;\" x=\"258.325339\" xlink:href=\"#m533fd1927f\" y=\"216.811847\"/>\n     <use style=\"fill:#0000ff;stroke:#0000ff;\" x=\"259.343278\" xlink:href=\"#m533fd1927f\" y=\"216.816828\"/>\n     <use style=\"fill:#0000ff;stroke:#0000ff;\" x=\"260.361216\" xlink:href=\"#m533fd1927f\" y=\"216.821786\"/>\n     <use style=\"fill:#0000ff;stroke:#0000ff;\" x=\"261.379155\" xlink:href=\"#m533fd1927f\" y=\"216.826722\"/>\n     <use style=\"fill:#0000ff;stroke:#0000ff;\" x=\"262.397094\" xlink:href=\"#m533fd1927f\" y=\"216.831637\"/>\n     <use style=\"fill:#0000ff;stroke:#0000ff;\" x=\"263.415032\" xlink:href=\"#m533fd1927f\" y=\"216.83653\"/>\n     <use style=\"fill:#0000ff;stroke:#0000ff;\" x=\"264.432971\" xlink:href=\"#m533fd1927f\" y=\"216.841403\"/>\n     <use style=\"fill:#0000ff;stroke:#0000ff;\" x=\"265.450909\" xlink:href=\"#m533fd1927f\" y=\"216.846254\"/>\n     <use style=\"fill:#0000ff;stroke:#0000ff;\" x=\"266.468848\" xlink:href=\"#m533fd1927f\" y=\"216.851086\"/>\n     <use style=\"fill:#0000ff;stroke:#0000ff;\" x=\"267.486786\" xlink:href=\"#m533fd1927f\" y=\"216.855897\"/>\n     <use style=\"fill:#0000ff;stroke:#0000ff;\" x=\"268.504725\" xlink:href=\"#m533fd1927f\" y=\"216.860689\"/>\n     <use style=\"fill:#0000ff;stroke:#0000ff;\" x=\"269.522664\" xlink:href=\"#m533fd1927f\" y=\"216.865462\"/>\n     <use style=\"fill:#0000ff;stroke:#0000ff;\" x=\"270.540602\" xlink:href=\"#m533fd1927f\" y=\"216.870215\"/>\n     <use style=\"fill:#0000ff;stroke:#0000ff;\" x=\"271.558541\" xlink:href=\"#m533fd1927f\" y=\"216.87495\"/>\n     <use style=\"fill:#0000ff;stroke:#0000ff;\" x=\"272.576479\" xlink:href=\"#m533fd1927f\" y=\"216.879666\"/>\n     <use style=\"fill:#0000ff;stroke:#0000ff;\" x=\"273.594418\" xlink:href=\"#m533fd1927f\" y=\"216.884363\"/>\n     <use style=\"fill:#0000ff;stroke:#0000ff;\" x=\"274.612357\" xlink:href=\"#m533fd1927f\" y=\"216.889043\"/>\n     <use style=\"fill:#0000ff;stroke:#0000ff;\" x=\"275.630295\" xlink:href=\"#m533fd1927f\" y=\"216.893704\"/>\n     <use style=\"fill:#0000ff;stroke:#0000ff;\" x=\"276.648234\" xlink:href=\"#m533fd1927f\" y=\"216.898348\"/>\n     <use style=\"fill:#0000ff;stroke:#0000ff;\" x=\"277.666172\" xlink:href=\"#m533fd1927f\" y=\"216.902975\"/>\n     <use style=\"fill:#0000ff;stroke:#0000ff;\" x=\"278.684111\" xlink:href=\"#m533fd1927f\" y=\"216.907584\"/>\n     <use style=\"fill:#0000ff;stroke:#0000ff;\" x=\"279.702049\" xlink:href=\"#m533fd1927f\" y=\"216.912177\"/>\n     <use style=\"fill:#0000ff;stroke:#0000ff;\" x=\"280.719988\" xlink:href=\"#m533fd1927f\" y=\"216.916752\"/>\n     <use style=\"fill:#0000ff;stroke:#0000ff;\" x=\"281.737927\" xlink:href=\"#m533fd1927f\" y=\"216.921311\"/>\n     <use style=\"fill:#0000ff;stroke:#0000ff;\" x=\"282.755865\" xlink:href=\"#m533fd1927f\" y=\"216.925854\"/>\n     <use style=\"fill:#0000ff;stroke:#0000ff;\" x=\"283.773804\" xlink:href=\"#m533fd1927f\" y=\"216.93038\"/>\n     <use style=\"fill:#0000ff;stroke:#0000ff;\" x=\"284.791742\" xlink:href=\"#m533fd1927f\" y=\"216.93489\"/>\n     <use style=\"fill:#0000ff;stroke:#0000ff;\" x=\"285.809681\" xlink:href=\"#m533fd1927f\" y=\"216.939385\"/>\n     <use style=\"fill:#0000ff;stroke:#0000ff;\" x=\"286.82762\" xlink:href=\"#m533fd1927f\" y=\"216.943863\"/>\n     <use style=\"fill:#0000ff;stroke:#0000ff;\" x=\"287.845558\" xlink:href=\"#m533fd1927f\" y=\"216.948326\"/>\n     <use style=\"fill:#0000ff;stroke:#0000ff;\" x=\"288.863497\" xlink:href=\"#m533fd1927f\" y=\"216.952774\"/>\n     <use style=\"fill:#0000ff;stroke:#0000ff;\" x=\"289.881435\" xlink:href=\"#m533fd1927f\" y=\"216.957206\"/>\n     <use style=\"fill:#0000ff;stroke:#0000ff;\" x=\"290.899374\" xlink:href=\"#m533fd1927f\" y=\"216.961623\"/>\n     <use style=\"fill:#0000ff;stroke:#0000ff;\" x=\"291.917312\" xlink:href=\"#m533fd1927f\" y=\"216.966025\"/>\n     <use style=\"fill:#0000ff;stroke:#0000ff;\" x=\"292.935251\" xlink:href=\"#m533fd1927f\" y=\"216.970412\"/>\n     <use style=\"fill:#0000ff;stroke:#0000ff;\" x=\"293.95319\" xlink:href=\"#m533fd1927f\" y=\"216.974785\"/>\n     <use style=\"fill:#0000ff;stroke:#0000ff;\" x=\"294.971128\" xlink:href=\"#m533fd1927f\" y=\"216.979142\"/>\n     <use style=\"fill:#0000ff;stroke:#0000ff;\" x=\"295.989067\" xlink:href=\"#m533fd1927f\" y=\"216.983486\"/>\n     <use style=\"fill:#0000ff;stroke:#0000ff;\" x=\"297.007005\" xlink:href=\"#m533fd1927f\" y=\"216.987815\"/>\n     <use style=\"fill:#0000ff;stroke:#0000ff;\" x=\"298.024944\" xlink:href=\"#m533fd1927f\" y=\"216.99213\"/>\n     <use style=\"fill:#0000ff;stroke:#0000ff;\" x=\"299.042883\" xlink:href=\"#m533fd1927f\" y=\"216.99643\"/>\n     <use style=\"fill:#0000ff;stroke:#0000ff;\" x=\"300.060821\" xlink:href=\"#m533fd1927f\" y=\"217.000717\"/>\n     <use style=\"fill:#0000ff;stroke:#0000ff;\" x=\"301.07876\" xlink:href=\"#m533fd1927f\" y=\"217.004989\"/>\n     <use style=\"fill:#0000ff;stroke:#0000ff;\" x=\"302.096698\" xlink:href=\"#m533fd1927f\" y=\"217.009248\"/>\n     <use style=\"fill:#0000ff;stroke:#0000ff;\" x=\"303.114637\" xlink:href=\"#m533fd1927f\" y=\"217.013493\"/>\n     <use style=\"fill:#0000ff;stroke:#0000ff;\" x=\"304.132575\" xlink:href=\"#m533fd1927f\" y=\"217.017725\"/>\n     <use style=\"fill:#0000ff;stroke:#0000ff;\" x=\"305.150514\" xlink:href=\"#m533fd1927f\" y=\"217.021943\"/>\n     <use style=\"fill:#0000ff;stroke:#0000ff;\" x=\"306.168453\" xlink:href=\"#m533fd1927f\" y=\"217.026148\"/>\n     <use style=\"fill:#0000ff;stroke:#0000ff;\" x=\"307.186391\" xlink:href=\"#m533fd1927f\" y=\"217.030339\"/>\n     <use style=\"fill:#0000ff;stroke:#0000ff;\" x=\"308.20433\" xlink:href=\"#m533fd1927f\" y=\"217.034517\"/>\n     <use style=\"fill:#0000ff;stroke:#0000ff;\" x=\"309.222268\" xlink:href=\"#m533fd1927f\" y=\"217.038682\"/>\n     <use style=\"fill:#0000ff;stroke:#0000ff;\" x=\"310.240207\" xlink:href=\"#m533fd1927f\" y=\"217.042834\"/>\n     <use style=\"fill:#0000ff;stroke:#0000ff;\" x=\"311.258146\" xlink:href=\"#m533fd1927f\" y=\"217.046972\"/>\n     <use style=\"fill:#0000ff;stroke:#0000ff;\" x=\"312.276084\" xlink:href=\"#m533fd1927f\" y=\"217.051098\"/>\n     <use style=\"fill:#0000ff;stroke:#0000ff;\" x=\"313.294023\" xlink:href=\"#m533fd1927f\" y=\"217.055211\"/>\n     <use style=\"fill:#0000ff;stroke:#0000ff;\" x=\"314.311961\" xlink:href=\"#m533fd1927f\" y=\"217.059312\"/>\n     <use style=\"fill:#0000ff;stroke:#0000ff;\" x=\"315.3299\" xlink:href=\"#m533fd1927f\" y=\"217.063399\"/>\n     <use style=\"fill:#0000ff;stroke:#0000ff;\" x=\"316.347838\" xlink:href=\"#m533fd1927f\" y=\"217.067474\"/>\n     <use style=\"fill:#0000ff;stroke:#0000ff;\" x=\"317.365777\" xlink:href=\"#m533fd1927f\" y=\"217.071537\"/>\n     <use style=\"fill:#0000ff;stroke:#0000ff;\" x=\"318.383716\" xlink:href=\"#m533fd1927f\" y=\"217.075587\"/>\n     <use style=\"fill:#0000ff;stroke:#0000ff;\" x=\"319.401654\" xlink:href=\"#m533fd1927f\" y=\"217.079624\"/>\n     <use style=\"fill:#0000ff;stroke:#0000ff;\" x=\"320.419593\" xlink:href=\"#m533fd1927f\" y=\"217.08365\"/>\n     <use style=\"fill:#0000ff;stroke:#0000ff;\" x=\"321.437531\" xlink:href=\"#m533fd1927f\" y=\"217.087663\"/>\n     <use style=\"fill:#0000ff;stroke:#0000ff;\" x=\"322.45547\" xlink:href=\"#m533fd1927f\" y=\"217.091664\"/>\n     <use style=\"fill:#0000ff;stroke:#0000ff;\" x=\"323.473409\" xlink:href=\"#m533fd1927f\" y=\"217.095652\"/>\n     <use style=\"fill:#0000ff;stroke:#0000ff;\" x=\"324.491347\" xlink:href=\"#m533fd1927f\" y=\"217.099629\"/>\n     <use style=\"fill:#0000ff;stroke:#0000ff;\" x=\"325.509286\" xlink:href=\"#m533fd1927f\" y=\"217.103594\"/>\n     <use style=\"fill:#0000ff;stroke:#0000ff;\" x=\"326.527224\" xlink:href=\"#m533fd1927f\" y=\"217.107546\"/>\n     <use style=\"fill:#0000ff;stroke:#0000ff;\" x=\"327.545163\" xlink:href=\"#m533fd1927f\" y=\"217.111487\"/>\n     <use style=\"fill:#0000ff;stroke:#0000ff;\" x=\"328.563101\" xlink:href=\"#m533fd1927f\" y=\"217.115416\"/>\n     <use style=\"fill:#0000ff;stroke:#0000ff;\" x=\"329.58104\" xlink:href=\"#m533fd1927f\" y=\"217.119333\"/>\n     <use style=\"fill:#0000ff;stroke:#0000ff;\" x=\"330.598979\" xlink:href=\"#m533fd1927f\" y=\"217.123239\"/>\n     <use style=\"fill:#0000ff;stroke:#0000ff;\" x=\"331.616917\" xlink:href=\"#m533fd1927f\" y=\"217.127133\"/>\n     <use style=\"fill:#0000ff;stroke:#0000ff;\" x=\"332.634856\" xlink:href=\"#m533fd1927f\" y=\"217.131015\"/>\n     <use style=\"fill:#0000ff;stroke:#0000ff;\" x=\"333.652794\" xlink:href=\"#m533fd1927f\" y=\"217.134885\"/>\n     <use style=\"fill:#0000ff;stroke:#0000ff;\" x=\"334.670733\" xlink:href=\"#m533fd1927f\" y=\"217.138744\"/>\n     <use style=\"fill:#0000ff;stroke:#0000ff;\" x=\"335.688672\" xlink:href=\"#m533fd1927f\" y=\"217.142592\"/>\n     <use style=\"fill:#0000ff;stroke:#0000ff;\" x=\"336.70661\" xlink:href=\"#m533fd1927f\" y=\"217.146428\"/>\n     <use style=\"fill:#0000ff;stroke:#0000ff;\" x=\"337.724549\" xlink:href=\"#m533fd1927f\" y=\"217.150253\"/>\n     <use style=\"fill:#0000ff;stroke:#0000ff;\" x=\"338.742487\" xlink:href=\"#m533fd1927f\" y=\"217.154067\"/>\n     <use style=\"fill:#0000ff;stroke:#0000ff;\" x=\"339.760426\" xlink:href=\"#m533fd1927f\" y=\"217.157869\"/>\n     <use style=\"fill:#0000ff;stroke:#0000ff;\" x=\"340.778364\" xlink:href=\"#m533fd1927f\" y=\"217.16166\"/>\n     <use style=\"fill:#0000ff;stroke:#0000ff;\" x=\"341.796303\" xlink:href=\"#m533fd1927f\" y=\"217.16544\"/>\n     <use style=\"fill:#0000ff;stroke:#0000ff;\" x=\"342.814242\" xlink:href=\"#m533fd1927f\" y=\"217.169208\"/>\n     <use style=\"fill:#0000ff;stroke:#0000ff;\" x=\"343.83218\" xlink:href=\"#m533fd1927f\" y=\"217.172966\"/>\n     <use style=\"fill:#0000ff;stroke:#0000ff;\" x=\"344.850119\" xlink:href=\"#m533fd1927f\" y=\"217.176713\"/>\n     <use style=\"fill:#0000ff;stroke:#0000ff;\" x=\"345.868057\" xlink:href=\"#m533fd1927f\" y=\"217.180448\"/>\n     <use style=\"fill:#0000ff;stroke:#0000ff;\" x=\"346.885996\" xlink:href=\"#m533fd1927f\" y=\"217.184173\"/>\n     <use style=\"fill:#0000ff;stroke:#0000ff;\" x=\"347.903935\" xlink:href=\"#m533fd1927f\" y=\"217.187886\"/>\n     <use style=\"fill:#0000ff;stroke:#0000ff;\" x=\"348.921873\" xlink:href=\"#m533fd1927f\" y=\"217.191589\"/>\n     <use style=\"fill:#0000ff;stroke:#0000ff;\" x=\"349.939812\" xlink:href=\"#m533fd1927f\" y=\"217.195281\"/>\n     <use style=\"fill:#0000ff;stroke:#0000ff;\" x=\"350.95775\" xlink:href=\"#m533fd1927f\" y=\"217.198962\"/>\n     <use style=\"fill:#0000ff;stroke:#0000ff;\" x=\"351.975689\" xlink:href=\"#m533fd1927f\" y=\"217.202633\"/>\n     <use style=\"fill:#0000ff;stroke:#0000ff;\" x=\"352.993627\" xlink:href=\"#m533fd1927f\" y=\"217.206292\"/>\n     <use style=\"fill:#0000ff;stroke:#0000ff;\" x=\"354.011566\" xlink:href=\"#m533fd1927f\" y=\"217.209941\"/>\n     <use style=\"fill:#0000ff;stroke:#0000ff;\" x=\"355.029505\" xlink:href=\"#m533fd1927f\" y=\"217.21358\"/>\n     <use style=\"fill:#0000ff;stroke:#0000ff;\" x=\"356.047443\" xlink:href=\"#m533fd1927f\" y=\"217.217208\"/>\n    </g>\n   </g>\n   <g id=\"patch_3\">\n    <path d=\"M 36.465625 227.100844 \nL 36.465625 9.660844 \n\" style=\"fill:none;stroke:#000000;stroke-linecap:square;stroke-linejoin:miter;stroke-width:0.8;\"/>\n   </g>\n   <g id=\"patch_4\">\n    <path d=\"M 371.265625 227.100844 \nL 371.265625 9.660844 \n\" style=\"fill:none;stroke:#000000;stroke-linecap:square;stroke-linejoin:miter;stroke-width:0.8;\"/>\n   </g>\n   <g id=\"patch_5\">\n    <path d=\"M 36.465625 227.100844 \nL 371.265625 227.100844 \n\" style=\"fill:none;stroke:#000000;stroke-linecap:square;stroke-linejoin:miter;stroke-width:0.8;\"/>\n   </g>\n   <g id=\"patch_6\">\n    <path d=\"M 36.465625 9.660844 \nL 371.265625 9.660844 \n\" style=\"fill:none;stroke:#000000;stroke-linecap:square;stroke-linejoin:miter;stroke-width:0.8;\"/>\n   </g>\n  </g>\n </g>\n <defs>\n  <clipPath id=\"p29a14c3b2a\">\n   <rect height=\"217.44\" width=\"334.8\" x=\"36.465625\" y=\"9.660844\"/>\n  </clipPath>\n </defs>\n</svg>\n"
          },
          "metadata": {
            "needs_background": "light"
          }
        }
      ]
    },
    {
      "cell_type": "code",
      "source": [
        "y_pred = scale.inverse_transform(p_hat.reshape(-1,1))"
      ],
      "metadata": {
        "id": "t3zLzX2Facf_"
      },
      "execution_count": null,
      "outputs": []
    },
    {
      "cell_type": "code",
      "source": [
        "cost[-1]"
      ],
      "metadata": {
        "colab": {
          "base_uri": "https://localhost:8080/"
        },
        "id": "qxmMMN13dKq5",
        "outputId": "083bcdf2-6e55-4174-dd6c-8964db0ea005"
      },
      "execution_count": null,
      "outputs": [
        {
          "output_type": "execute_result",
          "data": {
            "text/plain": [
              "0.003842452525478294"
            ]
          },
          "metadata": {},
          "execution_count": 217
        }
      ]
    },
    {
      "cell_type": "code",
      "source": [
        "np.hstack([np.array(data[['price']]),y_pred])"
      ],
      "metadata": {
        "colab": {
          "base_uri": "https://localhost:8080/"
        },
        "id": "iCZw5tKBcFrp",
        "outputId": "6a6b5e2d-6c03-4e9e-ab34-fd87ed530dda"
      },
      "execution_count": null,
      "outputs": [
        {
          "output_type": "execute_result",
          "data": {
            "text/plain": [
              "array([[ 39.07      ,  39.0288382 ],\n",
              "       [120.        , 122.26876871],\n",
              "       [ 62.        ,  67.99171066],\n",
              "       [ 75.        ,  70.63404189],\n",
              "       [ 51.        ,  43.72631593],\n",
              "       [ 38.        ,  42.74767474],\n",
              "       [135.        , 126.57478997],\n",
              "       [155.        , 145.10372993],\n",
              "       [ 50.        ,  63.75093215],\n",
              "       [167.        , 174.58854437],\n",
              "       [ 82.        ,  79.735405  ],\n",
              "       [140.        , 128.30372275],\n",
              "       [ 38.        ,  37.2020413 ],\n",
              "       [ 40.        ,  40.46417862],\n",
              "       [101.        ,  94.41502293],\n",
              "       [ 42.        ,  42.9107816 ],\n",
              "       [ 48.        ,  59.51015364],\n",
              "       [ 60.        ,  71.25384798],\n",
              "       [102.        , 111.37813698],\n",
              "       [ 32.        ,  14.2415015 ]])"
            ]
          },
          "metadata": {},
          "execution_count": 218
        }
      ]
    },
    {
      "cell_type": "markdown",
      "source": [
        "# Stochastic Gradient Descent\n"
      ],
      "metadata": {
        "id": "WLbMxaaYeKcx"
      }
    },
    {
      "cell_type": "code",
      "source": [
        "p"
      ],
      "metadata": {
        "colab": {
          "base_uri": "https://localhost:8080/"
        },
        "id": "Pamm0DXRilAw",
        "outputId": "e1d65fa4-cb5b-4431-dc77-90e16a92c162"
      },
      "execution_count": 234,
      "outputs": [
        {
          "output_type": "execute_result",
          "data": {
            "text/plain": [
              "array([0.05237037, 0.65185185, 0.22222222, 0.31851852, 0.14074074,\n",
              "       0.04444444, 0.76296296, 0.91111111, 0.13333333, 1.        ,\n",
              "       0.37037037, 0.8       , 0.04444444, 0.05925926, 0.51111111,\n",
              "       0.07407407, 0.11851852, 0.20740741, 0.51851852, 0.        ])"
            ]
          },
          "metadata": {},
          "execution_count": 234
        }
      ]
    },
    {
      "cell_type": "code",
      "source": [
        "p[0]"
      ],
      "metadata": {
        "colab": {
          "base_uri": "https://localhost:8080/"
        },
        "id": "kY0azekaijgA",
        "outputId": "29245d6a-1fbb-4b26-f78f-2b8de10ce7fb"
      },
      "execution_count": 233,
      "outputs": [
        {
          "output_type": "execute_result",
          "data": {
            "text/plain": [
              "0.0523703703703704"
            ]
          },
          "metadata": {},
          "execution_count": 233
        }
      ]
    },
    {
      "cell_type": "code",
      "source": [
        "p[5]"
      ],
      "metadata": {
        "colab": {
          "base_uri": "https://localhost:8080/"
        },
        "id": "OO5jc8A1iViy",
        "outputId": "365a53ae-0dd9-48b0-f63d-a3fdf42115ef"
      },
      "execution_count": 232,
      "outputs": [
        {
          "output_type": "execute_result",
          "data": {
            "text/plain": [
              "0.04444444444444445"
            ]
          },
          "metadata": {},
          "execution_count": 232
        }
      ]
    },
    {
      "cell_type": "code",
      "source": [
        "X_scaled.shape[1]"
      ],
      "metadata": {
        "colab": {
          "base_uri": "https://localhost:8080/"
        },
        "id": "LPQYstlzygMy",
        "outputId": "1ecfa3ac-1755-452c-9538-7b8fa1251679"
      },
      "execution_count": 258,
      "outputs": [
        {
          "output_type": "execute_result",
          "data": {
            "text/plain": [
              "2"
            ]
          },
          "metadata": {},
          "execution_count": 258
        }
      ]
    },
    {
      "cell_type": "code",
      "source": [
        "np.ones(X_scaled.shape[1]).shape"
      ],
      "metadata": {
        "colab": {
          "base_uri": "https://localhost:8080/"
        },
        "id": "LeYSQG-EyzO8",
        "outputId": "e4c27aeb-9217-4210-bbbc-7451d99e9f41"
      },
      "execution_count": 275,
      "outputs": [
        {
          "output_type": "execute_result",
          "data": {
            "text/plain": [
              "(2,)"
            ]
          },
          "metadata": {},
          "execution_count": 275
        }
      ]
    },
    {
      "cell_type": "code",
      "source": [
        "np.array([3,4]).shape"
      ],
      "metadata": {
        "colab": {
          "base_uri": "https://localhost:8080/"
        },
        "id": "KEpHLbc8yaej",
        "outputId": "892b9676-89bc-4fdc-dfe1-6da67bd2802f"
      },
      "execution_count": 279,
      "outputs": [
        {
          "output_type": "execute_result",
          "data": {
            "text/plain": [
              "(2,)"
            ]
          },
          "metadata": {},
          "execution_count": 279
        }
      ]
    },
    {
      "cell_type": "code",
      "source": [
        "epochs = 300\n",
        "\n",
        "def Stochastic_GD(X, y, lr = 0.01):\n",
        "\n",
        "  cost = []\n",
        "\n",
        "  p = y_scaled.flatten()\n",
        "\n",
        "  w = np.ones(X_scaled.shape[1])\n",
        "  b = 0\n",
        "  total_samples =  X_scaled.shape[0]\n",
        "\n",
        "  for i in range(epochs):\n",
        "\n",
        "    rand = np.random.choice(20,1)\n",
        "    area = X_scaled[rand,0]\n",
        "    bedr = X_scaled[rand,1]\n",
        "    p_rand = p[rand]\n",
        "\n",
        "    dl_dw = np.array([-area*(p_rand - area * w[0] - bedr * w[1] - b),\n",
        "                       -bedr*(p_rand - area * w[0] - bedr * w[1] - b)]).flatten()\n",
        "    dl_db = -(p_rand - area * w[0] - bedr * w[1] - b)\n",
        "    # print(dl_dw.shape)\n",
        "    # print(dl_db.shape)\n",
        "     \n",
        "    w = w - lr * dl_dw\n",
        "    b = b - lr * dl_db\n",
        "    # print(w)\n",
        "    # print(b.shape)\n",
        "\n",
        "    p_hat = area * w[0] + bedr * w[1] + b\n",
        "    # print(area)\n",
        "    # print(w[0])\n",
        "    # print(p_rand)\n",
        "    cost.append(np.square(p_rand - p_hat))\n",
        "    # print('*******************')\n",
        "  return w,b,cost,p_hat\n"
      ],
      "metadata": {
        "id": "9A1_1lBmeNgY"
      },
      "execution_count": 284,
      "outputs": []
    },
    {
      "cell_type": "code",
      "source": [
        "w, b, cost, p_hat= Stochastic_GD(X_scaled,y_scaled)"
      ],
      "metadata": {
        "id": "2FGxnIdCgY1v"
      },
      "execution_count": 285,
      "outputs": []
    },
    {
      "cell_type": "code",
      "source": [
        "plt.plot(range(epochs), cost)"
      ],
      "metadata": {
        "colab": {
          "base_uri": "https://localhost:8080/",
          "height": 370
        },
        "outputId": "55a30362-a764-4135-cd9d-e6d9c6dec762",
        "id": "k_XqDH6hgY1w"
      },
      "execution_count": 286,
      "outputs": [
        {
          "output_type": "execute_result",
          "data": {
            "text/plain": [
              "[<matplotlib.lines.Line2D at 0x7f299e356ed0>]"
            ]
          },
          "metadata": {},
          "execution_count": 286
        },
        {
          "output_type": "display_data",
          "data": {
            "text/plain": [
              "<Figure size 432x288 with 1 Axes>"
            ],
            "image/svg+xml": "<?xml version=\"1.0\" encoding=\"utf-8\" standalone=\"no\"?>\n<!DOCTYPE svg PUBLIC \"-//W3C//DTD SVG 1.1//EN\"\n  \"http://www.w3.org/Graphics/SVG/1.1/DTD/svg11.dtd\">\n<!-- Created with matplotlib (https://matplotlib.org/) -->\n<svg height=\"248.518125pt\" version=\"1.1\" viewBox=\"0 0 372.103125 248.518125\" width=\"372.103125pt\" xmlns=\"http://www.w3.org/2000/svg\" xmlns:xlink=\"http://www.w3.org/1999/xlink\">\n <defs>\n  <style type=\"text/css\">\n*{stroke-linecap:butt;stroke-linejoin:round;}\n  </style>\n </defs>\n <g id=\"figure_1\">\n  <g id=\"patch_1\">\n   <path d=\"M 0 248.518125 \nL 372.103125 248.518125 \nL 372.103125 0 \nL 0 0 \nz\n\" style=\"fill:none;\"/>\n  </g>\n  <g id=\"axes_1\">\n   <g id=\"patch_2\">\n    <path d=\"M 30.103125 224.64 \nL 364.903125 224.64 \nL 364.903125 7.2 \nL 30.103125 7.2 \nz\n\" style=\"fill:#ffffff;\"/>\n   </g>\n   <g id=\"matplotlib.axis_1\">\n    <g id=\"xtick_1\">\n     <g id=\"line2d_1\">\n      <defs>\n       <path d=\"M 0 0 \nL 0 3.5 \n\" id=\"m033266fc53\" style=\"stroke:#000000;stroke-width:0.8;\"/>\n      </defs>\n      <g>\n       <use style=\"stroke:#000000;stroke-width:0.8;\" x=\"45.321307\" xlink:href=\"#m033266fc53\" y=\"224.64\"/>\n      </g>\n     </g>\n     <g id=\"text_1\">\n      <!-- 0 -->\n      <defs>\n       <path d=\"M 31.78125 66.40625 \nQ 24.171875 66.40625 20.328125 58.90625 \nQ 16.5 51.421875 16.5 36.375 \nQ 16.5 21.390625 20.328125 13.890625 \nQ 24.171875 6.390625 31.78125 6.390625 \nQ 39.453125 6.390625 43.28125 13.890625 \nQ 47.125 21.390625 47.125 36.375 \nQ 47.125 51.421875 43.28125 58.90625 \nQ 39.453125 66.40625 31.78125 66.40625 \nz\nM 31.78125 74.21875 \nQ 44.046875 74.21875 50.515625 64.515625 \nQ 56.984375 54.828125 56.984375 36.375 \nQ 56.984375 17.96875 50.515625 8.265625 \nQ 44.046875 -1.421875 31.78125 -1.421875 \nQ 19.53125 -1.421875 13.0625 8.265625 \nQ 6.59375 17.96875 6.59375 36.375 \nQ 6.59375 54.828125 13.0625 64.515625 \nQ 19.53125 74.21875 31.78125 74.21875 \nz\n\" id=\"DejaVuSans-48\"/>\n      </defs>\n      <g transform=\"translate(42.140057 239.238437)scale(0.1 -0.1)\">\n       <use xlink:href=\"#DejaVuSans-48\"/>\n      </g>\n     </g>\n    </g>\n    <g id=\"xtick_2\">\n     <g id=\"line2d_2\">\n      <g>\n       <use style=\"stroke:#000000;stroke-width:0.8;\" x=\"96.218236\" xlink:href=\"#m033266fc53\" y=\"224.64\"/>\n      </g>\n     </g>\n     <g id=\"text_2\">\n      <!-- 50 -->\n      <defs>\n       <path d=\"M 10.796875 72.90625 \nL 49.515625 72.90625 \nL 49.515625 64.59375 \nL 19.828125 64.59375 \nL 19.828125 46.734375 \nQ 21.96875 47.46875 24.109375 47.828125 \nQ 26.265625 48.1875 28.421875 48.1875 \nQ 40.625 48.1875 47.75 41.5 \nQ 54.890625 34.8125 54.890625 23.390625 \nQ 54.890625 11.625 47.5625 5.09375 \nQ 40.234375 -1.421875 26.90625 -1.421875 \nQ 22.3125 -1.421875 17.546875 -0.640625 \nQ 12.796875 0.140625 7.71875 1.703125 \nL 7.71875 11.625 \nQ 12.109375 9.234375 16.796875 8.0625 \nQ 21.484375 6.890625 26.703125 6.890625 \nQ 35.15625 6.890625 40.078125 11.328125 \nQ 45.015625 15.765625 45.015625 23.390625 \nQ 45.015625 31 40.078125 35.4375 \nQ 35.15625 39.890625 26.703125 39.890625 \nQ 22.75 39.890625 18.8125 39.015625 \nQ 14.890625 38.140625 10.796875 36.28125 \nz\n\" id=\"DejaVuSans-53\"/>\n      </defs>\n      <g transform=\"translate(89.855736 239.238437)scale(0.1 -0.1)\">\n       <use xlink:href=\"#DejaVuSans-53\"/>\n       <use x=\"63.623047\" xlink:href=\"#DejaVuSans-48\"/>\n      </g>\n     </g>\n    </g>\n    <g id=\"xtick_3\">\n     <g id=\"line2d_3\">\n      <g>\n       <use style=\"stroke:#000000;stroke-width:0.8;\" x=\"147.115165\" xlink:href=\"#m033266fc53\" y=\"224.64\"/>\n      </g>\n     </g>\n     <g id=\"text_3\">\n      <!-- 100 -->\n      <defs>\n       <path d=\"M 12.40625 8.296875 \nL 28.515625 8.296875 \nL 28.515625 63.921875 \nL 10.984375 60.40625 \nL 10.984375 69.390625 \nL 28.421875 72.90625 \nL 38.28125 72.90625 \nL 38.28125 8.296875 \nL 54.390625 8.296875 \nL 54.390625 0 \nL 12.40625 0 \nz\n\" id=\"DejaVuSans-49\"/>\n      </defs>\n      <g transform=\"translate(137.571415 239.238437)scale(0.1 -0.1)\">\n       <use xlink:href=\"#DejaVuSans-49\"/>\n       <use x=\"63.623047\" xlink:href=\"#DejaVuSans-48\"/>\n       <use x=\"127.246094\" xlink:href=\"#DejaVuSans-48\"/>\n      </g>\n     </g>\n    </g>\n    <g id=\"xtick_4\">\n     <g id=\"line2d_4\">\n      <g>\n       <use style=\"stroke:#000000;stroke-width:0.8;\" x=\"198.012094\" xlink:href=\"#m033266fc53\" y=\"224.64\"/>\n      </g>\n     </g>\n     <g id=\"text_4\">\n      <!-- 150 -->\n      <g transform=\"translate(188.468344 239.238437)scale(0.1 -0.1)\">\n       <use xlink:href=\"#DejaVuSans-49\"/>\n       <use x=\"63.623047\" xlink:href=\"#DejaVuSans-53\"/>\n       <use x=\"127.246094\" xlink:href=\"#DejaVuSans-48\"/>\n      </g>\n     </g>\n    </g>\n    <g id=\"xtick_5\">\n     <g id=\"line2d_5\">\n      <g>\n       <use style=\"stroke:#000000;stroke-width:0.8;\" x=\"248.909023\" xlink:href=\"#m033266fc53\" y=\"224.64\"/>\n      </g>\n     </g>\n     <g id=\"text_5\">\n      <!-- 200 -->\n      <defs>\n       <path d=\"M 19.1875 8.296875 \nL 53.609375 8.296875 \nL 53.609375 0 \nL 7.328125 0 \nL 7.328125 8.296875 \nQ 12.9375 14.109375 22.625 23.890625 \nQ 32.328125 33.6875 34.8125 36.53125 \nQ 39.546875 41.84375 41.421875 45.53125 \nQ 43.3125 49.21875 43.3125 52.78125 \nQ 43.3125 58.59375 39.234375 62.25 \nQ 35.15625 65.921875 28.609375 65.921875 \nQ 23.96875 65.921875 18.8125 64.3125 \nQ 13.671875 62.703125 7.8125 59.421875 \nL 7.8125 69.390625 \nQ 13.765625 71.78125 18.9375 73 \nQ 24.125 74.21875 28.421875 74.21875 \nQ 39.75 74.21875 46.484375 68.546875 \nQ 53.21875 62.890625 53.21875 53.421875 \nQ 53.21875 48.921875 51.53125 44.890625 \nQ 49.859375 40.875 45.40625 35.40625 \nQ 44.1875 33.984375 37.640625 27.21875 \nQ 31.109375 20.453125 19.1875 8.296875 \nz\n\" id=\"DejaVuSans-50\"/>\n      </defs>\n      <g transform=\"translate(239.365273 239.238437)scale(0.1 -0.1)\">\n       <use xlink:href=\"#DejaVuSans-50\"/>\n       <use x=\"63.623047\" xlink:href=\"#DejaVuSans-48\"/>\n       <use x=\"127.246094\" xlink:href=\"#DejaVuSans-48\"/>\n      </g>\n     </g>\n    </g>\n    <g id=\"xtick_6\">\n     <g id=\"line2d_6\">\n      <g>\n       <use style=\"stroke:#000000;stroke-width:0.8;\" x=\"299.805953\" xlink:href=\"#m033266fc53\" y=\"224.64\"/>\n      </g>\n     </g>\n     <g id=\"text_6\">\n      <!-- 250 -->\n      <g transform=\"translate(290.262203 239.238437)scale(0.1 -0.1)\">\n       <use xlink:href=\"#DejaVuSans-50\"/>\n       <use x=\"63.623047\" xlink:href=\"#DejaVuSans-53\"/>\n       <use x=\"127.246094\" xlink:href=\"#DejaVuSans-48\"/>\n      </g>\n     </g>\n    </g>\n    <g id=\"xtick_7\">\n     <g id=\"line2d_7\">\n      <g>\n       <use style=\"stroke:#000000;stroke-width:0.8;\" x=\"350.702882\" xlink:href=\"#m033266fc53\" y=\"224.64\"/>\n      </g>\n     </g>\n     <g id=\"text_7\">\n      <!-- 300 -->\n      <defs>\n       <path d=\"M 40.578125 39.3125 \nQ 47.65625 37.796875 51.625 33 \nQ 55.609375 28.21875 55.609375 21.1875 \nQ 55.609375 10.40625 48.1875 4.484375 \nQ 40.765625 -1.421875 27.09375 -1.421875 \nQ 22.515625 -1.421875 17.65625 -0.515625 \nQ 12.796875 0.390625 7.625 2.203125 \nL 7.625 11.71875 \nQ 11.71875 9.328125 16.59375 8.109375 \nQ 21.484375 6.890625 26.8125 6.890625 \nQ 36.078125 6.890625 40.9375 10.546875 \nQ 45.796875 14.203125 45.796875 21.1875 \nQ 45.796875 27.640625 41.28125 31.265625 \nQ 36.765625 34.90625 28.71875 34.90625 \nL 20.21875 34.90625 \nL 20.21875 43.015625 \nL 29.109375 43.015625 \nQ 36.375 43.015625 40.234375 45.921875 \nQ 44.09375 48.828125 44.09375 54.296875 \nQ 44.09375 59.90625 40.109375 62.90625 \nQ 36.140625 65.921875 28.71875 65.921875 \nQ 24.65625 65.921875 20.015625 65.03125 \nQ 15.375 64.15625 9.8125 62.3125 \nL 9.8125 71.09375 \nQ 15.4375 72.65625 20.34375 73.4375 \nQ 25.25 74.21875 29.59375 74.21875 \nQ 40.828125 74.21875 47.359375 69.109375 \nQ 53.90625 64.015625 53.90625 55.328125 \nQ 53.90625 49.265625 50.4375 45.09375 \nQ 46.96875 40.921875 40.578125 39.3125 \nz\n\" id=\"DejaVuSans-51\"/>\n      </defs>\n      <g transform=\"translate(341.159132 239.238437)scale(0.1 -0.1)\">\n       <use xlink:href=\"#DejaVuSans-51\"/>\n       <use x=\"63.623047\" xlink:href=\"#DejaVuSans-48\"/>\n       <use x=\"127.246094\" xlink:href=\"#DejaVuSans-48\"/>\n      </g>\n     </g>\n    </g>\n   </g>\n   <g id=\"matplotlib.axis_2\">\n    <g id=\"ytick_1\">\n     <g id=\"line2d_8\">\n      <defs>\n       <path d=\"M 0 0 \nL -3.5 0 \n\" id=\"macdb9979a7\" style=\"stroke:#000000;stroke-width:0.8;\"/>\n      </defs>\n      <g>\n       <use style=\"stroke:#000000;stroke-width:0.8;\" x=\"30.103125\" xlink:href=\"#macdb9979a7\" y=\"214.756589\"/>\n      </g>\n     </g>\n     <g id=\"text_8\">\n      <!-- 0.0 -->\n      <defs>\n       <path d=\"M 10.6875 12.40625 \nL 21 12.40625 \nL 21 0 \nL 10.6875 0 \nz\n\" id=\"DejaVuSans-46\"/>\n      </defs>\n      <g transform=\"translate(7.2 218.555808)scale(0.1 -0.1)\">\n       <use xlink:href=\"#DejaVuSans-48\"/>\n       <use x=\"63.623047\" xlink:href=\"#DejaVuSans-46\"/>\n       <use x=\"95.410156\" xlink:href=\"#DejaVuSans-48\"/>\n      </g>\n     </g>\n    </g>\n    <g id=\"ytick_2\">\n     <g id=\"line2d_9\">\n      <g>\n       <use style=\"stroke:#000000;stroke-width:0.8;\" x=\"30.103125\" xlink:href=\"#macdb9979a7\" y=\"169.419675\"/>\n      </g>\n     </g>\n     <g id=\"text_9\">\n      <!-- 0.2 -->\n      <g transform=\"translate(7.2 173.218894)scale(0.1 -0.1)\">\n       <use xlink:href=\"#DejaVuSans-48\"/>\n       <use x=\"63.623047\" xlink:href=\"#DejaVuSans-46\"/>\n       <use x=\"95.410156\" xlink:href=\"#DejaVuSans-50\"/>\n      </g>\n     </g>\n    </g>\n    <g id=\"ytick_3\">\n     <g id=\"line2d_10\">\n      <g>\n       <use style=\"stroke:#000000;stroke-width:0.8;\" x=\"30.103125\" xlink:href=\"#macdb9979a7\" y=\"124.082762\"/>\n      </g>\n     </g>\n     <g id=\"text_10\">\n      <!-- 0.4 -->\n      <defs>\n       <path d=\"M 37.796875 64.3125 \nL 12.890625 25.390625 \nL 37.796875 25.390625 \nz\nM 35.203125 72.90625 \nL 47.609375 72.90625 \nL 47.609375 25.390625 \nL 58.015625 25.390625 \nL 58.015625 17.1875 \nL 47.609375 17.1875 \nL 47.609375 0 \nL 37.796875 0 \nL 37.796875 17.1875 \nL 4.890625 17.1875 \nL 4.890625 26.703125 \nz\n\" id=\"DejaVuSans-52\"/>\n      </defs>\n      <g transform=\"translate(7.2 127.881981)scale(0.1 -0.1)\">\n       <use xlink:href=\"#DejaVuSans-48\"/>\n       <use x=\"63.623047\" xlink:href=\"#DejaVuSans-46\"/>\n       <use x=\"95.410156\" xlink:href=\"#DejaVuSans-52\"/>\n      </g>\n     </g>\n    </g>\n    <g id=\"ytick_4\">\n     <g id=\"line2d_11\">\n      <g>\n       <use style=\"stroke:#000000;stroke-width:0.8;\" x=\"30.103125\" xlink:href=\"#macdb9979a7\" y=\"78.745849\"/>\n      </g>\n     </g>\n     <g id=\"text_11\">\n      <!-- 0.6 -->\n      <defs>\n       <path d=\"M 33.015625 40.375 \nQ 26.375 40.375 22.484375 35.828125 \nQ 18.609375 31.296875 18.609375 23.390625 \nQ 18.609375 15.53125 22.484375 10.953125 \nQ 26.375 6.390625 33.015625 6.390625 \nQ 39.65625 6.390625 43.53125 10.953125 \nQ 47.40625 15.53125 47.40625 23.390625 \nQ 47.40625 31.296875 43.53125 35.828125 \nQ 39.65625 40.375 33.015625 40.375 \nz\nM 52.59375 71.296875 \nL 52.59375 62.3125 \nQ 48.875 64.0625 45.09375 64.984375 \nQ 41.3125 65.921875 37.59375 65.921875 \nQ 27.828125 65.921875 22.671875 59.328125 \nQ 17.53125 52.734375 16.796875 39.40625 \nQ 19.671875 43.65625 24.015625 45.921875 \nQ 28.375 48.1875 33.59375 48.1875 \nQ 44.578125 48.1875 50.953125 41.515625 \nQ 57.328125 34.859375 57.328125 23.390625 \nQ 57.328125 12.15625 50.6875 5.359375 \nQ 44.046875 -1.421875 33.015625 -1.421875 \nQ 20.359375 -1.421875 13.671875 8.265625 \nQ 6.984375 17.96875 6.984375 36.375 \nQ 6.984375 53.65625 15.1875 63.9375 \nQ 23.390625 74.21875 37.203125 74.21875 \nQ 40.921875 74.21875 44.703125 73.484375 \nQ 48.484375 72.75 52.59375 71.296875 \nz\n\" id=\"DejaVuSans-54\"/>\n      </defs>\n      <g transform=\"translate(7.2 82.545067)scale(0.1 -0.1)\">\n       <use xlink:href=\"#DejaVuSans-48\"/>\n       <use x=\"63.623047\" xlink:href=\"#DejaVuSans-46\"/>\n       <use x=\"95.410156\" xlink:href=\"#DejaVuSans-54\"/>\n      </g>\n     </g>\n    </g>\n    <g id=\"ytick_5\">\n     <g id=\"line2d_12\">\n      <g>\n       <use style=\"stroke:#000000;stroke-width:0.8;\" x=\"30.103125\" xlink:href=\"#macdb9979a7\" y=\"33.408935\"/>\n      </g>\n     </g>\n     <g id=\"text_12\">\n      <!-- 0.8 -->\n      <defs>\n       <path d=\"M 31.78125 34.625 \nQ 24.75 34.625 20.71875 30.859375 \nQ 16.703125 27.09375 16.703125 20.515625 \nQ 16.703125 13.921875 20.71875 10.15625 \nQ 24.75 6.390625 31.78125 6.390625 \nQ 38.8125 6.390625 42.859375 10.171875 \nQ 46.921875 13.96875 46.921875 20.515625 \nQ 46.921875 27.09375 42.890625 30.859375 \nQ 38.875 34.625 31.78125 34.625 \nz\nM 21.921875 38.8125 \nQ 15.578125 40.375 12.03125 44.71875 \nQ 8.5 49.078125 8.5 55.328125 \nQ 8.5 64.0625 14.71875 69.140625 \nQ 20.953125 74.21875 31.78125 74.21875 \nQ 42.671875 74.21875 48.875 69.140625 \nQ 55.078125 64.0625 55.078125 55.328125 \nQ 55.078125 49.078125 51.53125 44.71875 \nQ 48 40.375 41.703125 38.8125 \nQ 48.828125 37.15625 52.796875 32.3125 \nQ 56.78125 27.484375 56.78125 20.515625 \nQ 56.78125 9.90625 50.3125 4.234375 \nQ 43.84375 -1.421875 31.78125 -1.421875 \nQ 19.734375 -1.421875 13.25 4.234375 \nQ 6.78125 9.90625 6.78125 20.515625 \nQ 6.78125 27.484375 10.78125 32.3125 \nQ 14.796875 37.15625 21.921875 38.8125 \nz\nM 18.3125 54.390625 \nQ 18.3125 48.734375 21.84375 45.5625 \nQ 25.390625 42.390625 31.78125 42.390625 \nQ 38.140625 42.390625 41.71875 45.5625 \nQ 45.3125 48.734375 45.3125 54.390625 \nQ 45.3125 60.0625 41.71875 63.234375 \nQ 38.140625 66.40625 31.78125 66.40625 \nQ 25.390625 66.40625 21.84375 63.234375 \nQ 18.3125 60.0625 18.3125 54.390625 \nz\n\" id=\"DejaVuSans-56\"/>\n      </defs>\n      <g transform=\"translate(7.2 37.208154)scale(0.1 -0.1)\">\n       <use xlink:href=\"#DejaVuSans-48\"/>\n       <use x=\"63.623047\" xlink:href=\"#DejaVuSans-46\"/>\n       <use x=\"95.410156\" xlink:href=\"#DejaVuSans-56\"/>\n      </g>\n     </g>\n    </g>\n   </g>\n   <g id=\"line2d_13\">\n    <path clip-path=\"url(#p18284b8004)\" d=\"M 45.321307 162.1894 \nL 46.339245 151.29166 \nL 47.357184 126.457907 \nL 48.375123 203.322536 \nL 49.393061 17.083636 \nL 50.411 204.860158 \nL 51.428938 174.481661 \nL 52.446877 183.041777 \nL 53.464815 183.868397 \nL 54.482754 197.194931 \nL 55.500693 200.849128 \nL 56.518631 185.667868 \nL 57.53657 134.863972 \nL 58.554508 166.808182 \nL 59.572447 208.201943 \nL 60.590386 213.851243 \nL 61.608324 150.649265 \nL 62.626263 204.797321 \nL 63.644201 206.655229 \nL 64.66214 204.239605 \nL 65.680078 177.25385 \nL 66.698017 156.353119 \nL 67.715956 213.184065 \nL 69.751833 159.849196 \nL 70.769771 157.197179 \nL 71.78771 189.285854 \nL 72.805649 204.792075 \nL 73.823587 207.43555 \nL 74.841526 191.660808 \nL 75.859464 184.852246 \nL 76.877403 153.706169 \nL 78.91328 209.037697 \nL 79.931219 93.43582 \nL 80.949157 210.470808 \nL 81.967096 169.275344 \nL 82.985034 186.926383 \nL 84.002973 187.653567 \nL 85.020912 173.501843 \nL 86.03885 168.274774 \nL 87.056789 170.067844 \nL 88.074727 191.46899 \nL 89.092666 179.661123 \nL 90.110604 202.656397 \nL 91.128543 186.734482 \nL 92.146482 213.542064 \nL 93.16442 183.204814 \nL 94.182359 183.947005 \nL 95.200297 178.945191 \nL 96.218236 187.148391 \nL 97.236175 187.254722 \nL 98.254113 209.112525 \nL 99.272052 197.758568 \nL 100.28999 213.911552 \nL 101.307929 207.035038 \nL 102.325867 214.154722 \nL 103.343806 212.761817 \nL 104.361745 214.382539 \nL 105.379683 198.833573 \nL 106.397622 214.443442 \nL 107.41556 213.909274 \nL 108.433499 202.197189 \nL 109.451438 200.052711 \nL 110.469376 214.26629 \nL 111.487315 214.405715 \nL 112.505253 196.853001 \nL 113.523192 200.699749 \nL 114.54113 209.012859 \nL 115.559069 198.353196 \nL 116.577008 214.496451 \nL 117.594946 214.592281 \nL 118.612885 213.671016 \nL 119.630823 209.451227 \nL 120.648762 214.542963 \nL 121.666701 211.650291 \nL 122.684639 214.443133 \nL 123.702578 214.65127 \nL 124.720516 206.930102 \nL 125.738455 209.902839 \nL 126.756393 153.783428 \nL 127.774332 214.605025 \nL 128.792271 214.755672 \nL 129.810209 214.728808 \nL 130.828148 193.191126 \nL 131.846086 208.416806 \nL 132.864025 202.458431 \nL 133.881964 202.495455 \nL 135.917841 214.301429 \nL 136.935779 214.311197 \nL 137.953718 198.706466 \nL 138.971656 214.732053 \nL 139.989595 214.718839 \nL 141.007534 205.160336 \nL 142.025472 214.732075 \nL 143.043411 205.812341 \nL 144.061349 205.650866 \nL 145.079288 204.738256 \nL 146.097227 212.167776 \nL 147.115165 200.865289 \nL 148.133104 205.066378 \nL 149.151042 206.343097 \nL 150.168981 206.557258 \nL 151.186919 210.397519 \nL 152.204858 210.510007 \nL 153.222797 213.824369 \nL 154.240735 207.52717 \nL 156.276612 213.961605 \nL 157.294551 199.870531 \nL 158.31249 203.130717 \nL 159.330428 172.754135 \nL 160.348367 214.286943 \nL 161.366305 208.598668 \nL 162.384244 175.637794 \nL 163.402182 203.274205 \nL 164.420121 212.374475 \nL 165.43806 212.791169 \nL 166.455998 211.005789 \nL 167.473937 211.100245 \nL 168.491875 214.178986 \nL 169.509814 212.683096 \nL 170.527753 209.907141 \nL 171.545691 214.046437 \nL 172.56363 214.065746 \nL 173.581568 214.408839 \nL 174.599507 214.618102 \nL 175.617445 197.016545 \nL 176.635384 214.458942 \nL 177.653323 197.415077 \nL 178.671261 214.123263 \nL 179.6892 214.255125 \nL 180.707138 209.558287 \nL 181.725077 197.563559 \nL 182.743016 179.615119 \nL 183.760954 214.73446 \nL 184.778893 210.362589 \nL 185.796831 214.326927 \nL 186.81477 214.650483 \nL 187.832708 211.808228 \nL 188.850647 214.36645 \nL 189.868586 214.197024 \nL 190.886524 214.212239 \nL 191.904463 214.064022 \nL 192.922401 214.212996 \nL 193.94034 212.450333 \nL 194.958279 212.499949 \nL 195.976217 214.253037 \nL 196.994156 214.263787 \nL 198.012094 182.323416 \nL 199.030033 210.111276 \nL 200.047971 211.030795 \nL 201.06591 210.718428 \nL 202.083849 214.561909 \nL 204.119726 213.242592 \nL 205.137664 213.281661 \nL 206.155603 212.037476 \nL 207.173542 213.621823 \nL 208.19148 212.133093 \nL 209.209419 211.14071 \nL 210.227357 214.209059 \nL 211.245296 185.600491 \nL 212.263234 214.103855 \nL 213.281173 213.441147 \nL 214.299112 214.754066 \nL 215.31705 187.421272 \nL 216.334989 209.297443 \nL 217.352927 214.511265 \nL 218.370866 212.684562 \nL 219.388805 214.500123 \nL 220.406743 213.756366 \nL 221.424682 195.102387 \nL 222.44262 213.319753 \nL 223.460559 214.607324 \nL 224.478497 213.332944 \nL 225.496436 213.763614 \nL 226.514375 213.361001 \nL 227.532313 213.574985 \nL 228.550252 213.968184 \nL 229.56819 211.64517 \nL 230.586129 207.96822 \nL 231.604068 214.533097 \nL 232.622006 211.964082 \nL 233.639945 212.037048 \nL 234.657883 213.795975 \nL 235.675822 211.753035 \nL 236.69376 212.827564 \nL 237.711699 212.266693 \nL 238.729638 213.360931 \nL 239.747576 210.037843 \nL 240.765515 194.689467 \nL 241.783453 210.006089 \nL 242.801392 210.167303 \nL 243.819331 212.474921 \nL 244.837269 213.684793 \nL 245.855208 214.020699 \nL 246.873146 213.207237 \nL 247.891085 213.235843 \nL 248.909023 194.578523 \nL 249.926962 213.567528 \nL 250.944901 212.515464 \nL 251.962839 213.16665 \nL 252.980778 213.229809 \nL 253.998716 211.075226 \nL 255.016655 213.230977 \nL 256.034594 212.555853 \nL 257.052532 214.010675 \nL 258.070471 214.040667 \nL 259.088409 213.227251 \nL 260.106348 209.820453 \nL 261.124286 210.772699 \nL 262.142225 194.088257 \nL 263.160164 213.201493 \nL 264.178102 213.461797 \nL 265.196041 213.489594 \nL 266.213979 210.753192 \nL 267.231918 214.64221 \nL 268.249857 213.309748 \nL 269.267795 213.116469 \nL 270.285734 212.806764 \nL 271.303672 213.639046 \nL 272.321611 213.390902 \nL 273.339549 210.311629 \nL 274.357488 214.756364 \nL 275.375427 193.949408 \nL 276.393365 214.238787 \nL 277.411304 214.756143 \nL 278.429242 195.3749 \nL 279.447181 213.140137 \nL 280.46512 210.849464 \nL 281.483058 214.654128 \nL 282.500997 212.811853 \nL 283.518935 213.306863 \nL 284.536874 193.855916 \nL 285.554812 213.551522 \nL 287.59069 213.658876 \nL 288.608628 212.57108 \nL 289.626567 210.870265 \nL 290.644505 214.746777 \nL 291.662444 212.879864 \nL 292.680383 213.133535 \nL 293.698321 212.631898 \nL 294.71626 213.962844 \nL 295.734198 213.136044 \nL 296.752137 211.691916 \nL 297.770075 213.24062 \nL 298.788014 214.421379 \nL 299.805953 197.775725 \nL 300.823891 214.623333 \nL 301.84183 213.110165 \nL 302.859768 212.337451 \nL 303.877707 213.187531 \nL 304.895646 213.749055 \nL 305.913584 212.395013 \nL 306.931523 212.445152 \nL 307.949461 213.043087 \nL 308.9674 194.050172 \nL 309.985338 211.077729 \nL 311.003277 212.923597 \nL 312.021216 214.385539 \nL 313.039154 212.943857 \nL 314.057093 213.588883 \nL 315.075031 198.020211 \nL 316.09297 213.012657 \nL 317.110909 212.507362 \nL 318.128847 214.609401 \nL 319.146786 210.408216 \nL 320.164724 213.379753 \nL 321.182663 214.558355 \nL 322.200601 214.743359 \nL 323.21854 214.16799 \nL 324.236479 213.263469 \nL 325.254417 214.428177 \nL 326.272356 213.326692 \nL 327.290294 214.17552 \nL 328.308233 198.550223 \nL 329.326172 214.099498 \nL 330.34411 213.262001 \nL 331.362049 212.995057 \nL 332.379987 214.133987 \nL 333.397926 214.0935 \nL 334.415864 214.485288 \nL 335.433803 210.253558 \nL 336.451742 212.198208 \nL 337.46968 210.26769 \nL 338.487619 214.311828 \nL 339.505557 194.323401 \nL 340.523496 212.657273 \nL 341.541435 214.219128 \nL 342.559373 214.026584 \nL 343.577312 214.613165 \nL 344.59525 213.015761 \nL 345.613189 212.813068 \nL 346.631127 194.874812 \nL 347.649066 214.189418 \nL 348.667005 214.637666 \nL 349.684943 213.997905 \nL 349.684943 213.997905 \n\" style=\"fill:none;stroke:#1f77b4;stroke-linecap:square;stroke-width:1.5;\"/>\n   </g>\n   <g id=\"patch_3\">\n    <path d=\"M 30.103125 224.64 \nL 30.103125 7.2 \n\" style=\"fill:none;stroke:#000000;stroke-linecap:square;stroke-linejoin:miter;stroke-width:0.8;\"/>\n   </g>\n   <g id=\"patch_4\">\n    <path d=\"M 364.903125 224.64 \nL 364.903125 7.2 \n\" style=\"fill:none;stroke:#000000;stroke-linecap:square;stroke-linejoin:miter;stroke-width:0.8;\"/>\n   </g>\n   <g id=\"patch_5\">\n    <path d=\"M 30.103125 224.64 \nL 364.903125 224.64 \n\" style=\"fill:none;stroke:#000000;stroke-linecap:square;stroke-linejoin:miter;stroke-width:0.8;\"/>\n   </g>\n   <g id=\"patch_6\">\n    <path d=\"M 30.103125 7.2 \nL 364.903125 7.2 \n\" style=\"fill:none;stroke:#000000;stroke-linecap:square;stroke-linejoin:miter;stroke-width:0.8;\"/>\n   </g>\n  </g>\n </g>\n <defs>\n  <clipPath id=\"p18284b8004\">\n   <rect height=\"217.44\" width=\"334.8\" x=\"30.103125\" y=\"7.2\"/>\n  </clipPath>\n </defs>\n</svg>\n"
          },
          "metadata": {
            "needs_background": "light"
          }
        }
      ]
    },
    {
      "cell_type": "code",
      "source": [
        "y_pred = scale.inverse_transform(p_hat.reshape(-1,1))"
      ],
      "metadata": {
        "id": "Xz6EvE9dgY1z"
      },
      "execution_count": 287,
      "outputs": []
    },
    {
      "cell_type": "code",
      "source": [
        "cost[-1]"
      ],
      "metadata": {
        "colab": {
          "base_uri": "https://localhost:8080/"
        },
        "outputId": "11b2092d-fb29-4d08-f415-b0f37b2d6111",
        "id": "qclerxNggY11"
      },
      "execution_count": 288,
      "outputs": [
        {
          "output_type": "execute_result",
          "data": {
            "text/plain": [
              "array([0.00334687])"
            ]
          },
          "metadata": {},
          "execution_count": 288
        }
      ]
    },
    {
      "cell_type": "markdown",
      "source": [
        "#mini_batch gradient descent"
      ],
      "metadata": {
        "id": "d8T7GyjF2APB"
      }
    },
    {
      "cell_type": "code",
      "source": [
        "epochs = 300\n",
        "\n",
        "def Minibatch_GD(X, y, lr = 0.01, batchsize=4):\n",
        "\n",
        "  cost = []\n",
        "\n",
        "  p = y_scaled.flatten()\n",
        "  area = X_scaled[:,0]\n",
        "  bedr = X_scaled[:,1]\n",
        "  w = np.ones(X_scaled.shape[1])\n",
        "  b = 0\n",
        "\n",
        "\n",
        "\n",
        "\n",
        "\n",
        "\n",
        "  return w,b,cost,p_hat\n",
        "\n"
      ],
      "metadata": {
        "id": "ZVYR2zWy2ItF"
      },
      "execution_count": null,
      "outputs": []
    },
    {
      "cell_type": "code",
      "source": [
        ""
      ],
      "metadata": {
        "id": "ydyDicu32D3P"
      },
      "execution_count": null,
      "outputs": []
    }
  ]
}