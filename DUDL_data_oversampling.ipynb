{
  "nbformat": 4,
  "nbformat_minor": 0,
  "metadata": {
    "colab": {
      "name": "DUDL_data_oversampling.ipynb",
      "provenance": [],
      "collapsed_sections": [],
      "include_colab_link": true
    },
    "kernelspec": {
      "name": "python3",
      "display_name": "Python 3"
    }
  },
  "cells": [
    {
      "cell_type": "markdown",
      "metadata": {
        "id": "view-in-github",
        "colab_type": "text"
      },
      "source": [
        "<a href=\"https://colab.research.google.com/github/hamednasr/deep-learning/blob/main/DUDL_data_oversampling.ipynb\" target=\"_parent\"><img src=\"https://colab.research.google.com/assets/colab-badge.svg\" alt=\"Open In Colab\"/></a>"
      ]
    },
    {
      "cell_type": "markdown",
      "metadata": {
        "id": "bhWV8oes-wKR"
      },
      "source": [
        "# COURSE: A deep understanding of deep learning\n",
        "## SECTION: More on data\n",
        "### LECTURE: Data oversampling in MNIST\n",
        "#### TEACHER: Mike X Cohen, sincxpress.com\n",
        "##### COURSE URL: udemy.com/course/dudl/?couponCode=202109"
      ]
    },
    {
      "cell_type": "code",
      "metadata": {
        "id": "YeuAheYyhdZw"
      },
      "source": [
        "# import libraries\n",
        "import numpy as np\n",
        "\n",
        "import torch\n",
        "import torch.nn as nn\n",
        "import torch.nn.functional as F\n",
        "from torch.utils.data import DataLoader,TensorDataset\n",
        "from sklearn.model_selection import train_test_split\n",
        "\n",
        "import matplotlib.pyplot as plt"
      ],
      "execution_count": 11,
      "outputs": []
    },
    {
      "cell_type": "markdown",
      "metadata": {
        "id": "OhLQ2YSvpiGj"
      },
      "source": [
        "# A function that returns a dataset with a specified size"
      ]
    },
    {
      "cell_type": "code",
      "metadata": {
        "id": "sFGj8mEunZ0Y"
      },
      "source": [
        "# import dataset (comes with colab!)\n",
        "dataFull = np.loadtxt(open('sample_data/mnist_train_small.csv','rb'),delimiter=',')"
      ],
      "execution_count": null,
      "outputs": []
    },
    {
      "cell_type": "code",
      "metadata": {
        "id": "Y_tZ1ymVp0Sf"
      },
      "source": [
        "\n",
        "\n",
        "# now for the function\n",
        "def makeTheDataset(N,doubleTheData=False):\n",
        "\n",
        "  # extract labels (number IDs) and remove from data\n",
        "  labels = dataFull[:N,0]\n",
        "  data   = dataFull[:N,1:]\n",
        "\n",
        "  # normalize the data to a range of [0 1]\n",
        "  dataNorm = data / np.max(data)\n",
        "\n",
        "\n",
        "  # make an exact copy of ALL the data\n",
        "  # if doubleTheData:\n",
        "  #   dataNorm = np.concatenate((dataNorm,dataNorm),axis=0)\n",
        "  #   labels   = np.concatenate((labels,labels),axis=0)\n",
        "\n",
        "\n",
        "  # convert to tensor\n",
        "  dataT   = torch.tensor( dataNorm ).float()\n",
        "  labelsT = torch.tensor( labels ).long()\n",
        "\n",
        "  # use scikitlearn to split the data\n",
        "  train_data,test_data, train_labels,test_labels = train_test_split(dataT, labelsT, train_size=.9)\n",
        "\n",
        "  # # make an exact copy of the TRAIN data\n",
        "  if doubleTheData:\n",
        "    train_data   = torch.cat((train_data,train_data),axis=0)\n",
        "    train_labels = torch.cat((train_labels,train_labels),axis=0)\n",
        "  \n",
        "\n",
        "  # convert into PyTorch Datasets\n",
        "  train_data = TensorDataset(train_data,train_labels)\n",
        "  test_data  = TensorDataset(test_data,test_labels)\n",
        "\n",
        "  # translate into dataloader objects\n",
        "  batchsize    = 20\n",
        "  train_loader = DataLoader(train_data,batch_size=batchsize,shuffle=True,drop_last=True)\n",
        "  test_loader  = DataLoader(test_data,batch_size=test_data.tensors[0].shape[0])\n",
        "\n",
        "  return train_loader,test_loader"
      ],
      "execution_count": 49,
      "outputs": []
    },
    {
      "cell_type": "code",
      "metadata": {
        "id": "rQQAEnLDBeNm",
        "colab": {
          "base_uri": "https://localhost:8080/"
        },
        "outputId": "e69f1cd1-a777-4518-f603-c3e7d10ffb8a"
      },
      "source": [
        "# Check the sizes\n",
        "r,t = makeTheDataset(200,False)\n",
        "print(r.dataset.tensors[0].shape)\n",
        "print(t.dataset.tensors[0].shape)\n",
        "\n",
        "r,t = makeTheDataset(200,True)\n",
        "print(r.dataset.tensors[0].shape)\n",
        "print(t.dataset.tensors[0].shape)"
      ],
      "execution_count": 50,
      "outputs": [
        {
          "output_type": "stream",
          "name": "stdout",
          "text": [
            "torch.Size([180, 784])\n",
            "torch.Size([20, 784])\n",
            "torch.Size([360, 784])\n",
            "torch.Size([20, 784])\n"
          ]
        }
      ]
    },
    {
      "cell_type": "markdown",
      "metadata": {
        "id": "OK8Opkhgp0bO"
      },
      "source": [
        "# Create the DL model"
      ]
    },
    {
      "cell_type": "code",
      "metadata": {
        "id": "JK3OO3tAtZkA"
      },
      "source": [
        "# create a class for the model\n",
        "def createTheMNISTNet():\n",
        "\n",
        "  class mnistNet(nn.Module):\n",
        "    def __init__(self):\n",
        "      super().__init__()\n",
        "\n",
        "      ### input layer\n",
        "      self.input = nn.Linear(784,64)\n",
        "      \n",
        "      ### hidden layer\n",
        "      self.fc1 = nn.Linear(64,32)\n",
        "      self.fc2 = nn.Linear(32,32)\n",
        "\n",
        "      ### output layer\n",
        "      self.output = nn.Linear(32,10)\n",
        "\n",
        "    # forward pass\n",
        "    def forward(self,x):\n",
        "      x = F.relu( self.input(x) )\n",
        "      x = F.relu( self.fc1(x) )\n",
        "      x = F.relu( self.fc2(x) )\n",
        "      return self.output(x)\n",
        "  \n",
        "  # create the model instance\n",
        "  net = mnistNet()\n",
        "  \n",
        "  # loss function\n",
        "  lossfun = nn.CrossEntropyLoss()\n",
        "\n",
        "  # optimizer\n",
        "  optimizer = torch.optim.SGD(net.parameters(),lr=.01)\n",
        "\n",
        "  return net,lossfun,optimizer"
      ],
      "execution_count": 62,
      "outputs": []
    },
    {
      "cell_type": "markdown",
      "metadata": {
        "id": "dvfGQIRGp0ht"
      },
      "source": [
        "# Create a function that trains the model"
      ]
    },
    {
      "cell_type": "code",
      "metadata": {
        "id": "IblJo1NCp0kl"
      },
      "source": [
        "# a function that trains the model\n",
        "\n",
        "def function2trainTheModel():\n",
        "\n",
        "  # number of epochs\n",
        "  numepochs = 50\n",
        "  \n",
        "  # create a new model\n",
        "  net,lossfun,optimizer = createTheMNISTNet()\n",
        "\n",
        "  # initialize losses\n",
        "  losses    = torch.zeros(numepochs)\n",
        "  trainAcc  = []\n",
        "  testAcc   = []\n",
        "\n",
        "\n",
        "  # loop over epochs\n",
        "  for epochi in range(numepochs):\n",
        "\n",
        "    # loop over training data batches\n",
        "    batchAcc  = []\n",
        "    batchLoss = []\n",
        "    for X,y in train_loader:\n",
        "\n",
        "      # forward pass and loss\n",
        "      yHat = net(X)\n",
        "      loss = lossfun(yHat,y)\n",
        "\n",
        "      # backprop\n",
        "      optimizer.zero_grad()\n",
        "      loss.backward()\n",
        "      optimizer.step()\n",
        "\n",
        "      # loss from this batch\n",
        "      batchLoss.append(loss.item())\n",
        "\n",
        "      # compute accuracy\n",
        "      matches = torch.argmax(yHat,axis=1) == y     # booleans (false/true)\n",
        "      matchesNumeric = matches.float()             # convert to numbers (0/1)\n",
        "      accuracyPct = 100*torch.mean(matchesNumeric) # average and x100\n",
        "      batchAcc.append( accuracyPct )               # add to list of accuracies\n",
        "    # end of batch loop...\n",
        "\n",
        "    # now that we've trained through the batches, get their average training accuracy\n",
        "    trainAcc.append( np.mean(batchAcc) )\n",
        "\n",
        "    # and get average losses across the batches\n",
        "    losses[epochi] = np.mean(batchLoss)\n",
        "\n",
        "    # test accuracy\n",
        "    X,y = next(iter(test_loader)) # extract X,y from test dataloader\n",
        "    with torch.no_grad(): # deactivates autograd\n",
        "      yHat = net(X)\n",
        "      \n",
        "    # compare the following really long line of code to the training accuracy lines\n",
        "    testAcc.append( 100*torch.mean((torch.argmax(yHat,axis=1)==y).float()) )\n",
        "\n",
        "  # end epochs\n",
        "\n",
        "  # function output\n",
        "  return trainAcc,testAcc,losses,net"
      ],
      "execution_count": 63,
      "outputs": []
    },
    {
      "cell_type": "markdown",
      "metadata": {
        "id": "rkI7gcZH26m2"
      },
      "source": [
        "# Run the model once to confirm that it works"
      ]
    },
    {
      "cell_type": "code",
      "metadata": {
        "id": "gHzKOZjnp0qn",
        "colab": {
          "base_uri": "https://localhost:8080/",
          "height": 350
        },
        "outputId": "6764e020-16f6-4d44-994a-1ea9022b856e"
      },
      "source": [
        "# generate a dataset\n",
        "train_loader,test_loader = makeTheDataset(5000)\n",
        "\n",
        "# test it\n",
        "trainAcc,testAcc,losses,net = function2trainTheModel()\n",
        "\n",
        "\n",
        "\n",
        "# plot the results\n",
        "fig,ax = plt.subplots(1,2,figsize=(16,5))\n",
        "\n",
        "ax[0].plot(losses)\n",
        "ax[0].set_xlabel('Epochs')\n",
        "ax[0].set_ylabel('Loss')\n",
        "ax[0].set_ylim([0,3])\n",
        "ax[0].set_title('Model loss')\n",
        "\n",
        "ax[1].plot(trainAcc,label='Train')\n",
        "ax[1].plot(testAcc,label='Test')\n",
        "ax[1].set_xlabel('Epochs')\n",
        "ax[1].set_ylabel('Accuracy (%)')\n",
        "ax[1].set_ylim([10,100])\n",
        "ax[1].set_title(f'Final model test accuracy: {testAcc[-1]:.2f}%')\n",
        "ax[1].legend()\n",
        "\n",
        "plt.show()"
      ],
      "execution_count": 64,
      "outputs": [
        {
          "output_type": "display_data",
          "data": {
            "image/png": "[encoded data removed]",
            "text/plain": [
              "<Figure size 1152x360 with 2 Axes>"
            ]
          },
          "metadata": {
            "needs_background": "light"
          }
        }
      ]
    },
    {
      "cell_type": "markdown",
      "metadata": {
        "id": "XpGm9xdQ27Ob"
      },
      "source": [
        "# Run an experiment showing better performance with increased N\n",
        "\n"
      ]
    },
    {
      "cell_type": "code",
      "metadata": {
        "id": "l9pCC1R2p0nu"
      },
      "source": [
        "# takes ~3 mins\n",
        "\n",
        "# list of data sample sizes\n",
        "samplesizes = np.arange(500,4001,500)\n",
        "\n",
        "# initialize results matrix\n",
        "resultsSingle = np.zeros((len(samplesizes),3))\n",
        "resultsDouble = np.zeros((len(samplesizes),3))\n",
        "\n",
        "\n",
        "for idx,ssize in enumerate(samplesizes):\n",
        "\n",
        "  ### without doubling the data!\n",
        "\n",
        "  # generate a dataset and train the model\n",
        "  train_loader,test_loader = makeTheDataset(ssize,False)\n",
        "  trainAcc,testAcc,losses,net = function2trainTheModel()\n",
        "\n",
        "  # grab the results\n",
        "  resultsSingle[idx,0] = np.mean(trainAcc[-5:])\n",
        "  resultsSingle[idx,1] = np.mean(testAcc[-5:])\n",
        "  resultsSingle[idx,2] = torch.mean(losses[-5:]).item()\n",
        "\n",
        "\n",
        "  ### with doubling the data!\n",
        "\n",
        "  # generate a dataset and train the model\n",
        "  train_loader,test_loader = makeTheDataset(ssize,True)\n",
        "  trainAcc,testAcc,losses,net = function2trainTheModel()\n",
        "\n",
        "  # grab the results\n",
        "  resultsDouble[idx,0] = np.mean(trainAcc[-5:])\n",
        "  resultsDouble[idx,1] = np.mean(testAcc[-5:])\n",
        "  resultsDouble[idx,2] = torch.mean(losses[-5:]).item()\n"
      ],
      "execution_count": 65,
      "outputs": []
    },
    {
      "cell_type": "code",
      "metadata": {
        "id": "9SnUUHPm7xQE",
        "colab": {
          "base_uri": "https://localhost:8080/",
          "height": 359
        },
        "outputId": "f12d4d86-97de-43d0-9be9-ef46392e4722"
      },
      "source": [
        "# Let's see what the results look like!\n",
        "\n",
        "fig,ax = plt.subplots(1,3,figsize=(15,5))\n",
        "\n",
        "# axis and title labels\n",
        "titles    = ['Train','Devset','Losses']\n",
        "yaxlabels = ['Accuracy','Accuracy','Losses']\n",
        "\n",
        "# common features\n",
        "for i in range(3):\n",
        "\n",
        "  # plot the lines\n",
        "  ax[i].plot(samplesizes,resultsSingle[:,i],'s-',label='Original')\n",
        "  ax[i].plot(samplesizes,resultsDouble[:,i],'s-',label='Doubled')\n",
        "  \n",
        "  # make it look nicer\n",
        "  ax[i].set_ylabel(yaxlabels[i])\n",
        "  ax[i].set_title(titles[i])\n",
        "  ax[i].legend()\n",
        "  ax[i].set_xlabel('Unique sample size')\n",
        "  ax[i].grid('on')\n",
        "\n",
        "  if i<2:\n",
        "    ax[i].set_ylim([20,102])\n",
        "\n",
        "\n",
        "plt.tight_layout()\n",
        "plt.show()"
      ],
      "execution_count": 66,
      "outputs": [
        {
          "output_type": "display_data",
          "data": {
            "image/png": "[encoded data removed]",
            "text/plain": [
              "<Figure size 1080x360 with 3 Axes>"
            ]
          },
          "metadata": {
            "needs_background": "light"
          }
        }
      ]
    },
    {
      "cell_type": "code",
      "metadata": {
        "id": "1E6m2P4I_MRP"
      },
      "source": [
        ""
      ],
      "execution_count": 66,
      "outputs": []
    },
    {
      "cell_type": "markdown",
      "metadata": {
        "id": "Uh28k_l29urR"
      },
      "source": [
        "# Additional explorations"
      ]
    },
    {
      "cell_type": "code",
      "metadata": {
        "id": "ib3uQtfv9wE2"
      },
      "source": [
        "# 1) Notice that we're using the \"test_dataset\" multiple times, which really means that it's the devset,\n",
        "#    aka hold-out set, and not a true TEST set. A real test set gets evaluated only once. Modify the code\n",
        "#    to create a test set, using images in dataFull that are not in dataNorm. Note that you don't need \n",
        "#    to re-run the entire experiment; you only need to train two models (and save their 'net' outputs), so that\n",
        "#    you can run the test data through (make sure to normalize the test data!). Then you can evaluate the test\n",
        "#    performance relative to train and devset from those two models.\n",
        "# \n",
        "# 2) We've previously discovered that Adam can outperform SGD on the MNIST dataset. I used SGD here on purpose --\n",
        "#    to make performance worse (!) so we could test for effects of oversampling. Re-run the experiment using\n",
        "#    Adam to see whether you still get the same effects. \n",
        "# "
      ],
      "execution_count": 67,
      "outputs": []
    }
  ]
}