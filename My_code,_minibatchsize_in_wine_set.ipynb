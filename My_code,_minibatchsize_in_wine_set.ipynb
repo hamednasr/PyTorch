{
  "nbformat": 4,
  "nbformat_minor": 0,
  "metadata": {
    "colab": {
      "name": "My code, minibatchsize in wine set.ipynb",
      "provenance": [],
      "collapsed_sections": [],
      "authorship_tag": "ABX9TyPYfbsXxo9Skvo8m+fTatyR",
      "include_colab_link": true
    },
    "kernelspec": {
      "name": "python3",
      "display_name": "Python 3"
    },
    "language_info": {
      "name": "python"
    }
  },
  "cells": [
    {
      "cell_type": "markdown",
      "metadata": {
        "id": "view-in-github",
        "colab_type": "text"
      },
      "source": [
        "<a href=\"https://colab.research.google.com/github/hamednasr/deep-learning/blob/main/My_code%2C_minibatchsize_in_wine_set.ipynb\" target=\"_parent\"><img src=\"https://colab.research.google.com/assets/colab-badge.svg\" alt=\"Open In Colab\"/></a>"
      ]
    },
    {
      "cell_type": "markdown",
      "source": [
        "# import libraries"
      ],
      "metadata": {
        "id": "hw30KD2mzGSa"
      }
    },
    {
      "cell_type": "code",
      "execution_count": 159,
      "metadata": {
        "id": "T9sYSYN7mGAr"
      },
      "outputs": [],
      "source": [
        "import torch\n",
        "import torch.nn as nn\n",
        "import torch.nn.functional as F\n",
        "from torch.utils.data import DataLoader , TensorDataset\n",
        "\n",
        "import numpy as np\n",
        "import pandas as pd\n",
        "import scipy.stats as st\n",
        "\n",
        "from sklearn.model_selection import train_test_split\n",
        "import matplotlib.pyplot as plt\n",
        "from IPython import display\n",
        "display.set_matplotlib_formats('svg')"
      ]
    },
    {
      "cell_type": "markdown",
      "source": [
        "# import data"
      ],
      "metadata": {
        "id": "-FFWQfSTzKR2"
      }
    },
    {
      "cell_type": "code",
      "source": [
        "url = \"https://archive.ics.uci.edu/ml/machine-learning-databases/wine-quality/winequality-red.csv\""
      ],
      "metadata": {
        "id": "HH0FMmGrm2T2"
      },
      "execution_count": 160,
      "outputs": []
    },
    {
      "cell_type": "code",
      "source": [
        "wine = pd.read_csv(url,sep=';')\n",
        "wine"
      ],
      "metadata": {
        "colab": {
          "base_uri": "https://localhost:8080/",
          "height": 502
        },
        "id": "56JnmPQCm751",
        "outputId": "ffc34ff3-d21c-4d05-8828-3005bbfb44ce"
      },
      "execution_count": 161,
      "outputs": [
        {
          "output_type": "execute_result",
          "data": {
            "text/html": [
              "\n",
              "  <div id=\"df-27cdf684-04ab-4a91-8d81-95237cefa233\">\n",
              "    <div class=\"colab-df-container\">\n",
              "      <div>\n",
              "<style scoped>\n",
              "    .dataframe tbody tr th:only-of-type {\n",
              "        vertical-align: middle;\n",
              "    }\n",
              "\n",
              "    .dataframe tbody tr th {\n",
              "        vertical-align: top;\n",
              "    }\n",
              "\n",
              "    .dataframe thead th {\n",
              "        text-align: right;\n",
              "    }\n",
              "</style>\n",
              "<table border=\"1\" class=\"dataframe\">\n",
              "  <thead>\n",
              "    <tr style=\"text-align: right;\">\n",
              "      <th></th>\n",
              "      <th>fixed acidity</th>\n",
              "      <th>volatile acidity</th>\n",
              "      <th>citric acid</th>\n",
              "      <th>residual sugar</th>\n",
              "      <th>chlorides</th>\n",
              "      <th>free sulfur dioxide</th>\n",
              "      <th>total sulfur dioxide</th>\n",
              "      <th>density</th>\n",
              "      <th>pH</th>\n",
              "      <th>sulphates</th>\n",
              "      <th>alcohol</th>\n",
              "      <th>quality</th>\n",
              "    </tr>\n",
              "  </thead>\n",
              "  <tbody>\n",
              "    <tr>\n",
              "      <th>0</th>\n",
              "      <td>7.4</td>\n",
              "      <td>0.700</td>\n",
              "      <td>0.00</td>\n",
              "      <td>1.9</td>\n",
              "      <td>0.076</td>\n",
              "      <td>11.0</td>\n",
              "      <td>34.0</td>\n",
              "      <td>0.99780</td>\n",
              "      <td>3.51</td>\n",
              "      <td>0.56</td>\n",
              "      <td>9.4</td>\n",
              "      <td>5</td>\n",
              "    </tr>\n",
              "    <tr>\n",
              "      <th>1</th>\n",
              "      <td>7.8</td>\n",
              "      <td>0.880</td>\n",
              "      <td>0.00</td>\n",
              "      <td>2.6</td>\n",
              "      <td>0.098</td>\n",
              "      <td>25.0</td>\n",
              "      <td>67.0</td>\n",
              "      <td>0.99680</td>\n",
              "      <td>3.20</td>\n",
              "      <td>0.68</td>\n",
              "      <td>9.8</td>\n",
              "      <td>5</td>\n",
              "    </tr>\n",
              "    <tr>\n",
              "      <th>2</th>\n",
              "      <td>7.8</td>\n",
              "      <td>0.760</td>\n",
              "      <td>0.04</td>\n",
              "      <td>2.3</td>\n",
              "      <td>0.092</td>\n",
              "      <td>15.0</td>\n",
              "      <td>54.0</td>\n",
              "      <td>0.99700</td>\n",
              "      <td>3.26</td>\n",
              "      <td>0.65</td>\n",
              "      <td>9.8</td>\n",
              "      <td>5</td>\n",
              "    </tr>\n",
              "    <tr>\n",
              "      <th>3</th>\n",
              "      <td>11.2</td>\n",
              "      <td>0.280</td>\n",
              "      <td>0.56</td>\n",
              "      <td>1.9</td>\n",
              "      <td>0.075</td>\n",
              "      <td>17.0</td>\n",
              "      <td>60.0</td>\n",
              "      <td>0.99800</td>\n",
              "      <td>3.16</td>\n",
              "      <td>0.58</td>\n",
              "      <td>9.8</td>\n",
              "      <td>6</td>\n",
              "    </tr>\n",
              "    <tr>\n",
              "      <th>4</th>\n",
              "      <td>7.4</td>\n",
              "      <td>0.700</td>\n",
              "      <td>0.00</td>\n",
              "      <td>1.9</td>\n",
              "      <td>0.076</td>\n",
              "      <td>11.0</td>\n",
              "      <td>34.0</td>\n",
              "      <td>0.99780</td>\n",
              "      <td>3.51</td>\n",
              "      <td>0.56</td>\n",
              "      <td>9.4</td>\n",
              "      <td>5</td>\n",
              "    </tr>\n",
              "    <tr>\n",
              "      <th>...</th>\n",
              "      <td>...</td>\n",
              "      <td>...</td>\n",
              "      <td>...</td>\n",
              "      <td>...</td>\n",
              "      <td>...</td>\n",
              "      <td>...</td>\n",
              "      <td>...</td>\n",
              "      <td>...</td>\n",
              "      <td>...</td>\n",
              "      <td>...</td>\n",
              "      <td>...</td>\n",
              "      <td>...</td>\n",
              "    </tr>\n",
              "    <tr>\n",
              "      <th>1594</th>\n",
              "      <td>6.2</td>\n",
              "      <td>0.600</td>\n",
              "      <td>0.08</td>\n",
              "      <td>2.0</td>\n",
              "      <td>0.090</td>\n",
              "      <td>32.0</td>\n",
              "      <td>44.0</td>\n",
              "      <td>0.99490</td>\n",
              "      <td>3.45</td>\n",
              "      <td>0.58</td>\n",
              "      <td>10.5</td>\n",
              "      <td>5</td>\n",
              "    </tr>\n",
              "    <tr>\n",
              "      <th>1595</th>\n",
              "      <td>5.9</td>\n",
              "      <td>0.550</td>\n",
              "      <td>0.10</td>\n",
              "      <td>2.2</td>\n",
              "      <td>0.062</td>\n",
              "      <td>39.0</td>\n",
              "      <td>51.0</td>\n",
              "      <td>0.99512</td>\n",
              "      <td>3.52</td>\n",
              "      <td>0.76</td>\n",
              "      <td>11.2</td>\n",
              "      <td>6</td>\n",
              "    </tr>\n",
              "    <tr>\n",
              "      <th>1596</th>\n",
              "      <td>6.3</td>\n",
              "      <td>0.510</td>\n",
              "      <td>0.13</td>\n",
              "      <td>2.3</td>\n",
              "      <td>0.076</td>\n",
              "      <td>29.0</td>\n",
              "      <td>40.0</td>\n",
              "      <td>0.99574</td>\n",
              "      <td>3.42</td>\n",
              "      <td>0.75</td>\n",
              "      <td>11.0</td>\n",
              "      <td>6</td>\n",
              "    </tr>\n",
              "    <tr>\n",
              "      <th>1597</th>\n",
              "      <td>5.9</td>\n",
              "      <td>0.645</td>\n",
              "      <td>0.12</td>\n",
              "      <td>2.0</td>\n",
              "      <td>0.075</td>\n",
              "      <td>32.0</td>\n",
              "      <td>44.0</td>\n",
              "      <td>0.99547</td>\n",
              "      <td>3.57</td>\n",
              "      <td>0.71</td>\n",
              "      <td>10.2</td>\n",
              "      <td>5</td>\n",
              "    </tr>\n",
              "    <tr>\n",
              "      <th>1598</th>\n",
              "      <td>6.0</td>\n",
              "      <td>0.310</td>\n",
              "      <td>0.47</td>\n",
              "      <td>3.6</td>\n",
              "      <td>0.067</td>\n",
              "      <td>18.0</td>\n",
              "      <td>42.0</td>\n",
              "      <td>0.99549</td>\n",
              "      <td>3.39</td>\n",
              "      <td>0.66</td>\n",
              "      <td>11.0</td>\n",
              "      <td>6</td>\n",
              "    </tr>\n",
              "  </tbody>\n",
              "</table>\n",
              "<p>1599 rows × 12 columns</p>\n",
              "</div>\n",
              "      <button class=\"colab-df-convert\" onclick=\"convertToInteractive('df-27cdf684-04ab-4a91-8d81-95237cefa233')\"\n",
              "              title=\"Convert this dataframe to an interactive table.\"\n",
              "              style=\"display:none;\">\n",
              "        \n",
              "  <svg xmlns=\"http://www.w3.org/2000/svg\" height=\"24px\"viewBox=\"0 0 24 24\"\n",
              "       width=\"24px\">\n",
              "    <path d=\"M0 0h24v24H0V0z\" fill=\"none\"/>\n",
              "    <path d=\"M18.56 5.44l.94 2.06.94-2.06 2.06-.94-2.06-.94-.94-2.06-.94 2.06-2.06.94zm-11 1L8.5 8.5l.94-2.06 2.06-.94-2.06-.94L8.5 2.5l-.94 2.06-2.06.94zm10 10l.94 2.06.94-2.06 2.06-.94-2.06-.94-.94-2.06-.94 2.06-2.06.94z\"/><path d=\"M17.41 7.96l-1.37-1.37c-.4-.4-.92-.59-1.43-.59-.52 0-1.04.2-1.43.59L10.3 9.45l-7.72 7.72c-.78.78-.78 2.05 0 2.83L4 21.41c.39.39.9.59 1.41.59.51 0 1.02-.2 1.41-.59l7.78-7.78 2.81-2.81c.8-.78.8-2.07 0-2.86zM5.41 20L4 18.59l7.72-7.72 1.47 1.35L5.41 20z\"/>\n",
              "  </svg>\n",
              "      </button>\n",
              "      \n",
              "  <style>\n",
              "    .colab-df-container {\n",
              "      display:flex;\n",
              "      flex-wrap:wrap;\n",
              "      gap: 12px;\n",
              "    }\n",
              "\n",
              "    .colab-df-convert {\n",
              "      background-color: #E8F0FE;\n",
              "      border: none;\n",
              "      border-radius: 50%;\n",
              "      cursor: pointer;\n",
              "      display: none;\n",
              "      fill: #1967D2;\n",
              "      height: 32px;\n",
              "      padding: 0 0 0 0;\n",
              "      width: 32px;\n",
              "    }\n",
              "\n",
              "    .colab-df-convert:hover {\n",
              "      background-color: #E2EBFA;\n",
              "      box-shadow: 0px 1px 2px rgba(60, 64, 67, 0.3), 0px 1px 3px 1px rgba(60, 64, 67, 0.15);\n",
              "      fill: #174EA6;\n",
              "    }\n",
              "\n",
              "    [theme=dark] .colab-df-convert {\n",
              "      background-color: #3B4455;\n",
              "      fill: #D2E3FC;\n",
              "    }\n",
              "\n",
              "    [theme=dark] .colab-df-convert:hover {\n",
              "      background-color: #434B5C;\n",
              "      box-shadow: 0px 1px 3px 1px rgba(0, 0, 0, 0.15);\n",
              "      filter: drop-shadow(0px 1px 2px rgba(0, 0, 0, 0.3));\n",
              "      fill: #FFFFFF;\n",
              "    }\n",
              "  </style>\n",
              "\n",
              "      <script>\n",
              "        const buttonEl =\n",
              "          document.querySelector('#df-27cdf684-04ab-4a91-8d81-95237cefa233 button.colab-df-convert');\n",
              "        buttonEl.style.display =\n",
              "          google.colab.kernel.accessAllowed ? 'block' : 'none';\n",
              "\n",
              "        async function convertToInteractive(key) {\n",
              "          const element = document.querySelector('#df-27cdf684-04ab-4a91-8d81-95237cefa233');\n",
              "          const dataTable =\n",
              "            await google.colab.kernel.invokeFunction('convertToInteractive',\n",
              "                                                     [key], {});\n",
              "          if (!dataTable) return;\n",
              "\n",
              "          const docLinkHtml = 'Like what you see? Visit the ' +\n",
              "            '<a target=\"_blank\" href=https://colab.research.google.com/notebooks/data_table.ipynb>data table notebook</a>'\n",
              "            + ' to learn more about interactive tables.';\n",
              "          element.innerHTML = '';\n",
              "          dataTable['output_type'] = 'display_data';\n",
              "          await google.colab.output.renderOutput(dataTable, element);\n",
              "          const docLink = document.createElement('div');\n",
              "          docLink.innerHTML = docLinkHtml;\n",
              "          element.appendChild(docLink);\n",
              "        }\n",
              "      </script>\n",
              "    </div>\n",
              "  </div>\n",
              "  "
            ],
            "text/plain": [
              "      fixed acidity  volatile acidity  citric acid  ...  sulphates  alcohol  quality\n",
              "0               7.4             0.700         0.00  ...       0.56      9.4        5\n",
              "1               7.8             0.880         0.00  ...       0.68      9.8        5\n",
              "2               7.8             0.760         0.04  ...       0.65      9.8        5\n",
              "3              11.2             0.280         0.56  ...       0.58      9.8        6\n",
              "4               7.4             0.700         0.00  ...       0.56      9.4        5\n",
              "...             ...               ...          ...  ...        ...      ...      ...\n",
              "1594            6.2             0.600         0.08  ...       0.58     10.5        5\n",
              "1595            5.9             0.550         0.10  ...       0.76     11.2        6\n",
              "1596            6.3             0.510         0.13  ...       0.75     11.0        6\n",
              "1597            5.9             0.645         0.12  ...       0.71     10.2        5\n",
              "1598            6.0             0.310         0.47  ...       0.66     11.0        6\n",
              "\n",
              "[1599 rows x 12 columns]"
            ]
          },
          "metadata": {},
          "execution_count": 161
        }
      ]
    },
    {
      "cell_type": "code",
      "source": [
        "data = wine.iloc[:,:11]\n",
        "data"
      ],
      "metadata": {
        "colab": {
          "base_uri": "https://localhost:8080/",
          "height": 502
        },
        "id": "gtDALIn4sO-m",
        "outputId": "0f0bece0-258b-4687-9904-d95c007daf15"
      },
      "execution_count": 162,
      "outputs": [
        {
          "output_type": "execute_result",
          "data": {
            "text/html": [
              "\n",
              "  <div id=\"df-269743b1-d64f-4dc0-9fe2-4c2241092a7e\">\n",
              "    <div class=\"colab-df-container\">\n",
              "      <div>\n",
              "<style scoped>\n",
              "    .dataframe tbody tr th:only-of-type {\n",
              "        vertical-align: middle;\n",
              "    }\n",
              "\n",
              "    .dataframe tbody tr th {\n",
              "        vertical-align: top;\n",
              "    }\n",
              "\n",
              "    .dataframe thead th {\n",
              "        text-align: right;\n",
              "    }\n",
              "</style>\n",
              "<table border=\"1\" class=\"dataframe\">\n",
              "  <thead>\n",
              "    <tr style=\"text-align: right;\">\n",
              "      <th></th>\n",
              "      <th>fixed acidity</th>\n",
              "      <th>volatile acidity</th>\n",
              "      <th>citric acid</th>\n",
              "      <th>residual sugar</th>\n",
              "      <th>chlorides</th>\n",
              "      <th>free sulfur dioxide</th>\n",
              "      <th>total sulfur dioxide</th>\n",
              "      <th>density</th>\n",
              "      <th>pH</th>\n",
              "      <th>sulphates</th>\n",
              "      <th>alcohol</th>\n",
              "    </tr>\n",
              "  </thead>\n",
              "  <tbody>\n",
              "    <tr>\n",
              "      <th>0</th>\n",
              "      <td>7.4</td>\n",
              "      <td>0.700</td>\n",
              "      <td>0.00</td>\n",
              "      <td>1.9</td>\n",
              "      <td>0.076</td>\n",
              "      <td>11.0</td>\n",
              "      <td>34.0</td>\n",
              "      <td>0.99780</td>\n",
              "      <td>3.51</td>\n",
              "      <td>0.56</td>\n",
              "      <td>9.4</td>\n",
              "    </tr>\n",
              "    <tr>\n",
              "      <th>1</th>\n",
              "      <td>7.8</td>\n",
              "      <td>0.880</td>\n",
              "      <td>0.00</td>\n",
              "      <td>2.6</td>\n",
              "      <td>0.098</td>\n",
              "      <td>25.0</td>\n",
              "      <td>67.0</td>\n",
              "      <td>0.99680</td>\n",
              "      <td>3.20</td>\n",
              "      <td>0.68</td>\n",
              "      <td>9.8</td>\n",
              "    </tr>\n",
              "    <tr>\n",
              "      <th>2</th>\n",
              "      <td>7.8</td>\n",
              "      <td>0.760</td>\n",
              "      <td>0.04</td>\n",
              "      <td>2.3</td>\n",
              "      <td>0.092</td>\n",
              "      <td>15.0</td>\n",
              "      <td>54.0</td>\n",
              "      <td>0.99700</td>\n",
              "      <td>3.26</td>\n",
              "      <td>0.65</td>\n",
              "      <td>9.8</td>\n",
              "    </tr>\n",
              "    <tr>\n",
              "      <th>3</th>\n",
              "      <td>11.2</td>\n",
              "      <td>0.280</td>\n",
              "      <td>0.56</td>\n",
              "      <td>1.9</td>\n",
              "      <td>0.075</td>\n",
              "      <td>17.0</td>\n",
              "      <td>60.0</td>\n",
              "      <td>0.99800</td>\n",
              "      <td>3.16</td>\n",
              "      <td>0.58</td>\n",
              "      <td>9.8</td>\n",
              "    </tr>\n",
              "    <tr>\n",
              "      <th>4</th>\n",
              "      <td>7.4</td>\n",
              "      <td>0.700</td>\n",
              "      <td>0.00</td>\n",
              "      <td>1.9</td>\n",
              "      <td>0.076</td>\n",
              "      <td>11.0</td>\n",
              "      <td>34.0</td>\n",
              "      <td>0.99780</td>\n",
              "      <td>3.51</td>\n",
              "      <td>0.56</td>\n",
              "      <td>9.4</td>\n",
              "    </tr>\n",
              "    <tr>\n",
              "      <th>...</th>\n",
              "      <td>...</td>\n",
              "      <td>...</td>\n",
              "      <td>...</td>\n",
              "      <td>...</td>\n",
              "      <td>...</td>\n",
              "      <td>...</td>\n",
              "      <td>...</td>\n",
              "      <td>...</td>\n",
              "      <td>...</td>\n",
              "      <td>...</td>\n",
              "      <td>...</td>\n",
              "    </tr>\n",
              "    <tr>\n",
              "      <th>1594</th>\n",
              "      <td>6.2</td>\n",
              "      <td>0.600</td>\n",
              "      <td>0.08</td>\n",
              "      <td>2.0</td>\n",
              "      <td>0.090</td>\n",
              "      <td>32.0</td>\n",
              "      <td>44.0</td>\n",
              "      <td>0.99490</td>\n",
              "      <td>3.45</td>\n",
              "      <td>0.58</td>\n",
              "      <td>10.5</td>\n",
              "    </tr>\n",
              "    <tr>\n",
              "      <th>1595</th>\n",
              "      <td>5.9</td>\n",
              "      <td>0.550</td>\n",
              "      <td>0.10</td>\n",
              "      <td>2.2</td>\n",
              "      <td>0.062</td>\n",
              "      <td>39.0</td>\n",
              "      <td>51.0</td>\n",
              "      <td>0.99512</td>\n",
              "      <td>3.52</td>\n",
              "      <td>0.76</td>\n",
              "      <td>11.2</td>\n",
              "    </tr>\n",
              "    <tr>\n",
              "      <th>1596</th>\n",
              "      <td>6.3</td>\n",
              "      <td>0.510</td>\n",
              "      <td>0.13</td>\n",
              "      <td>2.3</td>\n",
              "      <td>0.076</td>\n",
              "      <td>29.0</td>\n",
              "      <td>40.0</td>\n",
              "      <td>0.99574</td>\n",
              "      <td>3.42</td>\n",
              "      <td>0.75</td>\n",
              "      <td>11.0</td>\n",
              "    </tr>\n",
              "    <tr>\n",
              "      <th>1597</th>\n",
              "      <td>5.9</td>\n",
              "      <td>0.645</td>\n",
              "      <td>0.12</td>\n",
              "      <td>2.0</td>\n",
              "      <td>0.075</td>\n",
              "      <td>32.0</td>\n",
              "      <td>44.0</td>\n",
              "      <td>0.99547</td>\n",
              "      <td>3.57</td>\n",
              "      <td>0.71</td>\n",
              "      <td>10.2</td>\n",
              "    </tr>\n",
              "    <tr>\n",
              "      <th>1598</th>\n",
              "      <td>6.0</td>\n",
              "      <td>0.310</td>\n",
              "      <td>0.47</td>\n",
              "      <td>3.6</td>\n",
              "      <td>0.067</td>\n",
              "      <td>18.0</td>\n",
              "      <td>42.0</td>\n",
              "      <td>0.99549</td>\n",
              "      <td>3.39</td>\n",
              "      <td>0.66</td>\n",
              "      <td>11.0</td>\n",
              "    </tr>\n",
              "  </tbody>\n",
              "</table>\n",
              "<p>1599 rows × 11 columns</p>\n",
              "</div>\n",
              "      <button class=\"colab-df-convert\" onclick=\"convertToInteractive('df-269743b1-d64f-4dc0-9fe2-4c2241092a7e')\"\n",
              "              title=\"Convert this dataframe to an interactive table.\"\n",
              "              style=\"display:none;\">\n",
              "        \n",
              "  <svg xmlns=\"http://www.w3.org/2000/svg\" height=\"24px\"viewBox=\"0 0 24 24\"\n",
              "       width=\"24px\">\n",
              "    <path d=\"M0 0h24v24H0V0z\" fill=\"none\"/>\n",
              "    <path d=\"M18.56 5.44l.94 2.06.94-2.06 2.06-.94-2.06-.94-.94-2.06-.94 2.06-2.06.94zm-11 1L8.5 8.5l.94-2.06 2.06-.94-2.06-.94L8.5 2.5l-.94 2.06-2.06.94zm10 10l.94 2.06.94-2.06 2.06-.94-2.06-.94-.94-2.06-.94 2.06-2.06.94z\"/><path d=\"M17.41 7.96l-1.37-1.37c-.4-.4-.92-.59-1.43-.59-.52 0-1.04.2-1.43.59L10.3 9.45l-7.72 7.72c-.78.78-.78 2.05 0 2.83L4 21.41c.39.39.9.59 1.41.59.51 0 1.02-.2 1.41-.59l7.78-7.78 2.81-2.81c.8-.78.8-2.07 0-2.86zM5.41 20L4 18.59l7.72-7.72 1.47 1.35L5.41 20z\"/>\n",
              "  </svg>\n",
              "      </button>\n",
              "      \n",
              "  <style>\n",
              "    .colab-df-container {\n",
              "      display:flex;\n",
              "      flex-wrap:wrap;\n",
              "      gap: 12px;\n",
              "    }\n",
              "\n",
              "    .colab-df-convert {\n",
              "      background-color: #E8F0FE;\n",
              "      border: none;\n",
              "      border-radius: 50%;\n",
              "      cursor: pointer;\n",
              "      display: none;\n",
              "      fill: #1967D2;\n",
              "      height: 32px;\n",
              "      padding: 0 0 0 0;\n",
              "      width: 32px;\n",
              "    }\n",
              "\n",
              "    .colab-df-convert:hover {\n",
              "      background-color: #E2EBFA;\n",
              "      box-shadow: 0px 1px 2px rgba(60, 64, 67, 0.3), 0px 1px 3px 1px rgba(60, 64, 67, 0.15);\n",
              "      fill: #174EA6;\n",
              "    }\n",
              "\n",
              "    [theme=dark] .colab-df-convert {\n",
              "      background-color: #3B4455;\n",
              "      fill: #D2E3FC;\n",
              "    }\n",
              "\n",
              "    [theme=dark] .colab-df-convert:hover {\n",
              "      background-color: #434B5C;\n",
              "      box-shadow: 0px 1px 3px 1px rgba(0, 0, 0, 0.15);\n",
              "      filter: drop-shadow(0px 1px 2px rgba(0, 0, 0, 0.3));\n",
              "      fill: #FFFFFF;\n",
              "    }\n",
              "  </style>\n",
              "\n",
              "      <script>\n",
              "        const buttonEl =\n",
              "          document.querySelector('#df-269743b1-d64f-4dc0-9fe2-4c2241092a7e button.colab-df-convert');\n",
              "        buttonEl.style.display =\n",
              "          google.colab.kernel.accessAllowed ? 'block' : 'none';\n",
              "\n",
              "        async function convertToInteractive(key) {\n",
              "          const element = document.querySelector('#df-269743b1-d64f-4dc0-9fe2-4c2241092a7e');\n",
              "          const dataTable =\n",
              "            await google.colab.kernel.invokeFunction('convertToInteractive',\n",
              "                                                     [key], {});\n",
              "          if (!dataTable) return;\n",
              "\n",
              "          const docLinkHtml = 'Like what you see? Visit the ' +\n",
              "            '<a target=\"_blank\" href=https://colab.research.google.com/notebooks/data_table.ipynb>data table notebook</a>'\n",
              "            + ' to learn more about interactive tables.';\n",
              "          element.innerHTML = '';\n",
              "          dataTable['output_type'] = 'display_data';\n",
              "          await google.colab.output.renderOutput(dataTable, element);\n",
              "          const docLink = document.createElement('div');\n",
              "          docLink.innerHTML = docLinkHtml;\n",
              "          element.appendChild(docLink);\n",
              "        }\n",
              "      </script>\n",
              "    </div>\n",
              "  </div>\n",
              "  "
            ],
            "text/plain": [
              "      fixed acidity  volatile acidity  citric acid  ...    pH  sulphates  alcohol\n",
              "0               7.4             0.700         0.00  ...  3.51       0.56      9.4\n",
              "1               7.8             0.880         0.00  ...  3.20       0.68      9.8\n",
              "2               7.8             0.760         0.04  ...  3.26       0.65      9.8\n",
              "3              11.2             0.280         0.56  ...  3.16       0.58      9.8\n",
              "4               7.4             0.700         0.00  ...  3.51       0.56      9.4\n",
              "...             ...               ...          ...  ...   ...        ...      ...\n",
              "1594            6.2             0.600         0.08  ...  3.45       0.58     10.5\n",
              "1595            5.9             0.550         0.10  ...  3.52       0.76     11.2\n",
              "1596            6.3             0.510         0.13  ...  3.42       0.75     11.0\n",
              "1597            5.9             0.645         0.12  ...  3.57       0.71     10.2\n",
              "1598            6.0             0.310         0.47  ...  3.39       0.66     11.0\n",
              "\n",
              "[1599 rows x 11 columns]"
            ]
          },
          "metadata": {},
          "execution_count": 162
        }
      ]
    },
    {
      "cell_type": "code",
      "source": [
        "labels = wine.iloc[:,-1]\n",
        "labels"
      ],
      "metadata": {
        "colab": {
          "base_uri": "https://localhost:8080/"
        },
        "id": "UPNEknd0tdwZ",
        "outputId": "a1ce9cac-10b5-41dd-ed72-971bb678a7b6"
      },
      "execution_count": 163,
      "outputs": [
        {
          "output_type": "execute_result",
          "data": {
            "text/plain": [
              "0       5\n",
              "1       5\n",
              "2       5\n",
              "3       6\n",
              "4       5\n",
              "       ..\n",
              "1594    5\n",
              "1595    6\n",
              "1596    6\n",
              "1597    5\n",
              "1598    6\n",
              "Name: quality, Length: 1599, dtype: int64"
            ]
          },
          "metadata": {},
          "execution_count": 163
        }
      ]
    },
    {
      "cell_type": "code",
      "source": [
        "data_norm = st.zscore(data)"
      ],
      "metadata": {
        "id": "7ubAZZFinUZv"
      },
      "execution_count": 164,
      "outputs": []
    },
    {
      "cell_type": "code",
      "source": [
        "dataT = torch.FloatTensor(data_norm)\n",
        "labelsT = torch.tensor(labels).long()-3"
      ],
      "metadata": {
        "id": "qKGF2vk6tKRl"
      },
      "execution_count": 165,
      "outputs": []
    },
    {
      "cell_type": "code",
      "source": [
        "dataT"
      ],
      "metadata": {
        "colab": {
          "base_uri": "https://localhost:8080/"
        },
        "id": "Oc45HxdwuAdA",
        "outputId": "d2aa87aa-51ed-4289-e462-6ebbd2ddf2cc"
      },
      "execution_count": 166,
      "outputs": [
        {
          "output_type": "execute_result",
          "data": {
            "text/plain": [
              "tensor([[-0.5284,  0.9619, -1.3915,  ...,  1.2886, -0.5792, -0.9602],\n",
              "        [-0.2985,  1.9674, -1.3915,  ..., -0.7199,  0.1290, -0.5848],\n",
              "        [-0.2985,  1.2971, -1.1861,  ..., -0.3312, -0.0481, -0.5848],\n",
              "        ...,\n",
              "        [-1.1603, -0.0996, -0.7239,  ...,  0.7055,  0.5420,  0.5416],\n",
              "        [-1.3902,  0.6546, -0.7753,  ...,  1.6774,  0.3060, -0.2093],\n",
              "        [-1.3327, -1.2168,  1.0220,  ...,  0.5111,  0.0109,  0.5416]])"
            ]
          },
          "metadata": {},
          "execution_count": 166
        }
      ]
    },
    {
      "cell_type": "code",
      "source": [
        "dataT.shape"
      ],
      "metadata": {
        "colab": {
          "base_uri": "https://localhost:8080/"
        },
        "id": "kpWKJ_Sl2-Kd",
        "outputId": "72ccf9d3-f4c9-4759-fcb1-0a337c4b34ed"
      },
      "execution_count": 167,
      "outputs": [
        {
          "output_type": "execute_result",
          "data": {
            "text/plain": [
              "torch.Size([1599, 11])"
            ]
          },
          "metadata": {},
          "execution_count": 167
        }
      ]
    },
    {
      "cell_type": "code",
      "source": [
        "labelsT.unique()"
      ],
      "metadata": {
        "colab": {
          "base_uri": "https://localhost:8080/"
        },
        "id": "-RYYRmJcuyjH",
        "outputId": "1f801c50-bb51-49f2-9163-b0bc62cb3ac3"
      },
      "execution_count": 168,
      "outputs": [
        {
          "output_type": "execute_result",
          "data": {
            "text/plain": [
              "tensor([0, 1, 2, 3, 4, 5])"
            ]
          },
          "metadata": {},
          "execution_count": 168
        }
      ]
    },
    {
      "cell_type": "code",
      "source": [
        "data_train, data_test, labels_train, labels_test = train_test_split(dataT, labelsT, test_size=0.1)"
      ],
      "metadata": {
        "id": "EcgtXeWSu0u_"
      },
      "execution_count": 169,
      "outputs": []
    },
    {
      "cell_type": "code",
      "source": [
        "train_set = TensorDataset(data_train,labels_train)\n",
        "test_set = TensorDataset(data_test,labels_test)"
      ],
      "metadata": {
        "id": "qAGy5Gy7vKp2"
      },
      "execution_count": 170,
      "outputs": []
    },
    {
      "cell_type": "code",
      "source": [
        "train_loader = DataLoader(train_set,batch_size=512,drop_last=True,shuffle=True)\n",
        "test_loader = DataLoader(test_set,batch_size=test_set.tensors[1].shape[0])"
      ],
      "metadata": {
        "id": "adCy2O83vKnh"
      },
      "execution_count": 196,
      "outputs": []
    },
    {
      "cell_type": "code",
      "source": [
        "for X, y in train_loader:\n",
        "  print(X.shape,y)\n",
        "  break"
      ],
      "metadata": {
        "colab": {
          "base_uri": "https://localhost:8080/"
        },
        "id": "2KBQlp1pvKlC",
        "outputId": "a2b8d01d-331a-4dfe-f07b-38767a28c546"
      },
      "execution_count": 197,
      "outputs": [
        {
          "output_type": "stream",
          "name": "stdout",
          "text": [
            "torch.Size([512, 11]) tensor([2, 4, 2, 2, 2, 2, 2, 4, 1, 4, 2, 3, 3, 2, 3, 2, 2, 2, 2, 4, 3, 4, 2, 4,\n",
            "        3, 3, 2, 2, 2, 4, 3, 2, 3, 2, 2, 3, 2, 3, 4, 2, 2, 3, 2, 0, 4, 3, 3, 3,\n",
            "        2, 1, 4, 3, 2, 2, 3, 3, 3, 2, 3, 3, 2, 2, 3, 3, 3, 2, 3, 3, 3, 3, 3, 3,\n",
            "        2, 3, 4, 3, 3, 3, 1, 2, 3, 4, 2, 4, 4, 4, 3, 3, 2, 3, 4, 3, 3, 2, 2, 4,\n",
            "        2, 4, 2, 3, 3, 3, 2, 2, 2, 4, 2, 2, 2, 2, 2, 3, 1, 3, 2, 2, 4, 3, 4, 3,\n",
            "        3, 3, 3, 2, 2, 2, 2, 3, 3, 4, 2, 3, 3, 2, 2, 2, 2, 4, 2, 3, 1, 2, 4, 2,\n",
            "        3, 2, 2, 3, 2, 2, 2, 4, 3, 3, 3, 3, 3, 3, 2, 3, 2, 2, 2, 4, 1, 3, 2, 2,\n",
            "        4, 3, 2, 3, 3, 3, 3, 2, 2, 2, 3, 2, 4, 3, 2, 4, 3, 3, 5, 3, 3, 2, 3, 3,\n",
            "        2, 4, 3, 2, 0, 2, 3, 2, 3, 2, 3, 2, 2, 2, 2, 3, 2, 3, 3, 2, 3, 2, 2, 3,\n",
            "        2, 2, 3, 4, 2, 3, 2, 3, 4, 3, 2, 4, 3, 2, 3, 2, 2, 3, 4, 0, 3, 3, 4, 3,\n",
            "        2, 4, 3, 3, 3, 2, 3, 2, 3, 3, 3, 2, 2, 3, 2, 4, 3, 2, 3, 3, 4, 4, 3, 3,\n",
            "        4, 4, 3, 4, 4, 3, 2, 2, 2, 2, 2, 3, 2, 5, 3, 3, 2, 2, 3, 2, 3, 2, 2, 2,\n",
            "        3, 2, 2, 2, 3, 2, 2, 3, 2, 3, 2, 4, 3, 3, 2, 3, 3, 2, 4, 2, 2, 1, 2, 2,\n",
            "        3, 4, 3, 3, 2, 2, 2, 1, 3, 3, 2, 2, 2, 2, 3, 2, 2, 2, 2, 2, 2, 3, 4, 3,\n",
            "        2, 2, 3, 3, 3, 3, 4, 3, 2, 2, 2, 4, 3, 3, 2, 2, 3, 2, 4, 4, 3, 2, 3, 5,\n",
            "        3, 2, 2, 2, 3, 1, 3, 2, 2, 2, 2, 2, 5, 3, 2, 2, 4, 4, 2, 3, 3, 3, 3, 2,\n",
            "        4, 2, 3, 2, 3, 3, 3, 2, 2, 4, 3, 3, 2, 1, 3, 3, 3, 1, 3, 2, 2, 3, 2, 2,\n",
            "        3, 1, 3, 4, 2, 2, 2, 2, 2, 2, 3, 3, 2, 2, 3, 3, 2, 4, 3, 2, 3, 2, 2, 4,\n",
            "        3, 3, 2, 3, 5, 3, 3, 2, 3, 3, 3, 4, 2, 2, 3, 2, 3, 2, 3, 3, 2, 2, 2, 3,\n",
            "        2, 2, 4, 2, 4, 3, 5, 2, 2, 3, 5, 3, 2, 3, 2, 3, 2, 3, 2, 4, 2, 4, 4, 1,\n",
            "        3, 2, 2, 2, 3, 2, 3, 2, 2, 3, 2, 4, 2, 3, 2, 4, 2, 2, 3, 2, 4, 2, 2, 2,\n",
            "        3, 4, 3, 3, 2, 2, 2, 2])\n"
          ]
        }
      ]
    },
    {
      "cell_type": "markdown",
      "source": [
        "# create model "
      ],
      "metadata": {
        "id": "tDKtCX6VzSet"
      }
    },
    {
      "cell_type": "code",
      "source": [
        "class ANNnet(nn.Module):\n",
        "\n",
        "  def __init__(self):\n",
        "    super().__init__()\n",
        "\n",
        "    self.input = nn.Linear(11,128)\n",
        "    self.fc1 = nn.Linear(128,256)\n",
        "    self.fc2 = nn.Linear(256,256)\n",
        "    self.output = nn.Linear(256,6)\n",
        "\n",
        "\n",
        "  def forward(self,x):\n",
        "\n",
        "    x = F.relu(self.input(x))\n",
        "    x = F.relu(self.fc1(x))\n",
        "    x = F.relu(self.fc2(x))\n",
        "    x = self.output(x)\n",
        "\n",
        "    return x\n"
      ],
      "metadata": {
        "id": "x-G99le1zd8b"
      },
      "execution_count": 198,
      "outputs": []
    },
    {
      "cell_type": "markdown",
      "source": [
        "## sanity check the model"
      ],
      "metadata": {
        "id": "TstJaiLk5YI7"
      }
    },
    {
      "cell_type": "code",
      "source": [
        "net = ANNnet()\n",
        "x = torch.randn((10,11))\n",
        "y = net(x)\n",
        "print(torch.argmax(y,axis=1))"
      ],
      "metadata": {
        "colab": {
          "base_uri": "https://localhost:8080/"
        },
        "id": "S-yan_zBvKUb",
        "outputId": "3758bc3e-9e71-4ba9-d4b8-59aaf3356ebf"
      },
      "execution_count": 199,
      "outputs": [
        {
          "output_type": "stream",
          "name": "stdout",
          "text": [
            "tensor([5, 1, 5, 5, 5, 5, 1, 1, 5, 5])\n"
          ]
        }
      ]
    },
    {
      "cell_type": "markdown",
      "source": [
        "# train the model"
      ],
      "metadata": {
        "id": "ChncnZ7A5yfW"
      }
    },
    {
      "cell_type": "code",
      "source": [
        "epochs = 100\n",
        "\n",
        "def trainANN():\n",
        "\n",
        "  net = ANNnet()\n",
        "  optimizer = torch.optim.SGD(params = net.parameters(), lr = 0.01, momentum=.9)\n",
        "  lossfun = nn.CrossEntropyLoss()\n",
        "\n",
        "  trainacc = []\n",
        "  testacc = []\n",
        "  trainloss = []\n",
        "  \n",
        "  for i in range(epochs):\n",
        "\n",
        "    batchloss = []\n",
        "    batchacc = []\n",
        "\n",
        "    net.train()\n",
        "\n",
        "    for X,y in train_loader:\n",
        "      # print(y)\n",
        "      yhat = net(X)\n",
        "      # print(yhat)\n",
        "      loss = lossfun(yhat,y)\n",
        "      batchloss.append(loss.detach())\n",
        "\n",
        "      optimizer.zero_grad()\n",
        "      loss.backward()\n",
        "      optimizer.step()\n",
        "\n",
        "      batchacc.append(100* torch.mean( (torch.argmax(yhat,axis=1) == y).float() ).item())\n",
        "\n",
        "    trainacc.append(np.mean(batchacc))\n",
        "\n",
        "    net.eval()\n",
        "    for X,y in test_loader:\n",
        "      yhat = net(X)\n",
        "      testacc.append(100* torch.mean( (torch.argmax(yhat,axis=1) == y).float() ))\n",
        "\n",
        "    trainloss.append(np.mean(batchloss))\n",
        "\n",
        "  return trainacc, testacc, trainloss \n"
      ],
      "metadata": {
        "id": "DQxc8ESa50xc"
      },
      "execution_count": 241,
      "outputs": []
    },
    {
      "cell_type": "code",
      "source": [
        "trainacc, testacc, trainloss  = trainANN()"
      ],
      "metadata": {
        "id": "fYvo5j1PVE1t"
      },
      "execution_count": 242,
      "outputs": []
    },
    {
      "cell_type": "code",
      "source": [
        "plt.plot(trainacc)"
      ],
      "metadata": {
        "colab": {
          "base_uri": "https://localhost:8080/",
          "height": 370
        },
        "id": "z_wvyuzIVJER",
        "outputId": "ae3412d4-f227-461d-b182-de18f73e604e"
      },
      "execution_count": 243,
      "outputs": [
        {
          "output_type": "execute_result",
          "data": {
            "text/plain": [
              "[<matplotlib.lines.Line2D at 0x7fe1e0ceb150>]"
            ]
          },
          "metadata": {},
          "execution_count": 243
        },
        {
          "output_type": "display_data",
          "data": {
            "text/plain": [
              "<Figure size 432x288 with 1 Axes>"
            ],
            "image/svg+xml": "<?xml version=\"1.0\" encoding=\"utf-8\" standalone=\"no\"?>\n<!DOCTYPE svg PUBLIC \"-//W3C//DTD SVG 1.1//EN\"\n  \"http://www.w3.org/Graphics/SVG/1.1/DTD/svg11.dtd\">\n<!-- Created with matplotlib (https://matplotlib.org/) -->\n<svg height=\"248.518125pt\" version=\"1.1\" viewBox=\"0 0 368.925 248.518125\" width=\"368.925pt\" xmlns=\"http://www.w3.org/2000/svg\" xmlns:xlink=\"http://www.w3.org/1999/xlink\">\n <defs>\n  <style type=\"text/css\">\n*{stroke-linecap:butt;stroke-linejoin:round;}\n  </style>\n </defs>\n <g id=\"figure_1\">\n  <g id=\"patch_1\">\n   <path d=\"M -0 248.518125 \nL 368.925 248.518125 \nL 368.925 0 \nL -0 0 \nz\n\" style=\"fill:none;\"/>\n  </g>\n  <g id=\"axes_1\">\n   <g id=\"patch_2\">\n    <path d=\"M 26.925 224.64 \nL 361.725 224.64 \nL 361.725 7.2 \nL 26.925 7.2 \nz\n\" style=\"fill:#ffffff;\"/>\n   </g>\n   <g id=\"matplotlib.axis_1\">\n    <g id=\"xtick_1\">\n     <g id=\"line2d_1\">\n      <defs>\n       <path d=\"M 0 0 \nL 0 3.5 \n\" id=\"ma5d542785b\" style=\"stroke:#000000;stroke-width:0.8;\"/>\n      </defs>\n      <g>\n       <use style=\"stroke:#000000;stroke-width:0.8;\" x=\"42.143182\" xlink:href=\"#ma5d542785b\" y=\"224.64\"/>\n      </g>\n     </g>\n     <g id=\"text_1\">\n      <!-- 0 -->\n      <defs>\n       <path d=\"M 31.78125 66.40625 \nQ 24.171875 66.40625 20.328125 58.90625 \nQ 16.5 51.421875 16.5 36.375 \nQ 16.5 21.390625 20.328125 13.890625 \nQ 24.171875 6.390625 31.78125 6.390625 \nQ 39.453125 6.390625 43.28125 13.890625 \nQ 47.125 21.390625 47.125 36.375 \nQ 47.125 51.421875 43.28125 58.90625 \nQ 39.453125 66.40625 31.78125 66.40625 \nz\nM 31.78125 74.21875 \nQ 44.046875 74.21875 50.515625 64.515625 \nQ 56.984375 54.828125 56.984375 36.375 \nQ 56.984375 17.96875 50.515625 8.265625 \nQ 44.046875 -1.421875 31.78125 -1.421875 \nQ 19.53125 -1.421875 13.0625 8.265625 \nQ 6.59375 17.96875 6.59375 36.375 \nQ 6.59375 54.828125 13.0625 64.515625 \nQ 19.53125 74.21875 31.78125 74.21875 \nz\n\" id=\"DejaVuSans-48\"/>\n      </defs>\n      <g transform=\"translate(38.961932 239.238437)scale(0.1 -0.1)\">\n       <use xlink:href=\"#DejaVuSans-48\"/>\n      </g>\n     </g>\n    </g>\n    <g id=\"xtick_2\">\n     <g id=\"line2d_2\">\n      <g>\n       <use style=\"stroke:#000000;stroke-width:0.8;\" x=\"103.630785\" xlink:href=\"#ma5d542785b\" y=\"224.64\"/>\n      </g>\n     </g>\n     <g id=\"text_2\">\n      <!-- 20 -->\n      <defs>\n       <path d=\"M 19.1875 8.296875 \nL 53.609375 8.296875 \nL 53.609375 0 \nL 7.328125 0 \nL 7.328125 8.296875 \nQ 12.9375 14.109375 22.625 23.890625 \nQ 32.328125 33.6875 34.8125 36.53125 \nQ 39.546875 41.84375 41.421875 45.53125 \nQ 43.3125 49.21875 43.3125 52.78125 \nQ 43.3125 58.59375 39.234375 62.25 \nQ 35.15625 65.921875 28.609375 65.921875 \nQ 23.96875 65.921875 18.8125 64.3125 \nQ 13.671875 62.703125 7.8125 59.421875 \nL 7.8125 69.390625 \nQ 13.765625 71.78125 18.9375 73 \nQ 24.125 74.21875 28.421875 74.21875 \nQ 39.75 74.21875 46.484375 68.546875 \nQ 53.21875 62.890625 53.21875 53.421875 \nQ 53.21875 48.921875 51.53125 44.890625 \nQ 49.859375 40.875 45.40625 35.40625 \nQ 44.1875 33.984375 37.640625 27.21875 \nQ 31.109375 20.453125 19.1875 8.296875 \nz\n\" id=\"DejaVuSans-50\"/>\n      </defs>\n      <g transform=\"translate(97.268285 239.238437)scale(0.1 -0.1)\">\n       <use xlink:href=\"#DejaVuSans-50\"/>\n       <use x=\"63.623047\" xlink:href=\"#DejaVuSans-48\"/>\n      </g>\n     </g>\n    </g>\n    <g id=\"xtick_3\">\n     <g id=\"line2d_3\">\n      <g>\n       <use style=\"stroke:#000000;stroke-width:0.8;\" x=\"165.118388\" xlink:href=\"#ma5d542785b\" y=\"224.64\"/>\n      </g>\n     </g>\n     <g id=\"text_3\">\n      <!-- 40 -->\n      <defs>\n       <path d=\"M 37.796875 64.3125 \nL 12.890625 25.390625 \nL 37.796875 25.390625 \nz\nM 35.203125 72.90625 \nL 47.609375 72.90625 \nL 47.609375 25.390625 \nL 58.015625 25.390625 \nL 58.015625 17.1875 \nL 47.609375 17.1875 \nL 47.609375 0 \nL 37.796875 0 \nL 37.796875 17.1875 \nL 4.890625 17.1875 \nL 4.890625 26.703125 \nz\n\" id=\"DejaVuSans-52\"/>\n      </defs>\n      <g transform=\"translate(158.755888 239.238437)scale(0.1 -0.1)\">\n       <use xlink:href=\"#DejaVuSans-52\"/>\n       <use x=\"63.623047\" xlink:href=\"#DejaVuSans-48\"/>\n      </g>\n     </g>\n    </g>\n    <g id=\"xtick_4\">\n     <g id=\"line2d_4\">\n      <g>\n       <use style=\"stroke:#000000;stroke-width:0.8;\" x=\"226.605992\" xlink:href=\"#ma5d542785b\" y=\"224.64\"/>\n      </g>\n     </g>\n     <g id=\"text_4\">\n      <!-- 60 -->\n      <defs>\n       <path d=\"M 33.015625 40.375 \nQ 26.375 40.375 22.484375 35.828125 \nQ 18.609375 31.296875 18.609375 23.390625 \nQ 18.609375 15.53125 22.484375 10.953125 \nQ 26.375 6.390625 33.015625 6.390625 \nQ 39.65625 6.390625 43.53125 10.953125 \nQ 47.40625 15.53125 47.40625 23.390625 \nQ 47.40625 31.296875 43.53125 35.828125 \nQ 39.65625 40.375 33.015625 40.375 \nz\nM 52.59375 71.296875 \nL 52.59375 62.3125 \nQ 48.875 64.0625 45.09375 64.984375 \nQ 41.3125 65.921875 37.59375 65.921875 \nQ 27.828125 65.921875 22.671875 59.328125 \nQ 17.53125 52.734375 16.796875 39.40625 \nQ 19.671875 43.65625 24.015625 45.921875 \nQ 28.375 48.1875 33.59375 48.1875 \nQ 44.578125 48.1875 50.953125 41.515625 \nQ 57.328125 34.859375 57.328125 23.390625 \nQ 57.328125 12.15625 50.6875 5.359375 \nQ 44.046875 -1.421875 33.015625 -1.421875 \nQ 20.359375 -1.421875 13.671875 8.265625 \nQ 6.984375 17.96875 6.984375 36.375 \nQ 6.984375 53.65625 15.1875 63.9375 \nQ 23.390625 74.21875 37.203125 74.21875 \nQ 40.921875 74.21875 44.703125 73.484375 \nQ 48.484375 72.75 52.59375 71.296875 \nz\n\" id=\"DejaVuSans-54\"/>\n      </defs>\n      <g transform=\"translate(220.243492 239.238437)scale(0.1 -0.1)\">\n       <use xlink:href=\"#DejaVuSans-54\"/>\n       <use x=\"63.623047\" xlink:href=\"#DejaVuSans-48\"/>\n      </g>\n     </g>\n    </g>\n    <g id=\"xtick_5\">\n     <g id=\"line2d_5\">\n      <g>\n       <use style=\"stroke:#000000;stroke-width:0.8;\" x=\"288.093595\" xlink:href=\"#ma5d542785b\" y=\"224.64\"/>\n      </g>\n     </g>\n     <g id=\"text_5\">\n      <!-- 80 -->\n      <defs>\n       <path d=\"M 31.78125 34.625 \nQ 24.75 34.625 20.71875 30.859375 \nQ 16.703125 27.09375 16.703125 20.515625 \nQ 16.703125 13.921875 20.71875 10.15625 \nQ 24.75 6.390625 31.78125 6.390625 \nQ 38.8125 6.390625 42.859375 10.171875 \nQ 46.921875 13.96875 46.921875 20.515625 \nQ 46.921875 27.09375 42.890625 30.859375 \nQ 38.875 34.625 31.78125 34.625 \nz\nM 21.921875 38.8125 \nQ 15.578125 40.375 12.03125 44.71875 \nQ 8.5 49.078125 8.5 55.328125 \nQ 8.5 64.0625 14.71875 69.140625 \nQ 20.953125 74.21875 31.78125 74.21875 \nQ 42.671875 74.21875 48.875 69.140625 \nQ 55.078125 64.0625 55.078125 55.328125 \nQ 55.078125 49.078125 51.53125 44.71875 \nQ 48 40.375 41.703125 38.8125 \nQ 48.828125 37.15625 52.796875 32.3125 \nQ 56.78125 27.484375 56.78125 20.515625 \nQ 56.78125 9.90625 50.3125 4.234375 \nQ 43.84375 -1.421875 31.78125 -1.421875 \nQ 19.734375 -1.421875 13.25 4.234375 \nQ 6.78125 9.90625 6.78125 20.515625 \nQ 6.78125 27.484375 10.78125 32.3125 \nQ 14.796875 37.15625 21.921875 38.8125 \nz\nM 18.3125 54.390625 \nQ 18.3125 48.734375 21.84375 45.5625 \nQ 25.390625 42.390625 31.78125 42.390625 \nQ 38.140625 42.390625 41.71875 45.5625 \nQ 45.3125 48.734375 45.3125 54.390625 \nQ 45.3125 60.0625 41.71875 63.234375 \nQ 38.140625 66.40625 31.78125 66.40625 \nQ 25.390625 66.40625 21.84375 63.234375 \nQ 18.3125 60.0625 18.3125 54.390625 \nz\n\" id=\"DejaVuSans-56\"/>\n      </defs>\n      <g transform=\"translate(281.731095 239.238437)scale(0.1 -0.1)\">\n       <use xlink:href=\"#DejaVuSans-56\"/>\n       <use x=\"63.623047\" xlink:href=\"#DejaVuSans-48\"/>\n      </g>\n     </g>\n    </g>\n    <g id=\"xtick_6\">\n     <g id=\"line2d_6\">\n      <g>\n       <use style=\"stroke:#000000;stroke-width:0.8;\" x=\"349.581198\" xlink:href=\"#ma5d542785b\" y=\"224.64\"/>\n      </g>\n     </g>\n     <g id=\"text_6\">\n      <!-- 100 -->\n      <defs>\n       <path d=\"M 12.40625 8.296875 \nL 28.515625 8.296875 \nL 28.515625 63.921875 \nL 10.984375 60.40625 \nL 10.984375 69.390625 \nL 28.421875 72.90625 \nL 38.28125 72.90625 \nL 38.28125 8.296875 \nL 54.390625 8.296875 \nL 54.390625 0 \nL 12.40625 0 \nz\n\" id=\"DejaVuSans-49\"/>\n      </defs>\n      <g transform=\"translate(340.037448 239.238437)scale(0.1 -0.1)\">\n       <use xlink:href=\"#DejaVuSans-49\"/>\n       <use x=\"63.623047\" xlink:href=\"#DejaVuSans-48\"/>\n       <use x=\"127.246094\" xlink:href=\"#DejaVuSans-48\"/>\n      </g>\n     </g>\n    </g>\n   </g>\n   <g id=\"matplotlib.axis_2\">\n    <g id=\"ytick_1\">\n     <g id=\"line2d_7\">\n      <defs>\n       <path d=\"M 0 0 \nL -3.5 0 \n\" id=\"m11dcf93b92\" style=\"stroke:#000000;stroke-width:0.8;\"/>\n      </defs>\n      <g>\n       <use style=\"stroke:#000000;stroke-width:0.8;\" x=\"26.925\" xlink:href=\"#m11dcf93b92\" y=\"223.694609\"/>\n      </g>\n     </g>\n     <g id=\"text_7\">\n      <!-- 40 -->\n      <g transform=\"translate(7.2 227.493827)scale(0.1 -0.1)\">\n       <use xlink:href=\"#DejaVuSans-52\"/>\n       <use x=\"63.623047\" xlink:href=\"#DejaVuSans-48\"/>\n      </g>\n     </g>\n    </g>\n    <g id=\"ytick_2\">\n     <g id=\"line2d_8\">\n      <g>\n       <use style=\"stroke:#000000;stroke-width:0.8;\" x=\"26.925\" xlink:href=\"#m11dcf93b92\" y=\"179.690941\"/>\n      </g>\n     </g>\n     <g id=\"text_8\">\n      <!-- 45 -->\n      <defs>\n       <path d=\"M 10.796875 72.90625 \nL 49.515625 72.90625 \nL 49.515625 64.59375 \nL 19.828125 64.59375 \nL 19.828125 46.734375 \nQ 21.96875 47.46875 24.109375 47.828125 \nQ 26.265625 48.1875 28.421875 48.1875 \nQ 40.625 48.1875 47.75 41.5 \nQ 54.890625 34.8125 54.890625 23.390625 \nQ 54.890625 11.625 47.5625 5.09375 \nQ 40.234375 -1.421875 26.90625 -1.421875 \nQ 22.3125 -1.421875 17.546875 -0.640625 \nQ 12.796875 0.140625 7.71875 1.703125 \nL 7.71875 11.625 \nQ 12.109375 9.234375 16.796875 8.0625 \nQ 21.484375 6.890625 26.703125 6.890625 \nQ 35.15625 6.890625 40.078125 11.328125 \nQ 45.015625 15.765625 45.015625 23.390625 \nQ 45.015625 31 40.078125 35.4375 \nQ 35.15625 39.890625 26.703125 39.890625 \nQ 22.75 39.890625 18.8125 39.015625 \nQ 14.890625 38.140625 10.796875 36.28125 \nz\n\" id=\"DejaVuSans-53\"/>\n      </defs>\n      <g transform=\"translate(7.2 183.490159)scale(0.1 -0.1)\">\n       <use xlink:href=\"#DejaVuSans-52\"/>\n       <use x=\"63.623047\" xlink:href=\"#DejaVuSans-53\"/>\n      </g>\n     </g>\n    </g>\n    <g id=\"ytick_3\">\n     <g id=\"line2d_9\">\n      <g>\n       <use style=\"stroke:#000000;stroke-width:0.8;\" x=\"26.925\" xlink:href=\"#m11dcf93b92\" y=\"135.687273\"/>\n      </g>\n     </g>\n     <g id=\"text_9\">\n      <!-- 50 -->\n      <g transform=\"translate(7.2 139.486491)scale(0.1 -0.1)\">\n       <use xlink:href=\"#DejaVuSans-53\"/>\n       <use x=\"63.623047\" xlink:href=\"#DejaVuSans-48\"/>\n      </g>\n     </g>\n    </g>\n    <g id=\"ytick_4\">\n     <g id=\"line2d_10\">\n      <g>\n       <use style=\"stroke:#000000;stroke-width:0.8;\" x=\"26.925\" xlink:href=\"#m11dcf93b92\" y=\"91.683605\"/>\n      </g>\n     </g>\n     <g id=\"text_10\">\n      <!-- 55 -->\n      <g transform=\"translate(7.2 95.482823)scale(0.1 -0.1)\">\n       <use xlink:href=\"#DejaVuSans-53\"/>\n       <use x=\"63.623047\" xlink:href=\"#DejaVuSans-53\"/>\n      </g>\n     </g>\n    </g>\n    <g id=\"ytick_5\">\n     <g id=\"line2d_11\">\n      <g>\n       <use style=\"stroke:#000000;stroke-width:0.8;\" x=\"26.925\" xlink:href=\"#m11dcf93b92\" y=\"47.679937\"/>\n      </g>\n     </g>\n     <g id=\"text_11\">\n      <!-- 60 -->\n      <g transform=\"translate(7.2 51.479156)scale(0.1 -0.1)\">\n       <use xlink:href=\"#DejaVuSans-54\"/>\n       <use x=\"63.623047\" xlink:href=\"#DejaVuSans-48\"/>\n      </g>\n     </g>\n    </g>\n   </g>\n   <g id=\"line2d_12\">\n    <path clip-path=\"url(#peeb9e09d59)\" d=\"M 42.143182 214.756364 \nL 45.217562 212.178024 \nL 48.291942 213.03747 \nL 51.366322 207.021344 \nL 54.440702 198.426877 \nL 57.515083 207.880791 \nL 60.589463 208.740237 \nL 63.663843 205.302451 \nL 66.738223 206.161897 \nL 69.812603 213.896917 \nL 72.886983 194.989091 \nL 75.961364 201.005217 \nL 79.035744 181.237945 \nL 82.110124 168.346245 \nL 85.184504 182.956838 \nL 88.258884 182.956838 \nL 91.333264 161.470672 \nL 94.407645 177.800158 \nL 97.482025 146.860079 \nL 100.556405 128.8117 \nL 103.630785 114.201107 \nL 106.705165 116.779447 \nL 109.779545 114.201107 \nL 112.853926 103.0283 \nL 115.928306 120.217233 \nL 119.002686 111.622767 \nL 122.077066 99.590514 \nL 125.151446 132.249486 \nL 128.225826 121.07668 \nL 131.300207 104.747194 \nL 134.374587 106.466087 \nL 137.448967 109.903874 \nL 140.523347 102.168854 \nL 143.597727 84.120474 \nL 146.672107 89.277154 \nL 149.746488 78.104348 \nL 152.820868 82.401581 \nL 155.895248 81.542134 \nL 158.969628 76.385455 \nL 162.044008 78.104348 \nL 165.118388 68.650435 \nL 168.192769 78.963794 \nL 171.267149 69.509881 \nL 174.341529 73.807115 \nL 177.415909 68.650435 \nL 180.490289 78.963794 \nL 183.564669 60.915415 \nL 186.63905 74.666561 \nL 189.71343 75.526008 \nL 192.78781 78.104348 \nL 195.86219 72.947668 \nL 198.93657 68.650435 \nL 202.01095 72.947668 \nL 205.085331 71.228775 \nL 208.159711 53.180395 \nL 211.234091 61.774862 \nL 214.308471 56.618182 \nL 217.382851 53.180395 \nL 220.457231 56.618182 \nL 223.531612 54.039842 \nL 226.605992 42.007589 \nL 229.680372 55.758735 \nL 232.754752 47.164269 \nL 235.829132 49.742609 \nL 238.903512 53.180395 \nL 241.977893 53.180395 \nL 245.052273 42.007589 \nL 248.126653 42.007589 \nL 251.201033 41.148142 \nL 254.275413 41.148142 \nL 257.349793 46.304822 \nL 260.424174 40.288696 \nL 263.498554 41.148142 \nL 266.572934 36.850909 \nL 269.647314 31.694229 \nL 272.721694 33.413123 \nL 275.796074 43.726482 \nL 278.870455 41.148142 \nL 281.944835 42.007589 \nL 285.019215 29.975336 \nL 288.093595 25.678103 \nL 291.167975 23.099763 \nL 294.242355 40.288696 \nL 297.316736 29.115889 \nL 300.391116 40.288696 \nL 303.465496 17.083636 \nL 306.539876 24.818656 \nL 309.614256 25.678103 \nL 312.688636 18.80253 \nL 315.763017 34.272569 \nL 318.837397 37.710356 \nL 321.911777 17.943083 \nL 324.986157 28.256443 \nL 328.060537 21.38087 \nL 331.134917 28.256443 \nL 334.209298 17.083636 \nL 337.283678 30.834783 \nL 340.358058 19.661976 \nL 343.432438 34.272569 \nL 346.506818 17.943083 \n\" style=\"fill:none;stroke:#1f77b4;stroke-linecap:square;stroke-width:1.5;\"/>\n   </g>\n   <g id=\"patch_3\">\n    <path d=\"M 26.925 224.64 \nL 26.925 7.2 \n\" style=\"fill:none;stroke:#000000;stroke-linecap:square;stroke-linejoin:miter;stroke-width:0.8;\"/>\n   </g>\n   <g id=\"patch_4\">\n    <path d=\"M 361.725 224.64 \nL 361.725 7.2 \n\" style=\"fill:none;stroke:#000000;stroke-linecap:square;stroke-linejoin:miter;stroke-width:0.8;\"/>\n   </g>\n   <g id=\"patch_5\">\n    <path d=\"M 26.925 224.64 \nL 361.725 224.64 \n\" style=\"fill:none;stroke:#000000;stroke-linecap:square;stroke-linejoin:miter;stroke-width:0.8;\"/>\n   </g>\n   <g id=\"patch_6\">\n    <path d=\"M 26.925 7.2 \nL 361.725 7.2 \n\" style=\"fill:none;stroke:#000000;stroke-linecap:square;stroke-linejoin:miter;stroke-width:0.8;\"/>\n   </g>\n  </g>\n </g>\n <defs>\n  <clipPath id=\"peeb9e09d59\">\n   <rect height=\"217.44\" width=\"334.8\" x=\"26.925\" y=\"7.2\"/>\n  </clipPath>\n </defs>\n</svg>\n"
          },
          "metadata": {
            "needs_background": "light"
          }
        }
      ]
    },
    {
      "cell_type": "code",
      "source": [
        "test_loader = DataLoader(test_set,batch_size=test_set.tensors[1].shape[0])\n",
        "\n",
        "trainloss = np.zeros((epochs,5))\n",
        "trainacc = np.zeros((epochs,5)) \n",
        "testacc = np.zeros((epochs,5)) \n",
        "\n",
        "for i , batchsize in enumerate(2**np.arange(1,10,2)):\n",
        "\n",
        "  train_loader = DataLoader(train_set,batch_size=int(batchsize),drop_last=True,shuffle=True)\n",
        "  trainacc[:,i], testacc[:,i], trainloss[:,i]  = trainANN()\n",
        "\n",
        "\n"
      ],
      "metadata": {
        "id": "yfnaZX2tLaLO"
      },
      "execution_count": 244,
      "outputs": []
    },
    {
      "cell_type": "code",
      "source": [
        "\n",
        "fig,ax = plt.subplots(1,2,figsize=(15,5))\n",
        "\n",
        "\n",
        "ax[0].plot(trainacc)\n",
        "ax[0].set_ylabel('Accuracy (%)')\n",
        "ax[0].set_xlabel('Epochs')\n",
        "ax[0].set_title('Training Accuracy')\n",
        "ax[0].legend(2**np.arange(1,10,2))\n",
        "\n",
        "ax[1].plot(testacc)\n",
        "ax[1].set_title('Test Accuracy')\n",
        "ax[1].set_xlabel('Epochs')\n",
        "ax[1].set_ylabel('Accuracy (%)')\n",
        "ax[1].legend(2**np.arange(1,10,2))\n",
        "# ax[1].set_ylim([27,103])\n",
        "\n",
        "plt.show()"
      ],
      "metadata": {
        "colab": {
          "base_uri": "https://localhost:8080/",
          "height": 483
        },
        "id": "ON2Ao1c8S0Ff",
        "outputId": "78efd062-3d7b-4b2c-a806-d1401a40ebdf"
      },
      "execution_count": 245,
      "outputs": [
        {
          "output_type": "display_data",
          "data": {
            "text/plain": [
              "<Figure size 1080x360 with 2 Axes>"
            ],
            "image/svg+xml": "<?xml version=\"1.0\" encoding=\"utf-8\" standalone=\"no\"?>\n<!DOCTYPE svg PUBLIC \"-//W3C//DTD SVG 1.1//EN\"\n  \"http://www.w3.org/Graphics/SVG/1.1/DTD/svg11.dtd\">\n<!-- Created with matplotlib (https://matplotlib.org/) -->\n<svg height=\"331.674375pt\" version=\"1.1\" viewBox=\"0 0 891.165625 331.674375\" width=\"891.165625pt\" xmlns=\"http://www.w3.org/2000/svg\" xmlns:xlink=\"http://www.w3.org/1999/xlink\">\n <defs>\n  <style type=\"text/css\">\n*{stroke-linecap:butt;stroke-linejoin:round;}\n  </style>\n </defs>\n <g id=\"figure_1\">\n  <g id=\"patch_1\">\n   <path d=\"M 0 331.674375 \nL 891.165625 331.674375 \nL 891.165625 0 \nL 0 0 \nz\n\" style=\"fill:none;\"/>\n  </g>\n  <g id=\"axes_1\">\n   <g id=\"patch_2\">\n    <path d=\"M 46.965625 294.118125 \nL 427.42017 294.118125 \nL 427.42017 22.318125 \nL 46.965625 22.318125 \nz\n\" style=\"fill:#ffffff;\"/>\n   </g>\n   <g id=\"matplotlib.axis_1\">\n    <g id=\"xtick_1\">\n     <g id=\"line2d_1\">\n      <defs>\n       <path d=\"M 0 0 \nL 0 3.5 \n\" id=\"m85fd6b1ca8\" style=\"stroke:#000000;stroke-width:0.8;\"/>\n      </defs>\n      <g>\n       <use style=\"stroke:#000000;stroke-width:0.8;\" x=\"64.259013\" xlink:href=\"#m85fd6b1ca8\" y=\"294.118125\"/>\n      </g>\n     </g>\n     <g id=\"text_1\">\n      <!-- 0 -->\n      <defs>\n       <path d=\"M 31.78125 66.40625 \nQ 24.171875 66.40625 20.328125 58.90625 \nQ 16.5 51.421875 16.5 36.375 \nQ 16.5 21.390625 20.328125 13.890625 \nQ 24.171875 6.390625 31.78125 6.390625 \nQ 39.453125 6.390625 43.28125 13.890625 \nQ 47.125 21.390625 47.125 36.375 \nQ 47.125 51.421875 43.28125 58.90625 \nQ 39.453125 66.40625 31.78125 66.40625 \nz\nM 31.78125 74.21875 \nQ 44.046875 74.21875 50.515625 64.515625 \nQ 56.984375 54.828125 56.984375 36.375 \nQ 56.984375 17.96875 50.515625 8.265625 \nQ 44.046875 -1.421875 31.78125 -1.421875 \nQ 19.53125 -1.421875 13.0625 8.265625 \nQ 6.59375 17.96875 6.59375 36.375 \nQ 6.59375 54.828125 13.0625 64.515625 \nQ 19.53125 74.21875 31.78125 74.21875 \nz\n\" id=\"DejaVuSans-48\"/>\n      </defs>\n      <g transform=\"translate(61.077763 308.716563)scale(0.1 -0.1)\">\n       <use xlink:href=\"#DejaVuSans-48\"/>\n      </g>\n     </g>\n    </g>\n    <g id=\"xtick_2\">\n     <g id=\"line2d_2\">\n      <g>\n       <use style=\"stroke:#000000;stroke-width:0.8;\" x=\"134.13129\" xlink:href=\"#m85fd6b1ca8\" y=\"294.118125\"/>\n      </g>\n     </g>\n     <g id=\"text_2\">\n      <!-- 20 -->\n      <defs>\n       <path d=\"M 19.1875 8.296875 \nL 53.609375 8.296875 \nL 53.609375 0 \nL 7.328125 0 \nL 7.328125 8.296875 \nQ 12.9375 14.109375 22.625 23.890625 \nQ 32.328125 33.6875 34.8125 36.53125 \nQ 39.546875 41.84375 41.421875 45.53125 \nQ 43.3125 49.21875 43.3125 52.78125 \nQ 43.3125 58.59375 39.234375 62.25 \nQ 35.15625 65.921875 28.609375 65.921875 \nQ 23.96875 65.921875 18.8125 64.3125 \nQ 13.671875 62.703125 7.8125 59.421875 \nL 7.8125 69.390625 \nQ 13.765625 71.78125 18.9375 73 \nQ 24.125 74.21875 28.421875 74.21875 \nQ 39.75 74.21875 46.484375 68.546875 \nQ 53.21875 62.890625 53.21875 53.421875 \nQ 53.21875 48.921875 51.53125 44.890625 \nQ 49.859375 40.875 45.40625 35.40625 \nQ 44.1875 33.984375 37.640625 27.21875 \nQ 31.109375 20.453125 19.1875 8.296875 \nz\n\" id=\"DejaVuSans-50\"/>\n      </defs>\n      <g transform=\"translate(127.76879 308.716563)scale(0.1 -0.1)\">\n       <use xlink:href=\"#DejaVuSans-50\"/>\n       <use x=\"63.623047\" xlink:href=\"#DejaVuSans-48\"/>\n      </g>\n     </g>\n    </g>\n    <g id=\"xtick_3\">\n     <g id=\"line2d_3\">\n      <g>\n       <use style=\"stroke:#000000;stroke-width:0.8;\" x=\"204.003566\" xlink:href=\"#m85fd6b1ca8\" y=\"294.118125\"/>\n      </g>\n     </g>\n     <g id=\"text_3\">\n      <!-- 40 -->\n      <defs>\n       <path d=\"M 37.796875 64.3125 \nL 12.890625 25.390625 \nL 37.796875 25.390625 \nz\nM 35.203125 72.90625 \nL 47.609375 72.90625 \nL 47.609375 25.390625 \nL 58.015625 25.390625 \nL 58.015625 17.1875 \nL 47.609375 17.1875 \nL 47.609375 0 \nL 37.796875 0 \nL 37.796875 17.1875 \nL 4.890625 17.1875 \nL 4.890625 26.703125 \nz\n\" id=\"DejaVuSans-52\"/>\n      </defs>\n      <g transform=\"translate(197.641066 308.716563)scale(0.1 -0.1)\">\n       <use xlink:href=\"#DejaVuSans-52\"/>\n       <use x=\"63.623047\" xlink:href=\"#DejaVuSans-48\"/>\n      </g>\n     </g>\n    </g>\n    <g id=\"xtick_4\">\n     <g id=\"line2d_4\">\n      <g>\n       <use style=\"stroke:#000000;stroke-width:0.8;\" x=\"273.875843\" xlink:href=\"#m85fd6b1ca8\" y=\"294.118125\"/>\n      </g>\n     </g>\n     <g id=\"text_4\">\n      <!-- 60 -->\n      <defs>\n       <path d=\"M 33.015625 40.375 \nQ 26.375 40.375 22.484375 35.828125 \nQ 18.609375 31.296875 18.609375 23.390625 \nQ 18.609375 15.53125 22.484375 10.953125 \nQ 26.375 6.390625 33.015625 6.390625 \nQ 39.65625 6.390625 43.53125 10.953125 \nQ 47.40625 15.53125 47.40625 23.390625 \nQ 47.40625 31.296875 43.53125 35.828125 \nQ 39.65625 40.375 33.015625 40.375 \nz\nM 52.59375 71.296875 \nL 52.59375 62.3125 \nQ 48.875 64.0625 45.09375 64.984375 \nQ 41.3125 65.921875 37.59375 65.921875 \nQ 27.828125 65.921875 22.671875 59.328125 \nQ 17.53125 52.734375 16.796875 39.40625 \nQ 19.671875 43.65625 24.015625 45.921875 \nQ 28.375 48.1875 33.59375 48.1875 \nQ 44.578125 48.1875 50.953125 41.515625 \nQ 57.328125 34.859375 57.328125 23.390625 \nQ 57.328125 12.15625 50.6875 5.359375 \nQ 44.046875 -1.421875 33.015625 -1.421875 \nQ 20.359375 -1.421875 13.671875 8.265625 \nQ 6.984375 17.96875 6.984375 36.375 \nQ 6.984375 53.65625 15.1875 63.9375 \nQ 23.390625 74.21875 37.203125 74.21875 \nQ 40.921875 74.21875 44.703125 73.484375 \nQ 48.484375 72.75 52.59375 71.296875 \nz\n\" id=\"DejaVuSans-54\"/>\n      </defs>\n      <g transform=\"translate(267.513343 308.716563)scale(0.1 -0.1)\">\n       <use xlink:href=\"#DejaVuSans-54\"/>\n       <use x=\"63.623047\" xlink:href=\"#DejaVuSans-48\"/>\n      </g>\n     </g>\n    </g>\n    <g id=\"xtick_5\">\n     <g id=\"line2d_5\">\n      <g>\n       <use style=\"stroke:#000000;stroke-width:0.8;\" x=\"343.748119\" xlink:href=\"#m85fd6b1ca8\" y=\"294.118125\"/>\n      </g>\n     </g>\n     <g id=\"text_5\">\n      <!-- 80 -->\n      <defs>\n       <path d=\"M 31.78125 34.625 \nQ 24.75 34.625 20.71875 30.859375 \nQ 16.703125 27.09375 16.703125 20.515625 \nQ 16.703125 13.921875 20.71875 10.15625 \nQ 24.75 6.390625 31.78125 6.390625 \nQ 38.8125 6.390625 42.859375 10.171875 \nQ 46.921875 13.96875 46.921875 20.515625 \nQ 46.921875 27.09375 42.890625 30.859375 \nQ 38.875 34.625 31.78125 34.625 \nz\nM 21.921875 38.8125 \nQ 15.578125 40.375 12.03125 44.71875 \nQ 8.5 49.078125 8.5 55.328125 \nQ 8.5 64.0625 14.71875 69.140625 \nQ 20.953125 74.21875 31.78125 74.21875 \nQ 42.671875 74.21875 48.875 69.140625 \nQ 55.078125 64.0625 55.078125 55.328125 \nQ 55.078125 49.078125 51.53125 44.71875 \nQ 48 40.375 41.703125 38.8125 \nQ 48.828125 37.15625 52.796875 32.3125 \nQ 56.78125 27.484375 56.78125 20.515625 \nQ 56.78125 9.90625 50.3125 4.234375 \nQ 43.84375 -1.421875 31.78125 -1.421875 \nQ 19.734375 -1.421875 13.25 4.234375 \nQ 6.78125 9.90625 6.78125 20.515625 \nQ 6.78125 27.484375 10.78125 32.3125 \nQ 14.796875 37.15625 21.921875 38.8125 \nz\nM 18.3125 54.390625 \nQ 18.3125 48.734375 21.84375 45.5625 \nQ 25.390625 42.390625 31.78125 42.390625 \nQ 38.140625 42.390625 41.71875 45.5625 \nQ 45.3125 48.734375 45.3125 54.390625 \nQ 45.3125 60.0625 41.71875 63.234375 \nQ 38.140625 66.40625 31.78125 66.40625 \nQ 25.390625 66.40625 21.84375 63.234375 \nQ 18.3125 60.0625 18.3125 54.390625 \nz\n\" id=\"DejaVuSans-56\"/>\n      </defs>\n      <g transform=\"translate(337.385619 308.716563)scale(0.1 -0.1)\">\n       <use xlink:href=\"#DejaVuSans-56\"/>\n       <use x=\"63.623047\" xlink:href=\"#DejaVuSans-48\"/>\n      </g>\n     </g>\n    </g>\n    <g id=\"xtick_6\">\n     <g id=\"line2d_6\">\n      <g>\n       <use style=\"stroke:#000000;stroke-width:0.8;\" x=\"413.620396\" xlink:href=\"#m85fd6b1ca8\" y=\"294.118125\"/>\n      </g>\n     </g>\n     <g id=\"text_6\">\n      <!-- 100 -->\n      <defs>\n       <path d=\"M 12.40625 8.296875 \nL 28.515625 8.296875 \nL 28.515625 63.921875 \nL 10.984375 60.40625 \nL 10.984375 69.390625 \nL 28.421875 72.90625 \nL 38.28125 72.90625 \nL 38.28125 8.296875 \nL 54.390625 8.296875 \nL 54.390625 0 \nL 12.40625 0 \nz\n\" id=\"DejaVuSans-49\"/>\n      </defs>\n      <g transform=\"translate(404.076646 308.716563)scale(0.1 -0.1)\">\n       <use xlink:href=\"#DejaVuSans-49\"/>\n       <use x=\"63.623047\" xlink:href=\"#DejaVuSans-48\"/>\n       <use x=\"127.246094\" xlink:href=\"#DejaVuSans-48\"/>\n      </g>\n     </g>\n    </g>\n    <g id=\"text_7\">\n     <!-- Epochs -->\n     <defs>\n      <path d=\"M 9.8125 72.90625 \nL 55.90625 72.90625 \nL 55.90625 64.59375 \nL 19.671875 64.59375 \nL 19.671875 43.015625 \nL 54.390625 43.015625 \nL 54.390625 34.71875 \nL 19.671875 34.71875 \nL 19.671875 8.296875 \nL 56.78125 8.296875 \nL 56.78125 0 \nL 9.8125 0 \nz\n\" id=\"DejaVuSans-69\"/>\n      <path d=\"M 18.109375 8.203125 \nL 18.109375 -20.796875 \nL 9.078125 -20.796875 \nL 9.078125 54.6875 \nL 18.109375 54.6875 \nL 18.109375 46.390625 \nQ 20.953125 51.265625 25.265625 53.625 \nQ 29.59375 56 35.59375 56 \nQ 45.5625 56 51.78125 48.09375 \nQ 58.015625 40.1875 58.015625 27.296875 \nQ 58.015625 14.40625 51.78125 6.484375 \nQ 45.5625 -1.421875 35.59375 -1.421875 \nQ 29.59375 -1.421875 25.265625 0.953125 \nQ 20.953125 3.328125 18.109375 8.203125 \nz\nM 48.6875 27.296875 \nQ 48.6875 37.203125 44.609375 42.84375 \nQ 40.53125 48.484375 33.40625 48.484375 \nQ 26.265625 48.484375 22.1875 42.84375 \nQ 18.109375 37.203125 18.109375 27.296875 \nQ 18.109375 17.390625 22.1875 11.75 \nQ 26.265625 6.109375 33.40625 6.109375 \nQ 40.53125 6.109375 44.609375 11.75 \nQ 48.6875 17.390625 48.6875 27.296875 \nz\n\" id=\"DejaVuSans-112\"/>\n      <path d=\"M 30.609375 48.390625 \nQ 23.390625 48.390625 19.1875 42.75 \nQ 14.984375 37.109375 14.984375 27.296875 \nQ 14.984375 17.484375 19.15625 11.84375 \nQ 23.34375 6.203125 30.609375 6.203125 \nQ 37.796875 6.203125 41.984375 11.859375 \nQ 46.1875 17.53125 46.1875 27.296875 \nQ 46.1875 37.015625 41.984375 42.703125 \nQ 37.796875 48.390625 30.609375 48.390625 \nz\nM 30.609375 56 \nQ 42.328125 56 49.015625 48.375 \nQ 55.71875 40.765625 55.71875 27.296875 \nQ 55.71875 13.875 49.015625 6.21875 \nQ 42.328125 -1.421875 30.609375 -1.421875 \nQ 18.84375 -1.421875 12.171875 6.21875 \nQ 5.515625 13.875 5.515625 27.296875 \nQ 5.515625 40.765625 12.171875 48.375 \nQ 18.84375 56 30.609375 56 \nz\n\" id=\"DejaVuSans-111\"/>\n      <path d=\"M 48.78125 52.59375 \nL 48.78125 44.1875 \nQ 44.96875 46.296875 41.140625 47.34375 \nQ 37.3125 48.390625 33.40625 48.390625 \nQ 24.65625 48.390625 19.8125 42.84375 \nQ 14.984375 37.3125 14.984375 27.296875 \nQ 14.984375 17.28125 19.8125 11.734375 \nQ 24.65625 6.203125 33.40625 6.203125 \nQ 37.3125 6.203125 41.140625 7.25 \nQ 44.96875 8.296875 48.78125 10.40625 \nL 48.78125 2.09375 \nQ 45.015625 0.34375 40.984375 -0.53125 \nQ 36.96875 -1.421875 32.421875 -1.421875 \nQ 20.0625 -1.421875 12.78125 6.34375 \nQ 5.515625 14.109375 5.515625 27.296875 \nQ 5.515625 40.671875 12.859375 48.328125 \nQ 20.21875 56 33.015625 56 \nQ 37.15625 56 41.109375 55.140625 \nQ 45.0625 54.296875 48.78125 52.59375 \nz\n\" id=\"DejaVuSans-99\"/>\n      <path d=\"M 54.890625 33.015625 \nL 54.890625 0 \nL 45.90625 0 \nL 45.90625 32.71875 \nQ 45.90625 40.484375 42.875 44.328125 \nQ 39.84375 48.1875 33.796875 48.1875 \nQ 26.515625 48.1875 22.3125 43.546875 \nQ 18.109375 38.921875 18.109375 30.90625 \nL 18.109375 0 \nL 9.078125 0 \nL 9.078125 75.984375 \nL 18.109375 75.984375 \nL 18.109375 46.1875 \nQ 21.34375 51.125 25.703125 53.5625 \nQ 30.078125 56 35.796875 56 \nQ 45.21875 56 50.046875 50.171875 \nQ 54.890625 44.34375 54.890625 33.015625 \nz\n\" id=\"DejaVuSans-104\"/>\n      <path d=\"M 44.28125 53.078125 \nL 44.28125 44.578125 \nQ 40.484375 46.53125 36.375 47.5 \nQ 32.28125 48.484375 27.875 48.484375 \nQ 21.1875 48.484375 17.84375 46.4375 \nQ 14.5 44.390625 14.5 40.28125 \nQ 14.5 37.15625 16.890625 35.375 \nQ 19.28125 33.59375 26.515625 31.984375 \nL 29.59375 31.296875 \nQ 39.15625 29.25 43.1875 25.515625 \nQ 47.21875 21.78125 47.21875 15.09375 \nQ 47.21875 7.46875 41.1875 3.015625 \nQ 35.15625 -1.421875 24.609375 -1.421875 \nQ 20.21875 -1.421875 15.453125 -0.5625 \nQ 10.6875 0.296875 5.421875 2 \nL 5.421875 11.28125 \nQ 10.40625 8.6875 15.234375 7.390625 \nQ 20.0625 6.109375 24.8125 6.109375 \nQ 31.15625 6.109375 34.5625 8.28125 \nQ 37.984375 10.453125 37.984375 14.40625 \nQ 37.984375 18.0625 35.515625 20.015625 \nQ 33.0625 21.96875 24.703125 23.78125 \nL 21.578125 24.515625 \nQ 13.234375 26.265625 9.515625 29.90625 \nQ 5.8125 33.546875 5.8125 39.890625 \nQ 5.8125 47.609375 11.28125 51.796875 \nQ 16.75 56 26.8125 56 \nQ 31.78125 56 36.171875 55.265625 \nQ 40.578125 54.546875 44.28125 53.078125 \nz\n\" id=\"DejaVuSans-115\"/>\n     </defs>\n     <g transform=\"translate(219.277273 322.394687)scale(0.1 -0.1)\">\n      <use xlink:href=\"#DejaVuSans-69\"/>\n      <use x=\"63.183594\" xlink:href=\"#DejaVuSans-112\"/>\n      <use x=\"126.660156\" xlink:href=\"#DejaVuSans-111\"/>\n      <use x=\"187.841797\" xlink:href=\"#DejaVuSans-99\"/>\n      <use x=\"242.822266\" xlink:href=\"#DejaVuSans-104\"/>\n      <use x=\"306.201172\" xlink:href=\"#DejaVuSans-115\"/>\n     </g>\n    </g>\n   </g>\n   <g id=\"matplotlib.axis_2\">\n    <g id=\"ytick_1\">\n     <g id=\"line2d_7\">\n      <defs>\n       <path d=\"M 0 0 \nL -3.5 0 \n\" id=\"me5d1d1a7c6\" style=\"stroke:#000000;stroke-width:0.8;\"/>\n      </defs>\n      <g>\n       <use style=\"stroke:#000000;stroke-width:0.8;\" x=\"46.965625\" xlink:href=\"#me5d1d1a7c6\" y=\"290.558824\"/>\n      </g>\n     </g>\n     <g id=\"text_8\">\n      <!-- 0 -->\n      <g transform=\"translate(33.603125 294.358042)scale(0.1 -0.1)\">\n       <use xlink:href=\"#DejaVuSans-48\"/>\n      </g>\n     </g>\n    </g>\n    <g id=\"ytick_2\">\n     <g id=\"line2d_8\">\n      <g>\n       <use style=\"stroke:#000000;stroke-width:0.8;\" x=\"46.965625\" xlink:href=\"#me5d1d1a7c6\" y=\"239.094081\"/>\n      </g>\n     </g>\n     <g id=\"text_9\">\n      <!-- 20 -->\n      <g transform=\"translate(27.240625 242.893299)scale(0.1 -0.1)\">\n       <use xlink:href=\"#DejaVuSans-50\"/>\n       <use x=\"63.623047\" xlink:href=\"#DejaVuSans-48\"/>\n      </g>\n     </g>\n    </g>\n    <g id=\"ytick_3\">\n     <g id=\"line2d_9\">\n      <g>\n       <use style=\"stroke:#000000;stroke-width:0.8;\" x=\"46.965625\" xlink:href=\"#me5d1d1a7c6\" y=\"187.629337\"/>\n      </g>\n     </g>\n     <g id=\"text_10\">\n      <!-- 40 -->\n      <g transform=\"translate(27.240625 191.428556)scale(0.1 -0.1)\">\n       <use xlink:href=\"#DejaVuSans-52\"/>\n       <use x=\"63.623047\" xlink:href=\"#DejaVuSans-48\"/>\n      </g>\n     </g>\n    </g>\n    <g id=\"ytick_4\">\n     <g id=\"line2d_10\">\n      <g>\n       <use style=\"stroke:#000000;stroke-width:0.8;\" x=\"46.965625\" xlink:href=\"#me5d1d1a7c6\" y=\"136.164594\"/>\n      </g>\n     </g>\n     <g id=\"text_11\">\n      <!-- 60 -->\n      <g transform=\"translate(27.240625 139.963813)scale(0.1 -0.1)\">\n       <use xlink:href=\"#DejaVuSans-54\"/>\n       <use x=\"63.623047\" xlink:href=\"#DejaVuSans-48\"/>\n      </g>\n     </g>\n    </g>\n    <g id=\"ytick_5\">\n     <g id=\"line2d_11\">\n      <g>\n       <use style=\"stroke:#000000;stroke-width:0.8;\" x=\"46.965625\" xlink:href=\"#me5d1d1a7c6\" y=\"84.699851\"/>\n      </g>\n     </g>\n     <g id=\"text_12\">\n      <!-- 80 -->\n      <g transform=\"translate(27.240625 88.49907)scale(0.1 -0.1)\">\n       <use xlink:href=\"#DejaVuSans-56\"/>\n       <use x=\"63.623047\" xlink:href=\"#DejaVuSans-48\"/>\n      </g>\n     </g>\n    </g>\n    <g id=\"ytick_6\">\n     <g id=\"line2d_12\">\n      <g>\n       <use style=\"stroke:#000000;stroke-width:0.8;\" x=\"46.965625\" xlink:href=\"#me5d1d1a7c6\" y=\"33.235108\"/>\n      </g>\n     </g>\n     <g id=\"text_13\">\n      <!-- 100 -->\n      <g transform=\"translate(20.878125 37.034327)scale(0.1 -0.1)\">\n       <use xlink:href=\"#DejaVuSans-49\"/>\n       <use x=\"63.623047\" xlink:href=\"#DejaVuSans-48\"/>\n       <use x=\"127.246094\" xlink:href=\"#DejaVuSans-48\"/>\n      </g>\n     </g>\n    </g>\n    <g id=\"text_14\">\n     <!-- Accuracy (%) -->\n     <defs>\n      <path d=\"M 34.1875 63.1875 \nL 20.796875 26.90625 \nL 47.609375 26.90625 \nz\nM 28.609375 72.90625 \nL 39.796875 72.90625 \nL 67.578125 0 \nL 57.328125 0 \nL 50.6875 18.703125 \nL 17.828125 18.703125 \nL 11.1875 0 \nL 0.78125 0 \nz\n\" id=\"DejaVuSans-65\"/>\n      <path d=\"M 8.5 21.578125 \nL 8.5 54.6875 \nL 17.484375 54.6875 \nL 17.484375 21.921875 \nQ 17.484375 14.15625 20.5 10.265625 \nQ 23.53125 6.390625 29.59375 6.390625 \nQ 36.859375 6.390625 41.078125 11.03125 \nQ 45.3125 15.671875 45.3125 23.6875 \nL 45.3125 54.6875 \nL 54.296875 54.6875 \nL 54.296875 0 \nL 45.3125 0 \nL 45.3125 8.40625 \nQ 42.046875 3.421875 37.71875 1 \nQ 33.40625 -1.421875 27.6875 -1.421875 \nQ 18.265625 -1.421875 13.375 4.4375 \nQ 8.5 10.296875 8.5 21.578125 \nz\nM 31.109375 56 \nz\n\" id=\"DejaVuSans-117\"/>\n      <path d=\"M 41.109375 46.296875 \nQ 39.59375 47.171875 37.8125 47.578125 \nQ 36.03125 48 33.890625 48 \nQ 26.265625 48 22.1875 43.046875 \nQ 18.109375 38.09375 18.109375 28.8125 \nL 18.109375 0 \nL 9.078125 0 \nL 9.078125 54.6875 \nL 18.109375 54.6875 \nL 18.109375 46.1875 \nQ 20.953125 51.171875 25.484375 53.578125 \nQ 30.03125 56 36.53125 56 \nQ 37.453125 56 38.578125 55.875 \nQ 39.703125 55.765625 41.0625 55.515625 \nz\n\" id=\"DejaVuSans-114\"/>\n      <path d=\"M 34.28125 27.484375 \nQ 23.390625 27.484375 19.1875 25 \nQ 14.984375 22.515625 14.984375 16.5 \nQ 14.984375 11.71875 18.140625 8.90625 \nQ 21.296875 6.109375 26.703125 6.109375 \nQ 34.1875 6.109375 38.703125 11.40625 \nQ 43.21875 16.703125 43.21875 25.484375 \nL 43.21875 27.484375 \nz\nM 52.203125 31.203125 \nL 52.203125 0 \nL 43.21875 0 \nL 43.21875 8.296875 \nQ 40.140625 3.328125 35.546875 0.953125 \nQ 30.953125 -1.421875 24.3125 -1.421875 \nQ 15.921875 -1.421875 10.953125 3.296875 \nQ 6 8.015625 6 15.921875 \nQ 6 25.140625 12.171875 29.828125 \nQ 18.359375 34.515625 30.609375 34.515625 \nL 43.21875 34.515625 \nL 43.21875 35.40625 \nQ 43.21875 41.609375 39.140625 45 \nQ 35.0625 48.390625 27.6875 48.390625 \nQ 23 48.390625 18.546875 47.265625 \nQ 14.109375 46.140625 10.015625 43.890625 \nL 10.015625 52.203125 \nQ 14.9375 54.109375 19.578125 55.046875 \nQ 24.21875 56 28.609375 56 \nQ 40.484375 56 46.34375 49.84375 \nQ 52.203125 43.703125 52.203125 31.203125 \nz\n\" id=\"DejaVuSans-97\"/>\n      <path d=\"M 32.171875 -5.078125 \nQ 28.375 -14.84375 24.75 -17.8125 \nQ 21.140625 -20.796875 15.09375 -20.796875 \nL 7.90625 -20.796875 \nL 7.90625 -13.28125 \nL 13.1875 -13.28125 \nQ 16.890625 -13.28125 18.9375 -11.515625 \nQ 21 -9.765625 23.484375 -3.21875 \nL 25.09375 0.875 \nL 2.984375 54.6875 \nL 12.5 54.6875 \nL 29.59375 11.921875 \nL 46.6875 54.6875 \nL 56.203125 54.6875 \nz\n\" id=\"DejaVuSans-121\"/>\n      <path id=\"DejaVuSans-32\"/>\n      <path d=\"M 31 75.875 \nQ 24.46875 64.65625 21.28125 53.65625 \nQ 18.109375 42.671875 18.109375 31.390625 \nQ 18.109375 20.125 21.3125 9.0625 \nQ 24.515625 -2 31 -13.1875 \nL 23.1875 -13.1875 \nQ 15.875 -1.703125 12.234375 9.375 \nQ 8.59375 20.453125 8.59375 31.390625 \nQ 8.59375 42.28125 12.203125 53.3125 \nQ 15.828125 64.359375 23.1875 75.875 \nz\n\" id=\"DejaVuSans-40\"/>\n      <path d=\"M 72.703125 32.078125 \nQ 68.453125 32.078125 66.03125 28.46875 \nQ 63.625 24.859375 63.625 18.40625 \nQ 63.625 12.0625 66.03125 8.421875 \nQ 68.453125 4.78125 72.703125 4.78125 \nQ 76.859375 4.78125 79.265625 8.421875 \nQ 81.6875 12.0625 81.6875 18.40625 \nQ 81.6875 24.8125 79.265625 28.4375 \nQ 76.859375 32.078125 72.703125 32.078125 \nz\nM 72.703125 38.28125 \nQ 80.421875 38.28125 84.953125 32.90625 \nQ 89.5 27.546875 89.5 18.40625 \nQ 89.5 9.28125 84.9375 3.921875 \nQ 80.375 -1.421875 72.703125 -1.421875 \nQ 64.890625 -1.421875 60.34375 3.921875 \nQ 55.8125 9.28125 55.8125 18.40625 \nQ 55.8125 27.59375 60.375 32.9375 \nQ 64.9375 38.28125 72.703125 38.28125 \nz\nM 22.3125 68.015625 \nQ 18.109375 68.015625 15.6875 64.375 \nQ 13.28125 60.75 13.28125 54.390625 \nQ 13.28125 47.953125 15.671875 44.328125 \nQ 18.0625 40.71875 22.3125 40.71875 \nQ 26.5625 40.71875 28.96875 44.328125 \nQ 31.390625 47.953125 31.390625 54.390625 \nQ 31.390625 60.6875 28.953125 64.34375 \nQ 26.515625 68.015625 22.3125 68.015625 \nz\nM 66.40625 74.21875 \nL 74.21875 74.21875 \nL 28.609375 -1.421875 \nL 20.796875 -1.421875 \nz\nM 22.3125 74.21875 \nQ 30.03125 74.21875 34.609375 68.875 \nQ 39.203125 63.53125 39.203125 54.390625 \nQ 39.203125 45.171875 34.640625 39.84375 \nQ 30.078125 34.515625 22.3125 34.515625 \nQ 14.546875 34.515625 10.03125 39.859375 \nQ 5.515625 45.21875 5.515625 54.390625 \nQ 5.515625 63.484375 10.046875 68.84375 \nQ 14.59375 74.21875 22.3125 74.21875 \nz\n\" id=\"DejaVuSans-37\"/>\n      <path d=\"M 8.015625 75.875 \nL 15.828125 75.875 \nQ 23.140625 64.359375 26.78125 53.3125 \nQ 30.421875 42.28125 30.421875 31.390625 \nQ 30.421875 20.453125 26.78125 9.375 \nQ 23.140625 -1.703125 15.828125 -13.1875 \nL 8.015625 -13.1875 \nQ 14.5 -2 17.703125 9.0625 \nQ 20.90625 20.125 20.90625 31.390625 \nQ 20.90625 42.671875 17.703125 53.65625 \nQ 14.5 64.65625 8.015625 75.875 \nz\n\" id=\"DejaVuSans-41\"/>\n     </defs>\n     <g transform=\"translate(14.798438 191.287656)rotate(-90)scale(0.1 -0.1)\">\n      <use xlink:href=\"#DejaVuSans-65\"/>\n      <use x=\"66.658203\" xlink:href=\"#DejaVuSans-99\"/>\n      <use x=\"121.638672\" xlink:href=\"#DejaVuSans-99\"/>\n      <use x=\"176.619141\" xlink:href=\"#DejaVuSans-117\"/>\n      <use x=\"239.998047\" xlink:href=\"#DejaVuSans-114\"/>\n      <use x=\"281.111328\" xlink:href=\"#DejaVuSans-97\"/>\n      <use x=\"342.390625\" xlink:href=\"#DejaVuSans-99\"/>\n      <use x=\"397.371094\" xlink:href=\"#DejaVuSans-121\"/>\n      <use x=\"456.550781\" xlink:href=\"#DejaVuSans-32\"/>\n      <use x=\"488.337891\" xlink:href=\"#DejaVuSans-40\"/>\n      <use x=\"527.351562\" xlink:href=\"#DejaVuSans-37\"/>\n      <use x=\"622.371094\" xlink:href=\"#DejaVuSans-41\"/>\n     </g>\n    </g>\n   </g>\n   <g id=\"line2d_13\">\n    <path clip-path=\"url(#p9a78732bed)\" d=\"M 64.259013 154.918089 \nL 67.752627 147.939212 \nL 71.246241 137.202478 \nL 74.739855 139.886662 \nL 78.233469 135.234077 \nL 81.727083 133.444622 \nL 85.220696 129.149928 \nL 88.71431 132.192003 \nL 92.207924 130.044656 \nL 95.701538 125.571017 \nL 99.195152 125.392071 \nL 102.688765 129.507819 \nL 106.182379 127.539418 \nL 109.675993 121.455269 \nL 113.169607 124.676289 \nL 116.663221 125.749963 \nL 120.156835 121.276324 \nL 123.650448 118.055303 \nL 127.144062 118.771086 \nL 130.637676 117.160576 \nL 134.13129 116.444793 \nL 137.624904 119.844759 \nL 141.118518 115.192174 \nL 144.612131 115.907957 \nL 148.105745 116.802685 \nL 151.599359 115.192174 \nL 155.092973 112.865882 \nL 158.586587 112.1501 \nL 162.080201 111.971154 \nL 165.573814 115.013229 \nL 169.067428 107.676461 \nL 172.561042 112.686937 \nL 176.054656 107.855407 \nL 179.54827 113.939556 \nL 183.041883 107.31857 \nL 186.535497 106.423842 \nL 190.029111 105.171223 \nL 193.522725 102.844931 \nL 197.016339 101.950203 \nL 200.509953 101.592312 \nL 204.003566 109.108025 \nL 207.49718 104.634386 \nL 210.990794 101.234421 \nL 214.484408 98.550237 \nL 217.978022 101.055475 \nL 221.471636 105.529114 \nL 224.965249 100.518639 \nL 228.458863 94.971326 \nL 231.952477 94.255544 \nL 235.446091 105.171223 \nL 238.939705 98.550237 \nL 242.433318 102.844931 \nL 245.926932 96.402891 \nL 249.420546 96.939727 \nL 252.91416 98.013401 \nL 256.407774 95.150272 \nL 259.901388 92.287143 \nL 263.395001 101.413366 \nL 266.888615 107.31857 \nL 270.382229 101.413366 \nL 273.875843 98.908128 \nL 277.369457 96.223945 \nL 280.863071 97.118673 \nL 284.356684 114.834283 \nL 287.850298 96.939727 \nL 291.343912 107.139624 \nL 294.837526 102.844931 \nL 298.33114 95.866054 \nL 301.824753 105.70806 \nL 305.318367 108.392243 \nL 308.811981 96.402891 \nL 312.305595 92.466088 \nL 315.799209 98.013401 \nL 319.292823 95.687108 \nL 322.786436 100.87653 \nL 326.28005 97.476564 \nL 329.773664 98.192346 \nL 333.267278 101.055475 \nL 336.760892 106.602788 \nL 340.254506 100.518639 \nL 343.748119 107.139624 \nL 347.241733 104.276495 \nL 350.735347 105.171223 \nL 354.228961 110.002753 \nL 357.722575 106.065951 \nL 361.216188 115.550066 \nL 364.709802 108.213298 \nL 368.203416 95.866054 \nL 371.69703 101.592312 \nL 375.190644 112.686937 \nL 378.684258 112.1501 \nL 382.177871 108.571189 \nL 385.671485 96.939727 \nL 389.165099 106.244896 \nL 392.658713 104.09755 \nL 396.152327 93.539762 \nL 399.645941 104.09755 \nL 403.139554 123.960507 \nL 406.633168 112.865882 \nL 410.126782 103.918604 \n\" style=\"fill:none;stroke:#1f77b4;stroke-linecap:square;stroke-width:1.5;\"/>\n   </g>\n   <g id=\"line2d_14\">\n    <path clip-path=\"url(#p9a78732bed)\" d=\"M 64.259013 151.654332 \nL 67.752627 141.591393 \nL 71.246241 138.536573 \nL 74.739855 136.200533 \nL 78.233469 130.629978 \nL 81.727083 132.966017 \nL 85.220696 128.473634 \nL 88.71431 124.340641 \nL 92.207924 126.31729 \nL 95.701538 121.106125 \nL 99.195152 122.184297 \nL 102.688765 119.488867 \nL 106.182379 115.715265 \nL 109.675993 116.793437 \nL 113.169607 113.558921 \nL 116.663221 114.637093 \nL 120.156835 113.379226 \nL 123.650448 110.324405 \nL 127.144062 109.066538 \nL 130.637676 106.371108 \nL 134.13129 106.371108 \nL 137.624904 103.136592 \nL 141.118518 99.003599 \nL 144.612131 101.878725 \nL 148.105745 95.229997 \nL 151.599359 99.542685 \nL 155.092973 96.66756 \nL 158.586587 88.940661 \nL 162.080201 93.792435 \nL 165.573814 83.370106 \nL 169.067428 85.167059 \nL 172.561042 79.776199 \nL 176.054656 80.674676 \nL 179.54827 76.361988 \nL 183.041883 75.463511 \nL 186.535497 73.307167 \nL 190.029111 72.40869 \nL 193.522725 71.150823 \nL 197.016339 71.869604 \nL 200.509953 67.736612 \nL 204.003566 64.502096 \nL 207.49718 66.299049 \nL 210.990794 61.087884 \nL 214.484408 56.415806 \nL 217.978022 55.87672 \nL 221.471636 54.259462 \nL 224.965249 50.84525 \nL 228.458863 53.54068 \nL 231.952477 53.720376 \nL 235.446091 54.618852 \nL 238.939705 51.743727 \nL 242.433318 56.23611 \nL 245.926932 53.18129 \nL 249.420546 52.282813 \nL 252.91416 47.610734 \nL 256.407774 48.509211 \nL 259.901388 44.735609 \nL 263.395001 45.634086 \nL 266.888615 42.75896 \nL 270.382229 44.376218 \nL 273.875843 41.321398 \nL 277.369457 40.243226 \nL 280.863071 42.75896 \nL 284.356684 44.555914 \nL 287.850298 41.321398 \nL 291.343912 46.891953 \nL 294.837526 40.602616 \nL 298.33114 39.70414 \nL 301.824753 40.782312 \nL 305.318367 38.985358 \nL 308.811981 37.3681 \nL 312.305595 35.930538 \nL 315.799209 36.110233 \nL 319.292823 36.469624 \nL 322.786436 37.547796 \nL 326.28005 47.431039 \nL 329.773664 52.103118 \nL 333.267278 57.853368 \nL 336.760892 44.735609 \nL 340.254506 39.165054 \nL 343.748119 47.79043 \nL 347.241733 43.118351 \nL 350.735347 41.321398 \nL 354.228961 38.805663 \nL 357.722575 36.829014 \nL 361.216188 36.289928 \nL 364.709802 36.289928 \nL 368.203416 35.930538 \nL 371.69703 36.649319 \nL 375.190644 36.110233 \nL 378.684258 35.211756 \nL 382.177871 35.930538 \nL 385.671485 35.750842 \nL 389.165099 35.750842 \nL 392.658713 35.571147 \nL 396.152327 35.391452 \nL 399.645941 34.852366 \nL 403.139554 34.852366 \nL 406.633168 34.67267 \nL 410.126782 35.032061 \n\" style=\"fill:none;stroke:#ff7f0e;stroke-linecap:square;stroke-width:1.5;\"/>\n   </g>\n   <g id=\"line2d_15\">\n    <path clip-path=\"url(#p9a78732bed)\" d=\"M 64.259013 165.003857 \nL 67.752627 148.921125 \nL 71.246241 138.686659 \nL 74.739855 133.569426 \nL 78.233469 131.376326 \nL 81.727083 131.193568 \nL 85.220696 131.559084 \nL 88.71431 132.838393 \nL 92.207924 126.62461 \nL 95.701538 130.462535 \nL 99.195152 128.269435 \nL 102.688765 125.893577 \nL 106.182379 124.979785 \nL 109.675993 127.172885 \nL 113.169607 130.097018 \nL 116.663221 124.614268 \nL 120.156835 122.421168 \nL 123.650448 120.776344 \nL 127.144062 122.969443 \nL 130.637676 117.486694 \nL 134.13129 116.938419 \nL 137.624904 117.85221 \nL 141.118518 117.669452 \nL 144.612131 113.648769 \nL 148.105745 116.75566 \nL 151.599359 114.379802 \nL 155.092973 113.100494 \nL 158.586587 113.283252 \nL 162.080201 111.272911 \nL 165.573814 113.648769 \nL 169.067428 111.638427 \nL 172.561042 108.166019 \nL 176.054656 108.897053 \nL 179.54827 108.348778 \nL 183.041883 104.693611 \nL 186.535497 102.500511 \nL 190.029111 100.672928 \nL 193.522725 102.500511 \nL 197.016339 99.576378 \nL 200.509953 105.790161 \nL 204.003566 102.500511 \nL 207.49718 96.286729 \nL 210.990794 92.81432 \nL 214.484408 96.835003 \nL 217.978022 93.728112 \nL 221.471636 92.448804 \nL 224.965249 95.00742 \nL 228.458863 88.062604 \nL 231.952477 91.169496 \nL 235.446091 89.341912 \nL 238.939705 90.072946 \nL 242.433318 82.579854 \nL 245.926932 81.483305 \nL 249.420546 81.848821 \nL 252.91416 88.428121 \nL 256.407774 91.717771 \nL 259.901388 77.828138 \nL 263.395001 81.300546 \nL 266.888615 89.707429 \nL 270.382229 79.83848 \nL 273.875843 76.366072 \nL 277.369457 78.010896 \nL 280.863071 69.96953 \nL 284.356684 75.635038 \nL 287.850298 76.183313 \nL 291.343912 75.269522 \nL 294.837526 68.324705 \nL 298.33114 68.690222 \nL 301.824753 70.883322 \nL 305.318367 74.172972 \nL 308.811981 61.379889 \nL 312.305595 59.369548 \nL 315.799209 65.035056 \nL 319.292823 61.745406 \nL 322.786436 64.669539 \nL 326.28005 61.014373 \nL 329.773664 66.314364 \nL 333.267278 53.70404 \nL 336.760892 56.262656 \nL 340.254506 52.60749 \nL 343.748119 56.810931 \nL 347.241733 59.004031 \nL 350.735347 58.090239 \nL 354.228961 61.928164 \nL 357.722575 59.917823 \nL 361.216188 62.841956 \nL 364.709802 61.197131 \nL 368.203416 55.166106 \nL 371.69703 50.048873 \nL 375.190644 46.393707 \nL 378.684258 48.404048 \nL 382.177871 50.231632 \nL 385.671485 55.348865 \nL 389.165099 45.114399 \nL 392.658713 48.22129 \nL 396.152327 46.576465 \nL 399.645941 46.210949 \nL 403.139554 47.673015 \nL 406.633168 46.210949 \nL 410.126782 45.479915 \n\" style=\"fill:none;stroke:#2ca02c;stroke-linecap:square;stroke-width:1.5;\"/>\n   </g>\n   <g id=\"line2d_16\">\n    <path clip-path=\"url(#p9a78732bed)\" d=\"M 64.259013 190.224506 \nL 67.752627 163.907307 \nL 71.246241 166.283165 \nL 74.739855 155.865941 \nL 78.233469 146.362508 \nL 81.727083 145.631475 \nL 85.220696 143.255617 \nL 88.71431 140.148726 \nL 92.207924 139.600451 \nL 95.701538 139.600451 \nL 99.195152 139.052176 \nL 102.688765 135.397009 \nL 106.182379 133.203909 \nL 109.675993 133.569426 \nL 113.169607 130.828051 \nL 116.663221 130.645293 \nL 120.156835 131.559084 \nL 123.650448 128.634951 \nL 127.144062 133.021151 \nL 130.637676 129.183226 \nL 134.13129 129.91426 \nL 137.624904 131.924601 \nL 141.118518 126.076335 \nL 144.612131 126.990126 \nL 148.105745 128.452193 \nL 151.599359 127.903918 \nL 155.092973 128.086676 \nL 158.586587 127.355643 \nL 162.080201 126.441851 \nL 165.573814 129.183226 \nL 169.067428 126.62461 \nL 172.561042 127.538401 \nL 176.054656 127.72116 \nL 179.54827 126.441851 \nL 183.041883 126.441851 \nL 186.535497 125.345302 \nL 190.029111 124.248752 \nL 193.522725 126.62461 \nL 197.016339 124.614268 \nL 200.509953 124.065993 \nL 204.003566 122.603927 \nL 207.49718 126.441851 \nL 210.990794 125.893577 \nL 214.484408 124.797027 \nL 217.978022 124.065993 \nL 221.471636 121.690135 \nL 224.965249 123.883235 \nL 228.458863 121.690135 \nL 231.952477 123.152202 \nL 235.446091 121.872893 \nL 238.939705 122.055652 \nL 242.433318 121.872893 \nL 245.926932 122.23841 \nL 249.420546 121.690135 \nL 252.91416 120.593585 \nL 256.407774 120.410827 \nL 259.901388 119.862552 \nL 263.395001 119.862552 \nL 266.888615 118.94876 \nL 270.382229 117.486694 \nL 273.875843 117.121177 \nL 277.369457 118.583244 \nL 280.863071 118.766002 \nL 284.356684 114.379802 \nL 287.850298 115.476352 \nL 291.343912 114.197044 \nL 294.837526 115.110836 \nL 298.33114 116.75566 \nL 301.824753 112.003944 \nL 305.318367 113.831527 \nL 308.811981 113.831527 \nL 312.305595 111.638427 \nL 315.799209 113.283252 \nL 319.292823 110.176361 \nL 322.786436 109.810844 \nL 326.28005 111.272911 \nL 329.773664 110.541878 \nL 333.267278 108.166019 \nL 336.760892 108.166019 \nL 340.254506 106.338436 \nL 343.748119 106.155678 \nL 347.241733 107.434986 \nL 350.735347 106.886711 \nL 354.228961 107.252228 \nL 357.722575 105.97292 \nL 361.216188 100.307412 \nL 364.709802 103.597061 \nL 368.203416 103.597061 \nL 371.69703 102.500511 \nL 375.190644 104.145336 \nL 378.684258 101.221203 \nL 382.177871 99.39362 \nL 385.671485 101.58672 \nL 389.165099 98.479828 \nL 392.658713 97.20052 \nL 396.152327 99.028103 \nL 399.645941 101.038445 \nL 403.139554 97.566037 \nL 406.633168 93.91087 \nL 410.126782 93.362595 \n\" style=\"fill:none;stroke:#d62728;stroke-linecap:square;stroke-width:1.5;\"/>\n   </g>\n   <g id=\"line2d_17\">\n    <path clip-path=\"url(#p9a78732bed)\" d=\"M 64.259013 281.76358 \nL 67.752627 265.680847 \nL 71.246241 201.098626 \nL 74.739855 183.508137 \nL 78.233469 175.466771 \nL 81.727083 172.702551 \nL 85.220696 168.179283 \nL 88.71431 173.205137 \nL 92.207924 174.4616 \nL 95.701538 172.199966 \nL 99.195152 172.199966 \nL 102.688765 172.451259 \nL 106.182379 178.984869 \nL 109.675993 175.215478 \nL 113.169607 171.697381 \nL 116.663221 169.435747 \nL 120.156835 163.153429 \nL 123.650448 158.881453 \nL 127.144062 154.86077 \nL 130.637676 157.122405 \nL 134.13129 151.09138 \nL 137.624904 150.840087 \nL 141.118518 148.829746 \nL 144.612131 146.316819 \nL 148.105745 146.065526 \nL 151.599359 145.814234 \nL 155.092973 149.081039 \nL 158.586587 149.834917 \nL 162.080201 151.342673 \nL 165.573814 146.568112 \nL 169.067428 153.353014 \nL 172.561042 149.332331 \nL 176.054656 149.834917 \nL 179.54827 144.809063 \nL 183.041883 149.834917 \nL 186.535497 147.32199 \nL 190.029111 147.824575 \nL 193.522725 146.065526 \nL 197.016339 143.552599 \nL 200.509953 145.562941 \nL 204.003566 143.050014 \nL 207.49718 142.798721 \nL 210.990794 144.809063 \nL 214.484408 138.526745 \nL 217.978022 140.537087 \nL 221.471636 143.552599 \nL 224.965249 136.265111 \nL 228.458863 139.531916 \nL 231.952477 140.78838 \nL 235.446091 137.772867 \nL 238.939705 138.526745 \nL 242.433318 135.008648 \nL 245.926932 135.762526 \nL 249.420546 136.516404 \nL 252.91416 138.526745 \nL 256.407774 137.270282 \nL 259.901388 135.25994 \nL 263.395001 136.265111 \nL 266.888615 135.511233 \nL 270.382229 129.982794 \nL 273.875843 132.244428 \nL 277.369457 134.25477 \nL 280.863071 129.982794 \nL 284.356684 135.762526 \nL 287.850298 133.500892 \nL 291.343912 134.506062 \nL 294.837526 135.008648 \nL 298.33114 139.029331 \nL 301.824753 137.018989 \nL 305.318367 131.993135 \nL 308.811981 131.741843 \nL 312.305595 136.516404 \nL 315.799209 137.521575 \nL 319.292823 135.511233 \nL 322.786436 134.25477 \nL 326.28005 137.018989 \nL 329.773664 131.741843 \nL 333.267278 133.752184 \nL 336.760892 130.736672 \nL 340.254506 131.993135 \nL 343.748119 136.013819 \nL 347.241733 136.013819 \nL 350.735347 133.500892 \nL 354.228961 132.495721 \nL 357.722575 134.506062 \nL 361.216188 132.747014 \nL 364.709802 135.008648 \nL 368.203416 127.972452 \nL 371.69703 129.228916 \nL 375.190644 134.506062 \nL 378.684258 128.726331 \nL 382.177871 135.511233 \nL 385.671485 131.49055 \nL 389.165099 130.987965 \nL 392.658713 128.223745 \nL 396.152327 133.500892 \nL 399.645941 133.249599 \nL 403.139554 132.747014 \nL 406.633168 131.49055 \nL 410.126782 131.993135 \n\" style=\"fill:none;stroke:#9467bd;stroke-linecap:square;stroke-width:1.5;\"/>\n   </g>\n   <g id=\"patch_3\">\n    <path d=\"M 46.965625 294.118125 \nL 46.965625 22.318125 \n\" style=\"fill:none;stroke:#000000;stroke-linecap:square;stroke-linejoin:miter;stroke-width:0.8;\"/>\n   </g>\n   <g id=\"patch_4\">\n    <path d=\"M 427.42017 294.118125 \nL 427.42017 22.318125 \n\" style=\"fill:none;stroke:#000000;stroke-linecap:square;stroke-linejoin:miter;stroke-width:0.8;\"/>\n   </g>\n   <g id=\"patch_5\">\n    <path d=\"M 46.965625 294.118125 \nL 427.42017 294.118125 \n\" style=\"fill:none;stroke:#000000;stroke-linecap:square;stroke-linejoin:miter;stroke-width:0.8;\"/>\n   </g>\n   <g id=\"patch_6\">\n    <path d=\"M 46.965625 22.318125 \nL 427.42017 22.318125 \n\" style=\"fill:none;stroke:#000000;stroke-linecap:square;stroke-linejoin:miter;stroke-width:0.8;\"/>\n   </g>\n   <g id=\"text_15\">\n    <!-- Training Accuracy -->\n    <defs>\n     <path d=\"M -0.296875 72.90625 \nL 61.375 72.90625 \nL 61.375 64.59375 \nL 35.5 64.59375 \nL 35.5 0 \nL 25.59375 0 \nL 25.59375 64.59375 \nL -0.296875 64.59375 \nz\n\" id=\"DejaVuSans-84\"/>\n     <path d=\"M 9.421875 54.6875 \nL 18.40625 54.6875 \nL 18.40625 0 \nL 9.421875 0 \nz\nM 9.421875 75.984375 \nL 18.40625 75.984375 \nL 18.40625 64.59375 \nL 9.421875 64.59375 \nz\n\" id=\"DejaVuSans-105\"/>\n     <path d=\"M 54.890625 33.015625 \nL 54.890625 0 \nL 45.90625 0 \nL 45.90625 32.71875 \nQ 45.90625 40.484375 42.875 44.328125 \nQ 39.84375 48.1875 33.796875 48.1875 \nQ 26.515625 48.1875 22.3125 43.546875 \nQ 18.109375 38.921875 18.109375 30.90625 \nL 18.109375 0 \nL 9.078125 0 \nL 9.078125 54.6875 \nL 18.109375 54.6875 \nL 18.109375 46.1875 \nQ 21.34375 51.125 25.703125 53.5625 \nQ 30.078125 56 35.796875 56 \nQ 45.21875 56 50.046875 50.171875 \nQ 54.890625 44.34375 54.890625 33.015625 \nz\n\" id=\"DejaVuSans-110\"/>\n     <path d=\"M 45.40625 27.984375 \nQ 45.40625 37.75 41.375 43.109375 \nQ 37.359375 48.484375 30.078125 48.484375 \nQ 22.859375 48.484375 18.828125 43.109375 \nQ 14.796875 37.75 14.796875 27.984375 \nQ 14.796875 18.265625 18.828125 12.890625 \nQ 22.859375 7.515625 30.078125 7.515625 \nQ 37.359375 7.515625 41.375 12.890625 \nQ 45.40625 18.265625 45.40625 27.984375 \nz\nM 54.390625 6.78125 \nQ 54.390625 -7.171875 48.1875 -13.984375 \nQ 42 -20.796875 29.203125 -20.796875 \nQ 24.46875 -20.796875 20.265625 -20.09375 \nQ 16.0625 -19.390625 12.109375 -17.921875 \nL 12.109375 -9.1875 \nQ 16.0625 -11.328125 19.921875 -12.34375 \nQ 23.78125 -13.375 27.78125 -13.375 \nQ 36.625 -13.375 41.015625 -8.765625 \nQ 45.40625 -4.15625 45.40625 5.171875 \nL 45.40625 9.625 \nQ 42.625 4.78125 38.28125 2.390625 \nQ 33.9375 0 27.875 0 \nQ 17.828125 0 11.671875 7.65625 \nQ 5.515625 15.328125 5.515625 27.984375 \nQ 5.515625 40.671875 11.671875 48.328125 \nQ 17.828125 56 27.875 56 \nQ 33.9375 56 38.28125 53.609375 \nQ 42.625 51.21875 45.40625 46.390625 \nL 45.40625 54.6875 \nL 54.390625 54.6875 \nz\n\" id=\"DejaVuSans-103\"/>\n    </defs>\n    <g transform=\"translate(184.221335 16.318125)scale(0.12 -0.12)\">\n     <use xlink:href=\"#DejaVuSans-84\"/>\n     <use x=\"46.333984\" xlink:href=\"#DejaVuSans-114\"/>\n     <use x=\"87.447266\" xlink:href=\"#DejaVuSans-97\"/>\n     <use x=\"148.726562\" xlink:href=\"#DejaVuSans-105\"/>\n     <use x=\"176.509766\" xlink:href=\"#DejaVuSans-110\"/>\n     <use x=\"239.888672\" xlink:href=\"#DejaVuSans-105\"/>\n     <use x=\"267.671875\" xlink:href=\"#DejaVuSans-110\"/>\n     <use x=\"331.050781\" xlink:href=\"#DejaVuSans-103\"/>\n     <use x=\"394.527344\" xlink:href=\"#DejaVuSans-32\"/>\n     <use x=\"426.314453\" xlink:href=\"#DejaVuSans-65\"/>\n     <use x=\"492.972656\" xlink:href=\"#DejaVuSans-99\"/>\n     <use x=\"547.953125\" xlink:href=\"#DejaVuSans-99\"/>\n     <use x=\"602.933594\" xlink:href=\"#DejaVuSans-117\"/>\n     <use x=\"666.3125\" xlink:href=\"#DejaVuSans-114\"/>\n     <use x=\"707.425781\" xlink:href=\"#DejaVuSans-97\"/>\n     <use x=\"768.705078\" xlink:href=\"#DejaVuSans-99\"/>\n     <use x=\"823.685547\" xlink:href=\"#DejaVuSans-121\"/>\n    </g>\n   </g>\n   <g id=\"legend_1\">\n    <g id=\"patch_7\">\n     <path d=\"M 53.965625 103.70875 \nL 105.053125 103.70875 \nQ 107.053125 103.70875 107.053125 101.70875 \nL 107.053125 29.318125 \nQ 107.053125 27.318125 105.053125 27.318125 \nL 53.965625 27.318125 \nQ 51.965625 27.318125 51.965625 29.318125 \nL 51.965625 101.70875 \nQ 51.965625 103.70875 53.965625 103.70875 \nz\n\" style=\"fill:#ffffff;opacity:0.8;stroke:#cccccc;stroke-linejoin:miter;\"/>\n    </g>\n    <g id=\"line2d_18\">\n     <path d=\"M 55.965625 35.416563 \nL 75.965625 35.416563 \n\" style=\"fill:none;stroke:#1f77b4;stroke-linecap:square;stroke-width:1.5;\"/>\n    </g>\n    <g id=\"line2d_19\"/>\n    <g id=\"text_16\">\n     <!-- 2 -->\n     <g transform=\"translate(83.965625 38.916563)scale(0.1 -0.1)\">\n      <use xlink:href=\"#DejaVuSans-50\"/>\n     </g>\n    </g>\n    <g id=\"line2d_20\">\n     <path d=\"M 55.965625 50.094688 \nL 75.965625 50.094688 \n\" style=\"fill:none;stroke:#ff7f0e;stroke-linecap:square;stroke-width:1.5;\"/>\n    </g>\n    <g id=\"line2d_21\"/>\n    <g id=\"text_17\">\n     <!-- 8 -->\n     <g transform=\"translate(83.965625 53.594688)scale(0.1 -0.1)\">\n      <use xlink:href=\"#DejaVuSans-56\"/>\n     </g>\n    </g>\n    <g id=\"line2d_22\">\n     <path d=\"M 55.965625 64.772813 \nL 75.965625 64.772813 \n\" style=\"fill:none;stroke:#2ca02c;stroke-linecap:square;stroke-width:1.5;\"/>\n    </g>\n    <g id=\"line2d_23\"/>\n    <g id=\"text_18\">\n     <!-- 32 -->\n     <defs>\n      <path d=\"M 40.578125 39.3125 \nQ 47.65625 37.796875 51.625 33 \nQ 55.609375 28.21875 55.609375 21.1875 \nQ 55.609375 10.40625 48.1875 4.484375 \nQ 40.765625 -1.421875 27.09375 -1.421875 \nQ 22.515625 -1.421875 17.65625 -0.515625 \nQ 12.796875 0.390625 7.625 2.203125 \nL 7.625 11.71875 \nQ 11.71875 9.328125 16.59375 8.109375 \nQ 21.484375 6.890625 26.8125 6.890625 \nQ 36.078125 6.890625 40.9375 10.546875 \nQ 45.796875 14.203125 45.796875 21.1875 \nQ 45.796875 27.640625 41.28125 31.265625 \nQ 36.765625 34.90625 28.71875 34.90625 \nL 20.21875 34.90625 \nL 20.21875 43.015625 \nL 29.109375 43.015625 \nQ 36.375 43.015625 40.234375 45.921875 \nQ 44.09375 48.828125 44.09375 54.296875 \nQ 44.09375 59.90625 40.109375 62.90625 \nQ 36.140625 65.921875 28.71875 65.921875 \nQ 24.65625 65.921875 20.015625 65.03125 \nQ 15.375 64.15625 9.8125 62.3125 \nL 9.8125 71.09375 \nQ 15.4375 72.65625 20.34375 73.4375 \nQ 25.25 74.21875 29.59375 74.21875 \nQ 40.828125 74.21875 47.359375 69.109375 \nQ 53.90625 64.015625 53.90625 55.328125 \nQ 53.90625 49.265625 50.4375 45.09375 \nQ 46.96875 40.921875 40.578125 39.3125 \nz\n\" id=\"DejaVuSans-51\"/>\n     </defs>\n     <g transform=\"translate(83.965625 68.272813)scale(0.1 -0.1)\">\n      <use xlink:href=\"#DejaVuSans-51\"/>\n      <use x=\"63.623047\" xlink:href=\"#DejaVuSans-50\"/>\n     </g>\n    </g>\n    <g id=\"line2d_24\">\n     <path d=\"M 55.965625 79.450938 \nL 75.965625 79.450938 \n\" style=\"fill:none;stroke:#d62728;stroke-linecap:square;stroke-width:1.5;\"/>\n    </g>\n    <g id=\"line2d_25\"/>\n    <g id=\"text_19\">\n     <!-- 128 -->\n     <g transform=\"translate(83.965625 82.950938)scale(0.1 -0.1)\">\n      <use xlink:href=\"#DejaVuSans-49\"/>\n      <use x=\"63.623047\" xlink:href=\"#DejaVuSans-50\"/>\n      <use x=\"127.246094\" xlink:href=\"#DejaVuSans-56\"/>\n     </g>\n    </g>\n    <g id=\"line2d_26\">\n     <path d=\"M 55.965625 94.129063 \nL 75.965625 94.129063 \n\" style=\"fill:none;stroke:#9467bd;stroke-linecap:square;stroke-width:1.5;\"/>\n    </g>\n    <g id=\"line2d_27\"/>\n    <g id=\"text_20\">\n     <!-- 512 -->\n     <defs>\n      <path d=\"M 10.796875 72.90625 \nL 49.515625 72.90625 \nL 49.515625 64.59375 \nL 19.828125 64.59375 \nL 19.828125 46.734375 \nQ 21.96875 47.46875 24.109375 47.828125 \nQ 26.265625 48.1875 28.421875 48.1875 \nQ 40.625 48.1875 47.75 41.5 \nQ 54.890625 34.8125 54.890625 23.390625 \nQ 54.890625 11.625 47.5625 5.09375 \nQ 40.234375 -1.421875 26.90625 -1.421875 \nQ 22.3125 -1.421875 17.546875 -0.640625 \nQ 12.796875 0.140625 7.71875 1.703125 \nL 7.71875 11.625 \nQ 12.109375 9.234375 16.796875 8.0625 \nQ 21.484375 6.890625 26.703125 6.890625 \nQ 35.15625 6.890625 40.078125 11.328125 \nQ 45.015625 15.765625 45.015625 23.390625 \nQ 45.015625 31 40.078125 35.4375 \nQ 35.15625 39.890625 26.703125 39.890625 \nQ 22.75 39.890625 18.8125 39.015625 \nQ 14.890625 38.140625 10.796875 36.28125 \nz\n\" id=\"DejaVuSans-53\"/>\n     </defs>\n     <g transform=\"translate(83.965625 97.629063)scale(0.1 -0.1)\">\n      <use xlink:href=\"#DejaVuSans-53\"/>\n      <use x=\"63.623047\" xlink:href=\"#DejaVuSans-49\"/>\n      <use x=\"127.246094\" xlink:href=\"#DejaVuSans-50\"/>\n     </g>\n    </g>\n   </g>\n  </g>\n  <g id=\"axes_2\">\n   <g id=\"patch_8\">\n    <path d=\"M 503.51108 294.118125 \nL 883.965625 294.118125 \nL 883.965625 22.318125 \nL 503.51108 22.318125 \nz\n\" style=\"fill:#ffffff;\"/>\n   </g>\n   <g id=\"matplotlib.axis_3\">\n    <g id=\"xtick_7\">\n     <g id=\"line2d_28\">\n      <g>\n       <use style=\"stroke:#000000;stroke-width:0.8;\" x=\"520.804468\" xlink:href=\"#m85fd6b1ca8\" y=\"294.118125\"/>\n      </g>\n     </g>\n     <g id=\"text_21\">\n      <!-- 0 -->\n      <g transform=\"translate(517.623218 308.716563)scale(0.1 -0.1)\">\n       <use xlink:href=\"#DejaVuSans-48\"/>\n      </g>\n     </g>\n    </g>\n    <g id=\"xtick_8\">\n     <g id=\"line2d_29\">\n      <g>\n       <use style=\"stroke:#000000;stroke-width:0.8;\" x=\"590.676744\" xlink:href=\"#m85fd6b1ca8\" y=\"294.118125\"/>\n      </g>\n     </g>\n     <g id=\"text_22\">\n      <!-- 20 -->\n      <g transform=\"translate(584.314244 308.716563)scale(0.1 -0.1)\">\n       <use xlink:href=\"#DejaVuSans-50\"/>\n       <use x=\"63.623047\" xlink:href=\"#DejaVuSans-48\"/>\n      </g>\n     </g>\n    </g>\n    <g id=\"xtick_9\">\n     <g id=\"line2d_30\">\n      <g>\n       <use style=\"stroke:#000000;stroke-width:0.8;\" x=\"660.549021\" xlink:href=\"#m85fd6b1ca8\" y=\"294.118125\"/>\n      </g>\n     </g>\n     <g id=\"text_23\">\n      <!-- 40 -->\n      <g transform=\"translate(654.186521 308.716563)scale(0.1 -0.1)\">\n       <use xlink:href=\"#DejaVuSans-52\"/>\n       <use x=\"63.623047\" xlink:href=\"#DejaVuSans-48\"/>\n      </g>\n     </g>\n    </g>\n    <g id=\"xtick_10\">\n     <g id=\"line2d_31\">\n      <g>\n       <use style=\"stroke:#000000;stroke-width:0.8;\" x=\"730.421297\" xlink:href=\"#m85fd6b1ca8\" y=\"294.118125\"/>\n      </g>\n     </g>\n     <g id=\"text_24\">\n      <!-- 60 -->\n      <g transform=\"translate(724.058797 308.716563)scale(0.1 -0.1)\">\n       <use xlink:href=\"#DejaVuSans-54\"/>\n       <use x=\"63.623047\" xlink:href=\"#DejaVuSans-48\"/>\n      </g>\n     </g>\n    </g>\n    <g id=\"xtick_11\">\n     <g id=\"line2d_32\">\n      <g>\n       <use style=\"stroke:#000000;stroke-width:0.8;\" x=\"800.293574\" xlink:href=\"#m85fd6b1ca8\" y=\"294.118125\"/>\n      </g>\n     </g>\n     <g id=\"text_25\">\n      <!-- 80 -->\n      <g transform=\"translate(793.931074 308.716563)scale(0.1 -0.1)\">\n       <use xlink:href=\"#DejaVuSans-56\"/>\n       <use x=\"63.623047\" xlink:href=\"#DejaVuSans-48\"/>\n      </g>\n     </g>\n    </g>\n    <g id=\"xtick_12\">\n     <g id=\"line2d_33\">\n      <g>\n       <use style=\"stroke:#000000;stroke-width:0.8;\" x=\"870.16585\" xlink:href=\"#m85fd6b1ca8\" y=\"294.118125\"/>\n      </g>\n     </g>\n     <g id=\"text_26\">\n      <!-- 100 -->\n      <g transform=\"translate(860.6221 308.716563)scale(0.1 -0.1)\">\n       <use xlink:href=\"#DejaVuSans-49\"/>\n       <use x=\"63.623047\" xlink:href=\"#DejaVuSans-48\"/>\n       <use x=\"127.246094\" xlink:href=\"#DejaVuSans-48\"/>\n      </g>\n     </g>\n    </g>\n    <g id=\"text_27\">\n     <!-- Epochs -->\n     <g transform=\"translate(675.822727 322.394687)scale(0.1 -0.1)\">\n      <use xlink:href=\"#DejaVuSans-69\"/>\n      <use x=\"63.183594\" xlink:href=\"#DejaVuSans-112\"/>\n      <use x=\"126.660156\" xlink:href=\"#DejaVuSans-111\"/>\n      <use x=\"187.841797\" xlink:href=\"#DejaVuSans-99\"/>\n      <use x=\"242.822266\" xlink:href=\"#DejaVuSans-104\"/>\n      <use x=\"306.201172\" xlink:href=\"#DejaVuSans-115\"/>\n     </g>\n    </g>\n   </g>\n   <g id=\"matplotlib.axis_4\">\n    <g id=\"ytick_7\">\n     <g id=\"line2d_34\">\n      <g>\n       <use style=\"stroke:#000000;stroke-width:0.8;\" x=\"503.51108\" xlink:href=\"#me5d1d1a7c6\" y=\"264.80636\"/>\n      </g>\n     </g>\n     <g id=\"text_28\">\n      <!-- 10 -->\n      <g transform=\"translate(483.78608 268.605579)scale(0.1 -0.1)\">\n       <use xlink:href=\"#DejaVuSans-49\"/>\n       <use x=\"63.623047\" xlink:href=\"#DejaVuSans-48\"/>\n      </g>\n     </g>\n    </g>\n    <g id=\"ytick_8\">\n     <g id=\"line2d_35\">\n      <g>\n       <use style=\"stroke:#000000;stroke-width:0.8;\" x=\"503.51108\" xlink:href=\"#me5d1d1a7c6\" y=\"226.047002\"/>\n      </g>\n     </g>\n     <g id=\"text_29\">\n      <!-- 20 -->\n      <g transform=\"translate(483.78608 229.846221)scale(0.1 -0.1)\">\n       <use xlink:href=\"#DejaVuSans-50\"/>\n       <use x=\"63.623047\" xlink:href=\"#DejaVuSans-48\"/>\n      </g>\n     </g>\n    </g>\n    <g id=\"ytick_9\">\n     <g id=\"line2d_36\">\n      <g>\n       <use style=\"stroke:#000000;stroke-width:0.8;\" x=\"503.51108\" xlink:href=\"#me5d1d1a7c6\" y=\"187.287644\"/>\n      </g>\n     </g>\n     <g id=\"text_30\">\n      <!-- 30 -->\n      <g transform=\"translate(483.78608 191.086862)scale(0.1 -0.1)\">\n       <use xlink:href=\"#DejaVuSans-51\"/>\n       <use x=\"63.623047\" xlink:href=\"#DejaVuSans-48\"/>\n      </g>\n     </g>\n    </g>\n    <g id=\"ytick_10\">\n     <g id=\"line2d_37\">\n      <g>\n       <use style=\"stroke:#000000;stroke-width:0.8;\" x=\"503.51108\" xlink:href=\"#me5d1d1a7c6\" y=\"148.528285\"/>\n      </g>\n     </g>\n     <g id=\"text_31\">\n      <!-- 40 -->\n      <g transform=\"translate(483.78608 152.327504)scale(0.1 -0.1)\">\n       <use xlink:href=\"#DejaVuSans-52\"/>\n       <use x=\"63.623047\" xlink:href=\"#DejaVuSans-48\"/>\n      </g>\n     </g>\n    </g>\n    <g id=\"ytick_11\">\n     <g id=\"line2d_38\">\n      <g>\n       <use style=\"stroke:#000000;stroke-width:0.8;\" x=\"503.51108\" xlink:href=\"#me5d1d1a7c6\" y=\"109.768927\"/>\n      </g>\n     </g>\n     <g id=\"text_32\">\n      <!-- 50 -->\n      <g transform=\"translate(483.78608 113.568146)scale(0.1 -0.1)\">\n       <use xlink:href=\"#DejaVuSans-53\"/>\n       <use x=\"63.623047\" xlink:href=\"#DejaVuSans-48\"/>\n      </g>\n     </g>\n    </g>\n    <g id=\"ytick_12\">\n     <g id=\"line2d_39\">\n      <g>\n       <use style=\"stroke:#000000;stroke-width:0.8;\" x=\"503.51108\" xlink:href=\"#me5d1d1a7c6\" y=\"71.009569\"/>\n      </g>\n     </g>\n     <g id=\"text_33\">\n      <!-- 60 -->\n      <g transform=\"translate(483.78608 74.808788)scale(0.1 -0.1)\">\n       <use xlink:href=\"#DejaVuSans-54\"/>\n       <use x=\"63.623047\" xlink:href=\"#DejaVuSans-48\"/>\n      </g>\n     </g>\n    </g>\n    <g id=\"ytick_13\">\n     <g id=\"line2d_40\">\n      <g>\n       <use style=\"stroke:#000000;stroke-width:0.8;\" x=\"503.51108\" xlink:href=\"#me5d1d1a7c6\" y=\"32.250211\"/>\n      </g>\n     </g>\n     <g id=\"text_34\">\n      <!-- 70 -->\n      <defs>\n       <path d=\"M 8.203125 72.90625 \nL 55.078125 72.90625 \nL 55.078125 68.703125 \nL 28.609375 0 \nL 18.3125 0 \nL 43.21875 64.59375 \nL 8.203125 64.59375 \nz\n\" id=\"DejaVuSans-55\"/>\n      </defs>\n      <g transform=\"translate(483.78608 36.049429)scale(0.1 -0.1)\">\n       <use xlink:href=\"#DejaVuSans-55\"/>\n       <use x=\"63.623047\" xlink:href=\"#DejaVuSans-48\"/>\n      </g>\n     </g>\n    </g>\n    <g id=\"text_35\">\n     <!-- Accuracy (%) -->\n     <g transform=\"translate(477.706392 191.287656)rotate(-90)scale(0.1 -0.1)\">\n      <use xlink:href=\"#DejaVuSans-65\"/>\n      <use x=\"66.658203\" xlink:href=\"#DejaVuSans-99\"/>\n      <use x=\"121.638672\" xlink:href=\"#DejaVuSans-99\"/>\n      <use x=\"176.619141\" xlink:href=\"#DejaVuSans-117\"/>\n      <use x=\"239.998047\" xlink:href=\"#DejaVuSans-114\"/>\n      <use x=\"281.111328\" xlink:href=\"#DejaVuSans-97\"/>\n      <use x=\"342.390625\" xlink:href=\"#DejaVuSans-99\"/>\n      <use x=\"397.371094\" xlink:href=\"#DejaVuSans-121\"/>\n      <use x=\"456.550781\" xlink:href=\"#DejaVuSans-32\"/>\n      <use x=\"488.337891\" xlink:href=\"#DejaVuSans-40\"/>\n      <use x=\"527.351562\" xlink:href=\"#DejaVuSans-37\"/>\n      <use x=\"622.371094\" xlink:href=\"#DejaVuSans-41\"/>\n     </g>\n    </g>\n   </g>\n   <g id=\"line2d_41\">\n    <path clip-path=\"url(#p56617c9039)\" d=\"M 520.804468 83.121854 \nL 524.298082 78.276949 \nL 527.791696 97.656628 \nL 531.285309 85.544328 \nL 534.778923 75.854503 \nL 538.272537 75.854503 \nL 541.766151 61.319729 \nL 545.259765 100.079102 \nL 548.753379 78.276949 \nL 552.246992 95.234153 \nL 555.740606 85.544328 \nL 559.23422 78.276949 \nL 562.727834 85.544328 \nL 566.221448 87.966803 \nL 569.715062 78.276949 \nL 573.208675 80.699408 \nL 576.702289 73.432029 \nL 580.195903 63.742204 \nL 583.689517 83.121854 \nL 587.183131 68.587109 \nL 590.676744 68.587109 \nL 594.170358 73.432029 \nL 597.663972 46.78497 \nL 601.157586 71.009554 \nL 604.6512 61.319729 \nL 608.144814 58.897255 \nL 611.638427 56.474809 \nL 615.132041 68.587109 \nL 618.625655 85.544328 \nL 622.119269 83.121854 \nL 625.612883 75.854503 \nL 629.106497 80.699408 \nL 632.60011 66.164649 \nL 636.093724 71.009554 \nL 639.587338 58.897255 \nL 643.080952 56.474809 \nL 646.574566 73.432029 \nL 650.068179 78.276949 \nL 653.561793 68.587109 \nL 657.055407 83.121854 \nL 660.549021 63.742204 \nL 664.042635 54.05235 \nL 667.536249 66.164649 \nL 671.029862 66.164649 \nL 674.523476 68.587109 \nL 678.01709 58.897255 \nL 681.510704 51.62989 \nL 685.004318 68.587109 \nL 688.497932 73.432029 \nL 691.991545 66.164649 \nL 695.485159 75.854503 \nL 698.978773 68.587109 \nL 702.472387 71.009554 \nL 705.966001 87.966803 \nL 709.459614 73.432029 \nL 712.953228 85.544328 \nL 716.446842 75.854503 \nL 719.940456 78.276949 \nL 723.43407 78.276949 \nL 726.927684 63.742204 \nL 730.421297 63.742204 \nL 733.914911 114.613847 \nL 737.408525 68.587109 \nL 740.902139 87.966803 \nL 744.395753 80.699408 \nL 747.889367 83.121854 \nL 751.38298 83.121854 \nL 754.876594 75.854503 \nL 758.370208 97.656628 \nL 761.863822 97.656628 \nL 765.357436 61.319729 \nL 768.851049 78.276949 \nL 772.344663 75.854503 \nL 775.838277 97.656628 \nL 779.331891 97.656628 \nL 782.825505 68.587109 \nL 786.319119 85.544328 \nL 789.812732 85.544328 \nL 793.306346 92.811708 \nL 796.79996 75.854503 \nL 800.293574 117.036307 \nL 803.787188 95.234153 \nL 807.280802 97.656628 \nL 810.774415 61.319729 \nL 814.268029 83.121854 \nL 817.761643 80.699408 \nL 821.255257 75.854503 \nL 824.748871 87.966803 \nL 828.242485 112.191387 \nL 831.736098 78.276949 \nL 835.229712 78.276949 \nL 838.723326 73.432029 \nL 842.21694 100.079102 \nL 845.710554 85.544328 \nL 849.204167 75.854503 \nL 852.697781 75.854503 \nL 856.191395 44.36251 \nL 859.685009 75.854503 \nL 863.178623 83.121854 \nL 866.672237 83.121854 \n\" style=\"fill:none;stroke:#1f77b4;stroke-linecap:square;stroke-width:1.5;\"/>\n   </g>\n   <g id=\"line2d_42\">\n    <path clip-path=\"url(#p56617c9039)\" d=\"M 520.804468 68.587109 \nL 524.298082 80.699408 \nL 527.791696 73.432029 \nL 531.285309 66.164649 \nL 534.778923 71.009554 \nL 538.272537 75.854503 \nL 541.766151 80.699408 \nL 545.259765 61.319729 \nL 548.753379 80.699408 \nL 552.246992 61.319729 \nL 555.740606 71.009554 \nL 559.23422 78.276949 \nL 562.727834 85.544328 \nL 566.221448 80.699408 \nL 569.715062 54.05235 \nL 573.208675 75.854503 \nL 576.702289 71.009554 \nL 580.195903 51.62989 \nL 583.689517 66.164649 \nL 587.183131 78.276949 \nL 590.676744 75.854503 \nL 594.170358 66.164649 \nL 597.663972 71.009554 \nL 601.157586 61.319729 \nL 604.6512 49.20743 \nL 608.144814 56.474809 \nL 611.638427 73.432029 \nL 615.132041 49.20743 \nL 618.625655 68.587109 \nL 622.119269 51.62989 \nL 625.612883 80.699408 \nL 629.106497 66.164649 \nL 632.60011 85.544328 \nL 636.093724 92.811708 \nL 639.587338 66.164649 \nL 643.080952 63.742204 \nL 646.574566 66.164649 \nL 650.068179 68.587109 \nL 653.561793 63.742204 \nL 657.055407 73.432029 \nL 660.549021 73.432029 \nL 664.042635 71.009554 \nL 667.536249 58.897255 \nL 671.029862 66.164649 \nL 674.523476 63.742204 \nL 678.01709 68.587109 \nL 681.510704 56.474809 \nL 685.004318 85.544328 \nL 688.497932 71.009554 \nL 691.991545 58.897255 \nL 695.485159 68.587109 \nL 698.978773 71.009554 \nL 702.472387 75.854503 \nL 705.966001 46.78497 \nL 709.459614 66.164649 \nL 712.953228 49.20743 \nL 716.446842 51.62989 \nL 719.940456 58.897255 \nL 723.43407 66.164649 \nL 726.927684 56.474809 \nL 730.421297 54.05235 \nL 733.914911 58.897255 \nL 737.408525 58.897255 \nL 740.902139 83.121854 \nL 744.395753 85.544328 \nL 747.889367 63.742204 \nL 751.38298 61.319729 \nL 754.876594 56.474809 \nL 758.370208 46.78497 \nL 761.863822 75.854503 \nL 765.357436 54.05235 \nL 768.851049 71.009554 \nL 772.344663 71.009554 \nL 775.838277 63.742204 \nL 779.331891 66.164649 \nL 782.825505 73.432029 \nL 786.319119 87.966803 \nL 789.812732 58.897255 \nL 793.306346 58.897255 \nL 796.79996 66.164649 \nL 800.293574 78.276949 \nL 803.787188 58.897255 \nL 807.280802 49.20743 \nL 810.774415 61.319729 \nL 814.268029 54.05235 \nL 817.761643 63.742204 \nL 821.255257 58.897255 \nL 824.748871 58.897255 \nL 828.242485 61.319729 \nL 831.736098 54.05235 \nL 835.229712 56.474809 \nL 838.723326 56.474809 \nL 842.21694 51.62989 \nL 845.710554 49.20743 \nL 849.204167 49.20743 \nL 852.697781 56.474809 \nL 856.191395 56.474809 \nL 859.685009 58.897255 \nL 863.178623 61.319729 \nL 866.672237 51.62989 \n\" style=\"fill:none;stroke:#ff7f0e;stroke-linecap:square;stroke-width:1.5;\"/>\n   </g>\n   <g id=\"line2d_43\">\n    <path clip-path=\"url(#p56617c9039)\" d=\"M 520.804468 95.234153 \nL 524.298082 75.854503 \nL 527.791696 71.009554 \nL 531.285309 83.121854 \nL 534.778923 68.587109 \nL 538.272537 68.587109 \nL 541.766151 78.276949 \nL 545.259765 78.276949 \nL 548.753379 73.432029 \nL 552.246992 85.544328 \nL 555.740606 71.009554 \nL 559.23422 66.164649 \nL 562.727834 73.432029 \nL 566.221448 80.699408 \nL 569.715062 83.121854 \nL 573.208675 66.164649 \nL 576.702289 73.432029 \nL 580.195903 83.121854 \nL 583.689517 73.432029 \nL 587.183131 80.699408 \nL 590.676744 66.164649 \nL 594.170358 58.897255 \nL 597.663972 66.164649 \nL 601.157586 63.742204 \nL 604.6512 66.164649 \nL 608.144814 68.587109 \nL 611.638427 63.742204 \nL 615.132041 66.164649 \nL 618.625655 63.742204 \nL 622.119269 109.768927 \nL 625.612883 66.164649 \nL 629.106497 68.587109 \nL 632.60011 73.432029 \nL 636.093724 85.544328 \nL 639.587338 58.897255 \nL 643.080952 63.742204 \nL 646.574566 58.897255 \nL 650.068179 63.742204 \nL 653.561793 63.742204 \nL 657.055407 58.897255 \nL 660.549021 54.05235 \nL 664.042635 54.05235 \nL 667.536249 63.742204 \nL 671.029862 63.742204 \nL 674.523476 37.09513 \nL 678.01709 73.432029 \nL 681.510704 58.897255 \nL 685.004318 61.319729 \nL 688.497932 73.432029 \nL 691.991545 83.121854 \nL 695.485159 61.319729 \nL 698.978773 61.319729 \nL 702.472387 46.78497 \nL 705.966001 61.319729 \nL 709.459614 83.121854 \nL 712.953228 51.62989 \nL 716.446842 61.319729 \nL 719.940456 75.854503 \nL 723.43407 63.742204 \nL 726.927684 51.62989 \nL 730.421297 49.20743 \nL 733.914911 68.587109 \nL 737.408525 78.276949 \nL 740.902139 51.62989 \nL 744.395753 37.09513 \nL 747.889367 46.78497 \nL 751.38298 71.009554 \nL 754.876594 54.05235 \nL 758.370208 58.897255 \nL 761.863822 61.319729 \nL 765.357436 66.164649 \nL 768.851049 41.94005 \nL 772.344663 54.05235 \nL 775.838277 39.51759 \nL 779.331891 34.67267 \nL 782.825505 61.319729 \nL 786.319119 44.36251 \nL 789.812732 54.05235 \nL 793.306346 41.94005 \nL 796.79996 61.319729 \nL 800.293574 56.474809 \nL 803.787188 68.587109 \nL 807.280802 56.474809 \nL 810.774415 51.62989 \nL 814.268029 83.121854 \nL 817.761643 49.20743 \nL 821.255257 78.276949 \nL 824.748871 46.78497 \nL 828.242485 46.78497 \nL 831.736098 44.36251 \nL 835.229712 49.20743 \nL 838.723326 58.897255 \nL 842.21694 66.164649 \nL 845.710554 46.78497 \nL 849.204167 56.474809 \nL 852.697781 66.164649 \nL 856.191395 63.742204 \nL 859.685009 51.62989 \nL 863.178623 61.319729 \nL 866.672237 49.20743 \n\" style=\"fill:none;stroke:#2ca02c;stroke-linecap:square;stroke-width:1.5;\"/>\n   </g>\n   <g id=\"line2d_44\">\n    <path clip-path=\"url(#p56617c9039)\" d=\"M 520.804468 158.218125 \nL 524.298082 80.699408 \nL 527.791696 112.191387 \nL 531.285309 75.854503 \nL 534.778923 87.966803 \nL 538.272537 75.854503 \nL 541.766151 73.432029 \nL 545.259765 73.432029 \nL 548.753379 68.587109 \nL 552.246992 63.742204 \nL 555.740606 68.587109 \nL 559.23422 75.854503 \nL 562.727834 78.276949 \nL 566.221448 78.276949 \nL 569.715062 83.121854 \nL 573.208675 73.432029 \nL 576.702289 75.854503 \nL 580.195903 78.276949 \nL 583.689517 78.276949 \nL 587.183131 83.121854 \nL 590.676744 75.854503 \nL 594.170358 75.854503 \nL 597.663972 75.854503 \nL 601.157586 80.699408 \nL 604.6512 78.276949 \nL 608.144814 80.699408 \nL 611.638427 78.276949 \nL 615.132041 73.432029 \nL 618.625655 78.276949 \nL 622.119269 78.276949 \nL 625.612883 78.276949 \nL 629.106497 80.699408 \nL 632.60011 75.854503 \nL 636.093724 80.699408 \nL 639.587338 83.121854 \nL 643.080952 78.276949 \nL 646.574566 83.121854 \nL 650.068179 80.699408 \nL 653.561793 83.121854 \nL 657.055407 78.276949 \nL 660.549021 80.699408 \nL 664.042635 73.432029 \nL 667.536249 87.966803 \nL 671.029862 73.432029 \nL 674.523476 83.121854 \nL 678.01709 75.854503 \nL 681.510704 73.432029 \nL 685.004318 80.699408 \nL 688.497932 78.276949 \nL 691.991545 68.587109 \nL 695.485159 83.121854 \nL 698.978773 73.432029 \nL 702.472387 83.121854 \nL 705.966001 87.966803 \nL 709.459614 78.276949 \nL 712.953228 80.699408 \nL 716.446842 78.276949 \nL 719.940456 68.587109 \nL 723.43407 80.699408 \nL 726.927684 75.854503 \nL 730.421297 75.854503 \nL 733.914911 78.276949 \nL 737.408525 83.121854 \nL 740.902139 73.432029 \nL 744.395753 80.699408 \nL 747.889367 73.432029 \nL 751.38298 73.432029 \nL 754.876594 78.276949 \nL 758.370208 68.587109 \nL 761.863822 71.009554 \nL 765.357436 75.854503 \nL 768.851049 75.854503 \nL 772.344663 75.854503 \nL 775.838277 73.432029 \nL 779.331891 63.742204 \nL 782.825505 63.742204 \nL 786.319119 71.009554 \nL 789.812732 68.587109 \nL 793.306346 63.742204 \nL 796.79996 68.587109 \nL 800.293574 66.164649 \nL 803.787188 66.164649 \nL 807.280802 73.432029 \nL 810.774415 66.164649 \nL 814.268029 73.432029 \nL 817.761643 66.164649 \nL 821.255257 68.587109 \nL 824.748871 90.389248 \nL 828.242485 68.587109 \nL 831.736098 75.854503 \nL 835.229712 68.587109 \nL 838.723326 71.009554 \nL 842.21694 66.164649 \nL 845.710554 56.474809 \nL 849.204167 78.276949 \nL 852.697781 78.276949 \nL 856.191395 63.742204 \nL 859.685009 78.276949 \nL 863.178623 66.164649 \nL 866.672237 68.587109 \n\" style=\"fill:none;stroke:#d62728;stroke-linecap:square;stroke-width:1.5;\"/>\n   </g>\n   <g id=\"line2d_45\">\n    <path clip-path=\"url(#p56617c9039)\" d=\"M 520.804468 281.76358 \nL 524.298082 206.667323 \nL 527.791696 150.950745 \nL 531.285309 136.415986 \nL 534.778923 136.415986 \nL 538.272537 133.993526 \nL 541.766151 126.726146 \nL 545.259765 131.571066 \nL 548.753379 129.148606 \nL 552.246992 124.303686 \nL 555.740606 124.303686 \nL 559.23422 126.726146 \nL 562.727834 126.726146 \nL 566.221448 126.726146 \nL 569.715062 119.458767 \nL 573.208675 112.191387 \nL 576.702289 104.924007 \nL 580.195903 95.234153 \nL 583.689517 95.234153 \nL 587.183131 92.811708 \nL 590.676744 87.966803 \nL 594.170358 83.121854 \nL 597.663972 85.544328 \nL 601.157586 90.389248 \nL 604.6512 87.966803 \nL 608.144814 87.966803 \nL 611.638427 90.389248 \nL 615.132041 90.389248 \nL 618.625655 90.389248 \nL 622.119269 83.121854 \nL 625.612883 83.121854 \nL 629.106497 83.121854 \nL 632.60011 85.544328 \nL 636.093724 85.544328 \nL 639.587338 83.121854 \nL 643.080952 83.121854 \nL 646.574566 83.121854 \nL 650.068179 83.121854 \nL 653.561793 83.121854 \nL 657.055407 83.121854 \nL 660.549021 80.699408 \nL 664.042635 78.276949 \nL 667.536249 71.009554 \nL 671.029862 71.009554 \nL 674.523476 71.009554 \nL 678.01709 68.587109 \nL 681.510704 68.587109 \nL 685.004318 66.164649 \nL 688.497932 63.742204 \nL 691.991545 63.742204 \nL 695.485159 63.742204 \nL 698.978773 58.897255 \nL 702.472387 56.474809 \nL 705.966001 56.474809 \nL 709.459614 58.897255 \nL 712.953228 61.319729 \nL 716.446842 58.897255 \nL 719.940456 61.319729 \nL 723.43407 71.009554 \nL 726.927684 75.854503 \nL 730.421297 73.432029 \nL 733.914911 71.009554 \nL 737.408525 66.164649 \nL 740.902139 71.009554 \nL 744.395753 71.009554 \nL 747.889367 73.432029 \nL 751.38298 73.432029 \nL 754.876594 73.432029 \nL 758.370208 78.276949 \nL 761.863822 75.854503 \nL 765.357436 75.854503 \nL 768.851049 73.432029 \nL 772.344663 71.009554 \nL 775.838277 68.587109 \nL 779.331891 68.587109 \nL 782.825505 68.587109 \nL 786.319119 68.587109 \nL 789.812732 71.009554 \nL 793.306346 71.009554 \nL 796.79996 73.432029 \nL 800.293574 73.432029 \nL 803.787188 73.432029 \nL 807.280802 78.276949 \nL 810.774415 75.854503 \nL 814.268029 73.432029 \nL 817.761643 73.432029 \nL 821.255257 75.854503 \nL 824.748871 75.854503 \nL 828.242485 78.276949 \nL 831.736098 75.854503 \nL 835.229712 78.276949 \nL 838.723326 78.276949 \nL 842.21694 78.276949 \nL 845.710554 80.699408 \nL 849.204167 80.699408 \nL 852.697781 80.699408 \nL 856.191395 80.699408 \nL 859.685009 78.276949 \nL 863.178623 78.276949 \nL 866.672237 78.276949 \n\" style=\"fill:none;stroke:#9467bd;stroke-linecap:square;stroke-width:1.5;\"/>\n   </g>\n   <g id=\"patch_9\">\n    <path d=\"M 503.51108 294.118125 \nL 503.51108 22.318125 \n\" style=\"fill:none;stroke:#000000;stroke-linecap:square;stroke-linejoin:miter;stroke-width:0.8;\"/>\n   </g>\n   <g id=\"patch_10\">\n    <path d=\"M 883.965625 294.118125 \nL 883.965625 22.318125 \n\" style=\"fill:none;stroke:#000000;stroke-linecap:square;stroke-linejoin:miter;stroke-width:0.8;\"/>\n   </g>\n   <g id=\"patch_11\">\n    <path d=\"M 503.51108 294.118125 \nL 883.965625 294.118125 \n\" style=\"fill:none;stroke:#000000;stroke-linecap:square;stroke-linejoin:miter;stroke-width:0.8;\"/>\n   </g>\n   <g id=\"patch_12\">\n    <path d=\"M 503.51108 22.318125 \nL 883.965625 22.318125 \n\" style=\"fill:none;stroke:#000000;stroke-linecap:square;stroke-linejoin:miter;stroke-width:0.8;\"/>\n   </g>\n   <g id=\"text_36\">\n    <!-- Test Accuracy -->\n    <defs>\n     <path d=\"M 56.203125 29.59375 \nL 56.203125 25.203125 \nL 14.890625 25.203125 \nQ 15.484375 15.921875 20.484375 11.0625 \nQ 25.484375 6.203125 34.421875 6.203125 \nQ 39.59375 6.203125 44.453125 7.46875 \nQ 49.3125 8.734375 54.109375 11.28125 \nL 54.109375 2.78125 \nQ 49.265625 0.734375 44.1875 -0.34375 \nQ 39.109375 -1.421875 33.890625 -1.421875 \nQ 20.796875 -1.421875 13.15625 6.1875 \nQ 5.515625 13.8125 5.515625 26.8125 \nQ 5.515625 40.234375 12.765625 48.109375 \nQ 20.015625 56 32.328125 56 \nQ 43.359375 56 49.78125 48.890625 \nQ 56.203125 41.796875 56.203125 29.59375 \nz\nM 47.21875 32.234375 \nQ 47.125 39.59375 43.09375 43.984375 \nQ 39.0625 48.390625 32.421875 48.390625 \nQ 24.90625 48.390625 20.390625 44.140625 \nQ 15.875 39.890625 15.1875 32.171875 \nz\n\" id=\"DejaVuSans-101\"/>\n     <path d=\"M 18.3125 70.21875 \nL 18.3125 54.6875 \nL 36.8125 54.6875 \nL 36.8125 47.703125 \nL 18.3125 47.703125 \nL 18.3125 18.015625 \nQ 18.3125 11.328125 20.140625 9.421875 \nQ 21.96875 7.515625 27.59375 7.515625 \nL 36.8125 7.515625 \nL 36.8125 0 \nL 27.59375 0 \nQ 17.1875 0 13.234375 3.875 \nQ 9.28125 7.765625 9.28125 18.015625 \nL 9.28125 47.703125 \nL 2.6875 47.703125 \nL 2.6875 54.6875 \nL 9.28125 54.6875 \nL 9.28125 70.21875 \nz\n\" id=\"DejaVuSans-116\"/>\n    </defs>\n    <g transform=\"translate(652.623352 16.318125)scale(0.12 -0.12)\">\n     <use xlink:href=\"#DejaVuSans-84\"/>\n     <use x=\"44.083984\" xlink:href=\"#DejaVuSans-101\"/>\n     <use x=\"105.607422\" xlink:href=\"#DejaVuSans-115\"/>\n     <use x=\"157.707031\" xlink:href=\"#DejaVuSans-116\"/>\n     <use x=\"196.916016\" xlink:href=\"#DejaVuSans-32\"/>\n     <use x=\"228.703125\" xlink:href=\"#DejaVuSans-65\"/>\n     <use x=\"295.361328\" xlink:href=\"#DejaVuSans-99\"/>\n     <use x=\"350.341797\" xlink:href=\"#DejaVuSans-99\"/>\n     <use x=\"405.322266\" xlink:href=\"#DejaVuSans-117\"/>\n     <use x=\"468.701172\" xlink:href=\"#DejaVuSans-114\"/>\n     <use x=\"509.814453\" xlink:href=\"#DejaVuSans-97\"/>\n     <use x=\"571.09375\" xlink:href=\"#DejaVuSans-99\"/>\n     <use x=\"626.074219\" xlink:href=\"#DejaVuSans-121\"/>\n    </g>\n   </g>\n   <g id=\"legend_2\">\n    <g id=\"patch_13\">\n     <path d=\"M 825.878125 289.118125 \nL 876.965625 289.118125 \nQ 878.965625 289.118125 878.965625 287.118125 \nL 878.965625 214.7275 \nQ 878.965625 212.7275 876.965625 212.7275 \nL 825.878125 212.7275 \nQ 823.878125 212.7275 823.878125 214.7275 \nL 823.878125 287.118125 \nQ 823.878125 289.118125 825.878125 289.118125 \nz\n\" style=\"fill:#ffffff;opacity:0.8;stroke:#cccccc;stroke-linejoin:miter;\"/>\n    </g>\n    <g id=\"line2d_46\">\n     <path d=\"M 827.878125 220.825938 \nL 847.878125 220.825938 \n\" style=\"fill:none;stroke:#1f77b4;stroke-linecap:square;stroke-width:1.5;\"/>\n    </g>\n    <g id=\"line2d_47\"/>\n    <g id=\"text_37\">\n     <!-- 2 -->\n     <g transform=\"translate(855.878125 224.325938)scale(0.1 -0.1)\">\n      <use xlink:href=\"#DejaVuSans-50\"/>\n     </g>\n    </g>\n    <g id=\"line2d_48\">\n     <path d=\"M 827.878125 235.504063 \nL 847.878125 235.504063 \n\" style=\"fill:none;stroke:#ff7f0e;stroke-linecap:square;stroke-width:1.5;\"/>\n    </g>\n    <g id=\"line2d_49\"/>\n    <g id=\"text_38\">\n     <!-- 8 -->\n     <g transform=\"translate(855.878125 239.004063)scale(0.1 -0.1)\">\n      <use xlink:href=\"#DejaVuSans-56\"/>\n     </g>\n    </g>\n    <g id=\"line2d_50\">\n     <path d=\"M 827.878125 250.182187 \nL 847.878125 250.182187 \n\" style=\"fill:none;stroke:#2ca02c;stroke-linecap:square;stroke-width:1.5;\"/>\n    </g>\n    <g id=\"line2d_51\"/>\n    <g id=\"text_39\">\n     <!-- 32 -->\n     <g transform=\"translate(855.878125 253.682187)scale(0.1 -0.1)\">\n      <use xlink:href=\"#DejaVuSans-51\"/>\n      <use x=\"63.623047\" xlink:href=\"#DejaVuSans-50\"/>\n     </g>\n    </g>\n    <g id=\"line2d_52\">\n     <path d=\"M 827.878125 264.860313 \nL 847.878125 264.860313 \n\" style=\"fill:none;stroke:#d62728;stroke-linecap:square;stroke-width:1.5;\"/>\n    </g>\n    <g id=\"line2d_53\"/>\n    <g id=\"text_40\">\n     <!-- 128 -->\n     <g transform=\"translate(855.878125 268.360313)scale(0.1 -0.1)\">\n      <use xlink:href=\"#DejaVuSans-49\"/>\n      <use x=\"63.623047\" xlink:href=\"#DejaVuSans-50\"/>\n      <use x=\"127.246094\" xlink:href=\"#DejaVuSans-56\"/>\n     </g>\n    </g>\n    <g id=\"line2d_54\">\n     <path d=\"M 827.878125 279.538437 \nL 847.878125 279.538437 \n\" style=\"fill:none;stroke:#9467bd;stroke-linecap:square;stroke-width:1.5;\"/>\n    </g>\n    <g id=\"line2d_55\"/>\n    <g id=\"text_41\">\n     <!-- 512 -->\n     <g transform=\"translate(855.878125 283.038437)scale(0.1 -0.1)\">\n      <use xlink:href=\"#DejaVuSans-53\"/>\n      <use x=\"63.623047\" xlink:href=\"#DejaVuSans-49\"/>\n      <use x=\"127.246094\" xlink:href=\"#DejaVuSans-50\"/>\n     </g>\n    </g>\n   </g>\n  </g>\n </g>\n <defs>\n  <clipPath id=\"p9a78732bed\">\n   <rect height=\"271.8\" width=\"380.454545\" x=\"46.965625\" y=\"22.318125\"/>\n  </clipPath>\n  <clipPath id=\"p56617c9039\">\n   <rect height=\"271.8\" width=\"380.454545\" x=\"503.51108\" y=\"22.318125\"/>\n  </clipPath>\n </defs>\n</svg>\n"
          },
          "metadata": {
            "needs_background": "light"
          }
        }
      ]
    },
    {
      "cell_type": "code",
      "source": [
        "testacc"
      ],
      "metadata": {
        "colab": {
          "base_uri": "https://localhost:8080/"
        },
        "id": "YUddRICtZrVw",
        "outputId": "b1ad6d8c-b000-45b8-d6c5-61d37e91f1e4"
      },
      "execution_count": 246,
      "outputs": [
        {
          "output_type": "execute_result",
          "data": {
            "text/plain": [
              "array([[56.87500381, 60.625     , 53.75000381, 37.5       ,  5.625     ],\n",
              "       [58.125     , 57.5       , 58.74999619, 57.5       , 25.        ],\n",
              "       [53.125     , 59.375     , 60.00000381, 49.375     , 39.375     ],\n",
              "       [56.25      , 61.25      , 56.87500381, 58.74999619, 43.125     ],\n",
              "       [58.74999619, 60.00000381, 60.625     , 55.62499619, 43.125     ],\n",
              "       [58.74999619, 58.74999619, 60.625     , 58.74999619, 43.75      ],\n",
              "       [62.5       , 57.5       , 58.125     , 59.375     , 45.625     ],\n",
              "       [52.49999619, 62.5       , 58.125     , 59.375     , 44.375     ],\n",
              "       [58.125     , 57.5       , 59.375     , 60.625     , 45.        ],\n",
              "       [53.75000381, 62.5       , 56.25      , 61.87499619, 46.25      ],\n",
              "       [56.25      , 60.00000381, 60.00000381, 60.625     , 46.25      ],\n",
              "       [58.125     , 58.125     , 61.25      , 58.74999619, 45.625     ],\n",
              "       [56.25      , 56.25      , 59.375     , 58.125     , 45.625     ],\n",
              "       [55.62499619, 57.5       , 57.5       , 58.125     , 45.625     ],\n",
              "       [58.125     , 64.375     , 56.87500381, 56.87500381, 47.5       ],\n",
              "       [57.5       , 58.74999619, 61.25      , 59.375     , 49.375     ],\n",
              "       [59.375     , 60.00000381, 59.375     , 58.74999619, 51.25      ],\n",
              "       [61.87499619, 65.        , 56.87500381, 58.125     , 53.75000381],\n",
              "       [56.87500381, 61.25      , 59.375     , 58.125     , 53.75000381],\n",
              "       [60.625     , 58.125     , 57.5       , 56.87500381, 54.375     ],\n",
              "       [60.625     , 58.74999619, 61.25      , 58.74999619, 55.62499619],\n",
              "       [59.375     , 61.25      , 63.12500381, 58.74999619, 56.87500381],\n",
              "       [66.25      , 60.00000381, 61.25      , 58.74999619, 56.25      ],\n",
              "       [60.00000381, 62.5       , 61.87499619, 57.5       , 55.        ],\n",
              "       [62.5       , 65.625     , 61.25      , 58.125     , 55.62499619],\n",
              "       [63.12500381, 63.75      , 60.625     , 57.5       , 55.62499619],\n",
              "       [63.75      , 59.375     , 61.87499619, 58.125     , 55.        ],\n",
              "       [60.625     , 65.625     , 61.25      , 59.375     , 55.        ],\n",
              "       [56.25      , 60.625     , 61.87499619, 58.125     , 55.        ],\n",
              "       [56.87500381, 65.        , 50.        , 58.125     , 56.87500381],\n",
              "       [58.74999619, 57.5       , 61.25      , 58.125     , 56.87500381],\n",
              "       [57.5       , 61.25      , 60.625     , 57.5       , 56.87500381],\n",
              "       [61.25      , 56.25      , 59.375     , 58.74999619, 56.25      ],\n",
              "       [60.00000381, 54.375     , 56.25      , 57.5       , 56.25      ],\n",
              "       [63.12500381, 61.25      , 63.12500381, 56.87500381, 56.87500381],\n",
              "       [63.75      , 61.87499619, 61.87499619, 58.125     , 56.87500381],\n",
              "       [59.375     , 61.25      , 63.12500381, 56.87500381, 56.87500381],\n",
              "       [58.125     , 60.625     , 61.87499619, 57.5       , 56.87500381],\n",
              "       [60.625     , 61.87499619, 61.87499619, 56.87500381, 56.87500381],\n",
              "       [56.87500381, 59.375     , 63.12500381, 58.125     , 56.87500381],\n",
              "       [61.87499619, 59.375     , 64.375     , 57.5       , 57.5       ],\n",
              "       [64.375     , 60.00000381, 64.375     , 59.375     , 58.125     ],\n",
              "       [61.25      , 63.12500381, 61.87499619, 55.62499619, 60.00000381],\n",
              "       [61.25      , 61.25      , 61.87499619, 59.375     , 60.00000381],\n",
              "       [60.625     , 61.87499619, 68.75      , 56.87500381, 60.00000381],\n",
              "       [63.12500381, 60.625     , 59.375     , 58.74999619, 60.625     ],\n",
              "       [65.        , 63.75      , 63.12500381, 59.375     , 60.625     ],\n",
              "       [60.625     , 56.25      , 62.5       , 57.5       , 61.25      ],\n",
              "       [59.375     , 60.00000381, 59.375     , 58.125     , 61.87499619],\n",
              "       [61.25      , 63.12500381, 56.87500381, 60.625     , 61.87499619],\n",
              "       [58.74999619, 60.625     , 62.5       , 56.87500381, 61.87499619],\n",
              "       [60.625     , 60.00000381, 62.5       , 59.375     , 63.12500381],\n",
              "       [60.00000381, 58.74999619, 66.25      , 56.87500381, 63.75      ],\n",
              "       [55.62499619, 66.25      , 62.5       , 55.62499619, 63.75      ],\n",
              "       [59.375     , 61.25      , 56.87500381, 58.125     , 63.12500381],\n",
              "       [56.25      , 65.625     , 65.        , 57.5       , 62.5       ],\n",
              "       [58.74999619, 65.        , 62.5       , 58.125     , 63.12500381],\n",
              "       [58.125     , 63.12500381, 58.74999619, 60.625     , 62.5       ],\n",
              "       [58.125     , 61.25      , 61.87499619, 57.5       , 60.00000381],\n",
              "       [61.87499619, 63.75      , 65.        , 58.74999619, 58.74999619],\n",
              "       [61.87499619, 64.375     , 65.625     , 58.74999619, 59.375     ],\n",
              "       [48.75      , 63.12500381, 60.625     , 58.125     , 60.00000381],\n",
              "       [60.625     , 63.12500381, 58.125     , 56.87500381, 61.25      ],\n",
              "       [55.62499619, 56.87500381, 65.        , 59.375     , 60.00000381],\n",
              "       [57.5       , 56.25      , 68.75      , 57.5       , 60.00000381],\n",
              "       [56.87500381, 61.87499619, 66.25      , 59.375     , 59.375     ],\n",
              "       [56.87500381, 62.5       , 60.00000381, 59.375     , 59.375     ],\n",
              "       [58.74999619, 63.75      , 64.375     , 58.125     , 59.375     ],\n",
              "       [53.125     , 66.25      , 63.12500381, 60.625     , 58.125     ],\n",
              "       [53.125     , 58.74999619, 62.5       , 60.00000381, 58.74999619],\n",
              "       [62.5       , 64.375     , 61.25      , 58.74999619, 58.74999619],\n",
              "       [58.125     , 60.00000381, 67.5       , 58.74999619, 59.375     ],\n",
              "       [58.74999619, 60.00000381, 64.375     , 58.74999619, 60.00000381],\n",
              "       [53.125     , 61.87499619, 68.125     , 59.375     , 60.625     ],\n",
              "       [53.125     , 61.25      , 69.375     , 61.87499619, 60.625     ],\n",
              "       [60.625     , 59.375     , 62.5       , 61.87499619, 60.625     ],\n",
              "       [56.25      , 55.62499619, 66.875     , 60.00000381, 60.625     ],\n",
              "       [56.25      , 63.12500381, 64.375     , 60.625     , 60.00000381],\n",
              "       [54.375     , 63.12500381, 67.5       , 61.87499619, 60.00000381],\n",
              "       [58.74999619, 61.25      , 62.5       , 60.625     , 59.375     ],\n",
              "       [48.125     , 58.125     , 63.75      , 61.25      , 59.375     ],\n",
              "       [53.75000381, 63.12500381, 60.625     , 61.25      , 59.375     ],\n",
              "       [53.125     , 65.625     , 63.75      , 59.375     , 58.125     ],\n",
              "       [62.5       , 62.5       , 65.        , 61.25      , 58.74999619],\n",
              "       [56.87500381, 64.375     , 56.87500381, 59.375     , 59.375     ],\n",
              "       [57.5       , 61.87499619, 65.625     , 61.25      , 59.375     ],\n",
              "       [58.74999619, 63.12500381, 58.125     , 60.625     , 58.74999619],\n",
              "       [55.62499619, 63.12500381, 66.25      , 55.        , 58.74999619],\n",
              "       [49.375     , 62.5       , 66.25      , 60.625     , 58.125     ],\n",
              "       [58.125     , 64.375     , 66.875     , 58.74999619, 58.74999619],\n",
              "       [58.125     , 63.75      , 65.625     , 60.625     , 58.125     ],\n",
              "       [59.375     , 63.75      , 63.12500381, 60.00000381, 58.125     ],\n",
              "       [52.49999619, 65.        , 61.25      , 61.25      , 58.125     ],\n",
              "       [56.25      , 65.625     , 66.25      , 63.75      , 57.5       ],\n",
              "       [58.74999619, 65.625     , 63.75      , 58.125     , 57.5       ],\n",
              "       [58.74999619, 63.75      , 61.25      , 58.125     , 57.5       ],\n",
              "       [66.875     , 63.75      , 61.87499619, 61.87499619, 57.5       ],\n",
              "       [58.74999619, 63.12500381, 65.        , 58.125     , 58.125     ],\n",
              "       [56.87500381, 62.5       , 62.5       , 61.25      , 58.125     ],\n",
              "       [56.87500381, 65.        , 65.625     , 60.625     , 58.125     ]])"
            ]
          },
          "metadata": {},
          "execution_count": 246
        }
      ]
    },
    {
      "cell_type": "code",
      "source": [
        "trainacc[49,:]"
      ],
      "metadata": {
        "colab": {
          "base_uri": "https://localhost:8080/"
        },
        "id": "orZN9jrNT6qD",
        "outputId": "8b0b0976-0454-40d4-be15-aef35402cb85"
      },
      "execution_count": 247,
      "outputs": [
        {
          "output_type": "execute_result",
          "data": {
            "text/plain": [
              "array([72.04450626, 91.68994413, 78.19602273, 65.55397727, 59.375     ])"
            ]
          },
          "metadata": {},
          "execution_count": 247
        }
      ]
    },
    {
      "cell_type": "code",
      "source": [
        ""
      ],
      "metadata": {
        "id": "gRGUqUL4UsyE"
      },
      "execution_count": 247,
      "outputs": []
    }
  ]
}