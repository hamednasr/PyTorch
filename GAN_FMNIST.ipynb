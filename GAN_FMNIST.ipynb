{
  "nbformat": 4,
  "nbformat_minor": 0,
  "metadata": {
    "colab": {
      "provenance": [],
      "collapsed_sections": [],
      "include_colab_link": true
    },
    "kernelspec": {
      "name": "python3",
      "display_name": "Python 3"
    },
    "language_info": {
      "name": "python"
    },
    "accelerator": "GPU",
    "widgets": {
      "application/vnd.jupyter.widget-state+json": {
        "cf747f61844e43d8b9ef0279da206568": {
          "model_module": "@jupyter-widgets/controls",
          "model_name": "HBoxModel",
          "model_module_version": "1.5.0",
          "state": {
            "_dom_classes": [],
            "_model_module": "@jupyter-widgets/controls",
            "_model_module_version": "1.5.0",
            "_model_name": "HBoxModel",
            "_view_count": null,
            "_view_module": "@jupyter-widgets/controls",
            "_view_module_version": "1.5.0",
            "_view_name": "HBoxView",
            "box_style": "",
            "children": [
              "IPY_MODEL_3348f83258ef4028b55a90a6085cdad9",
              "IPY_MODEL_8b87f4b698664673856149a6b7b293db",
              "IPY_MODEL_13e2d5330cc840d1a2e897c6c6328355"
            ],
            "layout": "IPY_MODEL_470ed7728d194d45b4c3e2f6770bbe91"
          }
        },
        "3348f83258ef4028b55a90a6085cdad9": {
          "model_module": "@jupyter-widgets/controls",
          "model_name": "HTMLModel",
          "model_module_version": "1.5.0",
          "state": {
            "_dom_classes": [],
            "_model_module": "@jupyter-widgets/controls",
            "_model_module_version": "1.5.0",
            "_model_name": "HTMLModel",
            "_view_count": null,
            "_view_module": "@jupyter-widgets/controls",
            "_view_module_version": "1.5.0",
            "_view_name": "HTMLView",
            "description": "",
            "description_tooltip": null,
            "layout": "IPY_MODEL_0185e514f46445fd9face939ea8dfdcd",
            "placeholder": "​",
            "style": "IPY_MODEL_c1b32d7e8ea247d097b4b52b9f927c57",
            "value": "100%"
          }
        },
        "8b87f4b698664673856149a6b7b293db": {
          "model_module": "@jupyter-widgets/controls",
          "model_name": "FloatProgressModel",
          "model_module_version": "1.5.0",
          "state": {
            "_dom_classes": [],
            "_model_module": "@jupyter-widgets/controls",
            "_model_module_version": "1.5.0",
            "_model_name": "FloatProgressModel",
            "_view_count": null,
            "_view_module": "@jupyter-widgets/controls",
            "_view_module_version": "1.5.0",
            "_view_name": "ProgressView",
            "bar_style": "success",
            "description": "",
            "description_tooltip": null,
            "layout": "IPY_MODEL_07dbaafd1a6f4386b896c7a4cae1f347",
            "max": 26421880,
            "min": 0,
            "orientation": "horizontal",
            "style": "IPY_MODEL_97800b09a05843db9efef43368cc458c",
            "value": 26421880
          }
        },
        "13e2d5330cc840d1a2e897c6c6328355": {
          "model_module": "@jupyter-widgets/controls",
          "model_name": "HTMLModel",
          "model_module_version": "1.5.0",
          "state": {
            "_dom_classes": [],
            "_model_module": "@jupyter-widgets/controls",
            "_model_module_version": "1.5.0",
            "_model_name": "HTMLModel",
            "_view_count": null,
            "_view_module": "@jupyter-widgets/controls",
            "_view_module_version": "1.5.0",
            "_view_name": "HTMLView",
            "description": "",
            "description_tooltip": null,
            "layout": "IPY_MODEL_bd1fd4812aaa43d2b8a13d4b1abc2b96",
            "placeholder": "​",
            "style": "IPY_MODEL_6bb0dfa48d644b8d84442e3423c00cfc",
            "value": " 26421880/26421880 [00:01&lt;00:00, 25162573.45it/s]"
          }
        },
        "470ed7728d194d45b4c3e2f6770bbe91": {
          "model_module": "@jupyter-widgets/base",
          "model_name": "LayoutModel",
          "model_module_version": "1.2.0",
          "state": {
            "_model_module": "@jupyter-widgets/base",
            "_model_module_version": "1.2.0",
            "_model_name": "LayoutModel",
            "_view_count": null,
            "_view_module": "@jupyter-widgets/base",
            "_view_module_version": "1.2.0",
            "_view_name": "LayoutView",
            "align_content": null,
            "align_items": null,
            "align_self": null,
            "border": null,
            "bottom": null,
            "display": null,
            "flex": null,
            "flex_flow": null,
            "grid_area": null,
            "grid_auto_columns": null,
            "grid_auto_flow": null,
            "grid_auto_rows": null,
            "grid_column": null,
            "grid_gap": null,
            "grid_row": null,
            "grid_template_areas": null,
            "grid_template_columns": null,
            "grid_template_rows": null,
            "height": null,
            "justify_content": null,
            "justify_items": null,
            "left": null,
            "margin": null,
            "max_height": null,
            "max_width": null,
            "min_height": null,
            "min_width": null,
            "object_fit": null,
            "object_position": null,
            "order": null,
            "overflow": null,
            "overflow_x": null,
            "overflow_y": null,
            "padding": null,
            "right": null,
            "top": null,
            "visibility": null,
            "width": null
          }
        },
        "0185e514f46445fd9face939ea8dfdcd": {
          "model_module": "@jupyter-widgets/base",
          "model_name": "LayoutModel",
          "model_module_version": "1.2.0",
          "state": {
            "_model_module": "@jupyter-widgets/base",
            "_model_module_version": "1.2.0",
            "_model_name": "LayoutModel",
            "_view_count": null,
            "_view_module": "@jupyter-widgets/base",
            "_view_module_version": "1.2.0",
            "_view_name": "LayoutView",
            "align_content": null,
            "align_items": null,
            "align_self": null,
            "border": null,
            "bottom": null,
            "display": null,
            "flex": null,
            "flex_flow": null,
            "grid_area": null,
            "grid_auto_columns": null,
            "grid_auto_flow": null,
            "grid_auto_rows": null,
            "grid_column": null,
            "grid_gap": null,
            "grid_row": null,
            "grid_template_areas": null,
            "grid_template_columns": null,
            "grid_template_rows": null,
            "height": null,
            "justify_content": null,
            "justify_items": null,
            "left": null,
            "margin": null,
            "max_height": null,
            "max_width": null,
            "min_height": null,
            "min_width": null,
            "object_fit": null,
            "object_position": null,
            "order": null,
            "overflow": null,
            "overflow_x": null,
            "overflow_y": null,
            "padding": null,
            "right": null,
            "top": null,
            "visibility": null,
            "width": null
          }
        },
        "c1b32d7e8ea247d097b4b52b9f927c57": {
          "model_module": "@jupyter-widgets/controls",
          "model_name": "DescriptionStyleModel",
          "model_module_version": "1.5.0",
          "state": {
            "_model_module": "@jupyter-widgets/controls",
            "_model_module_version": "1.5.0",
            "_model_name": "DescriptionStyleModel",
            "_view_count": null,
            "_view_module": "@jupyter-widgets/base",
            "_view_module_version": "1.2.0",
            "_view_name": "StyleView",
            "description_width": ""
          }
        },
        "07dbaafd1a6f4386b896c7a4cae1f347": {
          "model_module": "@jupyter-widgets/base",
          "model_name": "LayoutModel",
          "model_module_version": "1.2.0",
          "state": {
            "_model_module": "@jupyter-widgets/base",
            "_model_module_version": "1.2.0",
            "_model_name": "LayoutModel",
            "_view_count": null,
            "_view_module": "@jupyter-widgets/base",
            "_view_module_version": "1.2.0",
            "_view_name": "LayoutView",
            "align_content": null,
            "align_items": null,
            "align_self": null,
            "border": null,
            "bottom": null,
            "display": null,
            "flex": null,
            "flex_flow": null,
            "grid_area": null,
            "grid_auto_columns": null,
            "grid_auto_flow": null,
            "grid_auto_rows": null,
            "grid_column": null,
            "grid_gap": null,
            "grid_row": null,
            "grid_template_areas": null,
            "grid_template_columns": null,
            "grid_template_rows": null,
            "height": null,
            "justify_content": null,
            "justify_items": null,
            "left": null,
            "margin": null,
            "max_height": null,
            "max_width": null,
            "min_height": null,
            "min_width": null,
            "object_fit": null,
            "object_position": null,
            "order": null,
            "overflow": null,
            "overflow_x": null,
            "overflow_y": null,
            "padding": null,
            "right": null,
            "top": null,
            "visibility": null,
            "width": null
          }
        },
        "97800b09a05843db9efef43368cc458c": {
          "model_module": "@jupyter-widgets/controls",
          "model_name": "ProgressStyleModel",
          "model_module_version": "1.5.0",
          "state": {
            "_model_module": "@jupyter-widgets/controls",
            "_model_module_version": "1.5.0",
            "_model_name": "ProgressStyleModel",
            "_view_count": null,
            "_view_module": "@jupyter-widgets/base",
            "_view_module_version": "1.2.0",
            "_view_name": "StyleView",
            "bar_color": null,
            "description_width": ""
          }
        },
        "bd1fd4812aaa43d2b8a13d4b1abc2b96": {
          "model_module": "@jupyter-widgets/base",
          "model_name": "LayoutModel",
          "model_module_version": "1.2.0",
          "state": {
            "_model_module": "@jupyter-widgets/base",
            "_model_module_version": "1.2.0",
            "_model_name": "LayoutModel",
            "_view_count": null,
            "_view_module": "@jupyter-widgets/base",
            "_view_module_version": "1.2.0",
            "_view_name": "LayoutView",
            "align_content": null,
            "align_items": null,
            "align_self": null,
            "border": null,
            "bottom": null,
            "display": null,
            "flex": null,
            "flex_flow": null,
            "grid_area": null,
            "grid_auto_columns": null,
            "grid_auto_flow": null,
            "grid_auto_rows": null,
            "grid_column": null,
            "grid_gap": null,
            "grid_row": null,
            "grid_template_areas": null,
            "grid_template_columns": null,
            "grid_template_rows": null,
            "height": null,
            "justify_content": null,
            "justify_items": null,
            "left": null,
            "margin": null,
            "max_height": null,
            "max_width": null,
            "min_height": null,
            "min_width": null,
            "object_fit": null,
            "object_position": null,
            "order": null,
            "overflow": null,
            "overflow_x": null,
            "overflow_y": null,
            "padding": null,
            "right": null,
            "top": null,
            "visibility": null,
            "width": null
          }
        },
        "6bb0dfa48d644b8d84442e3423c00cfc": {
          "model_module": "@jupyter-widgets/controls",
          "model_name": "DescriptionStyleModel",
          "model_module_version": "1.5.0",
          "state": {
            "_model_module": "@jupyter-widgets/controls",
            "_model_module_version": "1.5.0",
            "_model_name": "DescriptionStyleModel",
            "_view_count": null,
            "_view_module": "@jupyter-widgets/base",
            "_view_module_version": "1.2.0",
            "_view_name": "StyleView",
            "description_width": ""
          }
        },
        "51c24a962a0840ab9f16a0515e56f020": {
          "model_module": "@jupyter-widgets/controls",
          "model_name": "HBoxModel",
          "model_module_version": "1.5.0",
          "state": {
            "_dom_classes": [],
            "_model_module": "@jupyter-widgets/controls",
            "_model_module_version": "1.5.0",
            "_model_name": "HBoxModel",
            "_view_count": null,
            "_view_module": "@jupyter-widgets/controls",
            "_view_module_version": "1.5.0",
            "_view_name": "HBoxView",
            "box_style": "",
            "children": [
              "IPY_MODEL_1b28c57cd3634209b45d4750a0e9f73e",
              "IPY_MODEL_89af5587cb394f679dda716d9d2256d6",
              "IPY_MODEL_3806d48a72d648d7a8ccd0415c0bd801"
            ],
            "layout": "IPY_MODEL_5f92e9decc0841fd9cc01284a97d91cb"
          }
        },
        "1b28c57cd3634209b45d4750a0e9f73e": {
          "model_module": "@jupyter-widgets/controls",
          "model_name": "HTMLModel",
          "model_module_version": "1.5.0",
          "state": {
            "_dom_classes": [],
            "_model_module": "@jupyter-widgets/controls",
            "_model_module_version": "1.5.0",
            "_model_name": "HTMLModel",
            "_view_count": null,
            "_view_module": "@jupyter-widgets/controls",
            "_view_module_version": "1.5.0",
            "_view_name": "HTMLView",
            "description": "",
            "description_tooltip": null,
            "layout": "IPY_MODEL_0f6ec1122883423ba7636bc1d901b319",
            "placeholder": "​",
            "style": "IPY_MODEL_a8ebc7989d9e439bb1ee57e0d297e454",
            "value": "100%"
          }
        },
        "89af5587cb394f679dda716d9d2256d6": {
          "model_module": "@jupyter-widgets/controls",
          "model_name": "FloatProgressModel",
          "model_module_version": "1.5.0",
          "state": {
            "_dom_classes": [],
            "_model_module": "@jupyter-widgets/controls",
            "_model_module_version": "1.5.0",
            "_model_name": "FloatProgressModel",
            "_view_count": null,
            "_view_module": "@jupyter-widgets/controls",
            "_view_module_version": "1.5.0",
            "_view_name": "ProgressView",
            "bar_style": "success",
            "description": "",
            "description_tooltip": null,
            "layout": "IPY_MODEL_adf980ffe70b47d0847e13c183a85d58",
            "max": 29515,
            "min": 0,
            "orientation": "horizontal",
            "style": "IPY_MODEL_47720c57a55947ca84de923f0cd9c65b",
            "value": 29515
          }
        },
        "3806d48a72d648d7a8ccd0415c0bd801": {
          "model_module": "@jupyter-widgets/controls",
          "model_name": "HTMLModel",
          "model_module_version": "1.5.0",
          "state": {
            "_dom_classes": [],
            "_model_module": "@jupyter-widgets/controls",
            "_model_module_version": "1.5.0",
            "_model_name": "HTMLModel",
            "_view_count": null,
            "_view_module": "@jupyter-widgets/controls",
            "_view_module_version": "1.5.0",
            "_view_name": "HTMLView",
            "description": "",
            "description_tooltip": null,
            "layout": "IPY_MODEL_c151d3cc7b3a4685bbe8b1c75340d6c2",
            "placeholder": "​",
            "style": "IPY_MODEL_8c118c8692814f8cbd5ac23002aa0090",
            "value": " 29515/29515 [00:00&lt;00:00, 272929.04it/s]"
          }
        },
        "5f92e9decc0841fd9cc01284a97d91cb": {
          "model_module": "@jupyter-widgets/base",
          "model_name": "LayoutModel",
          "model_module_version": "1.2.0",
          "state": {
            "_model_module": "@jupyter-widgets/base",
            "_model_module_version": "1.2.0",
            "_model_name": "LayoutModel",
            "_view_count": null,
            "_view_module": "@jupyter-widgets/base",
            "_view_module_version": "1.2.0",
            "_view_name": "LayoutView",
            "align_content": null,
            "align_items": null,
            "align_self": null,
            "border": null,
            "bottom": null,
            "display": null,
            "flex": null,
            "flex_flow": null,
            "grid_area": null,
            "grid_auto_columns": null,
            "grid_auto_flow": null,
            "grid_auto_rows": null,
            "grid_column": null,
            "grid_gap": null,
            "grid_row": null,
            "grid_template_areas": null,
            "grid_template_columns": null,
            "grid_template_rows": null,
            "height": null,
            "justify_content": null,
            "justify_items": null,
            "left": null,
            "margin": null,
            "max_height": null,
            "max_width": null,
            "min_height": null,
            "min_width": null,
            "object_fit": null,
            "object_position": null,
            "order": null,
            "overflow": null,
            "overflow_x": null,
            "overflow_y": null,
            "padding": null,
            "right": null,
            "top": null,
            "visibility": null,
            "width": null
          }
        },
        "0f6ec1122883423ba7636bc1d901b319": {
          "model_module": "@jupyter-widgets/base",
          "model_name": "LayoutModel",
          "model_module_version": "1.2.0",
          "state": {
            "_model_module": "@jupyter-widgets/base",
            "_model_module_version": "1.2.0",
            "_model_name": "LayoutModel",
            "_view_count": null,
            "_view_module": "@jupyter-widgets/base",
            "_view_module_version": "1.2.0",
            "_view_name": "LayoutView",
            "align_content": null,
            "align_items": null,
            "align_self": null,
            "border": null,
            "bottom": null,
            "display": null,
            "flex": null,
            "flex_flow": null,
            "grid_area": null,
            "grid_auto_columns": null,
            "grid_auto_flow": null,
            "grid_auto_rows": null,
            "grid_column": null,
            "grid_gap": null,
            "grid_row": null,
            "grid_template_areas": null,
            "grid_template_columns": null,
            "grid_template_rows": null,
            "height": null,
            "justify_content": null,
            "justify_items": null,
            "left": null,
            "margin": null,
            "max_height": null,
            "max_width": null,
            "min_height": null,
            "min_width": null,
            "object_fit": null,
            "object_position": null,
            "order": null,
            "overflow": null,
            "overflow_x": null,
            "overflow_y": null,
            "padding": null,
            "right": null,
            "top": null,
            "visibility": null,
            "width": null
          }
        },
        "a8ebc7989d9e439bb1ee57e0d297e454": {
          "model_module": "@jupyter-widgets/controls",
          "model_name": "DescriptionStyleModel",
          "model_module_version": "1.5.0",
          "state": {
            "_model_module": "@jupyter-widgets/controls",
            "_model_module_version": "1.5.0",
            "_model_name": "DescriptionStyleModel",
            "_view_count": null,
            "_view_module": "@jupyter-widgets/base",
            "_view_module_version": "1.2.0",
            "_view_name": "StyleView",
            "description_width": ""
          }
        },
        "adf980ffe70b47d0847e13c183a85d58": {
          "model_module": "@jupyter-widgets/base",
          "model_name": "LayoutModel",
          "model_module_version": "1.2.0",
          "state": {
            "_model_module": "@jupyter-widgets/base",
            "_model_module_version": "1.2.0",
            "_model_name": "LayoutModel",
            "_view_count": null,
            "_view_module": "@jupyter-widgets/base",
            "_view_module_version": "1.2.0",
            "_view_name": "LayoutView",
            "align_content": null,
            "align_items": null,
            "align_self": null,
            "border": null,
            "bottom": null,
            "display": null,
            "flex": null,
            "flex_flow": null,
            "grid_area": null,
            "grid_auto_columns": null,
            "grid_auto_flow": null,
            "grid_auto_rows": null,
            "grid_column": null,
            "grid_gap": null,
            "grid_row": null,
            "grid_template_areas": null,
            "grid_template_columns": null,
            "grid_template_rows": null,
            "height": null,
            "justify_content": null,
            "justify_items": null,
            "left": null,
            "margin": null,
            "max_height": null,
            "max_width": null,
            "min_height": null,
            "min_width": null,
            "object_fit": null,
            "object_position": null,
            "order": null,
            "overflow": null,
            "overflow_x": null,
            "overflow_y": null,
            "padding": null,
            "right": null,
            "top": null,
            "visibility": null,
            "width": null
          }
        },
        "47720c57a55947ca84de923f0cd9c65b": {
          "model_module": "@jupyter-widgets/controls",
          "model_name": "ProgressStyleModel",
          "model_module_version": "1.5.0",
          "state": {
            "_model_module": "@jupyter-widgets/controls",
            "_model_module_version": "1.5.0",
            "_model_name": "ProgressStyleModel",
            "_view_count": null,
            "_view_module": "@jupyter-widgets/base",
            "_view_module_version": "1.2.0",
            "_view_name": "StyleView",
            "bar_color": null,
            "description_width": ""
          }
        },
        "c151d3cc7b3a4685bbe8b1c75340d6c2": {
          "model_module": "@jupyter-widgets/base",
          "model_name": "LayoutModel",
          "model_module_version": "1.2.0",
          "state": {
            "_model_module": "@jupyter-widgets/base",
            "_model_module_version": "1.2.0",
            "_model_name": "LayoutModel",
            "_view_count": null,
            "_view_module": "@jupyter-widgets/base",
            "_view_module_version": "1.2.0",
            "_view_name": "LayoutView",
            "align_content": null,
            "align_items": null,
            "align_self": null,
            "border": null,
            "bottom": null,
            "display": null,
            "flex": null,
            "flex_flow": null,
            "grid_area": null,
            "grid_auto_columns": null,
            "grid_auto_flow": null,
            "grid_auto_rows": null,
            "grid_column": null,
            "grid_gap": null,
            "grid_row": null,
            "grid_template_areas": null,
            "grid_template_columns": null,
            "grid_template_rows": null,
            "height": null,
            "justify_content": null,
            "justify_items": null,
            "left": null,
            "margin": null,
            "max_height": null,
            "max_width": null,
            "min_height": null,
            "min_width": null,
            "object_fit": null,
            "object_position": null,
            "order": null,
            "overflow": null,
            "overflow_x": null,
            "overflow_y": null,
            "padding": null,
            "right": null,
            "top": null,
            "visibility": null,
            "width": null
          }
        },
        "8c118c8692814f8cbd5ac23002aa0090": {
          "model_module": "@jupyter-widgets/controls",
          "model_name": "DescriptionStyleModel",
          "model_module_version": "1.5.0",
          "state": {
            "_model_module": "@jupyter-widgets/controls",
            "_model_module_version": "1.5.0",
            "_model_name": "DescriptionStyleModel",
            "_view_count": null,
            "_view_module": "@jupyter-widgets/base",
            "_view_module_version": "1.2.0",
            "_view_name": "StyleView",
            "description_width": ""
          }
        },
        "5b62d701a8ee49859e6d6e0dc72a5869": {
          "model_module": "@jupyter-widgets/controls",
          "model_name": "HBoxModel",
          "model_module_version": "1.5.0",
          "state": {
            "_dom_classes": [],
            "_model_module": "@jupyter-widgets/controls",
            "_model_module_version": "1.5.0",
            "_model_name": "HBoxModel",
            "_view_count": null,
            "_view_module": "@jupyter-widgets/controls",
            "_view_module_version": "1.5.0",
            "_view_name": "HBoxView",
            "box_style": "",
            "children": [
              "IPY_MODEL_d456069a3b8641baaf34510dc5931c17",
              "IPY_MODEL_c14c94479a4342e4bbfc3bb7680191d5",
              "IPY_MODEL_333c754055a347aebae813190883ae91"
            ],
            "layout": "IPY_MODEL_fc2d964f69de46e3a95024039da456ee"
          }
        },
        "d456069a3b8641baaf34510dc5931c17": {
          "model_module": "@jupyter-widgets/controls",
          "model_name": "HTMLModel",
          "model_module_version": "1.5.0",
          "state": {
            "_dom_classes": [],
            "_model_module": "@jupyter-widgets/controls",
            "_model_module_version": "1.5.0",
            "_model_name": "HTMLModel",
            "_view_count": null,
            "_view_module": "@jupyter-widgets/controls",
            "_view_module_version": "1.5.0",
            "_view_name": "HTMLView",
            "description": "",
            "description_tooltip": null,
            "layout": "IPY_MODEL_9d46946189124197b4de40dd8c095720",
            "placeholder": "​",
            "style": "IPY_MODEL_ac7f83265d06434596ee10bfe1a4e73c",
            "value": "100%"
          }
        },
        "c14c94479a4342e4bbfc3bb7680191d5": {
          "model_module": "@jupyter-widgets/controls",
          "model_name": "FloatProgressModel",
          "model_module_version": "1.5.0",
          "state": {
            "_dom_classes": [],
            "_model_module": "@jupyter-widgets/controls",
            "_model_module_version": "1.5.0",
            "_model_name": "FloatProgressModel",
            "_view_count": null,
            "_view_module": "@jupyter-widgets/controls",
            "_view_module_version": "1.5.0",
            "_view_name": "ProgressView",
            "bar_style": "success",
            "description": "",
            "description_tooltip": null,
            "layout": "IPY_MODEL_fc8983962da646c6b3c0df67e4cb6c71",
            "max": 4422102,
            "min": 0,
            "orientation": "horizontal",
            "style": "IPY_MODEL_2c4d41a1a69e423ca3bb3df0d3a122b3",
            "value": 4422102
          }
        },
        "333c754055a347aebae813190883ae91": {
          "model_module": "@jupyter-widgets/controls",
          "model_name": "HTMLModel",
          "model_module_version": "1.5.0",
          "state": {
            "_dom_classes": [],
            "_model_module": "@jupyter-widgets/controls",
            "_model_module_version": "1.5.0",
            "_model_name": "HTMLModel",
            "_view_count": null,
            "_view_module": "@jupyter-widgets/controls",
            "_view_module_version": "1.5.0",
            "_view_name": "HTMLView",
            "description": "",
            "description_tooltip": null,
            "layout": "IPY_MODEL_94bda3e0d0174fd7b9e5bb65c8c72c5b",
            "placeholder": "​",
            "style": "IPY_MODEL_31102567e8884b84a69e191d2feaa731",
            "value": " 4422102/4422102 [00:00&lt;00:00, 8605764.26it/s]"
          }
        },
        "fc2d964f69de46e3a95024039da456ee": {
          "model_module": "@jupyter-widgets/base",
          "model_name": "LayoutModel",
          "model_module_version": "1.2.0",
          "state": {
            "_model_module": "@jupyter-widgets/base",
            "_model_module_version": "1.2.0",
            "_model_name": "LayoutModel",
            "_view_count": null,
            "_view_module": "@jupyter-widgets/base",
            "_view_module_version": "1.2.0",
            "_view_name": "LayoutView",
            "align_content": null,
            "align_items": null,
            "align_self": null,
            "border": null,
            "bottom": null,
            "display": null,
            "flex": null,
            "flex_flow": null,
            "grid_area": null,
            "grid_auto_columns": null,
            "grid_auto_flow": null,
            "grid_auto_rows": null,
            "grid_column": null,
            "grid_gap": null,
            "grid_row": null,
            "grid_template_areas": null,
            "grid_template_columns": null,
            "grid_template_rows": null,
            "height": null,
            "justify_content": null,
            "justify_items": null,
            "left": null,
            "margin": null,
            "max_height": null,
            "max_width": null,
            "min_height": null,
            "min_width": null,
            "object_fit": null,
            "object_position": null,
            "order": null,
            "overflow": null,
            "overflow_x": null,
            "overflow_y": null,
            "padding": null,
            "right": null,
            "top": null,
            "visibility": null,
            "width": null
          }
        },
        "9d46946189124197b4de40dd8c095720": {
          "model_module": "@jupyter-widgets/base",
          "model_name": "LayoutModel",
          "model_module_version": "1.2.0",
          "state": {
            "_model_module": "@jupyter-widgets/base",
            "_model_module_version": "1.2.0",
            "_model_name": "LayoutModel",
            "_view_count": null,
            "_view_module": "@jupyter-widgets/base",
            "_view_module_version": "1.2.0",
            "_view_name": "LayoutView",
            "align_content": null,
            "align_items": null,
            "align_self": null,
            "border": null,
            "bottom": null,
            "display": null,
            "flex": null,
            "flex_flow": null,
            "grid_area": null,
            "grid_auto_columns": null,
            "grid_auto_flow": null,
            "grid_auto_rows": null,
            "grid_column": null,
            "grid_gap": null,
            "grid_row": null,
            "grid_template_areas": null,
            "grid_template_columns": null,
            "grid_template_rows": null,
            "height": null,
            "justify_content": null,
            "justify_items": null,
            "left": null,
            "margin": null,
            "max_height": null,
            "max_width": null,
            "min_height": null,
            "min_width": null,
            "object_fit": null,
            "object_position": null,
            "order": null,
            "overflow": null,
            "overflow_x": null,
            "overflow_y": null,
            "padding": null,
            "right": null,
            "top": null,
            "visibility": null,
            "width": null
          }
        },
        "ac7f83265d06434596ee10bfe1a4e73c": {
          "model_module": "@jupyter-widgets/controls",
          "model_name": "DescriptionStyleModel",
          "model_module_version": "1.5.0",
          "state": {
            "_model_module": "@jupyter-widgets/controls",
            "_model_module_version": "1.5.0",
            "_model_name": "DescriptionStyleModel",
            "_view_count": null,
            "_view_module": "@jupyter-widgets/base",
            "_view_module_version": "1.2.0",
            "_view_name": "StyleView",
            "description_width": ""
          }
        },
        "fc8983962da646c6b3c0df67e4cb6c71": {
          "model_module": "@jupyter-widgets/base",
          "model_name": "LayoutModel",
          "model_module_version": "1.2.0",
          "state": {
            "_model_module": "@jupyter-widgets/base",
            "_model_module_version": "1.2.0",
            "_model_name": "LayoutModel",
            "_view_count": null,
            "_view_module": "@jupyter-widgets/base",
            "_view_module_version": "1.2.0",
            "_view_name": "LayoutView",
            "align_content": null,
            "align_items": null,
            "align_self": null,
            "border": null,
            "bottom": null,
            "display": null,
            "flex": null,
            "flex_flow": null,
            "grid_area": null,
            "grid_auto_columns": null,
            "grid_auto_flow": null,
            "grid_auto_rows": null,
            "grid_column": null,
            "grid_gap": null,
            "grid_row": null,
            "grid_template_areas": null,
            "grid_template_columns": null,
            "grid_template_rows": null,
            "height": null,
            "justify_content": null,
            "justify_items": null,
            "left": null,
            "margin": null,
            "max_height": null,
            "max_width": null,
            "min_height": null,
            "min_width": null,
            "object_fit": null,
            "object_position": null,
            "order": null,
            "overflow": null,
            "overflow_x": null,
            "overflow_y": null,
            "padding": null,
            "right": null,
            "top": null,
            "visibility": null,
            "width": null
          }
        },
        "2c4d41a1a69e423ca3bb3df0d3a122b3": {
          "model_module": "@jupyter-widgets/controls",
          "model_name": "ProgressStyleModel",
          "model_module_version": "1.5.0",
          "state": {
            "_model_module": "@jupyter-widgets/controls",
            "_model_module_version": "1.5.0",
            "_model_name": "ProgressStyleModel",
            "_view_count": null,
            "_view_module": "@jupyter-widgets/base",
            "_view_module_version": "1.2.0",
            "_view_name": "StyleView",
            "bar_color": null,
            "description_width": ""
          }
        },
        "94bda3e0d0174fd7b9e5bb65c8c72c5b": {
          "model_module": "@jupyter-widgets/base",
          "model_name": "LayoutModel",
          "model_module_version": "1.2.0",
          "state": {
            "_model_module": "@jupyter-widgets/base",
            "_model_module_version": "1.2.0",
            "_model_name": "LayoutModel",
            "_view_count": null,
            "_view_module": "@jupyter-widgets/base",
            "_view_module_version": "1.2.0",
            "_view_name": "LayoutView",
            "align_content": null,
            "align_items": null,
            "align_self": null,
            "border": null,
            "bottom": null,
            "display": null,
            "flex": null,
            "flex_flow": null,
            "grid_area": null,
            "grid_auto_columns": null,
            "grid_auto_flow": null,
            "grid_auto_rows": null,
            "grid_column": null,
            "grid_gap": null,
            "grid_row": null,
            "grid_template_areas": null,
            "grid_template_columns": null,
            "grid_template_rows": null,
            "height": null,
            "justify_content": null,
            "justify_items": null,
            "left": null,
            "margin": null,
            "max_height": null,
            "max_width": null,
            "min_height": null,
            "min_width": null,
            "object_fit": null,
            "object_position": null,
            "order": null,
            "overflow": null,
            "overflow_x": null,
            "overflow_y": null,
            "padding": null,
            "right": null,
            "top": null,
            "visibility": null,
            "width": null
          }
        },
        "31102567e8884b84a69e191d2feaa731": {
          "model_module": "@jupyter-widgets/controls",
          "model_name": "DescriptionStyleModel",
          "model_module_version": "1.5.0",
          "state": {
            "_model_module": "@jupyter-widgets/controls",
            "_model_module_version": "1.5.0",
            "_model_name": "DescriptionStyleModel",
            "_view_count": null,
            "_view_module": "@jupyter-widgets/base",
            "_view_module_version": "1.2.0",
            "_view_name": "StyleView",
            "description_width": ""
          }
        },
        "e86d83bee7424d9a8285fd5637996843": {
          "model_module": "@jupyter-widgets/controls",
          "model_name": "HBoxModel",
          "model_module_version": "1.5.0",
          "state": {
            "_dom_classes": [],
            "_model_module": "@jupyter-widgets/controls",
            "_model_module_version": "1.5.0",
            "_model_name": "HBoxModel",
            "_view_count": null,
            "_view_module": "@jupyter-widgets/controls",
            "_view_module_version": "1.5.0",
            "_view_name": "HBoxView",
            "box_style": "",
            "children": [
              "IPY_MODEL_59e5bcdcbfe342679d90ba38e6efe7b4",
              "IPY_MODEL_62fd62768ad5413dab6fe73716870733",
              "IPY_MODEL_9fceaa2857694d83bade45cd48b80138"
            ],
            "layout": "IPY_MODEL_19b59d41891847b39a899f3dbc22543a"
          }
        },
        "59e5bcdcbfe342679d90ba38e6efe7b4": {
          "model_module": "@jupyter-widgets/controls",
          "model_name": "HTMLModel",
          "model_module_version": "1.5.0",
          "state": {
            "_dom_classes": [],
            "_model_module": "@jupyter-widgets/controls",
            "_model_module_version": "1.5.0",
            "_model_name": "HTMLModel",
            "_view_count": null,
            "_view_module": "@jupyter-widgets/controls",
            "_view_module_version": "1.5.0",
            "_view_name": "HTMLView",
            "description": "",
            "description_tooltip": null,
            "layout": "IPY_MODEL_fd5909bc4a3e47179651b7aa249fe59c",
            "placeholder": "​",
            "style": "IPY_MODEL_b5318764b4ab4ff7b38ff7b12b1442fa",
            "value": "100%"
          }
        },
        "62fd62768ad5413dab6fe73716870733": {
          "model_module": "@jupyter-widgets/controls",
          "model_name": "FloatProgressModel",
          "model_module_version": "1.5.0",
          "state": {
            "_dom_classes": [],
            "_model_module": "@jupyter-widgets/controls",
            "_model_module_version": "1.5.0",
            "_model_name": "FloatProgressModel",
            "_view_count": null,
            "_view_module": "@jupyter-widgets/controls",
            "_view_module_version": "1.5.0",
            "_view_name": "ProgressView",
            "bar_style": "success",
            "description": "",
            "description_tooltip": null,
            "layout": "IPY_MODEL_d243c77fd6ee42f39c392aa2042ed017",
            "max": 5148,
            "min": 0,
            "orientation": "horizontal",
            "style": "IPY_MODEL_354070fc84e6420c8bcf8f2903b5d58a",
            "value": 5148
          }
        },
        "9fceaa2857694d83bade45cd48b80138": {
          "model_module": "@jupyter-widgets/controls",
          "model_name": "HTMLModel",
          "model_module_version": "1.5.0",
          "state": {
            "_dom_classes": [],
            "_model_module": "@jupyter-widgets/controls",
            "_model_module_version": "1.5.0",
            "_model_name": "HTMLModel",
            "_view_count": null,
            "_view_module": "@jupyter-widgets/controls",
            "_view_module_version": "1.5.0",
            "_view_name": "HTMLView",
            "description": "",
            "description_tooltip": null,
            "layout": "IPY_MODEL_70e78cae402a422886a500b5ed56a541",
            "placeholder": "​",
            "style": "IPY_MODEL_acbf23336eb246dea3d9b0c0c31cdba4",
            "value": " 5148/5148 [00:00&lt;00:00, 151803.86it/s]"
          }
        },
        "19b59d41891847b39a899f3dbc22543a": {
          "model_module": "@jupyter-widgets/base",
          "model_name": "LayoutModel",
          "model_module_version": "1.2.0",
          "state": {
            "_model_module": "@jupyter-widgets/base",
            "_model_module_version": "1.2.0",
            "_model_name": "LayoutModel",
            "_view_count": null,
            "_view_module": "@jupyter-widgets/base",
            "_view_module_version": "1.2.0",
            "_view_name": "LayoutView",
            "align_content": null,
            "align_items": null,
            "align_self": null,
            "border": null,
            "bottom": null,
            "display": null,
            "flex": null,
            "flex_flow": null,
            "grid_area": null,
            "grid_auto_columns": null,
            "grid_auto_flow": null,
            "grid_auto_rows": null,
            "grid_column": null,
            "grid_gap": null,
            "grid_row": null,
            "grid_template_areas": null,
            "grid_template_columns": null,
            "grid_template_rows": null,
            "height": null,
            "justify_content": null,
            "justify_items": null,
            "left": null,
            "margin": null,
            "max_height": null,
            "max_width": null,
            "min_height": null,
            "min_width": null,
            "object_fit": null,
            "object_position": null,
            "order": null,
            "overflow": null,
            "overflow_x": null,
            "overflow_y": null,
            "padding": null,
            "right": null,
            "top": null,
            "visibility": null,
            "width": null
          }
        },
        "fd5909bc4a3e47179651b7aa249fe59c": {
          "model_module": "@jupyter-widgets/base",
          "model_name": "LayoutModel",
          "model_module_version": "1.2.0",
          "state": {
            "_model_module": "@jupyter-widgets/base",
            "_model_module_version": "1.2.0",
            "_model_name": "LayoutModel",
            "_view_count": null,
            "_view_module": "@jupyter-widgets/base",
            "_view_module_version": "1.2.0",
            "_view_name": "LayoutView",
            "align_content": null,
            "align_items": null,
            "align_self": null,
            "border": null,
            "bottom": null,
            "display": null,
            "flex": null,
            "flex_flow": null,
            "grid_area": null,
            "grid_auto_columns": null,
            "grid_auto_flow": null,
            "grid_auto_rows": null,
            "grid_column": null,
            "grid_gap": null,
            "grid_row": null,
            "grid_template_areas": null,
            "grid_template_columns": null,
            "grid_template_rows": null,
            "height": null,
            "justify_content": null,
            "justify_items": null,
            "left": null,
            "margin": null,
            "max_height": null,
            "max_width": null,
            "min_height": null,
            "min_width": null,
            "object_fit": null,
            "object_position": null,
            "order": null,
            "overflow": null,
            "overflow_x": null,
            "overflow_y": null,
            "padding": null,
            "right": null,
            "top": null,
            "visibility": null,
            "width": null
          }
        },
        "b5318764b4ab4ff7b38ff7b12b1442fa": {
          "model_module": "@jupyter-widgets/controls",
          "model_name": "DescriptionStyleModel",
          "model_module_version": "1.5.0",
          "state": {
            "_model_module": "@jupyter-widgets/controls",
            "_model_module_version": "1.5.0",
            "_model_name": "DescriptionStyleModel",
            "_view_count": null,
            "_view_module": "@jupyter-widgets/base",
            "_view_module_version": "1.2.0",
            "_view_name": "StyleView",
            "description_width": ""
          }
        },
        "d243c77fd6ee42f39c392aa2042ed017": {
          "model_module": "@jupyter-widgets/base",
          "model_name": "LayoutModel",
          "model_module_version": "1.2.0",
          "state": {
            "_model_module": "@jupyter-widgets/base",
            "_model_module_version": "1.2.0",
            "_model_name": "LayoutModel",
            "_view_count": null,
            "_view_module": "@jupyter-widgets/base",
            "_view_module_version": "1.2.0",
            "_view_name": "LayoutView",
            "align_content": null,
            "align_items": null,
            "align_self": null,
            "border": null,
            "bottom": null,
            "display": null,
            "flex": null,
            "flex_flow": null,
            "grid_area": null,
            "grid_auto_columns": null,
            "grid_auto_flow": null,
            "grid_auto_rows": null,
            "grid_column": null,
            "grid_gap": null,
            "grid_row": null,
            "grid_template_areas": null,
            "grid_template_columns": null,
            "grid_template_rows": null,
            "height": null,
            "justify_content": null,
            "justify_items": null,
            "left": null,
            "margin": null,
            "max_height": null,
            "max_width": null,
            "min_height": null,
            "min_width": null,
            "object_fit": null,
            "object_position": null,
            "order": null,
            "overflow": null,
            "overflow_x": null,
            "overflow_y": null,
            "padding": null,
            "right": null,
            "top": null,
            "visibility": null,
            "width": null
          }
        },
        "354070fc84e6420c8bcf8f2903b5d58a": {
          "model_module": "@jupyter-widgets/controls",
          "model_name": "ProgressStyleModel",
          "model_module_version": "1.5.0",
          "state": {
            "_model_module": "@jupyter-widgets/controls",
            "_model_module_version": "1.5.0",
            "_model_name": "ProgressStyleModel",
            "_view_count": null,
            "_view_module": "@jupyter-widgets/base",
            "_view_module_version": "1.2.0",
            "_view_name": "StyleView",
            "bar_color": null,
            "description_width": ""
          }
        },
        "70e78cae402a422886a500b5ed56a541": {
          "model_module": "@jupyter-widgets/base",
          "model_name": "LayoutModel",
          "model_module_version": "1.2.0",
          "state": {
            "_model_module": "@jupyter-widgets/base",
            "_model_module_version": "1.2.0",
            "_model_name": "LayoutModel",
            "_view_count": null,
            "_view_module": "@jupyter-widgets/base",
            "_view_module_version": "1.2.0",
            "_view_name": "LayoutView",
            "align_content": null,
            "align_items": null,
            "align_self": null,
            "border": null,
            "bottom": null,
            "display": null,
            "flex": null,
            "flex_flow": null,
            "grid_area": null,
            "grid_auto_columns": null,
            "grid_auto_flow": null,
            "grid_auto_rows": null,
            "grid_column": null,
            "grid_gap": null,
            "grid_row": null,
            "grid_template_areas": null,
            "grid_template_columns": null,
            "grid_template_rows": null,
            "height": null,
            "justify_content": null,
            "justify_items": null,
            "left": null,
            "margin": null,
            "max_height": null,
            "max_width": null,
            "min_height": null,
            "min_width": null,
            "object_fit": null,
            "object_position": null,
            "order": null,
            "overflow": null,
            "overflow_x": null,
            "overflow_y": null,
            "padding": null,
            "right": null,
            "top": null,
            "visibility": null,
            "width": null
          }
        },
        "acbf23336eb246dea3d9b0c0c31cdba4": {
          "model_module": "@jupyter-widgets/controls",
          "model_name": "DescriptionStyleModel",
          "model_module_version": "1.5.0",
          "state": {
            "_model_module": "@jupyter-widgets/controls",
            "_model_module_version": "1.5.0",
            "_model_name": "DescriptionStyleModel",
            "_view_count": null,
            "_view_module": "@jupyter-widgets/base",
            "_view_module_version": "1.2.0",
            "_view_name": "StyleView",
            "description_width": ""
          }
        }
      }
    }
  },
  "cells": [
    {
      "cell_type": "markdown",
      "metadata": {
        "id": "view-in-github",
        "colab_type": "text"
      },
      "source": [
        "<a href=\"https://colab.research.google.com/github/hamednasr/PyTorch/blob/main/GAN_FMNIST.ipynb\" target=\"_parent\"><img src=\"https://colab.research.google.com/assets/colab-badge.svg\" alt=\"Open In Colab\"/></a>"
      ]
    },
    {
      "cell_type": "markdown",
      "source": [
        "# GANs for FashionMNIST\n",
        "generating images with generative adversarial networks (GANs)"
      ],
      "metadata": {
        "id": "3jiAtPpWIgA3"
      }
    },
    {
      "cell_type": "code",
      "metadata": {
        "id": "YeuAheYyhdZw"
      },
      "source": [
        "import numpy as np\n",
        "\n",
        "import torch\n",
        "import torch.nn as nn\n",
        "import torch.nn.functional as F\n",
        "import torchvision\n",
        "from PIL import Image\n",
        "from torch.utils.data import DataLoader , TensorDataset\n",
        "\n",
        "import sys\n",
        "\n",
        "import matplotlib.pyplot as plt\n",
        "from IPython import display\n",
        "display.set_matplotlib_formats('svg')"
      ],
      "execution_count": 1,
      "outputs": []
    },
    {
      "cell_type": "code",
      "metadata": {
        "id": "lpcmh-V8hIlw",
        "colab": {
          "base_uri": "https://localhost:8080/"
        },
        "outputId": "886aa178-90d0-445b-c46f-04bc73246a09"
      },
      "source": [
        "# device = 'cpu'\n",
        "device = torch.device('cuda' if torch.cuda.is_available() else 'cpu')\n",
        "device"
      ],
      "execution_count": 2,
      "outputs": [
        {
          "output_type": "execute_result",
          "data": {
            "text/plain": [
              "device(type='cuda')"
            ]
          },
          "metadata": {},
          "execution_count": 2
        }
      ]
    },
    {
      "cell_type": "markdown",
      "metadata": {
        "id": "vpUeQWVfBJbY"
      },
      "source": [
        "# Import the data"
      ]
    },
    {
      "cell_type": "code",
      "source": [
        "FashionMNIST = torchvision.datasets.FashionMNIST(root='sample_data',download=True)"
      ],
      "metadata": {
        "id": "3NHC83oPAt-K",
        "colab": {
          "base_uri": "https://localhost:8080/",
          "height": 443,
          "referenced_widgets": [
            "cf747f61844e43d8b9ef0279da206568",
            "3348f83258ef4028b55a90a6085cdad9",
            "8b87f4b698664673856149a6b7b293db",
            "13e2d5330cc840d1a2e897c6c6328355",
            "470ed7728d194d45b4c3e2f6770bbe91",
            "0185e514f46445fd9face939ea8dfdcd",
            "c1b32d7e8ea247d097b4b52b9f927c57",
            "07dbaafd1a6f4386b896c7a4cae1f347",
            "97800b09a05843db9efef43368cc458c",
            "bd1fd4812aaa43d2b8a13d4b1abc2b96",
            "6bb0dfa48d644b8d84442e3423c00cfc",
            "51c24a962a0840ab9f16a0515e56f020",
            "1b28c57cd3634209b45d4750a0e9f73e",
            "89af5587cb394f679dda716d9d2256d6",
            "3806d48a72d648d7a8ccd0415c0bd801",
            "5f92e9decc0841fd9cc01284a97d91cb",
            "0f6ec1122883423ba7636bc1d901b319",
            "a8ebc7989d9e439bb1ee57e0d297e454",
            "adf980ffe70b47d0847e13c183a85d58",
            "47720c57a55947ca84de923f0cd9c65b",
            "c151d3cc7b3a4685bbe8b1c75340d6c2",
            "8c118c8692814f8cbd5ac23002aa0090",
            "5b62d701a8ee49859e6d6e0dc72a5869",
            "d456069a3b8641baaf34510dc5931c17",
            "c14c94479a4342e4bbfc3bb7680191d5",
            "333c754055a347aebae813190883ae91",
            "fc2d964f69de46e3a95024039da456ee",
            "9d46946189124197b4de40dd8c095720",
            "ac7f83265d06434596ee10bfe1a4e73c",
            "fc8983962da646c6b3c0df67e4cb6c71",
            "2c4d41a1a69e423ca3bb3df0d3a122b3",
            "94bda3e0d0174fd7b9e5bb65c8c72c5b",
            "31102567e8884b84a69e191d2feaa731",
            "e86d83bee7424d9a8285fd5637996843",
            "59e5bcdcbfe342679d90ba38e6efe7b4",
            "62fd62768ad5413dab6fe73716870733",
            "9fceaa2857694d83bade45cd48b80138",
            "19b59d41891847b39a899f3dbc22543a",
            "fd5909bc4a3e47179651b7aa249fe59c",
            "b5318764b4ab4ff7b38ff7b12b1442fa",
            "d243c77fd6ee42f39c392aa2042ed017",
            "354070fc84e6420c8bcf8f2903b5d58a",
            "70e78cae402a422886a500b5ed56a541",
            "acbf23336eb246dea3d9b0c0c31cdba4"
          ]
        },
        "outputId": "d4eadc78-442d-4995-9eaa-ad446528e6b9"
      },
      "execution_count": 3,
      "outputs": [
        {
          "output_type": "stream",
          "name": "stdout",
          "text": [
            "Downloading http://fashion-mnist.s3-website.eu-central-1.amazonaws.com/train-images-idx3-ubyte.gz\n",
            "Downloading http://fashion-mnist.s3-website.eu-central-1.amazonaws.com/train-images-idx3-ubyte.gz to sample_data/FashionMNIST/raw/train-images-idx3-ubyte.gz\n"
          ]
        },
        {
          "output_type": "display_data",
          "data": {
            "text/plain": [
              "  0%|          | 0/26421880 [00:00<?, ?it/s]"
            ],
            "application/vnd.jupyter.widget-view+json": {
              "version_major": 2,
              "version_minor": 0,
              "model_id": "cf747f61844e43d8b9ef0279da206568"
            }
          },
          "metadata": {}
        },
        {
          "output_type": "stream",
          "name": "stdout",
          "text": [
            "Extracting sample_data/FashionMNIST/raw/train-images-idx3-ubyte.gz to sample_data/FashionMNIST/raw\n",
            "\n",
            "Downloading http://fashion-mnist.s3-website.eu-central-1.amazonaws.com/train-labels-idx1-ubyte.gz\n",
            "Downloading http://fashion-mnist.s3-website.eu-central-1.amazonaws.com/train-labels-idx1-ubyte.gz to sample_data/FashionMNIST/raw/train-labels-idx1-ubyte.gz\n"
          ]
        },
        {
          "output_type": "display_data",
          "data": {
            "text/plain": [
              "  0%|          | 0/29515 [00:00<?, ?it/s]"
            ],
            "application/vnd.jupyter.widget-view+json": {
              "version_major": 2,
              "version_minor": 0,
              "model_id": "51c24a962a0840ab9f16a0515e56f020"
            }
          },
          "metadata": {}
        },
        {
          "output_type": "stream",
          "name": "stdout",
          "text": [
            "Extracting sample_data/FashionMNIST/raw/train-labels-idx1-ubyte.gz to sample_data/FashionMNIST/raw\n",
            "\n",
            "Downloading http://fashion-mnist.s3-website.eu-central-1.amazonaws.com/t10k-images-idx3-ubyte.gz\n",
            "Downloading http://fashion-mnist.s3-website.eu-central-1.amazonaws.com/t10k-images-idx3-ubyte.gz to sample_data/FashionMNIST/raw/t10k-images-idx3-ubyte.gz\n"
          ]
        },
        {
          "output_type": "display_data",
          "data": {
            "text/plain": [
              "  0%|          | 0/4422102 [00:00<?, ?it/s]"
            ],
            "application/vnd.jupyter.widget-view+json": {
              "version_major": 2,
              "version_minor": 0,
              "model_id": "5b62d701a8ee49859e6d6e0dc72a5869"
            }
          },
          "metadata": {}
        },
        {
          "output_type": "stream",
          "name": "stdout",
          "text": [
            "Extracting sample_data/FashionMNIST/raw/t10k-images-idx3-ubyte.gz to sample_data/FashionMNIST/raw\n",
            "\n",
            "Downloading http://fashion-mnist.s3-website.eu-central-1.amazonaws.com/t10k-labels-idx1-ubyte.gz\n",
            "Downloading http://fashion-mnist.s3-website.eu-central-1.amazonaws.com/t10k-labels-idx1-ubyte.gz to sample_data/FashionMNIST/raw/t10k-labels-idx1-ubyte.gz\n"
          ]
        },
        {
          "output_type": "display_data",
          "data": {
            "text/plain": [
              "  0%|          | 0/5148 [00:00<?, ?it/s]"
            ],
            "application/vnd.jupyter.widget-view+json": {
              "version_major": 2,
              "version_minor": 0,
              "model_id": "e86d83bee7424d9a8285fd5637996843"
            }
          },
          "metadata": {}
        },
        {
          "output_type": "stream",
          "name": "stdout",
          "text": [
            "Extracting sample_data/FashionMNIST/raw/t10k-labels-idx1-ubyte.gz to sample_data/FashionMNIST/raw\n",
            "\n"
          ]
        }
      ]
    },
    {
      "cell_type": "code",
      "source": [
        "FashionMNIST"
      ],
      "metadata": {
        "colab": {
          "base_uri": "https://localhost:8080/"
        },
        "id": "XvXgR1DyDjJz",
        "outputId": "1a6e6174-f53c-41c3-a258-1222fbe4fc78"
      },
      "execution_count": 4,
      "outputs": [
        {
          "output_type": "execute_result",
          "data": {
            "text/plain": [
              "Dataset FashionMNIST\n",
              "    Number of datapoints: 60000\n",
              "    Root location: sample_data\n",
              "    Split: Train"
            ]
          },
          "metadata": {},
          "execution_count": 4
        }
      ]
    },
    {
      "cell_type": "code",
      "source": [
        "FashionMNIST.data.shape"
      ],
      "metadata": {
        "colab": {
          "base_uri": "https://localhost:8080/"
        },
        "id": "mU6KwaneG2vD",
        "outputId": "c8cce722-c798-4b86-8071-3aa84bd3f9b1"
      },
      "execution_count": 5,
      "outputs": [
        {
          "output_type": "execute_result",
          "data": {
            "text/plain": [
              "torch.Size([60000, 28, 28])"
            ]
          },
          "metadata": {},
          "execution_count": 5
        }
      ]
    },
    {
      "cell_type": "code",
      "source": [
        "FashionMNIST.targets"
      ],
      "metadata": {
        "colab": {
          "base_uri": "https://localhost:8080/"
        },
        "id": "kdZAW97mHYJZ",
        "outputId": "5a1af12a-e88a-4903-997d-ed8795fbfef8"
      },
      "execution_count": 6,
      "outputs": [
        {
          "output_type": "execute_result",
          "data": {
            "text/plain": [
              "tensor([9, 0, 0,  ..., 3, 0, 5])"
            ]
          },
          "metadata": {},
          "execution_count": 6
        }
      ]
    },
    {
      "cell_type": "code",
      "source": [
        "plt.imshow(FashionMNIST.data[11,:,:],cmap='gray')"
      ],
      "metadata": {
        "colab": {
          "base_uri": "https://localhost:8080/",
          "height": 370
        },
        "id": "Th93LCkCHKNM",
        "outputId": "9a3b4e1c-3259-4a9c-9717-8c2144398a59"
      },
      "execution_count": 7,
      "outputs": [
        {
          "output_type": "execute_result",
          "data": {
            "text/plain": [
              "<matplotlib.image.AxesImage at 0x7f072a773510>"
            ]
          },
          "metadata": {},
          "execution_count": 7
        },
        {
          "output_type": "display_data",
          "data": {
            "text/plain": [
              "<Figure size 432x288 with 1 Axes>"
            ],
            "image/svg+xml": "<?xml version=\"1.0\" encoding=\"utf-8\" standalone=\"no\"?>\n<!DOCTYPE svg PUBLIC \"-//W3C//DTD SVG 1.1//EN\"\n  \"http://www.w3.org/Graphics/SVG/1.1/DTD/svg11.dtd\">\n<!-- Created with matplotlib (https://matplotlib.org/) -->\n<svg height=\"248.518125pt\" version=\"1.1\" viewBox=\"0 0 251.565 248.518125\" width=\"251.565pt\" xmlns=\"http://www.w3.org/2000/svg\" xmlns:xlink=\"http://www.w3.org/1999/xlink\">\n <defs>\n  <style type=\"text/css\">\n*{stroke-linecap:butt;stroke-linejoin:round;}\n  </style>\n </defs>\n <g id=\"figure_1\">\n  <g id=\"patch_1\">\n   <path d=\"M 0 248.518125 \nL 251.565 248.518125 \nL 251.565 0 \nL 0 0 \nz\n\" style=\"fill:none;\"/>\n  </g>\n  <g id=\"axes_1\">\n   <g id=\"patch_2\">\n    <path d=\"M 26.925 224.64 \nL 244.365 224.64 \nL 244.365 7.2 \nL 26.925 7.2 \nz\n\" style=\"fill:#ffffff;\"/>\n   </g>\n   <g clip-path=\"url(#p7d213d4f1f)\">\n    <image height=\"218\" id=\"imagebc31a725ca\" transform=\"scale(1 -1)translate(0 -218)\" width=\"218\" x=\"26.925\" xlink:href=\"data:image/png;base64,\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\" y=\"-6.64\"/>\n   </g>\n   <g id=\"matplotlib.axis_1\">\n    <g id=\"xtick_1\">\n     <g id=\"line2d_1\">\n      <defs>\n       <path d=\"M 0 0 \nL 0 3.5 \n\" id=\"m4f255cef18\" style=\"stroke:#000000;stroke-width:0.8;\"/>\n      </defs>\n      <g>\n       <use style=\"stroke:#000000;stroke-width:0.8;\" x=\"30.807857\" xlink:href=\"#m4f255cef18\" y=\"224.64\"/>\n      </g>\n     </g>\n     <g id=\"text_1\">\n      <!-- 0 -->\n      <defs>\n       <path d=\"M 31.78125 66.40625 \nQ 24.171875 66.40625 20.328125 58.90625 \nQ 16.5 51.421875 16.5 36.375 \nQ 16.5 21.390625 20.328125 13.890625 \nQ 24.171875 6.390625 31.78125 6.390625 \nQ 39.453125 6.390625 43.28125 13.890625 \nQ 47.125 21.390625 47.125 36.375 \nQ 47.125 51.421875 43.28125 58.90625 \nQ 39.453125 66.40625 31.78125 66.40625 \nz\nM 31.78125 74.21875 \nQ 44.046875 74.21875 50.515625 64.515625 \nQ 56.984375 54.828125 56.984375 36.375 \nQ 56.984375 17.96875 50.515625 8.265625 \nQ 44.046875 -1.421875 31.78125 -1.421875 \nQ 19.53125 -1.421875 13.0625 8.265625 \nQ 6.59375 17.96875 6.59375 36.375 \nQ 6.59375 54.828125 13.0625 64.515625 \nQ 19.53125 74.21875 31.78125 74.21875 \nz\n\" id=\"DejaVuSans-48\"/>\n      </defs>\n      <g transform=\"translate(27.626607 239.238437)scale(0.1 -0.1)\">\n       <use xlink:href=\"#DejaVuSans-48\"/>\n      </g>\n     </g>\n    </g>\n    <g id=\"xtick_2\">\n     <g id=\"line2d_2\">\n      <g>\n       <use style=\"stroke:#000000;stroke-width:0.8;\" x=\"69.636429\" xlink:href=\"#m4f255cef18\" y=\"224.64\"/>\n      </g>\n     </g>\n     <g id=\"text_2\">\n      <!-- 5 -->\n      <defs>\n       <path d=\"M 10.796875 72.90625 \nL 49.515625 72.90625 \nL 49.515625 64.59375 \nL 19.828125 64.59375 \nL 19.828125 46.734375 \nQ 21.96875 47.46875 24.109375 47.828125 \nQ 26.265625 48.1875 28.421875 48.1875 \nQ 40.625 48.1875 47.75 41.5 \nQ 54.890625 34.8125 54.890625 23.390625 \nQ 54.890625 11.625 47.5625 5.09375 \nQ 40.234375 -1.421875 26.90625 -1.421875 \nQ 22.3125 -1.421875 17.546875 -0.640625 \nQ 12.796875 0.140625 7.71875 1.703125 \nL 7.71875 11.625 \nQ 12.109375 9.234375 16.796875 8.0625 \nQ 21.484375 6.890625 26.703125 6.890625 \nQ 35.15625 6.890625 40.078125 11.328125 \nQ 45.015625 15.765625 45.015625 23.390625 \nQ 45.015625 31 40.078125 35.4375 \nQ 35.15625 39.890625 26.703125 39.890625 \nQ 22.75 39.890625 18.8125 39.015625 \nQ 14.890625 38.140625 10.796875 36.28125 \nz\n\" id=\"DejaVuSans-53\"/>\n      </defs>\n      <g transform=\"translate(66.455179 239.238437)scale(0.1 -0.1)\">\n       <use xlink:href=\"#DejaVuSans-53\"/>\n      </g>\n     </g>\n    </g>\n    <g id=\"xtick_3\">\n     <g id=\"line2d_3\">\n      <g>\n       <use style=\"stroke:#000000;stroke-width:0.8;\" x=\"108.465\" xlink:href=\"#m4f255cef18\" y=\"224.64\"/>\n      </g>\n     </g>\n     <g id=\"text_3\">\n      <!-- 10 -->\n      <defs>\n       <path d=\"M 12.40625 8.296875 \nL 28.515625 8.296875 \nL 28.515625 63.921875 \nL 10.984375 60.40625 \nL 10.984375 69.390625 \nL 28.421875 72.90625 \nL 38.28125 72.90625 \nL 38.28125 8.296875 \nL 54.390625 8.296875 \nL 54.390625 0 \nL 12.40625 0 \nz\n\" id=\"DejaVuSans-49\"/>\n      </defs>\n      <g transform=\"translate(102.1025 239.238437)scale(0.1 -0.1)\">\n       <use xlink:href=\"#DejaVuSans-49\"/>\n       <use x=\"63.623047\" xlink:href=\"#DejaVuSans-48\"/>\n      </g>\n     </g>\n    </g>\n    <g id=\"xtick_4\">\n     <g id=\"line2d_4\">\n      <g>\n       <use style=\"stroke:#000000;stroke-width:0.8;\" x=\"147.293571\" xlink:href=\"#m4f255cef18\" y=\"224.64\"/>\n      </g>\n     </g>\n     <g id=\"text_4\">\n      <!-- 15 -->\n      <g transform=\"translate(140.931071 239.238437)scale(0.1 -0.1)\">\n       <use xlink:href=\"#DejaVuSans-49\"/>\n       <use x=\"63.623047\" xlink:href=\"#DejaVuSans-53\"/>\n      </g>\n     </g>\n    </g>\n    <g id=\"xtick_5\">\n     <g id=\"line2d_5\">\n      <g>\n       <use style=\"stroke:#000000;stroke-width:0.8;\" x=\"186.122143\" xlink:href=\"#m4f255cef18\" y=\"224.64\"/>\n      </g>\n     </g>\n     <g id=\"text_5\">\n      <!-- 20 -->\n      <defs>\n       <path d=\"M 19.1875 8.296875 \nL 53.609375 8.296875 \nL 53.609375 0 \nL 7.328125 0 \nL 7.328125 8.296875 \nQ 12.9375 14.109375 22.625 23.890625 \nQ 32.328125 33.6875 34.8125 36.53125 \nQ 39.546875 41.84375 41.421875 45.53125 \nQ 43.3125 49.21875 43.3125 52.78125 \nQ 43.3125 58.59375 39.234375 62.25 \nQ 35.15625 65.921875 28.609375 65.921875 \nQ 23.96875 65.921875 18.8125 64.3125 \nQ 13.671875 62.703125 7.8125 59.421875 \nL 7.8125 69.390625 \nQ 13.765625 71.78125 18.9375 73 \nQ 24.125 74.21875 28.421875 74.21875 \nQ 39.75 74.21875 46.484375 68.546875 \nQ 53.21875 62.890625 53.21875 53.421875 \nQ 53.21875 48.921875 51.53125 44.890625 \nQ 49.859375 40.875 45.40625 35.40625 \nQ 44.1875 33.984375 37.640625 27.21875 \nQ 31.109375 20.453125 19.1875 8.296875 \nz\n\" id=\"DejaVuSans-50\"/>\n      </defs>\n      <g transform=\"translate(179.759643 239.238437)scale(0.1 -0.1)\">\n       <use xlink:href=\"#DejaVuSans-50\"/>\n       <use x=\"63.623047\" xlink:href=\"#DejaVuSans-48\"/>\n      </g>\n     </g>\n    </g>\n    <g id=\"xtick_6\">\n     <g id=\"line2d_6\">\n      <g>\n       <use style=\"stroke:#000000;stroke-width:0.8;\" x=\"224.950714\" xlink:href=\"#m4f255cef18\" y=\"224.64\"/>\n      </g>\n     </g>\n     <g id=\"text_6\">\n      <!-- 25 -->\n      <g transform=\"translate(218.588214 239.238437)scale(0.1 -0.1)\">\n       <use xlink:href=\"#DejaVuSans-50\"/>\n       <use x=\"63.623047\" xlink:href=\"#DejaVuSans-53\"/>\n      </g>\n     </g>\n    </g>\n   </g>\n   <g id=\"matplotlib.axis_2\">\n    <g id=\"ytick_1\">\n     <g id=\"line2d_7\">\n      <defs>\n       <path d=\"M 0 0 \nL -3.5 0 \n\" id=\"m8ce3933154\" style=\"stroke:#000000;stroke-width:0.8;\"/>\n      </defs>\n      <g>\n       <use style=\"stroke:#000000;stroke-width:0.8;\" x=\"26.925\" xlink:href=\"#m8ce3933154\" y=\"11.082857\"/>\n      </g>\n     </g>\n     <g id=\"text_7\">\n      <!-- 0 -->\n      <g transform=\"translate(13.5625 14.882076)scale(0.1 -0.1)\">\n       <use xlink:href=\"#DejaVuSans-48\"/>\n      </g>\n     </g>\n    </g>\n    <g id=\"ytick_2\">\n     <g id=\"line2d_8\">\n      <g>\n       <use style=\"stroke:#000000;stroke-width:0.8;\" x=\"26.925\" xlink:href=\"#m8ce3933154\" y=\"49.911429\"/>\n      </g>\n     </g>\n     <g id=\"text_8\">\n      <!-- 5 -->\n      <g transform=\"translate(13.5625 53.710647)scale(0.1 -0.1)\">\n       <use xlink:href=\"#DejaVuSans-53\"/>\n      </g>\n     </g>\n    </g>\n    <g id=\"ytick_3\">\n     <g id=\"line2d_9\">\n      <g>\n       <use style=\"stroke:#000000;stroke-width:0.8;\" x=\"26.925\" xlink:href=\"#m8ce3933154\" y=\"88.74\"/>\n      </g>\n     </g>\n     <g id=\"text_9\">\n      <!-- 10 -->\n      <g transform=\"translate(7.2 92.539219)scale(0.1 -0.1)\">\n       <use xlink:href=\"#DejaVuSans-49\"/>\n       <use x=\"63.623047\" xlink:href=\"#DejaVuSans-48\"/>\n      </g>\n     </g>\n    </g>\n    <g id=\"ytick_4\">\n     <g id=\"line2d_10\">\n      <g>\n       <use style=\"stroke:#000000;stroke-width:0.8;\" x=\"26.925\" xlink:href=\"#m8ce3933154\" y=\"127.568571\"/>\n      </g>\n     </g>\n     <g id=\"text_10\">\n      <!-- 15 -->\n      <g transform=\"translate(7.2 131.36779)scale(0.1 -0.1)\">\n       <use xlink:href=\"#DejaVuSans-49\"/>\n       <use x=\"63.623047\" xlink:href=\"#DejaVuSans-53\"/>\n      </g>\n     </g>\n    </g>\n    <g id=\"ytick_5\">\n     <g id=\"line2d_11\">\n      <g>\n       <use style=\"stroke:#000000;stroke-width:0.8;\" x=\"26.925\" xlink:href=\"#m8ce3933154\" y=\"166.397143\"/>\n      </g>\n     </g>\n     <g id=\"text_11\">\n      <!-- 20 -->\n      <g transform=\"translate(7.2 170.196362)scale(0.1 -0.1)\">\n       <use xlink:href=\"#DejaVuSans-50\"/>\n       <use x=\"63.623047\" xlink:href=\"#DejaVuSans-48\"/>\n      </g>\n     </g>\n    </g>\n    <g id=\"ytick_6\">\n     <g id=\"line2d_12\">\n      <g>\n       <use style=\"stroke:#000000;stroke-width:0.8;\" x=\"26.925\" xlink:href=\"#m8ce3933154\" y=\"205.225714\"/>\n      </g>\n     </g>\n     <g id=\"text_12\">\n      <!-- 25 -->\n      <g transform=\"translate(7.2 209.024933)scale(0.1 -0.1)\">\n       <use xlink:href=\"#DejaVuSans-50\"/>\n       <use x=\"63.623047\" xlink:href=\"#DejaVuSans-53\"/>\n      </g>\n     </g>\n    </g>\n   </g>\n   <g id=\"patch_3\">\n    <path d=\"M 26.925 224.64 \nL 26.925 7.2 \n\" style=\"fill:none;stroke:#000000;stroke-linecap:square;stroke-linejoin:miter;stroke-width:0.8;\"/>\n   </g>\n   <g id=\"patch_4\">\n    <path d=\"M 244.365 224.64 \nL 244.365 7.2 \n\" style=\"fill:none;stroke:#000000;stroke-linecap:square;stroke-linejoin:miter;stroke-width:0.8;\"/>\n   </g>\n   <g id=\"patch_5\">\n    <path d=\"M 26.925 224.64 \nL 244.365 224.64 \n\" style=\"fill:none;stroke:#000000;stroke-linecap:square;stroke-linejoin:miter;stroke-width:0.8;\"/>\n   </g>\n   <g id=\"patch_6\">\n    <path d=\"M 26.925 7.2 \nL 244.365 7.2 \n\" style=\"fill:none;stroke:#000000;stroke-linecap:square;stroke-linejoin:miter;stroke-width:0.8;\"/>\n   </g>\n  </g>\n </g>\n <defs>\n  <clipPath id=\"p7d213d4f1f\">\n   <rect height=\"217.44\" width=\"217.44\" x=\"26.925\" y=\"7.2\"/>\n  </clipPath>\n </defs>\n</svg>\n"
          },
          "metadata": {
            "needs_background": "light"
          }
        }
      ]
    },
    {
      "cell_type": "code",
      "source": [
        "FashionMNIST[11]"
      ],
      "metadata": {
        "colab": {
          "base_uri": "https://localhost:8080/"
        },
        "id": "pUgZUFi9HnaT",
        "outputId": "449211ef-9052-43db-b09b-6952420f29a4"
      },
      "execution_count": 8,
      "outputs": [
        {
          "output_type": "execute_result",
          "data": {
            "text/plain": [
              "(<PIL.Image.Image image mode=L size=28x28 at 0x7F072A6C10D0>, 9)"
            ]
          },
          "metadata": {},
          "execution_count": 8
        }
      ]
    },
    {
      "cell_type": "code",
      "source": [
        "FashionMNIST[11][0]"
      ],
      "metadata": {
        "colab": {
          "base_uri": "https://localhost:8080/",
          "height": 45
        },
        "id": "SseR0t2aHxwq",
        "outputId": "12516084-eb3a-4cc5-a33b-dc915feaffb3"
      },
      "execution_count": 9,
      "outputs": [
        {
          "output_type": "execute_result",
          "data": {
            "text/plain": [
              "<PIL.Image.Image image mode=L size=28x28 at 0x7F072A6C11D0>"
            ],
            "image/png": "[encoded data removed]"
          },
          "metadata": {},
          "execution_count": 9
        }
      ]
    },
    {
      "cell_type": "code",
      "source": [
        "FashionMNIST[11][1]"
      ],
      "metadata": {
        "colab": {
          "base_uri": "https://localhost:8080/"
        },
        "id": "oyPWGlj3H2CS",
        "outputId": "6f8ccfaa-a633-4fea-e7cc-24b0ee70fc18"
      },
      "execution_count": 10,
      "outputs": [
        {
          "output_type": "execute_result",
          "data": {
            "text/plain": [
              "9"
            ]
          },
          "metadata": {},
          "execution_count": 10
        }
      ]
    },
    {
      "cell_type": "code",
      "source": [
        "FashionMNIST.class_to_idx"
      ],
      "metadata": {
        "colab": {
          "base_uri": "https://localhost:8080/"
        },
        "id": "X2Lt9kC-_jEa",
        "outputId": "b2178b43-1d61-4196-b02b-0ff900f95fd9"
      },
      "execution_count": 11,
      "outputs": [
        {
          "output_type": "execute_result",
          "data": {
            "text/plain": [
              "{'T-shirt/top': 0,\n",
              " 'Trouser': 1,\n",
              " 'Pullover': 2,\n",
              " 'Dress': 3,\n",
              " 'Coat': 4,\n",
              " 'Sandal': 5,\n",
              " 'Shirt': 6,\n",
              " 'Sneaker': 7,\n",
              " 'Bag': 8,\n",
              " 'Ankle boot': 9}"
            ]
          },
          "metadata": {},
          "execution_count": 11
        }
      ]
    },
    {
      "cell_type": "code",
      "source": [
        "FashionMNIST.data[FashionMNIST.targets == 1].shape"
      ],
      "metadata": {
        "colab": {
          "base_uri": "https://localhost:8080/"
        },
        "id": "8rPzuawjXwrQ",
        "outputId": "afd3eba1-77c5-4022-ea9c-bf6e60e7f0fe"
      },
      "execution_count": 12,
      "outputs": [
        {
          "output_type": "execute_result",
          "data": {
            "text/plain": [
              "torch.Size([6000, 28, 28])"
            ]
          },
          "metadata": {},
          "execution_count": 12
        }
      ]
    },
    {
      "cell_type": "code",
      "source": [
        "data = FashionMNIST.data\n",
        "labels = FashionMNIST.targets"
      ],
      "metadata": {
        "id": "aOPw_pv3JUK0"
      },
      "execution_count": 13,
      "outputs": []
    },
    {
      "cell_type": "code",
      "source": [
        "data = data[(labels==1) | (labels==9) | (labels==4)]\n",
        "labels = labels[(labels==1) | (labels==9) | (labels==4)]"
      ],
      "metadata": {
        "id": "26MTVex6ZoNP"
      },
      "execution_count": 14,
      "outputs": []
    },
    {
      "cell_type": "code",
      "source": [
        "dataNorm = data / data.max()\n",
        "dataNorm = 2 * dataNorm - 1"
      ],
      "metadata": {
        "id": "CsqIACV4I1CT"
      },
      "execution_count": 15,
      "outputs": []
    },
    {
      "cell_type": "code",
      "source": [
        "plt.imshow(dataNorm[11,:,:],cmap='gray')"
      ],
      "metadata": {
        "colab": {
          "base_uri": "https://localhost:8080/",
          "height": 370
        },
        "id": "XhQRZzTuVXoF",
        "outputId": "626f0b52-f67d-43a4-f4b9-0f12691d06a5"
      },
      "execution_count": 16,
      "outputs": [
        {
          "output_type": "execute_result",
          "data": {
            "text/plain": [
              "<matplotlib.image.AxesImage at 0x7f072a1a6fd0>"
            ]
          },
          "metadata": {},
          "execution_count": 16
        },
        {
          "output_type": "display_data",
          "data": {
            "text/plain": [
              "<Figure size 432x288 with 1 Axes>"
            ],
            "image/svg+xml": "<?xml version=\"1.0\" encoding=\"utf-8\" standalone=\"no\"?>\n<!DOCTYPE svg PUBLIC \"-//W3C//DTD SVG 1.1//EN\"\n  \"http://www.w3.org/Graphics/SVG/1.1/DTD/svg11.dtd\">\n<!-- Created with matplotlib (https://matplotlib.org/) -->\n<svg height=\"248.518125pt\" version=\"1.1\" viewBox=\"0 0 251.565 248.518125\" width=\"251.565pt\" xmlns=\"http://www.w3.org/2000/svg\" xmlns:xlink=\"http://www.w3.org/1999/xlink\">\n <defs>\n  <style type=\"text/css\">\n*{stroke-linecap:butt;stroke-linejoin:round;}\n  </style>\n </defs>\n <g id=\"figure_1\">\n  <g id=\"patch_1\">\n   <path d=\"M 0 248.518125 \nL 251.565 248.518125 \nL 251.565 0 \nL 0 0 \nz\n\" style=\"fill:none;\"/>\n  </g>\n  <g id=\"axes_1\">\n   <g id=\"patch_2\">\n    <path d=\"M 26.925 224.64 \nL 244.365 224.64 \nL 244.365 7.2 \nL 26.925 7.2 \nz\n\" style=\"fill:#ffffff;\"/>\n   </g>\n   <g clip-path=\"url(#ped4815974e)\">\n    <image height=\"218\" id=\"imageba45a76608\" transform=\"scale(1 -1)translate(0 -218)\" width=\"218\" x=\"26.925\" xlink:href=\"data:image/png;base64,\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\" y=\"-6.64\"/>\n   </g>\n   <g id=\"matplotlib.axis_1\">\n    <g id=\"xtick_1\">\n     <g id=\"line2d_1\">\n      <defs>\n       <path d=\"M 0 0 \nL 0 3.5 \n\" id=\"m2d2a18190e\" style=\"stroke:#000000;stroke-width:0.8;\"/>\n      </defs>\n      <g>\n       <use style=\"stroke:#000000;stroke-width:0.8;\" x=\"30.807857\" xlink:href=\"#m2d2a18190e\" y=\"224.64\"/>\n      </g>\n     </g>\n     <g id=\"text_1\">\n      <!-- 0 -->\n      <defs>\n       <path d=\"M 31.78125 66.40625 \nQ 24.171875 66.40625 20.328125 58.90625 \nQ 16.5 51.421875 16.5 36.375 \nQ 16.5 21.390625 20.328125 13.890625 \nQ 24.171875 6.390625 31.78125 6.390625 \nQ 39.453125 6.390625 43.28125 13.890625 \nQ 47.125 21.390625 47.125 36.375 \nQ 47.125 51.421875 43.28125 58.90625 \nQ 39.453125 66.40625 31.78125 66.40625 \nz\nM 31.78125 74.21875 \nQ 44.046875 74.21875 50.515625 64.515625 \nQ 56.984375 54.828125 56.984375 36.375 \nQ 56.984375 17.96875 50.515625 8.265625 \nQ 44.046875 -1.421875 31.78125 -1.421875 \nQ 19.53125 -1.421875 13.0625 8.265625 \nQ 6.59375 17.96875 6.59375 36.375 \nQ 6.59375 54.828125 13.0625 64.515625 \nQ 19.53125 74.21875 31.78125 74.21875 \nz\n\" id=\"DejaVuSans-48\"/>\n      </defs>\n      <g transform=\"translate(27.626607 239.238437)scale(0.1 -0.1)\">\n       <use xlink:href=\"#DejaVuSans-48\"/>\n      </g>\n     </g>\n    </g>\n    <g id=\"xtick_2\">\n     <g id=\"line2d_2\">\n      <g>\n       <use style=\"stroke:#000000;stroke-width:0.8;\" x=\"69.636429\" xlink:href=\"#m2d2a18190e\" y=\"224.64\"/>\n      </g>\n     </g>\n     <g id=\"text_2\">\n      <!-- 5 -->\n      <defs>\n       <path d=\"M 10.796875 72.90625 \nL 49.515625 72.90625 \nL 49.515625 64.59375 \nL 19.828125 64.59375 \nL 19.828125 46.734375 \nQ 21.96875 47.46875 24.109375 47.828125 \nQ 26.265625 48.1875 28.421875 48.1875 \nQ 40.625 48.1875 47.75 41.5 \nQ 54.890625 34.8125 54.890625 23.390625 \nQ 54.890625 11.625 47.5625 5.09375 \nQ 40.234375 -1.421875 26.90625 -1.421875 \nQ 22.3125 -1.421875 17.546875 -0.640625 \nQ 12.796875 0.140625 7.71875 1.703125 \nL 7.71875 11.625 \nQ 12.109375 9.234375 16.796875 8.0625 \nQ 21.484375 6.890625 26.703125 6.890625 \nQ 35.15625 6.890625 40.078125 11.328125 \nQ 45.015625 15.765625 45.015625 23.390625 \nQ 45.015625 31 40.078125 35.4375 \nQ 35.15625 39.890625 26.703125 39.890625 \nQ 22.75 39.890625 18.8125 39.015625 \nQ 14.890625 38.140625 10.796875 36.28125 \nz\n\" id=\"DejaVuSans-53\"/>\n      </defs>\n      <g transform=\"translate(66.455179 239.238437)scale(0.1 -0.1)\">\n       <use xlink:href=\"#DejaVuSans-53\"/>\n      </g>\n     </g>\n    </g>\n    <g id=\"xtick_3\">\n     <g id=\"line2d_3\">\n      <g>\n       <use style=\"stroke:#000000;stroke-width:0.8;\" x=\"108.465\" xlink:href=\"#m2d2a18190e\" y=\"224.64\"/>\n      </g>\n     </g>\n     <g id=\"text_3\">\n      <!-- 10 -->\n      <defs>\n       <path d=\"M 12.40625 8.296875 \nL 28.515625 8.296875 \nL 28.515625 63.921875 \nL 10.984375 60.40625 \nL 10.984375 69.390625 \nL 28.421875 72.90625 \nL 38.28125 72.90625 \nL 38.28125 8.296875 \nL 54.390625 8.296875 \nL 54.390625 0 \nL 12.40625 0 \nz\n\" id=\"DejaVuSans-49\"/>\n      </defs>\n      <g transform=\"translate(102.1025 239.238437)scale(0.1 -0.1)\">\n       <use xlink:href=\"#DejaVuSans-49\"/>\n       <use x=\"63.623047\" xlink:href=\"#DejaVuSans-48\"/>\n      </g>\n     </g>\n    </g>\n    <g id=\"xtick_4\">\n     <g id=\"line2d_4\">\n      <g>\n       <use style=\"stroke:#000000;stroke-width:0.8;\" x=\"147.293571\" xlink:href=\"#m2d2a18190e\" y=\"224.64\"/>\n      </g>\n     </g>\n     <g id=\"text_4\">\n      <!-- 15 -->\n      <g transform=\"translate(140.931071 239.238437)scale(0.1 -0.1)\">\n       <use xlink:href=\"#DejaVuSans-49\"/>\n       <use x=\"63.623047\" xlink:href=\"#DejaVuSans-53\"/>\n      </g>\n     </g>\n    </g>\n    <g id=\"xtick_5\">\n     <g id=\"line2d_5\">\n      <g>\n       <use style=\"stroke:#000000;stroke-width:0.8;\" x=\"186.122143\" xlink:href=\"#m2d2a18190e\" y=\"224.64\"/>\n      </g>\n     </g>\n     <g id=\"text_5\">\n      <!-- 20 -->\n      <defs>\n       <path d=\"M 19.1875 8.296875 \nL 53.609375 8.296875 \nL 53.609375 0 \nL 7.328125 0 \nL 7.328125 8.296875 \nQ 12.9375 14.109375 22.625 23.890625 \nQ 32.328125 33.6875 34.8125 36.53125 \nQ 39.546875 41.84375 41.421875 45.53125 \nQ 43.3125 49.21875 43.3125 52.78125 \nQ 43.3125 58.59375 39.234375 62.25 \nQ 35.15625 65.921875 28.609375 65.921875 \nQ 23.96875 65.921875 18.8125 64.3125 \nQ 13.671875 62.703125 7.8125 59.421875 \nL 7.8125 69.390625 \nQ 13.765625 71.78125 18.9375 73 \nQ 24.125 74.21875 28.421875 74.21875 \nQ 39.75 74.21875 46.484375 68.546875 \nQ 53.21875 62.890625 53.21875 53.421875 \nQ 53.21875 48.921875 51.53125 44.890625 \nQ 49.859375 40.875 45.40625 35.40625 \nQ 44.1875 33.984375 37.640625 27.21875 \nQ 31.109375 20.453125 19.1875 8.296875 \nz\n\" id=\"DejaVuSans-50\"/>\n      </defs>\n      <g transform=\"translate(179.759643 239.238437)scale(0.1 -0.1)\">\n       <use xlink:href=\"#DejaVuSans-50\"/>\n       <use x=\"63.623047\" xlink:href=\"#DejaVuSans-48\"/>\n      </g>\n     </g>\n    </g>\n    <g id=\"xtick_6\">\n     <g id=\"line2d_6\">\n      <g>\n       <use style=\"stroke:#000000;stroke-width:0.8;\" x=\"224.950714\" xlink:href=\"#m2d2a18190e\" y=\"224.64\"/>\n      </g>\n     </g>\n     <g id=\"text_6\">\n      <!-- 25 -->\n      <g transform=\"translate(218.588214 239.238437)scale(0.1 -0.1)\">\n       <use xlink:href=\"#DejaVuSans-50\"/>\n       <use x=\"63.623047\" xlink:href=\"#DejaVuSans-53\"/>\n      </g>\n     </g>\n    </g>\n   </g>\n   <g id=\"matplotlib.axis_2\">\n    <g id=\"ytick_1\">\n     <g id=\"line2d_7\">\n      <defs>\n       <path d=\"M 0 0 \nL -3.5 0 \n\" id=\"ma470630491\" style=\"stroke:#000000;stroke-width:0.8;\"/>\n      </defs>\n      <g>\n       <use style=\"stroke:#000000;stroke-width:0.8;\" x=\"26.925\" xlink:href=\"#ma470630491\" y=\"11.082857\"/>\n      </g>\n     </g>\n     <g id=\"text_7\">\n      <!-- 0 -->\n      <g transform=\"translate(13.5625 14.882076)scale(0.1 -0.1)\">\n       <use xlink:href=\"#DejaVuSans-48\"/>\n      </g>\n     </g>\n    </g>\n    <g id=\"ytick_2\">\n     <g id=\"line2d_8\">\n      <g>\n       <use style=\"stroke:#000000;stroke-width:0.8;\" x=\"26.925\" xlink:href=\"#ma470630491\" y=\"49.911429\"/>\n      </g>\n     </g>\n     <g id=\"text_8\">\n      <!-- 5 -->\n      <g transform=\"translate(13.5625 53.710647)scale(0.1 -0.1)\">\n       <use xlink:href=\"#DejaVuSans-53\"/>\n      </g>\n     </g>\n    </g>\n    <g id=\"ytick_3\">\n     <g id=\"line2d_9\">\n      <g>\n       <use style=\"stroke:#000000;stroke-width:0.8;\" x=\"26.925\" xlink:href=\"#ma470630491\" y=\"88.74\"/>\n      </g>\n     </g>\n     <g id=\"text_9\">\n      <!-- 10 -->\n      <g transform=\"translate(7.2 92.539219)scale(0.1 -0.1)\">\n       <use xlink:href=\"#DejaVuSans-49\"/>\n       <use x=\"63.623047\" xlink:href=\"#DejaVuSans-48\"/>\n      </g>\n     </g>\n    </g>\n    <g id=\"ytick_4\">\n     <g id=\"line2d_10\">\n      <g>\n       <use style=\"stroke:#000000;stroke-width:0.8;\" x=\"26.925\" xlink:href=\"#ma470630491\" y=\"127.568571\"/>\n      </g>\n     </g>\n     <g id=\"text_10\">\n      <!-- 15 -->\n      <g transform=\"translate(7.2 131.36779)scale(0.1 -0.1)\">\n       <use xlink:href=\"#DejaVuSans-49\"/>\n       <use x=\"63.623047\" xlink:href=\"#DejaVuSans-53\"/>\n      </g>\n     </g>\n    </g>\n    <g id=\"ytick_5\">\n     <g id=\"line2d_11\">\n      <g>\n       <use style=\"stroke:#000000;stroke-width:0.8;\" x=\"26.925\" xlink:href=\"#ma470630491\" y=\"166.397143\"/>\n      </g>\n     </g>\n     <g id=\"text_11\">\n      <!-- 20 -->\n      <g transform=\"translate(7.2 170.196362)scale(0.1 -0.1)\">\n       <use xlink:href=\"#DejaVuSans-50\"/>\n       <use x=\"63.623047\" xlink:href=\"#DejaVuSans-48\"/>\n      </g>\n     </g>\n    </g>\n    <g id=\"ytick_6\">\n     <g id=\"line2d_12\">\n      <g>\n       <use style=\"stroke:#000000;stroke-width:0.8;\" x=\"26.925\" xlink:href=\"#ma470630491\" y=\"205.225714\"/>\n      </g>\n     </g>\n     <g id=\"text_12\">\n      <!-- 25 -->\n      <g transform=\"translate(7.2 209.024933)scale(0.1 -0.1)\">\n       <use xlink:href=\"#DejaVuSans-50\"/>\n       <use x=\"63.623047\" xlink:href=\"#DejaVuSans-53\"/>\n      </g>\n     </g>\n    </g>\n   </g>\n   <g id=\"patch_3\">\n    <path d=\"M 26.925 224.64 \nL 26.925 7.2 \n\" style=\"fill:none;stroke:#000000;stroke-linecap:square;stroke-linejoin:miter;stroke-width:0.8;\"/>\n   </g>\n   <g id=\"patch_4\">\n    <path d=\"M 244.365 224.64 \nL 244.365 7.2 \n\" style=\"fill:none;stroke:#000000;stroke-linecap:square;stroke-linejoin:miter;stroke-width:0.8;\"/>\n   </g>\n   <g id=\"patch_5\">\n    <path d=\"M 26.925 224.64 \nL 244.365 224.64 \n\" style=\"fill:none;stroke:#000000;stroke-linecap:square;stroke-linejoin:miter;stroke-width:0.8;\"/>\n   </g>\n   <g id=\"patch_6\">\n    <path d=\"M 26.925 7.2 \nL 244.365 7.2 \n\" style=\"fill:none;stroke:#000000;stroke-linecap:square;stroke-linejoin:miter;stroke-width:0.8;\"/>\n   </g>\n  </g>\n </g>\n <defs>\n  <clipPath id=\"ped4815974e\">\n   <rect height=\"217.44\" width=\"217.44\" x=\"26.925\" y=\"7.2\"/>\n  </clipPath>\n </defs>\n</svg>\n"
          },
          "metadata": {
            "needs_background": "light"
          }
        }
      ]
    },
    {
      "cell_type": "code",
      "metadata": {
        "id": "yfZKI3EXBHL5"
      },
      "source": [
        "batchsize = 128\n",
        "train_set = TensorDataset(dataNorm,labels)"
      ],
      "execution_count": 17,
      "outputs": []
    },
    {
      "cell_type": "code",
      "source": [
        "train_set.tensors[1].shape"
      ],
      "metadata": {
        "colab": {
          "base_uri": "https://localhost:8080/"
        },
        "id": "zwTPZXvlrmu9",
        "outputId": "450f8183-3519-4194-aa06-85520cc896cc"
      },
      "execution_count": 18,
      "outputs": [
        {
          "output_type": "execute_result",
          "data": {
            "text/plain": [
              "torch.Size([18000])"
            ]
          },
          "metadata": {},
          "execution_count": 18
        }
      ]
    },
    {
      "cell_type": "code",
      "source": [
        "train_loader = DataLoader(train_set,batch_size=batchsize,shuffle=True,drop_last=True)"
      ],
      "metadata": {
        "id": "fDcv2uMkqE1W"
      },
      "execution_count": 19,
      "outputs": []
    },
    {
      "cell_type": "code",
      "source": [
        "for X,y in train_loader:\n",
        "  print(X.shape)"
      ],
      "metadata": {
        "colab": {
          "base_uri": "https://localhost:8080/"
        },
        "id": "C8S95g8c6KIm",
        "outputId": "dbcdc1c7-d18b-4a5c-bf8a-884430232d8a"
      },
      "execution_count": 20,
      "outputs": [
        {
          "output_type": "stream",
          "name": "stdout",
          "text": [
            "torch.Size([128, 28, 28])\n",
            "torch.Size([128, 28, 28])\n",
            "torch.Size([128, 28, 28])\n",
            "torch.Size([128, 28, 28])\n",
            "torch.Size([128, 28, 28])\n",
            "torch.Size([128, 28, 28])\n",
            "torch.Size([128, 28, 28])\n",
            "torch.Size([128, 28, 28])\n",
            "torch.Size([128, 28, 28])\n",
            "torch.Size([128, 28, 28])\n",
            "torch.Size([128, 28, 28])\n",
            "torch.Size([128, 28, 28])\n",
            "torch.Size([128, 28, 28])\n",
            "torch.Size([128, 28, 28])\n",
            "torch.Size([128, 28, 28])\n",
            "torch.Size([128, 28, 28])\n",
            "torch.Size([128, 28, 28])\n",
            "torch.Size([128, 28, 28])\n",
            "torch.Size([128, 28, 28])\n",
            "torch.Size([128, 28, 28])\n",
            "torch.Size([128, 28, 28])\n",
            "torch.Size([128, 28, 28])\n",
            "torch.Size([128, 28, 28])\n",
            "torch.Size([128, 28, 28])\n",
            "torch.Size([128, 28, 28])\n",
            "torch.Size([128, 28, 28])\n",
            "torch.Size([128, 28, 28])\n",
            "torch.Size([128, 28, 28])\n",
            "torch.Size([128, 28, 28])\n",
            "torch.Size([128, 28, 28])\n",
            "torch.Size([128, 28, 28])\n",
            "torch.Size([128, 28, 28])\n",
            "torch.Size([128, 28, 28])\n",
            "torch.Size([128, 28, 28])\n",
            "torch.Size([128, 28, 28])\n",
            "torch.Size([128, 28, 28])\n",
            "torch.Size([128, 28, 28])\n",
            "torch.Size([128, 28, 28])\n",
            "torch.Size([128, 28, 28])\n",
            "torch.Size([128, 28, 28])\n",
            "torch.Size([128, 28, 28])\n",
            "torch.Size([128, 28, 28])\n",
            "torch.Size([128, 28, 28])\n",
            "torch.Size([128, 28, 28])\n",
            "torch.Size([128, 28, 28])\n",
            "torch.Size([128, 28, 28])\n",
            "torch.Size([128, 28, 28])\n",
            "torch.Size([128, 28, 28])\n",
            "torch.Size([128, 28, 28])\n",
            "torch.Size([128, 28, 28])\n",
            "torch.Size([128, 28, 28])\n",
            "torch.Size([128, 28, 28])\n",
            "torch.Size([128, 28, 28])\n",
            "torch.Size([128, 28, 28])\n",
            "torch.Size([128, 28, 28])\n",
            "torch.Size([128, 28, 28])\n",
            "torch.Size([128, 28, 28])\n",
            "torch.Size([128, 28, 28])\n",
            "torch.Size([128, 28, 28])\n",
            "torch.Size([128, 28, 28])\n",
            "torch.Size([128, 28, 28])\n",
            "torch.Size([128, 28, 28])\n",
            "torch.Size([128, 28, 28])\n",
            "torch.Size([128, 28, 28])\n",
            "torch.Size([128, 28, 28])\n",
            "torch.Size([128, 28, 28])\n",
            "torch.Size([128, 28, 28])\n",
            "torch.Size([128, 28, 28])\n",
            "torch.Size([128, 28, 28])\n",
            "torch.Size([128, 28, 28])\n",
            "torch.Size([128, 28, 28])\n",
            "torch.Size([128, 28, 28])\n",
            "torch.Size([128, 28, 28])\n",
            "torch.Size([128, 28, 28])\n",
            "torch.Size([128, 28, 28])\n",
            "torch.Size([128, 28, 28])\n",
            "torch.Size([128, 28, 28])\n",
            "torch.Size([128, 28, 28])\n",
            "torch.Size([128, 28, 28])\n",
            "torch.Size([128, 28, 28])\n",
            "torch.Size([128, 28, 28])\n",
            "torch.Size([128, 28, 28])\n",
            "torch.Size([128, 28, 28])\n",
            "torch.Size([128, 28, 28])\n",
            "torch.Size([128, 28, 28])\n",
            "torch.Size([128, 28, 28])\n",
            "torch.Size([128, 28, 28])\n",
            "torch.Size([128, 28, 28])\n",
            "torch.Size([128, 28, 28])\n",
            "torch.Size([128, 28, 28])\n",
            "torch.Size([128, 28, 28])\n",
            "torch.Size([128, 28, 28])\n",
            "torch.Size([128, 28, 28])\n",
            "torch.Size([128, 28, 28])\n",
            "torch.Size([128, 28, 28])\n",
            "torch.Size([128, 28, 28])\n",
            "torch.Size([128, 28, 28])\n",
            "torch.Size([128, 28, 28])\n",
            "torch.Size([128, 28, 28])\n",
            "torch.Size([128, 28, 28])\n",
            "torch.Size([128, 28, 28])\n",
            "torch.Size([128, 28, 28])\n",
            "torch.Size([128, 28, 28])\n",
            "torch.Size([128, 28, 28])\n",
            "torch.Size([128, 28, 28])\n",
            "torch.Size([128, 28, 28])\n",
            "torch.Size([128, 28, 28])\n",
            "torch.Size([128, 28, 28])\n",
            "torch.Size([128, 28, 28])\n",
            "torch.Size([128, 28, 28])\n",
            "torch.Size([128, 28, 28])\n",
            "torch.Size([128, 28, 28])\n",
            "torch.Size([128, 28, 28])\n",
            "torch.Size([128, 28, 28])\n",
            "torch.Size([128, 28, 28])\n",
            "torch.Size([128, 28, 28])\n",
            "torch.Size([128, 28, 28])\n",
            "torch.Size([128, 28, 28])\n",
            "torch.Size([128, 28, 28])\n",
            "torch.Size([128, 28, 28])\n",
            "torch.Size([128, 28, 28])\n",
            "torch.Size([128, 28, 28])\n",
            "torch.Size([128, 28, 28])\n",
            "torch.Size([128, 28, 28])\n",
            "torch.Size([128, 28, 28])\n",
            "torch.Size([128, 28, 28])\n",
            "torch.Size([128, 28, 28])\n",
            "torch.Size([128, 28, 28])\n",
            "torch.Size([128, 28, 28])\n",
            "torch.Size([128, 28, 28])\n",
            "torch.Size([128, 28, 28])\n",
            "torch.Size([128, 28, 28])\n",
            "torch.Size([128, 28, 28])\n",
            "torch.Size([128, 28, 28])\n",
            "torch.Size([128, 28, 28])\n",
            "torch.Size([128, 28, 28])\n",
            "torch.Size([128, 28, 28])\n",
            "torch.Size([128, 28, 28])\n",
            "torch.Size([128, 28, 28])\n",
            "torch.Size([128, 28, 28])\n"
          ]
        }
      ]
    },
    {
      "cell_type": "markdown",
      "metadata": {
        "id": "wavRi03hUmUc"
      },
      "source": [
        "# Create classes for the discriminator and generator"
      ]
    },
    {
      "cell_type": "code",
      "metadata": {
        "id": "UT-TyZZDK9-9",
        "colab": {
          "base_uri": "https://localhost:8080/"
        },
        "outputId": "f4bdd811-f4a4-4c58-9b63-4cff303c2184"
      },
      "source": [
        "class discriminatorNet(nn.Module):\n",
        "  def __init__(self):\n",
        "    super().__init__()\n",
        "    \n",
        "    self.fc1 = nn.Linear(28*28,256)\n",
        "    self.fc2 = nn.Linear(256,256)\n",
        "    self.out = nn.Linear(256,1)\n",
        "\n",
        "  def forward(self,x):\n",
        "    x = F.leaky_relu( self.fc1(x) )\n",
        "    x = F.leaky_relu( self.fc2(x) )\n",
        "    x = self.out(x)\n",
        "    return torch.sigmoid( x )\n",
        "\n",
        "dnet = discriminatorNet()\n",
        "y = dnet(torch.randn(10,784))\n",
        "y"
      ],
      "execution_count": 21,
      "outputs": [
        {
          "output_type": "execute_result",
          "data": {
            "text/plain": [
              "tensor([[0.5292],\n",
              "        [0.4702],\n",
              "        [0.5144],\n",
              "        [0.4841],\n",
              "        [0.4788],\n",
              "        [0.4980],\n",
              "        [0.4680],\n",
              "        [0.4917],\n",
              "        [0.4891],\n",
              "        [0.4695]], grad_fn=<SigmoidBackward0>)"
            ]
          },
          "metadata": {},
          "execution_count": 21
        }
      ]
    },
    {
      "cell_type": "code",
      "metadata": {
        "id": "alVVPOJiLTHB",
        "colab": {
          "base_uri": "https://localhost:8080/",
          "height": 352
        },
        "outputId": "c9bd3787-670a-4663-ae34-18aebebd0474"
      },
      "source": [
        "class generatorNet(nn.Module):\n",
        "  def __init__(self):\n",
        "    super().__init__()\n",
        "    \n",
        "    self.fc1 = nn.Linear(64,256)\n",
        "    self.fc2 = nn.Linear(256,256)\n",
        "    self.out = nn.Linear(256,784)\n",
        "\n",
        "  def forward(self,x):\n",
        "    x = F.leaky_relu( self.fc1(x) )\n",
        "    x = F.leaky_relu( self.fc2(x) )\n",
        "    x = self.out(x)\n",
        "    return torch.tanh( x )\n",
        "\n",
        "\n",
        "gnet = generatorNet()\n",
        "y = gnet(torch.randn(10,64))\n",
        "\n",
        "plt.imshow(y[0,:].detach().squeeze().view(28,28));"
      ],
      "execution_count": 22,
      "outputs": [
        {
          "output_type": "display_data",
          "data": {
            "text/plain": [
              "<Figure size 432x288 with 1 Axes>"
            ],
            "image/svg+xml": "<?xml version=\"1.0\" encoding=\"utf-8\" standalone=\"no\"?>\n<!DOCTYPE svg PUBLIC \"-//W3C//DTD SVG 1.1//EN\"\n  \"http://www.w3.org/Graphics/SVG/1.1/DTD/svg11.dtd\">\n<!-- Created with matplotlib (https://matplotlib.org/) -->\n<svg height=\"248.518125pt\" version=\"1.1\" viewBox=\"0 0 251.565 248.518125\" width=\"251.565pt\" xmlns=\"http://www.w3.org/2000/svg\" xmlns:xlink=\"http://www.w3.org/1999/xlink\">\n <defs>\n  <style type=\"text/css\">\n*{stroke-linecap:butt;stroke-linejoin:round;}\n  </style>\n </defs>\n <g id=\"figure_1\">\n  <g id=\"patch_1\">\n   <path d=\"M 0 248.518125 \nL 251.565 248.518125 \nL 251.565 0 \nL 0 0 \nz\n\" style=\"fill:none;\"/>\n  </g>\n  <g id=\"axes_1\">\n   <g id=\"patch_2\">\n    <path d=\"M 26.925 224.64 \nL 244.365 224.64 \nL 244.365 7.2 \nL 26.925 7.2 \nz\n\" style=\"fill:#ffffff;\"/>\n   </g>\n   <g clip-path=\"url(#p9e8d6f239c)\">\n    <image height=\"218\" id=\"image19d7b4e202\" transform=\"scale(1 -1)translate(0 -218)\" width=\"218\" x=\"26.925\" xlink:href=\"data:image/png;base64,\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\" y=\"-6.64\"/>\n   </g>\n   <g id=\"matplotlib.axis_1\">\n    <g id=\"xtick_1\">\n     <g id=\"line2d_1\">\n      <defs>\n       <path d=\"M 0 0 \nL 0 3.5 \n\" id=\"mf1d2c19f42\" style=\"stroke:#000000;stroke-width:0.8;\"/>\n      </defs>\n      <g>\n       <use style=\"stroke:#000000;stroke-width:0.8;\" x=\"30.807857\" xlink:href=\"#mf1d2c19f42\" y=\"224.64\"/>\n      </g>\n     </g>\n     <g id=\"text_1\">\n      <!-- 0 -->\n      <defs>\n       <path d=\"M 31.78125 66.40625 \nQ 24.171875 66.40625 20.328125 58.90625 \nQ 16.5 51.421875 16.5 36.375 \nQ 16.5 21.390625 20.328125 13.890625 \nQ 24.171875 6.390625 31.78125 6.390625 \nQ 39.453125 6.390625 43.28125 13.890625 \nQ 47.125 21.390625 47.125 36.375 \nQ 47.125 51.421875 43.28125 58.90625 \nQ 39.453125 66.40625 31.78125 66.40625 \nz\nM 31.78125 74.21875 \nQ 44.046875 74.21875 50.515625 64.515625 \nQ 56.984375 54.828125 56.984375 36.375 \nQ 56.984375 17.96875 50.515625 8.265625 \nQ 44.046875 -1.421875 31.78125 -1.421875 \nQ 19.53125 -1.421875 13.0625 8.265625 \nQ 6.59375 17.96875 6.59375 36.375 \nQ 6.59375 54.828125 13.0625 64.515625 \nQ 19.53125 74.21875 31.78125 74.21875 \nz\n\" id=\"DejaVuSans-48\"/>\n      </defs>\n      <g transform=\"translate(27.626607 239.238437)scale(0.1 -0.1)\">\n       <use xlink:href=\"#DejaVuSans-48\"/>\n      </g>\n     </g>\n    </g>\n    <g id=\"xtick_2\">\n     <g id=\"line2d_2\">\n      <g>\n       <use style=\"stroke:#000000;stroke-width:0.8;\" x=\"69.636429\" xlink:href=\"#mf1d2c19f42\" y=\"224.64\"/>\n      </g>\n     </g>\n     <g id=\"text_2\">\n      <!-- 5 -->\n      <defs>\n       <path d=\"M 10.796875 72.90625 \nL 49.515625 72.90625 \nL 49.515625 64.59375 \nL 19.828125 64.59375 \nL 19.828125 46.734375 \nQ 21.96875 47.46875 24.109375 47.828125 \nQ 26.265625 48.1875 28.421875 48.1875 \nQ 40.625 48.1875 47.75 41.5 \nQ 54.890625 34.8125 54.890625 23.390625 \nQ 54.890625 11.625 47.5625 5.09375 \nQ 40.234375 -1.421875 26.90625 -1.421875 \nQ 22.3125 -1.421875 17.546875 -0.640625 \nQ 12.796875 0.140625 7.71875 1.703125 \nL 7.71875 11.625 \nQ 12.109375 9.234375 16.796875 8.0625 \nQ 21.484375 6.890625 26.703125 6.890625 \nQ 35.15625 6.890625 40.078125 11.328125 \nQ 45.015625 15.765625 45.015625 23.390625 \nQ 45.015625 31 40.078125 35.4375 \nQ 35.15625 39.890625 26.703125 39.890625 \nQ 22.75 39.890625 18.8125 39.015625 \nQ 14.890625 38.140625 10.796875 36.28125 \nz\n\" id=\"DejaVuSans-53\"/>\n      </defs>\n      <g transform=\"translate(66.455179 239.238437)scale(0.1 -0.1)\">\n       <use xlink:href=\"#DejaVuSans-53\"/>\n      </g>\n     </g>\n    </g>\n    <g id=\"xtick_3\">\n     <g id=\"line2d_3\">\n      <g>\n       <use style=\"stroke:#000000;stroke-width:0.8;\" x=\"108.465\" xlink:href=\"#mf1d2c19f42\" y=\"224.64\"/>\n      </g>\n     </g>\n     <g id=\"text_3\">\n      <!-- 10 -->\n      <defs>\n       <path d=\"M 12.40625 8.296875 \nL 28.515625 8.296875 \nL 28.515625 63.921875 \nL 10.984375 60.40625 \nL 10.984375 69.390625 \nL 28.421875 72.90625 \nL 38.28125 72.90625 \nL 38.28125 8.296875 \nL 54.390625 8.296875 \nL 54.390625 0 \nL 12.40625 0 \nz\n\" id=\"DejaVuSans-49\"/>\n      </defs>\n      <g transform=\"translate(102.1025 239.238437)scale(0.1 -0.1)\">\n       <use xlink:href=\"#DejaVuSans-49\"/>\n       <use x=\"63.623047\" xlink:href=\"#DejaVuSans-48\"/>\n      </g>\n     </g>\n    </g>\n    <g id=\"xtick_4\">\n     <g id=\"line2d_4\">\n      <g>\n       <use style=\"stroke:#000000;stroke-width:0.8;\" x=\"147.293571\" xlink:href=\"#mf1d2c19f42\" y=\"224.64\"/>\n      </g>\n     </g>\n     <g id=\"text_4\">\n      <!-- 15 -->\n      <g transform=\"translate(140.931071 239.238437)scale(0.1 -0.1)\">\n       <use xlink:href=\"#DejaVuSans-49\"/>\n       <use x=\"63.623047\" xlink:href=\"#DejaVuSans-53\"/>\n      </g>\n     </g>\n    </g>\n    <g id=\"xtick_5\">\n     <g id=\"line2d_5\">\n      <g>\n       <use style=\"stroke:#000000;stroke-width:0.8;\" x=\"186.122143\" xlink:href=\"#mf1d2c19f42\" y=\"224.64\"/>\n      </g>\n     </g>\n     <g id=\"text_5\">\n      <!-- 20 -->\n      <defs>\n       <path d=\"M 19.1875 8.296875 \nL 53.609375 8.296875 \nL 53.609375 0 \nL 7.328125 0 \nL 7.328125 8.296875 \nQ 12.9375 14.109375 22.625 23.890625 \nQ 32.328125 33.6875 34.8125 36.53125 \nQ 39.546875 41.84375 41.421875 45.53125 \nQ 43.3125 49.21875 43.3125 52.78125 \nQ 43.3125 58.59375 39.234375 62.25 \nQ 35.15625 65.921875 28.609375 65.921875 \nQ 23.96875 65.921875 18.8125 64.3125 \nQ 13.671875 62.703125 7.8125 59.421875 \nL 7.8125 69.390625 \nQ 13.765625 71.78125 18.9375 73 \nQ 24.125 74.21875 28.421875 74.21875 \nQ 39.75 74.21875 46.484375 68.546875 \nQ 53.21875 62.890625 53.21875 53.421875 \nQ 53.21875 48.921875 51.53125 44.890625 \nQ 49.859375 40.875 45.40625 35.40625 \nQ 44.1875 33.984375 37.640625 27.21875 \nQ 31.109375 20.453125 19.1875 8.296875 \nz\n\" id=\"DejaVuSans-50\"/>\n      </defs>\n      <g transform=\"translate(179.759643 239.238437)scale(0.1 -0.1)\">\n       <use xlink:href=\"#DejaVuSans-50\"/>\n       <use x=\"63.623047\" xlink:href=\"#DejaVuSans-48\"/>\n      </g>\n     </g>\n    </g>\n    <g id=\"xtick_6\">\n     <g id=\"line2d_6\">\n      <g>\n       <use style=\"stroke:#000000;stroke-width:0.8;\" x=\"224.950714\" xlink:href=\"#mf1d2c19f42\" y=\"224.64\"/>\n      </g>\n     </g>\n     <g id=\"text_6\">\n      <!-- 25 -->\n      <g transform=\"translate(218.588214 239.238437)scale(0.1 -0.1)\">\n       <use xlink:href=\"#DejaVuSans-50\"/>\n       <use x=\"63.623047\" xlink:href=\"#DejaVuSans-53\"/>\n      </g>\n     </g>\n    </g>\n   </g>\n   <g id=\"matplotlib.axis_2\">\n    <g id=\"ytick_1\">\n     <g id=\"line2d_7\">\n      <defs>\n       <path d=\"M 0 0 \nL -3.5 0 \n\" id=\"m63d23747ca\" style=\"stroke:#000000;stroke-width:0.8;\"/>\n      </defs>\n      <g>\n       <use style=\"stroke:#000000;stroke-width:0.8;\" x=\"26.925\" xlink:href=\"#m63d23747ca\" y=\"11.082857\"/>\n      </g>\n     </g>\n     <g id=\"text_7\">\n      <!-- 0 -->\n      <g transform=\"translate(13.5625 14.882076)scale(0.1 -0.1)\">\n       <use xlink:href=\"#DejaVuSans-48\"/>\n      </g>\n     </g>\n    </g>\n    <g id=\"ytick_2\">\n     <g id=\"line2d_8\">\n      <g>\n       <use style=\"stroke:#000000;stroke-width:0.8;\" x=\"26.925\" xlink:href=\"#m63d23747ca\" y=\"49.911429\"/>\n      </g>\n     </g>\n     <g id=\"text_8\">\n      <!-- 5 -->\n      <g transform=\"translate(13.5625 53.710647)scale(0.1 -0.1)\">\n       <use xlink:href=\"#DejaVuSans-53\"/>\n      </g>\n     </g>\n    </g>\n    <g id=\"ytick_3\">\n     <g id=\"line2d_9\">\n      <g>\n       <use style=\"stroke:#000000;stroke-width:0.8;\" x=\"26.925\" xlink:href=\"#m63d23747ca\" y=\"88.74\"/>\n      </g>\n     </g>\n     <g id=\"text_9\">\n      <!-- 10 -->\n      <g transform=\"translate(7.2 92.539219)scale(0.1 -0.1)\">\n       <use xlink:href=\"#DejaVuSans-49\"/>\n       <use x=\"63.623047\" xlink:href=\"#DejaVuSans-48\"/>\n      </g>\n     </g>\n    </g>\n    <g id=\"ytick_4\">\n     <g id=\"line2d_10\">\n      <g>\n       <use style=\"stroke:#000000;stroke-width:0.8;\" x=\"26.925\" xlink:href=\"#m63d23747ca\" y=\"127.568571\"/>\n      </g>\n     </g>\n     <g id=\"text_10\">\n      <!-- 15 -->\n      <g transform=\"translate(7.2 131.36779)scale(0.1 -0.1)\">\n       <use xlink:href=\"#DejaVuSans-49\"/>\n       <use x=\"63.623047\" xlink:href=\"#DejaVuSans-53\"/>\n      </g>\n     </g>\n    </g>\n    <g id=\"ytick_5\">\n     <g id=\"line2d_11\">\n      <g>\n       <use style=\"stroke:#000000;stroke-width:0.8;\" x=\"26.925\" xlink:href=\"#m63d23747ca\" y=\"166.397143\"/>\n      </g>\n     </g>\n     <g id=\"text_11\">\n      <!-- 20 -->\n      <g transform=\"translate(7.2 170.196362)scale(0.1 -0.1)\">\n       <use xlink:href=\"#DejaVuSans-50\"/>\n       <use x=\"63.623047\" xlink:href=\"#DejaVuSans-48\"/>\n      </g>\n     </g>\n    </g>\n    <g id=\"ytick_6\">\n     <g id=\"line2d_12\">\n      <g>\n       <use style=\"stroke:#000000;stroke-width:0.8;\" x=\"26.925\" xlink:href=\"#m63d23747ca\" y=\"205.225714\"/>\n      </g>\n     </g>\n     <g id=\"text_12\">\n      <!-- 25 -->\n      <g transform=\"translate(7.2 209.024933)scale(0.1 -0.1)\">\n       <use xlink:href=\"#DejaVuSans-50\"/>\n       <use x=\"63.623047\" xlink:href=\"#DejaVuSans-53\"/>\n      </g>\n     </g>\n    </g>\n   </g>\n   <g id=\"patch_3\">\n    <path d=\"M 26.925 224.64 \nL 26.925 7.2 \n\" style=\"fill:none;stroke:#000000;stroke-linecap:square;stroke-linejoin:miter;stroke-width:0.8;\"/>\n   </g>\n   <g id=\"patch_4\">\n    <path d=\"M 244.365 224.64 \nL 244.365 7.2 \n\" style=\"fill:none;stroke:#000000;stroke-linecap:square;stroke-linejoin:miter;stroke-width:0.8;\"/>\n   </g>\n   <g id=\"patch_5\">\n    <path d=\"M 26.925 224.64 \nL 244.365 224.64 \n\" style=\"fill:none;stroke:#000000;stroke-linecap:square;stroke-linejoin:miter;stroke-width:0.8;\"/>\n   </g>\n   <g id=\"patch_6\">\n    <path d=\"M 26.925 7.2 \nL 244.365 7.2 \n\" style=\"fill:none;stroke:#000000;stroke-linecap:square;stroke-linejoin:miter;stroke-width:0.8;\"/>\n   </g>\n  </g>\n </g>\n <defs>\n  <clipPath id=\"p9e8d6f239c\">\n   <rect height=\"217.44\" width=\"217.44\" x=\"26.925\" y=\"7.2\"/>\n  </clipPath>\n </defs>\n</svg>\n"
          },
          "metadata": {
            "needs_background": "light"
          }
        }
      ]
    },
    {
      "cell_type": "markdown",
      "metadata": {
        "id": "bBsOOqcX_LvO"
      },
      "source": [
        "# Train the models"
      ]
    },
    {
      "cell_type": "code",
      "metadata": {
        "id": "SFDbnRqeCPqy"
      },
      "source": [
        "# loss function (same for both phases of training)\n",
        "lossfun = nn.BCELoss()\n",
        "\n",
        "# create instances of the models\n",
        "dnet = discriminatorNet().to(device)\n",
        "gnet = generatorNet().to(device)\n",
        "\n",
        "# optimizers (same algo but different variables b/c different parameters)\n",
        "d_optimizer = torch.optim.Adam(dnet.parameters(), lr=.0005)\n",
        "g_optimizer = torch.optim.Adam(gnet.parameters(), lr=.0005)"
      ],
      "execution_count": 23,
      "outputs": []
    },
    {
      "cell_type": "code",
      "source": [],
      "metadata": {
        "id": "sIsN7X2UT4I3"
      },
      "execution_count": 23,
      "outputs": []
    },
    {
      "cell_type": "code",
      "metadata": {
        "id": "83Ju8fDuUTBg",
        "colab": {
          "base_uri": "https://localhost:8080/"
        },
        "outputId": "f0bd0085-904f-464a-f709-4d67aace944b"
      },
      "source": [
        "num_epochs = 500\n",
        "\n",
        "losses  = np.zeros((num_epochs,2))\n",
        "disDecs = np.zeros((num_epochs,2)) # disDecs = discriminator decisions\n",
        "\n",
        "for epochi in range(num_epochs):\n",
        "\n",
        "  for X,y in train_loader:\n",
        "    \n",
        "    # create minibatches of REAL and FAKE images \n",
        "    # randidx     = torch.randint(dataT.shape[0],(batchsize,))\n",
        "    real_images = X.reshape(batchsize,784).to(device)\n",
        "    fake_images = gnet( torch.randn(batchsize,64).to(device) ) # output of generator\n",
        "\n",
        "    # labels used for real and fake images\n",
        "    real_labels = torch.ones(batchsize,1).to(device)\n",
        "    fake_labels = torch.zeros(batchsize,1).to(device)\n",
        "\n",
        "\n",
        "\n",
        "    ### ---------------- Train the discriminator ---------------- ###\n",
        "\n",
        "    # forward pass and loss for REAL pictures\n",
        "    pred_real   = dnet(real_images)              # REAL images into discriminator\n",
        "    d_loss_real = lossfun(pred_real,real_labels) # all labels are 1\n",
        "    \n",
        "    # forward pass and loss for FAKE pictures\n",
        "    pred_fake   = dnet(fake_images)              # FAKE images into discriminator\n",
        "    d_loss_fake = lossfun(pred_fake,fake_labels) # all labels are 0\n",
        "    \n",
        "    # collect loss (using combined losses)\n",
        "    d_loss = d_loss_real + d_loss_fake\n",
        "    losses[epochi,0]  = d_loss.item()\n",
        "    disDecs[epochi,0] = torch.mean((pred_real>.5).float()).detach()\n",
        "\n",
        "    # backprop\n",
        "    d_optimizer.zero_grad()\n",
        "    d_loss.backward()\n",
        "    d_optimizer.step()\n",
        "\n",
        "    \n",
        "    \n",
        "\n",
        "    ### ---------------- Train the generator ---------------- ###\n",
        "\n",
        "    # create fake images and compute loss\n",
        "    fake_images = gnet( torch.randn(batchsize,64).to(device) )\n",
        "    pred_fake   = dnet(fake_images)\n",
        "    \n",
        "    # compute and collect loss and accuracy\n",
        "    g_loss = lossfun(pred_fake,real_labels)\n",
        "    losses[epochi,1]  = g_loss.item()\n",
        "    disDecs[epochi,1] = torch.mean((pred_fake>.5).float()).detach()\n",
        "    \n",
        "    # backprop\n",
        "    g_optimizer.zero_grad()\n",
        "    g_loss.backward()\n",
        "    g_optimizer.step()\n",
        "\n",
        "    \n",
        "    # print out a status message\n",
        "    if (epochi+1)%50==0:\n",
        "      msg = f'Finished epoch {epochi+1}/{num_epochs}'\n",
        "      sys.stdout.write('\\r' + msg)\n",
        "  "
      ],
      "execution_count": 24,
      "outputs": [
        {
          "output_type": "stream",
          "name": "stdout",
          "text": [
            "Finished epoch 500/500"
          ]
        }
      ]
    },
    {
      "cell_type": "code",
      "metadata": {
        "id": "1C0qAf9kN7mi",
        "colab": {
          "base_uri": "https://localhost:8080/",
          "height": 483
        },
        "outputId": "877d4820-9ea5-4d99-a641-c20dbbd08334"
      },
      "source": [
        "fig,ax = plt.subplots(1,3,figsize=(18,5))\n",
        "\n",
        "ax[0].plot(losses)\n",
        "ax[0].set_xlabel('Epochs')\n",
        "ax[0].set_ylabel('Loss')\n",
        "ax[0].set_title('Model loss')\n",
        "ax[0].legend(['Discrimator','Generator'])\n",
        "# ax[0].set_xlim([200,300])\n",
        "\n",
        "ax[1].plot(losses[::5,0],losses[::5,1],'k.',alpha=.1)\n",
        "ax[1].set_xlabel('Discriminator loss')\n",
        "ax[1].set_ylabel('Generator loss')\n",
        "\n",
        "ax[2].plot(disDecs)\n",
        "ax[2].set_xlabel('Epochs')\n",
        "ax[2].set_ylabel('Probablity (\"real\")')\n",
        "ax[2].set_title('Discriminator output')\n",
        "ax[2].legend(['Real','Fake'])\n",
        "\n",
        "plt.show()"
      ],
      "execution_count": 25,
      "outputs": [
        {
          "output_type": "display_data",
          "data": {
            "text/plain": [
              "<Figure size 1296x360 with 3 Axes>"
            ],
            "image/svg+xml": "<?xml version=\"1.0\" encoding=\"utf-8\" standalone=\"no\"?>\n<!DOCTYPE svg PUBLIC \"-//W3C//DTD SVG 1.1//EN\"\n  \"http://www.w3.org/Graphics/SVG/1.1/DTD/svg11.dtd\">\n<!-- Created with matplotlib (https://matplotlib.org/) -->\n<svg height=\"331.674375pt\" version=\"1.1\" viewBox=\"0 0 1052.203125 331.674375\" width=\"1052.203125pt\" xmlns=\"http://www.w3.org/2000/svg\" xmlns:xlink=\"http://www.w3.org/1999/xlink\">\n <defs>\n  <style type=\"text/css\">\n*{stroke-linecap:butt;stroke-linejoin:round;}\n  </style>\n </defs>\n <g id=\"figure_1\">\n  <g id=\"patch_1\">\n   <path d=\"M 0 331.674375 \nL 1052.203125 331.674375 \nL 1052.203125 0 \nL 0 0 \nz\n\" style=\"fill:none;\"/>\n  </g>\n  <g id=\"axes_1\">\n   <g id=\"patch_2\">\n    <path d=\"M 40.603125 294.118125 \nL 336.01489 294.118125 \nL 336.01489 22.318125 \nL 40.603125 22.318125 \nz\n\" style=\"fill:#ffffff;\"/>\n   </g>\n   <g id=\"matplotlib.axis_1\">\n    <g id=\"xtick_1\">\n     <g id=\"line2d_1\">\n      <defs>\n       <path d=\"M 0 0 \nL 0 3.5 \n\" id=\"mbc295550b4\" style=\"stroke:#000000;stroke-width:0.8;\"/>\n      </defs>\n      <g>\n       <use style=\"stroke:#000000;stroke-width:0.8;\" x=\"54.030932\" xlink:href=\"#mbc295550b4\" y=\"294.118125\"/>\n      </g>\n     </g>\n     <g id=\"text_1\">\n      <!-- 0 -->\n      <defs>\n       <path d=\"M 31.78125 66.40625 \nQ 24.171875 66.40625 20.328125 58.90625 \nQ 16.5 51.421875 16.5 36.375 \nQ 16.5 21.390625 20.328125 13.890625 \nQ 24.171875 6.390625 31.78125 6.390625 \nQ 39.453125 6.390625 43.28125 13.890625 \nQ 47.125 21.390625 47.125 36.375 \nQ 47.125 51.421875 43.28125 58.90625 \nQ 39.453125 66.40625 31.78125 66.40625 \nz\nM 31.78125 74.21875 \nQ 44.046875 74.21875 50.515625 64.515625 \nQ 56.984375 54.828125 56.984375 36.375 \nQ 56.984375 17.96875 50.515625 8.265625 \nQ 44.046875 -1.421875 31.78125 -1.421875 \nQ 19.53125 -1.421875 13.0625 8.265625 \nQ 6.59375 17.96875 6.59375 36.375 \nQ 6.59375 54.828125 13.0625 64.515625 \nQ 19.53125 74.21875 31.78125 74.21875 \nz\n\" id=\"DejaVuSans-48\"/>\n      </defs>\n      <g transform=\"translate(50.849682 308.716563)scale(0.1 -0.1)\">\n       <use xlink:href=\"#DejaVuSans-48\"/>\n      </g>\n     </g>\n    </g>\n    <g id=\"xtick_2\">\n     <g id=\"line2d_2\">\n      <g>\n       <use style=\"stroke:#000000;stroke-width:0.8;\" x=\"107.8498\" xlink:href=\"#mbc295550b4\" y=\"294.118125\"/>\n      </g>\n     </g>\n     <g id=\"text_2\">\n      <!-- 100 -->\n      <defs>\n       <path d=\"M 12.40625 8.296875 \nL 28.515625 8.296875 \nL 28.515625 63.921875 \nL 10.984375 60.40625 \nL 10.984375 69.390625 \nL 28.421875 72.90625 \nL 38.28125 72.90625 \nL 38.28125 8.296875 \nL 54.390625 8.296875 \nL 54.390625 0 \nL 12.40625 0 \nz\n\" id=\"DejaVuSans-49\"/>\n      </defs>\n      <g transform=\"translate(98.30605 308.716563)scale(0.1 -0.1)\">\n       <use xlink:href=\"#DejaVuSans-49\"/>\n       <use x=\"63.623047\" xlink:href=\"#DejaVuSans-48\"/>\n       <use x=\"127.246094\" xlink:href=\"#DejaVuSans-48\"/>\n      </g>\n     </g>\n    </g>\n    <g id=\"xtick_3\">\n     <g id=\"line2d_3\">\n      <g>\n       <use style=\"stroke:#000000;stroke-width:0.8;\" x=\"161.668668\" xlink:href=\"#mbc295550b4\" y=\"294.118125\"/>\n      </g>\n     </g>\n     <g id=\"text_3\">\n      <!-- 200 -->\n      <defs>\n       <path d=\"M 19.1875 8.296875 \nL 53.609375 8.296875 \nL 53.609375 0 \nL 7.328125 0 \nL 7.328125 8.296875 \nQ 12.9375 14.109375 22.625 23.890625 \nQ 32.328125 33.6875 34.8125 36.53125 \nQ 39.546875 41.84375 41.421875 45.53125 \nQ 43.3125 49.21875 43.3125 52.78125 \nQ 43.3125 58.59375 39.234375 62.25 \nQ 35.15625 65.921875 28.609375 65.921875 \nQ 23.96875 65.921875 18.8125 64.3125 \nQ 13.671875 62.703125 7.8125 59.421875 \nL 7.8125 69.390625 \nQ 13.765625 71.78125 18.9375 73 \nQ 24.125 74.21875 28.421875 74.21875 \nQ 39.75 74.21875 46.484375 68.546875 \nQ 53.21875 62.890625 53.21875 53.421875 \nQ 53.21875 48.921875 51.53125 44.890625 \nQ 49.859375 40.875 45.40625 35.40625 \nQ 44.1875 33.984375 37.640625 27.21875 \nQ 31.109375 20.453125 19.1875 8.296875 \nz\n\" id=\"DejaVuSans-50\"/>\n      </defs>\n      <g transform=\"translate(152.124918 308.716563)scale(0.1 -0.1)\">\n       <use xlink:href=\"#DejaVuSans-50\"/>\n       <use x=\"63.623047\" xlink:href=\"#DejaVuSans-48\"/>\n       <use x=\"127.246094\" xlink:href=\"#DejaVuSans-48\"/>\n      </g>\n     </g>\n    </g>\n    <g id=\"xtick_4\">\n     <g id=\"line2d_4\">\n      <g>\n       <use style=\"stroke:#000000;stroke-width:0.8;\" x=\"215.487536\" xlink:href=\"#mbc295550b4\" y=\"294.118125\"/>\n      </g>\n     </g>\n     <g id=\"text_4\">\n      <!-- 300 -->\n      <defs>\n       <path d=\"M 40.578125 39.3125 \nQ 47.65625 37.796875 51.625 33 \nQ 55.609375 28.21875 55.609375 21.1875 \nQ 55.609375 10.40625 48.1875 4.484375 \nQ 40.765625 -1.421875 27.09375 -1.421875 \nQ 22.515625 -1.421875 17.65625 -0.515625 \nQ 12.796875 0.390625 7.625 2.203125 \nL 7.625 11.71875 \nQ 11.71875 9.328125 16.59375 8.109375 \nQ 21.484375 6.890625 26.8125 6.890625 \nQ 36.078125 6.890625 40.9375 10.546875 \nQ 45.796875 14.203125 45.796875 21.1875 \nQ 45.796875 27.640625 41.28125 31.265625 \nQ 36.765625 34.90625 28.71875 34.90625 \nL 20.21875 34.90625 \nL 20.21875 43.015625 \nL 29.109375 43.015625 \nQ 36.375 43.015625 40.234375 45.921875 \nQ 44.09375 48.828125 44.09375 54.296875 \nQ 44.09375 59.90625 40.109375 62.90625 \nQ 36.140625 65.921875 28.71875 65.921875 \nQ 24.65625 65.921875 20.015625 65.03125 \nQ 15.375 64.15625 9.8125 62.3125 \nL 9.8125 71.09375 \nQ 15.4375 72.65625 20.34375 73.4375 \nQ 25.25 74.21875 29.59375 74.21875 \nQ 40.828125 74.21875 47.359375 69.109375 \nQ 53.90625 64.015625 53.90625 55.328125 \nQ 53.90625 49.265625 50.4375 45.09375 \nQ 46.96875 40.921875 40.578125 39.3125 \nz\n\" id=\"DejaVuSans-51\"/>\n      </defs>\n      <g transform=\"translate(205.943786 308.716563)scale(0.1 -0.1)\">\n       <use xlink:href=\"#DejaVuSans-51\"/>\n       <use x=\"63.623047\" xlink:href=\"#DejaVuSans-48\"/>\n       <use x=\"127.246094\" xlink:href=\"#DejaVuSans-48\"/>\n      </g>\n     </g>\n    </g>\n    <g id=\"xtick_5\">\n     <g id=\"line2d_5\">\n      <g>\n       <use style=\"stroke:#000000;stroke-width:0.8;\" x=\"269.306403\" xlink:href=\"#mbc295550b4\" y=\"294.118125\"/>\n      </g>\n     </g>\n     <g id=\"text_5\">\n      <!-- 400 -->\n      <defs>\n       <path d=\"M 37.796875 64.3125 \nL 12.890625 25.390625 \nL 37.796875 25.390625 \nz\nM 35.203125 72.90625 \nL 47.609375 72.90625 \nL 47.609375 25.390625 \nL 58.015625 25.390625 \nL 58.015625 17.1875 \nL 47.609375 17.1875 \nL 47.609375 0 \nL 37.796875 0 \nL 37.796875 17.1875 \nL 4.890625 17.1875 \nL 4.890625 26.703125 \nz\n\" id=\"DejaVuSans-52\"/>\n      </defs>\n      <g transform=\"translate(259.762653 308.716563)scale(0.1 -0.1)\">\n       <use xlink:href=\"#DejaVuSans-52\"/>\n       <use x=\"63.623047\" xlink:href=\"#DejaVuSans-48\"/>\n       <use x=\"127.246094\" xlink:href=\"#DejaVuSans-48\"/>\n      </g>\n     </g>\n    </g>\n    <g id=\"xtick_6\">\n     <g id=\"line2d_6\">\n      <g>\n       <use style=\"stroke:#000000;stroke-width:0.8;\" x=\"323.125271\" xlink:href=\"#mbc295550b4\" y=\"294.118125\"/>\n      </g>\n     </g>\n     <g id=\"text_6\">\n      <!-- 500 -->\n      <defs>\n       <path d=\"M 10.796875 72.90625 \nL 49.515625 72.90625 \nL 49.515625 64.59375 \nL 19.828125 64.59375 \nL 19.828125 46.734375 \nQ 21.96875 47.46875 24.109375 47.828125 \nQ 26.265625 48.1875 28.421875 48.1875 \nQ 40.625 48.1875 47.75 41.5 \nQ 54.890625 34.8125 54.890625 23.390625 \nQ 54.890625 11.625 47.5625 5.09375 \nQ 40.234375 -1.421875 26.90625 -1.421875 \nQ 22.3125 -1.421875 17.546875 -0.640625 \nQ 12.796875 0.140625 7.71875 1.703125 \nL 7.71875 11.625 \nQ 12.109375 9.234375 16.796875 8.0625 \nQ 21.484375 6.890625 26.703125 6.890625 \nQ 35.15625 6.890625 40.078125 11.328125 \nQ 45.015625 15.765625 45.015625 23.390625 \nQ 45.015625 31 40.078125 35.4375 \nQ 35.15625 39.890625 26.703125 39.890625 \nQ 22.75 39.890625 18.8125 39.015625 \nQ 14.890625 38.140625 10.796875 36.28125 \nz\n\" id=\"DejaVuSans-53\"/>\n      </defs>\n      <g transform=\"translate(313.581521 308.716563)scale(0.1 -0.1)\">\n       <use xlink:href=\"#DejaVuSans-53\"/>\n       <use x=\"63.623047\" xlink:href=\"#DejaVuSans-48\"/>\n       <use x=\"127.246094\" xlink:href=\"#DejaVuSans-48\"/>\n      </g>\n     </g>\n    </g>\n    <g id=\"text_7\">\n     <!-- Epochs -->\n     <defs>\n      <path d=\"M 9.8125 72.90625 \nL 55.90625 72.90625 \nL 55.90625 64.59375 \nL 19.671875 64.59375 \nL 19.671875 43.015625 \nL 54.390625 43.015625 \nL 54.390625 34.71875 \nL 19.671875 34.71875 \nL 19.671875 8.296875 \nL 56.78125 8.296875 \nL 56.78125 0 \nL 9.8125 0 \nz\n\" id=\"DejaVuSans-69\"/>\n      <path d=\"M 18.109375 8.203125 \nL 18.109375 -20.796875 \nL 9.078125 -20.796875 \nL 9.078125 54.6875 \nL 18.109375 54.6875 \nL 18.109375 46.390625 \nQ 20.953125 51.265625 25.265625 53.625 \nQ 29.59375 56 35.59375 56 \nQ 45.5625 56 51.78125 48.09375 \nQ 58.015625 40.1875 58.015625 27.296875 \nQ 58.015625 14.40625 51.78125 6.484375 \nQ 45.5625 -1.421875 35.59375 -1.421875 \nQ 29.59375 -1.421875 25.265625 0.953125 \nQ 20.953125 3.328125 18.109375 8.203125 \nz\nM 48.6875 27.296875 \nQ 48.6875 37.203125 44.609375 42.84375 \nQ 40.53125 48.484375 33.40625 48.484375 \nQ 26.265625 48.484375 22.1875 42.84375 \nQ 18.109375 37.203125 18.109375 27.296875 \nQ 18.109375 17.390625 22.1875 11.75 \nQ 26.265625 6.109375 33.40625 6.109375 \nQ 40.53125 6.109375 44.609375 11.75 \nQ 48.6875 17.390625 48.6875 27.296875 \nz\n\" id=\"DejaVuSans-112\"/>\n      <path d=\"M 30.609375 48.390625 \nQ 23.390625 48.390625 19.1875 42.75 \nQ 14.984375 37.109375 14.984375 27.296875 \nQ 14.984375 17.484375 19.15625 11.84375 \nQ 23.34375 6.203125 30.609375 6.203125 \nQ 37.796875 6.203125 41.984375 11.859375 \nQ 46.1875 17.53125 46.1875 27.296875 \nQ 46.1875 37.015625 41.984375 42.703125 \nQ 37.796875 48.390625 30.609375 48.390625 \nz\nM 30.609375 56 \nQ 42.328125 56 49.015625 48.375 \nQ 55.71875 40.765625 55.71875 27.296875 \nQ 55.71875 13.875 49.015625 6.21875 \nQ 42.328125 -1.421875 30.609375 -1.421875 \nQ 18.84375 -1.421875 12.171875 6.21875 \nQ 5.515625 13.875 5.515625 27.296875 \nQ 5.515625 40.765625 12.171875 48.375 \nQ 18.84375 56 30.609375 56 \nz\n\" id=\"DejaVuSans-111\"/>\n      <path d=\"M 48.78125 52.59375 \nL 48.78125 44.1875 \nQ 44.96875 46.296875 41.140625 47.34375 \nQ 37.3125 48.390625 33.40625 48.390625 \nQ 24.65625 48.390625 19.8125 42.84375 \nQ 14.984375 37.3125 14.984375 27.296875 \nQ 14.984375 17.28125 19.8125 11.734375 \nQ 24.65625 6.203125 33.40625 6.203125 \nQ 37.3125 6.203125 41.140625 7.25 \nQ 44.96875 8.296875 48.78125 10.40625 \nL 48.78125 2.09375 \nQ 45.015625 0.34375 40.984375 -0.53125 \nQ 36.96875 -1.421875 32.421875 -1.421875 \nQ 20.0625 -1.421875 12.78125 6.34375 \nQ 5.515625 14.109375 5.515625 27.296875 \nQ 5.515625 40.671875 12.859375 48.328125 \nQ 20.21875 56 33.015625 56 \nQ 37.15625 56 41.109375 55.140625 \nQ 45.0625 54.296875 48.78125 52.59375 \nz\n\" id=\"DejaVuSans-99\"/>\n      <path d=\"M 54.890625 33.015625 \nL 54.890625 0 \nL 45.90625 0 \nL 45.90625 32.71875 \nQ 45.90625 40.484375 42.875 44.328125 \nQ 39.84375 48.1875 33.796875 48.1875 \nQ 26.515625 48.1875 22.3125 43.546875 \nQ 18.109375 38.921875 18.109375 30.90625 \nL 18.109375 0 \nL 9.078125 0 \nL 9.078125 75.984375 \nL 18.109375 75.984375 \nL 18.109375 46.1875 \nQ 21.34375 51.125 25.703125 53.5625 \nQ 30.078125 56 35.796875 56 \nQ 45.21875 56 50.046875 50.171875 \nQ 54.890625 44.34375 54.890625 33.015625 \nz\n\" id=\"DejaVuSans-104\"/>\n      <path d=\"M 44.28125 53.078125 \nL 44.28125 44.578125 \nQ 40.484375 46.53125 36.375 47.5 \nQ 32.28125 48.484375 27.875 48.484375 \nQ 21.1875 48.484375 17.84375 46.4375 \nQ 14.5 44.390625 14.5 40.28125 \nQ 14.5 37.15625 16.890625 35.375 \nQ 19.28125 33.59375 26.515625 31.984375 \nL 29.59375 31.296875 \nQ 39.15625 29.25 43.1875 25.515625 \nQ 47.21875 21.78125 47.21875 15.09375 \nQ 47.21875 7.46875 41.1875 3.015625 \nQ 35.15625 -1.421875 24.609375 -1.421875 \nQ 20.21875 -1.421875 15.453125 -0.5625 \nQ 10.6875 0.296875 5.421875 2 \nL 5.421875 11.28125 \nQ 10.40625 8.6875 15.234375 7.390625 \nQ 20.0625 6.109375 24.8125 6.109375 \nQ 31.15625 6.109375 34.5625 8.28125 \nQ 37.984375 10.453125 37.984375 14.40625 \nQ 37.984375 18.0625 35.515625 20.015625 \nQ 33.0625 21.96875 24.703125 23.78125 \nL 21.578125 24.515625 \nQ 13.234375 26.265625 9.515625 29.90625 \nQ 5.8125 33.546875 5.8125 39.890625 \nQ 5.8125 47.609375 11.28125 51.796875 \nQ 16.75 56 26.8125 56 \nQ 31.78125 56 36.171875 55.265625 \nQ 40.578125 54.546875 44.28125 53.078125 \nz\n\" id=\"DejaVuSans-115\"/>\n     </defs>\n     <g transform=\"translate(170.393382 322.394687)scale(0.1 -0.1)\">\n      <use xlink:href=\"#DejaVuSans-69\"/>\n      <use x=\"63.183594\" xlink:href=\"#DejaVuSans-112\"/>\n      <use x=\"126.660156\" xlink:href=\"#DejaVuSans-111\"/>\n      <use x=\"187.841797\" xlink:href=\"#DejaVuSans-99\"/>\n      <use x=\"242.822266\" xlink:href=\"#DejaVuSans-104\"/>\n      <use x=\"306.201172\" xlink:href=\"#DejaVuSans-115\"/>\n     </g>\n    </g>\n   </g>\n   <g id=\"matplotlib.axis_2\">\n    <g id=\"ytick_1\">\n     <g id=\"line2d_7\">\n      <defs>\n       <path d=\"M 0 0 \nL -3.5 0 \n\" id=\"m30740b6c1d\" style=\"stroke:#000000;stroke-width:0.8;\"/>\n      </defs>\n      <g>\n       <use style=\"stroke:#000000;stroke-width:0.8;\" x=\"40.603125\" xlink:href=\"#m30740b6c1d\" y=\"281.899968\"/>\n      </g>\n     </g>\n     <g id=\"text_8\">\n      <!-- 0 -->\n      <g transform=\"translate(27.240625 285.699186)scale(0.1 -0.1)\">\n       <use xlink:href=\"#DejaVuSans-48\"/>\n      </g>\n     </g>\n    </g>\n    <g id=\"ytick_2\">\n     <g id=\"line2d_8\">\n      <g>\n       <use style=\"stroke:#000000;stroke-width:0.8;\" x=\"40.603125\" xlink:href=\"#m30740b6c1d\" y=\"245.216257\"/>\n      </g>\n     </g>\n     <g id=\"text_9\">\n      <!-- 2 -->\n      <g transform=\"translate(27.240625 249.015476)scale(0.1 -0.1)\">\n       <use xlink:href=\"#DejaVuSans-50\"/>\n      </g>\n     </g>\n    </g>\n    <g id=\"ytick_3\">\n     <g id=\"line2d_9\">\n      <g>\n       <use style=\"stroke:#000000;stroke-width:0.8;\" x=\"40.603125\" xlink:href=\"#m30740b6c1d\" y=\"208.532547\"/>\n      </g>\n     </g>\n     <g id=\"text_10\">\n      <!-- 4 -->\n      <g transform=\"translate(27.240625 212.331765)scale(0.1 -0.1)\">\n       <use xlink:href=\"#DejaVuSans-52\"/>\n      </g>\n     </g>\n    </g>\n    <g id=\"ytick_4\">\n     <g id=\"line2d_10\">\n      <g>\n       <use style=\"stroke:#000000;stroke-width:0.8;\" x=\"40.603125\" xlink:href=\"#m30740b6c1d\" y=\"171.848836\"/>\n      </g>\n     </g>\n     <g id=\"text_11\">\n      <!-- 6 -->\n      <defs>\n       <path d=\"M 33.015625 40.375 \nQ 26.375 40.375 22.484375 35.828125 \nQ 18.609375 31.296875 18.609375 23.390625 \nQ 18.609375 15.53125 22.484375 10.953125 \nQ 26.375 6.390625 33.015625 6.390625 \nQ 39.65625 6.390625 43.53125 10.953125 \nQ 47.40625 15.53125 47.40625 23.390625 \nQ 47.40625 31.296875 43.53125 35.828125 \nQ 39.65625 40.375 33.015625 40.375 \nz\nM 52.59375 71.296875 \nL 52.59375 62.3125 \nQ 48.875 64.0625 45.09375 64.984375 \nQ 41.3125 65.921875 37.59375 65.921875 \nQ 27.828125 65.921875 22.671875 59.328125 \nQ 17.53125 52.734375 16.796875 39.40625 \nQ 19.671875 43.65625 24.015625 45.921875 \nQ 28.375 48.1875 33.59375 48.1875 \nQ 44.578125 48.1875 50.953125 41.515625 \nQ 57.328125 34.859375 57.328125 23.390625 \nQ 57.328125 12.15625 50.6875 5.359375 \nQ 44.046875 -1.421875 33.015625 -1.421875 \nQ 20.359375 -1.421875 13.671875 8.265625 \nQ 6.984375 17.96875 6.984375 36.375 \nQ 6.984375 53.65625 15.1875 63.9375 \nQ 23.390625 74.21875 37.203125 74.21875 \nQ 40.921875 74.21875 44.703125 73.484375 \nQ 48.484375 72.75 52.59375 71.296875 \nz\n\" id=\"DejaVuSans-54\"/>\n      </defs>\n      <g transform=\"translate(27.240625 175.648055)scale(0.1 -0.1)\">\n       <use xlink:href=\"#DejaVuSans-54\"/>\n      </g>\n     </g>\n    </g>\n    <g id=\"ytick_5\">\n     <g id=\"line2d_11\">\n      <g>\n       <use style=\"stroke:#000000;stroke-width:0.8;\" x=\"40.603125\" xlink:href=\"#m30740b6c1d\" y=\"135.165126\"/>\n      </g>\n     </g>\n     <g id=\"text_12\">\n      <!-- 8 -->\n      <defs>\n       <path d=\"M 31.78125 34.625 \nQ 24.75 34.625 20.71875 30.859375 \nQ 16.703125 27.09375 16.703125 20.515625 \nQ 16.703125 13.921875 20.71875 10.15625 \nQ 24.75 6.390625 31.78125 6.390625 \nQ 38.8125 6.390625 42.859375 10.171875 \nQ 46.921875 13.96875 46.921875 20.515625 \nQ 46.921875 27.09375 42.890625 30.859375 \nQ 38.875 34.625 31.78125 34.625 \nz\nM 21.921875 38.8125 \nQ 15.578125 40.375 12.03125 44.71875 \nQ 8.5 49.078125 8.5 55.328125 \nQ 8.5 64.0625 14.71875 69.140625 \nQ 20.953125 74.21875 31.78125 74.21875 \nQ 42.671875 74.21875 48.875 69.140625 \nQ 55.078125 64.0625 55.078125 55.328125 \nQ 55.078125 49.078125 51.53125 44.71875 \nQ 48 40.375 41.703125 38.8125 \nQ 48.828125 37.15625 52.796875 32.3125 \nQ 56.78125 27.484375 56.78125 20.515625 \nQ 56.78125 9.90625 50.3125 4.234375 \nQ 43.84375 -1.421875 31.78125 -1.421875 \nQ 19.734375 -1.421875 13.25 4.234375 \nQ 6.78125 9.90625 6.78125 20.515625 \nQ 6.78125 27.484375 10.78125 32.3125 \nQ 14.796875 37.15625 21.921875 38.8125 \nz\nM 18.3125 54.390625 \nQ 18.3125 48.734375 21.84375 45.5625 \nQ 25.390625 42.390625 31.78125 42.390625 \nQ 38.140625 42.390625 41.71875 45.5625 \nQ 45.3125 48.734375 45.3125 54.390625 \nQ 45.3125 60.0625 41.71875 63.234375 \nQ 38.140625 66.40625 31.78125 66.40625 \nQ 25.390625 66.40625 21.84375 63.234375 \nQ 18.3125 60.0625 18.3125 54.390625 \nz\n\" id=\"DejaVuSans-56\"/>\n      </defs>\n      <g transform=\"translate(27.240625 138.964344)scale(0.1 -0.1)\">\n       <use xlink:href=\"#DejaVuSans-56\"/>\n      </g>\n     </g>\n    </g>\n    <g id=\"ytick_6\">\n     <g id=\"line2d_12\">\n      <g>\n       <use style=\"stroke:#000000;stroke-width:0.8;\" x=\"40.603125\" xlink:href=\"#m30740b6c1d\" y=\"98.481415\"/>\n      </g>\n     </g>\n     <g id=\"text_13\">\n      <!-- 10 -->\n      <g transform=\"translate(20.878125 102.280634)scale(0.1 -0.1)\">\n       <use xlink:href=\"#DejaVuSans-49\"/>\n       <use x=\"63.623047\" xlink:href=\"#DejaVuSans-48\"/>\n      </g>\n     </g>\n    </g>\n    <g id=\"ytick_7\">\n     <g id=\"line2d_13\">\n      <g>\n       <use style=\"stroke:#000000;stroke-width:0.8;\" x=\"40.603125\" xlink:href=\"#m30740b6c1d\" y=\"61.797705\"/>\n      </g>\n     </g>\n     <g id=\"text_14\">\n      <!-- 12 -->\n      <g transform=\"translate(20.878125 65.596923)scale(0.1 -0.1)\">\n       <use xlink:href=\"#DejaVuSans-49\"/>\n       <use x=\"63.623047\" xlink:href=\"#DejaVuSans-50\"/>\n      </g>\n     </g>\n    </g>\n    <g id=\"ytick_8\">\n     <g id=\"line2d_14\">\n      <g>\n       <use style=\"stroke:#000000;stroke-width:0.8;\" x=\"40.603125\" xlink:href=\"#m30740b6c1d\" y=\"25.113994\"/>\n      </g>\n     </g>\n     <g id=\"text_15\">\n      <!-- 14 -->\n      <g transform=\"translate(20.878125 28.913213)scale(0.1 -0.1)\">\n       <use xlink:href=\"#DejaVuSans-49\"/>\n       <use x=\"63.623047\" xlink:href=\"#DejaVuSans-52\"/>\n      </g>\n     </g>\n    </g>\n    <g id=\"text_16\">\n     <!-- Loss -->\n     <defs>\n      <path d=\"M 9.8125 72.90625 \nL 19.671875 72.90625 \nL 19.671875 8.296875 \nL 55.171875 8.296875 \nL 55.171875 0 \nL 9.8125 0 \nz\n\" id=\"DejaVuSans-76\"/>\n     </defs>\n     <g transform=\"translate(14.798438 169.185313)rotate(-90)scale(0.1 -0.1)\">\n      <use xlink:href=\"#DejaVuSans-76\"/>\n      <use x=\"53.962891\" xlink:href=\"#DejaVuSans-111\"/>\n      <use x=\"115.144531\" xlink:href=\"#DejaVuSans-115\"/>\n      <use x=\"167.244141\" xlink:href=\"#DejaVuSans-115\"/>\n     </g>\n    </g>\n   </g>\n   <g id=\"line2d_15\">\n    <path clip-path=\"url(#pde3758c315)\" d=\"M 54.030932 273.28143 \nL 54.569121 281.76358 \nL 55.10731 281.638057 \nL 55.645499 280.646091 \nL 56.183687 280.961838 \nL 56.721876 278.664705 \nL 57.260065 280.470603 \nL 57.798253 280.579235 \nL 58.336442 261.005716 \nL 58.874631 278.287949 \nL 59.412819 269.077225 \nL 59.951008 279.147207 \nL 60.489197 278.59676 \nL 61.027385 273.747831 \nL 61.565574 280.053107 \nL 62.103763 272.61306 \nL 62.641951 276.931166 \nL 63.18014 279.199143 \nL 63.718329 278.889281 \nL 64.256517 275.608306 \nL 64.794706 277.671806 \nL 65.332895 278.736722 \nL 65.871083 278.675709 \nL 66.409272 275.100835 \nL 67.485649 274.605287 \nL 68.023838 277.314139 \nL 68.562027 276.989215 \nL 69.100215 271.323629 \nL 69.638404 273.303463 \nL 70.176593 278.097409 \nL 70.714781 270.34246 \nL 71.25297 277.351986 \nL 71.791159 278.417709 \nL 72.329347 275.944783 \nL 72.867536 263.532344 \nL 73.405725 277.908907 \nL 73.943914 277.958008 \nL 74.482102 277.094963 \nL 75.020291 276.510069 \nL 75.55848 276.230163 \nL 76.096668 278.308612 \nL 76.634857 277.962201 \nL 77.173046 277.301414 \nL 77.711234 275.137555 \nL 78.249423 270.392634 \nL 79.3258 277.509745 \nL 79.863989 274.367359 \nL 80.402178 272.801412 \nL 80.940366 276.633769 \nL 81.478555 273.90593 \nL 82.016744 272.836008 \nL 82.554932 271.176008 \nL 83.093121 277.196495 \nL 84.169498 275.380991 \nL 84.707687 277.069562 \nL 85.245876 270.792743 \nL 85.784064 278.372559 \nL 86.322253 272.51391 \nL 86.860442 278.933672 \nL 87.39863 273.431469 \nL 87.936819 273.438398 \nL 89.013196 275.783451 \nL 89.551385 274.393777 \nL 90.089574 273.788435 \nL 90.627763 274.479002 \nL 91.165951 268.800562 \nL 91.70414 271.499706 \nL 92.242329 270.101795 \nL 92.780517 270.907398 \nL 93.318706 275.173217 \nL 93.856895 274.923618 \nL 94.395083 274.286456 \nL 94.933272 278.23255 \nL 95.471461 277.383033 \nL 96.009649 263.935053 \nL 96.547838 276.178852 \nL 97.086027 272.848799 \nL 97.624215 274.958944 \nL 98.162404 275.776277 \nL 98.700593 272.990007 \nL 99.238781 271.984555 \nL 99.77697 267.596945 \nL 100.315159 273.246196 \nL 100.853347 270.940379 \nL 101.391536 270.556735 \nL 101.929725 273.307737 \nL 102.467913 271.05464 \nL 103.006102 273.466538 \nL 103.544291 273.276965 \nL 104.082479 270.543467 \nL 104.620668 271.586166 \nL 105.158857 274.725798 \nL 105.697045 274.136818 \nL 106.235234 271.218896 \nL 106.773423 273.187534 \nL 107.311611 275.734936 \nL 107.8498 275.922787 \nL 108.387989 270.964037 \nL 108.926178 274.641458 \nL 109.464366 273.830161 \nL 110.002555 273.76255 \nL 110.540744 275.944436 \nL 111.617121 271.707311 \nL 112.15531 271.842478 \nL 113.231687 274.057422 \nL 113.769876 269.284706 \nL 114.308064 268.270016 \nL 114.846253 268.69897 \nL 115.92263 270.545009 \nL 116.460819 270.773323 \nL 116.999008 271.918367 \nL 117.537196 275.5337 \nL 118.075385 269.96034 \nL 118.613574 270.829791 \nL 119.151762 267.806047 \nL 119.689951 272.686188 \nL 120.22814 272.923018 \nL 120.766328 271.547737 \nL 121.842706 267.784606 \nL 122.380894 266.593537 \nL 122.919083 270.885351 \nL 123.457272 271.417014 \nL 123.99546 273.294553 \nL 124.533649 270.827717 \nL 125.071838 272.325414 \nL 125.610027 270.653835 \nL 126.148215 273.249787 \nL 127.224593 269.519454 \nL 127.762781 272.155295 \nL 128.30097 272.259773 \nL 128.839159 266.601102 \nL 129.377347 269.803752 \nL 129.915536 269.335315 \nL 130.453725 267.593448 \nL 130.991913 270.041711 \nL 131.530102 270.567231 \nL 132.068291 272.136242 \nL 132.606479 271.91844 \nL 133.144668 273.446397 \nL 133.682857 267.949249 \nL 134.221045 272.75239 \nL 134.759234 272.764801 \nL 135.297423 271.788123 \nL 135.835611 273.453598 \nL 136.3738 270.887192 \nL 136.911989 273.987403 \nL 137.450177 270.441374 \nL 137.988366 270.077172 \nL 138.526555 271.259198 \nL 139.064743 271.600579 \nL 139.602932 266.992322 \nL 140.141121 273.061015 \nL 140.679309 271.218094 \nL 141.217498 272.976524 \nL 142.293875 268.000951 \nL 142.832064 267.362067 \nL 143.370253 267.749853 \nL 143.908442 263.324758 \nL 144.44663 268.243026 \nL 144.984819 267.280402 \nL 145.523008 273.088428 \nL 146.061196 271.467984 \nL 146.599385 268.095589 \nL 147.137574 267.262088 \nL 147.675762 269.812234 \nL 148.75214 266.56455 \nL 149.290328 267.632643 \nL 149.828517 269.765731 \nL 150.366706 266.578817 \nL 150.904894 267.855509 \nL 151.443083 267.828807 \nL 151.981272 268.155692 \nL 152.51946 265.630247 \nL 153.057649 268.695932 \nL 153.595838 270.883329 \nL 154.134026 270.508222 \nL 154.672215 267.402054 \nL 155.210404 266.080689 \nL 155.748592 271.168025 \nL 156.286781 269.93608 \nL 156.82497 269.270334 \nL 157.363158 259.12433 \nL 157.901347 268.184698 \nL 158.439536 264.98147 \nL 158.977724 264.890365 \nL 159.515913 271.706798 \nL 160.054102 268.458126 \nL 160.59229 270.114699 \nL 161.130479 266.817638 \nL 161.668668 268.613181 \nL 162.206857 268.087308 \nL 162.745045 271.395366 \nL 163.283234 269.57246 \nL 163.821423 262.537941 \nL 164.359611 267.487388 \nL 164.8978 265.83246 \nL 165.435989 269.767571 \nL 165.974177 268.185953 \nL 166.512366 269.115184 \nL 167.050555 264.075303 \nL 167.588743 263.79898 \nL 168.126932 267.015489 \nL 168.665121 267.371542 \nL 169.203309 268.62981 \nL 169.741498 266.738948 \nL 170.279687 265.789143 \nL 170.817875 266.253048 \nL 171.356064 267.039482 \nL 171.894253 268.048884 \nL 172.432441 266.429028 \nL 172.97063 267.830548 \nL 173.508819 265.850656 \nL 174.047007 268.227508 \nL 174.585196 269.341459 \nL 175.123385 269.64003 \nL 175.661573 268.261058 \nL 176.199762 269.435754 \nL 176.737951 264.653364 \nL 177.276139 262.586016 \nL 177.814328 267.90499 \nL 178.352517 269.593986 \nL 178.890706 263.657281 \nL 179.428894 267.610258 \nL 179.967083 265.464016 \nL 180.505272 265.679017 \nL 181.04346 267.295779 \nL 181.581649 261.863909 \nL 182.119838 264.625164 \nL 182.658026 269.058027 \nL 183.196215 269.866573 \nL 183.734404 267.381441 \nL 184.272592 266.451154 \nL 184.810781 267.340126 \nL 185.34897 268.671142 \nL 185.887158 269.209071 \nL 186.425347 262.270436 \nL 186.963536 267.130524 \nL 187.501724 269.827571 \nL 188.039913 267.439174 \nL 188.578102 268.601521 \nL 189.11629 267.336372 \nL 189.654479 268.510944 \nL 190.192668 266.572763 \nL 190.730856 266.859858 \nL 191.269045 264.54868 \nL 191.807234 265.827184 \nL 192.345422 266.600779 \nL 192.883611 266.540811 \nL 193.4218 265.001945 \nL 193.959988 267.93294 \nL 194.498177 267.389893 \nL 195.036366 262.843072 \nL 195.574554 264.78815 \nL 196.112743 264.167279 \nL 196.650932 264.155041 \nL 197.189121 267.377291 \nL 197.727309 267.364798 \nL 198.265498 264.223234 \nL 198.803687 267.657919 \nL 199.341875 266.18332 \nL 199.880064 266.369633 \nL 200.418253 268.42504 \nL 200.956441 263.650923 \nL 201.49463 265.899177 \nL 202.032819 262.406945 \nL 203.109196 266.641817 \nL 203.647385 266.743045 \nL 204.185573 266.012021 \nL 204.723762 267.811617 \nL 205.261951 272.236511 \nL 205.800139 267.9141 \nL 206.338328 267.643397 \nL 206.876517 267.61636 \nL 207.414705 265.779692 \nL 207.952894 267.437325 \nL 208.491083 264.850649 \nL 209.029271 271.495711 \nL 209.56746 263.397635 \nL 210.105649 266.325922 \nL 210.643837 261.166126 \nL 211.182026 257.259915 \nL 212.258403 265.210894 \nL 212.796592 266.264444 \nL 213.334781 263.794836 \nL 213.87297 263.294755 \nL 214.411158 266.397449 \nL 214.949347 266.53747 \nL 215.487536 268.350436 \nL 216.025724 264.002702 \nL 216.563913 262.191988 \nL 217.102102 268.483211 \nL 217.64029 265.314476 \nL 218.178479 263.065094 \nL 218.716668 268.715832 \nL 219.254856 266.810306 \nL 219.793045 268.001035 \nL 220.331234 266.726128 \nL 220.869422 253.473805 \nL 221.407611 266.390386 \nL 221.9458 266.242762 \nL 222.483988 266.927182 \nL 223.022177 270.783656 \nL 223.560366 262.972676 \nL 224.098554 265.284936 \nL 224.636743 266.768671 \nL 225.174932 257.807636 \nL 225.71312 261.570422 \nL 226.789498 265.906716 \nL 227.327686 263.907083 \nL 227.865875 267.973972 \nL 228.404064 265.743705 \nL 228.942252 266.455926 \nL 229.480441 264.774562 \nL 230.01863 261.601811 \nL 231.095007 265.295064 \nL 231.633196 259.947939 \nL 232.171385 265.60781 \nL 232.709573 262.612443 \nL 233.247762 266.398167 \nL 233.785951 266.025832 \nL 234.324139 263.515921 \nL 234.862328 268.114843 \nL 235.400517 263.461932 \nL 235.938705 266.926693 \nL 236.476894 271.778652 \nL 237.015083 264.845777 \nL 237.553271 261.321898 \nL 238.09146 263.897773 \nL 238.629649 264.118017 \nL 239.167837 265.151687 \nL 239.706026 261.850349 \nL 240.244215 265.442789 \nL 240.782403 264.230775 \nL 241.320592 268.414842 \nL 241.858781 264.252972 \nL 242.935158 260.987406 \nL 244.011535 265.381437 \nL 244.549724 267.109114 \nL 245.087913 254.87065 \nL 245.626101 261.700111 \nL 246.16429 265.848721 \nL 246.702479 259.799332 \nL 247.240667 261.759761 \nL 247.778856 263.254099 \nL 248.317045 258.67024 \nL 248.855233 262.051224 \nL 249.393422 264.355381 \nL 249.931611 256.531343 \nL 250.4698 268.01459 \nL 251.007988 263.754075 \nL 251.546177 262.535368 \nL 252.084366 264.888602 \nL 252.622554 260.721589 \nL 253.160743 262.422707 \nL 253.698932 261.903376 \nL 254.23712 264.464809 \nL 254.775309 262.328475 \nL 255.313498 263.056656 \nL 255.851686 262.220163 \nL 256.389875 267.458591 \nL 256.928064 267.11995 \nL 257.466252 267.685606 \nL 258.004441 258.837266 \nL 258.54263 262.005749 \nL 259.619007 263.782537 \nL 260.157196 262.66692 \nL 260.695384 263.719935 \nL 261.233573 263.524381 \nL 261.771762 264.550031 \nL 262.30995 264.093619 \nL 262.848139 263.244635 \nL 263.386328 267.014469 \nL 263.924516 260.884801 \nL 264.462705 263.290828 \nL 265.000894 261.355566 \nL 265.539082 264.241649 \nL 266.077271 264.752171 \nL 266.61546 262.726575 \nL 267.153649 262.424959 \nL 267.691837 266.148748 \nL 268.230026 264.135983 \nL 268.768215 264.941012 \nL 269.306403 264.576785 \nL 269.844592 267.753263 \nL 270.382781 268.131402 \nL 270.920969 257.401293 \nL 271.459158 266.613638 \nL 271.997347 267.403831 \nL 272.535535 263.401282 \nL 273.073724 266.355056 \nL 273.611913 265.370914 \nL 274.150101 263.943105 \nL 274.68829 266.806754 \nL 275.226479 265.066209 \nL 275.764667 253.164081 \nL 276.302856 261.670005 \nL 276.841045 261.607033 \nL 277.379233 262.612294 \nL 277.917422 263.003329 \nL 278.455611 263.74706 \nL 278.993799 261.059983 \nL 279.531988 263.555554 \nL 280.070177 263.372739 \nL 281.146554 266.221818 \nL 281.684743 260.744057 \nL 282.222931 264.373146 \nL 282.76112 264.6003 \nL 283.299309 258.494579 \nL 283.837497 262.738762 \nL 284.375686 262.735924 \nL 284.913875 262.532158 \nL 285.452064 261.61898 \nL 285.990252 266.037394 \nL 286.528441 271.663083 \nL 287.06663 266.246235 \nL 287.604818 264.231654 \nL 288.143007 261.438682 \nL 288.681196 263.666348 \nL 289.757573 263.518044 \nL 290.295762 266.518006 \nL 290.83395 260.712917 \nL 291.372139 264.45316 \nL 291.910328 266.034917 \nL 292.448516 265.891098 \nL 292.986705 263.952306 \nL 293.524894 261.521205 \nL 294.063082 262.520924 \nL 294.601271 261.227645 \nL 295.13946 262.2231 \nL 295.677648 262.629417 \nL 296.215837 264.793506 \nL 296.754026 264.164662 \nL 297.292214 264.305911 \nL 297.830403 264.643072 \nL 298.368592 266.083343 \nL 298.90678 266.459466 \nL 299.444969 256.972696 \nL 299.983158 253.377161 \nL 300.521346 259.617656 \nL 301.059535 263.0885 \nL 301.597724 258.605304 \nL 302.135913 262.267572 \nL 302.674101 264.346861 \nL 303.21229 259.013125 \nL 303.750479 264.114853 \nL 304.288667 262.407222 \nL 304.826856 265.17203 \nL 305.365045 262.345517 \nL 305.903233 262.930428 \nL 306.441422 265.260251 \nL 306.979611 266.227102 \nL 307.517799 263.290006 \nL 308.055988 264.803127 \nL 308.594177 263.461879 \nL 309.132365 260.133021 \nL 309.670554 263.398555 \nL 310.208743 263.85202 \nL 310.746931 251.33781 \nL 311.28512 261.545117 \nL 311.823309 264.589216 \nL 312.361497 261.491921 \nL 312.899686 265.256091 \nL 313.437875 263.423152 \nL 313.976063 262.214623 \nL 314.514252 265.525993 \nL 315.052441 261.767519 \nL 315.590629 262.005836 \nL 316.128818 263.747257 \nL 316.667007 260.648749 \nL 317.205195 260.455577 \nL 317.743384 262.805928 \nL 318.281573 263.208077 \nL 318.819761 265.974473 \nL 319.35795 260.998426 \nL 320.434328 263.582459 \nL 320.972516 260.483232 \nL 321.510705 261.005373 \nL 322.048894 264.23989 \nL 322.587082 260.39114 \nL 322.587082 260.39114 \n\" style=\"fill:none;stroke:#1f77b4;stroke-linecap:square;stroke-width:1.5;\"/>\n   </g>\n   <g id=\"line2d_16\">\n    <path clip-path=\"url(#pde3758c315)\" d=\"M 54.030932 255.865836 \nL 54.569121 149.070716 \nL 55.10731 178.634315 \nL 55.645499 34.67267 \nL 56.183687 119.255187 \nL 56.721876 110.035334 \nL 57.260065 113.609961 \nL 57.798253 170.494313 \nL 58.336442 154.183516 \nL 58.874631 157.523967 \nL 59.412819 191.547654 \nL 59.951008 184.868335 \nL 60.489197 209.812797 \nL 61.027385 218.091218 \nL 61.565574 173.329608 \nL 62.103763 151.624764 \nL 62.641951 142.879027 \nL 63.18014 161.036689 \nL 63.718329 200.415574 \nL 64.256517 219.695398 \nL 64.794706 190.495807 \nL 65.332895 194.047589 \nL 65.871083 190.361695 \nL 66.409272 173.538325 \nL 66.947461 183.627984 \nL 67.485649 156.607151 \nL 68.023838 202.046499 \nL 68.562027 176.128266 \nL 69.100215 194.215602 \nL 69.638404 208.297574 \nL 70.176593 208.844445 \nL 70.714781 217.1349 \nL 71.25297 189.152619 \nL 71.791159 216.047553 \nL 72.329347 201.179369 \nL 72.867536 194.568226 \nL 73.405725 195.59694 \nL 73.943914 184.16669 \nL 74.482102 208.237017 \nL 75.020291 208.119434 \nL 75.55848 191.258902 \nL 76.096668 188.186571 \nL 76.634857 208.062742 \nL 77.173046 213.643623 \nL 77.711234 225.522057 \nL 78.249423 210.873924 \nL 78.787612 211.398737 \nL 79.3258 208.805875 \nL 79.863989 214.430902 \nL 80.402178 225.899337 \nL 80.940366 197.40227 \nL 81.478555 211.424415 \nL 82.016744 190.486431 \nL 82.554932 190.593063 \nL 83.63131 220.165438 \nL 84.169498 197.441076 \nL 84.707687 223.439572 \nL 85.245876 222.293888 \nL 85.784064 204.410712 \nL 86.322253 198.947142 \nL 86.860442 167.095395 \nL 87.39863 218.210397 \nL 87.936819 242.862897 \nL 88.475008 223.1556 \nL 89.013196 220.453866 \nL 89.551385 209.694485 \nL 90.089574 207.956477 \nL 90.627763 222.324242 \nL 91.165951 217.016177 \nL 91.70414 228.520746 \nL 92.242329 178.448277 \nL 92.780517 220.471927 \nL 93.318706 196.25335 \nL 93.856895 233.333337 \nL 94.395083 224.386834 \nL 94.933272 213.16698 \nL 95.471461 224.798061 \nL 96.009649 220.373731 \nL 96.547838 224.97691 \nL 97.086027 198.885089 \nL 97.624215 223.316926 \nL 98.162404 176.611321 \nL 98.700593 213.717502 \nL 99.238781 209.200292 \nL 100.315159 234.331387 \nL 100.853347 222.045946 \nL 101.391536 239.467569 \nL 101.929725 233.664315 \nL 102.467913 226.525468 \nL 103.006102 217.417972 \nL 103.544291 224.510599 \nL 104.082479 241.30704 \nL 104.620668 231.185243 \nL 105.158857 225.789276 \nL 105.697045 231.00751 \nL 106.235234 241.202192 \nL 106.773423 223.305162 \nL 107.311611 215.162616 \nL 107.8498 197.435138 \nL 108.387989 208.522279 \nL 108.926178 200.590154 \nL 109.464366 225.302167 \nL 110.002555 227.465632 \nL 110.540744 215.193966 \nL 111.617121 240.674441 \nL 112.15531 224.435488 \nL 112.693498 220.166641 \nL 113.231687 241.340358 \nL 113.769876 227.180034 \nL 114.308064 240.188714 \nL 114.846253 226.276642 \nL 115.384442 227.246101 \nL 115.92263 210.851451 \nL 116.460819 233.207424 \nL 116.999008 239.067231 \nL 117.537196 225.802203 \nL 118.075385 239.240044 \nL 118.613574 222.79137 \nL 119.151762 229.059828 \nL 119.689951 224.264397 \nL 120.22814 238.713771 \nL 120.766328 237.751947 \nL 121.304517 226.79096 \nL 121.842706 203.023978 \nL 122.380894 227.66496 \nL 122.919083 230.088922 \nL 123.457272 241.469297 \nL 123.99546 232.076197 \nL 124.533649 237.85373 \nL 125.071838 240.508191 \nL 125.610027 237.803173 \nL 126.148215 236.147659 \nL 126.686404 243.315454 \nL 127.224593 236.056201 \nL 127.762781 231.040552 \nL 128.30097 220.40673 \nL 128.839159 229.63162 \nL 129.377347 231.16821 \nL 129.915536 224.314136 \nL 130.453725 245.481338 \nL 131.530102 235.698053 \nL 132.068291 235.184121 \nL 132.606479 221.628692 \nL 133.144668 237.86259 \nL 133.682857 243.179715 \nL 134.221045 225.040717 \nL 134.759234 228.100812 \nL 135.297423 237.365156 \nL 135.835611 236.280901 \nL 136.3738 242.532094 \nL 136.911989 242.546193 \nL 137.450177 236.199973 \nL 137.988366 238.505435 \nL 138.526555 244.234982 \nL 139.064743 232.634184 \nL 139.602932 253.248979 \nL 140.141121 210.872262 \nL 141.217498 238.710876 \nL 141.755687 238.697879 \nL 142.293875 235.714352 \nL 142.832064 235.197555 \nL 143.908442 251.845509 \nL 144.44663 230.664322 \nL 144.984819 234.576373 \nL 145.523008 206.927571 \nL 146.061196 244.297639 \nL 146.599385 243.987883 \nL 147.137574 246.227085 \nL 147.675762 212.845727 \nL 148.213951 237.475147 \nL 148.75214 248.750342 \nL 149.290328 246.772208 \nL 149.828517 247.822599 \nL 150.366706 240.671515 \nL 150.904894 247.93287 \nL 151.443083 242.498361 \nL 151.981272 247.038144 \nL 152.51946 243.557345 \nL 153.057649 237.651639 \nL 153.595838 250.98718 \nL 154.134026 256.066698 \nL 154.672215 247.942497 \nL 155.210404 236.788457 \nL 155.748592 240.54907 \nL 156.286781 239.354587 \nL 156.82497 244.373179 \nL 157.363158 242.690538 \nL 157.901347 227.515647 \nL 158.439536 255.093826 \nL 158.977724 254.669954 \nL 159.515913 244.05944 \nL 160.59229 255.324519 \nL 161.130479 252.841075 \nL 161.668668 248.462276 \nL 162.206857 248.135173 \nL 162.745045 246.156968 \nL 163.283234 225.28782 \nL 163.821423 233.602895 \nL 164.359611 249.074655 \nL 164.8978 238.093232 \nL 165.435989 236.606395 \nL 165.974177 247.994514 \nL 166.512366 237.426619 \nL 167.050555 248.9445 \nL 167.588743 253.653481 \nL 168.126932 247.544004 \nL 168.665121 252.386467 \nL 169.203309 246.551919 \nL 169.741498 252.699419 \nL 170.279687 243.58022 \nL 171.356064 250.972296 \nL 171.894253 240.942342 \nL 172.432441 246.722489 \nL 172.97063 250.938855 \nL 173.508819 250.572736 \nL 174.047007 252.810851 \nL 174.585196 246.308126 \nL 175.123385 253.085574 \nL 175.661573 236.202479 \nL 176.199762 235.061448 \nL 176.737951 218.719965 \nL 177.276139 249.937464 \nL 177.814328 249.812048 \nL 178.352517 231.615401 \nL 178.890706 246.821383 \nL 179.428894 241.55165 \nL 179.967083 244.571916 \nL 180.505272 250.655887 \nL 181.04346 245.28513 \nL 181.581649 252.960135 \nL 182.119838 250.440736 \nL 182.658026 243.021416 \nL 183.734404 240.802846 \nL 184.272592 249.731339 \nL 184.810781 247.582001 \nL 185.34897 228.943881 \nL 185.887158 252.438685 \nL 186.425347 256.207655 \nL 186.963536 246.182428 \nL 187.501724 242.816832 \nL 188.039913 233.443021 \nL 188.578102 239.368096 \nL 189.11629 236.482353 \nL 189.654479 251.745613 \nL 190.192668 251.145328 \nL 190.730856 251.694018 \nL 191.269045 249.997126 \nL 191.807234 245.144067 \nL 192.345422 247.170341 \nL 192.883611 252.259583 \nL 193.4218 237.736073 \nL 193.959988 244.050816 \nL 195.036366 233.185655 \nL 195.574554 249.753679 \nL 196.112743 232.320821 \nL 196.650932 243.009455 \nL 197.189121 248.068742 \nL 197.727309 251.015996 \nL 198.265498 247.760522 \nL 198.803687 249.600316 \nL 199.341875 247.381954 \nL 199.880064 248.117821 \nL 200.418253 235.709209 \nL 200.956441 247.188896 \nL 201.49463 249.081503 \nL 202.032819 256.43584 \nL 202.571007 256.404787 \nL 203.109196 257.053833 \nL 203.647385 251.657507 \nL 204.185573 252.254808 \nL 204.723762 255.061914 \nL 205.261951 242.274933 \nL 205.800139 247.381782 \nL 206.338328 249.115753 \nL 206.876517 251.403014 \nL 207.414705 257.340648 \nL 207.952894 248.913578 \nL 208.491083 251.380132 \nL 209.029271 234.805319 \nL 209.56746 249.937585 \nL 210.105649 244.662783 \nL 210.643837 257.058604 \nL 211.182026 252.925085 \nL 211.720215 259.552885 \nL 212.796592 245.053112 \nL 213.334781 252.996466 \nL 213.87297 256.34649 \nL 214.411158 257.738091 \nL 214.949347 247.898891 \nL 216.025724 257.171805 \nL 216.563913 261.069849 \nL 217.102102 241.407528 \nL 217.64029 252.153764 \nL 218.178479 252.501779 \nL 218.716668 249.745739 \nL 219.254856 250.788617 \nL 219.793045 254.412478 \nL 220.331234 244.07443 \nL 220.869422 252.344201 \nL 221.407611 249.851154 \nL 221.9458 253.959388 \nL 222.483988 245.690854 \nL 223.022177 243.127422 \nL 223.560366 249.569963 \nL 224.098554 248.763249 \nL 224.636743 251.374008 \nL 225.174932 259.19305 \nL 225.71312 248.035466 \nL 226.251309 252.414026 \nL 226.789498 252.664422 \nL 227.327686 259.65678 \nL 227.865875 257.673285 \nL 228.942252 250.179429 \nL 229.480441 250.212021 \nL 230.01863 253.907322 \nL 230.556818 253.036768 \nL 231.095007 252.952872 \nL 231.633196 260.136406 \nL 232.171385 258.414636 \nL 232.709573 261.166003 \nL 233.247762 249.738202 \nL 233.785951 253.078457 \nL 234.324139 249.98859 \nL 234.862328 250.235351 \nL 235.400517 252.57805 \nL 235.938705 252.638531 \nL 236.476894 244.363226 \nL 237.015083 255.65133 \nL 237.553271 259.150601 \nL 238.09146 260.580073 \nL 238.629649 253.958286 \nL 239.167837 255.13335 \nL 239.706026 240.20311 \nL 240.244215 256.599988 \nL 240.782403 256.968157 \nL 241.320592 239.016879 \nL 241.858781 258.249722 \nL 242.396969 262.310897 \nL 242.935158 252.570681 \nL 243.473347 256.727233 \nL 244.011535 257.148706 \nL 244.549724 250.218966 \nL 245.087913 254.806065 \nL 245.626101 257.292754 \nL 246.16429 253.102158 \nL 246.702479 264.664714 \nL 247.240667 261.093795 \nL 247.778856 250.627493 \nL 248.317045 252.296255 \nL 248.855233 251.366932 \nL 249.393422 261.745459 \nL 249.931611 259.696111 \nL 250.4698 245.062947 \nL 251.007988 250.818726 \nL 251.546177 253.898266 \nL 252.084366 259.264103 \nL 252.622554 257.087396 \nL 253.160743 253.544754 \nL 253.698932 254.596675 \nL 254.23712 256.930065 \nL 254.775309 254.419777 \nL 255.313498 251.242803 \nL 256.389875 248.615123 \nL 256.928064 254.6017 \nL 257.466252 243.856824 \nL 258.004441 255.945019 \nL 258.54263 250.219385 \nL 259.080818 262.686605 \nL 259.619007 254.989562 \nL 260.157196 253.966638 \nL 260.695384 253.923011 \nL 261.233573 257.676115 \nL 261.771762 254.586943 \nL 262.30995 256.164749 \nL 262.848139 262.301581 \nL 263.386328 249.995049 \nL 263.924516 253.552227 \nL 264.462705 265.769783 \nL 265.000894 258.264868 \nL 265.539082 257.543316 \nL 266.077271 261.829065 \nL 266.61546 259.940997 \nL 267.153649 257.204723 \nL 267.691837 260.797509 \nL 268.768215 257.220442 \nL 269.306403 256.27283 \nL 269.844592 258.14438 \nL 270.382781 257.016577 \nL 270.920969 259.994737 \nL 271.459158 255.767305 \nL 271.997347 239.755556 \nL 272.535535 247.59101 \nL 273.073724 247.894984 \nL 274.150101 245.327149 \nL 274.68829 252.958758 \nL 275.226479 255.351062 \nL 275.764667 254.969704 \nL 276.302856 252.366355 \nL 276.841045 256.605691 \nL 277.379233 253.506089 \nL 278.455611 250.724445 \nL 279.531988 258.371426 \nL 280.070177 256.138827 \nL 280.608365 257.359627 \nL 281.684743 265.336973 \nL 282.76112 255.630514 \nL 283.299309 259.172197 \nL 283.837497 249.380258 \nL 284.375686 257.43204 \nL 284.913875 253.805288 \nL 285.452064 258.077363 \nL 285.990252 248.900453 \nL 286.528441 242.691054 \nL 287.06663 257.020397 \nL 287.604818 245.54439 \nL 288.143007 258.641553 \nL 288.681196 255.190138 \nL 289.757573 256.003062 \nL 290.295762 257.77413 \nL 290.83395 261.134548 \nL 291.372139 261.206948 \nL 291.910328 249.025926 \nL 292.448516 255.451436 \nL 292.986705 253.493082 \nL 293.524894 259.237781 \nL 294.063082 256.061582 \nL 295.677648 262.493994 \nL 296.215837 255.385626 \nL 296.754026 257.114291 \nL 297.292214 262.461715 \nL 297.830403 259.165679 \nL 298.368592 256.885777 \nL 298.90678 245.803591 \nL 299.444969 257.295748 \nL 299.983158 260.666926 \nL 300.521346 251.153703 \nL 301.059535 250.317976 \nL 301.597724 249.149145 \nL 302.135913 255.222708 \nL 302.674101 255.046044 \nL 303.21229 257.018687 \nL 303.750479 253.094401 \nL 304.288667 257.929071 \nL 304.826856 256.661819 \nL 305.365045 258.818072 \nL 305.903233 251.159423 \nL 306.441422 257.18049 \nL 306.979611 252.987327 \nL 307.517799 257.914614 \nL 308.055988 252.163059 \nL 308.594177 257.044768 \nL 309.132365 254.987354 \nL 309.670554 261.05158 \nL 310.208743 250.442155 \nL 310.746931 257.784264 \nL 311.28512 247.019375 \nL 311.823309 261.748706 \nL 312.361497 256.606742 \nL 312.899686 247.628895 \nL 313.437875 258.094866 \nL 313.976063 251.980977 \nL 314.514252 257.417128 \nL 315.052441 256.435787 \nL 315.590629 260.326218 \nL 316.128818 254.329824 \nL 316.667007 264.734921 \nL 317.205195 250.432742 \nL 317.743384 261.062522 \nL 318.281573 258.68384 \nL 318.819761 255.456034 \nL 319.35795 259.918231 \nL 319.896139 257.751724 \nL 320.434328 256.957447 \nL 320.972516 260.077969 \nL 322.048894 249.600454 \nL 322.587082 258.647977 \nL 322.587082 258.647977 \n\" style=\"fill:none;stroke:#ff7f0e;stroke-linecap:square;stroke-width:1.5;\"/>\n   </g>\n   <g id=\"patch_3\">\n    <path d=\"M 40.603125 294.118125 \nL 40.603125 22.318125 \n\" style=\"fill:none;stroke:#000000;stroke-linecap:square;stroke-linejoin:miter;stroke-width:0.8;\"/>\n   </g>\n   <g id=\"patch_4\">\n    <path d=\"M 336.01489 294.118125 \nL 336.01489 22.318125 \n\" style=\"fill:none;stroke:#000000;stroke-linecap:square;stroke-linejoin:miter;stroke-width:0.8;\"/>\n   </g>\n   <g id=\"patch_5\">\n    <path d=\"M 40.603125 294.118125 \nL 336.01489 294.118125 \n\" style=\"fill:none;stroke:#000000;stroke-linecap:square;stroke-linejoin:miter;stroke-width:0.8;\"/>\n   </g>\n   <g id=\"patch_6\">\n    <path d=\"M 40.603125 22.318125 \nL 336.01489 22.318125 \n\" style=\"fill:none;stroke:#000000;stroke-linecap:square;stroke-linejoin:miter;stroke-width:0.8;\"/>\n   </g>\n   <g id=\"text_17\">\n    <!-- Model loss -->\n    <defs>\n     <path d=\"M 9.8125 72.90625 \nL 24.515625 72.90625 \nL 43.109375 23.296875 \nL 61.8125 72.90625 \nL 76.515625 72.90625 \nL 76.515625 0 \nL 66.890625 0 \nL 66.890625 64.015625 \nL 48.09375 14.015625 \nL 38.1875 14.015625 \nL 19.390625 64.015625 \nL 19.390625 0 \nL 9.8125 0 \nz\n\" id=\"DejaVuSans-77\"/>\n     <path d=\"M 45.40625 46.390625 \nL 45.40625 75.984375 \nL 54.390625 75.984375 \nL 54.390625 0 \nL 45.40625 0 \nL 45.40625 8.203125 \nQ 42.578125 3.328125 38.25 0.953125 \nQ 33.9375 -1.421875 27.875 -1.421875 \nQ 17.96875 -1.421875 11.734375 6.484375 \nQ 5.515625 14.40625 5.515625 27.296875 \nQ 5.515625 40.1875 11.734375 48.09375 \nQ 17.96875 56 27.875 56 \nQ 33.9375 56 38.25 53.625 \nQ 42.578125 51.265625 45.40625 46.390625 \nz\nM 14.796875 27.296875 \nQ 14.796875 17.390625 18.875 11.75 \nQ 22.953125 6.109375 30.078125 6.109375 \nQ 37.203125 6.109375 41.296875 11.75 \nQ 45.40625 17.390625 45.40625 27.296875 \nQ 45.40625 37.203125 41.296875 42.84375 \nQ 37.203125 48.484375 30.078125 48.484375 \nQ 22.953125 48.484375 18.875 42.84375 \nQ 14.796875 37.203125 14.796875 27.296875 \nz\n\" id=\"DejaVuSans-100\"/>\n     <path d=\"M 56.203125 29.59375 \nL 56.203125 25.203125 \nL 14.890625 25.203125 \nQ 15.484375 15.921875 20.484375 11.0625 \nQ 25.484375 6.203125 34.421875 6.203125 \nQ 39.59375 6.203125 44.453125 7.46875 \nQ 49.3125 8.734375 54.109375 11.28125 \nL 54.109375 2.78125 \nQ 49.265625 0.734375 44.1875 -0.34375 \nQ 39.109375 -1.421875 33.890625 -1.421875 \nQ 20.796875 -1.421875 13.15625 6.1875 \nQ 5.515625 13.8125 5.515625 26.8125 \nQ 5.515625 40.234375 12.765625 48.109375 \nQ 20.015625 56 32.328125 56 \nQ 43.359375 56 49.78125 48.890625 \nQ 56.203125 41.796875 56.203125 29.59375 \nz\nM 47.21875 32.234375 \nQ 47.125 39.59375 43.09375 43.984375 \nQ 39.0625 48.390625 32.421875 48.390625 \nQ 24.90625 48.390625 20.390625 44.140625 \nQ 15.875 39.890625 15.1875 32.171875 \nz\n\" id=\"DejaVuSans-101\"/>\n     <path d=\"M 9.421875 75.984375 \nL 18.40625 75.984375 \nL 18.40625 0 \nL 9.421875 0 \nz\n\" id=\"DejaVuSans-108\"/>\n     <path id=\"DejaVuSans-32\"/>\n    </defs>\n    <g transform=\"translate(156.79682 16.318125)scale(0.12 -0.12)\">\n     <use xlink:href=\"#DejaVuSans-77\"/>\n     <use x=\"86.279297\" xlink:href=\"#DejaVuSans-111\"/>\n     <use x=\"147.460938\" xlink:href=\"#DejaVuSans-100\"/>\n     <use x=\"210.9375\" xlink:href=\"#DejaVuSans-101\"/>\n     <use x=\"272.460938\" xlink:href=\"#DejaVuSans-108\"/>\n     <use x=\"300.244141\" xlink:href=\"#DejaVuSans-32\"/>\n     <use x=\"332.03125\" xlink:href=\"#DejaVuSans-108\"/>\n     <use x=\"359.814453\" xlink:href=\"#DejaVuSans-111\"/>\n     <use x=\"420.996094\" xlink:href=\"#DejaVuSans-115\"/>\n     <use x=\"473.095703\" xlink:href=\"#DejaVuSans-115\"/>\n    </g>\n   </g>\n   <g id=\"legend_1\">\n    <g id=\"patch_7\">\n     <path d=\"M 238.92114 59.674375 \nL 329.01489 59.674375 \nQ 331.01489 59.674375 331.01489 57.674375 \nL 331.01489 29.318125 \nQ 331.01489 27.318125 329.01489 27.318125 \nL 238.92114 27.318125 \nQ 236.92114 27.318125 236.92114 29.318125 \nL 236.92114 57.674375 \nQ 236.92114 59.674375 238.92114 59.674375 \nz\n\" style=\"fill:#ffffff;opacity:0.8;stroke:#cccccc;stroke-linejoin:miter;\"/>\n    </g>\n    <g id=\"line2d_17\">\n     <path d=\"M 240.92114 35.416562 \nL 260.92114 35.416562 \n\" style=\"fill:none;stroke:#1f77b4;stroke-linecap:square;stroke-width:1.5;\"/>\n    </g>\n    <g id=\"line2d_18\"/>\n    <g id=\"text_18\">\n     <!-- Discrimator -->\n     <defs>\n      <path d=\"M 19.671875 64.796875 \nL 19.671875 8.109375 \nL 31.59375 8.109375 \nQ 46.6875 8.109375 53.6875 14.9375 \nQ 60.6875 21.78125 60.6875 36.53125 \nQ 60.6875 51.171875 53.6875 57.984375 \nQ 46.6875 64.796875 31.59375 64.796875 \nz\nM 9.8125 72.90625 \nL 30.078125 72.90625 \nQ 51.265625 72.90625 61.171875 64.09375 \nQ 71.09375 55.28125 71.09375 36.53125 \nQ 71.09375 17.671875 61.125 8.828125 \nQ 51.171875 0 30.078125 0 \nL 9.8125 0 \nz\n\" id=\"DejaVuSans-68\"/>\n      <path d=\"M 9.421875 54.6875 \nL 18.40625 54.6875 \nL 18.40625 0 \nL 9.421875 0 \nz\nM 9.421875 75.984375 \nL 18.40625 75.984375 \nL 18.40625 64.59375 \nL 9.421875 64.59375 \nz\n\" id=\"DejaVuSans-105\"/>\n      <path d=\"M 41.109375 46.296875 \nQ 39.59375 47.171875 37.8125 47.578125 \nQ 36.03125 48 33.890625 48 \nQ 26.265625 48 22.1875 43.046875 \nQ 18.109375 38.09375 18.109375 28.8125 \nL 18.109375 0 \nL 9.078125 0 \nL 9.078125 54.6875 \nL 18.109375 54.6875 \nL 18.109375 46.1875 \nQ 20.953125 51.171875 25.484375 53.578125 \nQ 30.03125 56 36.53125 56 \nQ 37.453125 56 38.578125 55.875 \nQ 39.703125 55.765625 41.0625 55.515625 \nz\n\" id=\"DejaVuSans-114\"/>\n      <path d=\"M 52 44.1875 \nQ 55.375 50.25 60.0625 53.125 \nQ 64.75 56 71.09375 56 \nQ 79.640625 56 84.28125 50.015625 \nQ 88.921875 44.046875 88.921875 33.015625 \nL 88.921875 0 \nL 79.890625 0 \nL 79.890625 32.71875 \nQ 79.890625 40.578125 77.09375 44.375 \nQ 74.3125 48.1875 68.609375 48.1875 \nQ 61.625 48.1875 57.5625 43.546875 \nQ 53.515625 38.921875 53.515625 30.90625 \nL 53.515625 0 \nL 44.484375 0 \nL 44.484375 32.71875 \nQ 44.484375 40.625 41.703125 44.40625 \nQ 38.921875 48.1875 33.109375 48.1875 \nQ 26.21875 48.1875 22.15625 43.53125 \nQ 18.109375 38.875 18.109375 30.90625 \nL 18.109375 0 \nL 9.078125 0 \nL 9.078125 54.6875 \nL 18.109375 54.6875 \nL 18.109375 46.1875 \nQ 21.1875 51.21875 25.484375 53.609375 \nQ 29.78125 56 35.6875 56 \nQ 41.65625 56 45.828125 52.96875 \nQ 50 49.953125 52 44.1875 \nz\n\" id=\"DejaVuSans-109\"/>\n      <path d=\"M 34.28125 27.484375 \nQ 23.390625 27.484375 19.1875 25 \nQ 14.984375 22.515625 14.984375 16.5 \nQ 14.984375 11.71875 18.140625 8.90625 \nQ 21.296875 6.109375 26.703125 6.109375 \nQ 34.1875 6.109375 38.703125 11.40625 \nQ 43.21875 16.703125 43.21875 25.484375 \nL 43.21875 27.484375 \nz\nM 52.203125 31.203125 \nL 52.203125 0 \nL 43.21875 0 \nL 43.21875 8.296875 \nQ 40.140625 3.328125 35.546875 0.953125 \nQ 30.953125 -1.421875 24.3125 -1.421875 \nQ 15.921875 -1.421875 10.953125 3.296875 \nQ 6 8.015625 6 15.921875 \nQ 6 25.140625 12.171875 29.828125 \nQ 18.359375 34.515625 30.609375 34.515625 \nL 43.21875 34.515625 \nL 43.21875 35.40625 \nQ 43.21875 41.609375 39.140625 45 \nQ 35.0625 48.390625 27.6875 48.390625 \nQ 23 48.390625 18.546875 47.265625 \nQ 14.109375 46.140625 10.015625 43.890625 \nL 10.015625 52.203125 \nQ 14.9375 54.109375 19.578125 55.046875 \nQ 24.21875 56 28.609375 56 \nQ 40.484375 56 46.34375 49.84375 \nQ 52.203125 43.703125 52.203125 31.203125 \nz\n\" id=\"DejaVuSans-97\"/>\n      <path d=\"M 18.3125 70.21875 \nL 18.3125 54.6875 \nL 36.8125 54.6875 \nL 36.8125 47.703125 \nL 18.3125 47.703125 \nL 18.3125 18.015625 \nQ 18.3125 11.328125 20.140625 9.421875 \nQ 21.96875 7.515625 27.59375 7.515625 \nL 36.8125 7.515625 \nL 36.8125 0 \nL 27.59375 0 \nQ 17.1875 0 13.234375 3.875 \nQ 9.28125 7.765625 9.28125 18.015625 \nL 9.28125 47.703125 \nL 2.6875 47.703125 \nL 2.6875 54.6875 \nL 9.28125 54.6875 \nL 9.28125 70.21875 \nz\n\" id=\"DejaVuSans-116\"/>\n     </defs>\n     <g transform=\"translate(268.92114 38.916562)scale(0.1 -0.1)\">\n      <use xlink:href=\"#DejaVuSans-68\"/>\n      <use x=\"77.001953\" xlink:href=\"#DejaVuSans-105\"/>\n      <use x=\"104.785156\" xlink:href=\"#DejaVuSans-115\"/>\n      <use x=\"156.884766\" xlink:href=\"#DejaVuSans-99\"/>\n      <use x=\"211.865234\" xlink:href=\"#DejaVuSans-114\"/>\n      <use x=\"252.978516\" xlink:href=\"#DejaVuSans-105\"/>\n      <use x=\"280.761719\" xlink:href=\"#DejaVuSans-109\"/>\n      <use x=\"378.173828\" xlink:href=\"#DejaVuSans-97\"/>\n      <use x=\"439.453125\" xlink:href=\"#DejaVuSans-116\"/>\n      <use x=\"478.662109\" xlink:href=\"#DejaVuSans-111\"/>\n      <use x=\"539.84375\" xlink:href=\"#DejaVuSans-114\"/>\n     </g>\n    </g>\n    <g id=\"line2d_19\">\n     <path d=\"M 240.92114 50.094688 \nL 260.92114 50.094688 \n\" style=\"fill:none;stroke:#ff7f0e;stroke-linecap:square;stroke-width:1.5;\"/>\n    </g>\n    <g id=\"line2d_20\"/>\n    <g id=\"text_19\">\n     <!-- Generator -->\n     <defs>\n      <path d=\"M 59.515625 10.40625 \nL 59.515625 29.984375 \nL 43.40625 29.984375 \nL 43.40625 38.09375 \nL 69.28125 38.09375 \nL 69.28125 6.78125 \nQ 63.578125 2.734375 56.6875 0.65625 \nQ 49.8125 -1.421875 42 -1.421875 \nQ 24.90625 -1.421875 15.25 8.5625 \nQ 5.609375 18.5625 5.609375 36.375 \nQ 5.609375 54.25 15.25 64.234375 \nQ 24.90625 74.21875 42 74.21875 \nQ 49.125 74.21875 55.546875 72.453125 \nQ 61.96875 70.703125 67.390625 67.28125 \nL 67.390625 56.78125 \nQ 61.921875 61.421875 55.765625 63.765625 \nQ 49.609375 66.109375 42.828125 66.109375 \nQ 29.4375 66.109375 22.71875 58.640625 \nQ 16.015625 51.171875 16.015625 36.375 \nQ 16.015625 21.625 22.71875 14.15625 \nQ 29.4375 6.6875 42.828125 6.6875 \nQ 48.046875 6.6875 52.140625 7.59375 \nQ 56.25 8.5 59.515625 10.40625 \nz\n\" id=\"DejaVuSans-71\"/>\n      <path d=\"M 54.890625 33.015625 \nL 54.890625 0 \nL 45.90625 0 \nL 45.90625 32.71875 \nQ 45.90625 40.484375 42.875 44.328125 \nQ 39.84375 48.1875 33.796875 48.1875 \nQ 26.515625 48.1875 22.3125 43.546875 \nQ 18.109375 38.921875 18.109375 30.90625 \nL 18.109375 0 \nL 9.078125 0 \nL 9.078125 54.6875 \nL 18.109375 54.6875 \nL 18.109375 46.1875 \nQ 21.34375 51.125 25.703125 53.5625 \nQ 30.078125 56 35.796875 56 \nQ 45.21875 56 50.046875 50.171875 \nQ 54.890625 44.34375 54.890625 33.015625 \nz\n\" id=\"DejaVuSans-110\"/>\n     </defs>\n     <g transform=\"translate(268.92114 53.594688)scale(0.1 -0.1)\">\n      <use xlink:href=\"#DejaVuSans-71\"/>\n      <use x=\"77.490234\" xlink:href=\"#DejaVuSans-101\"/>\n      <use x=\"139.013672\" xlink:href=\"#DejaVuSans-110\"/>\n      <use x=\"202.392578\" xlink:href=\"#DejaVuSans-101\"/>\n      <use x=\"263.916016\" xlink:href=\"#DejaVuSans-114\"/>\n      <use x=\"305.029297\" xlink:href=\"#DejaVuSans-97\"/>\n      <use x=\"366.308594\" xlink:href=\"#DejaVuSans-116\"/>\n      <use x=\"405.517578\" xlink:href=\"#DejaVuSans-111\"/>\n      <use x=\"466.699219\" xlink:href=\"#DejaVuSans-114\"/>\n     </g>\n    </g>\n   </g>\n  </g>\n  <g id=\"axes_2\">\n   <g id=\"patch_8\">\n    <path d=\"M 395.097243 294.118125 \nL 690.509007 294.118125 \nL 690.509007 22.318125 \nL 395.097243 22.318125 \nz\n\" style=\"fill:#ffffff;\"/>\n   </g>\n   <g id=\"matplotlib.axis_3\">\n    <g id=\"xtick_7\">\n     <g id=\"line2d_21\">\n      <g>\n       <use style=\"stroke:#000000;stroke-width:0.8;\" x=\"413.142356\" xlink:href=\"#mbc295550b4\" y=\"294.118125\"/>\n      </g>\n     </g>\n     <g id=\"text_20\">\n      <!-- 0.2 -->\n      <defs>\n       <path d=\"M 10.6875 12.40625 \nL 21 12.40625 \nL 21 0 \nL 10.6875 0 \nz\n\" id=\"DejaVuSans-46\"/>\n      </defs>\n      <g transform=\"translate(405.190793 308.716563)scale(0.1 -0.1)\">\n       <use xlink:href=\"#DejaVuSans-48\"/>\n       <use x=\"63.623047\" xlink:href=\"#DejaVuSans-46\"/>\n       <use x=\"95.410156\" xlink:href=\"#DejaVuSans-50\"/>\n      </g>\n     </g>\n    </g>\n    <g id=\"xtick_8\">\n     <g id=\"line2d_22\">\n      <g>\n       <use style=\"stroke:#000000;stroke-width:0.8;\" x=\"452.250272\" xlink:href=\"#mbc295550b4\" y=\"294.118125\"/>\n      </g>\n     </g>\n     <g id=\"text_21\">\n      <!-- 0.4 -->\n      <g transform=\"translate(444.29871 308.716563)scale(0.1 -0.1)\">\n       <use xlink:href=\"#DejaVuSans-48\"/>\n       <use x=\"63.623047\" xlink:href=\"#DejaVuSans-46\"/>\n       <use x=\"95.410156\" xlink:href=\"#DejaVuSans-52\"/>\n      </g>\n     </g>\n    </g>\n    <g id=\"xtick_9\">\n     <g id=\"line2d_23\">\n      <g>\n       <use style=\"stroke:#000000;stroke-width:0.8;\" x=\"491.358188\" xlink:href=\"#mbc295550b4\" y=\"294.118125\"/>\n      </g>\n     </g>\n     <g id=\"text_22\">\n      <!-- 0.6 -->\n      <g transform=\"translate(483.406626 308.716563)scale(0.1 -0.1)\">\n       <use xlink:href=\"#DejaVuSans-48\"/>\n       <use x=\"63.623047\" xlink:href=\"#DejaVuSans-46\"/>\n       <use x=\"95.410156\" xlink:href=\"#DejaVuSans-54\"/>\n      </g>\n     </g>\n    </g>\n    <g id=\"xtick_10\">\n     <g id=\"line2d_24\">\n      <g>\n       <use style=\"stroke:#000000;stroke-width:0.8;\" x=\"530.466104\" xlink:href=\"#mbc295550b4\" y=\"294.118125\"/>\n      </g>\n     </g>\n     <g id=\"text_23\">\n      <!-- 0.8 -->\n      <g transform=\"translate(522.514542 308.716563)scale(0.1 -0.1)\">\n       <use xlink:href=\"#DejaVuSans-48\"/>\n       <use x=\"63.623047\" xlink:href=\"#DejaVuSans-46\"/>\n       <use x=\"95.410156\" xlink:href=\"#DejaVuSans-56\"/>\n      </g>\n     </g>\n    </g>\n    <g id=\"xtick_11\">\n     <g id=\"line2d_25\">\n      <g>\n       <use style=\"stroke:#000000;stroke-width:0.8;\" x=\"569.57402\" xlink:href=\"#mbc295550b4\" y=\"294.118125\"/>\n      </g>\n     </g>\n     <g id=\"text_24\">\n      <!-- 1.0 -->\n      <g transform=\"translate(561.622458 308.716563)scale(0.1 -0.1)\">\n       <use xlink:href=\"#DejaVuSans-49\"/>\n       <use x=\"63.623047\" xlink:href=\"#DejaVuSans-46\"/>\n       <use x=\"95.410156\" xlink:href=\"#DejaVuSans-48\"/>\n      </g>\n     </g>\n    </g>\n    <g id=\"xtick_12\">\n     <g id=\"line2d_26\">\n      <g>\n       <use style=\"stroke:#000000;stroke-width:0.8;\" x=\"608.681937\" xlink:href=\"#mbc295550b4\" y=\"294.118125\"/>\n      </g>\n     </g>\n     <g id=\"text_25\">\n      <!-- 1.2 -->\n      <g transform=\"translate(600.730374 308.716563)scale(0.1 -0.1)\">\n       <use xlink:href=\"#DejaVuSans-49\"/>\n       <use x=\"63.623047\" xlink:href=\"#DejaVuSans-46\"/>\n       <use x=\"95.410156\" xlink:href=\"#DejaVuSans-50\"/>\n      </g>\n     </g>\n    </g>\n    <g id=\"xtick_13\">\n     <g id=\"line2d_27\">\n      <g>\n       <use style=\"stroke:#000000;stroke-width:0.8;\" x=\"647.789853\" xlink:href=\"#mbc295550b4\" y=\"294.118125\"/>\n      </g>\n     </g>\n     <g id=\"text_26\">\n      <!-- 1.4 -->\n      <g transform=\"translate(639.83829 308.716563)scale(0.1 -0.1)\">\n       <use xlink:href=\"#DejaVuSans-49\"/>\n       <use x=\"63.623047\" xlink:href=\"#DejaVuSans-46\"/>\n       <use x=\"95.410156\" xlink:href=\"#DejaVuSans-52\"/>\n      </g>\n     </g>\n    </g>\n    <g id=\"xtick_14\">\n     <g id=\"line2d_28\">\n      <g>\n       <use style=\"stroke:#000000;stroke-width:0.8;\" x=\"686.897769\" xlink:href=\"#mbc295550b4\" y=\"294.118125\"/>\n      </g>\n     </g>\n     <g id=\"text_27\">\n      <!-- 1.6 -->\n      <g transform=\"translate(678.946206 308.716563)scale(0.1 -0.1)\">\n       <use xlink:href=\"#DejaVuSans-49\"/>\n       <use x=\"63.623047\" xlink:href=\"#DejaVuSans-46\"/>\n       <use x=\"95.410156\" xlink:href=\"#DejaVuSans-54\"/>\n      </g>\n     </g>\n    </g>\n    <g id=\"text_28\">\n     <!-- Discriminator loss -->\n     <g transform=\"translate(497.951562 322.394687)scale(0.1 -0.1)\">\n      <use xlink:href=\"#DejaVuSans-68\"/>\n      <use x=\"77.001953\" xlink:href=\"#DejaVuSans-105\"/>\n      <use x=\"104.785156\" xlink:href=\"#DejaVuSans-115\"/>\n      <use x=\"156.884766\" xlink:href=\"#DejaVuSans-99\"/>\n      <use x=\"211.865234\" xlink:href=\"#DejaVuSans-114\"/>\n      <use x=\"252.978516\" xlink:href=\"#DejaVuSans-105\"/>\n      <use x=\"280.761719\" xlink:href=\"#DejaVuSans-109\"/>\n      <use x=\"378.173828\" xlink:href=\"#DejaVuSans-105\"/>\n      <use x=\"405.957031\" xlink:href=\"#DejaVuSans-110\"/>\n      <use x=\"469.335938\" xlink:href=\"#DejaVuSans-97\"/>\n      <use x=\"530.615234\" xlink:href=\"#DejaVuSans-116\"/>\n      <use x=\"569.824219\" xlink:href=\"#DejaVuSans-111\"/>\n      <use x=\"631.005859\" xlink:href=\"#DejaVuSans-114\"/>\n      <use x=\"672.119141\" xlink:href=\"#DejaVuSans-32\"/>\n      <use x=\"703.90625\" xlink:href=\"#DejaVuSans-108\"/>\n      <use x=\"731.689453\" xlink:href=\"#DejaVuSans-111\"/>\n      <use x=\"792.871094\" xlink:href=\"#DejaVuSans-115\"/>\n      <use x=\"844.970703\" xlink:href=\"#DejaVuSans-115\"/>\n     </g>\n    </g>\n   </g>\n   <g id=\"matplotlib.axis_4\">\n    <g id=\"ytick_9\">\n     <g id=\"line2d_29\">\n      <g>\n       <use style=\"stroke:#000000;stroke-width:0.8;\" x=\"395.097243\" xlink:href=\"#m30740b6c1d\" y=\"254.024853\"/>\n      </g>\n     </g>\n     <g id=\"text_29\">\n      <!-- 2 -->\n      <g transform=\"translate(381.734743 257.824071)scale(0.1 -0.1)\">\n       <use xlink:href=\"#DejaVuSans-50\"/>\n      </g>\n     </g>\n    </g>\n    <g id=\"ytick_10\">\n     <g id=\"line2d_30\">\n      <g>\n       <use style=\"stroke:#000000;stroke-width:0.8;\" x=\"395.097243\" xlink:href=\"#m30740b6c1d\" y=\"194.499797\"/>\n      </g>\n     </g>\n     <g id=\"text_30\">\n      <!-- 4 -->\n      <g transform=\"translate(381.734743 198.299016)scale(0.1 -0.1)\">\n       <use xlink:href=\"#DejaVuSans-52\"/>\n      </g>\n     </g>\n    </g>\n    <g id=\"ytick_11\">\n     <g id=\"line2d_31\">\n      <g>\n       <use style=\"stroke:#000000;stroke-width:0.8;\" x=\"395.097243\" xlink:href=\"#m30740b6c1d\" y=\"134.974742\"/>\n      </g>\n     </g>\n     <g id=\"text_31\">\n      <!-- 6 -->\n      <g transform=\"translate(381.734743 138.77396)scale(0.1 -0.1)\">\n       <use xlink:href=\"#DejaVuSans-54\"/>\n      </g>\n     </g>\n    </g>\n    <g id=\"ytick_12\">\n     <g id=\"line2d_32\">\n      <g>\n       <use style=\"stroke:#000000;stroke-width:0.8;\" x=\"395.097243\" xlink:href=\"#m30740b6c1d\" y=\"75.449686\"/>\n      </g>\n     </g>\n     <g id=\"text_32\">\n      <!-- 8 -->\n      <g transform=\"translate(381.734743 79.248905)scale(0.1 -0.1)\">\n       <use xlink:href=\"#DejaVuSans-56\"/>\n      </g>\n     </g>\n    </g>\n    <g id=\"text_33\">\n     <!-- Generator loss -->\n     <g transform=\"translate(375.655055 194.855625)rotate(-90)scale(0.1 -0.1)\">\n      <use xlink:href=\"#DejaVuSans-71\"/>\n      <use x=\"77.490234\" xlink:href=\"#DejaVuSans-101\"/>\n      <use x=\"139.013672\" xlink:href=\"#DejaVuSans-110\"/>\n      <use x=\"202.392578\" xlink:href=\"#DejaVuSans-101\"/>\n      <use x=\"263.916016\" xlink:href=\"#DejaVuSans-114\"/>\n      <use x=\"305.029297\" xlink:href=\"#DejaVuSans-97\"/>\n      <use x=\"366.308594\" xlink:href=\"#DejaVuSans-116\"/>\n      <use x=\"405.517578\" xlink:href=\"#DejaVuSans-111\"/>\n      <use x=\"466.699219\" xlink:href=\"#DejaVuSans-114\"/>\n      <use x=\"507.8125\" xlink:href=\"#DejaVuSans-32\"/>\n      <use x=\"539.599609\" xlink:href=\"#DejaVuSans-108\"/>\n      <use x=\"567.382812\" xlink:href=\"#DejaVuSans-111\"/>\n      <use x=\"628.564453\" xlink:href=\"#DejaVuSans-115\"/>\n      <use x=\"680.664062\" xlink:href=\"#DejaVuSans-115\"/>\n     </g>\n    </g>\n   </g>\n   <g id=\"line2d_33\">\n    <defs>\n     <path d=\"M 0 1.5 \nC 0.397805 1.5 0.77937 1.341951 1.06066 1.06066 \nC 1.341951 0.77937 1.5 0.397805 1.5 0 \nC 1.5 -0.397805 1.341951 -0.77937 1.06066 -1.06066 \nC 0.77937 -1.341951 0.397805 -1.5 0 -1.5 \nC -0.397805 -1.5 -0.77937 -1.341951 -1.06066 -1.06066 \nC -1.341951 -0.77937 -1.5 -0.397805 -1.5 0 \nC -1.5 0.397805 -1.341951 0.77937 -1.06066 1.06066 \nC -0.77937 1.341951 -0.397805 1.5 0 1.5 \nz\n\" id=\"m926fa5b63a\" style=\"stroke:#000000;stroke-opacity:0.1;\"/>\n    </defs>\n    <g clip-path=\"url(#p1a43c3c6e8)\">\n     <use style=\"fill-opacity:0.1;stroke:#000000;stroke-opacity:0.1;\" x=\"465.915286\" xlink:href=\"#m926fa5b63a\" y=\"271.30546\"/>\n     <use style=\"fill-opacity:0.1;stroke:#000000;stroke-opacity:0.1;\" x=\"408.52505\" xlink:href=\"#m926fa5b63a\" y=\"34.67267\"/>\n     <use style=\"fill-opacity:0.1;stroke:#000000;stroke-opacity:0.1;\" x=\"510.73564\" xlink:href=\"#m926fa5b63a\" y=\"166.939154\"/>\n     <use style=\"fill-opacity:0.1;stroke:#000000;stroke-opacity:0.1;\" x=\"473.04067\" xlink:href=\"#m926fa5b63a\" y=\"102.158022\"/>\n     <use style=\"fill-opacity:0.1;stroke:#000000;stroke-opacity:0.1;\" x=\"419.110197\" xlink:href=\"#m926fa5b63a\" y=\"165.232367\"/>\n     <use style=\"fill-opacity:0.1;stroke:#000000;stroke-opacity:0.1;\" x=\"451.801862\" xlink:href=\"#m926fa5b63a\" y=\"110.242724\"/>\n     <use style=\"fill-opacity:0.1;stroke:#000000;stroke-opacity:0.1;\" x=\"414.572908\" xlink:href=\"#m926fa5b63a\" y=\"195.005901\"/>\n     <use style=\"fill-opacity:0.1;stroke:#000000;stroke-opacity:0.1;\" x=\"569.84873\" xlink:href=\"#m926fa5b63a\" y=\"171.840504\"/>\n     <use style=\"fill-opacity:0.1;stroke:#000000;stroke-opacity:0.1;\" x=\"434.47932\" xlink:href=\"#m926fa5b63a\" y=\"166.470609\"/>\n     <use style=\"fill-opacity:0.1;stroke:#000000;stroke-opacity:0.1;\" x=\"496.712274\" xlink:href=\"#m926fa5b63a\" y=\"198.299048\"/>\n     <use style=\"fill-opacity:0.1;stroke:#000000;stroke-opacity:0.1;\" x=\"430.176543\" xlink:href=\"#m926fa5b63a\" y=\"176.439183\"/>\n     <use style=\"fill-opacity:0.1;stroke:#000000;stroke-opacity:0.1;\" x=\"434.028304\" xlink:href=\"#m926fa5b63a\" y=\"213.375983\"/>\n     <use style=\"fill-opacity:0.1;stroke:#000000;stroke-opacity:0.1;\" x=\"474.097691\" xlink:href=\"#m926fa5b63a\" y=\"178.94598\"/>\n     <use style=\"fill-opacity:0.1;stroke:#000000;stroke-opacity:0.1;\" x=\"439.241639\" xlink:href=\"#m926fa5b63a\" y=\"213.844003\"/>\n     <use style=\"fill-opacity:0.1;stroke:#000000;stroke-opacity:0.1;\" x=\"484.909957\" xlink:href=\"#m926fa5b63a\" y=\"226.933776\"/>\n     <use style=\"fill-opacity:0.1;stroke:#000000;stroke-opacity:0.1;\" x=\"455.200864\" xlink:href=\"#m926fa5b63a\" y=\"220.225856\"/>\n     <use style=\"fill-opacity:0.1;stroke:#000000;stroke-opacity:0.1;\" x=\"470.527499\" xlink:href=\"#m926fa5b63a\" y=\"178.845289\"/>\n     <use style=\"fill-opacity:0.1;stroke:#000000;stroke-opacity:0.1;\" x=\"526.516671\" xlink:href=\"#m926fa5b63a\" y=\"214.26262\"/>\n     <use style=\"fill-opacity:0.1;stroke:#000000;stroke-opacity:0.1;\" x=\"489.654735\" xlink:href=\"#m926fa5b63a\" y=\"223.696126\"/>\n     <use style=\"fill-opacity:0.1;stroke:#000000;stroke-opacity:0.1;\" x=\"450.517112\" xlink:href=\"#m926fa5b63a\" y=\"222.501539\"/>\n     <use style=\"fill-opacity:0.1;stroke:#000000;stroke-opacity:0.1;\" x=\"437.756201\" xlink:href=\"#m926fa5b63a\" y=\"176.492516\"/>\n     <use style=\"fill-opacity:0.1;stroke:#000000;stroke-opacity:0.1;\" x=\"437.525407\" xlink:href=\"#m926fa5b63a\" y=\"205.308992\"/>\n     <use style=\"fill-opacity:0.1;stroke:#000000;stroke-opacity:0.1;\" x=\"457.642566\" xlink:href=\"#m926fa5b63a\" y=\"247.735601\"/>\n     <use style=\"fill-opacity:0.1;stroke:#000000;stroke-opacity:0.1;\" x=\"495.087838\" xlink:href=\"#m926fa5b63a\" y=\"198.262582\"/>\n     <use style=\"fill-opacity:0.1;stroke:#000000;stroke-opacity:0.1;\" x=\"492.051821\" xlink:href=\"#m926fa5b63a\" y=\"217.636967\"/>\n     <use style=\"fill-opacity:0.1;stroke:#000000;stroke-opacity:0.1;\" x=\"504.169792\" xlink:href=\"#m926fa5b63a\" y=\"224.126927\"/>\n     <use style=\"fill-opacity:0.1;stroke:#000000;stroke-opacity:0.1;\" x=\"465.77539\" xlink:href=\"#m926fa5b63a\" y=\"232.703052\"/>\n     <use style=\"fill-opacity:0.1;stroke:#000000;stroke-opacity:0.1;\" x=\"488.110835\" xlink:href=\"#m926fa5b63a\" y=\"250.940503\"/>\n     <use style=\"fill-opacity:0.1;stroke:#000000;stroke-opacity:0.1;\" x=\"502.990253\" xlink:href=\"#m926fa5b63a\" y=\"231.2297\"/>\n     <use style=\"fill-opacity:0.1;stroke:#000000;stroke-opacity:0.1;\" x=\"478.123957\" xlink:href=\"#m926fa5b63a\" y=\"237.746143\"/>\n     <use style=\"fill-opacity:0.1;stroke:#000000;stroke-opacity:0.1;\" x=\"471.422987\" xlink:href=\"#m926fa5b63a\" y=\"226.252367\"/>\n     <use style=\"fill-opacity:0.1;stroke:#000000;stroke-opacity:0.1;\" x=\"496.192668\" xlink:href=\"#m926fa5b63a\" y=\"239.394523\"/>\n     <use style=\"fill-opacity:0.1;stroke:#000000;stroke-opacity:0.1;\" x=\"468.265099\" xlink:href=\"#m926fa5b63a\" y=\"198.296352\"/>\n     <use style=\"fill-opacity:0.1;stroke:#000000;stroke-opacity:0.1;\" x=\"529.020669\" xlink:href=\"#m926fa5b63a\" y=\"237.767942\"/>\n     <use style=\"fill-opacity:0.1;stroke:#000000;stroke-opacity:0.1;\" x=\"467.972848\" xlink:href=\"#m926fa5b63a\" y=\"191.895474\"/>\n     <use style=\"fill-opacity:0.1;stroke:#000000;stroke-opacity:0.1;\" x=\"518.792613\" xlink:href=\"#m926fa5b63a\" y=\"241.463691\"/>\n     <use style=\"fill-opacity:0.1;stroke:#000000;stroke-opacity:0.1;\" x=\"523.760166\" xlink:href=\"#m926fa5b63a\" y=\"258.432982\"/>\n     <use style=\"fill-opacity:0.1;stroke:#000000;stroke-opacity:0.1;\" x=\"491.481061\" xlink:href=\"#m926fa5b63a\" y=\"263.389077\"/>\n     <use style=\"fill-opacity:0.1;stroke:#000000;stroke-opacity:0.1;\" x=\"501.579524\" xlink:href=\"#m926fa5b63a\" y=\"244.513377\"/>\n     <use style=\"fill-opacity:0.1;stroke:#000000;stroke-opacity:0.1;\" x=\"555.371086\" xlink:href=\"#m926fa5b63a\" y=\"269.364954\"/>\n     <use style=\"fill-opacity:0.1;stroke:#000000;stroke-opacity:0.1;\" x=\"515.682738\" xlink:href=\"#m926fa5b63a\" y=\"259.292027\"/>\n     <use style=\"fill-opacity:0.1;stroke:#000000;stroke-opacity:0.1;\" x=\"527.684637\" xlink:href=\"#m926fa5b63a\" y=\"260.285707\"/>\n     <use style=\"fill-opacity:0.1;stroke:#000000;stroke-opacity:0.1;\" x=\"564.060334\" xlink:href=\"#m926fa5b63a\" y=\"260.07451\"/>\n     <use style=\"fill-opacity:0.1;stroke:#000000;stroke-opacity:0.1;\" x=\"535.663637\" xlink:href=\"#m926fa5b63a\" y=\"266.167453\"/>\n     <use style=\"fill-opacity:0.1;stroke:#000000;stroke-opacity:0.1;\" x=\"538.967651\" xlink:href=\"#m926fa5b63a\" y=\"256.46895\"/>\n     <use style=\"fill-opacity:0.1;stroke:#000000;stroke-opacity:0.1;\" x=\"504.735669\" xlink:href=\"#m926fa5b63a\" y=\"266.794049\"/>\n     <use style=\"fill-opacity:0.1;stroke:#000000;stroke-opacity:0.1;\" x=\"523.232657\" xlink:href=\"#m926fa5b63a\" y=\"261.482242\"/>\n     <use style=\"fill-opacity:0.1;stroke:#000000;stroke-opacity:0.1;\" x=\"546.9634\" xlink:href=\"#m926fa5b63a\" y=\"262.851503\"/>\n     <use style=\"fill-opacity:0.1;stroke:#000000;stroke-opacity:0.1;\" x=\"502.32053\" xlink:href=\"#m926fa5b63a\" y=\"248.719588\"/>\n     <use style=\"fill-opacity:0.1;stroke:#000000;stroke-opacity:0.1;\" x=\"509.33005\" xlink:href=\"#m926fa5b63a\" y=\"265.744372\"/>\n     <use style=\"fill-opacity:0.1;stroke:#000000;stroke-opacity:0.1;\" x=\"515.807051\" xlink:href=\"#m926fa5b63a\" y=\"244.535297\"/>\n     <use style=\"fill-opacity:0.1;stroke:#000000;stroke-opacity:0.1;\" x=\"559.013737\" xlink:href=\"#m926fa5b63a\" y=\"261.78256\"/>\n     <use style=\"fill-opacity:0.1;stroke:#000000;stroke-opacity:0.1;\" x=\"522.934684\" xlink:href=\"#m926fa5b63a\" y=\"252.133742\"/>\n     <use style=\"fill-opacity:0.1;stroke:#000000;stroke-opacity:0.1;\" x=\"563.21026\" xlink:href=\"#m926fa5b63a\" y=\"250.443972\"/>\n     <use style=\"fill-opacity:0.1;stroke:#000000;stroke-opacity:0.1;\" x=\"541.587104\" xlink:href=\"#m926fa5b63a\" y=\"257.539035\"/>\n     <use style=\"fill-opacity:0.1;stroke:#000000;stroke-opacity:0.1;\" x=\"581.846433\" xlink:href=\"#m926fa5b63a\" y=\"272.23038\"/>\n     <use style=\"fill-opacity:0.1;stroke:#000000;stroke-opacity:0.1;\" x=\"524.228093\" xlink:href=\"#m926fa5b63a\" y=\"270.00097\"/>\n     <use style=\"fill-opacity:0.1;stroke:#000000;stroke-opacity:0.1;\" x=\"545.89012\" xlink:href=\"#m926fa5b63a\" y=\"273.698572\"/>\n     <use style=\"fill-opacity:0.1;stroke:#000000;stroke-opacity:0.1;\" x=\"540.06684\" xlink:href=\"#m926fa5b63a\" y=\"253.126755\"/>\n     <use style=\"fill-opacity:0.1;stroke:#000000;stroke-opacity:0.1;\" x=\"540.722251\" xlink:href=\"#m926fa5b63a\" y=\"253.760125\"/>\n     <use style=\"fill-opacity:0.1;stroke:#000000;stroke-opacity:0.1;\" x=\"518.483823\" xlink:href=\"#m926fa5b63a\" y=\"266.584116\"/>\n     <use style=\"fill-opacity:0.1;stroke:#000000;stroke-opacity:0.1;\" x=\"574.830013\" xlink:href=\"#m926fa5b63a\" y=\"265.846752\"/>\n     <use style=\"fill-opacity:0.1;stroke:#000000;stroke-opacity:0.1;\" x=\"677.0812\" xlink:href=\"#m926fa5b63a\" y=\"265.591057\"/>\n     <use style=\"fill-opacity:0.1;stroke:#000000;stroke-opacity:0.1;\" x=\"575.815262\" xlink:href=\"#m926fa5b63a\" y=\"261.089421\"/>\n     <use style=\"fill-opacity:0.1;stroke:#000000;stroke-opacity:0.1;\" x=\"565.280888\" xlink:href=\"#m926fa5b63a\" y=\"265.704358\"/>\n     <use style=\"fill-opacity:0.1;stroke:#000000;stroke-opacity:0.1;\" x=\"538.680889\" xlink:href=\"#m926fa5b63a\" y=\"262.078375\"/>\n     <use style=\"fill-opacity:0.1;stroke:#000000;stroke-opacity:0.1;\" x=\"608.0615\" xlink:href=\"#m926fa5b63a\" y=\"278.235127\"/>\n     <use style=\"fill-opacity:0.1;stroke:#000000;stroke-opacity:0.1;\" x=\"570.023813\" xlink:href=\"#m926fa5b63a\" y=\"261.768708\"/>\n     <use style=\"fill-opacity:0.1;stroke:#000000;stroke-opacity:0.1;\" x=\"555.846438\" xlink:href=\"#m926fa5b63a\" y=\"270.95739\"/>\n     <use style=\"fill-opacity:0.1;stroke:#000000;stroke-opacity:0.1;\" x=\"587.780215\" xlink:href=\"#m926fa5b63a\" y=\"245.890238\"/>\n     <use style=\"fill-opacity:0.1;stroke:#000000;stroke-opacity:0.1;\" x=\"580.638152\" xlink:href=\"#m926fa5b63a\" y=\"281.76358\"/>\n     <use style=\"fill-opacity:0.1;stroke:#000000;stroke-opacity:0.1;\" x=\"662.18966\" xlink:href=\"#m926fa5b63a\" y=\"269.585815\"/>\n     <use style=\"fill-opacity:0.1;stroke:#000000;stroke-opacity:0.1;\" x=\"572.815062\" xlink:href=\"#m926fa5b63a\" y=\"262.805429\"/>\n     <use style=\"fill-opacity:0.1;stroke:#000000;stroke-opacity:0.1;\" x=\"522.064225\" xlink:href=\"#m926fa5b63a\" y=\"253.776083\"/>\n     <use style=\"fill-opacity:0.1;stroke:#000000;stroke-opacity:0.1;\" x=\"581.678391\" xlink:href=\"#m926fa5b63a\" y=\"267.539141\"/>\n     <use style=\"fill-opacity:0.1;stroke:#000000;stroke-opacity:0.1;\" x=\"583.837678\" xlink:href=\"#m926fa5b63a\" y=\"261.607673\"/>\n     <use style=\"fill-opacity:0.1;stroke:#000000;stroke-opacity:0.1;\" x=\"586.123517\" xlink:href=\"#m926fa5b63a\" y=\"262.143211\"/>\n     <use style=\"fill-opacity:0.1;stroke:#000000;stroke-opacity:0.1;\" x=\"569.933626\" xlink:href=\"#m926fa5b63a\" y=\"274.24292\"/>\n     <use style=\"fill-opacity:0.1;stroke:#000000;stroke-opacity:0.1;\" x=\"598.07376\" xlink:href=\"#m926fa5b63a\" y=\"267.551268\"/>\n     <use style=\"fill-opacity:0.1;stroke:#000000;stroke-opacity:0.1;\" x=\"578.438911\" xlink:href=\"#m926fa5b63a\" y=\"277.918045\"/>\n     <use style=\"fill-opacity:0.1;stroke:#000000;stroke-opacity:0.1;\" x=\"558.714109\" xlink:href=\"#m926fa5b63a\" y=\"271.965872\"/>\n     <use style=\"fill-opacity:0.1;stroke:#000000;stroke-opacity:0.1;\" x=\"528.575433\" xlink:href=\"#m926fa5b63a\" y=\"245.164011\"/>\n     <use style=\"fill-opacity:0.1;stroke:#000000;stroke-opacity:0.1;\" x=\"534.940767\" xlink:href=\"#m926fa5b63a\" y=\"266.588271\"/>\n     <use style=\"fill-opacity:0.1;stroke:#000000;stroke-opacity:0.1;\" x=\"579.657239\" xlink:href=\"#m926fa5b63a\" y=\"267.476402\"/>\n     <use style=\"fill-opacity:0.1;stroke:#000000;stroke-opacity:0.1;\" x=\"571.550254\" xlink:href=\"#m926fa5b63a\" y=\"271.748431\"/>\n     <use style=\"fill-opacity:0.1;stroke:#000000;stroke-opacity:0.1;\" x=\"558.46342\" xlink:href=\"#m926fa5b63a\" y=\"270.923613\"/>\n     <use style=\"fill-opacity:0.1;stroke:#000000;stroke-opacity:0.1;\" x=\"590.2468\" xlink:href=\"#m926fa5b63a\" y=\"274.894008\"/>\n     <use style=\"fill-opacity:0.1;stroke:#000000;stroke-opacity:0.1;\" x=\"592.16893\" xlink:href=\"#m926fa5b63a\" y=\"275.809494\"/>\n     <use style=\"fill-opacity:0.1;stroke:#000000;stroke-opacity:0.1;\" x=\"599.906193\" xlink:href=\"#m926fa5b63a\" y=\"279.854768\"/>\n     <use style=\"fill-opacity:0.1;stroke:#000000;stroke-opacity:0.1;\" x=\"591.289159\" xlink:href=\"#m926fa5b63a\" y=\"276.776968\"/>\n     <use style=\"fill-opacity:0.1;stroke:#000000;stroke-opacity:0.1;\" x=\"556.40369\" xlink:href=\"#m926fa5b63a\" y=\"270.526244\"/>\n     <use style=\"fill-opacity:0.1;stroke:#000000;stroke-opacity:0.1;\" x=\"538.64315\" xlink:href=\"#m926fa5b63a\" y=\"254.977894\"/>\n     <use style=\"fill-opacity:0.1;stroke:#000000;stroke-opacity:0.1;\" x=\"622.375111\" xlink:href=\"#m926fa5b63a\" y=\"260.406579\"/>\n     <use style=\"fill-opacity:0.1;stroke:#000000;stroke-opacity:0.1;\" x=\"581.843473\" xlink:href=\"#m926fa5b63a\" y=\"274.653381\"/>\n     <use style=\"fill-opacity:0.1;stroke:#000000;stroke-opacity:0.1;\" x=\"541.120353\" xlink:href=\"#m926fa5b63a\" y=\"266.634628\"/>\n     <use style=\"fill-opacity:0.1;stroke:#000000;stroke-opacity:0.1;\" x=\"571.275031\" xlink:href=\"#m926fa5b63a\" y=\"279.720141\"/>\n     <use style=\"fill-opacity:0.1;stroke:#000000;stroke-opacity:0.1;\" x=\"591.601352\" xlink:href=\"#m926fa5b63a\" y=\"272.507696\"/>\n     <use style=\"fill-opacity:0.1;stroke:#000000;stroke-opacity:0.1;\" x=\"588.663249\" xlink:href=\"#m926fa5b63a\" y=\"272.230295\"/>\n     <use style=\"fill-opacity:0.1;stroke:#000000;stroke-opacity:0.1;\" x=\"577.59294\" xlink:href=\"#m926fa5b63a\" y=\"279.737895\"/>\n     <use style=\"fill-opacity:0.1;stroke:#000000;stroke-opacity:0.1;\" x=\"569.314462\" xlink:href=\"#m926fa5b63a\" y=\"273.076769\"/>\n    </g>\n   </g>\n   <g id=\"patch_9\">\n    <path d=\"M 395.097243 294.118125 \nL 395.097243 22.318125 \n\" style=\"fill:none;stroke:#000000;stroke-linecap:square;stroke-linejoin:miter;stroke-width:0.8;\"/>\n   </g>\n   <g id=\"patch_10\">\n    <path d=\"M 690.509007 294.118125 \nL 690.509007 22.318125 \n\" style=\"fill:none;stroke:#000000;stroke-linecap:square;stroke-linejoin:miter;stroke-width:0.8;\"/>\n   </g>\n   <g id=\"patch_11\">\n    <path d=\"M 395.097243 294.118125 \nL 690.509007 294.118125 \n\" style=\"fill:none;stroke:#000000;stroke-linecap:square;stroke-linejoin:miter;stroke-width:0.8;\"/>\n   </g>\n   <g id=\"patch_12\">\n    <path d=\"M 395.097243 22.318125 \nL 690.509007 22.318125 \n\" style=\"fill:none;stroke:#000000;stroke-linecap:square;stroke-linejoin:miter;stroke-width:0.8;\"/>\n   </g>\n  </g>\n  <g id=\"axes_3\">\n   <g id=\"patch_13\">\n    <path d=\"M 749.59136 294.118125 \nL 1045.003125 294.118125 \nL 1045.003125 22.318125 \nL 749.59136 22.318125 \nz\n\" style=\"fill:#ffffff;\"/>\n   </g>\n   <g id=\"matplotlib.axis_5\">\n    <g id=\"xtick_15\">\n     <g id=\"line2d_34\">\n      <g>\n       <use style=\"stroke:#000000;stroke-width:0.8;\" x=\"763.019168\" xlink:href=\"#mbc295550b4\" y=\"294.118125\"/>\n      </g>\n     </g>\n     <g id=\"text_34\">\n      <!-- 0 -->\n      <g transform=\"translate(759.837918 308.716563)scale(0.1 -0.1)\">\n       <use xlink:href=\"#DejaVuSans-48\"/>\n      </g>\n     </g>\n    </g>\n    <g id=\"xtick_16\">\n     <g id=\"line2d_35\">\n      <g>\n       <use style=\"stroke:#000000;stroke-width:0.8;\" x=\"816.838035\" xlink:href=\"#mbc295550b4\" y=\"294.118125\"/>\n      </g>\n     </g>\n     <g id=\"text_35\">\n      <!-- 100 -->\n      <g transform=\"translate(807.294285 308.716563)scale(0.1 -0.1)\">\n       <use xlink:href=\"#DejaVuSans-49\"/>\n       <use x=\"63.623047\" xlink:href=\"#DejaVuSans-48\"/>\n       <use x=\"127.246094\" xlink:href=\"#DejaVuSans-48\"/>\n      </g>\n     </g>\n    </g>\n    <g id=\"xtick_17\">\n     <g id=\"line2d_36\">\n      <g>\n       <use style=\"stroke:#000000;stroke-width:0.8;\" x=\"870.656903\" xlink:href=\"#mbc295550b4\" y=\"294.118125\"/>\n      </g>\n     </g>\n     <g id=\"text_36\">\n      <!-- 200 -->\n      <g transform=\"translate(861.113153 308.716563)scale(0.1 -0.1)\">\n       <use xlink:href=\"#DejaVuSans-50\"/>\n       <use x=\"63.623047\" xlink:href=\"#DejaVuSans-48\"/>\n       <use x=\"127.246094\" xlink:href=\"#DejaVuSans-48\"/>\n      </g>\n     </g>\n    </g>\n    <g id=\"xtick_18\">\n     <g id=\"line2d_37\">\n      <g>\n       <use style=\"stroke:#000000;stroke-width:0.8;\" x=\"924.475771\" xlink:href=\"#mbc295550b4\" y=\"294.118125\"/>\n      </g>\n     </g>\n     <g id=\"text_37\">\n      <!-- 300 -->\n      <g transform=\"translate(914.932021 308.716563)scale(0.1 -0.1)\">\n       <use xlink:href=\"#DejaVuSans-51\"/>\n       <use x=\"63.623047\" xlink:href=\"#DejaVuSans-48\"/>\n       <use x=\"127.246094\" xlink:href=\"#DejaVuSans-48\"/>\n      </g>\n     </g>\n    </g>\n    <g id=\"xtick_19\">\n     <g id=\"line2d_38\">\n      <g>\n       <use style=\"stroke:#000000;stroke-width:0.8;\" x=\"978.294639\" xlink:href=\"#mbc295550b4\" y=\"294.118125\"/>\n      </g>\n     </g>\n     <g id=\"text_38\">\n      <!-- 400 -->\n      <g transform=\"translate(968.750889 308.716563)scale(0.1 -0.1)\">\n       <use xlink:href=\"#DejaVuSans-52\"/>\n       <use x=\"63.623047\" xlink:href=\"#DejaVuSans-48\"/>\n       <use x=\"127.246094\" xlink:href=\"#DejaVuSans-48\"/>\n      </g>\n     </g>\n    </g>\n    <g id=\"xtick_20\">\n     <g id=\"line2d_39\">\n      <g>\n       <use style=\"stroke:#000000;stroke-width:0.8;\" x=\"1032.113506\" xlink:href=\"#mbc295550b4\" y=\"294.118125\"/>\n      </g>\n     </g>\n     <g id=\"text_39\">\n      <!-- 500 -->\n      <g transform=\"translate(1022.569756 308.716563)scale(0.1 -0.1)\">\n       <use xlink:href=\"#DejaVuSans-53\"/>\n       <use x=\"63.623047\" xlink:href=\"#DejaVuSans-48\"/>\n       <use x=\"127.246094\" xlink:href=\"#DejaVuSans-48\"/>\n      </g>\n     </g>\n    </g>\n    <g id=\"text_40\">\n     <!-- Epochs -->\n     <g transform=\"translate(879.381618 322.394687)scale(0.1 -0.1)\">\n      <use xlink:href=\"#DejaVuSans-69\"/>\n      <use x=\"63.183594\" xlink:href=\"#DejaVuSans-112\"/>\n      <use x=\"126.660156\" xlink:href=\"#DejaVuSans-111\"/>\n      <use x=\"187.841797\" xlink:href=\"#DejaVuSans-99\"/>\n      <use x=\"242.822266\" xlink:href=\"#DejaVuSans-104\"/>\n      <use x=\"306.201172\" xlink:href=\"#DejaVuSans-115\"/>\n     </g>\n    </g>\n   </g>\n   <g id=\"matplotlib.axis_6\">\n    <g id=\"ytick_13\">\n     <g id=\"line2d_40\">\n      <g>\n       <use style=\"stroke:#000000;stroke-width:0.8;\" x=\"749.59136\" xlink:href=\"#m30740b6c1d\" y=\"281.76358\"/>\n      </g>\n     </g>\n     <g id=\"text_41\">\n      <!-- 0.0 -->\n      <g transform=\"translate(726.688235 285.562798)scale(0.1 -0.1)\">\n       <use xlink:href=\"#DejaVuSans-48\"/>\n       <use x=\"63.623047\" xlink:href=\"#DejaVuSans-46\"/>\n       <use x=\"95.410156\" xlink:href=\"#DejaVuSans-48\"/>\n      </g>\n     </g>\n    </g>\n    <g id=\"ytick_14\">\n     <g id=\"line2d_41\">\n      <g>\n       <use style=\"stroke:#000000;stroke-width:0.8;\" x=\"749.59136\" xlink:href=\"#m30740b6c1d\" y=\"232.345398\"/>\n      </g>\n     </g>\n     <g id=\"text_42\">\n      <!-- 0.2 -->\n      <g transform=\"translate(726.688235 236.144616)scale(0.1 -0.1)\">\n       <use xlink:href=\"#DejaVuSans-48\"/>\n       <use x=\"63.623047\" xlink:href=\"#DejaVuSans-46\"/>\n       <use x=\"95.410156\" xlink:href=\"#DejaVuSans-50\"/>\n      </g>\n     </g>\n    </g>\n    <g id=\"ytick_15\">\n     <g id=\"line2d_42\">\n      <g>\n       <use style=\"stroke:#000000;stroke-width:0.8;\" x=\"749.59136\" xlink:href=\"#m30740b6c1d\" y=\"182.927216\"/>\n      </g>\n     </g>\n     <g id=\"text_43\">\n      <!-- 0.4 -->\n      <g transform=\"translate(726.688235 186.726435)scale(0.1 -0.1)\">\n       <use xlink:href=\"#DejaVuSans-48\"/>\n       <use x=\"63.623047\" xlink:href=\"#DejaVuSans-46\"/>\n       <use x=\"95.410156\" xlink:href=\"#DejaVuSans-52\"/>\n      </g>\n     </g>\n    </g>\n    <g id=\"ytick_16\">\n     <g id=\"line2d_43\">\n      <g>\n       <use style=\"stroke:#000000;stroke-width:0.8;\" x=\"749.59136\" xlink:href=\"#m30740b6c1d\" y=\"133.509034\"/>\n      </g>\n     </g>\n     <g id=\"text_44\">\n      <!-- 0.6 -->\n      <g transform=\"translate(726.688235 137.308253)scale(0.1 -0.1)\">\n       <use xlink:href=\"#DejaVuSans-48\"/>\n       <use x=\"63.623047\" xlink:href=\"#DejaVuSans-46\"/>\n       <use x=\"95.410156\" xlink:href=\"#DejaVuSans-54\"/>\n      </g>\n     </g>\n    </g>\n    <g id=\"ytick_17\">\n     <g id=\"line2d_44\">\n      <g>\n       <use style=\"stroke:#000000;stroke-width:0.8;\" x=\"749.59136\" xlink:href=\"#m30740b6c1d\" y=\"84.090852\"/>\n      </g>\n     </g>\n     <g id=\"text_45\">\n      <!-- 0.8 -->\n      <g transform=\"translate(726.688235 87.890071)scale(0.1 -0.1)\">\n       <use xlink:href=\"#DejaVuSans-48\"/>\n       <use x=\"63.623047\" xlink:href=\"#DejaVuSans-46\"/>\n       <use x=\"95.410156\" xlink:href=\"#DejaVuSans-56\"/>\n      </g>\n     </g>\n    </g>\n    <g id=\"ytick_18\">\n     <g id=\"line2d_45\">\n      <g>\n       <use style=\"stroke:#000000;stroke-width:0.8;\" x=\"749.59136\" xlink:href=\"#m30740b6c1d\" y=\"34.67267\"/>\n      </g>\n     </g>\n     <g id=\"text_46\">\n      <!-- 1.0 -->\n      <g transform=\"translate(726.688235 38.471889)scale(0.1 -0.1)\">\n       <use xlink:href=\"#DejaVuSans-49\"/>\n       <use x=\"63.623047\" xlink:href=\"#DejaVuSans-46\"/>\n       <use x=\"95.410156\" xlink:href=\"#DejaVuSans-48\"/>\n      </g>\n     </g>\n    </g>\n    <g id=\"text_47\">\n     <!-- Probablity (\"real\") -->\n     <defs>\n      <path d=\"M 19.671875 64.796875 \nL 19.671875 37.40625 \nL 32.078125 37.40625 \nQ 38.96875 37.40625 42.71875 40.96875 \nQ 46.484375 44.53125 46.484375 51.125 \nQ 46.484375 57.671875 42.71875 61.234375 \nQ 38.96875 64.796875 32.078125 64.796875 \nz\nM 9.8125 72.90625 \nL 32.078125 72.90625 \nQ 44.34375 72.90625 50.609375 67.359375 \nQ 56.890625 61.8125 56.890625 51.125 \nQ 56.890625 40.328125 50.609375 34.8125 \nQ 44.34375 29.296875 32.078125 29.296875 \nL 19.671875 29.296875 \nL 19.671875 0 \nL 9.8125 0 \nz\n\" id=\"DejaVuSans-80\"/>\n      <path d=\"M 48.6875 27.296875 \nQ 48.6875 37.203125 44.609375 42.84375 \nQ 40.53125 48.484375 33.40625 48.484375 \nQ 26.265625 48.484375 22.1875 42.84375 \nQ 18.109375 37.203125 18.109375 27.296875 \nQ 18.109375 17.390625 22.1875 11.75 \nQ 26.265625 6.109375 33.40625 6.109375 \nQ 40.53125 6.109375 44.609375 11.75 \nQ 48.6875 17.390625 48.6875 27.296875 \nz\nM 18.109375 46.390625 \nQ 20.953125 51.265625 25.265625 53.625 \nQ 29.59375 56 35.59375 56 \nQ 45.5625 56 51.78125 48.09375 \nQ 58.015625 40.1875 58.015625 27.296875 \nQ 58.015625 14.40625 51.78125 6.484375 \nQ 45.5625 -1.421875 35.59375 -1.421875 \nQ 29.59375 -1.421875 25.265625 0.953125 \nQ 20.953125 3.328125 18.109375 8.203125 \nL 18.109375 0 \nL 9.078125 0 \nL 9.078125 75.984375 \nL 18.109375 75.984375 \nz\n\" id=\"DejaVuSans-98\"/>\n      <path d=\"M 32.171875 -5.078125 \nQ 28.375 -14.84375 24.75 -17.8125 \nQ 21.140625 -20.796875 15.09375 -20.796875 \nL 7.90625 -20.796875 \nL 7.90625 -13.28125 \nL 13.1875 -13.28125 \nQ 16.890625 -13.28125 18.9375 -11.515625 \nQ 21 -9.765625 23.484375 -3.21875 \nL 25.09375 0.875 \nL 2.984375 54.6875 \nL 12.5 54.6875 \nL 29.59375 11.921875 \nL 46.6875 54.6875 \nL 56.203125 54.6875 \nz\n\" id=\"DejaVuSans-121\"/>\n      <path d=\"M 31 75.875 \nQ 24.46875 64.65625 21.28125 53.65625 \nQ 18.109375 42.671875 18.109375 31.390625 \nQ 18.109375 20.125 21.3125 9.0625 \nQ 24.515625 -2 31 -13.1875 \nL 23.1875 -13.1875 \nQ 15.875 -1.703125 12.234375 9.375 \nQ 8.59375 20.453125 8.59375 31.390625 \nQ 8.59375 42.28125 12.203125 53.3125 \nQ 15.828125 64.359375 23.1875 75.875 \nz\n\" id=\"DejaVuSans-40\"/>\n      <path d=\"M 17.921875 72.90625 \nL 17.921875 45.796875 \nL 9.625 45.796875 \nL 9.625 72.90625 \nz\nM 36.375 72.90625 \nL 36.375 45.796875 \nL 28.078125 45.796875 \nL 28.078125 72.90625 \nz\n\" id=\"DejaVuSans-34\"/>\n      <path d=\"M 8.015625 75.875 \nL 15.828125 75.875 \nQ 23.140625 64.359375 26.78125 53.3125 \nQ 30.421875 42.28125 30.421875 31.390625 \nQ 30.421875 20.453125 26.78125 9.375 \nQ 23.140625 -1.703125 15.828125 -13.1875 \nL 8.015625 -13.1875 \nQ 14.5 -2 17.703125 9.0625 \nQ 20.90625 20.125 20.90625 31.390625 \nQ 20.90625 42.671875 17.703125 53.65625 \nQ 14.5 64.65625 8.015625 75.875 \nz\n\" id=\"DejaVuSans-41\"/>\n     </defs>\n     <g transform=\"translate(720.608548 202.82125)rotate(-90)scale(0.1 -0.1)\">\n      <use xlink:href=\"#DejaVuSans-80\"/>\n      <use x=\"58.552734\" xlink:href=\"#DejaVuSans-114\"/>\n      <use x=\"97.416016\" xlink:href=\"#DejaVuSans-111\"/>\n      <use x=\"158.597656\" xlink:href=\"#DejaVuSans-98\"/>\n      <use x=\"222.074219\" xlink:href=\"#DejaVuSans-97\"/>\n      <use x=\"283.353516\" xlink:href=\"#DejaVuSans-98\"/>\n      <use x=\"346.830078\" xlink:href=\"#DejaVuSans-108\"/>\n      <use x=\"374.613281\" xlink:href=\"#DejaVuSans-105\"/>\n      <use x=\"402.396484\" xlink:href=\"#DejaVuSans-116\"/>\n      <use x=\"441.605469\" xlink:href=\"#DejaVuSans-121\"/>\n      <use x=\"500.785156\" xlink:href=\"#DejaVuSans-32\"/>\n      <use x=\"532.572266\" xlink:href=\"#DejaVuSans-40\"/>\n      <use x=\"571.585938\" xlink:href=\"#DejaVuSans-34\"/>\n      <use x=\"617.582031\" xlink:href=\"#DejaVuSans-114\"/>\n      <use x=\"656.445312\" xlink:href=\"#DejaVuSans-101\"/>\n      <use x=\"717.96875\" xlink:href=\"#DejaVuSans-97\"/>\n      <use x=\"779.248047\" xlink:href=\"#DejaVuSans-108\"/>\n      <use x=\"807.03125\" xlink:href=\"#DejaVuSans-34\"/>\n      <use x=\"853.027344\" xlink:href=\"#DejaVuSans-41\"/>\n     </g>\n    </g>\n   </g>\n   <g id=\"line2d_46\">\n    <path clip-path=\"url(#p13a39ebd1e)\" d=\"M 763.019168 38.533466 \nL 763.557356 34.67267 \nL 764.095545 34.67267 \nL 764.633734 40.463864 \nL 765.710111 40.463864 \nL 766.2483 36.603068 \nL 766.786489 40.463864 \nL 767.324677 34.67267 \nL 767.862866 50.115852 \nL 768.401055 71.350227 \nL 768.939243 53.976648 \nL 769.477432 48.185455 \nL 770.015621 67.489432 \nL 770.553809 36.603068 \nL 771.091998 61.698239 \nL 771.630187 40.463864 \nL 772.168375 42.394261 \nL 772.706564 42.394261 \nL 773.244753 61.698239 \nL 773.782941 53.976648 \nL 774.32113 50.115852 \nL 774.859319 42.394261 \nL 775.397507 63.628636 \nL 775.935696 59.767841 \nL 776.473885 38.533466 \nL 777.012073 46.255057 \nL 777.550262 48.185455 \nL 778.088451 67.489432 \nL 778.626639 69.41983 \nL 779.164828 50.115852 \nL 780.241205 46.255057 \nL 780.779394 46.255057 \nL 781.317583 67.489432 \nL 781.855771 82.932614 \nL 782.39396 53.976648 \nL 782.932149 50.115852 \nL 783.470337 53.976648 \nL 784.546715 46.255057 \nL 785.084904 52.04625 \nL 785.623092 53.976648 \nL 786.161281 48.185455 \nL 786.69947 63.628636 \nL 787.237658 73.280625 \nL 787.775847 71.350227 \nL 788.314036 46.255057 \nL 788.852224 69.41983 \nL 789.390413 73.280625 \nL 789.928602 57.837443 \nL 790.46679 63.628636 \nL 791.004979 63.628636 \nL 791.543168 67.489432 \nL 792.081356 57.837443 \nL 792.619545 61.698239 \nL 793.157734 67.489432 \nL 793.695922 42.394261 \nL 794.234111 52.04625 \nL 794.7723 53.976648 \nL 795.310488 59.767841 \nL 795.848677 52.04625 \nL 796.386866 57.837443 \nL 796.925054 75.211023 \nL 797.463243 61.698239 \nL 798.001432 65.559034 \nL 798.53962 57.837443 \nL 799.077809 57.837443 \nL 799.615998 61.698239 \nL 800.154186 90.654205 \nL 800.692375 81.002216 \nL 801.230564 77.14142 \nL 802.306941 57.837443 \nL 802.84513 69.41983 \nL 803.383319 53.976648 \nL 803.921507 52.04625 \nL 804.459696 46.255057 \nL 804.997885 79.071818 \nL 805.536073 61.698239 \nL 806.074262 61.698239 \nL 806.612451 65.559034 \nL 807.150639 55.907045 \nL 807.688828 50.115852 \nL 808.227017 73.280625 \nL 808.765205 88.723807 \nL 809.303394 61.698239 \nL 809.841583 69.41983 \nL 810.379771 69.41983 \nL 810.91796 59.767841 \nL 811.456149 65.559034 \nL 811.994337 61.698239 \nL 812.532526 73.280625 \nL 813.070715 77.14142 \nL 813.608903 65.559034 \nL 814.147092 71.350227 \nL 814.685281 69.41983 \nL 815.223469 84.863011 \nL 815.761658 67.489432 \nL 816.299847 59.767841 \nL 816.838035 57.837443 \nL 817.376224 81.002216 \nL 817.914413 65.559034 \nL 818.452601 57.837443 \nL 818.99079 61.698239 \nL 819.528979 63.628636 \nL 820.067168 52.04625 \nL 820.605356 81.002216 \nL 821.143545 69.41983 \nL 821.681734 71.350227 \nL 822.219922 55.907045 \nL 822.758111 94.515 \nL 823.2963 94.515 \nL 823.834488 59.767841 \nL 824.372677 75.211023 \nL 824.910866 79.071818 \nL 825.449054 81.002216 \nL 826.525432 57.837443 \nL 827.06362 94.515 \nL 827.601809 86.793409 \nL 828.678186 82.932614 \nL 829.216375 65.559034 \nL 829.754564 75.211023 \nL 830.292752 73.280625 \nL 830.830941 77.14142 \nL 831.36913 86.793409 \nL 831.907318 84.863011 \nL 832.445507 73.280625 \nL 834.060073 67.489432 \nL 834.598262 73.280625 \nL 835.13645 63.628636 \nL 835.674639 69.41983 \nL 836.212828 71.350227 \nL 836.751017 79.071818 \nL 837.289205 44.324659 \nL 837.827394 102.236591 \nL 838.365583 71.350227 \nL 838.903771 98.375795 \nL 839.44196 81.002216 \nL 839.980149 82.932614 \nL 840.518337 73.280625 \nL 841.056526 73.280625 \nL 841.594715 67.489432 \nL 842.132903 73.280625 \nL 842.671092 69.41983 \nL 843.209281 71.350227 \nL 843.747469 65.559034 \nL 844.285658 79.071818 \nL 844.823847 59.767841 \nL 845.362035 77.14142 \nL 845.900224 65.559034 \nL 846.438413 111.88858 \nL 846.976601 86.793409 \nL 847.51479 79.071818 \nL 848.052979 59.767841 \nL 848.591167 82.932614 \nL 849.129356 75.211023 \nL 849.667545 84.863011 \nL 850.205733 61.698239 \nL 850.743922 55.907045 \nL 851.282111 96.445398 \nL 851.820299 96.445398 \nL 852.358488 71.350227 \nL 852.896677 102.236591 \nL 854.511243 63.628636 \nL 855.049432 75.211023 \nL 855.58762 82.932614 \nL 856.125809 84.863011 \nL 856.663998 73.280625 \nL 857.202186 81.002216 \nL 857.740375 77.14142 \nL 858.278564 94.515 \nL 858.816752 77.14142 \nL 859.354941 109.958182 \nL 859.89313 82.932614 \nL 860.431318 96.445398 \nL 860.969507 82.932614 \nL 861.507696 113.818977 \nL 862.045884 96.445398 \nL 862.584073 53.976648 \nL 863.122262 63.628636 \nL 863.66045 108.027784 \nL 864.198639 117.679773 \nL 864.736828 59.767841 \nL 865.275016 63.628636 \nL 865.813205 90.654205 \nL 866.351394 133.122955 \nL 867.427771 65.559034 \nL 867.96596 104.166989 \nL 868.504148 63.628636 \nL 869.042337 73.280625 \nL 869.580526 67.489432 \nL 870.118714 102.236591 \nL 870.656903 104.166989 \nL 871.195092 104.166989 \nL 871.73328 71.350227 \nL 872.271469 94.515 \nL 872.809658 100.306193 \nL 873.347847 98.375795 \nL 873.886035 69.41983 \nL 874.424224 82.932614 \nL 874.962413 106.097386 \nL 875.500601 98.375795 \nL 876.03879 119.61017 \nL 876.576979 96.445398 \nL 877.115167 90.654205 \nL 877.653356 92.584602 \nL 878.191545 71.350227 \nL 878.729733 98.375795 \nL 879.267922 106.097386 \nL 879.806111 90.654205 \nL 880.344299 106.097386 \nL 880.882488 88.723807 \nL 881.420677 104.166989 \nL 881.958865 90.654205 \nL 882.497054 108.027784 \nL 883.035243 102.236591 \nL 883.573431 92.584602 \nL 884.11162 75.211023 \nL 884.649809 98.375795 \nL 885.187997 75.211023 \nL 885.726186 77.14142 \nL 886.264375 104.166989 \nL 886.802563 104.166989 \nL 887.340752 84.863011 \nL 888.417129 127.331761 \nL 888.955318 86.793409 \nL 889.493507 113.818977 \nL 890.031696 92.584602 \nL 890.569884 131.192557 \nL 891.108073 104.166989 \nL 891.646262 88.723807 \nL 892.18445 100.306193 \nL 892.722639 100.306193 \nL 893.260828 108.027784 \nL 893.799016 92.584602 \nL 894.337205 98.375795 \nL 894.875394 71.350227 \nL 895.413582 104.166989 \nL 895.951771 86.793409 \nL 896.48996 82.932614 \nL 897.028148 102.236591 \nL 897.566337 88.723807 \nL 898.104526 119.61017 \nL 898.642714 88.723807 \nL 899.180903 106.097386 \nL 899.719092 90.654205 \nL 900.25728 98.375795 \nL 900.795469 111.88858 \nL 901.333658 84.863011 \nL 901.871846 109.958182 \nL 902.410035 102.236591 \nL 903.486412 73.280625 \nL 904.024601 123.470966 \nL 904.56279 109.958182 \nL 905.100978 123.470966 \nL 905.639167 90.654205 \nL 906.177356 88.723807 \nL 906.715544 88.723807 \nL 907.253733 113.818977 \nL 907.791922 71.350227 \nL 908.330111 111.88858 \nL 908.868299 113.818977 \nL 909.944677 84.863011 \nL 910.482865 129.262159 \nL 911.021054 109.958182 \nL 911.559243 117.679773 \nL 912.097431 84.863011 \nL 912.63562 96.445398 \nL 913.173809 113.818977 \nL 913.711997 96.445398 \nL 914.250186 69.41983 \nL 914.788375 79.071818 \nL 915.326563 84.863011 \nL 915.864752 88.723807 \nL 916.402941 82.932614 \nL 916.941129 86.793409 \nL 917.479318 109.958182 \nL 918.017507 73.280625 \nL 918.555695 113.818977 \nL 919.093884 102.236591 \nL 919.632073 82.932614 \nL 920.170261 140.844545 \nL 920.70845 100.306193 \nL 921.246639 96.445398 \nL 921.784827 111.88858 \nL 922.323016 135.053352 \nL 922.861205 140.844545 \nL 923.399393 90.654205 \nL 923.937582 109.958182 \nL 924.475771 94.515 \nL 925.01396 106.097386 \nL 925.552148 88.723807 \nL 926.090337 82.932614 \nL 926.628526 109.958182 \nL 927.166714 129.262159 \nL 927.704903 79.071818 \nL 928.243092 117.679773 \nL 928.78128 82.932614 \nL 929.319469 104.166989 \nL 929.857658 185.243693 \nL 930.395846 106.097386 \nL 930.934035 94.515 \nL 931.472224 94.515 \nL 932.010412 67.489432 \nL 932.548601 79.071818 \nL 933.08679 117.679773 \nL 933.624978 111.88858 \nL 934.163167 138.914148 \nL 934.701356 96.445398 \nL 935.239544 98.375795 \nL 935.777733 67.489432 \nL 936.315922 117.679773 \nL 936.85411 96.445398 \nL 937.392299 106.097386 \nL 937.930488 84.863011 \nL 938.468676 100.306193 \nL 939.006865 131.192557 \nL 940.083242 84.863011 \nL 940.621431 90.654205 \nL 941.15962 92.584602 \nL 941.697808 84.863011 \nL 942.235997 67.489432 \nL 942.774186 100.306193 \nL 943.312375 98.375795 \nL 943.850563 109.958182 \nL 944.388752 111.88858 \nL 945.465129 65.559034 \nL 946.003318 102.236591 \nL 946.541507 121.540568 \nL 947.079695 102.236591 \nL 947.617884 106.097386 \nL 948.156073 113.818977 \nL 948.694261 88.723807 \nL 949.23245 117.679773 \nL 950.308827 79.071818 \nL 950.847016 84.863011 \nL 951.923393 127.331761 \nL 952.461582 100.306193 \nL 952.999771 100.306193 \nL 953.537959 84.863011 \nL 954.076148 131.192557 \nL 954.614337 119.61017 \nL 955.152525 96.445398 \nL 955.690714 109.958182 \nL 956.228903 102.236591 \nL 956.767091 142.774943 \nL 957.30528 106.097386 \nL 957.843469 102.236591 \nL 958.381657 102.236591 \nL 958.919846 135.053352 \nL 959.458035 96.445398 \nL 959.996223 102.236591 \nL 960.534412 117.679773 \nL 961.072601 106.097386 \nL 961.61079 113.818977 \nL 962.148978 104.166989 \nL 962.687167 86.793409 \nL 963.225356 133.122955 \nL 963.763544 123.470966 \nL 964.301733 104.166989 \nL 964.839922 117.679773 \nL 965.37811 100.306193 \nL 966.454488 96.445398 \nL 966.992676 158.218125 \nL 967.530865 104.166989 \nL 968.069054 92.584602 \nL 968.607242 102.236591 \nL 969.145431 100.306193 \nL 969.68362 127.331761 \nL 970.221808 106.097386 \nL 970.759997 125.401364 \nL 971.298186 136.98375 \nL 972.374563 102.236591 \nL 972.912752 140.844545 \nL 973.45094 90.654205 \nL 973.989129 131.192557 \nL 974.527318 127.331761 \nL 975.065506 104.166989 \nL 976.141884 158.218125 \nL 976.680072 88.723807 \nL 977.218261 129.262159 \nL 977.75645 117.679773 \nL 978.294639 138.914148 \nL 978.832827 81.002216 \nL 979.371016 86.793409 \nL 979.909205 111.88858 \nL 980.447393 88.723807 \nL 980.985582 73.280625 \nL 981.523771 125.401364 \nL 982.061959 117.679773 \nL 982.600148 100.306193 \nL 983.138337 144.705341 \nL 983.676525 71.350227 \nL 984.214714 96.445398 \nL 984.752903 198.756477 \nL 985.291091 140.844545 \nL 985.82928 160.148523 \nL 986.367469 121.540568 \nL 986.905657 111.88858 \nL 987.443846 113.818977 \nL 987.982035 136.98375 \nL 988.520223 133.122955 \nL 989.596601 111.88858 \nL 990.134789 104.166989 \nL 990.672978 108.027784 \nL 991.211167 106.097386 \nL 991.749355 71.350227 \nL 992.825733 140.844545 \nL 993.363921 115.749375 \nL 993.90211 100.306193 \nL 994.440299 104.166989 \nL 994.978487 92.584602 \nL 995.516676 59.767841 \nL 996.054865 92.584602 \nL 996.593054 136.98375 \nL 997.131242 92.584602 \nL 997.669431 115.749375 \nL 998.20762 131.192557 \nL 998.745808 82.932614 \nL 999.822186 123.470966 \nL 1000.360374 115.749375 \nL 1000.898563 96.445398 \nL 1001.436752 121.540568 \nL 1001.97494 129.262159 \nL 1002.513129 90.654205 \nL 1003.051318 131.192557 \nL 1003.589506 142.774943 \nL 1004.127695 138.914148 \nL 1004.665884 98.375795 \nL 1005.204072 135.053352 \nL 1005.742261 121.540568 \nL 1006.818638 102.236591 \nL 1007.356827 98.375795 \nL 1007.895016 125.401364 \nL 1008.433204 171.730909 \nL 1008.971393 115.749375 \nL 1009.509582 135.053352 \nL 1010.04777 100.306193 \nL 1010.585959 121.540568 \nL 1011.124148 117.679773 \nL 1011.662336 102.236591 \nL 1012.200525 117.679773 \nL 1012.738714 90.654205 \nL 1013.276903 127.331761 \nL 1013.815091 81.002216 \nL 1014.35328 117.679773 \nL 1015.429657 82.932614 \nL 1015.967846 86.793409 \nL 1017.044223 106.097386 \nL 1017.582412 119.61017 \nL 1018.120601 100.306193 \nL 1018.658789 117.679773 \nL 1019.196978 119.61017 \nL 1019.735167 113.818977 \nL 1020.273355 123.470966 \nL 1020.811544 115.749375 \nL 1021.349733 82.932614 \nL 1021.887921 109.958182 \nL 1022.42611 115.749375 \nL 1022.964299 131.192557 \nL 1023.502487 90.654205 \nL 1024.578865 156.287727 \nL 1025.117053 136.98375 \nL 1025.655242 94.515 \nL 1026.193431 162.07892 \nL 1026.731619 121.540568 \nL 1027.269808 154.35733 \nL 1027.807997 109.958182 \nL 1028.346185 133.122955 \nL 1028.884374 136.98375 \nL 1029.422563 113.818977 \nL 1029.960751 164.009318 \nL 1030.49894 167.870114 \nL 1031.037129 92.584602 \nL 1031.575318 129.262159 \nL 1031.575318 129.262159 \n\" style=\"fill:none;stroke:#1f77b4;stroke-linecap:square;stroke-width:1.5;\"/>\n   </g>\n   <g id=\"line2d_47\">\n    <path clip-path=\"url(#p13a39ebd1e)\" d=\"M 763.019168 281.76358 \nL 766.786489 281.76358 \nL 767.324677 272.111591 \nL 767.862866 281.76358 \nL 768.401055 272.111591 \nL 768.939243 281.76358 \nL 769.477432 281.76358 \nL 770.015621 268.250795 \nL 770.553809 281.76358 \nL 771.091998 279.833182 \nL 771.630187 281.76358 \nL 775.397507 281.76358 \nL 775.935696 274.041989 \nL 776.473885 279.833182 \nL 777.550262 279.833182 \nL 778.088451 275.972386 \nL 778.626639 281.76358 \nL 779.703017 274.041989 \nL 780.241205 279.833182 \nL 780.779394 279.833182 \nL 781.317583 281.76358 \nL 783.470337 281.76358 \nL 784.008526 279.833182 \nL 784.546715 274.041989 \nL 785.084904 275.972386 \nL 785.623092 281.76358 \nL 786.161281 279.833182 \nL 786.69947 279.833182 \nL 787.237658 277.902784 \nL 787.775847 277.902784 \nL 788.314036 281.76358 \nL 788.852224 281.76358 \nL 789.390413 277.902784 \nL 789.928602 281.76358 \nL 790.46679 272.111591 \nL 791.543168 279.833182 \nL 792.081356 279.833182 \nL 792.619545 281.76358 \nL 793.157734 281.76358 \nL 793.695922 279.833182 \nL 794.234111 275.972386 \nL 794.7723 281.76358 \nL 795.310488 268.250795 \nL 795.848677 279.833182 \nL 796.925054 268.250795 \nL 797.463243 279.833182 \nL 798.001432 279.833182 \nL 798.53962 272.111591 \nL 799.077809 275.972386 \nL 800.154186 279.833182 \nL 800.692375 277.902784 \nL 801.768753 277.902784 \nL 802.306941 274.041989 \nL 802.84513 279.833182 \nL 803.383319 262.459602 \nL 803.921507 277.902784 \nL 804.459696 279.833182 \nL 804.997885 277.902784 \nL 805.536073 274.041989 \nL 806.074262 277.902784 \nL 806.612451 272.111591 \nL 807.150639 281.76358 \nL 807.688828 274.041989 \nL 808.765205 277.902784 \nL 809.303394 274.041989 \nL 809.841583 272.111591 \nL 810.379771 262.459602 \nL 810.91796 266.320398 \nL 811.456149 272.111591 \nL 811.994337 272.111591 \nL 812.532526 277.902784 \nL 813.070715 264.39 \nL 813.608903 268.250795 \nL 814.147092 274.041989 \nL 814.685281 274.041989 \nL 815.761658 277.902784 \nL 816.299847 272.111591 \nL 816.838035 279.833182 \nL 817.376224 272.111591 \nL 817.914413 279.833182 \nL 818.452601 270.181193 \nL 819.528979 281.76358 \nL 820.067168 270.181193 \nL 820.605356 277.902784 \nL 821.143545 274.041989 \nL 821.681734 268.250795 \nL 822.219922 250.877216 \nL 822.758111 274.041989 \nL 823.2963 248.946818 \nL 823.834488 275.972386 \nL 824.372677 252.807614 \nL 824.910866 270.181193 \nL 825.449054 277.902784 \nL 825.987243 262.459602 \nL 826.525432 270.181193 \nL 827.06362 270.181193 \nL 827.601809 275.972386 \nL 828.139998 274.041989 \nL 828.678186 275.972386 \nL 829.216375 270.181193 \nL 829.754564 277.902784 \nL 830.292752 275.972386 \nL 830.830941 277.902784 \nL 831.36913 270.181193 \nL 831.907318 279.833182 \nL 832.983696 272.111591 \nL 833.521884 256.668409 \nL 834.060073 274.041989 \nL 834.598262 274.041989 \nL 835.13645 260.529205 \nL 835.674639 256.668409 \nL 836.212828 268.250795 \nL 836.751017 264.39 \nL 837.289205 262.459602 \nL 837.827394 264.39 \nL 838.365583 272.111591 \nL 838.903771 277.902784 \nL 839.44196 274.041989 \nL 839.980149 272.111591 \nL 840.518337 274.041989 \nL 841.056526 268.250795 \nL 841.594715 272.111591 \nL 842.132903 274.041989 \nL 842.671092 266.320398 \nL 843.209281 272.111591 \nL 843.747469 274.041989 \nL 844.285658 279.833182 \nL 844.823847 268.250795 \nL 845.362035 266.320398 \nL 846.438413 281.76358 \nL 846.976601 264.39 \nL 847.51479 270.181193 \nL 848.052979 274.041989 \nL 848.591167 229.642841 \nL 849.129356 275.972386 \nL 849.667545 279.833182 \nL 850.205733 275.972386 \nL 850.743922 270.181193 \nL 851.282111 262.459602 \nL 851.820299 256.668409 \nL 852.358488 256.668409 \nL 852.896677 229.642841 \nL 853.434865 264.39 \nL 855.049432 252.807614 \nL 855.58762 274.041989 \nL 856.125809 247.01642 \nL 856.663998 272.111591 \nL 857.202186 252.807614 \nL 857.740375 264.39 \nL 858.278564 241.225227 \nL 858.816752 262.459602 \nL 859.354941 264.39 \nL 859.89313 248.946818 \nL 860.431318 266.320398 \nL 860.969507 264.39 \nL 861.507696 256.668409 \nL 862.045884 274.041989 \nL 863.122262 219.990852 \nL 863.66045 264.39 \nL 864.198639 277.902784 \nL 864.736828 254.738011 \nL 865.275016 258.598807 \nL 865.813205 256.668409 \nL 866.351394 262.459602 \nL 866.889582 260.529205 \nL 867.427771 235.434034 \nL 867.96596 225.782045 \nL 868.504148 266.320398 \nL 869.042337 256.668409 \nL 869.580526 229.642841 \nL 870.118714 250.877216 \nL 870.656903 260.529205 \nL 871.195092 274.041989 \nL 871.73328 264.39 \nL 872.271469 277.902784 \nL 872.809658 270.181193 \nL 873.347847 245.086023 \nL 873.886035 268.250795 \nL 874.424224 254.738011 \nL 874.962413 266.320398 \nL 875.500601 252.807614 \nL 876.03879 252.807614 \nL 876.576979 233.503636 \nL 877.115167 252.807614 \nL 877.653356 264.39 \nL 878.191545 250.877216 \nL 878.729733 243.155625 \nL 879.267922 268.250795 \nL 879.806111 237.364432 \nL 880.344299 256.668409 \nL 880.882488 268.250795 \nL 881.420677 243.155625 \nL 881.958865 239.29483 \nL 882.497054 252.807614 \nL 883.035243 239.29483 \nL 883.573431 262.459602 \nL 884.11162 254.738011 \nL 884.649809 250.877216 \nL 885.187997 264.39 \nL 885.726186 262.459602 \nL 886.264375 239.29483 \nL 886.802563 260.529205 \nL 887.340752 270.181193 \nL 887.878941 241.225227 \nL 888.417129 250.877216 \nL 888.955318 245.086023 \nL 889.493507 237.364432 \nL 890.031696 256.668409 \nL 890.569884 254.738011 \nL 891.108073 239.29483 \nL 891.646262 247.01642 \nL 892.18445 266.320398 \nL 892.722639 268.250795 \nL 893.260828 252.807614 \nL 893.799016 254.738011 \nL 894.337205 268.250795 \nL 894.875394 243.155625 \nL 895.413582 247.01642 \nL 895.951771 256.668409 \nL 896.48996 247.01642 \nL 897.028148 275.972386 \nL 897.566337 262.459602 \nL 898.104526 272.111591 \nL 898.642714 245.086023 \nL 899.180903 233.503636 \nL 899.719092 231.573239 \nL 900.25728 247.01642 \nL 900.795469 272.111591 \nL 901.333658 247.01642 \nL 901.871846 252.807614 \nL 902.410035 270.181193 \nL 902.948224 256.668409 \nL 903.486412 250.877216 \nL 904.024601 272.111591 \nL 904.56279 250.877216 \nL 905.639167 266.320398 \nL 906.177356 243.155625 \nL 906.715544 254.738011 \nL 907.253733 256.668409 \nL 907.791922 233.503636 \nL 908.330111 270.181193 \nL 908.868299 250.877216 \nL 909.406488 277.902784 \nL 909.944677 248.946818 \nL 910.482865 268.250795 \nL 911.021054 237.364432 \nL 911.559243 225.782045 \nL 912.097431 233.503636 \nL 912.63562 245.086023 \nL 913.173809 239.29483 \nL 914.250186 270.181193 \nL 914.788375 256.668409 \nL 915.326563 258.598807 \nL 915.864752 250.877216 \nL 916.402941 237.364432 \nL 916.941129 266.320398 \nL 917.479318 248.946818 \nL 918.017507 260.529205 \nL 918.555695 248.946818 \nL 919.093884 262.459602 \nL 919.632073 229.642841 \nL 920.170261 245.086023 \nL 920.70845 208.408466 \nL 921.246639 260.529205 \nL 921.784827 252.807614 \nL 922.323016 266.320398 \nL 922.861205 241.225227 \nL 923.399393 225.782045 \nL 923.937582 258.598807 \nL 924.475771 262.459602 \nL 925.01396 241.225227 \nL 925.552148 189.104489 \nL 926.090337 252.807614 \nL 926.628526 260.529205 \nL 927.704903 260.529205 \nL 928.243092 264.39 \nL 928.78128 256.668409 \nL 929.319469 266.320398 \nL 929.857658 248.946818 \nL 930.395846 254.738011 \nL 930.934035 227.712443 \nL 931.472224 262.459602 \nL 932.010412 274.041989 \nL 932.548601 239.29483 \nL 933.08679 250.877216 \nL 933.624978 254.738011 \nL 934.163167 225.782045 \nL 934.701356 266.320398 \nL 935.239544 250.877216 \nL 935.777733 247.01642 \nL 936.315922 250.877216 \nL 936.85411 247.01642 \nL 937.392299 254.738011 \nL 937.930488 268.250795 \nL 938.468676 260.529205 \nL 939.006865 256.668409 \nL 939.545054 250.877216 \nL 940.083242 233.503636 \nL 940.621431 219.990852 \nL 941.15962 245.086023 \nL 941.697808 202.617273 \nL 942.235997 237.364432 \nL 942.774186 256.668409 \nL 943.312375 260.529205 \nL 943.850563 258.598807 \nL 944.388752 231.573239 \nL 944.926941 239.29483 \nL 945.465129 264.39 \nL 946.003318 243.155625 \nL 946.541507 237.364432 \nL 947.079695 223.851648 \nL 947.617884 252.807614 \nL 948.156073 239.29483 \nL 948.694261 260.529205 \nL 949.23245 241.225227 \nL 949.770639 235.434034 \nL 950.308827 268.250795 \nL 950.847016 227.712443 \nL 951.385205 210.338864 \nL 951.923393 258.598807 \nL 952.461582 245.086023 \nL 952.999771 256.668409 \nL 953.537959 247.01642 \nL 954.076148 225.782045 \nL 954.614337 247.01642 \nL 955.152525 262.459602 \nL 955.690714 173.661307 \nL 956.228903 200.686875 \nL 956.767091 243.155625 \nL 957.30528 221.92125 \nL 957.843469 243.155625 \nL 958.381657 221.92125 \nL 958.919846 216.130057 \nL 959.458035 266.320398 \nL 959.996223 243.155625 \nL 960.534412 252.807614 \nL 961.072601 252.807614 \nL 961.61079 247.01642 \nL 962.148978 237.364432 \nL 962.687167 191.034886 \nL 963.225356 245.086023 \nL 963.763544 262.459602 \nL 964.301733 248.946818 \nL 964.839922 247.01642 \nL 965.37811 252.807614 \nL 965.916299 243.155625 \nL 966.454488 258.598807 \nL 966.992676 247.01642 \nL 967.530865 252.807614 \nL 968.069054 202.617273 \nL 968.607242 254.738011 \nL 969.145431 241.225227 \nL 969.68362 264.39 \nL 970.221808 250.877216 \nL 970.759997 241.225227 \nL 971.298186 252.807614 \nL 971.836374 239.29483 \nL 972.374563 268.250795 \nL 972.912752 254.738011 \nL 973.45094 200.686875 \nL 973.989129 235.434034 \nL 974.527318 248.946818 \nL 975.065506 216.130057 \nL 975.603695 258.598807 \nL 976.141884 252.807614 \nL 976.680072 225.782045 \nL 977.218261 248.946818 \nL 977.75645 260.529205 \nL 978.294639 243.155625 \nL 978.832827 239.29483 \nL 979.371016 231.573239 \nL 979.909205 187.174091 \nL 980.447393 227.712443 \nL 980.985582 258.598807 \nL 981.523771 264.39 \nL 982.061959 250.877216 \nL 983.138337 268.250795 \nL 983.676525 243.155625 \nL 984.752903 225.782045 \nL 985.291091 268.250795 \nL 985.82928 252.807614 \nL 986.367469 250.877216 \nL 986.905657 258.598807 \nL 987.443846 268.250795 \nL 987.982035 247.01642 \nL 989.058412 223.851648 \nL 989.596601 258.598807 \nL 990.134789 231.573239 \nL 990.672978 198.756477 \nL 991.211167 247.01642 \nL 991.749355 239.29483 \nL 992.287544 225.782045 \nL 992.825733 264.39 \nL 993.363921 233.503636 \nL 993.90211 241.225227 \nL 994.440299 243.155625 \nL 994.978487 250.877216 \nL 995.516676 254.738011 \nL 996.054865 231.573239 \nL 996.593054 266.320398 \nL 997.131242 216.130057 \nL 997.669431 239.29483 \nL 998.745808 260.529205 \nL 999.822186 214.199659 \nL 1000.360374 216.130057 \nL 1000.898563 260.529205 \nL 1001.436752 264.39 \nL 1001.97494 274.041989 \nL 1002.513129 206.478068 \nL 1003.051318 250.877216 \nL 1003.589506 237.364432 \nL 1004.127695 243.155625 \nL 1004.665884 219.990852 \nL 1005.204072 264.39 \nL 1005.742261 254.738011 \nL 1006.28045 219.990852 \nL 1007.356827 260.529205 \nL 1007.895016 260.529205 \nL 1008.433204 216.130057 \nL 1008.971393 218.060455 \nL 1009.509582 214.199659 \nL 1010.04777 235.434034 \nL 1010.585959 247.01642 \nL 1011.124148 239.29483 \nL 1011.662336 243.155625 \nL 1012.200525 252.807614 \nL 1012.738714 235.434034 \nL 1013.276903 227.712443 \nL 1013.815091 254.738011 \nL 1014.35328 223.851648 \nL 1014.891469 258.598807 \nL 1015.429657 245.086023 \nL 1015.967846 235.434034 \nL 1016.506035 216.130057 \nL 1017.044223 260.529205 \nL 1017.582412 243.155625 \nL 1018.120601 204.54767 \nL 1018.658789 221.92125 \nL 1019.196978 254.738011 \nL 1019.735167 192.965284 \nL 1020.273355 227.712443 \nL 1020.811544 206.478068 \nL 1021.349733 212.269261 \nL 1021.887921 260.529205 \nL 1022.42611 243.155625 \nL 1022.964299 260.529205 \nL 1023.502487 241.225227 \nL 1024.040676 241.225227 \nL 1024.578865 229.642841 \nL 1025.117053 243.155625 \nL 1025.655242 169.800511 \nL 1026.193431 272.111591 \nL 1026.731619 212.269261 \nL 1027.269808 235.434034 \nL 1027.807997 235.434034 \nL 1028.346185 258.598807 \nL 1028.884374 252.807614 \nL 1029.422563 239.29483 \nL 1029.960751 254.738011 \nL 1030.49894 264.39 \nL 1031.037129 245.086023 \nL 1031.575318 237.364432 \nL 1031.575318 237.364432 \n\" style=\"fill:none;stroke:#ff7f0e;stroke-linecap:square;stroke-width:1.5;\"/>\n   </g>\n   <g id=\"patch_14\">\n    <path d=\"M 749.59136 294.118125 \nL 749.59136 22.318125 \n\" style=\"fill:none;stroke:#000000;stroke-linecap:square;stroke-linejoin:miter;stroke-width:0.8;\"/>\n   </g>\n   <g id=\"patch_15\">\n    <path d=\"M 1045.003125 294.118125 \nL 1045.003125 22.318125 \n\" style=\"fill:none;stroke:#000000;stroke-linecap:square;stroke-linejoin:miter;stroke-width:0.8;\"/>\n   </g>\n   <g id=\"patch_16\">\n    <path d=\"M 749.59136 294.118125 \nL 1045.003125 294.118125 \n\" style=\"fill:none;stroke:#000000;stroke-linecap:square;stroke-linejoin:miter;stroke-width:0.8;\"/>\n   </g>\n   <g id=\"patch_17\">\n    <path d=\"M 749.59136 22.318125 \nL 1045.003125 22.318125 \n\" style=\"fill:none;stroke:#000000;stroke-linecap:square;stroke-linejoin:miter;stroke-width:0.8;\"/>\n   </g>\n   <g id=\"text_48\">\n    <!-- Discriminator output -->\n    <defs>\n     <path d=\"M 8.5 21.578125 \nL 8.5 54.6875 \nL 17.484375 54.6875 \nL 17.484375 21.921875 \nQ 17.484375 14.15625 20.5 10.265625 \nQ 23.53125 6.390625 29.59375 6.390625 \nQ 36.859375 6.390625 41.078125 11.03125 \nQ 45.3125 15.671875 45.3125 23.6875 \nL 45.3125 54.6875 \nL 54.296875 54.6875 \nL 54.296875 0 \nL 45.3125 0 \nL 45.3125 8.40625 \nQ 42.046875 3.421875 37.71875 1 \nQ 33.40625 -1.421875 27.6875 -1.421875 \nQ 18.265625 -1.421875 13.375 4.4375 \nQ 8.5 10.296875 8.5 21.578125 \nz\nM 31.109375 56 \nz\n\" id=\"DejaVuSans-117\"/>\n    </defs>\n    <g transform=\"translate(835.275055 16.318125)scale(0.12 -0.12)\">\n     <use xlink:href=\"#DejaVuSans-68\"/>\n     <use x=\"77.001953\" xlink:href=\"#DejaVuSans-105\"/>\n     <use x=\"104.785156\" xlink:href=\"#DejaVuSans-115\"/>\n     <use x=\"156.884766\" xlink:href=\"#DejaVuSans-99\"/>\n     <use x=\"211.865234\" xlink:href=\"#DejaVuSans-114\"/>\n     <use x=\"252.978516\" xlink:href=\"#DejaVuSans-105\"/>\n     <use x=\"280.761719\" xlink:href=\"#DejaVuSans-109\"/>\n     <use x=\"378.173828\" xlink:href=\"#DejaVuSans-105\"/>\n     <use x=\"405.957031\" xlink:href=\"#DejaVuSans-110\"/>\n     <use x=\"469.335938\" xlink:href=\"#DejaVuSans-97\"/>\n     <use x=\"530.615234\" xlink:href=\"#DejaVuSans-116\"/>\n     <use x=\"569.824219\" xlink:href=\"#DejaVuSans-111\"/>\n     <use x=\"631.005859\" xlink:href=\"#DejaVuSans-114\"/>\n     <use x=\"672.119141\" xlink:href=\"#DejaVuSans-32\"/>\n     <use x=\"703.90625\" xlink:href=\"#DejaVuSans-111\"/>\n     <use x=\"765.087891\" xlink:href=\"#DejaVuSans-117\"/>\n     <use x=\"828.466797\" xlink:href=\"#DejaVuSans-116\"/>\n     <use x=\"867.675781\" xlink:href=\"#DejaVuSans-112\"/>\n     <use x=\"931.152344\" xlink:href=\"#DejaVuSans-117\"/>\n     <use x=\"994.53125\" xlink:href=\"#DejaVuSans-116\"/>\n    </g>\n   </g>\n   <g id=\"legend_2\">\n    <g id=\"patch_18\">\n     <path d=\"M 983.454688 59.674375 \nL 1038.003125 59.674375 \nQ 1040.003125 59.674375 1040.003125 57.674375 \nL 1040.003125 29.318125 \nQ 1040.003125 27.318125 1038.003125 27.318125 \nL 983.454688 27.318125 \nQ 981.454688 27.318125 981.454688 29.318125 \nL 981.454688 57.674375 \nQ 981.454688 59.674375 983.454688 59.674375 \nz\n\" style=\"fill:#ffffff;opacity:0.8;stroke:#cccccc;stroke-linejoin:miter;\"/>\n    </g>\n    <g id=\"line2d_48\">\n     <path d=\"M 985.454688 35.416562 \nL 1005.454688 35.416562 \n\" style=\"fill:none;stroke:#1f77b4;stroke-linecap:square;stroke-width:1.5;\"/>\n    </g>\n    <g id=\"line2d_49\"/>\n    <g id=\"text_49\">\n     <!-- Real -->\n     <defs>\n      <path d=\"M 44.390625 34.1875 \nQ 47.5625 33.109375 50.5625 29.59375 \nQ 53.5625 26.078125 56.59375 19.921875 \nL 66.609375 0 \nL 56 0 \nL 46.6875 18.703125 \nQ 43.0625 26.03125 39.671875 28.421875 \nQ 36.28125 30.8125 30.421875 30.8125 \nL 19.671875 30.8125 \nL 19.671875 0 \nL 9.8125 0 \nL 9.8125 72.90625 \nL 32.078125 72.90625 \nQ 44.578125 72.90625 50.734375 67.671875 \nQ 56.890625 62.453125 56.890625 51.90625 \nQ 56.890625 45.015625 53.6875 40.46875 \nQ 50.484375 35.9375 44.390625 34.1875 \nz\nM 19.671875 64.796875 \nL 19.671875 38.921875 \nL 32.078125 38.921875 \nQ 39.203125 38.921875 42.84375 42.21875 \nQ 46.484375 45.515625 46.484375 51.90625 \nQ 46.484375 58.296875 42.84375 61.546875 \nQ 39.203125 64.796875 32.078125 64.796875 \nz\n\" id=\"DejaVuSans-82\"/>\n     </defs>\n     <g transform=\"translate(1013.454688 38.916562)scale(0.1 -0.1)\">\n      <use xlink:href=\"#DejaVuSans-82\"/>\n      <use x=\"64.982422\" xlink:href=\"#DejaVuSans-101\"/>\n      <use x=\"126.505859\" xlink:href=\"#DejaVuSans-97\"/>\n      <use x=\"187.785156\" xlink:href=\"#DejaVuSans-108\"/>\n     </g>\n    </g>\n    <g id=\"line2d_50\">\n     <path d=\"M 985.454688 50.094688 \nL 1005.454688 50.094688 \n\" style=\"fill:none;stroke:#ff7f0e;stroke-linecap:square;stroke-width:1.5;\"/>\n    </g>\n    <g id=\"line2d_51\"/>\n    <g id=\"text_50\">\n     <!-- Fake -->\n     <defs>\n      <path d=\"M 9.8125 72.90625 \nL 51.703125 72.90625 \nL 51.703125 64.59375 \nL 19.671875 64.59375 \nL 19.671875 43.109375 \nL 48.578125 43.109375 \nL 48.578125 34.8125 \nL 19.671875 34.8125 \nL 19.671875 0 \nL 9.8125 0 \nz\n\" id=\"DejaVuSans-70\"/>\n      <path d=\"M 9.078125 75.984375 \nL 18.109375 75.984375 \nL 18.109375 31.109375 \nL 44.921875 54.6875 \nL 56.390625 54.6875 \nL 27.390625 29.109375 \nL 57.625 0 \nL 45.90625 0 \nL 18.109375 26.703125 \nL 18.109375 0 \nL 9.078125 0 \nz\n\" id=\"DejaVuSans-107\"/>\n     </defs>\n     <g transform=\"translate(1013.454688 53.594688)scale(0.1 -0.1)\">\n      <use xlink:href=\"#DejaVuSans-70\"/>\n      <use x=\"48.394531\" xlink:href=\"#DejaVuSans-97\"/>\n      <use x=\"109.673828\" xlink:href=\"#DejaVuSans-107\"/>\n      <use x=\"163.958984\" xlink:href=\"#DejaVuSans-101\"/>\n     </g>\n    </g>\n   </g>\n  </g>\n </g>\n <defs>\n  <clipPath id=\"pde3758c315\">\n   <rect height=\"271.8\" width=\"295.411765\" x=\"40.603125\" y=\"22.318125\"/>\n  </clipPath>\n  <clipPath id=\"p1a43c3c6e8\">\n   <rect height=\"271.8\" width=\"295.411765\" x=\"395.097243\" y=\"22.318125\"/>\n  </clipPath>\n  <clipPath id=\"p13a39ebd1e\">\n   <rect height=\"271.8\" width=\"295.411765\" x=\"749.59136\" y=\"22.318125\"/>\n  </clipPath>\n </defs>\n</svg>\n"
          },
          "metadata": {
            "needs_background": "light"
          }
        }
      ]
    },
    {
      "cell_type": "markdown",
      "source": [
        "# Visualizing the generated images"
      ],
      "metadata": {
        "id": "AInj1fQf0gqZ"
      }
    },
    {
      "cell_type": "code",
      "metadata": {
        "id": "AzCz1UqGCP8T",
        "colab": {
          "base_uri": "https://localhost:8080/",
          "height": 475
        },
        "outputId": "74a347cc-e3c3-461e-8e97-59fe9b9e8803"
      },
      "source": [
        "gnet.eval()\n",
        "fake_data = gnet(torch.randn(12,64).to(device)).cpu()\n",
        "\n",
        "fig,axs = plt.subplots(3,4,figsize=(8,6))\n",
        "for i,ax in enumerate(axs.flatten()):\n",
        "  ax.imshow(fake_data[i,:,].detach().view(28,28),cmap='gray')\n",
        "  ax.axis('off')\n",
        "\n",
        "plt.show()"
      ],
      "execution_count": 26,
      "outputs": [
        {
          "output_type": "display_data",
          "data": {
            "text/plain": [
              "<Figure size 576x432 with 12 Axes>"
            ],
            "image/svg+xml": "<?xml version=\"1.0\" encoding=\"utf-8\" standalone=\"no\"?>\n<!DOCTYPE svg PUBLIC \"-//W3C//DTD SVG 1.1//EN\"\n  \"http://www.w3.org/Graphics/SVG/1.1/DTD/svg11.dtd\">\n<!-- Created with matplotlib (https://matplotlib.org/) -->\n<svg height=\"340.56pt\" version=\"1.1\" viewBox=\"0 0 459.685934 340.56\" width=\"459.685934pt\" xmlns=\"http://www.w3.org/2000/svg\" xmlns:xlink=\"http://www.w3.org/1999/xlink\">\n <defs>\n  <style type=\"text/css\">\n*{stroke-linecap:butt;stroke-linejoin:round;}\n  </style>\n </defs>\n <g id=\"figure_1\">\n  <g id=\"patch_1\">\n   <path d=\"M 0 340.56 \nL 459.685934 340.56 \nL 459.685934 0 \nL 0 0 \nz\n\" style=\"fill:none;\"/>\n  </g>\n  <g id=\"axes_1\">\n   <g clip-path=\"url(#p4d9496f0d1)\">\n    <image height=\"96\" id=\"imaged80b3e885c\" transform=\"scale(1 -1)translate(0 -96)\" width=\"96\" x=\"7.2\" xlink:href=\"data:image/png;base64,\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\" y=\"-7.129412\"/>\n   </g>\n  </g>\n  <g id=\"axes_2\">\n   <g clip-path=\"url(#p820ab661f7)\">\n    <image height=\"96\" id=\"image7d3f0a9709\" transform=\"scale(1 -1)translate(0 -96)\" width=\"96\" x=\"123.652174\" xlink:href=\"data:image/png;base64,\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\" y=\"-7.129412\"/>\n   </g>\n  </g>\n  <g id=\"axes_3\">\n   <g clip-path=\"url(#pcfb719d69e)\">\n    <image height=\"96\" id=\"imagece1cec5e18\" transform=\"scale(1 -1)translate(0 -96)\" width=\"96\" x=\"240.104348\" xlink:href=\"data:image/png;base64,\niVBORw0KGgoAAAANSUhEUgAAAGAAAABgCAYAAADimHc4AAAABHNCSVQICAgIfAhkiAAACBVJREFUeJztXUeIVVkQPa1tzlnMOWFCEQOYtQ0LFWyxdeNC3YgJ3AgmVFyIuBNBXIi4MYCKCioiJlDEHBAjZsw559nVnCr8PT3X11OzqLM6j7r//Q9F1a1b4f48AL+QgLJlywqvX7++kjVr1kz4hw8fhF++fDnlq0qM/Px89fz9+/ek9+Tl5QmvWrWq8HLlyql1X79+Ff7+/fuk7yqT9KlAZggFOCMPiS5o06ZNwgsLC5WsTJm/9Xr27Fnh06dPV+v27t0rfNKkSUrWoEED4ffv31eyZcuWCZ8/f77wAQMGqHXv3r0T/vbtWyW7deuW8BYtWijZvHnzhH/69El4z5491br9+/cLnzx5MlIQFuCMUIAzQgHOSN4DBg8eLPzAgQNK9u3bN+EvX74U/ujRI7WuZcuWwk+fPq1kw4cPF37u3Dkla9eunfCKFSsKX7hwoVpXVFQkvGnTpkrGIWrt2rWVjMPQYcOGCd+1a5dax7956NChSEFYgDNCAc7I/+clvwe7AQ7VAODq1avC+VTcpk0bta5KlSrCd+/erWT9+/f/7TsAoEKFCsJfv34tfMmSJWodu5nKlSsrGYeo9oTLn5s4caLwX7+0t37w4AH+FGEBzggFOCMU4IzkMLRhw4bCr1y5omScKeUw0frQZ8+e5ZRVq1ZNOO8VAPDw4UPh58+fF84pEECHsnafunPnjvCOHTsqGe8xAwcOFD5z5ky1rnr16sJHjx6NFIQFOCMU4IzkMJTN78ePH0p28+ZN4ewWbDbx8+fPwps0aaJk7JJevHihZBxS1qpV67efsXj8+LF6rlOnjnB2OQBw+/Zt4Zwp7dGjh1q3Zs2anN9XUoQFOCMU4IxQgDOS94Bx48YJtyEeh3XPnz/PuW7fvn3CR40apWRcEePsKqD9Pmcy69atq9YtWLBA+KpVq5SM9wsbRnPYyymRevXqqXU1atTAnyIswBmhAGckn4Q5PLtx44aScRG9efPmwj9+/JjzfSdPnlTP7IJq1qypZJy95HDS9h3xad2GqNzLxCd3QJ/Q+/XrJ3z58uVq3d27d4Vzc8C/QViAM0IBzkiOgjiiOXbsmJJ1795dOLfv2WjmwoULwnv37q1knMTjxBmgT96vXr0SbpN27HbYVQG6js31bUBHRXPmzBE+fvx4tc4m51IQFuCMUIAzQgHOSN4DuBjetWtXJeMMKLen24IJP//8+VPJuIeoVatWSnb8+HHhXOi3vT/8G7nXB9Bt5zYM5awnh5r2HZs3b8afIizAGaEAZyS7IIZNsrE74dpupUqV1Do+cXLYCQBHjx4V3rhxYyXjYhCHmnYihtfZUJbfyTVmQLsadkf37t3LuS4VYQHOCAU4IxTgjOQ9gNMBNsXA/pVDPA4LAWDs2LHCuY0d0CkMm0XltbzH2OL9xYsXhffq1SvnO2zbPBdhOFS2/aX83W/evEEKwgKcEQpwRnJBhsH9PQBw8OBB4TxhYsNVNn3bus7uyoao3FrObsfWbLkXqFGjRkq2bds24X379lUyDllbt24tnDOvgJ6Ksb1RJUVYgDNCAc4IBTgjk1TEpUuX1DNXxPgCDXt059QB92MCOo1g94CdO3cK53DS9m5yL+r69euVjLOhPK0JAG3bthW+fft24TyWBRTfi1pShAU4IxTgjEzC0I0bN6pndgtz584VbkO1RYsWCZ82bZqS8VoOBQFdJOFhadveyBd02BCVh7/tCZd7nngCx7Y+2smaFIQFOCMU4IxMoiA+7QK6lZBPtPYkzKZvh7H5hGuTffz+ESNGCOfJHEC7MRuBcduirVWvXr1aOA/fzZgxA1kjLMAZoQBnhAKckckesHXrVvU8depU4eyHebIF0HfI2YI3ZzztKbZLly7Cy5cvL9wWXfjSEFuw5wYBvv8O0GEoZ0DtXpQFwgKcEQpwRiYuyN7TU1BQIJwTW0+ePFHrrl27JpxdDqCnbqZMmaJkPFjNxRN7ou3QoYPwM2fOKNmgQYOE2yHxkSNHCufTdOrtuMUhLMAZoQBnhAKckckeYH0vF2i4GG6nKXkC8ciRI0rGhXJucQf0RCUXU2xKgdMgtgWd74JbunSpkvG0Jb+DR6qyQliAM0IBzsjEBdm7eLhl7/r168K7deum1nEdmGu0gD5B25tteaKST8lcqAF0sYZPzACwYcMG4Vx0AYCVK1cK59N1FjVgi7AAZ4QCnBEKcEYmRXkLDtc462gv5OjcubNw257OFSx719yhQ4eEc8+QXccyHocCdPs7j0MBej/iPYa/NyuEBTgjFOCMTMJQC54wmT17tvBZs2apdewGbLGGr4S0p9hOnToJ59Z4u27Lli3Cx4wZo2QchtpmgVOnTgkvjdMvIyzAGaEAZ5RKFMRJMR7E45sWAWDt2rXCbWsi381j/2CBCzuHDx8Wzj1CgI7A7CAeJxB37NihZIsXLxZe3DVrWSAswBmhAGeEApxRKnsAgwvj3I8JaD8/YcIEJeOrL+1kCoeNXKDnnk5A96za3tMhQ4YIt1OeNrtbmggLcEYowBml7oKKQ/v27YXz6RPQp9ovX74oGRdGOOFm/1GbCz7Wje3Zs0e4PSX/lwgLcEYowBmhAGe47gHs5+1f1vKfI9g/WOCeId47+vTpo9Y9ffo05zs4LZJ60UYWCAtwRijAGa4uiGGLKTxls2LFCiXj/h+uK9v2cT4lFzc944mwAGeEApwRCnDG/2YPsOBeTnvfW1FRkfDCwkLhJ06cUOvWrVsn3Iah9rZ2L4QFOCMU4Iy/APxn1DUIfgYdAAAAAElFTkSuQmCC\" y=\"-7.129412\"/>\n   </g>\n  </g>\n  <g id=\"axes_4\">\n   <g clip-path=\"url(#p069e3fab5e)\">\n    <image height=\"96\" id=\"image5eed3fd37f\" transform=\"scale(1 -1)translate(0 -96)\" width=\"96\" x=\"356.556522\" xlink:href=\"data:image/png;base64,\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\" y=\"-7.129412\"/>\n   </g>\n  </g>\n  <g id=\"axes_5\">\n   <g clip-path=\"url(#pb40557afbd)\">\n    <image height=\"96\" id=\"image8cb14ba659\" transform=\"scale(1 -1)translate(0 -96)\" width=\"96\" x=\"7.2\" xlink:href=\"data:image/png;base64,\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\" y=\"-122.244706\"/>\n   </g>\n  </g>\n  <g id=\"axes_6\">\n   <g clip-path=\"url(#p3b19e80972)\">\n    <image height=\"96\" id=\"image46c7ebf7fd\" transform=\"scale(1 -1)translate(0 -96)\" width=\"96\" x=\"123.652174\" xlink:href=\"data:image/png;base64,\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\" y=\"-122.244706\"/>\n   </g>\n  </g>\n  <g id=\"axes_7\">\n   <g clip-path=\"url(#p6632289a40)\">\n    <image height=\"96\" id=\"imageab01123f9c\" transform=\"scale(1 -1)translate(0 -96)\" width=\"96\" x=\"240.104348\" xlink:href=\"data:image/png;base64,\niVBORw0KGgoAAAANSUhEUgAAAGAAAABgCAYAAADimHc4AAAABHNCSVQICAgIfAhkiAAABhpJREFUeJztncdLnlsQxkdjx96JLaLYAjYQdypREN0pCiaoCwVBcedCg9m4EjeCuBZFEEEI+QMUQUQsBBdG7CiJBUsiUWNvd5W5MwfLlxu/d4Q7v9VzeN68vmE458ypnwMA3IIQjo6OqCcnJ5l3fX2NuqSkhHkbGxuPvg8AYGBgALWrqyvzenp6UH/8+NG2D34iXrx4gdrxgecUC9AACOMAgk1QYGAg6qWlJebRJqOmpoZ5fX19d77Pz8+PldfW1lDTag8A8O3bN9SvX7+28YufHq0BwmgAhNEACOMk+cd//vyJ+uzsjHmenp6oy8rKmHdfH+Di4sLKHR0dqCsrK5k3MTHxZx9rJ7QGCKMBEEa0CXJy+vfPe3h4MI+mifPz8za9z93dnZVra2tRHx0dMW9kZAS1g4MD825vrcvMtQYIowEQRgMgjGgfcHNzg9rsAy4vL1EnJiba9D46tQHAU9vg4GDmffjwAXVvb69N77cHWgOE0QAII9oEJSQkoDZnK2mK6ubmZtP7cnJyWNnHxwe1s7Mz82xNbe2N1gBhNADCaACEEe0D9vf3UR8eHjKPtvuxsbE2ve/09JSVaRpqvj8jI8Pm77QnWgOE0QAII9oE0aaFNkcAAMvLy6g3Nzdtet+7d+9YmY6uDw4OmEdH2job+j9GAyCMaBO0u7uL+urqinne3t6oo6OjbXrf+Pg4K9P9PnNzc8z79OmTzd9pT7QGCKMBEEYDIIxoH7Czs4OatvkAAOHh4aj39vaYR9NGmjJmZ2ez5+gM65s3b5jX1dV15zusRmuAMBoAYUSboKCgINRmEzQ7O4s6JSWFebRpoelrSEgIe46OrulpGQCA7u5u1OZaspVoDRBGAyCMBkAY0T4gNDQUtbk9fWVlBXVUVBTz6H4iijlrSvuVgIAA5q2vr//Zx/4FD822ag0QRgMgjKVNkFkV6SmY79+/M+/Vq1eov379yjzatNBTNuY6Lz0lmZeXx7ypqSnU5gHv+5q4/8pDI22tAcJoAITRAAhjaR9gtoV0BcvX15d5w8PDqKuqqphnttm/MVfVKC0tLaxMT9+bpyvNlPipoX2h1gBhNADCiI6E09PTUZvNAD3RYm4tj4yMRE1nPOmWdgA+a1pdXc08Omp+6rTTREfCzxgNgDCiTVBYWBhq8xQMHSX/+PGDeXFxcai/fPmC+vz8nD1Hy+ZdQmlpaaj9/f2Zt729/ei3/wk6En7GaACE0QAIY+mdceZlGnS2kmoA3gfQ05QAPA2l/YN5QqapqQl1RUUF82iam5qayryn7gMeQmuAMBoAYSxNQ800sa2tDXVzczPz+vv7UdPFGdMrLi5GbY5oy8vLUZsj7YWFBdS0ubMarQHCaACE0QAIIzoV8fbtW9R0AQYAoLS0FLU5G2qms78xZ0PpSUjabwDwBaCCggLmdXZ2PvTZT4rWAGE0AMJY2gR5eXmxcmtrK+r29nbm0QWTxcVF5kVERKAuKipCfXFxwZ6jizW0SQPgKev79+8f/XZ7oTVAGA2AMBoAYSydDTVXnsbGxlD/+vWLefTYkHnlJE1Zk5KSUJt9DN03avYjdMv74OAg8xoaGu7+D9gBrQHCaACEsTQNPT4+ZmV6qtG8OZduSTdnK+kCCv135sI+vaYsOTn5Xo82Y1ajNUAYDYAwoidk6DowvTsIAODly5eozd3Q9O4fOvrNzMxkz9HsJj8/n3l0JGz15d26O/oZoQEQRgMgDBsJ2/v6xtzcXFamiyT052sB+E/Wmuklve6SprZbW1vsOXp7+ufPn5lH/68xMTHMMy8HsSdaA4TRAAjD0lB7X91lrvuurq6iplvOAXhampWVxbz7DtGZ6751dXWoCwsLmUe3H5o/l2slWgOE0QAIowEQRvSgNt2vaf6ID50pnZ6eZh5d2KFb1evr69lzNLVtbGxkHl10MY8vWYnWAGE0AMKIbk0cHR1FTU8tAgDEx8ejNtNOev0YXUs2t6efnJygNu+boHcO0evR7IEe1H7GaACE0QAII7oiRmc56U+YA/CVrqGhIebR7eq0r6C/mAHAt6ebVyPTfUIzMzOPfvvfoCflnzEaAGH+AbY10KCArBn0AAAAAElFTkSuQmCC\" y=\"-122.244706\"/>\n   </g>\n  </g>\n  <g id=\"axes_8\">\n   <g clip-path=\"url(#p687ba94e7d)\">\n    <image height=\"96\" id=\"image2074e67752\" transform=\"scale(1 -1)translate(0 -96)\" width=\"96\" x=\"356.556522\" xlink:href=\"data:image/png;base64,\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\" y=\"-122.244706\"/>\n   </g>\n  </g>\n  <g id=\"axes_9\">\n   <g clip-path=\"url(#pd51c18e4fb)\">\n    <image height=\"96\" id=\"imagec4dbb31afb\" transform=\"scale(1 -1)translate(0 -96)\" width=\"96\" x=\"7.2\" xlink:href=\"data:image/png;base64,\niVBORw0KGgoAAAANSUhEUgAAAGAAAABgCAYAAADimHc4AAAABHNCSVQICAgIfAhkiAAACTxJREFUeJztXWfIz+8Xvh47m8feZGST8UIkoZSSSEaJUOKFEKFEUUZGyMiWmRkiMxnZZGTv7L33/L87z3VOfPr+v/l1Uud6dT2d+/l8P89zus99znXu+/5mAPiFFJAnTx7185QpU4SPHj1a2X7+/Cn88+fPwr99+5bKR7kjIyNDeN68eYVXqlRJjeO/5/r16398Bv8/LLKl+5KBv4NwgDNyJBmzZcvyT2Zm5h9t79+/V7aiRYsK5+n3r4SgHDmy/i3FixcXfvPmTTXux48fwocOHaps06ZNS+mzYgY4IxzgjHCAMxLXgNKlSwvPmTOnsj179ky4XR9q1aol/PHjx8KvXr36x8/KlSuX+rlcuXLCOdYCQL169YSfOXNG+Nu3b9W4d+/eCS9ZsqSy8d/z6NEjZeO16s2bN8I5pQb0WrF+/Xply549+x/fnxEzwBnhAGdkIMVKuEuXLurn169fC793756y3b9/X3i+fPmEv3z5Uo0rUqSI8E+fPinbx48fs16SqkpAhw8OF7biLFSo0G+fB+g02j6fn7lmzRrhPXr0UOMKFy782+cByaHr16+sf3nMAGeEA5wRDnBG4hrAcY1VQUCnVgMHDlS2Bw8eCGcFkRVUQMdC+/yvX78KL1iwoLKx9MFx364B/Hxeb+wznz59qmwNGjQQzrLK6dOn1bixY8cKHzRokLLx/ydJgokZ4IxwgDNSDkGjRo1StpkzZwovUKCAss2YMUN49erVhffs2VONq1mzpvDt27crG1eZnMoCutKuUKGCcBsiuEliwwC/17Vr15SNq/K1a9cK37Bhgxp35cqV334WALx69Uo4h0KLmAHOCAc4IxzgjEQ1lFOwI0eOKFvr1q2Ff/jwQdkOHz4snGOhLclZvWTlFdDqJUsKANC9e3fhs2bNEm7XIn7/iRMnKhurqCydAMD8+fOFT548WTivPQBw48YN4XaN4bTXSjCMmAHOCAc4IzEN5VQwd+7cyrZjxw7htgJl5bFatWrC7RTu16+fcBviuJq2zaAqVapk/QGkZHKTCNDhz1bCnL527NhR2ebMmSOcwxgrwID+u5s3b65sK1asEG6VXkbMAGeEA5yRmAWxoLRo0SJl4yqQMwUA2Ldvn/Bx48YJt6LagQMHhHNWBQALFiwQbvu53Bzi0Dhy5Eg1jkOozcC4P22r/P79+wvnpsvUqVPVOK5wbXhKdQ9UzABnhAOcEQ5wRuIaYNM/xvDhw4XbKvbUqVPCWfHkBjeg9+0sX75c2QYPHix8yZIlysZ7NLmatvtv+OeGDRsq27Fjx4TzWmHfmdNVTn8B4OzZs8IrVqyobElb0hkxA5wRDnBGymkop52AbsgMGzZM2bjH+uLFC+E2VD18+FB4+/btlW3VqlW/fQ8AOHfunHAW6urXr6/GnTx5UjhvkQSAefPmCR8yZIiy7dy5U/jSpUuFc8gBgKpVqwovUaKEshUrVky47TkzYgY4IxzgjHCAM1LeG1q7dm39i6RClipVStk4vrIssXr1ajWuRo0awjdu3KhsnMZxugoAJ06cEL5p0ybhkyZNUuMaNWok/PLly8rGEoY9YtWyZUvhzZo1++1nAbrRYveG8ppjZRBGzABnhAOckXIIss2Uxo0bC+eThICe0tyc4VMvADB9+nThNoX88uWL8Nu3bysbV6RcFXft2lWN27p1q3CbAnNoOXTokLLxNknees/vZN+Z90JZWxJiBjgjHOCMcIAzEqUIhu1KcePa2saMGSOclcVu3bqpcZzKsiwB6FOGvFUd0GkiK5lWba1cubJwu06x1GFVX5Y3du3aJbxFixZqHB9DsjJFqogZ4IxwgDNSTkM5JADAnTt3hNtmxPPnz4Xz9G7Xrp0ad/z4ceF8KgXQCiLvzQG00sjPsNUop8P8O4Deq9OrVy9l27x5s/CmTZsK500EANCkSRPh58+fVzbe15SEmAHOCAc4I+UsyPY4uart1KmTsrHQxfcw2GqUdzPbnc0c4uxnswjWpk0b4Vu2bFHj8ufPL9we1OZ9O/YOC86COJOyz+fQa0/BRAj6RxAOcEY4wBkprwE2xvG+Go61gG6gsHJp1UpO63j/DaAb6rahwQ2gvXv3CrcVOaehdns6K552wwHvFeXfGzBggBrHKurFixeRDmIGOCMc4IyUQ5AF91/tAemVK1cK53sk9u/fr8axyGav/OKq1jZCOKzxATt7GI4Phts7jS5cuCDc3grMlTyLjvZqs759+woPMe4fRTjAGeEAZ6SshlqULVtW+LJly5SN4ybHXpYXAH2K0W4RZ9nCnjLkFJLjsr1zKGlvEUsfVonl59SpU0e4XUd43xFv1/9/EDPAGeEAZ6SdhnKqZhsVrJT27t37j+Nmz54t3CqeHDKskskhgreu23SSe7Z2XxOHNa7qAX3N2p49e4TbL6p48uSJcHv1ZdIdQYyYAc4IBzgjHOCMtNeA8uXLC7cnEPlUI8d9ezcbq6jfv39XNu6qWRuro507dxbOyiigO1tW8WzVqpVwXs8Arcxy6mmPIfGFJanGfIuYAc4IBzgj7RDEU9NWiLz1mw9t2zDAaqidwpzi2SvLWA3lCtpW09x45xONAHDw4EHhtqHEdxeNGDFC+K1bt9S4pC+kSBUxA5wRDnBG2iGImyQdOnRQNj4twrfQ2q8CvHv3rnC79bFMmTLCbRbEO6m5sWK3JnJlbEMQH6Kzd/vUrVtXON8DZAU9rrTTRcwAZ4QDnBEOcEbaDRlW/+zt5nzo+ujRo8Lbtm2rxvE9cfxlCIDeh8mNG0CnoVyd2oPg3DSyt+OyosrVNABcunRJON+KPnfuXDXOnvhJBzEDnBEOcEbaaShXrvauBbbxCRl72I7D2Pjx45WNU1ZbqfLBbb59d/fu3WocV9O2X8ynbmz6yqdpWPj7GyHHImaAM8IBzggHOCPtNFQ9xDSkOd7yQW1ucAM61k6YMEHZFi9eLNwe4uZYvHDhQuF8XAnQMghLFoBuylupg2UWHpdu4z0JMQOcEQ5wxl8JQUngUyt9+vRRNr4vyKaa3N+1t5Zzw4ercFZQAX142n6HDKuc9oSmvQn9v0TMAGeEA5wRDnDGf74GqA9LSONsR4zT0szMTGXbtm2bcFZYbYeKr6pct26dsnHqadPJVG8+/xuIGeCMcIAz/gdyorA6QmkrbgAAAABJRU5ErkJggg==\" y=\"-237.36\"/>\n   </g>\n  </g>\n  <g id=\"axes_10\">\n   <g clip-path=\"url(#p9d1f859fd0)\">\n    <image height=\"96\" id=\"imaged0aae11da5\" transform=\"scale(1 -1)translate(0 -96)\" width=\"96\" x=\"123.652174\" xlink:href=\"data:image/png;base64,\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\" y=\"-237.36\"/>\n   </g>\n  </g>\n  <g id=\"axes_11\">\n   <g clip-path=\"url(#peb80d44055)\">\n    <image height=\"96\" id=\"imaged306852801\" transform=\"scale(1 -1)translate(0 -96)\" width=\"96\" x=\"240.104348\" xlink:href=\"data:image/png;base64,\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\" y=\"-237.36\"/>\n   </g>\n  </g>\n  <g id=\"axes_12\">\n   <g clip-path=\"url(#p11828e4e26)\">\n    <image height=\"96\" id=\"imagef1e296940d\" transform=\"scale(1 -1)translate(0 -96)\" width=\"96\" x=\"356.556522\" xlink:href=\"data:image/png;base64,\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\" y=\"-237.36\"/>\n   </g>\n  </g>\n </g>\n <defs>\n  <clipPath id=\"p4d9496f0d1\">\n   <rect height=\"95.929412\" width=\"95.929412\" x=\"7.2\" y=\"7.2\"/>\n  </clipPath>\n  <clipPath id=\"p820ab661f7\">\n   <rect height=\"95.929412\" width=\"95.929412\" x=\"123.652174\" y=\"7.2\"/>\n  </clipPath>\n  <clipPath id=\"pcfb719d69e\">\n   <rect height=\"95.929412\" width=\"95.929412\" x=\"240.104348\" y=\"7.2\"/>\n  </clipPath>\n  <clipPath id=\"p069e3fab5e\">\n   <rect height=\"95.929412\" width=\"95.929412\" x=\"356.556522\" y=\"7.2\"/>\n  </clipPath>\n  <clipPath id=\"pb40557afbd\">\n   <rect height=\"95.929412\" width=\"95.929412\" x=\"7.2\" y=\"122.315294\"/>\n  </clipPath>\n  <clipPath id=\"p3b19e80972\">\n   <rect height=\"95.929412\" width=\"95.929412\" x=\"123.652174\" y=\"122.315294\"/>\n  </clipPath>\n  <clipPath id=\"p6632289a40\">\n   <rect height=\"95.929412\" width=\"95.929412\" x=\"240.104348\" y=\"122.315294\"/>\n  </clipPath>\n  <clipPath id=\"p687ba94e7d\">\n   <rect height=\"95.929412\" width=\"95.929412\" x=\"356.556522\" y=\"122.315294\"/>\n  </clipPath>\n  <clipPath id=\"pd51c18e4fb\">\n   <rect height=\"95.929412\" width=\"95.929412\" x=\"7.2\" y=\"237.430588\"/>\n  </clipPath>\n  <clipPath id=\"p9d1f859fd0\">\n   <rect height=\"95.929412\" width=\"95.929412\" x=\"123.652174\" y=\"237.430588\"/>\n  </clipPath>\n  <clipPath id=\"peb80d44055\">\n   <rect height=\"95.929412\" width=\"95.929412\" x=\"240.104348\" y=\"237.430588\"/>\n  </clipPath>\n  <clipPath id=\"p11828e4e26\">\n   <rect height=\"95.929412\" width=\"95.929412\" x=\"356.556522\" y=\"237.430588\"/>\n  </clipPath>\n </defs>\n</svg>\n"
          },
          "metadata": {
            "needs_background": "light"
          }
        }
      ]
    },
    {
      "cell_type": "code",
      "source": [],
      "metadata": {
        "id": "qX2PiXMkB9HZ"
      },
      "execution_count": 26,
      "outputs": []
    }
  ]
}