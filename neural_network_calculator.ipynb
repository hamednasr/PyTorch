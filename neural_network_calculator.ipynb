{
  "nbformat": 4,
  "nbformat_minor": 0,
  "metadata": {
    "colab": {
      "provenance": [],
      "collapsed_sections": [],
      "authorship_tag": "ABX9TyOLan7nokEj/ylByvS64RNW",
      "include_colab_link": true
    },
    "kernelspec": {
      "display_name": "Python 3",
      "name": "python3"
    },
    "language_info": {
      "name": "python"
    }
  },
  "cells": [
    {
      "cell_type": "markdown",
      "metadata": {
        "id": "view-in-github",
        "colab_type": "text"
      },
      "source": [
        "<a href=\"https://colab.research.google.com/github/hamednasr/PyTorch/blob/main/neural_network_calculator.ipynb\" target=\"_parent\"><img src=\"https://colab.research.google.com/assets/colab-badge.svg\" alt=\"Open In Colab\"/></a>"
      ]
    },
    {
      "cell_type": "markdown",
      "metadata": {
        "id": "lJL6PGuf621A"
      },
      "source": [
        "# **neural network calculator**"
      ]
    },
    {
      "cell_type": "code",
      "metadata": {
        "id": "w4MmkWvSok0U"
      },
      "source": [
        "import torch\n",
        "import torch.nn as nn\n",
        "import torch.nn.functional as F\n",
        "from torch.utils.data import DataLoader,TensorDataset\n",
        "import numpy as np\n",
        "import matplotlib.pyplot as plt\n",
        "from sklearn.model_selection import train_test_split\n",
        "from sklearn.metrics import confusion_matrix, classification_report\n",
        "from IPython import display\n",
        "display.set_matplotlib_formats('svg')"
      ],
      "execution_count": null,
      "outputs": []
    },
    {
      "cell_type": "markdown",
      "metadata": {
        "id": "EVC-aPGI68TC"
      },
      "source": [
        "# creat data sets"
      ]
    },
    {
      "cell_type": "code",
      "metadata": {
        "colab": {
          "base_uri": "https://localhost:8080/"
        },
        "id": "VVEsqLuBpBC7",
        "outputId": "a22e761d-bf43-4588-95bb-778a5ed300da"
      },
      "source": [
        "data = np.random.randint(-10,11,(40,2))\n",
        "data"
      ],
      "execution_count": null,
      "outputs": [
        {
          "output_type": "execute_result",
          "data": {
            "text/plain": [
              "array([[  4,   5],\n",
              "       [  0,  10],\n",
              "       [-10,   9],\n",
              "       [ -6,  -9],\n",
              "       [ -5,  -5],\n",
              "       [-10,   9],\n",
              "       [ 10,   8],\n",
              "       [ -3,  -6],\n",
              "       [ -6, -10],\n",
              "       [ -9,   5],\n",
              "       [ -3,  -1],\n",
              "       [  5,   5],\n",
              "       [  1,  -4],\n",
              "       [  2,  -8],\n",
              "       [ 10,  -8],\n",
              "       [ -7,  -1],\n",
              "       [  6,   7],\n",
              "       [  8,   3],\n",
              "       [-10,   5],\n",
              "       [ -3,  -4],\n",
              "       [  7,   9],\n",
              "       [ -6,   6],\n",
              "       [  6,  -4],\n",
              "       [ -1,   4],\n",
              "       [ -4,   9],\n",
              "       [ -7,  -2],\n",
              "       [ -9,  -9],\n",
              "       [ -6,   9],\n",
              "       [ 10,   9],\n",
              "       [  8,   8],\n",
              "       [  1,   6],\n",
              "       [ -8,   3],\n",
              "       [  3,   7],\n",
              "       [ -3,  -8],\n",
              "       [  2,   2],\n",
              "       [  6,  -1],\n",
              "       [ -7,   2],\n",
              "       [  8,  -8],\n",
              "       [  8, -10],\n",
              "       [  4,   6]])"
            ]
          },
          "metadata": {},
          "execution_count": 1011
        }
      ]
    },
    {
      "cell_type": "code",
      "metadata": {
        "colab": {
          "base_uri": "https://localhost:8080/"
        },
        "id": "Ln8E4CQNpYnR",
        "outputId": "172285c4-7ff4-4b60-a426-7016db55b60c"
      },
      "source": [
        "z = np.sum(data, axis =1)\n",
        "z = z[:,None]\n",
        "z"
      ],
      "execution_count": null,
      "outputs": [
        {
          "output_type": "execute_result",
          "data": {
            "text/plain": [
              "array([[  9],\n",
              "       [ 10],\n",
              "       [ -1],\n",
              "       [-15],\n",
              "       [-10],\n",
              "       [ -1],\n",
              "       [ 18],\n",
              "       [ -9],\n",
              "       [-16],\n",
              "       [ -4],\n",
              "       [ -4],\n",
              "       [ 10],\n",
              "       [ -3],\n",
              "       [ -6],\n",
              "       [  2],\n",
              "       [ -8],\n",
              "       [ 13],\n",
              "       [ 11],\n",
              "       [ -5],\n",
              "       [ -7],\n",
              "       [ 16],\n",
              "       [  0],\n",
              "       [  2],\n",
              "       [  3],\n",
              "       [  5],\n",
              "       [ -9],\n",
              "       [-18],\n",
              "       [  3],\n",
              "       [ 19],\n",
              "       [ 16],\n",
              "       [  7],\n",
              "       [ -5],\n",
              "       [ 10],\n",
              "       [-11],\n",
              "       [  4],\n",
              "       [  5],\n",
              "       [ -5],\n",
              "       [  0],\n",
              "       [ -2],\n",
              "       [ 10]])"
            ]
          },
          "metadata": {},
          "execution_count": 1012
        }
      ]
    },
    {
      "cell_type": "code",
      "metadata": {
        "id": "OciaALhLqdCr"
      },
      "source": [
        "dataT = torch.FloatTensor(data)"
      ],
      "execution_count": null,
      "outputs": []
    },
    {
      "cell_type": "code",
      "metadata": {
        "id": "ViXOfduRq78M"
      },
      "source": [
        "zT=torch.FloatTensor(z)"
      ],
      "execution_count": null,
      "outputs": []
    },
    {
      "cell_type": "markdown",
      "metadata": {
        "id": "WY1MXCJO7JDo"
      },
      "source": [
        "# create dataloader objects"
      ]
    },
    {
      "cell_type": "code",
      "metadata": {
        "id": "lomKtr-JrKcD"
      },
      "source": [
        "train_data,test_data,train_labels,test_labels = train_test_split(dataT,zT,test_size=0.2)\n",
        "\n",
        "train_sets = TensorDataset(train_data,train_labels)\n",
        "test_sets = TensorDataset(test_data,test_labels)\n",
        "\n",
        "batchsize = 32\n",
        "train_loader = DataLoader(train_sets, batch_size=batchsize, shuffle=True, drop_last=True)\n",
        "test_loader = DataLoader(test_sets, batch_size=test_sets.tensors[0].shape[0])"
      ],
      "execution_count": null,
      "outputs": []
    },
    {
      "cell_type": "markdown",
      "metadata": {
        "id": "0cy9U-jurumn"
      },
      "source": [
        "# creat model"
      ]
    },
    {
      "cell_type": "code",
      "metadata": {
        "id": "cajbRnuQ5nL3"
      },
      "source": [
        "def CreatModel():\n",
        "\n",
        "  ANNcal = nn.Sequential(\n",
        "              nn.Linear(2,128),\n",
        "              nn.ReLU(),\n",
        "              nn.Linear(128,256),\n",
        "              nn.ReLU(),\n",
        "              nn.Linear(256,256),\n",
        "              nn.ReLU(),\n",
        "              nn.Linear(256,1) \n",
        "                        )\n",
        "\n",
        "  lossfun = nn.MSELoss()\n",
        "\n",
        "  optimizer = torch.optim.Adam(params=ANNcal.parameters(), lr=0.001)\n",
        "\n",
        "  return ANNcal, lossfun, optimizer"
      ],
      "execution_count": null,
      "outputs": []
    },
    {
      "cell_type": "markdown",
      "metadata": {
        "id": "9p9diGD2BLQh"
      },
      "source": [
        "## test the created model:"
      ]
    },
    {
      "cell_type": "code",
      "metadata": {
        "colab": {
          "base_uri": "https://localhost:8080/"
        },
        "id": "fLK70IONAlJl",
        "outputId": "ad6c7317-2811-4991-8df5-8a8ef840f3e4"
      },
      "source": [
        "ANNcal, lossfun, optimizer = CreatModel()\n",
        "d = torch.FloatTensor(np.random.randint(-20,21,(3,2)))\n",
        "\n",
        "l = torch.sum(d,axis=1)\n",
        "l = l[:,None]\n",
        "# print(d)\n",
        "print('data is: \\n', d)\n",
        "print('label is: \\n', l)\n",
        "print(l.shape)\n",
        "yhat = ANNcal(d)\n",
        "print('yhat is: ',yhat)\n",
        "print(nn.MSELoss()(yhat,l))#.detach().item()\n",
        "# print('yhat is: \\n', yhat)\n",
        "np.corrcoef(l.T,yhat.detach().T)[0,1]"
      ],
      "execution_count": null,
      "outputs": [
        {
          "output_type": "stream",
          "name": "stdout",
          "text": [
            "data is: \n",
            " tensor([[ 15.,  -1.],\n",
            "        [  1.,  -4.],\n",
            "        [ -6., -20.]])\n",
            "label is: \n",
            " tensor([[ 14.],\n",
            "        [ -3.],\n",
            "        [-26.]])\n",
            "torch.Size([3, 1])\n",
            "yhat is:  tensor([[ 0.2308],\n",
            "        [-0.0278],\n",
            "        [-0.8352]], grad_fn=<AddmmBackward0>)\n",
            "tensor(277.2317, grad_fn=<MseLossBackward0>)\n"
          ]
        },
        {
          "output_type": "execute_result",
          "data": {
            "text/plain": [
              "0.9795605699080351"
            ]
          },
          "metadata": {},
          "execution_count": 1017
        }
      ]
    },
    {
      "cell_type": "markdown",
      "metadata": {
        "id": "if94WGYbr1W6"
      },
      "source": []
    },
    {
      "cell_type": "code",
      "metadata": {
        "id": "Ww8PX7FH6ysE"
      },
      "source": [],
      "execution_count": null,
      "outputs": []
    },
    {
      "cell_type": "markdown",
      "metadata": {
        "id": "QMfcEtQLsRAZ"
      },
      "source": [
        "# Train Model"
      ]
    },
    {
      "cell_type": "code",
      "metadata": {
        "id": "jGuSFMNI6yns"
      },
      "source": [
        "epochs = 100\n",
        "def TrainModel():\n",
        "\n",
        "  ANNcal, lossfun, optimizer = CreatModel()\n",
        "  trainAcc = []\n",
        "  testAcc = []\n",
        "  losses = []\n",
        "\n",
        "  for i in range(epochs):\n",
        "\n",
        "    batchAcc = []\n",
        "    batchLoss = []\n",
        "\n",
        "    for X,y in train_loader:\n",
        "      \n",
        "      yhat = ANNcal(X)\n",
        "\n",
        "      \n",
        "      loss = lossfun(yhat,y)\n",
        "\n",
        "      batchLoss.append(loss.detach().item())\n",
        "\n",
        "      optimizer.zero_grad()\n",
        "      loss.backward()\n",
        "      optimizer.step()\n",
        "\n",
        "      ypred = torch.round(yhat.detach())\n",
        "      \n",
        "      batchAcc.append(np.mean((ypred == y).float().tolist())*100)\n",
        "\n",
        "    \n",
        "    losses.append(np.mean(batchLoss))\n",
        "    trainAcc.append(np.mean(batchAcc))\n",
        "\n",
        "    X,y = next(iter(test_loader))\n",
        "    yhat = ANNcal(X)\n",
        "    ypred = torch.round(yhat.detach())\n",
        "    testAcc.append(np.mean((ypred == y).float().tolist())*100)\n",
        "\n",
        "  \n",
        "\n",
        "  return ANNcal, trainAcc, testAcc, losses \n"
      ],
      "execution_count": null,
      "outputs": []
    },
    {
      "cell_type": "code",
      "metadata": {
        "id": "CvYbZeOE6ylO"
      },
      "source": [
        "ANNcal, trainAcc, testAcc, losses  = TrainModel()"
      ],
      "execution_count": null,
      "outputs": []
    },
    {
      "cell_type": "code",
      "metadata": {
        "id": "lmtFa4mnvLOP"
      },
      "source": [
        "predictions = ANNcal(test_data)"
      ],
      "execution_count": null,
      "outputs": []
    },
    {
      "cell_type": "code",
      "metadata": {
        "colab": {
          "base_uri": "https://localhost:8080/"
        },
        "id": "4DVPxP5RvLD8",
        "outputId": "96117f20-d8eb-4827-c471-d8b5166e1809"
      },
      "source": [
        "torch.round(predictions.squeeze().detach()[:10])"
      ],
      "execution_count": null,
      "outputs": [
        {
          "output_type": "execute_result",
          "data": {
            "text/plain": [
              "tensor([ -5.,  10.,  -5.,  11.,  -2., -11.,  16.,  -1.])"
            ]
          },
          "metadata": {},
          "execution_count": 1021
        }
      ]
    },
    {
      "cell_type": "code",
      "metadata": {
        "colab": {
          "base_uri": "https://localhost:8080/"
        },
        "id": "zwpdbBiZvaMr",
        "outputId": "b0897678-f55a-497a-d035-8c538b50c39c"
      },
      "source": [
        "test_labels.squeeze()[:10]"
      ],
      "execution_count": null,
      "outputs": [
        {
          "output_type": "execute_result",
          "data": {
            "text/plain": [
              "tensor([ -5.,  10.,  -5.,  11.,  -2., -11.,  16.,  -1.])"
            ]
          },
          "metadata": {},
          "execution_count": 1022
        }
      ]
    },
    {
      "cell_type": "code",
      "metadata": {
        "id": "Y0O4AgNm6ygz",
        "colab": {
          "base_uri": "https://localhost:8080/",
          "height": 391
        },
        "outputId": "8fdb6e51-b7c1-40c0-e5d7-c1e627b25c97"
      },
      "source": [
        "fig,ax = plt.subplots(1,2,figsize=(12,4))\n",
        "\n",
        "ax[0].plot(losses,'o-',markerfacecolor='w',linewidth=1)\n",
        "ax[0].set_xlabel('Epoch')\n",
        "ax[0].set_title('Loss')\n",
        "\n",
        "ax[1].plot(range(epochs),trainAcc,'bo-',label='train data')\n",
        "ax[1].plot(range(epochs),testAcc,'rs-',label='test data')\n",
        "ax[1].set_xlabel('x')\n",
        "ax[1].set_ylabel('y')\n",
        "ax[1].set_title('test and train accuracy')\n",
        "ax[1].legend()\n",
        "\n",
        "plt.show()"
      ],
      "execution_count": null,
      "outputs": [
        {
          "output_type": "display_data",
          "data": {
            "text/plain": [
              "<Figure size 864x288 with 2 Axes>"
            ],
            "image/svg+xml": "<?xml version=\"1.0\" encoding=\"utf-8\" standalone=\"no\"?>\n<!DOCTYPE svg PUBLIC \"-//W3C//DTD SVG 1.1//EN\"\n  \"http://www.w3.org/Graphics/SVG/1.1/DTD/svg11.dtd\">\n<!-- Created with matplotlib (https://matplotlib.org/) -->\n<svg height=\"277.314375pt\" version=\"1.1\" viewBox=\"0 0 703.725 277.314375\" width=\"703.725pt\" xmlns=\"http://www.w3.org/2000/svg\" xmlns:xlink=\"http://www.w3.org/1999/xlink\">\n <defs>\n  <style type=\"text/css\">\n*{stroke-linecap:butt;stroke-linejoin:round;}\n  </style>\n </defs>\n <g id=\"figure_1\">\n  <g id=\"patch_1\">\n   <path d=\"M 0 277.314375 \nL 703.725 277.314375 \nL 703.725 0 \nL 0 0 \nz\n\" style=\"fill:none;\"/>\n  </g>\n  <g id=\"axes_1\">\n   <g id=\"patch_2\">\n    <path d=\"M 26.925 239.758125 \nL 331.288636 239.758125 \nL 331.288636 22.318125 \nL 26.925 22.318125 \nz\n\" style=\"fill:#ffffff;\"/>\n   </g>\n   <g id=\"matplotlib.axis_1\">\n    <g id=\"xtick_1\">\n     <g id=\"line2d_1\">\n      <defs>\n       <path d=\"M 0 0 \nL 0 3.5 \n\" id=\"mae9a731fbe\" style=\"stroke:#000000;stroke-width:0.8;\"/>\n      </defs>\n      <g>\n       <use style=\"stroke:#000000;stroke-width:0.8;\" x=\"40.759711\" xlink:href=\"#mae9a731fbe\" y=\"239.758125\"/>\n      </g>\n     </g>\n     <g id=\"text_1\">\n      <!-- 0 -->\n      <defs>\n       <path d=\"M 31.78125 66.40625 \nQ 24.171875 66.40625 20.328125 58.90625 \nQ 16.5 51.421875 16.5 36.375 \nQ 16.5 21.390625 20.328125 13.890625 \nQ 24.171875 6.390625 31.78125 6.390625 \nQ 39.453125 6.390625 43.28125 13.890625 \nQ 47.125 21.390625 47.125 36.375 \nQ 47.125 51.421875 43.28125 58.90625 \nQ 39.453125 66.40625 31.78125 66.40625 \nz\nM 31.78125 74.21875 \nQ 44.046875 74.21875 50.515625 64.515625 \nQ 56.984375 54.828125 56.984375 36.375 \nQ 56.984375 17.96875 50.515625 8.265625 \nQ 44.046875 -1.421875 31.78125 -1.421875 \nQ 19.53125 -1.421875 13.0625 8.265625 \nQ 6.59375 17.96875 6.59375 36.375 \nQ 6.59375 54.828125 13.0625 64.515625 \nQ 19.53125 74.21875 31.78125 74.21875 \nz\n\" id=\"DejaVuSans-48\"/>\n      </defs>\n      <g transform=\"translate(37.578461 254.356562)scale(0.1 -0.1)\">\n       <use xlink:href=\"#DejaVuSans-48\"/>\n      </g>\n     </g>\n    </g>\n    <g id=\"xtick_2\">\n     <g id=\"line2d_2\">\n      <g>\n       <use style=\"stroke:#000000;stroke-width:0.8;\" x=\"96.657532\" xlink:href=\"#mae9a731fbe\" y=\"239.758125\"/>\n      </g>\n     </g>\n     <g id=\"text_2\">\n      <!-- 20 -->\n      <defs>\n       <path d=\"M 19.1875 8.296875 \nL 53.609375 8.296875 \nL 53.609375 0 \nL 7.328125 0 \nL 7.328125 8.296875 \nQ 12.9375 14.109375 22.625 23.890625 \nQ 32.328125 33.6875 34.8125 36.53125 \nQ 39.546875 41.84375 41.421875 45.53125 \nQ 43.3125 49.21875 43.3125 52.78125 \nQ 43.3125 58.59375 39.234375 62.25 \nQ 35.15625 65.921875 28.609375 65.921875 \nQ 23.96875 65.921875 18.8125 64.3125 \nQ 13.671875 62.703125 7.8125 59.421875 \nL 7.8125 69.390625 \nQ 13.765625 71.78125 18.9375 73 \nQ 24.125 74.21875 28.421875 74.21875 \nQ 39.75 74.21875 46.484375 68.546875 \nQ 53.21875 62.890625 53.21875 53.421875 \nQ 53.21875 48.921875 51.53125 44.890625 \nQ 49.859375 40.875 45.40625 35.40625 \nQ 44.1875 33.984375 37.640625 27.21875 \nQ 31.109375 20.453125 19.1875 8.296875 \nz\n\" id=\"DejaVuSans-50\"/>\n      </defs>\n      <g transform=\"translate(90.295032 254.356562)scale(0.1 -0.1)\">\n       <use xlink:href=\"#DejaVuSans-50\"/>\n       <use x=\"63.623047\" xlink:href=\"#DejaVuSans-48\"/>\n      </g>\n     </g>\n    </g>\n    <g id=\"xtick_3\">\n     <g id=\"line2d_3\">\n      <g>\n       <use style=\"stroke:#000000;stroke-width:0.8;\" x=\"152.555353\" xlink:href=\"#mae9a731fbe\" y=\"239.758125\"/>\n      </g>\n     </g>\n     <g id=\"text_3\">\n      <!-- 40 -->\n      <defs>\n       <path d=\"M 37.796875 64.3125 \nL 12.890625 25.390625 \nL 37.796875 25.390625 \nz\nM 35.203125 72.90625 \nL 47.609375 72.90625 \nL 47.609375 25.390625 \nL 58.015625 25.390625 \nL 58.015625 17.1875 \nL 47.609375 17.1875 \nL 47.609375 0 \nL 37.796875 0 \nL 37.796875 17.1875 \nL 4.890625 17.1875 \nL 4.890625 26.703125 \nz\n\" id=\"DejaVuSans-52\"/>\n      </defs>\n      <g transform=\"translate(146.192853 254.356562)scale(0.1 -0.1)\">\n       <use xlink:href=\"#DejaVuSans-52\"/>\n       <use x=\"63.623047\" xlink:href=\"#DejaVuSans-48\"/>\n      </g>\n     </g>\n    </g>\n    <g id=\"xtick_4\">\n     <g id=\"line2d_4\">\n      <g>\n       <use style=\"stroke:#000000;stroke-width:0.8;\" x=\"208.453174\" xlink:href=\"#mae9a731fbe\" y=\"239.758125\"/>\n      </g>\n     </g>\n     <g id=\"text_4\">\n      <!-- 60 -->\n      <defs>\n       <path d=\"M 33.015625 40.375 \nQ 26.375 40.375 22.484375 35.828125 \nQ 18.609375 31.296875 18.609375 23.390625 \nQ 18.609375 15.53125 22.484375 10.953125 \nQ 26.375 6.390625 33.015625 6.390625 \nQ 39.65625 6.390625 43.53125 10.953125 \nQ 47.40625 15.53125 47.40625 23.390625 \nQ 47.40625 31.296875 43.53125 35.828125 \nQ 39.65625 40.375 33.015625 40.375 \nz\nM 52.59375 71.296875 \nL 52.59375 62.3125 \nQ 48.875 64.0625 45.09375 64.984375 \nQ 41.3125 65.921875 37.59375 65.921875 \nQ 27.828125 65.921875 22.671875 59.328125 \nQ 17.53125 52.734375 16.796875 39.40625 \nQ 19.671875 43.65625 24.015625 45.921875 \nQ 28.375 48.1875 33.59375 48.1875 \nQ 44.578125 48.1875 50.953125 41.515625 \nQ 57.328125 34.859375 57.328125 23.390625 \nQ 57.328125 12.15625 50.6875 5.359375 \nQ 44.046875 -1.421875 33.015625 -1.421875 \nQ 20.359375 -1.421875 13.671875 8.265625 \nQ 6.984375 17.96875 6.984375 36.375 \nQ 6.984375 53.65625 15.1875 63.9375 \nQ 23.390625 74.21875 37.203125 74.21875 \nQ 40.921875 74.21875 44.703125 73.484375 \nQ 48.484375 72.75 52.59375 71.296875 \nz\n\" id=\"DejaVuSans-54\"/>\n      </defs>\n      <g transform=\"translate(202.090674 254.356562)scale(0.1 -0.1)\">\n       <use xlink:href=\"#DejaVuSans-54\"/>\n       <use x=\"63.623047\" xlink:href=\"#DejaVuSans-48\"/>\n      </g>\n     </g>\n    </g>\n    <g id=\"xtick_5\">\n     <g id=\"line2d_5\">\n      <g>\n       <use style=\"stroke:#000000;stroke-width:0.8;\" x=\"264.350995\" xlink:href=\"#mae9a731fbe\" y=\"239.758125\"/>\n      </g>\n     </g>\n     <g id=\"text_5\">\n      <!-- 80 -->\n      <defs>\n       <path d=\"M 31.78125 34.625 \nQ 24.75 34.625 20.71875 30.859375 \nQ 16.703125 27.09375 16.703125 20.515625 \nQ 16.703125 13.921875 20.71875 10.15625 \nQ 24.75 6.390625 31.78125 6.390625 \nQ 38.8125 6.390625 42.859375 10.171875 \nQ 46.921875 13.96875 46.921875 20.515625 \nQ 46.921875 27.09375 42.890625 30.859375 \nQ 38.875 34.625 31.78125 34.625 \nz\nM 21.921875 38.8125 \nQ 15.578125 40.375 12.03125 44.71875 \nQ 8.5 49.078125 8.5 55.328125 \nQ 8.5 64.0625 14.71875 69.140625 \nQ 20.953125 74.21875 31.78125 74.21875 \nQ 42.671875 74.21875 48.875 69.140625 \nQ 55.078125 64.0625 55.078125 55.328125 \nQ 55.078125 49.078125 51.53125 44.71875 \nQ 48 40.375 41.703125 38.8125 \nQ 48.828125 37.15625 52.796875 32.3125 \nQ 56.78125 27.484375 56.78125 20.515625 \nQ 56.78125 9.90625 50.3125 4.234375 \nQ 43.84375 -1.421875 31.78125 -1.421875 \nQ 19.734375 -1.421875 13.25 4.234375 \nQ 6.78125 9.90625 6.78125 20.515625 \nQ 6.78125 27.484375 10.78125 32.3125 \nQ 14.796875 37.15625 21.921875 38.8125 \nz\nM 18.3125 54.390625 \nQ 18.3125 48.734375 21.84375 45.5625 \nQ 25.390625 42.390625 31.78125 42.390625 \nQ 38.140625 42.390625 41.71875 45.5625 \nQ 45.3125 48.734375 45.3125 54.390625 \nQ 45.3125 60.0625 41.71875 63.234375 \nQ 38.140625 66.40625 31.78125 66.40625 \nQ 25.390625 66.40625 21.84375 63.234375 \nQ 18.3125 60.0625 18.3125 54.390625 \nz\n\" id=\"DejaVuSans-56\"/>\n      </defs>\n      <g transform=\"translate(257.988495 254.356562)scale(0.1 -0.1)\">\n       <use xlink:href=\"#DejaVuSans-56\"/>\n       <use x=\"63.623047\" xlink:href=\"#DejaVuSans-48\"/>\n      </g>\n     </g>\n    </g>\n    <g id=\"xtick_6\">\n     <g id=\"line2d_6\">\n      <g>\n       <use style=\"stroke:#000000;stroke-width:0.8;\" x=\"320.248817\" xlink:href=\"#mae9a731fbe\" y=\"239.758125\"/>\n      </g>\n     </g>\n     <g id=\"text_6\">\n      <!-- 100 -->\n      <defs>\n       <path d=\"M 12.40625 8.296875 \nL 28.515625 8.296875 \nL 28.515625 63.921875 \nL 10.984375 60.40625 \nL 10.984375 69.390625 \nL 28.421875 72.90625 \nL 38.28125 72.90625 \nL 38.28125 8.296875 \nL 54.390625 8.296875 \nL 54.390625 0 \nL 12.40625 0 \nz\n\" id=\"DejaVuSans-49\"/>\n      </defs>\n      <g transform=\"translate(310.705067 254.356562)scale(0.1 -0.1)\">\n       <use xlink:href=\"#DejaVuSans-49\"/>\n       <use x=\"63.623047\" xlink:href=\"#DejaVuSans-48\"/>\n       <use x=\"127.246094\" xlink:href=\"#DejaVuSans-48\"/>\n      </g>\n     </g>\n    </g>\n    <g id=\"text_7\">\n     <!-- Epoch -->\n     <defs>\n      <path d=\"M 9.8125 72.90625 \nL 55.90625 72.90625 \nL 55.90625 64.59375 \nL 19.671875 64.59375 \nL 19.671875 43.015625 \nL 54.390625 43.015625 \nL 54.390625 34.71875 \nL 19.671875 34.71875 \nL 19.671875 8.296875 \nL 56.78125 8.296875 \nL 56.78125 0 \nL 9.8125 0 \nz\n\" id=\"DejaVuSans-69\"/>\n      <path d=\"M 18.109375 8.203125 \nL 18.109375 -20.796875 \nL 9.078125 -20.796875 \nL 9.078125 54.6875 \nL 18.109375 54.6875 \nL 18.109375 46.390625 \nQ 20.953125 51.265625 25.265625 53.625 \nQ 29.59375 56 35.59375 56 \nQ 45.5625 56 51.78125 48.09375 \nQ 58.015625 40.1875 58.015625 27.296875 \nQ 58.015625 14.40625 51.78125 6.484375 \nQ 45.5625 -1.421875 35.59375 -1.421875 \nQ 29.59375 -1.421875 25.265625 0.953125 \nQ 20.953125 3.328125 18.109375 8.203125 \nz\nM 48.6875 27.296875 \nQ 48.6875 37.203125 44.609375 42.84375 \nQ 40.53125 48.484375 33.40625 48.484375 \nQ 26.265625 48.484375 22.1875 42.84375 \nQ 18.109375 37.203125 18.109375 27.296875 \nQ 18.109375 17.390625 22.1875 11.75 \nQ 26.265625 6.109375 33.40625 6.109375 \nQ 40.53125 6.109375 44.609375 11.75 \nQ 48.6875 17.390625 48.6875 27.296875 \nz\n\" id=\"DejaVuSans-112\"/>\n      <path d=\"M 30.609375 48.390625 \nQ 23.390625 48.390625 19.1875 42.75 \nQ 14.984375 37.109375 14.984375 27.296875 \nQ 14.984375 17.484375 19.15625 11.84375 \nQ 23.34375 6.203125 30.609375 6.203125 \nQ 37.796875 6.203125 41.984375 11.859375 \nQ 46.1875 17.53125 46.1875 27.296875 \nQ 46.1875 37.015625 41.984375 42.703125 \nQ 37.796875 48.390625 30.609375 48.390625 \nz\nM 30.609375 56 \nQ 42.328125 56 49.015625 48.375 \nQ 55.71875 40.765625 55.71875 27.296875 \nQ 55.71875 13.875 49.015625 6.21875 \nQ 42.328125 -1.421875 30.609375 -1.421875 \nQ 18.84375 -1.421875 12.171875 6.21875 \nQ 5.515625 13.875 5.515625 27.296875 \nQ 5.515625 40.765625 12.171875 48.375 \nQ 18.84375 56 30.609375 56 \nz\n\" id=\"DejaVuSans-111\"/>\n      <path d=\"M 48.78125 52.59375 \nL 48.78125 44.1875 \nQ 44.96875 46.296875 41.140625 47.34375 \nQ 37.3125 48.390625 33.40625 48.390625 \nQ 24.65625 48.390625 19.8125 42.84375 \nQ 14.984375 37.3125 14.984375 27.296875 \nQ 14.984375 17.28125 19.8125 11.734375 \nQ 24.65625 6.203125 33.40625 6.203125 \nQ 37.3125 6.203125 41.140625 7.25 \nQ 44.96875 8.296875 48.78125 10.40625 \nL 48.78125 2.09375 \nQ 45.015625 0.34375 40.984375 -0.53125 \nQ 36.96875 -1.421875 32.421875 -1.421875 \nQ 20.0625 -1.421875 12.78125 6.34375 \nQ 5.515625 14.109375 5.515625 27.296875 \nQ 5.515625 40.671875 12.859375 48.328125 \nQ 20.21875 56 33.015625 56 \nQ 37.15625 56 41.109375 55.140625 \nQ 45.0625 54.296875 48.78125 52.59375 \nz\n\" id=\"DejaVuSans-99\"/>\n      <path d=\"M 54.890625 33.015625 \nL 54.890625 0 \nL 45.90625 0 \nL 45.90625 32.71875 \nQ 45.90625 40.484375 42.875 44.328125 \nQ 39.84375 48.1875 33.796875 48.1875 \nQ 26.515625 48.1875 22.3125 43.546875 \nQ 18.109375 38.921875 18.109375 30.90625 \nL 18.109375 0 \nL 9.078125 0 \nL 9.078125 75.984375 \nL 18.109375 75.984375 \nL 18.109375 46.1875 \nQ 21.34375 51.125 25.703125 53.5625 \nQ 30.078125 56 35.796875 56 \nQ 45.21875 56 50.046875 50.171875 \nQ 54.890625 44.34375 54.890625 33.015625 \nz\n\" id=\"DejaVuSans-104\"/>\n     </defs>\n     <g transform=\"translate(163.795881 268.034687)scale(0.1 -0.1)\">\n      <use xlink:href=\"#DejaVuSans-69\"/>\n      <use x=\"63.183594\" xlink:href=\"#DejaVuSans-112\"/>\n      <use x=\"126.660156\" xlink:href=\"#DejaVuSans-111\"/>\n      <use x=\"187.841797\" xlink:href=\"#DejaVuSans-99\"/>\n      <use x=\"242.822266\" xlink:href=\"#DejaVuSans-104\"/>\n     </g>\n    </g>\n   </g>\n   <g id=\"matplotlib.axis_2\">\n    <g id=\"ytick_1\">\n     <g id=\"line2d_7\">\n      <defs>\n       <path d=\"M 0 0 \nL -3.5 0 \n\" id=\"mb2af24318e\" style=\"stroke:#000000;stroke-width:0.8;\"/>\n      </defs>\n      <g>\n       <use style=\"stroke:#000000;stroke-width:0.8;\" x=\"26.925\" xlink:href=\"#mb2af24318e\" y=\"229.889198\"/>\n      </g>\n     </g>\n     <g id=\"text_8\">\n      <!-- 0 -->\n      <g transform=\"translate(13.5625 233.688417)scale(0.1 -0.1)\">\n       <use xlink:href=\"#DejaVuSans-48\"/>\n      </g>\n     </g>\n    </g>\n    <g id=\"ytick_2\">\n     <g id=\"line2d_8\">\n      <g>\n       <use style=\"stroke:#000000;stroke-width:0.8;\" x=\"26.925\" xlink:href=\"#mb2af24318e\" y=\"187.746988\"/>\n      </g>\n     </g>\n     <g id=\"text_9\">\n      <!-- 20 -->\n      <g transform=\"translate(7.2 191.546206)scale(0.1 -0.1)\">\n       <use xlink:href=\"#DejaVuSans-50\"/>\n       <use x=\"63.623047\" xlink:href=\"#DejaVuSans-48\"/>\n      </g>\n     </g>\n    </g>\n    <g id=\"ytick_3\">\n     <g id=\"line2d_9\">\n      <g>\n       <use style=\"stroke:#000000;stroke-width:0.8;\" x=\"26.925\" xlink:href=\"#mb2af24318e\" y=\"145.604777\"/>\n      </g>\n     </g>\n     <g id=\"text_10\">\n      <!-- 40 -->\n      <g transform=\"translate(7.2 149.403996)scale(0.1 -0.1)\">\n       <use xlink:href=\"#DejaVuSans-52\"/>\n       <use x=\"63.623047\" xlink:href=\"#DejaVuSans-48\"/>\n      </g>\n     </g>\n    </g>\n    <g id=\"ytick_4\">\n     <g id=\"line2d_10\">\n      <g>\n       <use style=\"stroke:#000000;stroke-width:0.8;\" x=\"26.925\" xlink:href=\"#mb2af24318e\" y=\"103.462567\"/>\n      </g>\n     </g>\n     <g id=\"text_11\">\n      <!-- 60 -->\n      <g transform=\"translate(7.2 107.261785)scale(0.1 -0.1)\">\n       <use xlink:href=\"#DejaVuSans-54\"/>\n       <use x=\"63.623047\" xlink:href=\"#DejaVuSans-48\"/>\n      </g>\n     </g>\n    </g>\n    <g id=\"ytick_5\">\n     <g id=\"line2d_11\">\n      <g>\n       <use style=\"stroke:#000000;stroke-width:0.8;\" x=\"26.925\" xlink:href=\"#mb2af24318e\" y=\"61.320356\"/>\n      </g>\n     </g>\n     <g id=\"text_12\">\n      <!-- 80 -->\n      <g transform=\"translate(7.2 65.119575)scale(0.1 -0.1)\">\n       <use xlink:href=\"#DejaVuSans-56\"/>\n       <use x=\"63.623047\" xlink:href=\"#DejaVuSans-48\"/>\n      </g>\n     </g>\n    </g>\n   </g>\n   <g id=\"line2d_12\">\n    <path clip-path=\"url(#p9dddaf5565)\" d=\"M 40.759711 32.201761 \nL 43.554602 53.892981 \nL 46.349493 73.259808 \nL 49.144384 91.729724 \nL 51.939275 110.693574 \nL 54.734166 130.740808 \nL 57.529057 151.566915 \nL 60.323948 172.568214 \nL 63.118839 192.347317 \nL 65.91373 209.349812 \nL 68.708621 221.43982 \nL 71.503512 226.325606 \nL 74.298403 223.173556 \nL 77.093295 214.973488 \nL 79.888186 208.030744 \nL 82.683077 206.632347 \nL 85.477968 210.685024 \nL 88.272859 217.406218 \nL 91.06775 223.84657 \nL 93.862641 228.127584 \nL 96.657532 229.575453 \nL 99.452423 228.659574 \nL 102.247314 226.605224 \nL 105.042205 224.641672 \nL 107.837096 223.493909 \nL 110.631987 223.398567 \nL 113.426878 224.167946 \nL 116.221769 225.479229 \nL 119.01666 226.995265 \nL 121.811551 228.363037 \nL 124.606443 229.308156 \nL 127.401334 229.679322 \nL 130.196225 229.508703 \nL 132.991116 228.99997 \nL 135.786007 228.43694 \nL 138.580898 228.071373 \nL 141.375789 228.036236 \nL 144.17068 228.31992 \nL 146.965571 228.802813 \nL 149.760462 229.310623 \nL 152.555353 229.681505 \nL 155.350244 229.828791 \nL 158.145135 229.762312 \nL 160.940026 229.567285 \nL 163.734917 229.36033 \nL 166.529808 229.236124 \nL 169.324699 229.233188 \nL 172.119591 229.334538 \nL 174.914482 229.493678 \nL 177.709373 229.656403 \nL 180.504264 229.777745 \nL 183.299155 229.831562 \nL 186.094046 229.816083 \nL 188.888937 229.75393 \nL 191.683828 229.682838 \nL 194.478719 229.63976 \nL 197.27361 229.644246 \nL 200.068501 229.691841 \nL 202.863392 229.758888 \nL 205.658283 229.817302 \nL 208.453174 229.848821 \nL 211.248065 229.850335 \nL 214.042956 229.830224 \nL 216.837847 229.803734 \nL 219.632739 229.785549 \nL 222.42763 229.783968 \nL 225.222521 229.798573 \nL 228.017412 229.822337 \nL 230.812303 229.845809 \nL 233.607194 229.860245 \nL 236.402085 229.862287 \nL 239.196976 229.854806 \nL 241.991867 229.8443 \nL 244.786758 229.837185 \nL 247.581649 229.837157 \nL 250.37654 229.843794 \nL 253.171431 229.853681 \nL 255.966322 229.86266 \nL 258.761213 229.867725 \nL 261.556104 229.86798 \nL 264.350995 229.864714 \nL 267.145887 229.860616 \nL 269.940778 229.858288 \nL 272.735669 229.859127 \nL 275.53056 229.86274 \nL 278.325451 229.867339 \nL 281.120342 229.87086 \nL 283.915233 229.872166 \nL 286.710124 229.871405 \nL 289.505015 229.869666 \nL 292.299906 229.868288 \nL 295.094797 229.868165 \nL 297.889688 229.869406 \nL 300.684579 229.871436 \nL 303.47947 229.873377 \nL 306.274361 229.874468 \nL 309.069252 229.874489 \nL 311.864144 229.873809 \nL 314.659035 229.873119 \nL 317.453926 229.872993 \n\" style=\"fill:none;stroke:#1f77b4;stroke-linecap:square;\"/>\n    <defs>\n     <path d=\"M 0 3 \nC 0.795609 3 1.55874 2.683901 2.12132 2.12132 \nC 2.683901 1.55874 3 0.795609 3 0 \nC 3 -0.795609 2.683901 -1.55874 2.12132 -2.12132 \nC 1.55874 -2.683901 0.795609 -3 0 -3 \nC -0.795609 -3 -1.55874 -2.683901 -2.12132 -2.12132 \nC -2.683901 -1.55874 -3 -0.795609 -3 0 \nC -3 0.795609 -2.683901 1.55874 -2.12132 2.12132 \nC -1.55874 2.683901 -0.795609 3 0 3 \nz\n\" id=\"m5c9c11146f\" style=\"stroke:#1f77b4;\"/>\n    </defs>\n    <g clip-path=\"url(#p9dddaf5565)\">\n     <use style=\"fill:#ffffff;stroke:#1f77b4;\" x=\"40.759711\" xlink:href=\"#m5c9c11146f\" y=\"32.201761\"/>\n     <use style=\"fill:#ffffff;stroke:#1f77b4;\" x=\"43.554602\" xlink:href=\"#m5c9c11146f\" y=\"53.892981\"/>\n     <use style=\"fill:#ffffff;stroke:#1f77b4;\" x=\"46.349493\" xlink:href=\"#m5c9c11146f\" y=\"73.259808\"/>\n     <use style=\"fill:#ffffff;stroke:#1f77b4;\" x=\"49.144384\" xlink:href=\"#m5c9c11146f\" y=\"91.729724\"/>\n     <use style=\"fill:#ffffff;stroke:#1f77b4;\" x=\"51.939275\" xlink:href=\"#m5c9c11146f\" y=\"110.693574\"/>\n     <use style=\"fill:#ffffff;stroke:#1f77b4;\" x=\"54.734166\" xlink:href=\"#m5c9c11146f\" y=\"130.740808\"/>\n     <use style=\"fill:#ffffff;stroke:#1f77b4;\" x=\"57.529057\" xlink:href=\"#m5c9c11146f\" y=\"151.566915\"/>\n     <use style=\"fill:#ffffff;stroke:#1f77b4;\" x=\"60.323948\" xlink:href=\"#m5c9c11146f\" y=\"172.568214\"/>\n     <use style=\"fill:#ffffff;stroke:#1f77b4;\" x=\"63.118839\" xlink:href=\"#m5c9c11146f\" y=\"192.347317\"/>\n     <use style=\"fill:#ffffff;stroke:#1f77b4;\" x=\"65.91373\" xlink:href=\"#m5c9c11146f\" y=\"209.349812\"/>\n     <use style=\"fill:#ffffff;stroke:#1f77b4;\" x=\"68.708621\" xlink:href=\"#m5c9c11146f\" y=\"221.43982\"/>\n     <use style=\"fill:#ffffff;stroke:#1f77b4;\" x=\"71.503512\" xlink:href=\"#m5c9c11146f\" y=\"226.325606\"/>\n     <use style=\"fill:#ffffff;stroke:#1f77b4;\" x=\"74.298403\" xlink:href=\"#m5c9c11146f\" y=\"223.173556\"/>\n     <use style=\"fill:#ffffff;stroke:#1f77b4;\" x=\"77.093295\" xlink:href=\"#m5c9c11146f\" y=\"214.973488\"/>\n     <use style=\"fill:#ffffff;stroke:#1f77b4;\" x=\"79.888186\" xlink:href=\"#m5c9c11146f\" y=\"208.030744\"/>\n     <use style=\"fill:#ffffff;stroke:#1f77b4;\" x=\"82.683077\" xlink:href=\"#m5c9c11146f\" y=\"206.632347\"/>\n     <use style=\"fill:#ffffff;stroke:#1f77b4;\" x=\"85.477968\" xlink:href=\"#m5c9c11146f\" y=\"210.685024\"/>\n     <use style=\"fill:#ffffff;stroke:#1f77b4;\" x=\"88.272859\" xlink:href=\"#m5c9c11146f\" y=\"217.406218\"/>\n     <use style=\"fill:#ffffff;stroke:#1f77b4;\" x=\"91.06775\" xlink:href=\"#m5c9c11146f\" y=\"223.84657\"/>\n     <use style=\"fill:#ffffff;stroke:#1f77b4;\" x=\"93.862641\" xlink:href=\"#m5c9c11146f\" y=\"228.127584\"/>\n     <use style=\"fill:#ffffff;stroke:#1f77b4;\" x=\"96.657532\" xlink:href=\"#m5c9c11146f\" y=\"229.575453\"/>\n     <use style=\"fill:#ffffff;stroke:#1f77b4;\" x=\"99.452423\" xlink:href=\"#m5c9c11146f\" y=\"228.659574\"/>\n     <use style=\"fill:#ffffff;stroke:#1f77b4;\" x=\"102.247314\" xlink:href=\"#m5c9c11146f\" y=\"226.605224\"/>\n     <use style=\"fill:#ffffff;stroke:#1f77b4;\" x=\"105.042205\" xlink:href=\"#m5c9c11146f\" y=\"224.641672\"/>\n     <use style=\"fill:#ffffff;stroke:#1f77b4;\" x=\"107.837096\" xlink:href=\"#m5c9c11146f\" y=\"223.493909\"/>\n     <use style=\"fill:#ffffff;stroke:#1f77b4;\" x=\"110.631987\" xlink:href=\"#m5c9c11146f\" y=\"223.398567\"/>\n     <use style=\"fill:#ffffff;stroke:#1f77b4;\" x=\"113.426878\" xlink:href=\"#m5c9c11146f\" y=\"224.167946\"/>\n     <use style=\"fill:#ffffff;stroke:#1f77b4;\" x=\"116.221769\" xlink:href=\"#m5c9c11146f\" y=\"225.479229\"/>\n     <use style=\"fill:#ffffff;stroke:#1f77b4;\" x=\"119.01666\" xlink:href=\"#m5c9c11146f\" y=\"226.995265\"/>\n     <use style=\"fill:#ffffff;stroke:#1f77b4;\" x=\"121.811551\" xlink:href=\"#m5c9c11146f\" y=\"228.363037\"/>\n     <use style=\"fill:#ffffff;stroke:#1f77b4;\" x=\"124.606443\" xlink:href=\"#m5c9c11146f\" y=\"229.308156\"/>\n     <use style=\"fill:#ffffff;stroke:#1f77b4;\" x=\"127.401334\" xlink:href=\"#m5c9c11146f\" y=\"229.679322\"/>\n     <use style=\"fill:#ffffff;stroke:#1f77b4;\" x=\"130.196225\" xlink:href=\"#m5c9c11146f\" y=\"229.508703\"/>\n     <use style=\"fill:#ffffff;stroke:#1f77b4;\" x=\"132.991116\" xlink:href=\"#m5c9c11146f\" y=\"228.99997\"/>\n     <use style=\"fill:#ffffff;stroke:#1f77b4;\" x=\"135.786007\" xlink:href=\"#m5c9c11146f\" y=\"228.43694\"/>\n     <use style=\"fill:#ffffff;stroke:#1f77b4;\" x=\"138.580898\" xlink:href=\"#m5c9c11146f\" y=\"228.071373\"/>\n     <use style=\"fill:#ffffff;stroke:#1f77b4;\" x=\"141.375789\" xlink:href=\"#m5c9c11146f\" y=\"228.036236\"/>\n     <use style=\"fill:#ffffff;stroke:#1f77b4;\" x=\"144.17068\" xlink:href=\"#m5c9c11146f\" y=\"228.31992\"/>\n     <use style=\"fill:#ffffff;stroke:#1f77b4;\" x=\"146.965571\" xlink:href=\"#m5c9c11146f\" y=\"228.802813\"/>\n     <use style=\"fill:#ffffff;stroke:#1f77b4;\" x=\"149.760462\" xlink:href=\"#m5c9c11146f\" y=\"229.310623\"/>\n     <use style=\"fill:#ffffff;stroke:#1f77b4;\" x=\"152.555353\" xlink:href=\"#m5c9c11146f\" y=\"229.681505\"/>\n     <use style=\"fill:#ffffff;stroke:#1f77b4;\" x=\"155.350244\" xlink:href=\"#m5c9c11146f\" y=\"229.828791\"/>\n     <use style=\"fill:#ffffff;stroke:#1f77b4;\" x=\"158.145135\" xlink:href=\"#m5c9c11146f\" y=\"229.762312\"/>\n     <use style=\"fill:#ffffff;stroke:#1f77b4;\" x=\"160.940026\" xlink:href=\"#m5c9c11146f\" y=\"229.567285\"/>\n     <use style=\"fill:#ffffff;stroke:#1f77b4;\" x=\"163.734917\" xlink:href=\"#m5c9c11146f\" y=\"229.36033\"/>\n     <use style=\"fill:#ffffff;stroke:#1f77b4;\" x=\"166.529808\" xlink:href=\"#m5c9c11146f\" y=\"229.236124\"/>\n     <use style=\"fill:#ffffff;stroke:#1f77b4;\" x=\"169.324699\" xlink:href=\"#m5c9c11146f\" y=\"229.233188\"/>\n     <use style=\"fill:#ffffff;stroke:#1f77b4;\" x=\"172.119591\" xlink:href=\"#m5c9c11146f\" y=\"229.334538\"/>\n     <use style=\"fill:#ffffff;stroke:#1f77b4;\" x=\"174.914482\" xlink:href=\"#m5c9c11146f\" y=\"229.493678\"/>\n     <use style=\"fill:#ffffff;stroke:#1f77b4;\" x=\"177.709373\" xlink:href=\"#m5c9c11146f\" y=\"229.656403\"/>\n     <use style=\"fill:#ffffff;stroke:#1f77b4;\" x=\"180.504264\" xlink:href=\"#m5c9c11146f\" y=\"229.777745\"/>\n     <use style=\"fill:#ffffff;stroke:#1f77b4;\" x=\"183.299155\" xlink:href=\"#m5c9c11146f\" y=\"229.831562\"/>\n     <use style=\"fill:#ffffff;stroke:#1f77b4;\" x=\"186.094046\" xlink:href=\"#m5c9c11146f\" y=\"229.816083\"/>\n     <use style=\"fill:#ffffff;stroke:#1f77b4;\" x=\"188.888937\" xlink:href=\"#m5c9c11146f\" y=\"229.75393\"/>\n     <use style=\"fill:#ffffff;stroke:#1f77b4;\" x=\"191.683828\" xlink:href=\"#m5c9c11146f\" y=\"229.682838\"/>\n     <use style=\"fill:#ffffff;stroke:#1f77b4;\" x=\"194.478719\" xlink:href=\"#m5c9c11146f\" y=\"229.63976\"/>\n     <use style=\"fill:#ffffff;stroke:#1f77b4;\" x=\"197.27361\" xlink:href=\"#m5c9c11146f\" y=\"229.644246\"/>\n     <use style=\"fill:#ffffff;stroke:#1f77b4;\" x=\"200.068501\" xlink:href=\"#m5c9c11146f\" y=\"229.691841\"/>\n     <use style=\"fill:#ffffff;stroke:#1f77b4;\" x=\"202.863392\" xlink:href=\"#m5c9c11146f\" y=\"229.758888\"/>\n     <use style=\"fill:#ffffff;stroke:#1f77b4;\" x=\"205.658283\" xlink:href=\"#m5c9c11146f\" y=\"229.817302\"/>\n     <use style=\"fill:#ffffff;stroke:#1f77b4;\" x=\"208.453174\" xlink:href=\"#m5c9c11146f\" y=\"229.848821\"/>\n     <use style=\"fill:#ffffff;stroke:#1f77b4;\" x=\"211.248065\" xlink:href=\"#m5c9c11146f\" y=\"229.850335\"/>\n     <use style=\"fill:#ffffff;stroke:#1f77b4;\" x=\"214.042956\" xlink:href=\"#m5c9c11146f\" y=\"229.830224\"/>\n     <use style=\"fill:#ffffff;stroke:#1f77b4;\" x=\"216.837847\" xlink:href=\"#m5c9c11146f\" y=\"229.803734\"/>\n     <use style=\"fill:#ffffff;stroke:#1f77b4;\" x=\"219.632739\" xlink:href=\"#m5c9c11146f\" y=\"229.785549\"/>\n     <use style=\"fill:#ffffff;stroke:#1f77b4;\" x=\"222.42763\" xlink:href=\"#m5c9c11146f\" y=\"229.783968\"/>\n     <use style=\"fill:#ffffff;stroke:#1f77b4;\" x=\"225.222521\" xlink:href=\"#m5c9c11146f\" y=\"229.798573\"/>\n     <use style=\"fill:#ffffff;stroke:#1f77b4;\" x=\"228.017412\" xlink:href=\"#m5c9c11146f\" y=\"229.822337\"/>\n     <use style=\"fill:#ffffff;stroke:#1f77b4;\" x=\"230.812303\" xlink:href=\"#m5c9c11146f\" y=\"229.845809\"/>\n     <use style=\"fill:#ffffff;stroke:#1f77b4;\" x=\"233.607194\" xlink:href=\"#m5c9c11146f\" y=\"229.860245\"/>\n     <use style=\"fill:#ffffff;stroke:#1f77b4;\" x=\"236.402085\" xlink:href=\"#m5c9c11146f\" y=\"229.862287\"/>\n     <use style=\"fill:#ffffff;stroke:#1f77b4;\" x=\"239.196976\" xlink:href=\"#m5c9c11146f\" y=\"229.854806\"/>\n     <use style=\"fill:#ffffff;stroke:#1f77b4;\" x=\"241.991867\" xlink:href=\"#m5c9c11146f\" y=\"229.8443\"/>\n     <use style=\"fill:#ffffff;stroke:#1f77b4;\" x=\"244.786758\" xlink:href=\"#m5c9c11146f\" y=\"229.837185\"/>\n     <use style=\"fill:#ffffff;stroke:#1f77b4;\" x=\"247.581649\" xlink:href=\"#m5c9c11146f\" y=\"229.837157\"/>\n     <use style=\"fill:#ffffff;stroke:#1f77b4;\" x=\"250.37654\" xlink:href=\"#m5c9c11146f\" y=\"229.843794\"/>\n     <use style=\"fill:#ffffff;stroke:#1f77b4;\" x=\"253.171431\" xlink:href=\"#m5c9c11146f\" y=\"229.853681\"/>\n     <use style=\"fill:#ffffff;stroke:#1f77b4;\" x=\"255.966322\" xlink:href=\"#m5c9c11146f\" y=\"229.86266\"/>\n     <use style=\"fill:#ffffff;stroke:#1f77b4;\" x=\"258.761213\" xlink:href=\"#m5c9c11146f\" y=\"229.867725\"/>\n     <use style=\"fill:#ffffff;stroke:#1f77b4;\" x=\"261.556104\" xlink:href=\"#m5c9c11146f\" y=\"229.86798\"/>\n     <use style=\"fill:#ffffff;stroke:#1f77b4;\" x=\"264.350995\" xlink:href=\"#m5c9c11146f\" y=\"229.864714\"/>\n     <use style=\"fill:#ffffff;stroke:#1f77b4;\" x=\"267.145887\" xlink:href=\"#m5c9c11146f\" y=\"229.860616\"/>\n     <use style=\"fill:#ffffff;stroke:#1f77b4;\" x=\"269.940778\" xlink:href=\"#m5c9c11146f\" y=\"229.858288\"/>\n     <use style=\"fill:#ffffff;stroke:#1f77b4;\" x=\"272.735669\" xlink:href=\"#m5c9c11146f\" y=\"229.859127\"/>\n     <use style=\"fill:#ffffff;stroke:#1f77b4;\" x=\"275.53056\" xlink:href=\"#m5c9c11146f\" y=\"229.86274\"/>\n     <use style=\"fill:#ffffff;stroke:#1f77b4;\" x=\"278.325451\" xlink:href=\"#m5c9c11146f\" y=\"229.867339\"/>\n     <use style=\"fill:#ffffff;stroke:#1f77b4;\" x=\"281.120342\" xlink:href=\"#m5c9c11146f\" y=\"229.87086\"/>\n     <use style=\"fill:#ffffff;stroke:#1f77b4;\" x=\"283.915233\" xlink:href=\"#m5c9c11146f\" y=\"229.872166\"/>\n     <use style=\"fill:#ffffff;stroke:#1f77b4;\" x=\"286.710124\" xlink:href=\"#m5c9c11146f\" y=\"229.871405\"/>\n     <use style=\"fill:#ffffff;stroke:#1f77b4;\" x=\"289.505015\" xlink:href=\"#m5c9c11146f\" y=\"229.869666\"/>\n     <use style=\"fill:#ffffff;stroke:#1f77b4;\" x=\"292.299906\" xlink:href=\"#m5c9c11146f\" y=\"229.868288\"/>\n     <use style=\"fill:#ffffff;stroke:#1f77b4;\" x=\"295.094797\" xlink:href=\"#m5c9c11146f\" y=\"229.868165\"/>\n     <use style=\"fill:#ffffff;stroke:#1f77b4;\" x=\"297.889688\" xlink:href=\"#m5c9c11146f\" y=\"229.869406\"/>\n     <use style=\"fill:#ffffff;stroke:#1f77b4;\" x=\"300.684579\" xlink:href=\"#m5c9c11146f\" y=\"229.871436\"/>\n     <use style=\"fill:#ffffff;stroke:#1f77b4;\" x=\"303.47947\" xlink:href=\"#m5c9c11146f\" y=\"229.873377\"/>\n     <use style=\"fill:#ffffff;stroke:#1f77b4;\" x=\"306.274361\" xlink:href=\"#m5c9c11146f\" y=\"229.874468\"/>\n     <use style=\"fill:#ffffff;stroke:#1f77b4;\" x=\"309.069252\" xlink:href=\"#m5c9c11146f\" y=\"229.874489\"/>\n     <use style=\"fill:#ffffff;stroke:#1f77b4;\" x=\"311.864144\" xlink:href=\"#m5c9c11146f\" y=\"229.873809\"/>\n     <use style=\"fill:#ffffff;stroke:#1f77b4;\" x=\"314.659035\" xlink:href=\"#m5c9c11146f\" y=\"229.873119\"/>\n     <use style=\"fill:#ffffff;stroke:#1f77b4;\" x=\"317.453926\" xlink:href=\"#m5c9c11146f\" y=\"229.872993\"/>\n    </g>\n   </g>\n   <g id=\"patch_3\">\n    <path d=\"M 26.925 239.758125 \nL 26.925 22.318125 \n\" style=\"fill:none;stroke:#000000;stroke-linecap:square;stroke-linejoin:miter;stroke-width:0.8;\"/>\n   </g>\n   <g id=\"patch_4\">\n    <path d=\"M 331.288636 239.758125 \nL 331.288636 22.318125 \n\" style=\"fill:none;stroke:#000000;stroke-linecap:square;stroke-linejoin:miter;stroke-width:0.8;\"/>\n   </g>\n   <g id=\"patch_5\">\n    <path d=\"M 26.925 239.758125 \nL 331.288636 239.758125 \n\" style=\"fill:none;stroke:#000000;stroke-linecap:square;stroke-linejoin:miter;stroke-width:0.8;\"/>\n   </g>\n   <g id=\"patch_6\">\n    <path d=\"M 26.925 22.318125 \nL 331.288636 22.318125 \n\" style=\"fill:none;stroke:#000000;stroke-linecap:square;stroke-linejoin:miter;stroke-width:0.8;\"/>\n   </g>\n   <g id=\"text_13\">\n    <!-- Loss -->\n    <defs>\n     <path d=\"M 9.8125 72.90625 \nL 19.671875 72.90625 \nL 19.671875 8.296875 \nL 55.171875 8.296875 \nL 55.171875 0 \nL 9.8125 0 \nz\n\" id=\"DejaVuSans-76\"/>\n     <path d=\"M 44.28125 53.078125 \nL 44.28125 44.578125 \nQ 40.484375 46.53125 36.375 47.5 \nQ 32.28125 48.484375 27.875 48.484375 \nQ 21.1875 48.484375 17.84375 46.4375 \nQ 14.5 44.390625 14.5 40.28125 \nQ 14.5 37.15625 16.890625 35.375 \nQ 19.28125 33.59375 26.515625 31.984375 \nL 29.59375 31.296875 \nQ 39.15625 29.25 43.1875 25.515625 \nQ 47.21875 21.78125 47.21875 15.09375 \nQ 47.21875 7.46875 41.1875 3.015625 \nQ 35.15625 -1.421875 24.609375 -1.421875 \nQ 20.21875 -1.421875 15.453125 -0.5625 \nQ 10.6875 0.296875 5.421875 2 \nL 5.421875 11.28125 \nQ 10.40625 8.6875 15.234375 7.390625 \nQ 20.0625 6.109375 24.8125 6.109375 \nQ 31.15625 6.109375 34.5625 8.28125 \nQ 37.984375 10.453125 37.984375 14.40625 \nQ 37.984375 18.0625 35.515625 20.015625 \nQ 33.0625 21.96875 24.703125 23.78125 \nL 21.578125 24.515625 \nQ 13.234375 26.265625 9.515625 29.90625 \nQ 5.8125 33.546875 5.8125 39.890625 \nQ 5.8125 47.609375 11.28125 51.796875 \nQ 16.75 56 26.8125 56 \nQ 31.78125 56 36.171875 55.265625 \nQ 40.578125 54.546875 44.28125 53.078125 \nz\n\" id=\"DejaVuSans-115\"/>\n    </defs>\n    <g transform=\"translate(165.946193 16.318125)scale(0.12 -0.12)\">\n     <use xlink:href=\"#DejaVuSans-76\"/>\n     <use x=\"53.962891\" xlink:href=\"#DejaVuSans-111\"/>\n     <use x=\"115.144531\" xlink:href=\"#DejaVuSans-115\"/>\n     <use x=\"167.244141\" xlink:href=\"#DejaVuSans-115\"/>\n    </g>\n   </g>\n  </g>\n  <g id=\"axes_2\">\n   <g id=\"patch_7\">\n    <path d=\"M 392.161364 239.758125 \nL 696.525 239.758125 \nL 696.525 22.318125 \nL 392.161364 22.318125 \nz\n\" style=\"fill:#ffffff;\"/>\n   </g>\n   <g id=\"matplotlib.axis_3\">\n    <g id=\"xtick_7\">\n     <g id=\"line2d_13\">\n      <g>\n       <use style=\"stroke:#000000;stroke-width:0.8;\" x=\"405.996074\" xlink:href=\"#mae9a731fbe\" y=\"239.758125\"/>\n      </g>\n     </g>\n     <g id=\"text_14\">\n      <!-- 0 -->\n      <g transform=\"translate(402.814824 254.356562)scale(0.1 -0.1)\">\n       <use xlink:href=\"#DejaVuSans-48\"/>\n      </g>\n     </g>\n    </g>\n    <g id=\"xtick_8\">\n     <g id=\"line2d_14\">\n      <g>\n       <use style=\"stroke:#000000;stroke-width:0.8;\" x=\"461.893896\" xlink:href=\"#mae9a731fbe\" y=\"239.758125\"/>\n      </g>\n     </g>\n     <g id=\"text_15\">\n      <!-- 20 -->\n      <g transform=\"translate(455.531396 254.356562)scale(0.1 -0.1)\">\n       <use xlink:href=\"#DejaVuSans-50\"/>\n       <use x=\"63.623047\" xlink:href=\"#DejaVuSans-48\"/>\n      </g>\n     </g>\n    </g>\n    <g id=\"xtick_9\">\n     <g id=\"line2d_15\">\n      <g>\n       <use style=\"stroke:#000000;stroke-width:0.8;\" x=\"517.791717\" xlink:href=\"#mae9a731fbe\" y=\"239.758125\"/>\n      </g>\n     </g>\n     <g id=\"text_16\">\n      <!-- 40 -->\n      <g transform=\"translate(511.429217 254.356562)scale(0.1 -0.1)\">\n       <use xlink:href=\"#DejaVuSans-52\"/>\n       <use x=\"63.623047\" xlink:href=\"#DejaVuSans-48\"/>\n      </g>\n     </g>\n    </g>\n    <g id=\"xtick_10\">\n     <g id=\"line2d_16\">\n      <g>\n       <use style=\"stroke:#000000;stroke-width:0.8;\" x=\"573.689538\" xlink:href=\"#mae9a731fbe\" y=\"239.758125\"/>\n      </g>\n     </g>\n     <g id=\"text_17\">\n      <!-- 60 -->\n      <g transform=\"translate(567.327038 254.356562)scale(0.1 -0.1)\">\n       <use xlink:href=\"#DejaVuSans-54\"/>\n       <use x=\"63.623047\" xlink:href=\"#DejaVuSans-48\"/>\n      </g>\n     </g>\n    </g>\n    <g id=\"xtick_11\">\n     <g id=\"line2d_17\">\n      <g>\n       <use style=\"stroke:#000000;stroke-width:0.8;\" x=\"629.587359\" xlink:href=\"#mae9a731fbe\" y=\"239.758125\"/>\n      </g>\n     </g>\n     <g id=\"text_18\">\n      <!-- 80 -->\n      <g transform=\"translate(623.224859 254.356562)scale(0.1 -0.1)\">\n       <use xlink:href=\"#DejaVuSans-56\"/>\n       <use x=\"63.623047\" xlink:href=\"#DejaVuSans-48\"/>\n      </g>\n     </g>\n    </g>\n    <g id=\"xtick_12\">\n     <g id=\"line2d_18\">\n      <g>\n       <use style=\"stroke:#000000;stroke-width:0.8;\" x=\"685.48518\" xlink:href=\"#mae9a731fbe\" y=\"239.758125\"/>\n      </g>\n     </g>\n     <g id=\"text_19\">\n      <!-- 100 -->\n      <g transform=\"translate(675.94143 254.356562)scale(0.1 -0.1)\">\n       <use xlink:href=\"#DejaVuSans-49\"/>\n       <use x=\"63.623047\" xlink:href=\"#DejaVuSans-48\"/>\n       <use x=\"127.246094\" xlink:href=\"#DejaVuSans-48\"/>\n      </g>\n     </g>\n    </g>\n    <g id=\"text_20\">\n     <!-- x -->\n     <defs>\n      <path d=\"M 54.890625 54.6875 \nL 35.109375 28.078125 \nL 55.90625 0 \nL 45.3125 0 \nL 29.390625 21.484375 \nL 13.484375 0 \nL 2.875 0 \nL 24.125 28.609375 \nL 4.6875 54.6875 \nL 15.28125 54.6875 \nL 29.78125 35.203125 \nL 44.28125 54.6875 \nz\n\" id=\"DejaVuSans-120\"/>\n     </defs>\n     <g transform=\"translate(541.383807 268.034687)scale(0.1 -0.1)\">\n      <use xlink:href=\"#DejaVuSans-120\"/>\n     </g>\n    </g>\n   </g>\n   <g id=\"matplotlib.axis_4\">\n    <g id=\"ytick_6\">\n     <g id=\"line2d_19\">\n      <g>\n       <use style=\"stroke:#000000;stroke-width:0.8;\" x=\"392.161364\" xlink:href=\"#mb2af24318e\" y=\"229.874489\"/>\n      </g>\n     </g>\n     <g id=\"text_21\">\n      <!-- 0 -->\n      <g transform=\"translate(378.798864 233.673707)scale(0.1 -0.1)\">\n       <use xlink:href=\"#DejaVuSans-48\"/>\n      </g>\n     </g>\n    </g>\n    <g id=\"ytick_7\">\n     <g id=\"line2d_20\">\n      <g>\n       <use style=\"stroke:#000000;stroke-width:0.8;\" x=\"392.161364\" xlink:href=\"#mb2af24318e\" y=\"190.339943\"/>\n      </g>\n     </g>\n     <g id=\"text_22\">\n      <!-- 20 -->\n      <g transform=\"translate(372.436364 194.139162)scale(0.1 -0.1)\">\n       <use xlink:href=\"#DejaVuSans-50\"/>\n       <use x=\"63.623047\" xlink:href=\"#DejaVuSans-48\"/>\n      </g>\n     </g>\n    </g>\n    <g id=\"ytick_8\">\n     <g id=\"line2d_21\">\n      <g>\n       <use style=\"stroke:#000000;stroke-width:0.8;\" x=\"392.161364\" xlink:href=\"#mb2af24318e\" y=\"150.805398\"/>\n      </g>\n     </g>\n     <g id=\"text_23\">\n      <!-- 40 -->\n      <g transform=\"translate(372.436364 154.604616)scale(0.1 -0.1)\">\n       <use xlink:href=\"#DejaVuSans-52\"/>\n       <use x=\"63.623047\" xlink:href=\"#DejaVuSans-48\"/>\n      </g>\n     </g>\n    </g>\n    <g id=\"ytick_9\">\n     <g id=\"line2d_22\">\n      <g>\n       <use style=\"stroke:#000000;stroke-width:0.8;\" x=\"392.161364\" xlink:href=\"#mb2af24318e\" y=\"111.270852\"/>\n      </g>\n     </g>\n     <g id=\"text_24\">\n      <!-- 60 -->\n      <g transform=\"translate(372.436364 115.070071)scale(0.1 -0.1)\">\n       <use xlink:href=\"#DejaVuSans-54\"/>\n       <use x=\"63.623047\" xlink:href=\"#DejaVuSans-48\"/>\n      </g>\n     </g>\n    </g>\n    <g id=\"ytick_10\">\n     <g id=\"line2d_23\">\n      <g>\n       <use style=\"stroke:#000000;stroke-width:0.8;\" x=\"392.161364\" xlink:href=\"#mb2af24318e\" y=\"71.736307\"/>\n      </g>\n     </g>\n     <g id=\"text_25\">\n      <!-- 80 -->\n      <g transform=\"translate(372.436364 75.535526)scale(0.1 -0.1)\">\n       <use xlink:href=\"#DejaVuSans-56\"/>\n       <use x=\"63.623047\" xlink:href=\"#DejaVuSans-48\"/>\n      </g>\n     </g>\n    </g>\n    <g id=\"ytick_11\">\n     <g id=\"line2d_24\">\n      <g>\n       <use style=\"stroke:#000000;stroke-width:0.8;\" x=\"392.161364\" xlink:href=\"#mb2af24318e\" y=\"32.201761\"/>\n      </g>\n     </g>\n     <g id=\"text_26\">\n      <!-- 100 -->\n      <g transform=\"translate(366.073864 36.00098)scale(0.1 -0.1)\">\n       <use xlink:href=\"#DejaVuSans-49\"/>\n       <use x=\"63.623047\" xlink:href=\"#DejaVuSans-48\"/>\n       <use x=\"127.246094\" xlink:href=\"#DejaVuSans-48\"/>\n      </g>\n     </g>\n    </g>\n    <g id=\"text_27\">\n     <!-- y -->\n     <defs>\n      <path d=\"M 32.171875 -5.078125 \nQ 28.375 -14.84375 24.75 -17.8125 \nQ 21.140625 -20.796875 15.09375 -20.796875 \nL 7.90625 -20.796875 \nL 7.90625 -13.28125 \nL 13.1875 -13.28125 \nQ 16.890625 -13.28125 18.9375 -11.515625 \nQ 21 -9.765625 23.484375 -3.21875 \nL 25.09375 0.875 \nL 2.984375 54.6875 \nL 12.5 54.6875 \nL 29.59375 11.921875 \nL 46.6875 54.6875 \nL 56.203125 54.6875 \nz\n\" id=\"DejaVuSans-121\"/>\n     </defs>\n     <g transform=\"translate(359.994176 133.9975)rotate(-90)scale(0.1 -0.1)\">\n      <use xlink:href=\"#DejaVuSans-121\"/>\n     </g>\n    </g>\n   </g>\n   <g id=\"line2d_25\">\n    <path clip-path=\"url(#pf73221ac37)\" d=\"M 405.996074 217.519943 \nL 408.790965 217.519943 \nL 411.585856 217.519943 \nL 414.380748 217.519943 \nL 417.175639 217.519943 \nL 419.97053 217.519943 \nL 422.765421 217.519943 \nL 425.560312 217.519943 \nL 428.355203 205.165398 \nL 431.150094 161.924489 \nL 433.944985 161.924489 \nL 436.739876 186.63358 \nL 439.534767 211.34267 \nL 442.329658 217.519943 \nL 445.124549 217.519943 \nL 447.91944 223.697216 \nL 450.714331 223.697216 \nL 453.509222 217.519943 \nL 456.304113 205.165398 \nL 459.099005 192.810852 \nL 461.893896 63.088125 \nL 464.688787 112.506307 \nL 467.483678 161.924489 \nL 470.278569 174.279034 \nL 473.07346 192.810852 \nL 475.868351 205.165398 \nL 478.663242 192.810852 \nL 481.458133 192.810852 \nL 484.253024 180.456307 \nL 487.047915 149.569943 \nL 489.842806 93.974489 \nL 492.637697 44.556307 \nL 495.432588 75.44267 \nL 498.227479 143.39267 \nL 501.02237 161.924489 \nL 503.817261 161.924489 \nL 506.612153 161.924489 \nL 509.407044 149.569943 \nL 512.201935 143.39267 \nL 514.996826 112.506307 \nL 517.791717 56.910852 \nL 520.586608 32.201761 \nL 523.381499 38.379034 \nL 526.17639 69.265398 \nL 528.971281 87.797216 \nL 531.766172 93.974489 \nL 534.561063 93.974489 \nL 537.355954 81.619943 \nL 540.150845 75.44267 \nL 542.945736 56.910852 \nL 545.740627 44.556307 \nL 548.535518 32.201761 \nL 551.330409 32.201761 \nL 554.125301 32.201761 \nL 556.920192 38.379034 \nL 559.715083 38.379034 \nL 562.509974 32.201761 \nL 565.304865 32.201761 \nL 568.099756 32.201761 \nL 570.894647 32.201761 \nL 573.689538 32.201761 \nL 576.484429 32.201761 \nL 579.27932 32.201761 \nL 582.074211 38.379034 \nL 584.869102 38.379034 \nL 587.663993 38.379034 \nL 590.458884 38.379034 \nL 593.253775 32.201761 \nL 596.048666 32.201761 \nL 598.843557 32.201761 \nL 601.638449 32.201761 \nL 604.43334 32.201761 \nL 607.228231 32.201761 \nL 610.023122 32.201761 \nL 612.818013 32.201761 \nL 615.612904 32.201761 \nL 618.407795 32.201761 \nL 621.202686 32.201761 \nL 623.997577 32.201761 \nL 626.792468 32.201761 \nL 629.587359 32.201761 \nL 632.38225 32.201761 \nL 635.177141 32.201761 \nL 637.972032 32.201761 \nL 640.766923 32.201761 \nL 643.561814 32.201761 \nL 646.356705 32.201761 \nL 649.151597 32.201761 \nL 651.946488 32.201761 \nL 654.741379 32.201761 \nL 657.53627 32.201761 \nL 660.331161 32.201761 \nL 663.126052 32.201761 \nL 665.920943 32.201761 \nL 668.715834 32.201761 \nL 671.510725 32.201761 \nL 674.305616 32.201761 \nL 677.100507 32.201761 \nL 679.895398 32.201761 \nL 682.690289 32.201761 \n\" style=\"fill:none;stroke:#0000ff;stroke-linecap:square;stroke-width:1.5;\"/>\n    <defs>\n     <path d=\"M 0 3 \nC 0.795609 3 1.55874 2.683901 2.12132 2.12132 \nC 2.683901 1.55874 3 0.795609 3 0 \nC 3 -0.795609 2.683901 -1.55874 2.12132 -2.12132 \nC 1.55874 -2.683901 0.795609 -3 0 -3 \nC -0.795609 -3 -1.55874 -2.683901 -2.12132 -2.12132 \nC -2.683901 -1.55874 -3 -0.795609 -3 0 \nC -3 0.795609 -2.683901 1.55874 -2.12132 2.12132 \nC -1.55874 2.683901 -0.795609 3 0 3 \nz\n\" id=\"mefd47b43d3\" style=\"stroke:#0000ff;\"/>\n    </defs>\n    <g clip-path=\"url(#pf73221ac37)\">\n     <use style=\"fill:#0000ff;stroke:#0000ff;\" x=\"405.996074\" xlink:href=\"#mefd47b43d3\" y=\"217.519943\"/>\n     <use style=\"fill:#0000ff;stroke:#0000ff;\" x=\"408.790965\" xlink:href=\"#mefd47b43d3\" y=\"217.519943\"/>\n     <use style=\"fill:#0000ff;stroke:#0000ff;\" x=\"411.585856\" xlink:href=\"#mefd47b43d3\" y=\"217.519943\"/>\n     <use style=\"fill:#0000ff;stroke:#0000ff;\" x=\"414.380748\" xlink:href=\"#mefd47b43d3\" y=\"217.519943\"/>\n     <use style=\"fill:#0000ff;stroke:#0000ff;\" x=\"417.175639\" xlink:href=\"#mefd47b43d3\" y=\"217.519943\"/>\n     <use style=\"fill:#0000ff;stroke:#0000ff;\" x=\"419.97053\" xlink:href=\"#mefd47b43d3\" y=\"217.519943\"/>\n     <use style=\"fill:#0000ff;stroke:#0000ff;\" x=\"422.765421\" xlink:href=\"#mefd47b43d3\" y=\"217.519943\"/>\n     <use style=\"fill:#0000ff;stroke:#0000ff;\" x=\"425.560312\" xlink:href=\"#mefd47b43d3\" y=\"217.519943\"/>\n     <use style=\"fill:#0000ff;stroke:#0000ff;\" x=\"428.355203\" xlink:href=\"#mefd47b43d3\" y=\"205.165398\"/>\n     <use style=\"fill:#0000ff;stroke:#0000ff;\" x=\"431.150094\" xlink:href=\"#mefd47b43d3\" y=\"161.924489\"/>\n     <use style=\"fill:#0000ff;stroke:#0000ff;\" x=\"433.944985\" xlink:href=\"#mefd47b43d3\" y=\"161.924489\"/>\n     <use style=\"fill:#0000ff;stroke:#0000ff;\" x=\"436.739876\" xlink:href=\"#mefd47b43d3\" y=\"186.63358\"/>\n     <use style=\"fill:#0000ff;stroke:#0000ff;\" x=\"439.534767\" xlink:href=\"#mefd47b43d3\" y=\"211.34267\"/>\n     <use style=\"fill:#0000ff;stroke:#0000ff;\" x=\"442.329658\" xlink:href=\"#mefd47b43d3\" y=\"217.519943\"/>\n     <use style=\"fill:#0000ff;stroke:#0000ff;\" x=\"445.124549\" xlink:href=\"#mefd47b43d3\" y=\"217.519943\"/>\n     <use style=\"fill:#0000ff;stroke:#0000ff;\" x=\"447.91944\" xlink:href=\"#mefd47b43d3\" y=\"223.697216\"/>\n     <use style=\"fill:#0000ff;stroke:#0000ff;\" x=\"450.714331\" xlink:href=\"#mefd47b43d3\" y=\"223.697216\"/>\n     <use style=\"fill:#0000ff;stroke:#0000ff;\" x=\"453.509222\" xlink:href=\"#mefd47b43d3\" y=\"217.519943\"/>\n     <use style=\"fill:#0000ff;stroke:#0000ff;\" x=\"456.304113\" xlink:href=\"#mefd47b43d3\" y=\"205.165398\"/>\n     <use style=\"fill:#0000ff;stroke:#0000ff;\" x=\"459.099005\" xlink:href=\"#mefd47b43d3\" y=\"192.810852\"/>\n     <use style=\"fill:#0000ff;stroke:#0000ff;\" x=\"461.893896\" xlink:href=\"#mefd47b43d3\" y=\"63.088125\"/>\n     <use style=\"fill:#0000ff;stroke:#0000ff;\" x=\"464.688787\" xlink:href=\"#mefd47b43d3\" y=\"112.506307\"/>\n     <use style=\"fill:#0000ff;stroke:#0000ff;\" x=\"467.483678\" xlink:href=\"#mefd47b43d3\" y=\"161.924489\"/>\n     <use style=\"fill:#0000ff;stroke:#0000ff;\" x=\"470.278569\" xlink:href=\"#mefd47b43d3\" y=\"174.279034\"/>\n     <use style=\"fill:#0000ff;stroke:#0000ff;\" x=\"473.07346\" xlink:href=\"#mefd47b43d3\" y=\"192.810852\"/>\n     <use style=\"fill:#0000ff;stroke:#0000ff;\" x=\"475.868351\" xlink:href=\"#mefd47b43d3\" y=\"205.165398\"/>\n     <use style=\"fill:#0000ff;stroke:#0000ff;\" x=\"478.663242\" xlink:href=\"#mefd47b43d3\" y=\"192.810852\"/>\n     <use style=\"fill:#0000ff;stroke:#0000ff;\" x=\"481.458133\" xlink:href=\"#mefd47b43d3\" y=\"192.810852\"/>\n     <use style=\"fill:#0000ff;stroke:#0000ff;\" x=\"484.253024\" xlink:href=\"#mefd47b43d3\" y=\"180.456307\"/>\n     <use style=\"fill:#0000ff;stroke:#0000ff;\" x=\"487.047915\" xlink:href=\"#mefd47b43d3\" y=\"149.569943\"/>\n     <use style=\"fill:#0000ff;stroke:#0000ff;\" x=\"489.842806\" xlink:href=\"#mefd47b43d3\" y=\"93.974489\"/>\n     <use style=\"fill:#0000ff;stroke:#0000ff;\" x=\"492.637697\" xlink:href=\"#mefd47b43d3\" y=\"44.556307\"/>\n     <use style=\"fill:#0000ff;stroke:#0000ff;\" x=\"495.432588\" xlink:href=\"#mefd47b43d3\" y=\"75.44267\"/>\n     <use style=\"fill:#0000ff;stroke:#0000ff;\" x=\"498.227479\" xlink:href=\"#mefd47b43d3\" y=\"143.39267\"/>\n     <use style=\"fill:#0000ff;stroke:#0000ff;\" x=\"501.02237\" xlink:href=\"#mefd47b43d3\" y=\"161.924489\"/>\n     <use style=\"fill:#0000ff;stroke:#0000ff;\" x=\"503.817261\" xlink:href=\"#mefd47b43d3\" y=\"161.924489\"/>\n     <use style=\"fill:#0000ff;stroke:#0000ff;\" x=\"506.612153\" xlink:href=\"#mefd47b43d3\" y=\"161.924489\"/>\n     <use style=\"fill:#0000ff;stroke:#0000ff;\" x=\"509.407044\" xlink:href=\"#mefd47b43d3\" y=\"149.569943\"/>\n     <use style=\"fill:#0000ff;stroke:#0000ff;\" x=\"512.201935\" xlink:href=\"#mefd47b43d3\" y=\"143.39267\"/>\n     <use style=\"fill:#0000ff;stroke:#0000ff;\" x=\"514.996826\" xlink:href=\"#mefd47b43d3\" y=\"112.506307\"/>\n     <use style=\"fill:#0000ff;stroke:#0000ff;\" x=\"517.791717\" xlink:href=\"#mefd47b43d3\" y=\"56.910852\"/>\n     <use style=\"fill:#0000ff;stroke:#0000ff;\" x=\"520.586608\" xlink:href=\"#mefd47b43d3\" y=\"32.201761\"/>\n     <use style=\"fill:#0000ff;stroke:#0000ff;\" x=\"523.381499\" xlink:href=\"#mefd47b43d3\" y=\"38.379034\"/>\n     <use style=\"fill:#0000ff;stroke:#0000ff;\" x=\"526.17639\" xlink:href=\"#mefd47b43d3\" y=\"69.265398\"/>\n     <use style=\"fill:#0000ff;stroke:#0000ff;\" x=\"528.971281\" xlink:href=\"#mefd47b43d3\" y=\"87.797216\"/>\n     <use style=\"fill:#0000ff;stroke:#0000ff;\" x=\"531.766172\" xlink:href=\"#mefd47b43d3\" y=\"93.974489\"/>\n     <use style=\"fill:#0000ff;stroke:#0000ff;\" x=\"534.561063\" xlink:href=\"#mefd47b43d3\" y=\"93.974489\"/>\n     <use style=\"fill:#0000ff;stroke:#0000ff;\" x=\"537.355954\" xlink:href=\"#mefd47b43d3\" y=\"81.619943\"/>\n     <use style=\"fill:#0000ff;stroke:#0000ff;\" x=\"540.150845\" xlink:href=\"#mefd47b43d3\" y=\"75.44267\"/>\n     <use style=\"fill:#0000ff;stroke:#0000ff;\" x=\"542.945736\" xlink:href=\"#mefd47b43d3\" y=\"56.910852\"/>\n     <use style=\"fill:#0000ff;stroke:#0000ff;\" x=\"545.740627\" xlink:href=\"#mefd47b43d3\" y=\"44.556307\"/>\n     <use style=\"fill:#0000ff;stroke:#0000ff;\" x=\"548.535518\" xlink:href=\"#mefd47b43d3\" y=\"32.201761\"/>\n     <use style=\"fill:#0000ff;stroke:#0000ff;\" x=\"551.330409\" xlink:href=\"#mefd47b43d3\" y=\"32.201761\"/>\n     <use style=\"fill:#0000ff;stroke:#0000ff;\" x=\"554.125301\" xlink:href=\"#mefd47b43d3\" y=\"32.201761\"/>\n     <use style=\"fill:#0000ff;stroke:#0000ff;\" x=\"556.920192\" xlink:href=\"#mefd47b43d3\" y=\"38.379034\"/>\n     <use style=\"fill:#0000ff;stroke:#0000ff;\" x=\"559.715083\" xlink:href=\"#mefd47b43d3\" y=\"38.379034\"/>\n     <use style=\"fill:#0000ff;stroke:#0000ff;\" x=\"562.509974\" xlink:href=\"#mefd47b43d3\" y=\"32.201761\"/>\n     <use style=\"fill:#0000ff;stroke:#0000ff;\" x=\"565.304865\" xlink:href=\"#mefd47b43d3\" y=\"32.201761\"/>\n     <use style=\"fill:#0000ff;stroke:#0000ff;\" x=\"568.099756\" xlink:href=\"#mefd47b43d3\" y=\"32.201761\"/>\n     <use style=\"fill:#0000ff;stroke:#0000ff;\" x=\"570.894647\" xlink:href=\"#mefd47b43d3\" y=\"32.201761\"/>\n     <use style=\"fill:#0000ff;stroke:#0000ff;\" x=\"573.689538\" xlink:href=\"#mefd47b43d3\" y=\"32.201761\"/>\n     <use style=\"fill:#0000ff;stroke:#0000ff;\" x=\"576.484429\" xlink:href=\"#mefd47b43d3\" y=\"32.201761\"/>\n     <use style=\"fill:#0000ff;stroke:#0000ff;\" x=\"579.27932\" xlink:href=\"#mefd47b43d3\" y=\"32.201761\"/>\n     <use style=\"fill:#0000ff;stroke:#0000ff;\" x=\"582.074211\" xlink:href=\"#mefd47b43d3\" y=\"38.379034\"/>\n     <use style=\"fill:#0000ff;stroke:#0000ff;\" x=\"584.869102\" xlink:href=\"#mefd47b43d3\" y=\"38.379034\"/>\n     <use style=\"fill:#0000ff;stroke:#0000ff;\" x=\"587.663993\" xlink:href=\"#mefd47b43d3\" y=\"38.379034\"/>\n     <use style=\"fill:#0000ff;stroke:#0000ff;\" x=\"590.458884\" xlink:href=\"#mefd47b43d3\" y=\"38.379034\"/>\n     <use style=\"fill:#0000ff;stroke:#0000ff;\" x=\"593.253775\" xlink:href=\"#mefd47b43d3\" y=\"32.201761\"/>\n     <use style=\"fill:#0000ff;stroke:#0000ff;\" x=\"596.048666\" xlink:href=\"#mefd47b43d3\" y=\"32.201761\"/>\n     <use style=\"fill:#0000ff;stroke:#0000ff;\" x=\"598.843557\" xlink:href=\"#mefd47b43d3\" y=\"32.201761\"/>\n     <use style=\"fill:#0000ff;stroke:#0000ff;\" x=\"601.638449\" xlink:href=\"#mefd47b43d3\" y=\"32.201761\"/>\n     <use style=\"fill:#0000ff;stroke:#0000ff;\" x=\"604.43334\" xlink:href=\"#mefd47b43d3\" y=\"32.201761\"/>\n     <use style=\"fill:#0000ff;stroke:#0000ff;\" x=\"607.228231\" xlink:href=\"#mefd47b43d3\" y=\"32.201761\"/>\n     <use style=\"fill:#0000ff;stroke:#0000ff;\" x=\"610.023122\" xlink:href=\"#mefd47b43d3\" y=\"32.201761\"/>\n     <use style=\"fill:#0000ff;stroke:#0000ff;\" x=\"612.818013\" xlink:href=\"#mefd47b43d3\" y=\"32.201761\"/>\n     <use style=\"fill:#0000ff;stroke:#0000ff;\" x=\"615.612904\" xlink:href=\"#mefd47b43d3\" y=\"32.201761\"/>\n     <use style=\"fill:#0000ff;stroke:#0000ff;\" x=\"618.407795\" xlink:href=\"#mefd47b43d3\" y=\"32.201761\"/>\n     <use style=\"fill:#0000ff;stroke:#0000ff;\" x=\"621.202686\" xlink:href=\"#mefd47b43d3\" y=\"32.201761\"/>\n     <use style=\"fill:#0000ff;stroke:#0000ff;\" x=\"623.997577\" xlink:href=\"#mefd47b43d3\" y=\"32.201761\"/>\n     <use style=\"fill:#0000ff;stroke:#0000ff;\" x=\"626.792468\" xlink:href=\"#mefd47b43d3\" y=\"32.201761\"/>\n     <use style=\"fill:#0000ff;stroke:#0000ff;\" x=\"629.587359\" xlink:href=\"#mefd47b43d3\" y=\"32.201761\"/>\n     <use style=\"fill:#0000ff;stroke:#0000ff;\" x=\"632.38225\" xlink:href=\"#mefd47b43d3\" y=\"32.201761\"/>\n     <use style=\"fill:#0000ff;stroke:#0000ff;\" x=\"635.177141\" xlink:href=\"#mefd47b43d3\" y=\"32.201761\"/>\n     <use style=\"fill:#0000ff;stroke:#0000ff;\" x=\"637.972032\" xlink:href=\"#mefd47b43d3\" y=\"32.201761\"/>\n     <use style=\"fill:#0000ff;stroke:#0000ff;\" x=\"640.766923\" xlink:href=\"#mefd47b43d3\" y=\"32.201761\"/>\n     <use style=\"fill:#0000ff;stroke:#0000ff;\" x=\"643.561814\" xlink:href=\"#mefd47b43d3\" y=\"32.201761\"/>\n     <use style=\"fill:#0000ff;stroke:#0000ff;\" x=\"646.356705\" xlink:href=\"#mefd47b43d3\" y=\"32.201761\"/>\n     <use style=\"fill:#0000ff;stroke:#0000ff;\" x=\"649.151597\" xlink:href=\"#mefd47b43d3\" y=\"32.201761\"/>\n     <use style=\"fill:#0000ff;stroke:#0000ff;\" x=\"651.946488\" xlink:href=\"#mefd47b43d3\" y=\"32.201761\"/>\n     <use style=\"fill:#0000ff;stroke:#0000ff;\" x=\"654.741379\" xlink:href=\"#mefd47b43d3\" y=\"32.201761\"/>\n     <use style=\"fill:#0000ff;stroke:#0000ff;\" x=\"657.53627\" xlink:href=\"#mefd47b43d3\" y=\"32.201761\"/>\n     <use style=\"fill:#0000ff;stroke:#0000ff;\" x=\"660.331161\" xlink:href=\"#mefd47b43d3\" y=\"32.201761\"/>\n     <use style=\"fill:#0000ff;stroke:#0000ff;\" x=\"663.126052\" xlink:href=\"#mefd47b43d3\" y=\"32.201761\"/>\n     <use style=\"fill:#0000ff;stroke:#0000ff;\" x=\"665.920943\" xlink:href=\"#mefd47b43d3\" y=\"32.201761\"/>\n     <use style=\"fill:#0000ff;stroke:#0000ff;\" x=\"668.715834\" xlink:href=\"#mefd47b43d3\" y=\"32.201761\"/>\n     <use style=\"fill:#0000ff;stroke:#0000ff;\" x=\"671.510725\" xlink:href=\"#mefd47b43d3\" y=\"32.201761\"/>\n     <use style=\"fill:#0000ff;stroke:#0000ff;\" x=\"674.305616\" xlink:href=\"#mefd47b43d3\" y=\"32.201761\"/>\n     <use style=\"fill:#0000ff;stroke:#0000ff;\" x=\"677.100507\" xlink:href=\"#mefd47b43d3\" y=\"32.201761\"/>\n     <use style=\"fill:#0000ff;stroke:#0000ff;\" x=\"679.895398\" xlink:href=\"#mefd47b43d3\" y=\"32.201761\"/>\n     <use style=\"fill:#0000ff;stroke:#0000ff;\" x=\"682.690289\" xlink:href=\"#mefd47b43d3\" y=\"32.201761\"/>\n    </g>\n   </g>\n   <g id=\"line2d_26\">\n    <path clip-path=\"url(#pf73221ac37)\" d=\"M 405.996074 229.874489 \nL 408.790965 229.874489 \nL 411.585856 229.874489 \nL 414.380748 229.874489 \nL 417.175639 229.874489 \nL 419.97053 229.874489 \nL 422.765421 205.165398 \nL 425.560312 205.165398 \nL 428.355203 131.038125 \nL 431.150094 180.456307 \nL 433.944985 229.874489 \nL 436.739876 205.165398 \nL 439.534767 229.874489 \nL 442.329658 229.874489 \nL 445.124549 229.874489 \nL 447.91944 229.874489 \nL 450.714331 229.874489 \nL 453.509222 229.874489 \nL 456.304113 205.165398 \nL 459.099005 81.619943 \nL 461.893896 106.329034 \nL 464.688787 180.456307 \nL 467.483678 180.456307 \nL 470.278569 180.456307 \nL 473.07346 205.165398 \nL 475.868351 205.165398 \nL 478.663242 229.874489 \nL 481.458133 229.874489 \nL 484.253024 205.165398 \nL 487.047915 131.038125 \nL 489.842806 56.910852 \nL 492.637697 81.619943 \nL 495.432588 131.038125 \nL 498.227479 131.038125 \nL 501.02237 131.038125 \nL 503.817261 155.747216 \nL 506.612153 155.747216 \nL 509.407044 155.747216 \nL 512.201935 131.038125 \nL 514.996826 81.619943 \nL 517.791717 32.201761 \nL 520.586608 32.201761 \nL 523.381499 56.910852 \nL 526.17639 106.329034 \nL 528.971281 106.329034 \nL 531.766172 106.329034 \nL 534.561063 81.619943 \nL 537.355954 81.619943 \nL 540.150845 81.619943 \nL 542.945736 56.910852 \nL 545.740627 32.201761 \nL 548.535518 32.201761 \nL 551.330409 32.201761 \nL 554.125301 32.201761 \nL 556.920192 56.910852 \nL 559.715083 56.910852 \nL 562.509974 56.910852 \nL 565.304865 32.201761 \nL 568.099756 32.201761 \nL 570.894647 32.201761 \nL 573.689538 32.201761 \nL 576.484429 32.201761 \nL 579.27932 32.201761 \nL 582.074211 32.201761 \nL 584.869102 32.201761 \nL 587.663993 32.201761 \nL 590.458884 32.201761 \nL 593.253775 32.201761 \nL 596.048666 32.201761 \nL 598.843557 32.201761 \nL 601.638449 32.201761 \nL 604.43334 32.201761 \nL 607.228231 32.201761 \nL 610.023122 32.201761 \nL 612.818013 32.201761 \nL 615.612904 32.201761 \nL 618.407795 32.201761 \nL 621.202686 32.201761 \nL 623.997577 32.201761 \nL 626.792468 32.201761 \nL 629.587359 32.201761 \nL 632.38225 32.201761 \nL 635.177141 32.201761 \nL 637.972032 32.201761 \nL 640.766923 32.201761 \nL 643.561814 32.201761 \nL 646.356705 32.201761 \nL 649.151597 32.201761 \nL 651.946488 32.201761 \nL 654.741379 32.201761 \nL 657.53627 32.201761 \nL 660.331161 32.201761 \nL 663.126052 32.201761 \nL 665.920943 32.201761 \nL 668.715834 32.201761 \nL 671.510725 32.201761 \nL 674.305616 32.201761 \nL 677.100507 32.201761 \nL 679.895398 32.201761 \nL 682.690289 32.201761 \n\" style=\"fill:none;stroke:#ff0000;stroke-linecap:square;stroke-width:1.5;\"/>\n    <defs>\n     <path d=\"M -3 3 \nL 3 3 \nL 3 -3 \nL -3 -3 \nz\n\" id=\"mf089c7d470\" style=\"stroke:#ff0000;stroke-linejoin:miter;\"/>\n    </defs>\n    <g clip-path=\"url(#pf73221ac37)\">\n     <use style=\"fill:#ff0000;stroke:#ff0000;stroke-linejoin:miter;\" x=\"405.996074\" xlink:href=\"#mf089c7d470\" y=\"229.874489\"/>\n     <use style=\"fill:#ff0000;stroke:#ff0000;stroke-linejoin:miter;\" x=\"408.790965\" xlink:href=\"#mf089c7d470\" y=\"229.874489\"/>\n     <use style=\"fill:#ff0000;stroke:#ff0000;stroke-linejoin:miter;\" x=\"411.585856\" xlink:href=\"#mf089c7d470\" y=\"229.874489\"/>\n     <use style=\"fill:#ff0000;stroke:#ff0000;stroke-linejoin:miter;\" x=\"414.380748\" xlink:href=\"#mf089c7d470\" y=\"229.874489\"/>\n     <use style=\"fill:#ff0000;stroke:#ff0000;stroke-linejoin:miter;\" x=\"417.175639\" xlink:href=\"#mf089c7d470\" y=\"229.874489\"/>\n     <use style=\"fill:#ff0000;stroke:#ff0000;stroke-linejoin:miter;\" x=\"419.97053\" xlink:href=\"#mf089c7d470\" y=\"229.874489\"/>\n     <use style=\"fill:#ff0000;stroke:#ff0000;stroke-linejoin:miter;\" x=\"422.765421\" xlink:href=\"#mf089c7d470\" y=\"205.165398\"/>\n     <use style=\"fill:#ff0000;stroke:#ff0000;stroke-linejoin:miter;\" x=\"425.560312\" xlink:href=\"#mf089c7d470\" y=\"205.165398\"/>\n     <use style=\"fill:#ff0000;stroke:#ff0000;stroke-linejoin:miter;\" x=\"428.355203\" xlink:href=\"#mf089c7d470\" y=\"131.038125\"/>\n     <use style=\"fill:#ff0000;stroke:#ff0000;stroke-linejoin:miter;\" x=\"431.150094\" xlink:href=\"#mf089c7d470\" y=\"180.456307\"/>\n     <use style=\"fill:#ff0000;stroke:#ff0000;stroke-linejoin:miter;\" x=\"433.944985\" xlink:href=\"#mf089c7d470\" y=\"229.874489\"/>\n     <use style=\"fill:#ff0000;stroke:#ff0000;stroke-linejoin:miter;\" x=\"436.739876\" xlink:href=\"#mf089c7d470\" y=\"205.165398\"/>\n     <use style=\"fill:#ff0000;stroke:#ff0000;stroke-linejoin:miter;\" x=\"439.534767\" xlink:href=\"#mf089c7d470\" y=\"229.874489\"/>\n     <use style=\"fill:#ff0000;stroke:#ff0000;stroke-linejoin:miter;\" x=\"442.329658\" xlink:href=\"#mf089c7d470\" y=\"229.874489\"/>\n     <use style=\"fill:#ff0000;stroke:#ff0000;stroke-linejoin:miter;\" x=\"445.124549\" xlink:href=\"#mf089c7d470\" y=\"229.874489\"/>\n     <use style=\"fill:#ff0000;stroke:#ff0000;stroke-linejoin:miter;\" x=\"447.91944\" xlink:href=\"#mf089c7d470\" y=\"229.874489\"/>\n     <use style=\"fill:#ff0000;stroke:#ff0000;stroke-linejoin:miter;\" x=\"450.714331\" xlink:href=\"#mf089c7d470\" y=\"229.874489\"/>\n     <use style=\"fill:#ff0000;stroke:#ff0000;stroke-linejoin:miter;\" x=\"453.509222\" xlink:href=\"#mf089c7d470\" y=\"229.874489\"/>\n     <use style=\"fill:#ff0000;stroke:#ff0000;stroke-linejoin:miter;\" x=\"456.304113\" xlink:href=\"#mf089c7d470\" y=\"205.165398\"/>\n     <use style=\"fill:#ff0000;stroke:#ff0000;stroke-linejoin:miter;\" x=\"459.099005\" xlink:href=\"#mf089c7d470\" y=\"81.619943\"/>\n     <use style=\"fill:#ff0000;stroke:#ff0000;stroke-linejoin:miter;\" x=\"461.893896\" xlink:href=\"#mf089c7d470\" y=\"106.329034\"/>\n     <use style=\"fill:#ff0000;stroke:#ff0000;stroke-linejoin:miter;\" x=\"464.688787\" xlink:href=\"#mf089c7d470\" y=\"180.456307\"/>\n     <use style=\"fill:#ff0000;stroke:#ff0000;stroke-linejoin:miter;\" x=\"467.483678\" xlink:href=\"#mf089c7d470\" y=\"180.456307\"/>\n     <use style=\"fill:#ff0000;stroke:#ff0000;stroke-linejoin:miter;\" x=\"470.278569\" xlink:href=\"#mf089c7d470\" y=\"180.456307\"/>\n     <use style=\"fill:#ff0000;stroke:#ff0000;stroke-linejoin:miter;\" x=\"473.07346\" xlink:href=\"#mf089c7d470\" y=\"205.165398\"/>\n     <use style=\"fill:#ff0000;stroke:#ff0000;stroke-linejoin:miter;\" x=\"475.868351\" xlink:href=\"#mf089c7d470\" y=\"205.165398\"/>\n     <use style=\"fill:#ff0000;stroke:#ff0000;stroke-linejoin:miter;\" x=\"478.663242\" xlink:href=\"#mf089c7d470\" y=\"229.874489\"/>\n     <use style=\"fill:#ff0000;stroke:#ff0000;stroke-linejoin:miter;\" x=\"481.458133\" xlink:href=\"#mf089c7d470\" y=\"229.874489\"/>\n     <use style=\"fill:#ff0000;stroke:#ff0000;stroke-linejoin:miter;\" x=\"484.253024\" xlink:href=\"#mf089c7d470\" y=\"205.165398\"/>\n     <use style=\"fill:#ff0000;stroke:#ff0000;stroke-linejoin:miter;\" x=\"487.047915\" xlink:href=\"#mf089c7d470\" y=\"131.038125\"/>\n     <use style=\"fill:#ff0000;stroke:#ff0000;stroke-linejoin:miter;\" x=\"489.842806\" xlink:href=\"#mf089c7d470\" y=\"56.910852\"/>\n     <use style=\"fill:#ff0000;stroke:#ff0000;stroke-linejoin:miter;\" x=\"492.637697\" xlink:href=\"#mf089c7d470\" y=\"81.619943\"/>\n     <use style=\"fill:#ff0000;stroke:#ff0000;stroke-linejoin:miter;\" x=\"495.432588\" xlink:href=\"#mf089c7d470\" y=\"131.038125\"/>\n     <use style=\"fill:#ff0000;stroke:#ff0000;stroke-linejoin:miter;\" x=\"498.227479\" xlink:href=\"#mf089c7d470\" y=\"131.038125\"/>\n     <use style=\"fill:#ff0000;stroke:#ff0000;stroke-linejoin:miter;\" x=\"501.02237\" xlink:href=\"#mf089c7d470\" y=\"131.038125\"/>\n     <use style=\"fill:#ff0000;stroke:#ff0000;stroke-linejoin:miter;\" x=\"503.817261\" xlink:href=\"#mf089c7d470\" y=\"155.747216\"/>\n     <use style=\"fill:#ff0000;stroke:#ff0000;stroke-linejoin:miter;\" x=\"506.612153\" xlink:href=\"#mf089c7d470\" y=\"155.747216\"/>\n     <use style=\"fill:#ff0000;stroke:#ff0000;stroke-linejoin:miter;\" x=\"509.407044\" xlink:href=\"#mf089c7d470\" y=\"155.747216\"/>\n     <use style=\"fill:#ff0000;stroke:#ff0000;stroke-linejoin:miter;\" x=\"512.201935\" xlink:href=\"#mf089c7d470\" y=\"131.038125\"/>\n     <use style=\"fill:#ff0000;stroke:#ff0000;stroke-linejoin:miter;\" x=\"514.996826\" xlink:href=\"#mf089c7d470\" y=\"81.619943\"/>\n     <use style=\"fill:#ff0000;stroke:#ff0000;stroke-linejoin:miter;\" x=\"517.791717\" xlink:href=\"#mf089c7d470\" y=\"32.201761\"/>\n     <use style=\"fill:#ff0000;stroke:#ff0000;stroke-linejoin:miter;\" x=\"520.586608\" xlink:href=\"#mf089c7d470\" y=\"32.201761\"/>\n     <use style=\"fill:#ff0000;stroke:#ff0000;stroke-linejoin:miter;\" x=\"523.381499\" xlink:href=\"#mf089c7d470\" y=\"56.910852\"/>\n     <use style=\"fill:#ff0000;stroke:#ff0000;stroke-linejoin:miter;\" x=\"526.17639\" xlink:href=\"#mf089c7d470\" y=\"106.329034\"/>\n     <use style=\"fill:#ff0000;stroke:#ff0000;stroke-linejoin:miter;\" x=\"528.971281\" xlink:href=\"#mf089c7d470\" y=\"106.329034\"/>\n     <use style=\"fill:#ff0000;stroke:#ff0000;stroke-linejoin:miter;\" x=\"531.766172\" xlink:href=\"#mf089c7d470\" y=\"106.329034\"/>\n     <use style=\"fill:#ff0000;stroke:#ff0000;stroke-linejoin:miter;\" x=\"534.561063\" xlink:href=\"#mf089c7d470\" y=\"81.619943\"/>\n     <use style=\"fill:#ff0000;stroke:#ff0000;stroke-linejoin:miter;\" x=\"537.355954\" xlink:href=\"#mf089c7d470\" y=\"81.619943\"/>\n     <use style=\"fill:#ff0000;stroke:#ff0000;stroke-linejoin:miter;\" x=\"540.150845\" xlink:href=\"#mf089c7d470\" y=\"81.619943\"/>\n     <use style=\"fill:#ff0000;stroke:#ff0000;stroke-linejoin:miter;\" x=\"542.945736\" xlink:href=\"#mf089c7d470\" y=\"56.910852\"/>\n     <use style=\"fill:#ff0000;stroke:#ff0000;stroke-linejoin:miter;\" x=\"545.740627\" xlink:href=\"#mf089c7d470\" y=\"32.201761\"/>\n     <use style=\"fill:#ff0000;stroke:#ff0000;stroke-linejoin:miter;\" x=\"548.535518\" xlink:href=\"#mf089c7d470\" y=\"32.201761\"/>\n     <use style=\"fill:#ff0000;stroke:#ff0000;stroke-linejoin:miter;\" x=\"551.330409\" xlink:href=\"#mf089c7d470\" y=\"32.201761\"/>\n     <use style=\"fill:#ff0000;stroke:#ff0000;stroke-linejoin:miter;\" x=\"554.125301\" xlink:href=\"#mf089c7d470\" y=\"32.201761\"/>\n     <use style=\"fill:#ff0000;stroke:#ff0000;stroke-linejoin:miter;\" x=\"556.920192\" xlink:href=\"#mf089c7d470\" y=\"56.910852\"/>\n     <use style=\"fill:#ff0000;stroke:#ff0000;stroke-linejoin:miter;\" x=\"559.715083\" xlink:href=\"#mf089c7d470\" y=\"56.910852\"/>\n     <use style=\"fill:#ff0000;stroke:#ff0000;stroke-linejoin:miter;\" x=\"562.509974\" xlink:href=\"#mf089c7d470\" y=\"56.910852\"/>\n     <use style=\"fill:#ff0000;stroke:#ff0000;stroke-linejoin:miter;\" x=\"565.304865\" xlink:href=\"#mf089c7d470\" y=\"32.201761\"/>\n     <use style=\"fill:#ff0000;stroke:#ff0000;stroke-linejoin:miter;\" x=\"568.099756\" xlink:href=\"#mf089c7d470\" y=\"32.201761\"/>\n     <use style=\"fill:#ff0000;stroke:#ff0000;stroke-linejoin:miter;\" x=\"570.894647\" xlink:href=\"#mf089c7d470\" y=\"32.201761\"/>\n     <use style=\"fill:#ff0000;stroke:#ff0000;stroke-linejoin:miter;\" x=\"573.689538\" xlink:href=\"#mf089c7d470\" y=\"32.201761\"/>\n     <use style=\"fill:#ff0000;stroke:#ff0000;stroke-linejoin:miter;\" x=\"576.484429\" xlink:href=\"#mf089c7d470\" y=\"32.201761\"/>\n     <use style=\"fill:#ff0000;stroke:#ff0000;stroke-linejoin:miter;\" x=\"579.27932\" xlink:href=\"#mf089c7d470\" y=\"32.201761\"/>\n     <use style=\"fill:#ff0000;stroke:#ff0000;stroke-linejoin:miter;\" x=\"582.074211\" xlink:href=\"#mf089c7d470\" y=\"32.201761\"/>\n     <use style=\"fill:#ff0000;stroke:#ff0000;stroke-linejoin:miter;\" x=\"584.869102\" xlink:href=\"#mf089c7d470\" y=\"32.201761\"/>\n     <use style=\"fill:#ff0000;stroke:#ff0000;stroke-linejoin:miter;\" x=\"587.663993\" xlink:href=\"#mf089c7d470\" y=\"32.201761\"/>\n     <use style=\"fill:#ff0000;stroke:#ff0000;stroke-linejoin:miter;\" x=\"590.458884\" xlink:href=\"#mf089c7d470\" y=\"32.201761\"/>\n     <use style=\"fill:#ff0000;stroke:#ff0000;stroke-linejoin:miter;\" x=\"593.253775\" xlink:href=\"#mf089c7d470\" y=\"32.201761\"/>\n     <use style=\"fill:#ff0000;stroke:#ff0000;stroke-linejoin:miter;\" x=\"596.048666\" xlink:href=\"#mf089c7d470\" y=\"32.201761\"/>\n     <use style=\"fill:#ff0000;stroke:#ff0000;stroke-linejoin:miter;\" x=\"598.843557\" xlink:href=\"#mf089c7d470\" y=\"32.201761\"/>\n     <use style=\"fill:#ff0000;stroke:#ff0000;stroke-linejoin:miter;\" x=\"601.638449\" xlink:href=\"#mf089c7d470\" y=\"32.201761\"/>\n     <use style=\"fill:#ff0000;stroke:#ff0000;stroke-linejoin:miter;\" x=\"604.43334\" xlink:href=\"#mf089c7d470\" y=\"32.201761\"/>\n     <use style=\"fill:#ff0000;stroke:#ff0000;stroke-linejoin:miter;\" x=\"607.228231\" xlink:href=\"#mf089c7d470\" y=\"32.201761\"/>\n     <use style=\"fill:#ff0000;stroke:#ff0000;stroke-linejoin:miter;\" x=\"610.023122\" xlink:href=\"#mf089c7d470\" y=\"32.201761\"/>\n     <use style=\"fill:#ff0000;stroke:#ff0000;stroke-linejoin:miter;\" x=\"612.818013\" xlink:href=\"#mf089c7d470\" y=\"32.201761\"/>\n     <use style=\"fill:#ff0000;stroke:#ff0000;stroke-linejoin:miter;\" x=\"615.612904\" xlink:href=\"#mf089c7d470\" y=\"32.201761\"/>\n     <use style=\"fill:#ff0000;stroke:#ff0000;stroke-linejoin:miter;\" x=\"618.407795\" xlink:href=\"#mf089c7d470\" y=\"32.201761\"/>\n     <use style=\"fill:#ff0000;stroke:#ff0000;stroke-linejoin:miter;\" x=\"621.202686\" xlink:href=\"#mf089c7d470\" y=\"32.201761\"/>\n     <use style=\"fill:#ff0000;stroke:#ff0000;stroke-linejoin:miter;\" x=\"623.997577\" xlink:href=\"#mf089c7d470\" y=\"32.201761\"/>\n     <use style=\"fill:#ff0000;stroke:#ff0000;stroke-linejoin:miter;\" x=\"626.792468\" xlink:href=\"#mf089c7d470\" y=\"32.201761\"/>\n     <use style=\"fill:#ff0000;stroke:#ff0000;stroke-linejoin:miter;\" x=\"629.587359\" xlink:href=\"#mf089c7d470\" y=\"32.201761\"/>\n     <use style=\"fill:#ff0000;stroke:#ff0000;stroke-linejoin:miter;\" x=\"632.38225\" xlink:href=\"#mf089c7d470\" y=\"32.201761\"/>\n     <use style=\"fill:#ff0000;stroke:#ff0000;stroke-linejoin:miter;\" x=\"635.177141\" xlink:href=\"#mf089c7d470\" y=\"32.201761\"/>\n     <use style=\"fill:#ff0000;stroke:#ff0000;stroke-linejoin:miter;\" x=\"637.972032\" xlink:href=\"#mf089c7d470\" y=\"32.201761\"/>\n     <use style=\"fill:#ff0000;stroke:#ff0000;stroke-linejoin:miter;\" x=\"640.766923\" xlink:href=\"#mf089c7d470\" y=\"32.201761\"/>\n     <use style=\"fill:#ff0000;stroke:#ff0000;stroke-linejoin:miter;\" x=\"643.561814\" xlink:href=\"#mf089c7d470\" y=\"32.201761\"/>\n     <use style=\"fill:#ff0000;stroke:#ff0000;stroke-linejoin:miter;\" x=\"646.356705\" xlink:href=\"#mf089c7d470\" y=\"32.201761\"/>\n     <use style=\"fill:#ff0000;stroke:#ff0000;stroke-linejoin:miter;\" x=\"649.151597\" xlink:href=\"#mf089c7d470\" y=\"32.201761\"/>\n     <use style=\"fill:#ff0000;stroke:#ff0000;stroke-linejoin:miter;\" x=\"651.946488\" xlink:href=\"#mf089c7d470\" y=\"32.201761\"/>\n     <use style=\"fill:#ff0000;stroke:#ff0000;stroke-linejoin:miter;\" x=\"654.741379\" xlink:href=\"#mf089c7d470\" y=\"32.201761\"/>\n     <use style=\"fill:#ff0000;stroke:#ff0000;stroke-linejoin:miter;\" x=\"657.53627\" xlink:href=\"#mf089c7d470\" y=\"32.201761\"/>\n     <use style=\"fill:#ff0000;stroke:#ff0000;stroke-linejoin:miter;\" x=\"660.331161\" xlink:href=\"#mf089c7d470\" y=\"32.201761\"/>\n     <use style=\"fill:#ff0000;stroke:#ff0000;stroke-linejoin:miter;\" x=\"663.126052\" xlink:href=\"#mf089c7d470\" y=\"32.201761\"/>\n     <use style=\"fill:#ff0000;stroke:#ff0000;stroke-linejoin:miter;\" x=\"665.920943\" xlink:href=\"#mf089c7d470\" y=\"32.201761\"/>\n     <use style=\"fill:#ff0000;stroke:#ff0000;stroke-linejoin:miter;\" x=\"668.715834\" xlink:href=\"#mf089c7d470\" y=\"32.201761\"/>\n     <use style=\"fill:#ff0000;stroke:#ff0000;stroke-linejoin:miter;\" x=\"671.510725\" xlink:href=\"#mf089c7d470\" y=\"32.201761\"/>\n     <use style=\"fill:#ff0000;stroke:#ff0000;stroke-linejoin:miter;\" x=\"674.305616\" xlink:href=\"#mf089c7d470\" y=\"32.201761\"/>\n     <use style=\"fill:#ff0000;stroke:#ff0000;stroke-linejoin:miter;\" x=\"677.100507\" xlink:href=\"#mf089c7d470\" y=\"32.201761\"/>\n     <use style=\"fill:#ff0000;stroke:#ff0000;stroke-linejoin:miter;\" x=\"679.895398\" xlink:href=\"#mf089c7d470\" y=\"32.201761\"/>\n     <use style=\"fill:#ff0000;stroke:#ff0000;stroke-linejoin:miter;\" x=\"682.690289\" xlink:href=\"#mf089c7d470\" y=\"32.201761\"/>\n    </g>\n   </g>\n   <g id=\"patch_8\">\n    <path d=\"M 392.161364 239.758125 \nL 392.161364 22.318125 \n\" style=\"fill:none;stroke:#000000;stroke-linecap:square;stroke-linejoin:miter;stroke-width:0.8;\"/>\n   </g>\n   <g id=\"patch_9\">\n    <path d=\"M 696.525 239.758125 \nL 696.525 22.318125 \n\" style=\"fill:none;stroke:#000000;stroke-linecap:square;stroke-linejoin:miter;stroke-width:0.8;\"/>\n   </g>\n   <g id=\"patch_10\">\n    <path d=\"M 392.161364 239.758125 \nL 696.525 239.758125 \n\" style=\"fill:none;stroke:#000000;stroke-linecap:square;stroke-linejoin:miter;stroke-width:0.8;\"/>\n   </g>\n   <g id=\"patch_11\">\n    <path d=\"M 392.161364 22.318125 \nL 696.525 22.318125 \n\" style=\"fill:none;stroke:#000000;stroke-linecap:square;stroke-linejoin:miter;stroke-width:0.8;\"/>\n   </g>\n   <g id=\"text_28\">\n    <!-- test and train accuracy -->\n    <defs>\n     <path d=\"M 18.3125 70.21875 \nL 18.3125 54.6875 \nL 36.8125 54.6875 \nL 36.8125 47.703125 \nL 18.3125 47.703125 \nL 18.3125 18.015625 \nQ 18.3125 11.328125 20.140625 9.421875 \nQ 21.96875 7.515625 27.59375 7.515625 \nL 36.8125 7.515625 \nL 36.8125 0 \nL 27.59375 0 \nQ 17.1875 0 13.234375 3.875 \nQ 9.28125 7.765625 9.28125 18.015625 \nL 9.28125 47.703125 \nL 2.6875 47.703125 \nL 2.6875 54.6875 \nL 9.28125 54.6875 \nL 9.28125 70.21875 \nz\n\" id=\"DejaVuSans-116\"/>\n     <path d=\"M 56.203125 29.59375 \nL 56.203125 25.203125 \nL 14.890625 25.203125 \nQ 15.484375 15.921875 20.484375 11.0625 \nQ 25.484375 6.203125 34.421875 6.203125 \nQ 39.59375 6.203125 44.453125 7.46875 \nQ 49.3125 8.734375 54.109375 11.28125 \nL 54.109375 2.78125 \nQ 49.265625 0.734375 44.1875 -0.34375 \nQ 39.109375 -1.421875 33.890625 -1.421875 \nQ 20.796875 -1.421875 13.15625 6.1875 \nQ 5.515625 13.8125 5.515625 26.8125 \nQ 5.515625 40.234375 12.765625 48.109375 \nQ 20.015625 56 32.328125 56 \nQ 43.359375 56 49.78125 48.890625 \nQ 56.203125 41.796875 56.203125 29.59375 \nz\nM 47.21875 32.234375 \nQ 47.125 39.59375 43.09375 43.984375 \nQ 39.0625 48.390625 32.421875 48.390625 \nQ 24.90625 48.390625 20.390625 44.140625 \nQ 15.875 39.890625 15.1875 32.171875 \nz\n\" id=\"DejaVuSans-101\"/>\n     <path id=\"DejaVuSans-32\"/>\n     <path d=\"M 34.28125 27.484375 \nQ 23.390625 27.484375 19.1875 25 \nQ 14.984375 22.515625 14.984375 16.5 \nQ 14.984375 11.71875 18.140625 8.90625 \nQ 21.296875 6.109375 26.703125 6.109375 \nQ 34.1875 6.109375 38.703125 11.40625 \nQ 43.21875 16.703125 43.21875 25.484375 \nL 43.21875 27.484375 \nz\nM 52.203125 31.203125 \nL 52.203125 0 \nL 43.21875 0 \nL 43.21875 8.296875 \nQ 40.140625 3.328125 35.546875 0.953125 \nQ 30.953125 -1.421875 24.3125 -1.421875 \nQ 15.921875 -1.421875 10.953125 3.296875 \nQ 6 8.015625 6 15.921875 \nQ 6 25.140625 12.171875 29.828125 \nQ 18.359375 34.515625 30.609375 34.515625 \nL 43.21875 34.515625 \nL 43.21875 35.40625 \nQ 43.21875 41.609375 39.140625 45 \nQ 35.0625 48.390625 27.6875 48.390625 \nQ 23 48.390625 18.546875 47.265625 \nQ 14.109375 46.140625 10.015625 43.890625 \nL 10.015625 52.203125 \nQ 14.9375 54.109375 19.578125 55.046875 \nQ 24.21875 56 28.609375 56 \nQ 40.484375 56 46.34375 49.84375 \nQ 52.203125 43.703125 52.203125 31.203125 \nz\n\" id=\"DejaVuSans-97\"/>\n     <path d=\"M 54.890625 33.015625 \nL 54.890625 0 \nL 45.90625 0 \nL 45.90625 32.71875 \nQ 45.90625 40.484375 42.875 44.328125 \nQ 39.84375 48.1875 33.796875 48.1875 \nQ 26.515625 48.1875 22.3125 43.546875 \nQ 18.109375 38.921875 18.109375 30.90625 \nL 18.109375 0 \nL 9.078125 0 \nL 9.078125 54.6875 \nL 18.109375 54.6875 \nL 18.109375 46.1875 \nQ 21.34375 51.125 25.703125 53.5625 \nQ 30.078125 56 35.796875 56 \nQ 45.21875 56 50.046875 50.171875 \nQ 54.890625 44.34375 54.890625 33.015625 \nz\n\" id=\"DejaVuSans-110\"/>\n     <path d=\"M 45.40625 46.390625 \nL 45.40625 75.984375 \nL 54.390625 75.984375 \nL 54.390625 0 \nL 45.40625 0 \nL 45.40625 8.203125 \nQ 42.578125 3.328125 38.25 0.953125 \nQ 33.9375 -1.421875 27.875 -1.421875 \nQ 17.96875 -1.421875 11.734375 6.484375 \nQ 5.515625 14.40625 5.515625 27.296875 \nQ 5.515625 40.1875 11.734375 48.09375 \nQ 17.96875 56 27.875 56 \nQ 33.9375 56 38.25 53.625 \nQ 42.578125 51.265625 45.40625 46.390625 \nz\nM 14.796875 27.296875 \nQ 14.796875 17.390625 18.875 11.75 \nQ 22.953125 6.109375 30.078125 6.109375 \nQ 37.203125 6.109375 41.296875 11.75 \nQ 45.40625 17.390625 45.40625 27.296875 \nQ 45.40625 37.203125 41.296875 42.84375 \nQ 37.203125 48.484375 30.078125 48.484375 \nQ 22.953125 48.484375 18.875 42.84375 \nQ 14.796875 37.203125 14.796875 27.296875 \nz\n\" id=\"DejaVuSans-100\"/>\n     <path d=\"M 41.109375 46.296875 \nQ 39.59375 47.171875 37.8125 47.578125 \nQ 36.03125 48 33.890625 48 \nQ 26.265625 48 22.1875 43.046875 \nQ 18.109375 38.09375 18.109375 28.8125 \nL 18.109375 0 \nL 9.078125 0 \nL 9.078125 54.6875 \nL 18.109375 54.6875 \nL 18.109375 46.1875 \nQ 20.953125 51.171875 25.484375 53.578125 \nQ 30.03125 56 36.53125 56 \nQ 37.453125 56 38.578125 55.875 \nQ 39.703125 55.765625 41.0625 55.515625 \nz\n\" id=\"DejaVuSans-114\"/>\n     <path d=\"M 9.421875 54.6875 \nL 18.40625 54.6875 \nL 18.40625 0 \nL 9.421875 0 \nz\nM 9.421875 75.984375 \nL 18.40625 75.984375 \nL 18.40625 64.59375 \nL 9.421875 64.59375 \nz\n\" id=\"DejaVuSans-105\"/>\n     <path d=\"M 8.5 21.578125 \nL 8.5 54.6875 \nL 17.484375 54.6875 \nL 17.484375 21.921875 \nQ 17.484375 14.15625 20.5 10.265625 \nQ 23.53125 6.390625 29.59375 6.390625 \nQ 36.859375 6.390625 41.078125 11.03125 \nQ 45.3125 15.671875 45.3125 23.6875 \nL 45.3125 54.6875 \nL 54.296875 54.6875 \nL 54.296875 0 \nL 45.3125 0 \nL 45.3125 8.40625 \nQ 42.046875 3.421875 37.71875 1 \nQ 33.40625 -1.421875 27.6875 -1.421875 \nQ 18.265625 -1.421875 13.375 4.4375 \nQ 8.5 10.296875 8.5 21.578125 \nz\nM 31.109375 56 \nz\n\" id=\"DejaVuSans-117\"/>\n    </defs>\n    <g transform=\"translate(474.775994 16.318125)scale(0.12 -0.12)\">\n     <use xlink:href=\"#DejaVuSans-116\"/>\n     <use x=\"39.208984\" xlink:href=\"#DejaVuSans-101\"/>\n     <use x=\"100.732422\" xlink:href=\"#DejaVuSans-115\"/>\n     <use x=\"152.832031\" xlink:href=\"#DejaVuSans-116\"/>\n     <use x=\"192.041016\" xlink:href=\"#DejaVuSans-32\"/>\n     <use x=\"223.828125\" xlink:href=\"#DejaVuSans-97\"/>\n     <use x=\"285.107422\" xlink:href=\"#DejaVuSans-110\"/>\n     <use x=\"348.486328\" xlink:href=\"#DejaVuSans-100\"/>\n     <use x=\"411.962891\" xlink:href=\"#DejaVuSans-32\"/>\n     <use x=\"443.75\" xlink:href=\"#DejaVuSans-116\"/>\n     <use x=\"482.958984\" xlink:href=\"#DejaVuSans-114\"/>\n     <use x=\"524.072266\" xlink:href=\"#DejaVuSans-97\"/>\n     <use x=\"585.351562\" xlink:href=\"#DejaVuSans-105\"/>\n     <use x=\"613.134766\" xlink:href=\"#DejaVuSans-110\"/>\n     <use x=\"676.513672\" xlink:href=\"#DejaVuSans-32\"/>\n     <use x=\"708.300781\" xlink:href=\"#DejaVuSans-97\"/>\n     <use x=\"769.580078\" xlink:href=\"#DejaVuSans-99\"/>\n     <use x=\"824.560547\" xlink:href=\"#DejaVuSans-99\"/>\n     <use x=\"879.541016\" xlink:href=\"#DejaVuSans-117\"/>\n     <use x=\"942.919922\" xlink:href=\"#DejaVuSans-114\"/>\n     <use x=\"984.033203\" xlink:href=\"#DejaVuSans-97\"/>\n     <use x=\"1045.3125\" xlink:href=\"#DejaVuSans-99\"/>\n     <use x=\"1100.292969\" xlink:href=\"#DejaVuSans-121\"/>\n    </g>\n   </g>\n   <g id=\"legend_1\">\n    <g id=\"patch_12\">\n     <path d=\"M 399.161364 59.674375 \nL 480.139489 59.674375 \nQ 482.139489 59.674375 482.139489 57.674375 \nL 482.139489 29.318125 \nQ 482.139489 27.318125 480.139489 27.318125 \nL 399.161364 27.318125 \nQ 397.161364 27.318125 397.161364 29.318125 \nL 397.161364 57.674375 \nQ 397.161364 59.674375 399.161364 59.674375 \nz\n\" style=\"fill:#ffffff;opacity:0.8;stroke:#cccccc;stroke-linejoin:miter;\"/>\n    </g>\n    <g id=\"line2d_27\">\n     <path d=\"M 401.161364 35.416562 \nL 421.161364 35.416562 \n\" style=\"fill:none;stroke:#0000ff;stroke-linecap:square;stroke-width:1.5;\"/>\n    </g>\n    <g id=\"line2d_28\">\n     <g>\n      <use style=\"fill:#0000ff;stroke:#0000ff;\" x=\"411.161364\" xlink:href=\"#mefd47b43d3\" y=\"35.416562\"/>\n     </g>\n    </g>\n    <g id=\"text_29\">\n     <!-- train data -->\n     <g transform=\"translate(429.161364 38.916562)scale(0.1 -0.1)\">\n      <use xlink:href=\"#DejaVuSans-116\"/>\n      <use x=\"39.208984\" xlink:href=\"#DejaVuSans-114\"/>\n      <use x=\"80.322266\" xlink:href=\"#DejaVuSans-97\"/>\n      <use x=\"141.601562\" xlink:href=\"#DejaVuSans-105\"/>\n      <use x=\"169.384766\" xlink:href=\"#DejaVuSans-110\"/>\n      <use x=\"232.763672\" xlink:href=\"#DejaVuSans-32\"/>\n      <use x=\"264.550781\" xlink:href=\"#DejaVuSans-100\"/>\n      <use x=\"328.027344\" xlink:href=\"#DejaVuSans-97\"/>\n      <use x=\"389.306641\" xlink:href=\"#DejaVuSans-116\"/>\n      <use x=\"428.515625\" xlink:href=\"#DejaVuSans-97\"/>\n     </g>\n    </g>\n    <g id=\"line2d_29\">\n     <path d=\"M 401.161364 50.094687 \nL 421.161364 50.094687 \n\" style=\"fill:none;stroke:#ff0000;stroke-linecap:square;stroke-width:1.5;\"/>\n    </g>\n    <g id=\"line2d_30\">\n     <g>\n      <use style=\"fill:#ff0000;stroke:#ff0000;stroke-linejoin:miter;\" x=\"411.161364\" xlink:href=\"#mf089c7d470\" y=\"50.094687\"/>\n     </g>\n    </g>\n    <g id=\"text_30\">\n     <!-- test data -->\n     <g transform=\"translate(429.161364 53.594687)scale(0.1 -0.1)\">\n      <use xlink:href=\"#DejaVuSans-116\"/>\n      <use x=\"39.208984\" xlink:href=\"#DejaVuSans-101\"/>\n      <use x=\"100.732422\" xlink:href=\"#DejaVuSans-115\"/>\n      <use x=\"152.832031\" xlink:href=\"#DejaVuSans-116\"/>\n      <use x=\"192.041016\" xlink:href=\"#DejaVuSans-32\"/>\n      <use x=\"223.828125\" xlink:href=\"#DejaVuSans-100\"/>\n      <use x=\"287.304688\" xlink:href=\"#DejaVuSans-97\"/>\n      <use x=\"348.583984\" xlink:href=\"#DejaVuSans-116\"/>\n      <use x=\"387.792969\" xlink:href=\"#DejaVuSans-97\"/>\n     </g>\n    </g>\n   </g>\n  </g>\n </g>\n <defs>\n  <clipPath id=\"p9dddaf5565\">\n   <rect height=\"217.44\" width=\"304.363636\" x=\"26.925\" y=\"22.318125\"/>\n  </clipPath>\n  <clipPath id=\"pf73221ac37\">\n   <rect height=\"217.44\" width=\"304.363636\" x=\"392.161364\" y=\"22.318125\"/>\n  </clipPath>\n </defs>\n</svg>\n"
          },
          "metadata": {
            "needs_background": "light"
          }
        }
      ]
    },
    {
      "cell_type": "code",
      "metadata": {
        "id": "WArSzFCaDsku"
      },
      "source": [],
      "execution_count": null,
      "outputs": []
    }
  ]
}