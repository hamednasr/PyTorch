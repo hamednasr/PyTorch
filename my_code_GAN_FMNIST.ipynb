{
  "nbformat": 4,
  "nbformat_minor": 0,
  "metadata": {
    "colab": {
      "name": "my code GAN FMNIST.ipynb",
      "provenance": [],
      "collapsed_sections": [],
      "include_colab_link": true
    },
    "kernelspec": {
      "name": "python3",
      "display_name": "Python 3"
    },
    "language_info": {
      "name": "python"
    }
  },
  "cells": [
    {
      "cell_type": "markdown",
      "metadata": {
        "id": "view-in-github",
        "colab_type": "text"
      },
      "source": [
        "<a href=\"https://colab.research.google.com/github/hamednasr/deep-learning/blob/main/my_code_GAN_FMNIST.ipynb\" target=\"_parent\"><img src=\"https://colab.research.google.com/assets/colab-badge.svg\" alt=\"Open In Colab\"/></a>"
      ]
    },
    {
      "cell_type": "markdown",
      "source": [
        "# GANs for FashionMNIST"
      ],
      "metadata": {
        "id": "3jiAtPpWIgA3"
      }
    },
    {
      "cell_type": "code",
      "metadata": {
        "id": "YeuAheYyhdZw"
      },
      "source": [
        "# import libraries\n",
        "import numpy as np\n",
        "\n",
        "import torch\n",
        "import torch.nn as nn\n",
        "import torch.nn.functional as F\n",
        "import torchvision\n",
        "from PIL import Image\n",
        "\n",
        "import sys\n",
        "\n",
        "import matplotlib.pyplot as plt\n",
        "from IPython import display\n",
        "display.set_matplotlib_formats('svg')"
      ],
      "execution_count": 21,
      "outputs": []
    },
    {
      "cell_type": "code",
      "metadata": {
        "id": "lpcmh-V8hIlw",
        "colab": {
          "base_uri": "https://localhost:8080/"
        },
        "outputId": "f73f5dd4-dc50-423e-f351-34628a1ec8b6"
      },
      "source": [
        "# device = 'cpu'\n",
        "device = torch.device('cuda' if torch.cuda.is_available() else 'cpu')\n",
        "device"
      ],
      "execution_count": null,
      "outputs": [
        {
          "output_type": "execute_result",
          "data": {
            "text/plain": [
              "device(type='cpu')"
            ]
          },
          "metadata": {},
          "execution_count": 5
        }
      ]
    },
    {
      "cell_type": "markdown",
      "metadata": {
        "id": "vpUeQWVfBJbY"
      },
      "source": [
        "# Import the data"
      ]
    },
    {
      "cell_type": "code",
      "source": [
        "FashionMNIST = torchvision.datasets.FashionMNIST(root='sample_data',download=True)"
      ],
      "metadata": {
        "id": "3NHC83oPAt-K"
      },
      "execution_count": 26,
      "outputs": []
    },
    {
      "cell_type": "code",
      "source": [
        "FashionMNIST"
      ],
      "metadata": {
        "colab": {
          "base_uri": "https://localhost:8080/"
        },
        "id": "XvXgR1DyDjJz",
        "outputId": "37f47cde-3253-4873-f030-4d8d37f04092"
      },
      "execution_count": 27,
      "outputs": [
        {
          "output_type": "execute_result",
          "data": {
            "text/plain": [
              "Dataset FashionMNIST\n",
              "    Number of datapoints: 60000\n",
              "    Root location: sample_data\n",
              "    Split: Train"
            ]
          },
          "metadata": {},
          "execution_count": 27
        }
      ]
    },
    {
      "cell_type": "code",
      "source": [
        "FashionMNIST.data.shape"
      ],
      "metadata": {
        "colab": {
          "base_uri": "https://localhost:8080/"
        },
        "id": "mU6KwaneG2vD",
        "outputId": "475dc760-5450-43f1-b787-c0897b16bfd4"
      },
      "execution_count": 29,
      "outputs": [
        {
          "output_type": "execute_result",
          "data": {
            "text/plain": [
              "torch.Size([60000, 28, 28])"
            ]
          },
          "metadata": {},
          "execution_count": 29
        }
      ]
    },
    {
      "cell_type": "code",
      "source": [
        "FashionMNIST.targets"
      ],
      "metadata": {
        "colab": {
          "base_uri": "https://localhost:8080/"
        },
        "id": "kdZAW97mHYJZ",
        "outputId": "4a534b83-f123-4904-cd2c-4d3c13fef6a5"
      },
      "execution_count": 36,
      "outputs": [
        {
          "output_type": "execute_result",
          "data": {
            "text/plain": [
              "tensor([9, 0, 0,  ..., 3, 0, 5])"
            ]
          },
          "metadata": {},
          "execution_count": 36
        }
      ]
    },
    {
      "cell_type": "code",
      "source": [
        "plt.imshow(FashionMNIST.data[11,:,:],cmap='gray')"
      ],
      "metadata": {
        "colab": {
          "base_uri": "https://localhost:8080/",
          "height": 370
        },
        "id": "Th93LCkCHKNM",
        "outputId": "7634d429-b0be-4635-fa04-07eb3b5a39ea"
      },
      "execution_count": 51,
      "outputs": [
        {
          "output_type": "execute_result",
          "data": {
            "text/plain": [
              "<matplotlib.image.AxesImage at 0x7fc04b18c390>"
            ]
          },
          "metadata": {},
          "execution_count": 51
        },
        {
          "output_type": "display_data",
          "data": {
            "text/plain": [
              "<Figure size 432x288 with 1 Axes>"
            ],
            "image/svg+xml": "<?xml version=\"1.0\" encoding=\"utf-8\" standalone=\"no\"?>\n<!DOCTYPE svg PUBLIC \"-//W3C//DTD SVG 1.1//EN\"\n  \"http://www.w3.org/Graphics/SVG/1.1/DTD/svg11.dtd\">\n<!-- Created with matplotlib (https://matplotlib.org/) -->\n<svg height=\"248.518125pt\" version=\"1.1\" viewBox=\"0 0 251.565 248.518125\" width=\"251.565pt\" xmlns=\"http://www.w3.org/2000/svg\" xmlns:xlink=\"http://www.w3.org/1999/xlink\">\n <defs>\n  <style type=\"text/css\">\n*{stroke-linecap:butt;stroke-linejoin:round;}\n  </style>\n </defs>\n <g id=\"figure_1\">\n  <g id=\"patch_1\">\n   <path d=\"M 0 248.518125 \nL 251.565 248.518125 \nL 251.565 0 \nL 0 0 \nz\n\" style=\"fill:none;\"/>\n  </g>\n  <g id=\"axes_1\">\n   <g id=\"patch_2\">\n    <path d=\"M 26.925 224.64 \nL 244.365 224.64 \nL 244.365 7.2 \nL 26.925 7.2 \nz\n\" style=\"fill:#ffffff;\"/>\n   </g>\n   <g clip-path=\"url(#pe2d29733f2)\">\n    <image height=\"218\" id=\"image463660c9e0\" transform=\"scale(1 -1)translate(0 -218)\" width=\"218\" x=\"26.925\" xlink:href=\"data:image/png;base64,\niVBORw0KGgoAAAANSUhEUgAAANoAAADaCAYAAADAHVzbAAAABHNCSVQICAgIfAhkiAAACrtJREFUeJzt3ctvjV8bxvGHUlotbVEl6lCpHWetSB0mkk4MpKgYSLQ16JQBcRiIGIiBocREJIiBCSEtqURSdUgliDo2QYsWQbW7TSk9UO9f8Fy37Oe3by++n+mVtffW9vIk+85aa0QQBD+Dv9DcuXNlXlBQIPPs7GyZx+Nxmbe2toZmLS0tcu3vlJKSIvMfP35Eev01a9aEZh0dHXKt9TP/8OFDIh/Jxcjf/QGAfwFFAxxQNMABRQMcUDTAAUUDHFA0wMGoZL749OnTZV5VVSXzdevWyby4uDg0S01NlWt/p69fv8p806ZNMr9y5cp/+XH+U7t375b5kSNHQjPr5/L+/XuZl5SUyLyrq0vmo0aF1+H79+9yrYUnGuCAogEOKBrggKIBDiga4ICiAQ4oGuDAnKOlpaXJvLa2NjSbN2+eXJuZmSnznz/1VrnBwcHQ7Nu3b3KtNRcZOVL/H2Tt20pPTw/N+vv75drLly/LvLS0VOYNDQ0yT6bCwsKE1/b09Mh8zpw5Ml+wYIHMb9y4IXP1O2WOBvwBKBrggKIBDiga4ICiAQ4oGuDA/Hq/srJS5suXLw/NrOO/hoeHZW59hT527NiE11pf36uv54MgCIaGhmSujpt78uSJXLts2TKZX7t2TeYjRoyQuaK2igSBfdzc6NGjE35va631Ffu4ceMSfu8giH6UnsITDXBA0QAHFA1wQNEABxQNcEDRAAcUDXBgztFqampkvm/fvtAsNzdXrrW2sljzoIGBgdDMmqONGTNG5tYWnXv37slcXQu1atUqudb6uVnOnz8vc3WcnfqZ/ooos6yo752XlxdpfTLxRAMcUDTAAUUDHFA0wAFFAxxQNMABRQMcmHM066ocdU3PyZMn5dqsrCyZW0fdqVlXb2+vXGu5ffu2zGOxmMzb2tpCs0WLFsm11nzR2gtXXl4u8w0bNoRmFy9elGstUa7LsvbCWXNV6+/JYs1Oo+CJBjigaIADigY4oGiAA4oGOKBogAOKBjgw52iWc+fOJZQFgb1nLD8/X+bbt28PzXbu3CnXNjY2yjwnJ0fmjx8/lnlxcXFoZv271XVUQWCff2idp3nhwoXQrKysTK5V13QFQfTrjRRrjjZt2rRIr2+dMxoFTzTAAUUDHFA0wAFFAxxQNMABRQMcUDTAgTlHs2YXaqZjzYOs+6hev34t8127doVm1izp4MGDMr9586bMrbMZ1Typr69PrrXmbFHvflOsczyrq6tl3t3dnfB7W5/b2i82YcKEhN/7V14/Cp5ogAOKBjigaIADigY4oGiAA4oGOBgRBEHSvtO0vq61cmvbQpRtDfX19TJfuXKlzK3j7NRnmzhxolxrHbtmXW/07NkzmStTpkyRuXXUXVdXl8zVMX3W2CMzM1PmdXV1Mt+4caPMk4knGuCAogEOKBrggKIBDiga4ICiAQ4oGuAg8nFzSjLnYEGg53DWa+/Zs0fmd+7ckbm1fWjs2LGh2du3b+Vaa3uQtb3Imjepo/A+f/4s17a0tMh8xYoVMldbUay5qnXMXnZ2tsx/J55ogAOKBjigaIADigY4oGiAA4oGOKBogIOk7kf7kzU1Nck8KytL5i9evAjNrOuo1AwuCIJg1qxZMrc8f/48NMvIyJBrp06dKnNrxtff35/wWus4uQcPHsi8qKhI5oo1N7WOquOJBjigaIADigY4oGiAA4oGOKBogAOKBjhI6n60qKLOLqI4cOCAzK3rjdScLS0tTa61znWMx+Myb25ulnlqampoZs2qGhoaZG6tX7JkSWgW5cqnINAzuqii/q3xRAMcUDTAAUUDHFA0wAFFAxxQNMDBX7tNJuqVUJY3b97IfNy4cQm/tnXkW2dnp8wLCwtlrsYHHz9+lGut4+YKCgpkPnv27NCsp6dHrrWOk+vo6JB5bW2tzKurq2UeBU80wAFFAxxQNMABRQMcUDTAAUUDHFA0wMH/9TaZKKLOySynTp2S+f79+0Ozx48fy7XW9qDFixdHWq9mZdZRdtaRbmoLjsX63F+/fpW5dVxdaWmpzI8dOxaa3bp1S649e/aszHmiAQ4oGuCAogEOKBrggKIBDiga4ICiAQ7+2jmaJSUlRebWTObQoUMyr6qqCs2sY9FisZjMv3//LvPBwUGZJ3PGGGUfoLU2PT1d5p8+fZK5Naerq6sLzS5duiTXWniiAQ4oGuCAogEOKBrggKIBDiga4ICiAQ7+2TmaNSezDAwMyPzo0aOh2eHDh+Xa1tZWmWdkZMjcuvYpyhVEkyZNkrl1JuXkyZNDs/Hjx8u11h7Abdu2yfz06dMyjzorU3iiAQ4oGuCAogEOKBrggKIBDiga4ICiAQ7+2vvRoop6v5o6e/Hhw4dy7cuXL2VuzZss6h6xOXPmyLVv376VeW9vr8yLiopCs/b2drl29erVMrfurLP2oyUTTzTAAUUDHFA0wAFFAxxQNMABRQMc/LPbZCxRvwp+9OhRaPbq1Su51rr6yBotWMeyqa/wraPqcnNzZd7X1ydzZebMmTLfsmWLzGtqahJ+72TjiQY4oGiAA4oGOKBogAOKBjigaIADigY4YI4WIupxdMrVq1dlXllZKfPm5maZW589LS0tNLOuhMrJyZF5V1eXzJWKigqZL126VObr169P+L2DQM9OoxzRFwQ80QAXFA1wQNEABxQNcEDRAAcUDXBA0QAHzNESZO1XU3OXM2fOyLVbt26VuTUns2Zd2dnZoVl3d3fCa4NAz+gsmzdvlnlZWVnCrx0E0X5nUfFEAxxQNMABRQMcUDTAAUUDHFA0wAFFAxwwR0tQSkqKzNW+rlu3bsm1nz59knksFpO5da2T2jNmzcms/Wb9/f0yb2lpCc2+fPki1/7JeKIBDiga4ICiAQ4oGuCAogEOKBrggKIBDpijJSiZ5z62trbKfN68eTJ/+vSpzD9//hyaFRQUyLXWnq01a9bIvKmpKTSz7j+z7pU7fvy4zNva2mSeTDzRAAcUDXBA0QAHFA1wQNEABxQNcMDX+wlK5tFkDQ0NMp8/f77Mra0uJSUloZn174rH4zL/9u2bzNXVSz09PXLt0NCQzMvLy2V+//59mV+/fj00s7ZFWeMenmiAA4oGOKBogAOKBjigaIADigY4oGiAA+ZoCbKuABo9enRoNjg4KNfevXtX5nl5eTK39Pb2hmajRuk/CWue1NnZKfP8/PzQLDMzU65dv369zCsqKmRufTYl6tyUJxrggKIBDiga4ICiAQ4oGuCAogEOKBrggDlagqy5yvDwcMKvXV9fL3PreqORI/X/n2rvlDVHs/aEWZ9tYGAgNLPmiwsXLoz03h8+fJD5mDFjQjP1uX8FTzTAAUUDHFA0wAFFAxxQNMABRQMcUDTAAXO0JIkyR7PmSe3t7TIfP368zFNTU0Mz62zFrKysSO+tZlXW/M+a8e3cuVPmO3bskLn1/lHwRAMcUDTAAUUDHFA0wAFFAxxQNMABX+8nSTKvdfr48aPMZ8yYIXN1FJ76+v1XnDhxQuZLliwJzdLS0uTamzdvynzv3r0yt1hjlSh4ogEOKBrggKIBDiga4ICiAQ4oGuCAogEORgRBkLyBD5IiFovJfO3atTKPx+OhWX9/v1zb2Ngo83fv3sn8d7Ku2krm7JMnGuCAogEOKBrggKIBDiga4ICiAQ4oGuDgf7TUzHFiBVBjAAAAAElFTkSuQmCC\" y=\"-6.64\"/>\n   </g>\n   <g id=\"matplotlib.axis_1\">\n    <g id=\"xtick_1\">\n     <g id=\"line2d_1\">\n      <defs>\n       <path d=\"M 0 0 \nL 0 3.5 \n\" id=\"m6e48814de7\" style=\"stroke:#000000;stroke-width:0.8;\"/>\n      </defs>\n      <g>\n       <use style=\"stroke:#000000;stroke-width:0.8;\" x=\"30.807857\" xlink:href=\"#m6e48814de7\" y=\"224.64\"/>\n      </g>\n     </g>\n     <g id=\"text_1\">\n      <!-- 0 -->\n      <defs>\n       <path d=\"M 31.78125 66.40625 \nQ 24.171875 66.40625 20.328125 58.90625 \nQ 16.5 51.421875 16.5 36.375 \nQ 16.5 21.390625 20.328125 13.890625 \nQ 24.171875 6.390625 31.78125 6.390625 \nQ 39.453125 6.390625 43.28125 13.890625 \nQ 47.125 21.390625 47.125 36.375 \nQ 47.125 51.421875 43.28125 58.90625 \nQ 39.453125 66.40625 31.78125 66.40625 \nz\nM 31.78125 74.21875 \nQ 44.046875 74.21875 50.515625 64.515625 \nQ 56.984375 54.828125 56.984375 36.375 \nQ 56.984375 17.96875 50.515625 8.265625 \nQ 44.046875 -1.421875 31.78125 -1.421875 \nQ 19.53125 -1.421875 13.0625 8.265625 \nQ 6.59375 17.96875 6.59375 36.375 \nQ 6.59375 54.828125 13.0625 64.515625 \nQ 19.53125 74.21875 31.78125 74.21875 \nz\n\" id=\"DejaVuSans-48\"/>\n      </defs>\n      <g transform=\"translate(27.626607 239.238437)scale(0.1 -0.1)\">\n       <use xlink:href=\"#DejaVuSans-48\"/>\n      </g>\n     </g>\n    </g>\n    <g id=\"xtick_2\">\n     <g id=\"line2d_2\">\n      <g>\n       <use style=\"stroke:#000000;stroke-width:0.8;\" x=\"69.636429\" xlink:href=\"#m6e48814de7\" y=\"224.64\"/>\n      </g>\n     </g>\n     <g id=\"text_2\">\n      <!-- 5 -->\n      <defs>\n       <path d=\"M 10.796875 72.90625 \nL 49.515625 72.90625 \nL 49.515625 64.59375 \nL 19.828125 64.59375 \nL 19.828125 46.734375 \nQ 21.96875 47.46875 24.109375 47.828125 \nQ 26.265625 48.1875 28.421875 48.1875 \nQ 40.625 48.1875 47.75 41.5 \nQ 54.890625 34.8125 54.890625 23.390625 \nQ 54.890625 11.625 47.5625 5.09375 \nQ 40.234375 -1.421875 26.90625 -1.421875 \nQ 22.3125 -1.421875 17.546875 -0.640625 \nQ 12.796875 0.140625 7.71875 1.703125 \nL 7.71875 11.625 \nQ 12.109375 9.234375 16.796875 8.0625 \nQ 21.484375 6.890625 26.703125 6.890625 \nQ 35.15625 6.890625 40.078125 11.328125 \nQ 45.015625 15.765625 45.015625 23.390625 \nQ 45.015625 31 40.078125 35.4375 \nQ 35.15625 39.890625 26.703125 39.890625 \nQ 22.75 39.890625 18.8125 39.015625 \nQ 14.890625 38.140625 10.796875 36.28125 \nz\n\" id=\"DejaVuSans-53\"/>\n      </defs>\n      <g transform=\"translate(66.455179 239.238437)scale(0.1 -0.1)\">\n       <use xlink:href=\"#DejaVuSans-53\"/>\n      </g>\n     </g>\n    </g>\n    <g id=\"xtick_3\">\n     <g id=\"line2d_3\">\n      <g>\n       <use style=\"stroke:#000000;stroke-width:0.8;\" x=\"108.465\" xlink:href=\"#m6e48814de7\" y=\"224.64\"/>\n      </g>\n     </g>\n     <g id=\"text_3\">\n      <!-- 10 -->\n      <defs>\n       <path d=\"M 12.40625 8.296875 \nL 28.515625 8.296875 \nL 28.515625 63.921875 \nL 10.984375 60.40625 \nL 10.984375 69.390625 \nL 28.421875 72.90625 \nL 38.28125 72.90625 \nL 38.28125 8.296875 \nL 54.390625 8.296875 \nL 54.390625 0 \nL 12.40625 0 \nz\n\" id=\"DejaVuSans-49\"/>\n      </defs>\n      <g transform=\"translate(102.1025 239.238437)scale(0.1 -0.1)\">\n       <use xlink:href=\"#DejaVuSans-49\"/>\n       <use x=\"63.623047\" xlink:href=\"#DejaVuSans-48\"/>\n      </g>\n     </g>\n    </g>\n    <g id=\"xtick_4\">\n     <g id=\"line2d_4\">\n      <g>\n       <use style=\"stroke:#000000;stroke-width:0.8;\" x=\"147.293571\" xlink:href=\"#m6e48814de7\" y=\"224.64\"/>\n      </g>\n     </g>\n     <g id=\"text_4\">\n      <!-- 15 -->\n      <g transform=\"translate(140.931071 239.238437)scale(0.1 -0.1)\">\n       <use xlink:href=\"#DejaVuSans-49\"/>\n       <use x=\"63.623047\" xlink:href=\"#DejaVuSans-53\"/>\n      </g>\n     </g>\n    </g>\n    <g id=\"xtick_5\">\n     <g id=\"line2d_5\">\n      <g>\n       <use style=\"stroke:#000000;stroke-width:0.8;\" x=\"186.122143\" xlink:href=\"#m6e48814de7\" y=\"224.64\"/>\n      </g>\n     </g>\n     <g id=\"text_5\">\n      <!-- 20 -->\n      <defs>\n       <path d=\"M 19.1875 8.296875 \nL 53.609375 8.296875 \nL 53.609375 0 \nL 7.328125 0 \nL 7.328125 8.296875 \nQ 12.9375 14.109375 22.625 23.890625 \nQ 32.328125 33.6875 34.8125 36.53125 \nQ 39.546875 41.84375 41.421875 45.53125 \nQ 43.3125 49.21875 43.3125 52.78125 \nQ 43.3125 58.59375 39.234375 62.25 \nQ 35.15625 65.921875 28.609375 65.921875 \nQ 23.96875 65.921875 18.8125 64.3125 \nQ 13.671875 62.703125 7.8125 59.421875 \nL 7.8125 69.390625 \nQ 13.765625 71.78125 18.9375 73 \nQ 24.125 74.21875 28.421875 74.21875 \nQ 39.75 74.21875 46.484375 68.546875 \nQ 53.21875 62.890625 53.21875 53.421875 \nQ 53.21875 48.921875 51.53125 44.890625 \nQ 49.859375 40.875 45.40625 35.40625 \nQ 44.1875 33.984375 37.640625 27.21875 \nQ 31.109375 20.453125 19.1875 8.296875 \nz\n\" id=\"DejaVuSans-50\"/>\n      </defs>\n      <g transform=\"translate(179.759643 239.238437)scale(0.1 -0.1)\">\n       <use xlink:href=\"#DejaVuSans-50\"/>\n       <use x=\"63.623047\" xlink:href=\"#DejaVuSans-48\"/>\n      </g>\n     </g>\n    </g>\n    <g id=\"xtick_6\">\n     <g id=\"line2d_6\">\n      <g>\n       <use style=\"stroke:#000000;stroke-width:0.8;\" x=\"224.950714\" xlink:href=\"#m6e48814de7\" y=\"224.64\"/>\n      </g>\n     </g>\n     <g id=\"text_6\">\n      <!-- 25 -->\n      <g transform=\"translate(218.588214 239.238437)scale(0.1 -0.1)\">\n       <use xlink:href=\"#DejaVuSans-50\"/>\n       <use x=\"63.623047\" xlink:href=\"#DejaVuSans-53\"/>\n      </g>\n     </g>\n    </g>\n   </g>\n   <g id=\"matplotlib.axis_2\">\n    <g id=\"ytick_1\">\n     <g id=\"line2d_7\">\n      <defs>\n       <path d=\"M 0 0 \nL -3.5 0 \n\" id=\"m282d42d39c\" style=\"stroke:#000000;stroke-width:0.8;\"/>\n      </defs>\n      <g>\n       <use style=\"stroke:#000000;stroke-width:0.8;\" x=\"26.925\" xlink:href=\"#m282d42d39c\" y=\"11.082857\"/>\n      </g>\n     </g>\n     <g id=\"text_7\">\n      <!-- 0 -->\n      <g transform=\"translate(13.5625 14.882076)scale(0.1 -0.1)\">\n       <use xlink:href=\"#DejaVuSans-48\"/>\n      </g>\n     </g>\n    </g>\n    <g id=\"ytick_2\">\n     <g id=\"line2d_8\">\n      <g>\n       <use style=\"stroke:#000000;stroke-width:0.8;\" x=\"26.925\" xlink:href=\"#m282d42d39c\" y=\"49.911429\"/>\n      </g>\n     </g>\n     <g id=\"text_8\">\n      <!-- 5 -->\n      <g transform=\"translate(13.5625 53.710647)scale(0.1 -0.1)\">\n       <use xlink:href=\"#DejaVuSans-53\"/>\n      </g>\n     </g>\n    </g>\n    <g id=\"ytick_3\">\n     <g id=\"line2d_9\">\n      <g>\n       <use style=\"stroke:#000000;stroke-width:0.8;\" x=\"26.925\" xlink:href=\"#m282d42d39c\" y=\"88.74\"/>\n      </g>\n     </g>\n     <g id=\"text_9\">\n      <!-- 10 -->\n      <g transform=\"translate(7.2 92.539219)scale(0.1 -0.1)\">\n       <use xlink:href=\"#DejaVuSans-49\"/>\n       <use x=\"63.623047\" xlink:href=\"#DejaVuSans-48\"/>\n      </g>\n     </g>\n    </g>\n    <g id=\"ytick_4\">\n     <g id=\"line2d_10\">\n      <g>\n       <use style=\"stroke:#000000;stroke-width:0.8;\" x=\"26.925\" xlink:href=\"#m282d42d39c\" y=\"127.568571\"/>\n      </g>\n     </g>\n     <g id=\"text_10\">\n      <!-- 15 -->\n      <g transform=\"translate(7.2 131.36779)scale(0.1 -0.1)\">\n       <use xlink:href=\"#DejaVuSans-49\"/>\n       <use x=\"63.623047\" xlink:href=\"#DejaVuSans-53\"/>\n      </g>\n     </g>\n    </g>\n    <g id=\"ytick_5\">\n     <g id=\"line2d_11\">\n      <g>\n       <use style=\"stroke:#000000;stroke-width:0.8;\" x=\"26.925\" xlink:href=\"#m282d42d39c\" y=\"166.397143\"/>\n      </g>\n     </g>\n     <g id=\"text_11\">\n      <!-- 20 -->\n      <g transform=\"translate(7.2 170.196362)scale(0.1 -0.1)\">\n       <use xlink:href=\"#DejaVuSans-50\"/>\n       <use x=\"63.623047\" xlink:href=\"#DejaVuSans-48\"/>\n      </g>\n     </g>\n    </g>\n    <g id=\"ytick_6\">\n     <g id=\"line2d_12\">\n      <g>\n       <use style=\"stroke:#000000;stroke-width:0.8;\" x=\"26.925\" xlink:href=\"#m282d42d39c\" y=\"205.225714\"/>\n      </g>\n     </g>\n     <g id=\"text_12\">\n      <!-- 25 -->\n      <g transform=\"translate(7.2 209.024933)scale(0.1 -0.1)\">\n       <use xlink:href=\"#DejaVuSans-50\"/>\n       <use x=\"63.623047\" xlink:href=\"#DejaVuSans-53\"/>\n      </g>\n     </g>\n    </g>\n   </g>\n   <g id=\"patch_3\">\n    <path d=\"M 26.925 224.64 \nL 26.925 7.2 \n\" style=\"fill:none;stroke:#000000;stroke-linecap:square;stroke-linejoin:miter;stroke-width:0.8;\"/>\n   </g>\n   <g id=\"patch_4\">\n    <path d=\"M 244.365 224.64 \nL 244.365 7.2 \n\" style=\"fill:none;stroke:#000000;stroke-linecap:square;stroke-linejoin:miter;stroke-width:0.8;\"/>\n   </g>\n   <g id=\"patch_5\">\n    <path d=\"M 26.925 224.64 \nL 244.365 224.64 \n\" style=\"fill:none;stroke:#000000;stroke-linecap:square;stroke-linejoin:miter;stroke-width:0.8;\"/>\n   </g>\n   <g id=\"patch_6\">\n    <path d=\"M 26.925 7.2 \nL 244.365 7.2 \n\" style=\"fill:none;stroke:#000000;stroke-linecap:square;stroke-linejoin:miter;stroke-width:0.8;\"/>\n   </g>\n  </g>\n </g>\n <defs>\n  <clipPath id=\"pe2d29733f2\">\n   <rect height=\"217.44\" width=\"217.44\" x=\"26.925\" y=\"7.2\"/>\n  </clipPath>\n </defs>\n</svg>\n"
          },
          "metadata": {
            "needs_background": "light"
          }
        }
      ]
    },
    {
      "cell_type": "code",
      "source": [
        "FashionMNIST[11]"
      ],
      "metadata": {
        "colab": {
          "base_uri": "https://localhost:8080/"
        },
        "id": "pUgZUFi9HnaT",
        "outputId": "eb974ed8-1c59-4011-c796-64461b09db1d"
      },
      "execution_count": 43,
      "outputs": [
        {
          "output_type": "execute_result",
          "data": {
            "text/plain": [
              "(<PIL.Image.Image image mode=L size=28x28 at 0x7FC04B215250>, 9)"
            ]
          },
          "metadata": {},
          "execution_count": 43
        }
      ]
    },
    {
      "cell_type": "code",
      "source": [
        "FashionMNIST[11][0]"
      ],
      "metadata": {
        "colab": {
          "base_uri": "https://localhost:8080/",
          "height": 45
        },
        "id": "SseR0t2aHxwq",
        "outputId": "91484344-de6c-4c90-e84f-58851016a973"
      },
      "execution_count": 44,
      "outputs": [
        {
          "output_type": "execute_result",
          "data": {
            "image/png": "[encoded data removed]",
            "text/plain": [
              "<PIL.Image.Image image mode=L size=28x28 at 0x7FC04B6F25D0>"
            ]
          },
          "metadata": {},
          "execution_count": 44
        }
      ]
    },
    {
      "cell_type": "code",
      "source": [
        "FashionMNIST[11][1]"
      ],
      "metadata": {
        "colab": {
          "base_uri": "https://localhost:8080/"
        },
        "id": "oyPWGlj3H2CS",
        "outputId": "fd594eef-d42b-43cd-f523-090176fe27a7"
      },
      "execution_count": 49,
      "outputs": [
        {
          "output_type": "execute_result",
          "data": {
            "text/plain": [
              "9"
            ]
          },
          "metadata": {},
          "execution_count": 49
        }
      ]
    },
    {
      "cell_type": "code",
      "source": [
        "data = FashionMNIST.data\n",
        "labels = FashionMNIST.targets"
      ],
      "metadata": {
        "id": "aOPw_pv3JUK0"
      },
      "execution_count": 59,
      "outputs": []
    },
    {
      "cell_type": "code",
      "source": [
        "dataNorm = data / data.max()\n",
        "dataNorm = 2 * dataNorm - 1"
      ],
      "metadata": {
        "id": "CsqIACV4I1CT"
      },
      "execution_count": 61,
      "outputs": []
    },
    {
      "cell_type": "code",
      "source": [
        "dataT = torch.FloatTensor(dataNorm)"
      ],
      "metadata": {
        "id": "v9g879DiJlFr"
      },
      "execution_count": 64,
      "outputs": []
    },
    {
      "cell_type": "code",
      "metadata": {
        "id": "yfZKI3EXBHL5"
      },
      "source": [
        "batchsize = 100"
      ],
      "execution_count": null,
      "outputs": []
    },
    {
      "cell_type": "markdown",
      "metadata": {
        "id": "7vvglaJyCMpO"
      },
      "source": [
        "# Create classes for the discriminator and generator"
      ]
    }
  ]
}