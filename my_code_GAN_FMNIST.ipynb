{
  "nbformat": 4,
  "nbformat_minor": 0,
  "metadata": {
    "colab": {
      "name": "my code GAN FMNIST.ipynb",
      "provenance": [],
      "collapsed_sections": [],
      "include_colab_link": true
    },
    "kernelspec": {
      "name": "python3",
      "display_name": "Python 3"
    },
    "language_info": {
      "name": "python"
    },
    "widgets": {
      "application/vnd.jupyter.widget-state+json": {
        "e36704679b71400283bbc4fd01e7a8c8": {
          "model_module": "@jupyter-widgets/controls",
          "model_name": "HBoxModel",
          "model_module_version": "1.5.0",
          "state": {
            "_view_name": "HBoxView",
            "_dom_classes": [],
            "_model_name": "HBoxModel",
            "_view_module": "@jupyter-widgets/controls",
            "_model_module_version": "1.5.0",
            "_view_count": null,
            "_view_module_version": "1.5.0",
            "box_style": "",
            "layout": "IPY_MODEL_b479e44e75704551a1e5d0d277137f16",
            "_model_module": "@jupyter-widgets/controls",
            "children": [
              "IPY_MODEL_01831f76c31d4a6d8c823d6f00d272cd",
              "IPY_MODEL_08fcb8a976b6418683574d592d41dcca",
              "IPY_MODEL_7c49d9f876504a06ba52dc07ce812720"
            ]
          }
        },
        "b479e44e75704551a1e5d0d277137f16": {
          "model_module": "@jupyter-widgets/base",
          "model_name": "LayoutModel",
          "model_module_version": "1.2.0",
          "state": {
            "_view_name": "LayoutView",
            "grid_template_rows": null,
            "right": null,
            "justify_content": null,
            "_view_module": "@jupyter-widgets/base",
            "overflow": null,
            "_model_module_version": "1.2.0",
            "_view_count": null,
            "flex_flow": null,
            "width": null,
            "min_width": null,
            "border": null,
            "align_items": null,
            "bottom": null,
            "_model_module": "@jupyter-widgets/base",
            "top": null,
            "grid_column": null,
            "overflow_y": null,
            "overflow_x": null,
            "grid_auto_flow": null,
            "grid_area": null,
            "grid_template_columns": null,
            "flex": null,
            "_model_name": "LayoutModel",
            "justify_items": null,
            "grid_row": null,
            "max_height": null,
            "align_content": null,
            "visibility": null,
            "align_self": null,
            "height": null,
            "min_height": null,
            "padding": null,
            "grid_auto_rows": null,
            "grid_gap": null,
            "max_width": null,
            "order": null,
            "_view_module_version": "1.2.0",
            "grid_template_areas": null,
            "object_position": null,
            "object_fit": null,
            "grid_auto_columns": null,
            "margin": null,
            "display": null,
            "left": null
          }
        },
        "01831f76c31d4a6d8c823d6f00d272cd": {
          "model_module": "@jupyter-widgets/controls",
          "model_name": "HTMLModel",
          "model_module_version": "1.5.0",
          "state": {
            "_view_name": "HTMLView",
            "style": "IPY_MODEL_b192cc6b7dbe470b9e136d53084018bf",
            "_dom_classes": [],
            "description": "",
            "_model_name": "HTMLModel",
            "placeholder": "​",
            "_view_module": "@jupyter-widgets/controls",
            "_model_module_version": "1.5.0",
            "value": "",
            "_view_count": null,
            "_view_module_version": "1.5.0",
            "description_tooltip": null,
            "_model_module": "@jupyter-widgets/controls",
            "layout": "IPY_MODEL_bc7c12ef50c74a43861b6d18e8bb5c65"
          }
        },
        "08fcb8a976b6418683574d592d41dcca": {
          "model_module": "@jupyter-widgets/controls",
          "model_name": "FloatProgressModel",
          "model_module_version": "1.5.0",
          "state": {
            "_view_name": "ProgressView",
            "style": "IPY_MODEL_20a77be9d67144f6b9ad9ab3e71cb038",
            "_dom_classes": [],
            "description": "",
            "_model_name": "FloatProgressModel",
            "bar_style": "success",
            "max": 26421880,
            "_view_module": "@jupyter-widgets/controls",
            "_model_module_version": "1.5.0",
            "value": 26421880,
            "_view_count": null,
            "_view_module_version": "1.5.0",
            "orientation": "horizontal",
            "min": 0,
            "description_tooltip": null,
            "_model_module": "@jupyter-widgets/controls",
            "layout": "IPY_MODEL_f5c1356f3cff417284c58a9ef92b7b1e"
          }
        },
        "7c49d9f876504a06ba52dc07ce812720": {
          "model_module": "@jupyter-widgets/controls",
          "model_name": "HTMLModel",
          "model_module_version": "1.5.0",
          "state": {
            "_view_name": "HTMLView",
            "style": "IPY_MODEL_2e8e77f05f6b4fb39106285226880ca4",
            "_dom_classes": [],
            "description": "",
            "_model_name": "HTMLModel",
            "placeholder": "​",
            "_view_module": "@jupyter-widgets/controls",
            "_model_module_version": "1.5.0",
            "value": " 26422272/? [00:01&lt;00:00, 22364298.14it/s]",
            "_view_count": null,
            "_view_module_version": "1.5.0",
            "description_tooltip": null,
            "_model_module": "@jupyter-widgets/controls",
            "layout": "IPY_MODEL_03d4ef92dc714807a4b49018b2c2297c"
          }
        },
        "b192cc6b7dbe470b9e136d53084018bf": {
          "model_module": "@jupyter-widgets/controls",
          "model_name": "DescriptionStyleModel",
          "model_module_version": "1.5.0",
          "state": {
            "_view_name": "StyleView",
            "_model_name": "DescriptionStyleModel",
            "description_width": "",
            "_view_module": "@jupyter-widgets/base",
            "_model_module_version": "1.5.0",
            "_view_count": null,
            "_view_module_version": "1.2.0",
            "_model_module": "@jupyter-widgets/controls"
          }
        },
        "bc7c12ef50c74a43861b6d18e8bb5c65": {
          "model_module": "@jupyter-widgets/base",
          "model_name": "LayoutModel",
          "model_module_version": "1.2.0",
          "state": {
            "_view_name": "LayoutView",
            "grid_template_rows": null,
            "right": null,
            "justify_content": null,
            "_view_module": "@jupyter-widgets/base",
            "overflow": null,
            "_model_module_version": "1.2.0",
            "_view_count": null,
            "flex_flow": null,
            "width": null,
            "min_width": null,
            "border": null,
            "align_items": null,
            "bottom": null,
            "_model_module": "@jupyter-widgets/base",
            "top": null,
            "grid_column": null,
            "overflow_y": null,
            "overflow_x": null,
            "grid_auto_flow": null,
            "grid_area": null,
            "grid_template_columns": null,
            "flex": null,
            "_model_name": "LayoutModel",
            "justify_items": null,
            "grid_row": null,
            "max_height": null,
            "align_content": null,
            "visibility": null,
            "align_self": null,
            "height": null,
            "min_height": null,
            "padding": null,
            "grid_auto_rows": null,
            "grid_gap": null,
            "max_width": null,
            "order": null,
            "_view_module_version": "1.2.0",
            "grid_template_areas": null,
            "object_position": null,
            "object_fit": null,
            "grid_auto_columns": null,
            "margin": null,
            "display": null,
            "left": null
          }
        },
        "20a77be9d67144f6b9ad9ab3e71cb038": {
          "model_module": "@jupyter-widgets/controls",
          "model_name": "ProgressStyleModel",
          "model_module_version": "1.5.0",
          "state": {
            "_view_name": "StyleView",
            "_model_name": "ProgressStyleModel",
            "description_width": "",
            "_view_module": "@jupyter-widgets/base",
            "_model_module_version": "1.5.0",
            "_view_count": null,
            "_view_module_version": "1.2.0",
            "bar_color": null,
            "_model_module": "@jupyter-widgets/controls"
          }
        },
        "f5c1356f3cff417284c58a9ef92b7b1e": {
          "model_module": "@jupyter-widgets/base",
          "model_name": "LayoutModel",
          "model_module_version": "1.2.0",
          "state": {
            "_view_name": "LayoutView",
            "grid_template_rows": null,
            "right": null,
            "justify_content": null,
            "_view_module": "@jupyter-widgets/base",
            "overflow": null,
            "_model_module_version": "1.2.0",
            "_view_count": null,
            "flex_flow": null,
            "width": null,
            "min_width": null,
            "border": null,
            "align_items": null,
            "bottom": null,
            "_model_module": "@jupyter-widgets/base",
            "top": null,
            "grid_column": null,
            "overflow_y": null,
            "overflow_x": null,
            "grid_auto_flow": null,
            "grid_area": null,
            "grid_template_columns": null,
            "flex": null,
            "_model_name": "LayoutModel",
            "justify_items": null,
            "grid_row": null,
            "max_height": null,
            "align_content": null,
            "visibility": null,
            "align_self": null,
            "height": null,
            "min_height": null,
            "padding": null,
            "grid_auto_rows": null,
            "grid_gap": null,
            "max_width": null,
            "order": null,
            "_view_module_version": "1.2.0",
            "grid_template_areas": null,
            "object_position": null,
            "object_fit": null,
            "grid_auto_columns": null,
            "margin": null,
            "display": null,
            "left": null
          }
        },
        "2e8e77f05f6b4fb39106285226880ca4": {
          "model_module": "@jupyter-widgets/controls",
          "model_name": "DescriptionStyleModel",
          "model_module_version": "1.5.0",
          "state": {
            "_view_name": "StyleView",
            "_model_name": "DescriptionStyleModel",
            "description_width": "",
            "_view_module": "@jupyter-widgets/base",
            "_model_module_version": "1.5.0",
            "_view_count": null,
            "_view_module_version": "1.2.0",
            "_model_module": "@jupyter-widgets/controls"
          }
        },
        "03d4ef92dc714807a4b49018b2c2297c": {
          "model_module": "@jupyter-widgets/base",
          "model_name": "LayoutModel",
          "model_module_version": "1.2.0",
          "state": {
            "_view_name": "LayoutView",
            "grid_template_rows": null,
            "right": null,
            "justify_content": null,
            "_view_module": "@jupyter-widgets/base",
            "overflow": null,
            "_model_module_version": "1.2.0",
            "_view_count": null,
            "flex_flow": null,
            "width": null,
            "min_width": null,
            "border": null,
            "align_items": null,
            "bottom": null,
            "_model_module": "@jupyter-widgets/base",
            "top": null,
            "grid_column": null,
            "overflow_y": null,
            "overflow_x": null,
            "grid_auto_flow": null,
            "grid_area": null,
            "grid_template_columns": null,
            "flex": null,
            "_model_name": "LayoutModel",
            "justify_items": null,
            "grid_row": null,
            "max_height": null,
            "align_content": null,
            "visibility": null,
            "align_self": null,
            "height": null,
            "min_height": null,
            "padding": null,
            "grid_auto_rows": null,
            "grid_gap": null,
            "max_width": null,
            "order": null,
            "_view_module_version": "1.2.0",
            "grid_template_areas": null,
            "object_position": null,
            "object_fit": null,
            "grid_auto_columns": null,
            "margin": null,
            "display": null,
            "left": null
          }
        },
        "ff58b92511c640c78bd1beb4665d8093": {
          "model_module": "@jupyter-widgets/controls",
          "model_name": "HBoxModel",
          "model_module_version": "1.5.0",
          "state": {
            "_view_name": "HBoxView",
            "_dom_classes": [],
            "_model_name": "HBoxModel",
            "_view_module": "@jupyter-widgets/controls",
            "_model_module_version": "1.5.0",
            "_view_count": null,
            "_view_module_version": "1.5.0",
            "box_style": "",
            "layout": "IPY_MODEL_ec1942bfd75c4bf4964dca509cae1841",
            "_model_module": "@jupyter-widgets/controls",
            "children": [
              "IPY_MODEL_12e3c45119b44c558d4aa7a0d31ed9b7",
              "IPY_MODEL_88a7d1c9fc81424fa562b0496247ed59",
              "IPY_MODEL_f24a9e5a68ff4e29ad09624a4f9c5ebe"
            ]
          }
        },
        "ec1942bfd75c4bf4964dca509cae1841": {
          "model_module": "@jupyter-widgets/base",
          "model_name": "LayoutModel",
          "model_module_version": "1.2.0",
          "state": {
            "_view_name": "LayoutView",
            "grid_template_rows": null,
            "right": null,
            "justify_content": null,
            "_view_module": "@jupyter-widgets/base",
            "overflow": null,
            "_model_module_version": "1.2.0",
            "_view_count": null,
            "flex_flow": null,
            "width": null,
            "min_width": null,
            "border": null,
            "align_items": null,
            "bottom": null,
            "_model_module": "@jupyter-widgets/base",
            "top": null,
            "grid_column": null,
            "overflow_y": null,
            "overflow_x": null,
            "grid_auto_flow": null,
            "grid_area": null,
            "grid_template_columns": null,
            "flex": null,
            "_model_name": "LayoutModel",
            "justify_items": null,
            "grid_row": null,
            "max_height": null,
            "align_content": null,
            "visibility": null,
            "align_self": null,
            "height": null,
            "min_height": null,
            "padding": null,
            "grid_auto_rows": null,
            "grid_gap": null,
            "max_width": null,
            "order": null,
            "_view_module_version": "1.2.0",
            "grid_template_areas": null,
            "object_position": null,
            "object_fit": null,
            "grid_auto_columns": null,
            "margin": null,
            "display": null,
            "left": null
          }
        },
        "12e3c45119b44c558d4aa7a0d31ed9b7": {
          "model_module": "@jupyter-widgets/controls",
          "model_name": "HTMLModel",
          "model_module_version": "1.5.0",
          "state": {
            "_view_name": "HTMLView",
            "style": "IPY_MODEL_ff0f6258f45540e28e42a4aca7f86975",
            "_dom_classes": [],
            "description": "",
            "_model_name": "HTMLModel",
            "placeholder": "​",
            "_view_module": "@jupyter-widgets/controls",
            "_model_module_version": "1.5.0",
            "value": "",
            "_view_count": null,
            "_view_module_version": "1.5.0",
            "description_tooltip": null,
            "_model_module": "@jupyter-widgets/controls",
            "layout": "IPY_MODEL_10f82cba488f4c398ff4061a711ed231"
          }
        },
        "88a7d1c9fc81424fa562b0496247ed59": {
          "model_module": "@jupyter-widgets/controls",
          "model_name": "FloatProgressModel",
          "model_module_version": "1.5.0",
          "state": {
            "_view_name": "ProgressView",
            "style": "IPY_MODEL_531d036d73d641a595145503713c54b9",
            "_dom_classes": [],
            "description": "",
            "_model_name": "FloatProgressModel",
            "bar_style": "success",
            "max": 29515,
            "_view_module": "@jupyter-widgets/controls",
            "_model_module_version": "1.5.0",
            "value": 29515,
            "_view_count": null,
            "_view_module_version": "1.5.0",
            "orientation": "horizontal",
            "min": 0,
            "description_tooltip": null,
            "_model_module": "@jupyter-widgets/controls",
            "layout": "IPY_MODEL_f4381b894b8d47a2a4e165bd23e6f81a"
          }
        },
        "f24a9e5a68ff4e29ad09624a4f9c5ebe": {
          "model_module": "@jupyter-widgets/controls",
          "model_name": "HTMLModel",
          "model_module_version": "1.5.0",
          "state": {
            "_view_name": "HTMLView",
            "style": "IPY_MODEL_ac1b580718654638a638951464c2e2dd",
            "_dom_classes": [],
            "description": "",
            "_model_name": "HTMLModel",
            "placeholder": "​",
            "_view_module": "@jupyter-widgets/controls",
            "_model_module_version": "1.5.0",
            "value": " 29696/? [00:00&lt;00:00, 134150.05it/s]",
            "_view_count": null,
            "_view_module_version": "1.5.0",
            "description_tooltip": null,
            "_model_module": "@jupyter-widgets/controls",
            "layout": "IPY_MODEL_ee9734579d1a489c9e9d1da0204e0f2a"
          }
        },
        "ff0f6258f45540e28e42a4aca7f86975": {
          "model_module": "@jupyter-widgets/controls",
          "model_name": "DescriptionStyleModel",
          "model_module_version": "1.5.0",
          "state": {
            "_view_name": "StyleView",
            "_model_name": "DescriptionStyleModel",
            "description_width": "",
            "_view_module": "@jupyter-widgets/base",
            "_model_module_version": "1.5.0",
            "_view_count": null,
            "_view_module_version": "1.2.0",
            "_model_module": "@jupyter-widgets/controls"
          }
        },
        "10f82cba488f4c398ff4061a711ed231": {
          "model_module": "@jupyter-widgets/base",
          "model_name": "LayoutModel",
          "model_module_version": "1.2.0",
          "state": {
            "_view_name": "LayoutView",
            "grid_template_rows": null,
            "right": null,
            "justify_content": null,
            "_view_module": "@jupyter-widgets/base",
            "overflow": null,
            "_model_module_version": "1.2.0",
            "_view_count": null,
            "flex_flow": null,
            "width": null,
            "min_width": null,
            "border": null,
            "align_items": null,
            "bottom": null,
            "_model_module": "@jupyter-widgets/base",
            "top": null,
            "grid_column": null,
            "overflow_y": null,
            "overflow_x": null,
            "grid_auto_flow": null,
            "grid_area": null,
            "grid_template_columns": null,
            "flex": null,
            "_model_name": "LayoutModel",
            "justify_items": null,
            "grid_row": null,
            "max_height": null,
            "align_content": null,
            "visibility": null,
            "align_self": null,
            "height": null,
            "min_height": null,
            "padding": null,
            "grid_auto_rows": null,
            "grid_gap": null,
            "max_width": null,
            "order": null,
            "_view_module_version": "1.2.0",
            "grid_template_areas": null,
            "object_position": null,
            "object_fit": null,
            "grid_auto_columns": null,
            "margin": null,
            "display": null,
            "left": null
          }
        },
        "531d036d73d641a595145503713c54b9": {
          "model_module": "@jupyter-widgets/controls",
          "model_name": "ProgressStyleModel",
          "model_module_version": "1.5.0",
          "state": {
            "_view_name": "StyleView",
            "_model_name": "ProgressStyleModel",
            "description_width": "",
            "_view_module": "@jupyter-widgets/base",
            "_model_module_version": "1.5.0",
            "_view_count": null,
            "_view_module_version": "1.2.0",
            "bar_color": null,
            "_model_module": "@jupyter-widgets/controls"
          }
        },
        "f4381b894b8d47a2a4e165bd23e6f81a": {
          "model_module": "@jupyter-widgets/base",
          "model_name": "LayoutModel",
          "model_module_version": "1.2.0",
          "state": {
            "_view_name": "LayoutView",
            "grid_template_rows": null,
            "right": null,
            "justify_content": null,
            "_view_module": "@jupyter-widgets/base",
            "overflow": null,
            "_model_module_version": "1.2.0",
            "_view_count": null,
            "flex_flow": null,
            "width": null,
            "min_width": null,
            "border": null,
            "align_items": null,
            "bottom": null,
            "_model_module": "@jupyter-widgets/base",
            "top": null,
            "grid_column": null,
            "overflow_y": null,
            "overflow_x": null,
            "grid_auto_flow": null,
            "grid_area": null,
            "grid_template_columns": null,
            "flex": null,
            "_model_name": "LayoutModel",
            "justify_items": null,
            "grid_row": null,
            "max_height": null,
            "align_content": null,
            "visibility": null,
            "align_self": null,
            "height": null,
            "min_height": null,
            "padding": null,
            "grid_auto_rows": null,
            "grid_gap": null,
            "max_width": null,
            "order": null,
            "_view_module_version": "1.2.0",
            "grid_template_areas": null,
            "object_position": null,
            "object_fit": null,
            "grid_auto_columns": null,
            "margin": null,
            "display": null,
            "left": null
          }
        },
        "ac1b580718654638a638951464c2e2dd": {
          "model_module": "@jupyter-widgets/controls",
          "model_name": "DescriptionStyleModel",
          "model_module_version": "1.5.0",
          "state": {
            "_view_name": "StyleView",
            "_model_name": "DescriptionStyleModel",
            "description_width": "",
            "_view_module": "@jupyter-widgets/base",
            "_model_module_version": "1.5.0",
            "_view_count": null,
            "_view_module_version": "1.2.0",
            "_model_module": "@jupyter-widgets/controls"
          }
        },
        "ee9734579d1a489c9e9d1da0204e0f2a": {
          "model_module": "@jupyter-widgets/base",
          "model_name": "LayoutModel",
          "model_module_version": "1.2.0",
          "state": {
            "_view_name": "LayoutView",
            "grid_template_rows": null,
            "right": null,
            "justify_content": null,
            "_view_module": "@jupyter-widgets/base",
            "overflow": null,
            "_model_module_version": "1.2.0",
            "_view_count": null,
            "flex_flow": null,
            "width": null,
            "min_width": null,
            "border": null,
            "align_items": null,
            "bottom": null,
            "_model_module": "@jupyter-widgets/base",
            "top": null,
            "grid_column": null,
            "overflow_y": null,
            "overflow_x": null,
            "grid_auto_flow": null,
            "grid_area": null,
            "grid_template_columns": null,
            "flex": null,
            "_model_name": "LayoutModel",
            "justify_items": null,
            "grid_row": null,
            "max_height": null,
            "align_content": null,
            "visibility": null,
            "align_self": null,
            "height": null,
            "min_height": null,
            "padding": null,
            "grid_auto_rows": null,
            "grid_gap": null,
            "max_width": null,
            "order": null,
            "_view_module_version": "1.2.0",
            "grid_template_areas": null,
            "object_position": null,
            "object_fit": null,
            "grid_auto_columns": null,
            "margin": null,
            "display": null,
            "left": null
          }
        },
        "10bae99d9d98447d858bd52775016db9": {
          "model_module": "@jupyter-widgets/controls",
          "model_name": "HBoxModel",
          "model_module_version": "1.5.0",
          "state": {
            "_view_name": "HBoxView",
            "_dom_classes": [],
            "_model_name": "HBoxModel",
            "_view_module": "@jupyter-widgets/controls",
            "_model_module_version": "1.5.0",
            "_view_count": null,
            "_view_module_version": "1.5.0",
            "box_style": "",
            "layout": "IPY_MODEL_436888f5ca964f05bbfbec1c4e0062f9",
            "_model_module": "@jupyter-widgets/controls",
            "children": [
              "IPY_MODEL_35b51f95693046709ca8b22c18336dc7",
              "IPY_MODEL_73841d1106e446228846c7f8a14340e1",
              "IPY_MODEL_87d2cde8e97f46f592e98e18ad9f33a2"
            ]
          }
        },
        "436888f5ca964f05bbfbec1c4e0062f9": {
          "model_module": "@jupyter-widgets/base",
          "model_name": "LayoutModel",
          "model_module_version": "1.2.0",
          "state": {
            "_view_name": "LayoutView",
            "grid_template_rows": null,
            "right": null,
            "justify_content": null,
            "_view_module": "@jupyter-widgets/base",
            "overflow": null,
            "_model_module_version": "1.2.0",
            "_view_count": null,
            "flex_flow": null,
            "width": null,
            "min_width": null,
            "border": null,
            "align_items": null,
            "bottom": null,
            "_model_module": "@jupyter-widgets/base",
            "top": null,
            "grid_column": null,
            "overflow_y": null,
            "overflow_x": null,
            "grid_auto_flow": null,
            "grid_area": null,
            "grid_template_columns": null,
            "flex": null,
            "_model_name": "LayoutModel",
            "justify_items": null,
            "grid_row": null,
            "max_height": null,
            "align_content": null,
            "visibility": null,
            "align_self": null,
            "height": null,
            "min_height": null,
            "padding": null,
            "grid_auto_rows": null,
            "grid_gap": null,
            "max_width": null,
            "order": null,
            "_view_module_version": "1.2.0",
            "grid_template_areas": null,
            "object_position": null,
            "object_fit": null,
            "grid_auto_columns": null,
            "margin": null,
            "display": null,
            "left": null
          }
        },
        "35b51f95693046709ca8b22c18336dc7": {
          "model_module": "@jupyter-widgets/controls",
          "model_name": "HTMLModel",
          "model_module_version": "1.5.0",
          "state": {
            "_view_name": "HTMLView",
            "style": "IPY_MODEL_89fda01f06514baf9518f43d4e48a7da",
            "_dom_classes": [],
            "description": "",
            "_model_name": "HTMLModel",
            "placeholder": "​",
            "_view_module": "@jupyter-widgets/controls",
            "_model_module_version": "1.5.0",
            "value": "",
            "_view_count": null,
            "_view_module_version": "1.5.0",
            "description_tooltip": null,
            "_model_module": "@jupyter-widgets/controls",
            "layout": "IPY_MODEL_244a1b814379418c966f00795b40f0da"
          }
        },
        "73841d1106e446228846c7f8a14340e1": {
          "model_module": "@jupyter-widgets/controls",
          "model_name": "FloatProgressModel",
          "model_module_version": "1.5.0",
          "state": {
            "_view_name": "ProgressView",
            "style": "IPY_MODEL_7472ef7e841645b4a960dd1aef16267e",
            "_dom_classes": [],
            "description": "",
            "_model_name": "FloatProgressModel",
            "bar_style": "success",
            "max": 4422102,
            "_view_module": "@jupyter-widgets/controls",
            "_model_module_version": "1.5.0",
            "value": 4422102,
            "_view_count": null,
            "_view_module_version": "1.5.0",
            "orientation": "horizontal",
            "min": 0,
            "description_tooltip": null,
            "_model_module": "@jupyter-widgets/controls",
            "layout": "IPY_MODEL_72956eb584f94a4f93a7459574e2179f"
          }
        },
        "87d2cde8e97f46f592e98e18ad9f33a2": {
          "model_module": "@jupyter-widgets/controls",
          "model_name": "HTMLModel",
          "model_module_version": "1.5.0",
          "state": {
            "_view_name": "HTMLView",
            "style": "IPY_MODEL_a1f70db7b6054d00b49e37cd01787010",
            "_dom_classes": [],
            "description": "",
            "_model_name": "HTMLModel",
            "placeholder": "​",
            "_view_module": "@jupyter-widgets/controls",
            "_model_module_version": "1.5.0",
            "value": " 4422656/? [00:00&lt;00:00, 7675087.21it/s]",
            "_view_count": null,
            "_view_module_version": "1.5.0",
            "description_tooltip": null,
            "_model_module": "@jupyter-widgets/controls",
            "layout": "IPY_MODEL_3498bccff2224a7ab2026aa1c4f06456"
          }
        },
        "89fda01f06514baf9518f43d4e48a7da": {
          "model_module": "@jupyter-widgets/controls",
          "model_name": "DescriptionStyleModel",
          "model_module_version": "1.5.0",
          "state": {
            "_view_name": "StyleView",
            "_model_name": "DescriptionStyleModel",
            "description_width": "",
            "_view_module": "@jupyter-widgets/base",
            "_model_module_version": "1.5.0",
            "_view_count": null,
            "_view_module_version": "1.2.0",
            "_model_module": "@jupyter-widgets/controls"
          }
        },
        "244a1b814379418c966f00795b40f0da": {
          "model_module": "@jupyter-widgets/base",
          "model_name": "LayoutModel",
          "model_module_version": "1.2.0",
          "state": {
            "_view_name": "LayoutView",
            "grid_template_rows": null,
            "right": null,
            "justify_content": null,
            "_view_module": "@jupyter-widgets/base",
            "overflow": null,
            "_model_module_version": "1.2.0",
            "_view_count": null,
            "flex_flow": null,
            "width": null,
            "min_width": null,
            "border": null,
            "align_items": null,
            "bottom": null,
            "_model_module": "@jupyter-widgets/base",
            "top": null,
            "grid_column": null,
            "overflow_y": null,
            "overflow_x": null,
            "grid_auto_flow": null,
            "grid_area": null,
            "grid_template_columns": null,
            "flex": null,
            "_model_name": "LayoutModel",
            "justify_items": null,
            "grid_row": null,
            "max_height": null,
            "align_content": null,
            "visibility": null,
            "align_self": null,
            "height": null,
            "min_height": null,
            "padding": null,
            "grid_auto_rows": null,
            "grid_gap": null,
            "max_width": null,
            "order": null,
            "_view_module_version": "1.2.0",
            "grid_template_areas": null,
            "object_position": null,
            "object_fit": null,
            "grid_auto_columns": null,
            "margin": null,
            "display": null,
            "left": null
          }
        },
        "7472ef7e841645b4a960dd1aef16267e": {
          "model_module": "@jupyter-widgets/controls",
          "model_name": "ProgressStyleModel",
          "model_module_version": "1.5.0",
          "state": {
            "_view_name": "StyleView",
            "_model_name": "ProgressStyleModel",
            "description_width": "",
            "_view_module": "@jupyter-widgets/base",
            "_model_module_version": "1.5.0",
            "_view_count": null,
            "_view_module_version": "1.2.0",
            "bar_color": null,
            "_model_module": "@jupyter-widgets/controls"
          }
        },
        "72956eb584f94a4f93a7459574e2179f": {
          "model_module": "@jupyter-widgets/base",
          "model_name": "LayoutModel",
          "model_module_version": "1.2.0",
          "state": {
            "_view_name": "LayoutView",
            "grid_template_rows": null,
            "right": null,
            "justify_content": null,
            "_view_module": "@jupyter-widgets/base",
            "overflow": null,
            "_model_module_version": "1.2.0",
            "_view_count": null,
            "flex_flow": null,
            "width": null,
            "min_width": null,
            "border": null,
            "align_items": null,
            "bottom": null,
            "_model_module": "@jupyter-widgets/base",
            "top": null,
            "grid_column": null,
            "overflow_y": null,
            "overflow_x": null,
            "grid_auto_flow": null,
            "grid_area": null,
            "grid_template_columns": null,
            "flex": null,
            "_model_name": "LayoutModel",
            "justify_items": null,
            "grid_row": null,
            "max_height": null,
            "align_content": null,
            "visibility": null,
            "align_self": null,
            "height": null,
            "min_height": null,
            "padding": null,
            "grid_auto_rows": null,
            "grid_gap": null,
            "max_width": null,
            "order": null,
            "_view_module_version": "1.2.0",
            "grid_template_areas": null,
            "object_position": null,
            "object_fit": null,
            "grid_auto_columns": null,
            "margin": null,
            "display": null,
            "left": null
          }
        },
        "a1f70db7b6054d00b49e37cd01787010": {
          "model_module": "@jupyter-widgets/controls",
          "model_name": "DescriptionStyleModel",
          "model_module_version": "1.5.0",
          "state": {
            "_view_name": "StyleView",
            "_model_name": "DescriptionStyleModel",
            "description_width": "",
            "_view_module": "@jupyter-widgets/base",
            "_model_module_version": "1.5.0",
            "_view_count": null,
            "_view_module_version": "1.2.0",
            "_model_module": "@jupyter-widgets/controls"
          }
        },
        "3498bccff2224a7ab2026aa1c4f06456": {
          "model_module": "@jupyter-widgets/base",
          "model_name": "LayoutModel",
          "model_module_version": "1.2.0",
          "state": {
            "_view_name": "LayoutView",
            "grid_template_rows": null,
            "right": null,
            "justify_content": null,
            "_view_module": "@jupyter-widgets/base",
            "overflow": null,
            "_model_module_version": "1.2.0",
            "_view_count": null,
            "flex_flow": null,
            "width": null,
            "min_width": null,
            "border": null,
            "align_items": null,
            "bottom": null,
            "_model_module": "@jupyter-widgets/base",
            "top": null,
            "grid_column": null,
            "overflow_y": null,
            "overflow_x": null,
            "grid_auto_flow": null,
            "grid_area": null,
            "grid_template_columns": null,
            "flex": null,
            "_model_name": "LayoutModel",
            "justify_items": null,
            "grid_row": null,
            "max_height": null,
            "align_content": null,
            "visibility": null,
            "align_self": null,
            "height": null,
            "min_height": null,
            "padding": null,
            "grid_auto_rows": null,
            "grid_gap": null,
            "max_width": null,
            "order": null,
            "_view_module_version": "1.2.0",
            "grid_template_areas": null,
            "object_position": null,
            "object_fit": null,
            "grid_auto_columns": null,
            "margin": null,
            "display": null,
            "left": null
          }
        },
        "6b6e38b98e6d44d4828af502a9d2cc64": {
          "model_module": "@jupyter-widgets/controls",
          "model_name": "HBoxModel",
          "model_module_version": "1.5.0",
          "state": {
            "_view_name": "HBoxView",
            "_dom_classes": [],
            "_model_name": "HBoxModel",
            "_view_module": "@jupyter-widgets/controls",
            "_model_module_version": "1.5.0",
            "_view_count": null,
            "_view_module_version": "1.5.0",
            "box_style": "",
            "layout": "IPY_MODEL_307328cca48347e0bbbb575f72408e66",
            "_model_module": "@jupyter-widgets/controls",
            "children": [
              "IPY_MODEL_192823a3a7ff4c53b3943d81c05ee38e",
              "IPY_MODEL_17d27f3b32644c01a934f2615906ba9a",
              "IPY_MODEL_d4f52d53d2b84534b2fdfdb9489ee2df"
            ]
          }
        },
        "307328cca48347e0bbbb575f72408e66": {
          "model_module": "@jupyter-widgets/base",
          "model_name": "LayoutModel",
          "model_module_version": "1.2.0",
          "state": {
            "_view_name": "LayoutView",
            "grid_template_rows": null,
            "right": null,
            "justify_content": null,
            "_view_module": "@jupyter-widgets/base",
            "overflow": null,
            "_model_module_version": "1.2.0",
            "_view_count": null,
            "flex_flow": null,
            "width": null,
            "min_width": null,
            "border": null,
            "align_items": null,
            "bottom": null,
            "_model_module": "@jupyter-widgets/base",
            "top": null,
            "grid_column": null,
            "overflow_y": null,
            "overflow_x": null,
            "grid_auto_flow": null,
            "grid_area": null,
            "grid_template_columns": null,
            "flex": null,
            "_model_name": "LayoutModel",
            "justify_items": null,
            "grid_row": null,
            "max_height": null,
            "align_content": null,
            "visibility": null,
            "align_self": null,
            "height": null,
            "min_height": null,
            "padding": null,
            "grid_auto_rows": null,
            "grid_gap": null,
            "max_width": null,
            "order": null,
            "_view_module_version": "1.2.0",
            "grid_template_areas": null,
            "object_position": null,
            "object_fit": null,
            "grid_auto_columns": null,
            "margin": null,
            "display": null,
            "left": null
          }
        },
        "192823a3a7ff4c53b3943d81c05ee38e": {
          "model_module": "@jupyter-widgets/controls",
          "model_name": "HTMLModel",
          "model_module_version": "1.5.0",
          "state": {
            "_view_name": "HTMLView",
            "style": "IPY_MODEL_a26576e66dc148ddbcedd7739f4a5fe9",
            "_dom_classes": [],
            "description": "",
            "_model_name": "HTMLModel",
            "placeholder": "​",
            "_view_module": "@jupyter-widgets/controls",
            "_model_module_version": "1.5.0",
            "value": "",
            "_view_count": null,
            "_view_module_version": "1.5.0",
            "description_tooltip": null,
            "_model_module": "@jupyter-widgets/controls",
            "layout": "IPY_MODEL_37d0b2019c544c71866c10e1946617b2"
          }
        },
        "17d27f3b32644c01a934f2615906ba9a": {
          "model_module": "@jupyter-widgets/controls",
          "model_name": "FloatProgressModel",
          "model_module_version": "1.5.0",
          "state": {
            "_view_name": "ProgressView",
            "style": "IPY_MODEL_28d01beaa70f4b13998eb6b683031c52",
            "_dom_classes": [],
            "description": "",
            "_model_name": "FloatProgressModel",
            "bar_style": "success",
            "max": 5148,
            "_view_module": "@jupyter-widgets/controls",
            "_model_module_version": "1.5.0",
            "value": 5148,
            "_view_count": null,
            "_view_module_version": "1.5.0",
            "orientation": "horizontal",
            "min": 0,
            "description_tooltip": null,
            "_model_module": "@jupyter-widgets/controls",
            "layout": "IPY_MODEL_b65839a9c16d4ae9952b9180904fb782"
          }
        },
        "d4f52d53d2b84534b2fdfdb9489ee2df": {
          "model_module": "@jupyter-widgets/controls",
          "model_name": "HTMLModel",
          "model_module_version": "1.5.0",
          "state": {
            "_view_name": "HTMLView",
            "style": "IPY_MODEL_77b039ddd94840b184c66b9f837addca",
            "_dom_classes": [],
            "description": "",
            "_model_name": "HTMLModel",
            "placeholder": "​",
            "_view_module": "@jupyter-widgets/controls",
            "_model_module_version": "1.5.0",
            "value": " 6144/? [00:00&lt;00:00, 180118.99it/s]",
            "_view_count": null,
            "_view_module_version": "1.5.0",
            "description_tooltip": null,
            "_model_module": "@jupyter-widgets/controls",
            "layout": "IPY_MODEL_7080c3ccf68542249c04f618c2ff5ccf"
          }
        },
        "a26576e66dc148ddbcedd7739f4a5fe9": {
          "model_module": "@jupyter-widgets/controls",
          "model_name": "DescriptionStyleModel",
          "model_module_version": "1.5.0",
          "state": {
            "_view_name": "StyleView",
            "_model_name": "DescriptionStyleModel",
            "description_width": "",
            "_view_module": "@jupyter-widgets/base",
            "_model_module_version": "1.5.0",
            "_view_count": null,
            "_view_module_version": "1.2.0",
            "_model_module": "@jupyter-widgets/controls"
          }
        },
        "37d0b2019c544c71866c10e1946617b2": {
          "model_module": "@jupyter-widgets/base",
          "model_name": "LayoutModel",
          "model_module_version": "1.2.0",
          "state": {
            "_view_name": "LayoutView",
            "grid_template_rows": null,
            "right": null,
            "justify_content": null,
            "_view_module": "@jupyter-widgets/base",
            "overflow": null,
            "_model_module_version": "1.2.0",
            "_view_count": null,
            "flex_flow": null,
            "width": null,
            "min_width": null,
            "border": null,
            "align_items": null,
            "bottom": null,
            "_model_module": "@jupyter-widgets/base",
            "top": null,
            "grid_column": null,
            "overflow_y": null,
            "overflow_x": null,
            "grid_auto_flow": null,
            "grid_area": null,
            "grid_template_columns": null,
            "flex": null,
            "_model_name": "LayoutModel",
            "justify_items": null,
            "grid_row": null,
            "max_height": null,
            "align_content": null,
            "visibility": null,
            "align_self": null,
            "height": null,
            "min_height": null,
            "padding": null,
            "grid_auto_rows": null,
            "grid_gap": null,
            "max_width": null,
            "order": null,
            "_view_module_version": "1.2.0",
            "grid_template_areas": null,
            "object_position": null,
            "object_fit": null,
            "grid_auto_columns": null,
            "margin": null,
            "display": null,
            "left": null
          }
        },
        "28d01beaa70f4b13998eb6b683031c52": {
          "model_module": "@jupyter-widgets/controls",
          "model_name": "ProgressStyleModel",
          "model_module_version": "1.5.0",
          "state": {
            "_view_name": "StyleView",
            "_model_name": "ProgressStyleModel",
            "description_width": "",
            "_view_module": "@jupyter-widgets/base",
            "_model_module_version": "1.5.0",
            "_view_count": null,
            "_view_module_version": "1.2.0",
            "bar_color": null,
            "_model_module": "@jupyter-widgets/controls"
          }
        },
        "b65839a9c16d4ae9952b9180904fb782": {
          "model_module": "@jupyter-widgets/base",
          "model_name": "LayoutModel",
          "model_module_version": "1.2.0",
          "state": {
            "_view_name": "LayoutView",
            "grid_template_rows": null,
            "right": null,
            "justify_content": null,
            "_view_module": "@jupyter-widgets/base",
            "overflow": null,
            "_model_module_version": "1.2.0",
            "_view_count": null,
            "flex_flow": null,
            "width": null,
            "min_width": null,
            "border": null,
            "align_items": null,
            "bottom": null,
            "_model_module": "@jupyter-widgets/base",
            "top": null,
            "grid_column": null,
            "overflow_y": null,
            "overflow_x": null,
            "grid_auto_flow": null,
            "grid_area": null,
            "grid_template_columns": null,
            "flex": null,
            "_model_name": "LayoutModel",
            "justify_items": null,
            "grid_row": null,
            "max_height": null,
            "align_content": null,
            "visibility": null,
            "align_self": null,
            "height": null,
            "min_height": null,
            "padding": null,
            "grid_auto_rows": null,
            "grid_gap": null,
            "max_width": null,
            "order": null,
            "_view_module_version": "1.2.0",
            "grid_template_areas": null,
            "object_position": null,
            "object_fit": null,
            "grid_auto_columns": null,
            "margin": null,
            "display": null,
            "left": null
          }
        },
        "77b039ddd94840b184c66b9f837addca": {
          "model_module": "@jupyter-widgets/controls",
          "model_name": "DescriptionStyleModel",
          "model_module_version": "1.5.0",
          "state": {
            "_view_name": "StyleView",
            "_model_name": "DescriptionStyleModel",
            "description_width": "",
            "_view_module": "@jupyter-widgets/base",
            "_model_module_version": "1.5.0",
            "_view_count": null,
            "_view_module_version": "1.2.0",
            "_model_module": "@jupyter-widgets/controls"
          }
        },
        "7080c3ccf68542249c04f618c2ff5ccf": {
          "model_module": "@jupyter-widgets/base",
          "model_name": "LayoutModel",
          "model_module_version": "1.2.0",
          "state": {
            "_view_name": "LayoutView",
            "grid_template_rows": null,
            "right": null,
            "justify_content": null,
            "_view_module": "@jupyter-widgets/base",
            "overflow": null,
            "_model_module_version": "1.2.0",
            "_view_count": null,
            "flex_flow": null,
            "width": null,
            "min_width": null,
            "border": null,
            "align_items": null,
            "bottom": null,
            "_model_module": "@jupyter-widgets/base",
            "top": null,
            "grid_column": null,
            "overflow_y": null,
            "overflow_x": null,
            "grid_auto_flow": null,
            "grid_area": null,
            "grid_template_columns": null,
            "flex": null,
            "_model_name": "LayoutModel",
            "justify_items": null,
            "grid_row": null,
            "max_height": null,
            "align_content": null,
            "visibility": null,
            "align_self": null,
            "height": null,
            "min_height": null,
            "padding": null,
            "grid_auto_rows": null,
            "grid_gap": null,
            "max_width": null,
            "order": null,
            "_view_module_version": "1.2.0",
            "grid_template_areas": null,
            "object_position": null,
            "object_fit": null,
            "grid_auto_columns": null,
            "margin": null,
            "display": null,
            "left": null
          }
        }
      }
    },
    "accelerator": "GPU"
  },
  "cells": [
    {
      "cell_type": "markdown",
      "metadata": {
        "id": "view-in-github",
        "colab_type": "text"
      },
      "source": [
        "<a href=\"https://colab.research.google.com/github/hamednasr/deep-learning/blob/main/my_code_GAN_FMNIST.ipynb\" target=\"_parent\"><img src=\"https://colab.research.google.com/assets/colab-badge.svg\" alt=\"Open In Colab\"/></a>"
      ]
    },
    {
      "cell_type": "markdown",
      "source": [
        "# GANs for FashionMNIST"
      ],
      "metadata": {
        "id": "3jiAtPpWIgA3"
      }
    },
    {
      "cell_type": "code",
      "metadata": {
        "id": "YeuAheYyhdZw"
      },
      "source": [
        "# import libraries\n",
        "import numpy as np\n",
        "\n",
        "import torch\n",
        "import torch.nn as nn\n",
        "import torch.nn.functional as F\n",
        "import torchvision\n",
        "from PIL import Image\n",
        "from torch.utils.data import DataLoader , TensorDataset\n",
        "\n",
        "import sys\n",
        "\n",
        "import matplotlib.pyplot as plt\n",
        "from IPython import display\n",
        "display.set_matplotlib_formats('svg')"
      ],
      "execution_count": 1,
      "outputs": []
    },
    {
      "cell_type": "code",
      "metadata": {
        "id": "lpcmh-V8hIlw",
        "colab": {
          "base_uri": "https://localhost:8080/"
        },
        "outputId": "a578ce10-f640-439a-e1f6-a8945a652c6a"
      },
      "source": [
        "# device = 'cpu'\n",
        "device = torch.device('cuda' if torch.cuda.is_available() else 'cpu')\n",
        "device"
      ],
      "execution_count": 2,
      "outputs": [
        {
          "output_type": "execute_result",
          "data": {
            "text/plain": [
              "device(type='cuda')"
            ]
          },
          "metadata": {},
          "execution_count": 2
        }
      ]
    },
    {
      "cell_type": "markdown",
      "metadata": {
        "id": "vpUeQWVfBJbY"
      },
      "source": [
        "# Import the data"
      ]
    },
    {
      "cell_type": "code",
      "source": [
        "FashionMNIST = torchvision.datasets.FashionMNIST(root='sample_data',download=True)"
      ],
      "metadata": {
        "id": "3NHC83oPAt-K",
        "colab": {
          "base_uri": "https://localhost:8080/",
          "height": 442,
          "referenced_widgets": [
            "e36704679b71400283bbc4fd01e7a8c8",
            "b479e44e75704551a1e5d0d277137f16",
            "01831f76c31d4a6d8c823d6f00d272cd",
            "08fcb8a976b6418683574d592d41dcca",
            "7c49d9f876504a06ba52dc07ce812720",
            "b192cc6b7dbe470b9e136d53084018bf",
            "bc7c12ef50c74a43861b6d18e8bb5c65",
            "20a77be9d67144f6b9ad9ab3e71cb038",
            "f5c1356f3cff417284c58a9ef92b7b1e",
            "2e8e77f05f6b4fb39106285226880ca4",
            "03d4ef92dc714807a4b49018b2c2297c",
            "ff58b92511c640c78bd1beb4665d8093",
            "ec1942bfd75c4bf4964dca509cae1841",
            "12e3c45119b44c558d4aa7a0d31ed9b7",
            "88a7d1c9fc81424fa562b0496247ed59",
            "f24a9e5a68ff4e29ad09624a4f9c5ebe",
            "ff0f6258f45540e28e42a4aca7f86975",
            "10f82cba488f4c398ff4061a711ed231",
            "531d036d73d641a595145503713c54b9",
            "f4381b894b8d47a2a4e165bd23e6f81a",
            "ac1b580718654638a638951464c2e2dd",
            "ee9734579d1a489c9e9d1da0204e0f2a",
            "10bae99d9d98447d858bd52775016db9",
            "436888f5ca964f05bbfbec1c4e0062f9",
            "35b51f95693046709ca8b22c18336dc7",
            "73841d1106e446228846c7f8a14340e1",
            "87d2cde8e97f46f592e98e18ad9f33a2",
            "89fda01f06514baf9518f43d4e48a7da",
            "244a1b814379418c966f00795b40f0da",
            "7472ef7e841645b4a960dd1aef16267e",
            "72956eb584f94a4f93a7459574e2179f",
            "a1f70db7b6054d00b49e37cd01787010",
            "3498bccff2224a7ab2026aa1c4f06456",
            "6b6e38b98e6d44d4828af502a9d2cc64",
            "307328cca48347e0bbbb575f72408e66",
            "192823a3a7ff4c53b3943d81c05ee38e",
            "17d27f3b32644c01a934f2615906ba9a",
            "d4f52d53d2b84534b2fdfdb9489ee2df",
            "a26576e66dc148ddbcedd7739f4a5fe9",
            "37d0b2019c544c71866c10e1946617b2",
            "28d01beaa70f4b13998eb6b683031c52",
            "b65839a9c16d4ae9952b9180904fb782",
            "77b039ddd94840b184c66b9f837addca",
            "7080c3ccf68542249c04f618c2ff5ccf"
          ]
        },
        "outputId": "4e78bbf5-1425-448e-eb61-ba280c96fd16"
      },
      "execution_count": 3,
      "outputs": [
        {
          "output_type": "stream",
          "name": "stdout",
          "text": [
            "Downloading http://fashion-mnist.s3-website.eu-central-1.amazonaws.com/train-images-idx3-ubyte.gz\n",
            "Downloading http://fashion-mnist.s3-website.eu-central-1.amazonaws.com/train-images-idx3-ubyte.gz to sample_data/FashionMNIST/raw/train-images-idx3-ubyte.gz\n"
          ]
        },
        {
          "output_type": "display_data",
          "data": {
            "application/vnd.jupyter.widget-view+json": {
              "model_id": "e36704679b71400283bbc4fd01e7a8c8",
              "version_minor": 0,
              "version_major": 2
            },
            "text/plain": [
              "  0%|          | 0/26421880 [00:00<?, ?it/s]"
            ]
          },
          "metadata": {}
        },
        {
          "output_type": "stream",
          "name": "stdout",
          "text": [
            "Extracting sample_data/FashionMNIST/raw/train-images-idx3-ubyte.gz to sample_data/FashionMNIST/raw\n",
            "\n",
            "Downloading http://fashion-mnist.s3-website.eu-central-1.amazonaws.com/train-labels-idx1-ubyte.gz\n",
            "Downloading http://fashion-mnist.s3-website.eu-central-1.amazonaws.com/train-labels-idx1-ubyte.gz to sample_data/FashionMNIST/raw/train-labels-idx1-ubyte.gz\n"
          ]
        },
        {
          "output_type": "display_data",
          "data": {
            "application/vnd.jupyter.widget-view+json": {
              "model_id": "ff58b92511c640c78bd1beb4665d8093",
              "version_minor": 0,
              "version_major": 2
            },
            "text/plain": [
              "  0%|          | 0/29515 [00:00<?, ?it/s]"
            ]
          },
          "metadata": {}
        },
        {
          "output_type": "stream",
          "name": "stdout",
          "text": [
            "Extracting sample_data/FashionMNIST/raw/train-labels-idx1-ubyte.gz to sample_data/FashionMNIST/raw\n",
            "\n",
            "Downloading http://fashion-mnist.s3-website.eu-central-1.amazonaws.com/t10k-images-idx3-ubyte.gz\n",
            "Downloading http://fashion-mnist.s3-website.eu-central-1.amazonaws.com/t10k-images-idx3-ubyte.gz to sample_data/FashionMNIST/raw/t10k-images-idx3-ubyte.gz\n"
          ]
        },
        {
          "output_type": "display_data",
          "data": {
            "application/vnd.jupyter.widget-view+json": {
              "model_id": "10bae99d9d98447d858bd52775016db9",
              "version_minor": 0,
              "version_major": 2
            },
            "text/plain": [
              "  0%|          | 0/4422102 [00:00<?, ?it/s]"
            ]
          },
          "metadata": {}
        },
        {
          "output_type": "stream",
          "name": "stdout",
          "text": [
            "Extracting sample_data/FashionMNIST/raw/t10k-images-idx3-ubyte.gz to sample_data/FashionMNIST/raw\n",
            "\n",
            "Downloading http://fashion-mnist.s3-website.eu-central-1.amazonaws.com/t10k-labels-idx1-ubyte.gz\n",
            "Downloading http://fashion-mnist.s3-website.eu-central-1.amazonaws.com/t10k-labels-idx1-ubyte.gz to sample_data/FashionMNIST/raw/t10k-labels-idx1-ubyte.gz\n"
          ]
        },
        {
          "output_type": "display_data",
          "data": {
            "application/vnd.jupyter.widget-view+json": {
              "model_id": "6b6e38b98e6d44d4828af502a9d2cc64",
              "version_minor": 0,
              "version_major": 2
            },
            "text/plain": [
              "  0%|          | 0/5148 [00:00<?, ?it/s]"
            ]
          },
          "metadata": {}
        },
        {
          "output_type": "stream",
          "name": "stdout",
          "text": [
            "Extracting sample_data/FashionMNIST/raw/t10k-labels-idx1-ubyte.gz to sample_data/FashionMNIST/raw\n",
            "\n"
          ]
        }
      ]
    },
    {
      "cell_type": "code",
      "source": [
        "FashionMNIST"
      ],
      "metadata": {
        "colab": {
          "base_uri": "https://localhost:8080/"
        },
        "id": "XvXgR1DyDjJz",
        "outputId": "535c7f5e-ba68-4390-b42e-f676977e9144"
      },
      "execution_count": 4,
      "outputs": [
        {
          "output_type": "execute_result",
          "data": {
            "text/plain": [
              "Dataset FashionMNIST\n",
              "    Number of datapoints: 60000\n",
              "    Root location: sample_data\n",
              "    Split: Train"
            ]
          },
          "metadata": {},
          "execution_count": 4
        }
      ]
    },
    {
      "cell_type": "code",
      "source": [
        "FashionMNIST.data.shape"
      ],
      "metadata": {
        "colab": {
          "base_uri": "https://localhost:8080/"
        },
        "id": "mU6KwaneG2vD",
        "outputId": "ab38bff6-4f31-4e7f-d212-f49de81b6349"
      },
      "execution_count": 5,
      "outputs": [
        {
          "output_type": "execute_result",
          "data": {
            "text/plain": [
              "torch.Size([60000, 28, 28])"
            ]
          },
          "metadata": {},
          "execution_count": 5
        }
      ]
    },
    {
      "cell_type": "code",
      "source": [
        "FashionMNIST.targets"
      ],
      "metadata": {
        "colab": {
          "base_uri": "https://localhost:8080/"
        },
        "id": "kdZAW97mHYJZ",
        "outputId": "32562775-2a03-4ebe-d146-2aa25c51a020"
      },
      "execution_count": 6,
      "outputs": [
        {
          "output_type": "execute_result",
          "data": {
            "text/plain": [
              "tensor([9, 0, 0,  ..., 3, 0, 5])"
            ]
          },
          "metadata": {},
          "execution_count": 6
        }
      ]
    },
    {
      "cell_type": "code",
      "source": [
        "plt.imshow(FashionMNIST.data[11,:,:],cmap='gray')"
      ],
      "metadata": {
        "colab": {
          "base_uri": "https://localhost:8080/",
          "height": 370
        },
        "id": "Th93LCkCHKNM",
        "outputId": "fe1a75e8-56b1-419c-b1cc-c789c411af50"
      },
      "execution_count": 7,
      "outputs": [
        {
          "output_type": "execute_result",
          "data": {
            "text/plain": [
              "<matplotlib.image.AxesImage at 0x7f060ada1fd0>"
            ]
          },
          "metadata": {},
          "execution_count": 7
        },
        {
          "output_type": "display_data",
          "data": {
            "text/plain": [
              "<Figure size 432x288 with 1 Axes>"
            ],
            "image/svg+xml": "<?xml version=\"1.0\" encoding=\"utf-8\" standalone=\"no\"?>\n<!DOCTYPE svg PUBLIC \"-//W3C//DTD SVG 1.1//EN\"\n  \"http://www.w3.org/Graphics/SVG/1.1/DTD/svg11.dtd\">\n<!-- Created with matplotlib (https://matplotlib.org/) -->\n<svg height=\"248.518125pt\" version=\"1.1\" viewBox=\"0 0 251.565 248.518125\" width=\"251.565pt\" xmlns=\"http://www.w3.org/2000/svg\" xmlns:xlink=\"http://www.w3.org/1999/xlink\">\n <defs>\n  <style type=\"text/css\">\n*{stroke-linecap:butt;stroke-linejoin:round;}\n  </style>\n </defs>\n <g id=\"figure_1\">\n  <g id=\"patch_1\">\n   <path d=\"M 0 248.518125 \nL 251.565 248.518125 \nL 251.565 0 \nL 0 0 \nz\n\" style=\"fill:none;\"/>\n  </g>\n  <g id=\"axes_1\">\n   <g id=\"patch_2\">\n    <path d=\"M 26.925 224.64 \nL 244.365 224.64 \nL 244.365 7.2 \nL 26.925 7.2 \nz\n\" style=\"fill:#ffffff;\"/>\n   </g>\n   <g clip-path=\"url(#pa9ceac2263)\">\n    <image height=\"218\" id=\"image3990af4c8c\" transform=\"scale(1 -1)translate(0 -218)\" width=\"218\" x=\"26.925\" xlink:href=\"data:image/png;base64,\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\" y=\"-6.64\"/>\n   </g>\n   <g id=\"matplotlib.axis_1\">\n    <g id=\"xtick_1\">\n     <g id=\"line2d_1\">\n      <defs>\n       <path d=\"M 0 0 \nL 0 3.5 \n\" id=\"m22742dd783\" style=\"stroke:#000000;stroke-width:0.8;\"/>\n      </defs>\n      <g>\n       <use style=\"stroke:#000000;stroke-width:0.8;\" x=\"30.807857\" xlink:href=\"#m22742dd783\" y=\"224.64\"/>\n      </g>\n     </g>\n     <g id=\"text_1\">\n      <!-- 0 -->\n      <defs>\n       <path d=\"M 31.78125 66.40625 \nQ 24.171875 66.40625 20.328125 58.90625 \nQ 16.5 51.421875 16.5 36.375 \nQ 16.5 21.390625 20.328125 13.890625 \nQ 24.171875 6.390625 31.78125 6.390625 \nQ 39.453125 6.390625 43.28125 13.890625 \nQ 47.125 21.390625 47.125 36.375 \nQ 47.125 51.421875 43.28125 58.90625 \nQ 39.453125 66.40625 31.78125 66.40625 \nz\nM 31.78125 74.21875 \nQ 44.046875 74.21875 50.515625 64.515625 \nQ 56.984375 54.828125 56.984375 36.375 \nQ 56.984375 17.96875 50.515625 8.265625 \nQ 44.046875 -1.421875 31.78125 -1.421875 \nQ 19.53125 -1.421875 13.0625 8.265625 \nQ 6.59375 17.96875 6.59375 36.375 \nQ 6.59375 54.828125 13.0625 64.515625 \nQ 19.53125 74.21875 31.78125 74.21875 \nz\n\" id=\"DejaVuSans-48\"/>\n      </defs>\n      <g transform=\"translate(27.626607 239.238437)scale(0.1 -0.1)\">\n       <use xlink:href=\"#DejaVuSans-48\"/>\n      </g>\n     </g>\n    </g>\n    <g id=\"xtick_2\">\n     <g id=\"line2d_2\">\n      <g>\n       <use style=\"stroke:#000000;stroke-width:0.8;\" x=\"69.636429\" xlink:href=\"#m22742dd783\" y=\"224.64\"/>\n      </g>\n     </g>\n     <g id=\"text_2\">\n      <!-- 5 -->\n      <defs>\n       <path d=\"M 10.796875 72.90625 \nL 49.515625 72.90625 \nL 49.515625 64.59375 \nL 19.828125 64.59375 \nL 19.828125 46.734375 \nQ 21.96875 47.46875 24.109375 47.828125 \nQ 26.265625 48.1875 28.421875 48.1875 \nQ 40.625 48.1875 47.75 41.5 \nQ 54.890625 34.8125 54.890625 23.390625 \nQ 54.890625 11.625 47.5625 5.09375 \nQ 40.234375 -1.421875 26.90625 -1.421875 \nQ 22.3125 -1.421875 17.546875 -0.640625 \nQ 12.796875 0.140625 7.71875 1.703125 \nL 7.71875 11.625 \nQ 12.109375 9.234375 16.796875 8.0625 \nQ 21.484375 6.890625 26.703125 6.890625 \nQ 35.15625 6.890625 40.078125 11.328125 \nQ 45.015625 15.765625 45.015625 23.390625 \nQ 45.015625 31 40.078125 35.4375 \nQ 35.15625 39.890625 26.703125 39.890625 \nQ 22.75 39.890625 18.8125 39.015625 \nQ 14.890625 38.140625 10.796875 36.28125 \nz\n\" id=\"DejaVuSans-53\"/>\n      </defs>\n      <g transform=\"translate(66.455179 239.238437)scale(0.1 -0.1)\">\n       <use xlink:href=\"#DejaVuSans-53\"/>\n      </g>\n     </g>\n    </g>\n    <g id=\"xtick_3\">\n     <g id=\"line2d_3\">\n      <g>\n       <use style=\"stroke:#000000;stroke-width:0.8;\" x=\"108.465\" xlink:href=\"#m22742dd783\" y=\"224.64\"/>\n      </g>\n     </g>\n     <g id=\"text_3\">\n      <!-- 10 -->\n      <defs>\n       <path d=\"M 12.40625 8.296875 \nL 28.515625 8.296875 \nL 28.515625 63.921875 \nL 10.984375 60.40625 \nL 10.984375 69.390625 \nL 28.421875 72.90625 \nL 38.28125 72.90625 \nL 38.28125 8.296875 \nL 54.390625 8.296875 \nL 54.390625 0 \nL 12.40625 0 \nz\n\" id=\"DejaVuSans-49\"/>\n      </defs>\n      <g transform=\"translate(102.1025 239.238437)scale(0.1 -0.1)\">\n       <use xlink:href=\"#DejaVuSans-49\"/>\n       <use x=\"63.623047\" xlink:href=\"#DejaVuSans-48\"/>\n      </g>\n     </g>\n    </g>\n    <g id=\"xtick_4\">\n     <g id=\"line2d_4\">\n      <g>\n       <use style=\"stroke:#000000;stroke-width:0.8;\" x=\"147.293571\" xlink:href=\"#m22742dd783\" y=\"224.64\"/>\n      </g>\n     </g>\n     <g id=\"text_4\">\n      <!-- 15 -->\n      <g transform=\"translate(140.931071 239.238437)scale(0.1 -0.1)\">\n       <use xlink:href=\"#DejaVuSans-49\"/>\n       <use x=\"63.623047\" xlink:href=\"#DejaVuSans-53\"/>\n      </g>\n     </g>\n    </g>\n    <g id=\"xtick_5\">\n     <g id=\"line2d_5\">\n      <g>\n       <use style=\"stroke:#000000;stroke-width:0.8;\" x=\"186.122143\" xlink:href=\"#m22742dd783\" y=\"224.64\"/>\n      </g>\n     </g>\n     <g id=\"text_5\">\n      <!-- 20 -->\n      <defs>\n       <path d=\"M 19.1875 8.296875 \nL 53.609375 8.296875 \nL 53.609375 0 \nL 7.328125 0 \nL 7.328125 8.296875 \nQ 12.9375 14.109375 22.625 23.890625 \nQ 32.328125 33.6875 34.8125 36.53125 \nQ 39.546875 41.84375 41.421875 45.53125 \nQ 43.3125 49.21875 43.3125 52.78125 \nQ 43.3125 58.59375 39.234375 62.25 \nQ 35.15625 65.921875 28.609375 65.921875 \nQ 23.96875 65.921875 18.8125 64.3125 \nQ 13.671875 62.703125 7.8125 59.421875 \nL 7.8125 69.390625 \nQ 13.765625 71.78125 18.9375 73 \nQ 24.125 74.21875 28.421875 74.21875 \nQ 39.75 74.21875 46.484375 68.546875 \nQ 53.21875 62.890625 53.21875 53.421875 \nQ 53.21875 48.921875 51.53125 44.890625 \nQ 49.859375 40.875 45.40625 35.40625 \nQ 44.1875 33.984375 37.640625 27.21875 \nQ 31.109375 20.453125 19.1875 8.296875 \nz\n\" id=\"DejaVuSans-50\"/>\n      </defs>\n      <g transform=\"translate(179.759643 239.238437)scale(0.1 -0.1)\">\n       <use xlink:href=\"#DejaVuSans-50\"/>\n       <use x=\"63.623047\" xlink:href=\"#DejaVuSans-48\"/>\n      </g>\n     </g>\n    </g>\n    <g id=\"xtick_6\">\n     <g id=\"line2d_6\">\n      <g>\n       <use style=\"stroke:#000000;stroke-width:0.8;\" x=\"224.950714\" xlink:href=\"#m22742dd783\" y=\"224.64\"/>\n      </g>\n     </g>\n     <g id=\"text_6\">\n      <!-- 25 -->\n      <g transform=\"translate(218.588214 239.238437)scale(0.1 -0.1)\">\n       <use xlink:href=\"#DejaVuSans-50\"/>\n       <use x=\"63.623047\" xlink:href=\"#DejaVuSans-53\"/>\n      </g>\n     </g>\n    </g>\n   </g>\n   <g id=\"matplotlib.axis_2\">\n    <g id=\"ytick_1\">\n     <g id=\"line2d_7\">\n      <defs>\n       <path d=\"M 0 0 \nL -3.5 0 \n\" id=\"me97fba0b46\" style=\"stroke:#000000;stroke-width:0.8;\"/>\n      </defs>\n      <g>\n       <use style=\"stroke:#000000;stroke-width:0.8;\" x=\"26.925\" xlink:href=\"#me97fba0b46\" y=\"11.082857\"/>\n      </g>\n     </g>\n     <g id=\"text_7\">\n      <!-- 0 -->\n      <g transform=\"translate(13.5625 14.882076)scale(0.1 -0.1)\">\n       <use xlink:href=\"#DejaVuSans-48\"/>\n      </g>\n     </g>\n    </g>\n    <g id=\"ytick_2\">\n     <g id=\"line2d_8\">\n      <g>\n       <use style=\"stroke:#000000;stroke-width:0.8;\" x=\"26.925\" xlink:href=\"#me97fba0b46\" y=\"49.911429\"/>\n      </g>\n     </g>\n     <g id=\"text_8\">\n      <!-- 5 -->\n      <g transform=\"translate(13.5625 53.710647)scale(0.1 -0.1)\">\n       <use xlink:href=\"#DejaVuSans-53\"/>\n      </g>\n     </g>\n    </g>\n    <g id=\"ytick_3\">\n     <g id=\"line2d_9\">\n      <g>\n       <use style=\"stroke:#000000;stroke-width:0.8;\" x=\"26.925\" xlink:href=\"#me97fba0b46\" y=\"88.74\"/>\n      </g>\n     </g>\n     <g id=\"text_9\">\n      <!-- 10 -->\n      <g transform=\"translate(7.2 92.539219)scale(0.1 -0.1)\">\n       <use xlink:href=\"#DejaVuSans-49\"/>\n       <use x=\"63.623047\" xlink:href=\"#DejaVuSans-48\"/>\n      </g>\n     </g>\n    </g>\n    <g id=\"ytick_4\">\n     <g id=\"line2d_10\">\n      <g>\n       <use style=\"stroke:#000000;stroke-width:0.8;\" x=\"26.925\" xlink:href=\"#me97fba0b46\" y=\"127.568571\"/>\n      </g>\n     </g>\n     <g id=\"text_10\">\n      <!-- 15 -->\n      <g transform=\"translate(7.2 131.36779)scale(0.1 -0.1)\">\n       <use xlink:href=\"#DejaVuSans-49\"/>\n       <use x=\"63.623047\" xlink:href=\"#DejaVuSans-53\"/>\n      </g>\n     </g>\n    </g>\n    <g id=\"ytick_5\">\n     <g id=\"line2d_11\">\n      <g>\n       <use style=\"stroke:#000000;stroke-width:0.8;\" x=\"26.925\" xlink:href=\"#me97fba0b46\" y=\"166.397143\"/>\n      </g>\n     </g>\n     <g id=\"text_11\">\n      <!-- 20 -->\n      <g transform=\"translate(7.2 170.196362)scale(0.1 -0.1)\">\n       <use xlink:href=\"#DejaVuSans-50\"/>\n       <use x=\"63.623047\" xlink:href=\"#DejaVuSans-48\"/>\n      </g>\n     </g>\n    </g>\n    <g id=\"ytick_6\">\n     <g id=\"line2d_12\">\n      <g>\n       <use style=\"stroke:#000000;stroke-width:0.8;\" x=\"26.925\" xlink:href=\"#me97fba0b46\" y=\"205.225714\"/>\n      </g>\n     </g>\n     <g id=\"text_12\">\n      <!-- 25 -->\n      <g transform=\"translate(7.2 209.024933)scale(0.1 -0.1)\">\n       <use xlink:href=\"#DejaVuSans-50\"/>\n       <use x=\"63.623047\" xlink:href=\"#DejaVuSans-53\"/>\n      </g>\n     </g>\n    </g>\n   </g>\n   <g id=\"patch_3\">\n    <path d=\"M 26.925 224.64 \nL 26.925 7.2 \n\" style=\"fill:none;stroke:#000000;stroke-linecap:square;stroke-linejoin:miter;stroke-width:0.8;\"/>\n   </g>\n   <g id=\"patch_4\">\n    <path d=\"M 244.365 224.64 \nL 244.365 7.2 \n\" style=\"fill:none;stroke:#000000;stroke-linecap:square;stroke-linejoin:miter;stroke-width:0.8;\"/>\n   </g>\n   <g id=\"patch_5\">\n    <path d=\"M 26.925 224.64 \nL 244.365 224.64 \n\" style=\"fill:none;stroke:#000000;stroke-linecap:square;stroke-linejoin:miter;stroke-width:0.8;\"/>\n   </g>\n   <g id=\"patch_6\">\n    <path d=\"M 26.925 7.2 \nL 244.365 7.2 \n\" style=\"fill:none;stroke:#000000;stroke-linecap:square;stroke-linejoin:miter;stroke-width:0.8;\"/>\n   </g>\n  </g>\n </g>\n <defs>\n  <clipPath id=\"pa9ceac2263\">\n   <rect height=\"217.44\" width=\"217.44\" x=\"26.925\" y=\"7.2\"/>\n  </clipPath>\n </defs>\n</svg>\n"
          },
          "metadata": {
            "needs_background": "light"
          }
        }
      ]
    },
    {
      "cell_type": "code",
      "source": [
        "FashionMNIST[11]"
      ],
      "metadata": {
        "colab": {
          "base_uri": "https://localhost:8080/"
        },
        "id": "pUgZUFi9HnaT",
        "outputId": "95ab694c-97b6-4f13-eb86-b2f1b2470b1a"
      },
      "execution_count": 8,
      "outputs": [
        {
          "output_type": "execute_result",
          "data": {
            "text/plain": [
              "(<PIL.Image.Image image mode=L size=28x28 at 0x7F050244A550>, 9)"
            ]
          },
          "metadata": {},
          "execution_count": 8
        }
      ]
    },
    {
      "cell_type": "code",
      "source": [
        "FashionMNIST[11][0]"
      ],
      "metadata": {
        "colab": {
          "base_uri": "https://localhost:8080/",
          "height": 45
        },
        "id": "SseR0t2aHxwq",
        "outputId": "f653a0a4-6235-4085-a996-cad9f6c61ebb"
      },
      "execution_count": 9,
      "outputs": [
        {
          "output_type": "execute_result",
          "data": {
            "image/png": "[encoded data removed]",
            "text/plain": [
              "<PIL.Image.Image image mode=L size=28x28 at 0x7F0502985C90>"
            ]
          },
          "metadata": {},
          "execution_count": 9
        }
      ]
    },
    {
      "cell_type": "code",
      "source": [
        "FashionMNIST[11][1]"
      ],
      "metadata": {
        "colab": {
          "base_uri": "https://localhost:8080/"
        },
        "id": "oyPWGlj3H2CS",
        "outputId": "2e2390af-cd92-48bb-ec04-f9c85f1cfbcb"
      },
      "execution_count": 10,
      "outputs": [
        {
          "output_type": "execute_result",
          "data": {
            "text/plain": [
              "9"
            ]
          },
          "metadata": {},
          "execution_count": 10
        }
      ]
    },
    {
      "cell_type": "code",
      "source": [
        "FashionMNIST.class_to_idx"
      ],
      "metadata": {
        "colab": {
          "base_uri": "https://localhost:8080/"
        },
        "id": "X2Lt9kC-_jEa",
        "outputId": "30a8b3e8-4795-4b8a-fb53-381eaae3e353"
      },
      "execution_count": 11,
      "outputs": [
        {
          "output_type": "execute_result",
          "data": {
            "text/plain": [
              "{'Ankle boot': 9,\n",
              " 'Bag': 8,\n",
              " 'Coat': 4,\n",
              " 'Dress': 3,\n",
              " 'Pullover': 2,\n",
              " 'Sandal': 5,\n",
              " 'Shirt': 6,\n",
              " 'Sneaker': 7,\n",
              " 'T-shirt/top': 0,\n",
              " 'Trouser': 1}"
            ]
          },
          "metadata": {},
          "execution_count": 11
        }
      ]
    },
    {
      "cell_type": "code",
      "source": [
        "FashionMNIST.data[FashionMNIST.targets == 1].shape"
      ],
      "metadata": {
        "colab": {
          "base_uri": "https://localhost:8080/"
        },
        "id": "8rPzuawjXwrQ",
        "outputId": "1a95c5e6-50d1-496f-8d27-3bfdf8d7d7e1"
      },
      "execution_count": 12,
      "outputs": [
        {
          "output_type": "execute_result",
          "data": {
            "text/plain": [
              "torch.Size([6000, 28, 28])"
            ]
          },
          "metadata": {},
          "execution_count": 12
        }
      ]
    },
    {
      "cell_type": "code",
      "source": [
        "data = FashionMNIST.data\n",
        "labels = FashionMNIST.targets"
      ],
      "metadata": {
        "id": "aOPw_pv3JUK0"
      },
      "execution_count": 13,
      "outputs": []
    },
    {
      "cell_type": "code",
      "source": [
        "data[(labels==1) | (labels==7) | (labels==2)].shape"
      ],
      "metadata": {
        "colab": {
          "base_uri": "https://localhost:8080/"
        },
        "id": "vk0LYCf8Xvsh",
        "outputId": "92572ccf-d4eb-4696-a6a9-5df0f1fbafcd"
      },
      "execution_count": 14,
      "outputs": [
        {
          "output_type": "execute_result",
          "data": {
            "text/plain": [
              "torch.Size([18000, 28, 28])"
            ]
          },
          "metadata": {},
          "execution_count": 14
        }
      ]
    },
    {
      "cell_type": "code",
      "source": [
        "labels[(labels==1) | (labels==7) | (labels==2)]"
      ],
      "metadata": {
        "colab": {
          "base_uri": "https://localhost:8080/"
        },
        "id": "QpdoBHjZZ0wH",
        "outputId": "aa11480d-030e-49b4-8c00-56ddc71555d1"
      },
      "execution_count": 15,
      "outputs": [
        {
          "output_type": "execute_result",
          "data": {
            "text/plain": [
              "tensor([2, 7, 2,  ..., 7, 2, 1])"
            ]
          },
          "metadata": {},
          "execution_count": 15
        }
      ]
    },
    {
      "cell_type": "code",
      "source": [
        "data = data[(labels==1) | (labels==7) | (labels==2)]\n",
        "labels = labels[(labels==1) | (labels==7) | (labels==2)]"
      ],
      "metadata": {
        "id": "26MTVex6ZoNP"
      },
      "execution_count": 16,
      "outputs": []
    },
    {
      "cell_type": "code",
      "source": [
        "dataNorm = data / data.max()\n",
        "dataNorm = 2 * dataNorm - 1"
      ],
      "metadata": {
        "id": "CsqIACV4I1CT"
      },
      "execution_count": 17,
      "outputs": []
    },
    {
      "cell_type": "code",
      "source": [
        "plt.imshow(dataNorm[11,:,:],cmap='gray')"
      ],
      "metadata": {
        "colab": {
          "base_uri": "https://localhost:8080/",
          "height": 370
        },
        "id": "XhQRZzTuVXoF",
        "outputId": "93664569-aa65-4b53-ae65-d8aa7787145d"
      },
      "execution_count": 18,
      "outputs": [
        {
          "output_type": "execute_result",
          "data": {
            "text/plain": [
              "<matplotlib.image.AxesImage at 0x7f0501f45a90>"
            ]
          },
          "metadata": {},
          "execution_count": 18
        },
        {
          "output_type": "display_data",
          "data": {
            "text/plain": [
              "<Figure size 432x288 with 1 Axes>"
            ],
            "image/svg+xml": "<?xml version=\"1.0\" encoding=\"utf-8\" standalone=\"no\"?>\n<!DOCTYPE svg PUBLIC \"-//W3C//DTD SVG 1.1//EN\"\n  \"http://www.w3.org/Graphics/SVG/1.1/DTD/svg11.dtd\">\n<!-- Created with matplotlib (https://matplotlib.org/) -->\n<svg height=\"248.518125pt\" version=\"1.1\" viewBox=\"0 0 251.565 248.518125\" width=\"251.565pt\" xmlns=\"http://www.w3.org/2000/svg\" xmlns:xlink=\"http://www.w3.org/1999/xlink\">\n <defs>\n  <style type=\"text/css\">\n*{stroke-linecap:butt;stroke-linejoin:round;}\n  </style>\n </defs>\n <g id=\"figure_1\">\n  <g id=\"patch_1\">\n   <path d=\"M 0 248.518125 \nL 251.565 248.518125 \nL 251.565 0 \nL 0 0 \nz\n\" style=\"fill:none;\"/>\n  </g>\n  <g id=\"axes_1\">\n   <g id=\"patch_2\">\n    <path d=\"M 26.925 224.64 \nL 244.365 224.64 \nL 244.365 7.2 \nL 26.925 7.2 \nz\n\" style=\"fill:#ffffff;\"/>\n   </g>\n   <g clip-path=\"url(#pbc1ce690df)\">\n    <image height=\"218\" id=\"image67313448a8\" transform=\"scale(1 -1)translate(0 -218)\" width=\"218\" x=\"26.925\" xlink:href=\"data:image/png;base64,\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\" y=\"-6.64\"/>\n   </g>\n   <g id=\"matplotlib.axis_1\">\n    <g id=\"xtick_1\">\n     <g id=\"line2d_1\">\n      <defs>\n       <path d=\"M 0 0 \nL 0 3.5 \n\" id=\"m566d38843b\" style=\"stroke:#000000;stroke-width:0.8;\"/>\n      </defs>\n      <g>\n       <use style=\"stroke:#000000;stroke-width:0.8;\" x=\"30.807857\" xlink:href=\"#m566d38843b\" y=\"224.64\"/>\n      </g>\n     </g>\n     <g id=\"text_1\">\n      <!-- 0 -->\n      <defs>\n       <path d=\"M 31.78125 66.40625 \nQ 24.171875 66.40625 20.328125 58.90625 \nQ 16.5 51.421875 16.5 36.375 \nQ 16.5 21.390625 20.328125 13.890625 \nQ 24.171875 6.390625 31.78125 6.390625 \nQ 39.453125 6.390625 43.28125 13.890625 \nQ 47.125 21.390625 47.125 36.375 \nQ 47.125 51.421875 43.28125 58.90625 \nQ 39.453125 66.40625 31.78125 66.40625 \nz\nM 31.78125 74.21875 \nQ 44.046875 74.21875 50.515625 64.515625 \nQ 56.984375 54.828125 56.984375 36.375 \nQ 56.984375 17.96875 50.515625 8.265625 \nQ 44.046875 -1.421875 31.78125 -1.421875 \nQ 19.53125 -1.421875 13.0625 8.265625 \nQ 6.59375 17.96875 6.59375 36.375 \nQ 6.59375 54.828125 13.0625 64.515625 \nQ 19.53125 74.21875 31.78125 74.21875 \nz\n\" id=\"DejaVuSans-48\"/>\n      </defs>\n      <g transform=\"translate(27.626607 239.238437)scale(0.1 -0.1)\">\n       <use xlink:href=\"#DejaVuSans-48\"/>\n      </g>\n     </g>\n    </g>\n    <g id=\"xtick_2\">\n     <g id=\"line2d_2\">\n      <g>\n       <use style=\"stroke:#000000;stroke-width:0.8;\" x=\"69.636429\" xlink:href=\"#m566d38843b\" y=\"224.64\"/>\n      </g>\n     </g>\n     <g id=\"text_2\">\n      <!-- 5 -->\n      <defs>\n       <path d=\"M 10.796875 72.90625 \nL 49.515625 72.90625 \nL 49.515625 64.59375 \nL 19.828125 64.59375 \nL 19.828125 46.734375 \nQ 21.96875 47.46875 24.109375 47.828125 \nQ 26.265625 48.1875 28.421875 48.1875 \nQ 40.625 48.1875 47.75 41.5 \nQ 54.890625 34.8125 54.890625 23.390625 \nQ 54.890625 11.625 47.5625 5.09375 \nQ 40.234375 -1.421875 26.90625 -1.421875 \nQ 22.3125 -1.421875 17.546875 -0.640625 \nQ 12.796875 0.140625 7.71875 1.703125 \nL 7.71875 11.625 \nQ 12.109375 9.234375 16.796875 8.0625 \nQ 21.484375 6.890625 26.703125 6.890625 \nQ 35.15625 6.890625 40.078125 11.328125 \nQ 45.015625 15.765625 45.015625 23.390625 \nQ 45.015625 31 40.078125 35.4375 \nQ 35.15625 39.890625 26.703125 39.890625 \nQ 22.75 39.890625 18.8125 39.015625 \nQ 14.890625 38.140625 10.796875 36.28125 \nz\n\" id=\"DejaVuSans-53\"/>\n      </defs>\n      <g transform=\"translate(66.455179 239.238437)scale(0.1 -0.1)\">\n       <use xlink:href=\"#DejaVuSans-53\"/>\n      </g>\n     </g>\n    </g>\n    <g id=\"xtick_3\">\n     <g id=\"line2d_3\">\n      <g>\n       <use style=\"stroke:#000000;stroke-width:0.8;\" x=\"108.465\" xlink:href=\"#m566d38843b\" y=\"224.64\"/>\n      </g>\n     </g>\n     <g id=\"text_3\">\n      <!-- 10 -->\n      <defs>\n       <path d=\"M 12.40625 8.296875 \nL 28.515625 8.296875 \nL 28.515625 63.921875 \nL 10.984375 60.40625 \nL 10.984375 69.390625 \nL 28.421875 72.90625 \nL 38.28125 72.90625 \nL 38.28125 8.296875 \nL 54.390625 8.296875 \nL 54.390625 0 \nL 12.40625 0 \nz\n\" id=\"DejaVuSans-49\"/>\n      </defs>\n      <g transform=\"translate(102.1025 239.238437)scale(0.1 -0.1)\">\n       <use xlink:href=\"#DejaVuSans-49\"/>\n       <use x=\"63.623047\" xlink:href=\"#DejaVuSans-48\"/>\n      </g>\n     </g>\n    </g>\n    <g id=\"xtick_4\">\n     <g id=\"line2d_4\">\n      <g>\n       <use style=\"stroke:#000000;stroke-width:0.8;\" x=\"147.293571\" xlink:href=\"#m566d38843b\" y=\"224.64\"/>\n      </g>\n     </g>\n     <g id=\"text_4\">\n      <!-- 15 -->\n      <g transform=\"translate(140.931071 239.238437)scale(0.1 -0.1)\">\n       <use xlink:href=\"#DejaVuSans-49\"/>\n       <use x=\"63.623047\" xlink:href=\"#DejaVuSans-53\"/>\n      </g>\n     </g>\n    </g>\n    <g id=\"xtick_5\">\n     <g id=\"line2d_5\">\n      <g>\n       <use style=\"stroke:#000000;stroke-width:0.8;\" x=\"186.122143\" xlink:href=\"#m566d38843b\" y=\"224.64\"/>\n      </g>\n     </g>\n     <g id=\"text_5\">\n      <!-- 20 -->\n      <defs>\n       <path d=\"M 19.1875 8.296875 \nL 53.609375 8.296875 \nL 53.609375 0 \nL 7.328125 0 \nL 7.328125 8.296875 \nQ 12.9375 14.109375 22.625 23.890625 \nQ 32.328125 33.6875 34.8125 36.53125 \nQ 39.546875 41.84375 41.421875 45.53125 \nQ 43.3125 49.21875 43.3125 52.78125 \nQ 43.3125 58.59375 39.234375 62.25 \nQ 35.15625 65.921875 28.609375 65.921875 \nQ 23.96875 65.921875 18.8125 64.3125 \nQ 13.671875 62.703125 7.8125 59.421875 \nL 7.8125 69.390625 \nQ 13.765625 71.78125 18.9375 73 \nQ 24.125 74.21875 28.421875 74.21875 \nQ 39.75 74.21875 46.484375 68.546875 \nQ 53.21875 62.890625 53.21875 53.421875 \nQ 53.21875 48.921875 51.53125 44.890625 \nQ 49.859375 40.875 45.40625 35.40625 \nQ 44.1875 33.984375 37.640625 27.21875 \nQ 31.109375 20.453125 19.1875 8.296875 \nz\n\" id=\"DejaVuSans-50\"/>\n      </defs>\n      <g transform=\"translate(179.759643 239.238437)scale(0.1 -0.1)\">\n       <use xlink:href=\"#DejaVuSans-50\"/>\n       <use x=\"63.623047\" xlink:href=\"#DejaVuSans-48\"/>\n      </g>\n     </g>\n    </g>\n    <g id=\"xtick_6\">\n     <g id=\"line2d_6\">\n      <g>\n       <use style=\"stroke:#000000;stroke-width:0.8;\" x=\"224.950714\" xlink:href=\"#m566d38843b\" y=\"224.64\"/>\n      </g>\n     </g>\n     <g id=\"text_6\">\n      <!-- 25 -->\n      <g transform=\"translate(218.588214 239.238437)scale(0.1 -0.1)\">\n       <use xlink:href=\"#DejaVuSans-50\"/>\n       <use x=\"63.623047\" xlink:href=\"#DejaVuSans-53\"/>\n      </g>\n     </g>\n    </g>\n   </g>\n   <g id=\"matplotlib.axis_2\">\n    <g id=\"ytick_1\">\n     <g id=\"line2d_7\">\n      <defs>\n       <path d=\"M 0 0 \nL -3.5 0 \n\" id=\"mffeb4b0877\" style=\"stroke:#000000;stroke-width:0.8;\"/>\n      </defs>\n      <g>\n       <use style=\"stroke:#000000;stroke-width:0.8;\" x=\"26.925\" xlink:href=\"#mffeb4b0877\" y=\"11.082857\"/>\n      </g>\n     </g>\n     <g id=\"text_7\">\n      <!-- 0 -->\n      <g transform=\"translate(13.5625 14.882076)scale(0.1 -0.1)\">\n       <use xlink:href=\"#DejaVuSans-48\"/>\n      </g>\n     </g>\n    </g>\n    <g id=\"ytick_2\">\n     <g id=\"line2d_8\">\n      <g>\n       <use style=\"stroke:#000000;stroke-width:0.8;\" x=\"26.925\" xlink:href=\"#mffeb4b0877\" y=\"49.911429\"/>\n      </g>\n     </g>\n     <g id=\"text_8\">\n      <!-- 5 -->\n      <g transform=\"translate(13.5625 53.710647)scale(0.1 -0.1)\">\n       <use xlink:href=\"#DejaVuSans-53\"/>\n      </g>\n     </g>\n    </g>\n    <g id=\"ytick_3\">\n     <g id=\"line2d_9\">\n      <g>\n       <use style=\"stroke:#000000;stroke-width:0.8;\" x=\"26.925\" xlink:href=\"#mffeb4b0877\" y=\"88.74\"/>\n      </g>\n     </g>\n     <g id=\"text_9\">\n      <!-- 10 -->\n      <g transform=\"translate(7.2 92.539219)scale(0.1 -0.1)\">\n       <use xlink:href=\"#DejaVuSans-49\"/>\n       <use x=\"63.623047\" xlink:href=\"#DejaVuSans-48\"/>\n      </g>\n     </g>\n    </g>\n    <g id=\"ytick_4\">\n     <g id=\"line2d_10\">\n      <g>\n       <use style=\"stroke:#000000;stroke-width:0.8;\" x=\"26.925\" xlink:href=\"#mffeb4b0877\" y=\"127.568571\"/>\n      </g>\n     </g>\n     <g id=\"text_10\">\n      <!-- 15 -->\n      <g transform=\"translate(7.2 131.36779)scale(0.1 -0.1)\">\n       <use xlink:href=\"#DejaVuSans-49\"/>\n       <use x=\"63.623047\" xlink:href=\"#DejaVuSans-53\"/>\n      </g>\n     </g>\n    </g>\n    <g id=\"ytick_5\">\n     <g id=\"line2d_11\">\n      <g>\n       <use style=\"stroke:#000000;stroke-width:0.8;\" x=\"26.925\" xlink:href=\"#mffeb4b0877\" y=\"166.397143\"/>\n      </g>\n     </g>\n     <g id=\"text_11\">\n      <!-- 20 -->\n      <g transform=\"translate(7.2 170.196362)scale(0.1 -0.1)\">\n       <use xlink:href=\"#DejaVuSans-50\"/>\n       <use x=\"63.623047\" xlink:href=\"#DejaVuSans-48\"/>\n      </g>\n     </g>\n    </g>\n    <g id=\"ytick_6\">\n     <g id=\"line2d_12\">\n      <g>\n       <use style=\"stroke:#000000;stroke-width:0.8;\" x=\"26.925\" xlink:href=\"#mffeb4b0877\" y=\"205.225714\"/>\n      </g>\n     </g>\n     <g id=\"text_12\">\n      <!-- 25 -->\n      <g transform=\"translate(7.2 209.024933)scale(0.1 -0.1)\">\n       <use xlink:href=\"#DejaVuSans-50\"/>\n       <use x=\"63.623047\" xlink:href=\"#DejaVuSans-53\"/>\n      </g>\n     </g>\n    </g>\n   </g>\n   <g id=\"patch_3\">\n    <path d=\"M 26.925 224.64 \nL 26.925 7.2 \n\" style=\"fill:none;stroke:#000000;stroke-linecap:square;stroke-linejoin:miter;stroke-width:0.8;\"/>\n   </g>\n   <g id=\"patch_4\">\n    <path d=\"M 244.365 224.64 \nL 244.365 7.2 \n\" style=\"fill:none;stroke:#000000;stroke-linecap:square;stroke-linejoin:miter;stroke-width:0.8;\"/>\n   </g>\n   <g id=\"patch_5\">\n    <path d=\"M 26.925 224.64 \nL 244.365 224.64 \n\" style=\"fill:none;stroke:#000000;stroke-linecap:square;stroke-linejoin:miter;stroke-width:0.8;\"/>\n   </g>\n   <g id=\"patch_6\">\n    <path d=\"M 26.925 7.2 \nL 244.365 7.2 \n\" style=\"fill:none;stroke:#000000;stroke-linecap:square;stroke-linejoin:miter;stroke-width:0.8;\"/>\n   </g>\n  </g>\n </g>\n <defs>\n  <clipPath id=\"pbc1ce690df\">\n   <rect height=\"217.44\" width=\"217.44\" x=\"26.925\" y=\"7.2\"/>\n  </clipPath>\n </defs>\n</svg>\n"
          },
          "metadata": {
            "needs_background": "light"
          }
        }
      ]
    },
    {
      "cell_type": "code",
      "source": [
        "dataT.shape"
      ],
      "metadata": {
        "colab": {
          "base_uri": "https://localhost:8080/",
          "height": 165
        },
        "id": "M8eSDiPC8l8J",
        "outputId": "92ed1431-6e1d-45e2-dd54-0718e4e2d35a"
      },
      "execution_count": 19,
      "outputs": [
        {
          "output_type": "error",
          "ename": "NameError",
          "evalue": "ignored",
          "traceback": [
            "\u001b[0;31m---------------------------------------------------------------------------\u001b[0m",
            "\u001b[0;31mNameError\u001b[0m                                 Traceback (most recent call last)",
            "\u001b[0;32m<ipython-input-19-93d93593e781>\u001b[0m in \u001b[0;36m<module>\u001b[0;34m()\u001b[0m\n\u001b[0;32m----> 1\u001b[0;31m \u001b[0mdataT\u001b[0m\u001b[0;34m.\u001b[0m\u001b[0mshape\u001b[0m\u001b[0;34m\u001b[0m\u001b[0;34m\u001b[0m\u001b[0m\n\u001b[0m",
            "\u001b[0;31mNameError\u001b[0m: name 'dataT' is not defined"
          ]
        }
      ]
    },
    {
      "cell_type": "code",
      "metadata": {
        "id": "yfZKI3EXBHL5"
      },
      "source": [
        "batchsize = 128\n",
        "train_set = TensorDataset(dataNorm,labels)"
      ],
      "execution_count": 22,
      "outputs": []
    },
    {
      "cell_type": "code",
      "source": [
        "train_set.tensors[1].shape"
      ],
      "metadata": {
        "id": "zwTPZXvlrmu9",
        "outputId": "c189923a-cff1-41fd-ce19-71316a81949b",
        "colab": {
          "base_uri": "https://localhost:8080/"
        }
      },
      "execution_count": 23,
      "outputs": [
        {
          "output_type": "execute_result",
          "data": {
            "text/plain": [
              "torch.Size([18000])"
            ]
          },
          "metadata": {},
          "execution_count": 23
        }
      ]
    },
    {
      "cell_type": "code",
      "source": [
        "train_loader = DataLoader(train_set,batch_size=batchsize,shuffle=True,drop_last=True)"
      ],
      "metadata": {
        "id": "fDcv2uMkqE1W"
      },
      "execution_count": 24,
      "outputs": []
    },
    {
      "cell_type": "code",
      "source": [
        "for X,y in train_loader:\n",
        "  print(X.shape)"
      ],
      "metadata": {
        "id": "C8S95g8c6KIm",
        "outputId": "128ccf62-9a42-42bb-c118-12198a6106a8",
        "colab": {
          "base_uri": "https://localhost:8080/"
        }
      },
      "execution_count": 25,
      "outputs": [
        {
          "output_type": "stream",
          "name": "stdout",
          "text": [
            "torch.Size([128, 28, 28])\n",
            "torch.Size([128, 28, 28])\n",
            "torch.Size([128, 28, 28])\n",
            "torch.Size([128, 28, 28])\n",
            "torch.Size([128, 28, 28])\n",
            "torch.Size([128, 28, 28])\n",
            "torch.Size([128, 28, 28])\n",
            "torch.Size([128, 28, 28])\n",
            "torch.Size([128, 28, 28])\n",
            "torch.Size([128, 28, 28])\n",
            "torch.Size([128, 28, 28])\n",
            "torch.Size([128, 28, 28])\n",
            "torch.Size([128, 28, 28])\n",
            "torch.Size([128, 28, 28])\n",
            "torch.Size([128, 28, 28])\n",
            "torch.Size([128, 28, 28])\n",
            "torch.Size([128, 28, 28])\n",
            "torch.Size([128, 28, 28])\n",
            "torch.Size([128, 28, 28])\n",
            "torch.Size([128, 28, 28])\n",
            "torch.Size([128, 28, 28])\n",
            "torch.Size([128, 28, 28])\n",
            "torch.Size([128, 28, 28])\n",
            "torch.Size([128, 28, 28])\n",
            "torch.Size([128, 28, 28])\n",
            "torch.Size([128, 28, 28])\n",
            "torch.Size([128, 28, 28])\n",
            "torch.Size([128, 28, 28])\n",
            "torch.Size([128, 28, 28])\n",
            "torch.Size([128, 28, 28])\n",
            "torch.Size([128, 28, 28])\n",
            "torch.Size([128, 28, 28])\n",
            "torch.Size([128, 28, 28])\n",
            "torch.Size([128, 28, 28])\n",
            "torch.Size([128, 28, 28])\n",
            "torch.Size([128, 28, 28])\n",
            "torch.Size([128, 28, 28])\n",
            "torch.Size([128, 28, 28])\n",
            "torch.Size([128, 28, 28])\n",
            "torch.Size([128, 28, 28])\n",
            "torch.Size([128, 28, 28])\n",
            "torch.Size([128, 28, 28])\n",
            "torch.Size([128, 28, 28])\n",
            "torch.Size([128, 28, 28])\n",
            "torch.Size([128, 28, 28])\n",
            "torch.Size([128, 28, 28])\n",
            "torch.Size([128, 28, 28])\n",
            "torch.Size([128, 28, 28])\n",
            "torch.Size([128, 28, 28])\n",
            "torch.Size([128, 28, 28])\n",
            "torch.Size([128, 28, 28])\n",
            "torch.Size([128, 28, 28])\n",
            "torch.Size([128, 28, 28])\n",
            "torch.Size([128, 28, 28])\n",
            "torch.Size([128, 28, 28])\n",
            "torch.Size([128, 28, 28])\n",
            "torch.Size([128, 28, 28])\n",
            "torch.Size([128, 28, 28])\n",
            "torch.Size([128, 28, 28])\n",
            "torch.Size([128, 28, 28])\n",
            "torch.Size([128, 28, 28])\n",
            "torch.Size([128, 28, 28])\n",
            "torch.Size([128, 28, 28])\n",
            "torch.Size([128, 28, 28])\n",
            "torch.Size([128, 28, 28])\n",
            "torch.Size([128, 28, 28])\n",
            "torch.Size([128, 28, 28])\n",
            "torch.Size([128, 28, 28])\n",
            "torch.Size([128, 28, 28])\n",
            "torch.Size([128, 28, 28])\n",
            "torch.Size([128, 28, 28])\n",
            "torch.Size([128, 28, 28])\n",
            "torch.Size([128, 28, 28])\n",
            "torch.Size([128, 28, 28])\n",
            "torch.Size([128, 28, 28])\n",
            "torch.Size([128, 28, 28])\n",
            "torch.Size([128, 28, 28])\n",
            "torch.Size([128, 28, 28])\n",
            "torch.Size([128, 28, 28])\n",
            "torch.Size([128, 28, 28])\n",
            "torch.Size([128, 28, 28])\n",
            "torch.Size([128, 28, 28])\n",
            "torch.Size([128, 28, 28])\n",
            "torch.Size([128, 28, 28])\n",
            "torch.Size([128, 28, 28])\n",
            "torch.Size([128, 28, 28])\n",
            "torch.Size([128, 28, 28])\n",
            "torch.Size([128, 28, 28])\n",
            "torch.Size([128, 28, 28])\n",
            "torch.Size([128, 28, 28])\n",
            "torch.Size([128, 28, 28])\n",
            "torch.Size([128, 28, 28])\n",
            "torch.Size([128, 28, 28])\n",
            "torch.Size([128, 28, 28])\n",
            "torch.Size([128, 28, 28])\n",
            "torch.Size([128, 28, 28])\n",
            "torch.Size([128, 28, 28])\n",
            "torch.Size([128, 28, 28])\n",
            "torch.Size([128, 28, 28])\n",
            "torch.Size([128, 28, 28])\n",
            "torch.Size([128, 28, 28])\n",
            "torch.Size([128, 28, 28])\n",
            "torch.Size([128, 28, 28])\n",
            "torch.Size([128, 28, 28])\n",
            "torch.Size([128, 28, 28])\n",
            "torch.Size([128, 28, 28])\n",
            "torch.Size([128, 28, 28])\n",
            "torch.Size([128, 28, 28])\n",
            "torch.Size([128, 28, 28])\n",
            "torch.Size([128, 28, 28])\n",
            "torch.Size([128, 28, 28])\n",
            "torch.Size([128, 28, 28])\n",
            "torch.Size([128, 28, 28])\n",
            "torch.Size([128, 28, 28])\n",
            "torch.Size([128, 28, 28])\n",
            "torch.Size([128, 28, 28])\n",
            "torch.Size([128, 28, 28])\n",
            "torch.Size([128, 28, 28])\n",
            "torch.Size([128, 28, 28])\n",
            "torch.Size([128, 28, 28])\n",
            "torch.Size([128, 28, 28])\n",
            "torch.Size([128, 28, 28])\n",
            "torch.Size([128, 28, 28])\n",
            "torch.Size([128, 28, 28])\n",
            "torch.Size([128, 28, 28])\n",
            "torch.Size([128, 28, 28])\n",
            "torch.Size([128, 28, 28])\n",
            "torch.Size([128, 28, 28])\n",
            "torch.Size([128, 28, 28])\n",
            "torch.Size([128, 28, 28])\n",
            "torch.Size([128, 28, 28])\n",
            "torch.Size([128, 28, 28])\n",
            "torch.Size([128, 28, 28])\n",
            "torch.Size([128, 28, 28])\n",
            "torch.Size([128, 28, 28])\n",
            "torch.Size([128, 28, 28])\n",
            "torch.Size([128, 28, 28])\n",
            "torch.Size([128, 28, 28])\n",
            "torch.Size([128, 28, 28])\n",
            "torch.Size([128, 28, 28])\n"
          ]
        }
      ]
    },
    {
      "cell_type": "markdown",
      "metadata": {
        "id": "wavRi03hUmUc"
      },
      "source": [
        "# Create classes for the discriminator and generator"
      ]
    },
    {
      "cell_type": "code",
      "metadata": {
        "id": "UT-TyZZDK9-9",
        "colab": {
          "base_uri": "https://localhost:8080/"
        },
        "outputId": "adf1e19a-d501-4ffc-8ce5-70b58bdd0ec6"
      },
      "source": [
        "class discriminatorNet(nn.Module):\n",
        "  def __init__(self):\n",
        "    super().__init__()\n",
        "    \n",
        "    self.fc1 = nn.Linear(28*28,256)\n",
        "    self.fc2 = nn.Linear(256,256)\n",
        "    self.out = nn.Linear(256,1)\n",
        "\n",
        "  def forward(self,x):\n",
        "    x = F.leaky_relu( self.fc1(x) )\n",
        "    x = F.leaky_relu( self.fc2(x) )\n",
        "    x = self.out(x)\n",
        "    return torch.sigmoid( x )\n",
        "\n",
        "dnet = discriminatorNet()\n",
        "y = dnet(torch.randn(10,784))\n",
        "y"
      ],
      "execution_count": 26,
      "outputs": [
        {
          "output_type": "execute_result",
          "data": {
            "text/plain": [
              "tensor([[0.5482],\n",
              "        [0.4839],\n",
              "        [0.4734],\n",
              "        [0.4953],\n",
              "        [0.4947],\n",
              "        [0.5119],\n",
              "        [0.4874],\n",
              "        [0.4468],\n",
              "        [0.4803],\n",
              "        [0.5408]], grad_fn=<SigmoidBackward0>)"
            ]
          },
          "metadata": {},
          "execution_count": 26
        }
      ]
    },
    {
      "cell_type": "code",
      "metadata": {
        "id": "alVVPOJiLTHB",
        "colab": {
          "base_uri": "https://localhost:8080/",
          "height": 352
        },
        "outputId": "368f5653-e00b-4757-f39f-5750d6bafa05"
      },
      "source": [
        "class generatorNet(nn.Module):\n",
        "  def __init__(self):\n",
        "    super().__init__()\n",
        "    \n",
        "    self.fc1 = nn.Linear(64,256)\n",
        "    self.fc2 = nn.Linear(256,256)\n",
        "    self.out = nn.Linear(256,784)\n",
        "\n",
        "  def forward(self,x):\n",
        "    x = F.leaky_relu( self.fc1(x) )\n",
        "    x = F.leaky_relu( self.fc2(x) )\n",
        "    x = self.out(x)\n",
        "    return torch.tanh( x )\n",
        "\n",
        "\n",
        "gnet = generatorNet()\n",
        "y = gnet(torch.randn(10,64))\n",
        "\n",
        "plt.imshow(y[0,:].detach().squeeze().view(28,28));"
      ],
      "execution_count": 27,
      "outputs": [
        {
          "output_type": "display_data",
          "data": {
            "text/plain": [
              "<Figure size 432x288 with 1 Axes>"
            ],
            "image/svg+xml": "<?xml version=\"1.0\" encoding=\"utf-8\" standalone=\"no\"?>\n<!DOCTYPE svg PUBLIC \"-//W3C//DTD SVG 1.1//EN\"\n  \"http://www.w3.org/Graphics/SVG/1.1/DTD/svg11.dtd\">\n<!-- Created with matplotlib (https://matplotlib.org/) -->\n<svg height=\"248.518125pt\" version=\"1.1\" viewBox=\"0 0 251.565 248.518125\" width=\"251.565pt\" xmlns=\"http://www.w3.org/2000/svg\" xmlns:xlink=\"http://www.w3.org/1999/xlink\">\n <defs>\n  <style type=\"text/css\">\n*{stroke-linecap:butt;stroke-linejoin:round;}\n  </style>\n </defs>\n <g id=\"figure_1\">\n  <g id=\"patch_1\">\n   <path d=\"M 0 248.518125 \nL 251.565 248.518125 \nL 251.565 0 \nL 0 0 \nz\n\" style=\"fill:none;\"/>\n  </g>\n  <g id=\"axes_1\">\n   <g id=\"patch_2\">\n    <path d=\"M 26.925 224.64 \nL 244.365 224.64 \nL 244.365 7.2 \nL 26.925 7.2 \nz\n\" style=\"fill:#ffffff;\"/>\n   </g>\n   <g clip-path=\"url(#p3a53edf6d8)\">\n    <image height=\"218\" id=\"image7412a0d167\" transform=\"scale(1 -1)translate(0 -218)\" width=\"218\" x=\"26.925\" xlink:href=\"data:image/png;base64,\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\" y=\"-6.64\"/>\n   </g>\n   <g id=\"matplotlib.axis_1\">\n    <g id=\"xtick_1\">\n     <g id=\"line2d_1\">\n      <defs>\n       <path d=\"M 0 0 \nL 0 3.5 \n\" id=\"m915ae6351c\" style=\"stroke:#000000;stroke-width:0.8;\"/>\n      </defs>\n      <g>\n       <use style=\"stroke:#000000;stroke-width:0.8;\" x=\"30.807857\" xlink:href=\"#m915ae6351c\" y=\"224.64\"/>\n      </g>\n     </g>\n     <g id=\"text_1\">\n      <!-- 0 -->\n      <defs>\n       <path d=\"M 31.78125 66.40625 \nQ 24.171875 66.40625 20.328125 58.90625 \nQ 16.5 51.421875 16.5 36.375 \nQ 16.5 21.390625 20.328125 13.890625 \nQ 24.171875 6.390625 31.78125 6.390625 \nQ 39.453125 6.390625 43.28125 13.890625 \nQ 47.125 21.390625 47.125 36.375 \nQ 47.125 51.421875 43.28125 58.90625 \nQ 39.453125 66.40625 31.78125 66.40625 \nz\nM 31.78125 74.21875 \nQ 44.046875 74.21875 50.515625 64.515625 \nQ 56.984375 54.828125 56.984375 36.375 \nQ 56.984375 17.96875 50.515625 8.265625 \nQ 44.046875 -1.421875 31.78125 -1.421875 \nQ 19.53125 -1.421875 13.0625 8.265625 \nQ 6.59375 17.96875 6.59375 36.375 \nQ 6.59375 54.828125 13.0625 64.515625 \nQ 19.53125 74.21875 31.78125 74.21875 \nz\n\" id=\"DejaVuSans-48\"/>\n      </defs>\n      <g transform=\"translate(27.626607 239.238437)scale(0.1 -0.1)\">\n       <use xlink:href=\"#DejaVuSans-48\"/>\n      </g>\n     </g>\n    </g>\n    <g id=\"xtick_2\">\n     <g id=\"line2d_2\">\n      <g>\n       <use style=\"stroke:#000000;stroke-width:0.8;\" x=\"69.636429\" xlink:href=\"#m915ae6351c\" y=\"224.64\"/>\n      </g>\n     </g>\n     <g id=\"text_2\">\n      <!-- 5 -->\n      <defs>\n       <path d=\"M 10.796875 72.90625 \nL 49.515625 72.90625 \nL 49.515625 64.59375 \nL 19.828125 64.59375 \nL 19.828125 46.734375 \nQ 21.96875 47.46875 24.109375 47.828125 \nQ 26.265625 48.1875 28.421875 48.1875 \nQ 40.625 48.1875 47.75 41.5 \nQ 54.890625 34.8125 54.890625 23.390625 \nQ 54.890625 11.625 47.5625 5.09375 \nQ 40.234375 -1.421875 26.90625 -1.421875 \nQ 22.3125 -1.421875 17.546875 -0.640625 \nQ 12.796875 0.140625 7.71875 1.703125 \nL 7.71875 11.625 \nQ 12.109375 9.234375 16.796875 8.0625 \nQ 21.484375 6.890625 26.703125 6.890625 \nQ 35.15625 6.890625 40.078125 11.328125 \nQ 45.015625 15.765625 45.015625 23.390625 \nQ 45.015625 31 40.078125 35.4375 \nQ 35.15625 39.890625 26.703125 39.890625 \nQ 22.75 39.890625 18.8125 39.015625 \nQ 14.890625 38.140625 10.796875 36.28125 \nz\n\" id=\"DejaVuSans-53\"/>\n      </defs>\n      <g transform=\"translate(66.455179 239.238437)scale(0.1 -0.1)\">\n       <use xlink:href=\"#DejaVuSans-53\"/>\n      </g>\n     </g>\n    </g>\n    <g id=\"xtick_3\">\n     <g id=\"line2d_3\">\n      <g>\n       <use style=\"stroke:#000000;stroke-width:0.8;\" x=\"108.465\" xlink:href=\"#m915ae6351c\" y=\"224.64\"/>\n      </g>\n     </g>\n     <g id=\"text_3\">\n      <!-- 10 -->\n      <defs>\n       <path d=\"M 12.40625 8.296875 \nL 28.515625 8.296875 \nL 28.515625 63.921875 \nL 10.984375 60.40625 \nL 10.984375 69.390625 \nL 28.421875 72.90625 \nL 38.28125 72.90625 \nL 38.28125 8.296875 \nL 54.390625 8.296875 \nL 54.390625 0 \nL 12.40625 0 \nz\n\" id=\"DejaVuSans-49\"/>\n      </defs>\n      <g transform=\"translate(102.1025 239.238437)scale(0.1 -0.1)\">\n       <use xlink:href=\"#DejaVuSans-49\"/>\n       <use x=\"63.623047\" xlink:href=\"#DejaVuSans-48\"/>\n      </g>\n     </g>\n    </g>\n    <g id=\"xtick_4\">\n     <g id=\"line2d_4\">\n      <g>\n       <use style=\"stroke:#000000;stroke-width:0.8;\" x=\"147.293571\" xlink:href=\"#m915ae6351c\" y=\"224.64\"/>\n      </g>\n     </g>\n     <g id=\"text_4\">\n      <!-- 15 -->\n      <g transform=\"translate(140.931071 239.238437)scale(0.1 -0.1)\">\n       <use xlink:href=\"#DejaVuSans-49\"/>\n       <use x=\"63.623047\" xlink:href=\"#DejaVuSans-53\"/>\n      </g>\n     </g>\n    </g>\n    <g id=\"xtick_5\">\n     <g id=\"line2d_5\">\n      <g>\n       <use style=\"stroke:#000000;stroke-width:0.8;\" x=\"186.122143\" xlink:href=\"#m915ae6351c\" y=\"224.64\"/>\n      </g>\n     </g>\n     <g id=\"text_5\">\n      <!-- 20 -->\n      <defs>\n       <path d=\"M 19.1875 8.296875 \nL 53.609375 8.296875 \nL 53.609375 0 \nL 7.328125 0 \nL 7.328125 8.296875 \nQ 12.9375 14.109375 22.625 23.890625 \nQ 32.328125 33.6875 34.8125 36.53125 \nQ 39.546875 41.84375 41.421875 45.53125 \nQ 43.3125 49.21875 43.3125 52.78125 \nQ 43.3125 58.59375 39.234375 62.25 \nQ 35.15625 65.921875 28.609375 65.921875 \nQ 23.96875 65.921875 18.8125 64.3125 \nQ 13.671875 62.703125 7.8125 59.421875 \nL 7.8125 69.390625 \nQ 13.765625 71.78125 18.9375 73 \nQ 24.125 74.21875 28.421875 74.21875 \nQ 39.75 74.21875 46.484375 68.546875 \nQ 53.21875 62.890625 53.21875 53.421875 \nQ 53.21875 48.921875 51.53125 44.890625 \nQ 49.859375 40.875 45.40625 35.40625 \nQ 44.1875 33.984375 37.640625 27.21875 \nQ 31.109375 20.453125 19.1875 8.296875 \nz\n\" id=\"DejaVuSans-50\"/>\n      </defs>\n      <g transform=\"translate(179.759643 239.238437)scale(0.1 -0.1)\">\n       <use xlink:href=\"#DejaVuSans-50\"/>\n       <use x=\"63.623047\" xlink:href=\"#DejaVuSans-48\"/>\n      </g>\n     </g>\n    </g>\n    <g id=\"xtick_6\">\n     <g id=\"line2d_6\">\n      <g>\n       <use style=\"stroke:#000000;stroke-width:0.8;\" x=\"224.950714\" xlink:href=\"#m915ae6351c\" y=\"224.64\"/>\n      </g>\n     </g>\n     <g id=\"text_6\">\n      <!-- 25 -->\n      <g transform=\"translate(218.588214 239.238437)scale(0.1 -0.1)\">\n       <use xlink:href=\"#DejaVuSans-50\"/>\n       <use x=\"63.623047\" xlink:href=\"#DejaVuSans-53\"/>\n      </g>\n     </g>\n    </g>\n   </g>\n   <g id=\"matplotlib.axis_2\">\n    <g id=\"ytick_1\">\n     <g id=\"line2d_7\">\n      <defs>\n       <path d=\"M 0 0 \nL -3.5 0 \n\" id=\"m4f267e70ef\" style=\"stroke:#000000;stroke-width:0.8;\"/>\n      </defs>\n      <g>\n       <use style=\"stroke:#000000;stroke-width:0.8;\" x=\"26.925\" xlink:href=\"#m4f267e70ef\" y=\"11.082857\"/>\n      </g>\n     </g>\n     <g id=\"text_7\">\n      <!-- 0 -->\n      <g transform=\"translate(13.5625 14.882076)scale(0.1 -0.1)\">\n       <use xlink:href=\"#DejaVuSans-48\"/>\n      </g>\n     </g>\n    </g>\n    <g id=\"ytick_2\">\n     <g id=\"line2d_8\">\n      <g>\n       <use style=\"stroke:#000000;stroke-width:0.8;\" x=\"26.925\" xlink:href=\"#m4f267e70ef\" y=\"49.911429\"/>\n      </g>\n     </g>\n     <g id=\"text_8\">\n      <!-- 5 -->\n      <g transform=\"translate(13.5625 53.710647)scale(0.1 -0.1)\">\n       <use xlink:href=\"#DejaVuSans-53\"/>\n      </g>\n     </g>\n    </g>\n    <g id=\"ytick_3\">\n     <g id=\"line2d_9\">\n      <g>\n       <use style=\"stroke:#000000;stroke-width:0.8;\" x=\"26.925\" xlink:href=\"#m4f267e70ef\" y=\"88.74\"/>\n      </g>\n     </g>\n     <g id=\"text_9\">\n      <!-- 10 -->\n      <g transform=\"translate(7.2 92.539219)scale(0.1 -0.1)\">\n       <use xlink:href=\"#DejaVuSans-49\"/>\n       <use x=\"63.623047\" xlink:href=\"#DejaVuSans-48\"/>\n      </g>\n     </g>\n    </g>\n    <g id=\"ytick_4\">\n     <g id=\"line2d_10\">\n      <g>\n       <use style=\"stroke:#000000;stroke-width:0.8;\" x=\"26.925\" xlink:href=\"#m4f267e70ef\" y=\"127.568571\"/>\n      </g>\n     </g>\n     <g id=\"text_10\">\n      <!-- 15 -->\n      <g transform=\"translate(7.2 131.36779)scale(0.1 -0.1)\">\n       <use xlink:href=\"#DejaVuSans-49\"/>\n       <use x=\"63.623047\" xlink:href=\"#DejaVuSans-53\"/>\n      </g>\n     </g>\n    </g>\n    <g id=\"ytick_5\">\n     <g id=\"line2d_11\">\n      <g>\n       <use style=\"stroke:#000000;stroke-width:0.8;\" x=\"26.925\" xlink:href=\"#m4f267e70ef\" y=\"166.397143\"/>\n      </g>\n     </g>\n     <g id=\"text_11\">\n      <!-- 20 -->\n      <g transform=\"translate(7.2 170.196362)scale(0.1 -0.1)\">\n       <use xlink:href=\"#DejaVuSans-50\"/>\n       <use x=\"63.623047\" xlink:href=\"#DejaVuSans-48\"/>\n      </g>\n     </g>\n    </g>\n    <g id=\"ytick_6\">\n     <g id=\"line2d_12\">\n      <g>\n       <use style=\"stroke:#000000;stroke-width:0.8;\" x=\"26.925\" xlink:href=\"#m4f267e70ef\" y=\"205.225714\"/>\n      </g>\n     </g>\n     <g id=\"text_12\">\n      <!-- 25 -->\n      <g transform=\"translate(7.2 209.024933)scale(0.1 -0.1)\">\n       <use xlink:href=\"#DejaVuSans-50\"/>\n       <use x=\"63.623047\" xlink:href=\"#DejaVuSans-53\"/>\n      </g>\n     </g>\n    </g>\n   </g>\n   <g id=\"patch_3\">\n    <path d=\"M 26.925 224.64 \nL 26.925 7.2 \n\" style=\"fill:none;stroke:#000000;stroke-linecap:square;stroke-linejoin:miter;stroke-width:0.8;\"/>\n   </g>\n   <g id=\"patch_4\">\n    <path d=\"M 244.365 224.64 \nL 244.365 7.2 \n\" style=\"fill:none;stroke:#000000;stroke-linecap:square;stroke-linejoin:miter;stroke-width:0.8;\"/>\n   </g>\n   <g id=\"patch_5\">\n    <path d=\"M 26.925 224.64 \nL 244.365 224.64 \n\" style=\"fill:none;stroke:#000000;stroke-linecap:square;stroke-linejoin:miter;stroke-width:0.8;\"/>\n   </g>\n   <g id=\"patch_6\">\n    <path d=\"M 26.925 7.2 \nL 244.365 7.2 \n\" style=\"fill:none;stroke:#000000;stroke-linecap:square;stroke-linejoin:miter;stroke-width:0.8;\"/>\n   </g>\n  </g>\n </g>\n <defs>\n  <clipPath id=\"p3a53edf6d8\">\n   <rect height=\"217.44\" width=\"217.44\" x=\"26.925\" y=\"7.2\"/>\n  </clipPath>\n </defs>\n</svg>\n"
          },
          "metadata": {
            "needs_background": "light"
          }
        }
      ]
    },
    {
      "cell_type": "code",
      "source": [
        ""
      ],
      "metadata": {
        "id": "iW0q5XkQT4NT"
      },
      "execution_count": 27,
      "outputs": []
    },
    {
      "cell_type": "markdown",
      "metadata": {
        "id": "bBsOOqcX_LvO"
      },
      "source": [
        "# Train the models"
      ]
    },
    {
      "cell_type": "code",
      "metadata": {
        "id": "SFDbnRqeCPqy"
      },
      "source": [
        "# loss function (same for both phases of training)\n",
        "lossfun = nn.BCELoss()\n",
        "\n",
        "# create instances of the models\n",
        "dnet = discriminatorNet().to(device)\n",
        "gnet = generatorNet().to(device)\n",
        "\n",
        "# optimizers (same algo but different variables b/c different parameters)\n",
        "d_optimizer = torch.optim.Adam(dnet.parameters(), lr=.0001)\n",
        "g_optimizer = torch.optim.Adam(gnet.parameters(), lr=.0001)"
      ],
      "execution_count": 28,
      "outputs": []
    },
    {
      "cell_type": "code",
      "source": [
        ""
      ],
      "metadata": {
        "id": "sIsN7X2UT4I3"
      },
      "execution_count": 28,
      "outputs": []
    },
    {
      "cell_type": "code",
      "metadata": {
        "id": "83Ju8fDuUTBg",
        "colab": {
          "base_uri": "https://localhost:8080/"
        },
        "outputId": "4286bcbb-b07d-4c35-cdb3-a1348374c5ed"
      },
      "source": [
        "num_epochs = 2000\n",
        "\n",
        "losses  = np.zeros((num_epochs,2))\n",
        "disDecs = np.zeros((num_epochs,2)) # disDecs = discriminator decisions\n",
        "\n",
        "for epochi in range(num_epochs):\n",
        "\n",
        "  for X,y in train_loader:\n",
        "    \n",
        "    # create minibatches of REAL and FAKE images \n",
        "    # randidx     = torch.randint(dataT.shape[0],(batchsize,))\n",
        "    real_images = X.reshape(batchsize,784).to(device)\n",
        "    fake_images = gnet( torch.randn(batchsize,64).to(device) ) # output of generator\n",
        "\n",
        "    # labels used for real and fake images\n",
        "    real_labels = torch.ones(batchsize,1).to(device)\n",
        "    fake_labels = torch.zeros(batchsize,1).to(device)\n",
        "\n",
        "\n",
        "\n",
        "    ### ---------------- Train the discriminator ---------------- ###\n",
        "\n",
        "    # forward pass and loss for REAL pictures\n",
        "    pred_real   = dnet(real_images)              # REAL images into discriminator\n",
        "    d_loss_real = lossfun(pred_real,real_labels) # all labels are 1\n",
        "    \n",
        "    # forward pass and loss for FAKE pictures\n",
        "    pred_fake   = dnet(fake_images)              # FAKE images into discriminator\n",
        "    d_loss_fake = lossfun(pred_fake,fake_labels) # all labels are 0\n",
        "    \n",
        "    # collect loss (using combined losses)\n",
        "    d_loss = d_loss_real + d_loss_fake\n",
        "    losses[epochi,0]  = d_loss.item()\n",
        "    disDecs[epochi,0] = torch.mean((pred_real>.5).float()).detach()\n",
        "\n",
        "    # backprop\n",
        "    d_optimizer.zero_grad()\n",
        "    d_loss.backward()\n",
        "    d_optimizer.step()\n",
        "\n",
        "    \n",
        "    \n",
        "\n",
        "    ### ---------------- Train the generator ---------------- ###\n",
        "\n",
        "    # create fake images and compute loss\n",
        "    fake_images = gnet( torch.randn(batchsize,64).to(device) )\n",
        "    pred_fake   = dnet(fake_images)\n",
        "    \n",
        "    # compute and collect loss and accuracy\n",
        "    g_loss = lossfun(pred_fake,real_labels)\n",
        "    losses[epochi,1]  = g_loss.item()\n",
        "    disDecs[epochi,1] = torch.mean((pred_fake>.5).float()).detach()\n",
        "    \n",
        "    # backprop\n",
        "    g_optimizer.zero_grad()\n",
        "    g_loss.backward()\n",
        "    g_optimizer.step()\n",
        "\n",
        "    \n",
        "    # print out a status message\n",
        "    if (epochi+1)%50==0:\n",
        "      msg = f'Finished epoch {epochi+1}/{num_epochs}'\n",
        "      sys.stdout.write('\\r' + msg)\n",
        "  "
      ],
      "execution_count": 37,
      "outputs": [
        {
          "output_type": "stream",
          "name": "stdout",
          "text": [
            "Finished epoch 2000/2000"
          ]
        }
      ]
    },
    {
      "cell_type": "code",
      "metadata": {
        "id": "1C0qAf9kN7mi",
        "colab": {
          "base_uri": "https://localhost:8080/",
          "height": 483
        },
        "outputId": "a7671eb5-5114-47aa-ec30-6b9c1fb3731b"
      },
      "source": [
        "fig,ax = plt.subplots(1,3,figsize=(18,5))\n",
        "\n",
        "ax[0].plot(losses)\n",
        "ax[0].set_xlabel('Epochs')\n",
        "ax[0].set_ylabel('Loss')\n",
        "ax[0].set_title('Model loss')\n",
        "ax[0].legend(['Discrimator','Generator'])\n",
        "# ax[0].set_xlim([4000,5000])\n",
        "\n",
        "ax[1].plot(losses[::5,0],losses[::5,1],'k.',alpha=.1)\n",
        "ax[1].set_xlabel('Discriminator loss')\n",
        "ax[1].set_ylabel('Generator loss')\n",
        "\n",
        "ax[2].plot(disDecs)\n",
        "ax[2].set_xlabel('Epochs')\n",
        "ax[2].set_ylabel('Probablity (\"real\")')\n",
        "ax[2].set_title('Discriminator output')\n",
        "ax[2].legend(['Real','Fake'])\n",
        "\n",
        "plt.show()"
      ],
      "execution_count": 38,
      "outputs": [
        {
          "output_type": "display_data",
          "data": {
            "text/plain": [
              "<Figure size 1296x360 with 3 Axes>"
            ],
            "image/svg+xml": "<?xml version=\"1.0\" encoding=\"utf-8\" standalone=\"no\"?>\n<!DOCTYPE svg PUBLIC \"-//W3C//DTD SVG 1.1//EN\"\n  \"http://www.w3.org/Graphics/SVG/1.1/DTD/svg11.dtd\">\n<!-- Created with matplotlib (https://matplotlib.org/) -->\n<svg height=\"331.674375pt\" version=\"1.1\" viewBox=\"0 0 1055.38125 331.674375\" width=\"1055.38125pt\" xmlns=\"http://www.w3.org/2000/svg\" xmlns:xlink=\"http://www.w3.org/1999/xlink\">\n <defs>\n  <style type=\"text/css\">\n*{stroke-linecap:butt;stroke-linejoin:round;}\n  </style>\n </defs>\n <g id=\"figure_1\">\n  <g id=\"patch_1\">\n   <path d=\"M 0 331.674375 \nL 1055.38125 331.674375 \nL 1055.38125 0 \nL 0 0 \nz\n\" style=\"fill:none;\"/>\n  </g>\n  <g id=\"axes_1\">\n   <g id=\"patch_2\">\n    <path d=\"M 43.78125 294.118125 \nL 339.193015 294.118125 \nL 339.193015 22.318125 \nL 43.78125 22.318125 \nz\n\" style=\"fill:#ffffff;\"/>\n   </g>\n   <g id=\"matplotlib.axis_1\">\n    <g id=\"xtick_1\">\n     <g id=\"line2d_1\">\n      <defs>\n       <path d=\"M 0 0 \nL 0 3.5 \n\" id=\"m5da3984d9f\" style=\"stroke:#000000;stroke-width:0.8;\"/>\n      </defs>\n      <g>\n       <use style=\"stroke:#000000;stroke-width:0.8;\" x=\"57.209057\" xlink:href=\"#m5da3984d9f\" y=\"294.118125\"/>\n      </g>\n     </g>\n     <g id=\"text_1\">\n      <!-- 0 -->\n      <defs>\n       <path d=\"M 31.78125 66.40625 \nQ 24.171875 66.40625 20.328125 58.90625 \nQ 16.5 51.421875 16.5 36.375 \nQ 16.5 21.390625 20.328125 13.890625 \nQ 24.171875 6.390625 31.78125 6.390625 \nQ 39.453125 6.390625 43.28125 13.890625 \nQ 47.125 21.390625 47.125 36.375 \nQ 47.125 51.421875 43.28125 58.90625 \nQ 39.453125 66.40625 31.78125 66.40625 \nz\nM 31.78125 74.21875 \nQ 44.046875 74.21875 50.515625 64.515625 \nQ 56.984375 54.828125 56.984375 36.375 \nQ 56.984375 17.96875 50.515625 8.265625 \nQ 44.046875 -1.421875 31.78125 -1.421875 \nQ 19.53125 -1.421875 13.0625 8.265625 \nQ 6.59375 17.96875 6.59375 36.375 \nQ 6.59375 54.828125 13.0625 64.515625 \nQ 19.53125 74.21875 31.78125 74.21875 \nz\n\" id=\"DejaVuSans-48\"/>\n      </defs>\n      <g transform=\"translate(54.027807 308.716563)scale(0.1 -0.1)\">\n       <use xlink:href=\"#DejaVuSans-48\"/>\n      </g>\n     </g>\n    </g>\n    <g id=\"xtick_2\">\n     <g id=\"line2d_2\">\n      <g>\n       <use style=\"stroke:#000000;stroke-width:0.8;\" x=\"90.795369\" xlink:href=\"#m5da3984d9f\" y=\"294.118125\"/>\n      </g>\n     </g>\n     <g id=\"text_2\">\n      <!-- 250 -->\n      <defs>\n       <path d=\"M 19.1875 8.296875 \nL 53.609375 8.296875 \nL 53.609375 0 \nL 7.328125 0 \nL 7.328125 8.296875 \nQ 12.9375 14.109375 22.625 23.890625 \nQ 32.328125 33.6875 34.8125 36.53125 \nQ 39.546875 41.84375 41.421875 45.53125 \nQ 43.3125 49.21875 43.3125 52.78125 \nQ 43.3125 58.59375 39.234375 62.25 \nQ 35.15625 65.921875 28.609375 65.921875 \nQ 23.96875 65.921875 18.8125 64.3125 \nQ 13.671875 62.703125 7.8125 59.421875 \nL 7.8125 69.390625 \nQ 13.765625 71.78125 18.9375 73 \nQ 24.125 74.21875 28.421875 74.21875 \nQ 39.75 74.21875 46.484375 68.546875 \nQ 53.21875 62.890625 53.21875 53.421875 \nQ 53.21875 48.921875 51.53125 44.890625 \nQ 49.859375 40.875 45.40625 35.40625 \nQ 44.1875 33.984375 37.640625 27.21875 \nQ 31.109375 20.453125 19.1875 8.296875 \nz\n\" id=\"DejaVuSans-50\"/>\n       <path d=\"M 10.796875 72.90625 \nL 49.515625 72.90625 \nL 49.515625 64.59375 \nL 19.828125 64.59375 \nL 19.828125 46.734375 \nQ 21.96875 47.46875 24.109375 47.828125 \nQ 26.265625 48.1875 28.421875 48.1875 \nQ 40.625 48.1875 47.75 41.5 \nQ 54.890625 34.8125 54.890625 23.390625 \nQ 54.890625 11.625 47.5625 5.09375 \nQ 40.234375 -1.421875 26.90625 -1.421875 \nQ 22.3125 -1.421875 17.546875 -0.640625 \nQ 12.796875 0.140625 7.71875 1.703125 \nL 7.71875 11.625 \nQ 12.109375 9.234375 16.796875 8.0625 \nQ 21.484375 6.890625 26.703125 6.890625 \nQ 35.15625 6.890625 40.078125 11.328125 \nQ 45.015625 15.765625 45.015625 23.390625 \nQ 45.015625 31 40.078125 35.4375 \nQ 35.15625 39.890625 26.703125 39.890625 \nQ 22.75 39.890625 18.8125 39.015625 \nQ 14.890625 38.140625 10.796875 36.28125 \nz\n\" id=\"DejaVuSans-53\"/>\n      </defs>\n      <g transform=\"translate(81.251619 308.716563)scale(0.1 -0.1)\">\n       <use xlink:href=\"#DejaVuSans-50\"/>\n       <use x=\"63.623047\" xlink:href=\"#DejaVuSans-53\"/>\n       <use x=\"127.246094\" xlink:href=\"#DejaVuSans-48\"/>\n      </g>\n     </g>\n    </g>\n    <g id=\"xtick_3\">\n     <g id=\"line2d_3\">\n      <g>\n       <use style=\"stroke:#000000;stroke-width:0.8;\" x=\"124.381681\" xlink:href=\"#m5da3984d9f\" y=\"294.118125\"/>\n      </g>\n     </g>\n     <g id=\"text_3\">\n      <!-- 500 -->\n      <g transform=\"translate(114.837931 308.716563)scale(0.1 -0.1)\">\n       <use xlink:href=\"#DejaVuSans-53\"/>\n       <use x=\"63.623047\" xlink:href=\"#DejaVuSans-48\"/>\n       <use x=\"127.246094\" xlink:href=\"#DejaVuSans-48\"/>\n      </g>\n     </g>\n    </g>\n    <g id=\"xtick_4\">\n     <g id=\"line2d_4\">\n      <g>\n       <use style=\"stroke:#000000;stroke-width:0.8;\" x=\"157.967993\" xlink:href=\"#m5da3984d9f\" y=\"294.118125\"/>\n      </g>\n     </g>\n     <g id=\"text_4\">\n      <!-- 750 -->\n      <defs>\n       <path d=\"M 8.203125 72.90625 \nL 55.078125 72.90625 \nL 55.078125 68.703125 \nL 28.609375 0 \nL 18.3125 0 \nL 43.21875 64.59375 \nL 8.203125 64.59375 \nz\n\" id=\"DejaVuSans-55\"/>\n      </defs>\n      <g transform=\"translate(148.424243 308.716563)scale(0.1 -0.1)\">\n       <use xlink:href=\"#DejaVuSans-55\"/>\n       <use x=\"63.623047\" xlink:href=\"#DejaVuSans-53\"/>\n       <use x=\"127.246094\" xlink:href=\"#DejaVuSans-48\"/>\n      </g>\n     </g>\n    </g>\n    <g id=\"xtick_5\">\n     <g id=\"line2d_5\">\n      <g>\n       <use style=\"stroke:#000000;stroke-width:0.8;\" x=\"191.554305\" xlink:href=\"#m5da3984d9f\" y=\"294.118125\"/>\n      </g>\n     </g>\n     <g id=\"text_5\">\n      <!-- 1000 -->\n      <defs>\n       <path d=\"M 12.40625 8.296875 \nL 28.515625 8.296875 \nL 28.515625 63.921875 \nL 10.984375 60.40625 \nL 10.984375 69.390625 \nL 28.421875 72.90625 \nL 38.28125 72.90625 \nL 38.28125 8.296875 \nL 54.390625 8.296875 \nL 54.390625 0 \nL 12.40625 0 \nz\n\" id=\"DejaVuSans-49\"/>\n      </defs>\n      <g transform=\"translate(178.829305 308.716563)scale(0.1 -0.1)\">\n       <use xlink:href=\"#DejaVuSans-49\"/>\n       <use x=\"63.623047\" xlink:href=\"#DejaVuSans-48\"/>\n       <use x=\"127.246094\" xlink:href=\"#DejaVuSans-48\"/>\n       <use x=\"190.869141\" xlink:href=\"#DejaVuSans-48\"/>\n      </g>\n     </g>\n    </g>\n    <g id=\"xtick_6\">\n     <g id=\"line2d_6\">\n      <g>\n       <use style=\"stroke:#000000;stroke-width:0.8;\" x=\"225.140617\" xlink:href=\"#m5da3984d9f\" y=\"294.118125\"/>\n      </g>\n     </g>\n     <g id=\"text_6\">\n      <!-- 1250 -->\n      <g transform=\"translate(212.415617 308.716563)scale(0.1 -0.1)\">\n       <use xlink:href=\"#DejaVuSans-49\"/>\n       <use x=\"63.623047\" xlink:href=\"#DejaVuSans-50\"/>\n       <use x=\"127.246094\" xlink:href=\"#DejaVuSans-53\"/>\n       <use x=\"190.869141\" xlink:href=\"#DejaVuSans-48\"/>\n      </g>\n     </g>\n    </g>\n    <g id=\"xtick_7\">\n     <g id=\"line2d_7\">\n      <g>\n       <use style=\"stroke:#000000;stroke-width:0.8;\" x=\"258.726929\" xlink:href=\"#m5da3984d9f\" y=\"294.118125\"/>\n      </g>\n     </g>\n     <g id=\"text_7\">\n      <!-- 1500 -->\n      <g transform=\"translate(246.001929 308.716563)scale(0.1 -0.1)\">\n       <use xlink:href=\"#DejaVuSans-49\"/>\n       <use x=\"63.623047\" xlink:href=\"#DejaVuSans-53\"/>\n       <use x=\"127.246094\" xlink:href=\"#DejaVuSans-48\"/>\n       <use x=\"190.869141\" xlink:href=\"#DejaVuSans-48\"/>\n      </g>\n     </g>\n    </g>\n    <g id=\"xtick_8\">\n     <g id=\"line2d_8\">\n      <g>\n       <use style=\"stroke:#000000;stroke-width:0.8;\" x=\"292.313241\" xlink:href=\"#m5da3984d9f\" y=\"294.118125\"/>\n      </g>\n     </g>\n     <g id=\"text_8\">\n      <!-- 1750 -->\n      <g transform=\"translate(279.588241 308.716563)scale(0.1 -0.1)\">\n       <use xlink:href=\"#DejaVuSans-49\"/>\n       <use x=\"63.623047\" xlink:href=\"#DejaVuSans-55\"/>\n       <use x=\"127.246094\" xlink:href=\"#DejaVuSans-53\"/>\n       <use x=\"190.869141\" xlink:href=\"#DejaVuSans-48\"/>\n      </g>\n     </g>\n    </g>\n    <g id=\"xtick_9\">\n     <g id=\"line2d_9\">\n      <g>\n       <use style=\"stroke:#000000;stroke-width:0.8;\" x=\"325.899552\" xlink:href=\"#m5da3984d9f\" y=\"294.118125\"/>\n      </g>\n     </g>\n     <g id=\"text_9\">\n      <!-- 2000 -->\n      <g transform=\"translate(313.174552 308.716563)scale(0.1 -0.1)\">\n       <use xlink:href=\"#DejaVuSans-50\"/>\n       <use x=\"63.623047\" xlink:href=\"#DejaVuSans-48\"/>\n       <use x=\"127.246094\" xlink:href=\"#DejaVuSans-48\"/>\n       <use x=\"190.869141\" xlink:href=\"#DejaVuSans-48\"/>\n      </g>\n     </g>\n    </g>\n    <g id=\"text_10\">\n     <!-- Epochs -->\n     <defs>\n      <path d=\"M 9.8125 72.90625 \nL 55.90625 72.90625 \nL 55.90625 64.59375 \nL 19.671875 64.59375 \nL 19.671875 43.015625 \nL 54.390625 43.015625 \nL 54.390625 34.71875 \nL 19.671875 34.71875 \nL 19.671875 8.296875 \nL 56.78125 8.296875 \nL 56.78125 0 \nL 9.8125 0 \nz\n\" id=\"DejaVuSans-69\"/>\n      <path d=\"M 18.109375 8.203125 \nL 18.109375 -20.796875 \nL 9.078125 -20.796875 \nL 9.078125 54.6875 \nL 18.109375 54.6875 \nL 18.109375 46.390625 \nQ 20.953125 51.265625 25.265625 53.625 \nQ 29.59375 56 35.59375 56 \nQ 45.5625 56 51.78125 48.09375 \nQ 58.015625 40.1875 58.015625 27.296875 \nQ 58.015625 14.40625 51.78125 6.484375 \nQ 45.5625 -1.421875 35.59375 -1.421875 \nQ 29.59375 -1.421875 25.265625 0.953125 \nQ 20.953125 3.328125 18.109375 8.203125 \nz\nM 48.6875 27.296875 \nQ 48.6875 37.203125 44.609375 42.84375 \nQ 40.53125 48.484375 33.40625 48.484375 \nQ 26.265625 48.484375 22.1875 42.84375 \nQ 18.109375 37.203125 18.109375 27.296875 \nQ 18.109375 17.390625 22.1875 11.75 \nQ 26.265625 6.109375 33.40625 6.109375 \nQ 40.53125 6.109375 44.609375 11.75 \nQ 48.6875 17.390625 48.6875 27.296875 \nz\n\" id=\"DejaVuSans-112\"/>\n      <path d=\"M 30.609375 48.390625 \nQ 23.390625 48.390625 19.1875 42.75 \nQ 14.984375 37.109375 14.984375 27.296875 \nQ 14.984375 17.484375 19.15625 11.84375 \nQ 23.34375 6.203125 30.609375 6.203125 \nQ 37.796875 6.203125 41.984375 11.859375 \nQ 46.1875 17.53125 46.1875 27.296875 \nQ 46.1875 37.015625 41.984375 42.703125 \nQ 37.796875 48.390625 30.609375 48.390625 \nz\nM 30.609375 56 \nQ 42.328125 56 49.015625 48.375 \nQ 55.71875 40.765625 55.71875 27.296875 \nQ 55.71875 13.875 49.015625 6.21875 \nQ 42.328125 -1.421875 30.609375 -1.421875 \nQ 18.84375 -1.421875 12.171875 6.21875 \nQ 5.515625 13.875 5.515625 27.296875 \nQ 5.515625 40.765625 12.171875 48.375 \nQ 18.84375 56 30.609375 56 \nz\n\" id=\"DejaVuSans-111\"/>\n      <path d=\"M 48.78125 52.59375 \nL 48.78125 44.1875 \nQ 44.96875 46.296875 41.140625 47.34375 \nQ 37.3125 48.390625 33.40625 48.390625 \nQ 24.65625 48.390625 19.8125 42.84375 \nQ 14.984375 37.3125 14.984375 27.296875 \nQ 14.984375 17.28125 19.8125 11.734375 \nQ 24.65625 6.203125 33.40625 6.203125 \nQ 37.3125 6.203125 41.140625 7.25 \nQ 44.96875 8.296875 48.78125 10.40625 \nL 48.78125 2.09375 \nQ 45.015625 0.34375 40.984375 -0.53125 \nQ 36.96875 -1.421875 32.421875 -1.421875 \nQ 20.0625 -1.421875 12.78125 6.34375 \nQ 5.515625 14.109375 5.515625 27.296875 \nQ 5.515625 40.671875 12.859375 48.328125 \nQ 20.21875 56 33.015625 56 \nQ 37.15625 56 41.109375 55.140625 \nQ 45.0625 54.296875 48.78125 52.59375 \nz\n\" id=\"DejaVuSans-99\"/>\n      <path d=\"M 54.890625 33.015625 \nL 54.890625 0 \nL 45.90625 0 \nL 45.90625 32.71875 \nQ 45.90625 40.484375 42.875 44.328125 \nQ 39.84375 48.1875 33.796875 48.1875 \nQ 26.515625 48.1875 22.3125 43.546875 \nQ 18.109375 38.921875 18.109375 30.90625 \nL 18.109375 0 \nL 9.078125 0 \nL 9.078125 75.984375 \nL 18.109375 75.984375 \nL 18.109375 46.1875 \nQ 21.34375 51.125 25.703125 53.5625 \nQ 30.078125 56 35.796875 56 \nQ 45.21875 56 50.046875 50.171875 \nQ 54.890625 44.34375 54.890625 33.015625 \nz\n\" id=\"DejaVuSans-104\"/>\n      <path d=\"M 44.28125 53.078125 \nL 44.28125 44.578125 \nQ 40.484375 46.53125 36.375 47.5 \nQ 32.28125 48.484375 27.875 48.484375 \nQ 21.1875 48.484375 17.84375 46.4375 \nQ 14.5 44.390625 14.5 40.28125 \nQ 14.5 37.15625 16.890625 35.375 \nQ 19.28125 33.59375 26.515625 31.984375 \nL 29.59375 31.296875 \nQ 39.15625 29.25 43.1875 25.515625 \nQ 47.21875 21.78125 47.21875 15.09375 \nQ 47.21875 7.46875 41.1875 3.015625 \nQ 35.15625 -1.421875 24.609375 -1.421875 \nQ 20.21875 -1.421875 15.453125 -0.5625 \nQ 10.6875 0.296875 5.421875 2 \nL 5.421875 11.28125 \nQ 10.40625 8.6875 15.234375 7.390625 \nQ 20.0625 6.109375 24.8125 6.109375 \nQ 31.15625 6.109375 34.5625 8.28125 \nQ 37.984375 10.453125 37.984375 14.40625 \nQ 37.984375 18.0625 35.515625 20.015625 \nQ 33.0625 21.96875 24.703125 23.78125 \nL 21.578125 24.515625 \nQ 13.234375 26.265625 9.515625 29.90625 \nQ 5.8125 33.546875 5.8125 39.890625 \nQ 5.8125 47.609375 11.28125 51.796875 \nQ 16.75 56 26.8125 56 \nQ 31.78125 56 36.171875 55.265625 \nQ 40.578125 54.546875 44.28125 53.078125 \nz\n\" id=\"DejaVuSans-115\"/>\n     </defs>\n     <g transform=\"translate(173.571507 322.394687)scale(0.1 -0.1)\">\n      <use xlink:href=\"#DejaVuSans-69\"/>\n      <use x=\"63.183594\" xlink:href=\"#DejaVuSans-112\"/>\n      <use x=\"126.660156\" xlink:href=\"#DejaVuSans-111\"/>\n      <use x=\"187.841797\" xlink:href=\"#DejaVuSans-99\"/>\n      <use x=\"242.822266\" xlink:href=\"#DejaVuSans-104\"/>\n      <use x=\"306.201172\" xlink:href=\"#DejaVuSans-115\"/>\n     </g>\n    </g>\n   </g>\n   <g id=\"matplotlib.axis_2\">\n    <g id=\"ytick_1\">\n     <g id=\"line2d_10\">\n      <defs>\n       <path d=\"M 0 0 \nL -3.5 0 \n\" id=\"m1adf709e0c\" style=\"stroke:#000000;stroke-width:0.8;\"/>\n      </defs>\n      <g>\n       <use style=\"stroke:#000000;stroke-width:0.8;\" x=\"43.78125\" xlink:href=\"#m1adf709e0c\" y=\"260.569944\"/>\n      </g>\n     </g>\n     <g id=\"text_11\">\n      <!-- 0.8 -->\n      <defs>\n       <path d=\"M 10.6875 12.40625 \nL 21 12.40625 \nL 21 0 \nL 10.6875 0 \nz\n\" id=\"DejaVuSans-46\"/>\n       <path d=\"M 31.78125 34.625 \nQ 24.75 34.625 20.71875 30.859375 \nQ 16.703125 27.09375 16.703125 20.515625 \nQ 16.703125 13.921875 20.71875 10.15625 \nQ 24.75 6.390625 31.78125 6.390625 \nQ 38.8125 6.390625 42.859375 10.171875 \nQ 46.921875 13.96875 46.921875 20.515625 \nQ 46.921875 27.09375 42.890625 30.859375 \nQ 38.875 34.625 31.78125 34.625 \nz\nM 21.921875 38.8125 \nQ 15.578125 40.375 12.03125 44.71875 \nQ 8.5 49.078125 8.5 55.328125 \nQ 8.5 64.0625 14.71875 69.140625 \nQ 20.953125 74.21875 31.78125 74.21875 \nQ 42.671875 74.21875 48.875 69.140625 \nQ 55.078125 64.0625 55.078125 55.328125 \nQ 55.078125 49.078125 51.53125 44.71875 \nQ 48 40.375 41.703125 38.8125 \nQ 48.828125 37.15625 52.796875 32.3125 \nQ 56.78125 27.484375 56.78125 20.515625 \nQ 56.78125 9.90625 50.3125 4.234375 \nQ 43.84375 -1.421875 31.78125 -1.421875 \nQ 19.734375 -1.421875 13.25 4.234375 \nQ 6.78125 9.90625 6.78125 20.515625 \nQ 6.78125 27.484375 10.78125 32.3125 \nQ 14.796875 37.15625 21.921875 38.8125 \nz\nM 18.3125 54.390625 \nQ 18.3125 48.734375 21.84375 45.5625 \nQ 25.390625 42.390625 31.78125 42.390625 \nQ 38.140625 42.390625 41.71875 45.5625 \nQ 45.3125 48.734375 45.3125 54.390625 \nQ 45.3125 60.0625 41.71875 63.234375 \nQ 38.140625 66.40625 31.78125 66.40625 \nQ 25.390625 66.40625 21.84375 63.234375 \nQ 18.3125 60.0625 18.3125 54.390625 \nz\n\" id=\"DejaVuSans-56\"/>\n      </defs>\n      <g transform=\"translate(20.878125 264.369163)scale(0.1 -0.1)\">\n       <use xlink:href=\"#DejaVuSans-48\"/>\n       <use x=\"63.623047\" xlink:href=\"#DejaVuSans-46\"/>\n       <use x=\"95.410156\" xlink:href=\"#DejaVuSans-56\"/>\n      </g>\n     </g>\n    </g>\n    <g id=\"ytick_2\">\n     <g id=\"line2d_11\">\n      <g>\n       <use style=\"stroke:#000000;stroke-width:0.8;\" x=\"43.78125\" xlink:href=\"#m1adf709e0c\" y=\"222.863222\"/>\n      </g>\n     </g>\n     <g id=\"text_12\">\n      <!-- 1.0 -->\n      <g transform=\"translate(20.878125 226.662441)scale(0.1 -0.1)\">\n       <use xlink:href=\"#DejaVuSans-49\"/>\n       <use x=\"63.623047\" xlink:href=\"#DejaVuSans-46\"/>\n       <use x=\"95.410156\" xlink:href=\"#DejaVuSans-48\"/>\n      </g>\n     </g>\n    </g>\n    <g id=\"ytick_3\">\n     <g id=\"line2d_12\">\n      <g>\n       <use style=\"stroke:#000000;stroke-width:0.8;\" x=\"43.78125\" xlink:href=\"#m1adf709e0c\" y=\"185.1565\"/>\n      </g>\n     </g>\n     <g id=\"text_13\">\n      <!-- 1.2 -->\n      <g transform=\"translate(20.878125 188.955719)scale(0.1 -0.1)\">\n       <use xlink:href=\"#DejaVuSans-49\"/>\n       <use x=\"63.623047\" xlink:href=\"#DejaVuSans-46\"/>\n       <use x=\"95.410156\" xlink:href=\"#DejaVuSans-50\"/>\n      </g>\n     </g>\n    </g>\n    <g id=\"ytick_4\">\n     <g id=\"line2d_13\">\n      <g>\n       <use style=\"stroke:#000000;stroke-width:0.8;\" x=\"43.78125\" xlink:href=\"#m1adf709e0c\" y=\"147.449778\"/>\n      </g>\n     </g>\n     <g id=\"text_14\">\n      <!-- 1.4 -->\n      <defs>\n       <path d=\"M 37.796875 64.3125 \nL 12.890625 25.390625 \nL 37.796875 25.390625 \nz\nM 35.203125 72.90625 \nL 47.609375 72.90625 \nL 47.609375 25.390625 \nL 58.015625 25.390625 \nL 58.015625 17.1875 \nL 47.609375 17.1875 \nL 47.609375 0 \nL 37.796875 0 \nL 37.796875 17.1875 \nL 4.890625 17.1875 \nL 4.890625 26.703125 \nz\n\" id=\"DejaVuSans-52\"/>\n      </defs>\n      <g transform=\"translate(20.878125 151.248997)scale(0.1 -0.1)\">\n       <use xlink:href=\"#DejaVuSans-49\"/>\n       <use x=\"63.623047\" xlink:href=\"#DejaVuSans-46\"/>\n       <use x=\"95.410156\" xlink:href=\"#DejaVuSans-52\"/>\n      </g>\n     </g>\n    </g>\n    <g id=\"ytick_5\">\n     <g id=\"line2d_14\">\n      <g>\n       <use style=\"stroke:#000000;stroke-width:0.8;\" x=\"43.78125\" xlink:href=\"#m1adf709e0c\" y=\"109.743056\"/>\n      </g>\n     </g>\n     <g id=\"text_15\">\n      <!-- 1.6 -->\n      <defs>\n       <path d=\"M 33.015625 40.375 \nQ 26.375 40.375 22.484375 35.828125 \nQ 18.609375 31.296875 18.609375 23.390625 \nQ 18.609375 15.53125 22.484375 10.953125 \nQ 26.375 6.390625 33.015625 6.390625 \nQ 39.65625 6.390625 43.53125 10.953125 \nQ 47.40625 15.53125 47.40625 23.390625 \nQ 47.40625 31.296875 43.53125 35.828125 \nQ 39.65625 40.375 33.015625 40.375 \nz\nM 52.59375 71.296875 \nL 52.59375 62.3125 \nQ 48.875 64.0625 45.09375 64.984375 \nQ 41.3125 65.921875 37.59375 65.921875 \nQ 27.828125 65.921875 22.671875 59.328125 \nQ 17.53125 52.734375 16.796875 39.40625 \nQ 19.671875 43.65625 24.015625 45.921875 \nQ 28.375 48.1875 33.59375 48.1875 \nQ 44.578125 48.1875 50.953125 41.515625 \nQ 57.328125 34.859375 57.328125 23.390625 \nQ 57.328125 12.15625 50.6875 5.359375 \nQ 44.046875 -1.421875 33.015625 -1.421875 \nQ 20.359375 -1.421875 13.671875 8.265625 \nQ 6.984375 17.96875 6.984375 36.375 \nQ 6.984375 53.65625 15.1875 63.9375 \nQ 23.390625 74.21875 37.203125 74.21875 \nQ 40.921875 74.21875 44.703125 73.484375 \nQ 48.484375 72.75 52.59375 71.296875 \nz\n\" id=\"DejaVuSans-54\"/>\n      </defs>\n      <g transform=\"translate(20.878125 113.542275)scale(0.1 -0.1)\">\n       <use xlink:href=\"#DejaVuSans-49\"/>\n       <use x=\"63.623047\" xlink:href=\"#DejaVuSans-46\"/>\n       <use x=\"95.410156\" xlink:href=\"#DejaVuSans-54\"/>\n      </g>\n     </g>\n    </g>\n    <g id=\"ytick_6\">\n     <g id=\"line2d_15\">\n      <g>\n       <use style=\"stroke:#000000;stroke-width:0.8;\" x=\"43.78125\" xlink:href=\"#m1adf709e0c\" y=\"72.036335\"/>\n      </g>\n     </g>\n     <g id=\"text_16\">\n      <!-- 1.8 -->\n      <g transform=\"translate(20.878125 75.835553)scale(0.1 -0.1)\">\n       <use xlink:href=\"#DejaVuSans-49\"/>\n       <use x=\"63.623047\" xlink:href=\"#DejaVuSans-46\"/>\n       <use x=\"95.410156\" xlink:href=\"#DejaVuSans-56\"/>\n      </g>\n     </g>\n    </g>\n    <g id=\"ytick_7\">\n     <g id=\"line2d_16\">\n      <g>\n       <use style=\"stroke:#000000;stroke-width:0.8;\" x=\"43.78125\" xlink:href=\"#m1adf709e0c\" y=\"34.329613\"/>\n      </g>\n     </g>\n     <g id=\"text_17\">\n      <!-- 2.0 -->\n      <g transform=\"translate(20.878125 38.128831)scale(0.1 -0.1)\">\n       <use xlink:href=\"#DejaVuSans-50\"/>\n       <use x=\"63.623047\" xlink:href=\"#DejaVuSans-46\"/>\n       <use x=\"95.410156\" xlink:href=\"#DejaVuSans-48\"/>\n      </g>\n     </g>\n    </g>\n    <g id=\"text_18\">\n     <!-- Loss -->\n     <defs>\n      <path d=\"M 9.8125 72.90625 \nL 19.671875 72.90625 \nL 19.671875 8.296875 \nL 55.171875 8.296875 \nL 55.171875 0 \nL 9.8125 0 \nz\n\" id=\"DejaVuSans-76\"/>\n     </defs>\n     <g transform=\"translate(14.798437 169.185313)rotate(-90)scale(0.1 -0.1)\">\n      <use xlink:href=\"#DejaVuSans-76\"/>\n      <use x=\"53.962891\" xlink:href=\"#DejaVuSans-111\"/>\n      <use x=\"115.144531\" xlink:href=\"#DejaVuSans-115\"/>\n      <use x=\"167.244141\" xlink:href=\"#DejaVuSans-115\"/>\n     </g>\n    </g>\n   </g>\n   <g id=\"line2d_17\">\n    <path clip-path=\"url(#p2055743ed9)\" d=\"M 57.209057 228.331042 \nL 57.343403 243.013876 \nL 57.477748 241.126238 \nL 57.612093 221.332925 \nL 57.746438 184.176853 \nL 57.880784 227.867193 \nL 58.015129 215.284621 \nL 58.149474 237.072407 \nL 58.283819 201.522486 \nL 58.418165 232.092743 \nL 58.55251 201.201408 \nL 58.686855 221.268781 \nL 58.8212 216.01081 \nL 58.955546 223.288089 \nL 59.089891 209.55553 \nL 59.358581 275.264597 \nL 59.627272 212.03481 \nL 59.761617 249.989316 \nL 59.895962 214.894501 \nL 60.030308 214.074502 \nL 60.164653 211.045125 \nL 60.298998 222.55527 \nL 60.567689 226.124181 \nL 60.702034 216.913876 \nL 60.836379 226.343717 \nL 60.970724 193.95292 \nL 61.10507 223.607817 \nL 61.239415 186.637861 \nL 61.508105 225.429121 \nL 61.776796 242.029394 \nL 61.911141 193.897249 \nL 62.314177 239.193436 \nL 62.448522 202.868668 \nL 62.582867 259.964433 \nL 62.851558 178.255735 \nL 62.985903 234.126637 \nL 63.120248 208.722406 \nL 63.254594 204.853859 \nL 63.523284 175.941961 \nL 63.791975 235.449479 \nL 63.92632 184.287609 \nL 64.19501 254.264761 \nL 64.329356 204.716829 \nL 64.598046 237.485385 \nL 64.732391 219.695916 \nL 64.866737 228.648681 \nL 65.001082 199.628678 \nL 65.135427 241.247917 \nL 65.269772 222.90252 \nL 65.404118 177.121469 \nL 65.538463 213.976309 \nL 65.672808 213.08684 \nL 65.807153 224.824825 \nL 65.941499 210.938234 \nL 66.075844 225.337018 \nL 66.210189 259.788634 \nL 66.47888 200.485356 \nL 66.74757 237.077464 \nL 66.881915 209.53301 \nL 67.016261 220.377627 \nL 67.150606 208.124774 \nL 67.284951 177.596095 \nL 67.419296 194.669309 \nL 67.553642 191.710908 \nL 67.687987 212.033686 \nL 67.956677 204.087732 \nL 68.091023 188.450871 \nL 68.225368 247.210939 \nL 68.359713 193.711314 \nL 68.628404 225.682739 \nL 68.762749 194.048686 \nL 68.897094 223.190132 \nL 69.031439 226.360753 \nL 69.165785 209.413623 \nL 69.30013 238.218675 \nL 69.434475 236.271006 \nL 69.56882 224.1863 \nL 69.703166 191.480495 \nL 69.837511 216.26008 \nL 69.971856 210.796889 \nL 70.106201 216.699937 \nL 70.240546 164.320722 \nL 70.509237 251.047887 \nL 70.777927 209.733936 \nL 71.046618 257.343527 \nL 71.315308 229.01209 \nL 71.449654 159.70976 \nL 71.583999 220.46029 \nL 71.718344 218.717087 \nL 71.852689 236.115446 \nL 71.987035 202.345159 \nL 72.12138 225.259738 \nL 72.255725 217.23075 \nL 72.39007 228.100708 \nL 72.524416 200.76908 \nL 72.658761 204.210783 \nL 72.793106 225.27374 \nL 72.927451 206.751577 \nL 73.061797 207.725934 \nL 73.196142 211.061981 \nL 73.330487 211.589042 \nL 73.464832 207.344534 \nL 73.599178 180.676176 \nL 73.733523 206.299336 \nL 74.002213 202.421214 \nL 74.136559 220.888033 \nL 74.270904 210.751872 \nL 74.405249 187.789253 \nL 74.539594 194.256916 \nL 74.67394 184.437427 \nL 74.94263 243.166975 \nL 75.211321 166.207315 \nL 75.345666 216.422708 \nL 75.480011 203.931711 \nL 75.883047 222.458403 \nL 76.151737 196.29744 \nL 76.286083 213.366092 \nL 76.420428 187.233335 \nL 76.689118 214.894613 \nL 76.823464 190.792199 \nL 76.957809 195.88235 \nL 77.092154 193.581589 \nL 77.226499 223.467461 \nL 77.360845 219.3961 \nL 77.629535 193.38727 \nL 77.76388 197.356595 \nL 77.898226 186.37623 \nL 78.032571 216.847508 \nL 78.166916 217.180699 \nL 78.301261 174.52278 \nL 78.435607 207.687726 \nL 78.704297 202.777038 \nL 78.838642 226.101886 \nL 78.972988 217.934621 \nL 79.107333 198.786744 \nL 79.241678 207.150754 \nL 79.376023 178.953223 \nL 79.510369 212.340649 \nL 79.644714 205.99062 \nL 79.779059 221.622425 \nL 79.913404 216.489571 \nL 80.04775 189.244596 \nL 80.182095 192.668229 \nL 80.31644 189.906484 \nL 80.585131 174.493899 \nL 80.719476 241.503525 \nL 80.853821 229.899109 \nL 80.988166 182.737512 \nL 81.122512 210.220699 \nL 81.256857 213.709621 \nL 81.391202 197.352572 \nL 81.525547 224.929806 \nL 81.659893 221.128335 \nL 81.794238 194.137215 \nL 82.062928 191.588487 \nL 82.197274 214.915043 \nL 82.331619 152.361999 \nL 82.465964 210.522425 \nL 82.600309 193.40352 \nL 82.734655 219.380053 \nL 82.869 215.441497 \nL 83.003345 233.295345 \nL 83.13769 203.771757 \nL 83.540726 235.410957 \nL 83.675071 189.838632 \nL 83.809416 232.404673 \nL 83.943762 231.89339 \nL 84.078107 210.60565 \nL 84.212452 211.404904 \nL 84.346797 181.845458 \nL 84.481143 210.526201 \nL 84.615488 179.363706 \nL 84.884178 221.76777 \nL 85.018524 157.026924 \nL 85.152869 229.855597 \nL 85.287214 188.2134 \nL 85.555905 209.082927 \nL 85.824595 183.046632 \nL 85.95894 196.805082 \nL 86.093286 225.146026 \nL 86.227631 190.818472 \nL 86.496321 223.132427 \nL 86.630667 200.108451 \nL 86.765012 150.46572 \nL 86.899357 221.161194 \nL 87.033702 185.800691 \nL 87.168048 225.312206 \nL 87.302393 167.929256 \nL 87.436738 217.150335 \nL 87.571083 194.779953 \nL 87.705429 220.805797 \nL 87.974119 189.797008 \nL 88.108464 201.276115 \nL 88.24281 170.608631 \nL 88.377155 176.319518 \nL 88.645845 195.857897 \nL 88.780191 181.384339 \nL 88.914536 215.784397 \nL 89.183226 205.866693 \nL 89.317572 208.90079 \nL 89.451917 208.11502 \nL 89.586262 183.303229 \nL 89.720607 183.384206 \nL 89.854953 183.332064 \nL 89.989298 171.842191 \nL 90.123643 184.703014 \nL 90.257988 210.053755 \nL 90.392334 165.190773 \nL 90.526679 220.78766 \nL 90.661024 174.572382 \nL 90.795369 203.273555 \nL 90.929715 204.350599 \nL 91.198405 177.222157 \nL 91.33275 211.214497 \nL 91.467096 200.597978 \nL 91.601441 126.686608 \nL 91.735786 233.309189 \nL 91.870131 183.643567 \nL 92.004477 227.35282 \nL 92.138822 186.455499 \nL 92.273167 204.81001 \nL 92.541858 159.398055 \nL 92.810548 225.600942 \nL 92.944893 193.616919 \nL 93.079239 194.40606 \nL 93.213584 199.347831 \nL 93.347929 217.500877 \nL 93.482274 208.706651 \nL 93.750965 232.021037 \nL 93.88531 190.968515 \nL 94.019655 216.374477 \nL 94.154001 182.926526 \nL 94.288346 185.325773 \nL 94.422691 202.160932 \nL 94.557036 203.148189 \nL 94.691382 194.181805 \nL 94.825727 227.654625 \nL 94.960072 217.59716 \nL 95.094417 187.097406 \nL 95.228763 202.572965 \nL 95.363108 174.406719 \nL 95.497453 226.763358 \nL 95.631798 181.166467 \nL 95.900489 230.374566 \nL 96.169179 191.544616 \nL 96.303525 182.459676 \nL 96.43787 182.622575 \nL 96.572215 215.388703 \nL 96.70656 182.516538 \nL 96.840905 218.367466 \nL 96.975251 204.09425 \nL 97.109596 226.470869 \nL 97.243941 180.265266 \nL 97.378286 205.226381 \nL 97.646977 211.875575 \nL 97.781322 208.079172 \nL 98.050013 157.995977 \nL 98.184358 200.464837 \nL 98.318703 180.877079 \nL 98.587394 207.695637 \nL 98.721739 224.777392 \nL 98.990429 195.356841 \nL 99.124775 229.77308 \nL 99.25912 161.623413 \nL 99.52781 204.93115 \nL 99.662156 190.729157 \nL 99.796501 194.519514 \nL 99.930846 182.808173 \nL 100.065191 180.872607 \nL 100.199537 208.64925 \nL 100.333882 204.064853 \nL 100.602572 178.508961 \nL 100.736918 177.198738 \nL 100.871263 218.778668 \nL 101.005608 201.100766 \nL 101.139953 221.05246 \nL 101.274299 175.075798 \nL 101.408644 204.090879 \nL 101.542989 202.516193 \nL 101.81168 183.301633 \nL 102.08037 219.998025 \nL 102.349061 183.926437 \nL 102.483406 224.055979 \nL 102.886442 183.294756 \nL 103.020787 189.204478 \nL 103.155132 206.355186 \nL 103.289477 185.588595 \nL 103.558168 207.145855 \nL 103.692513 165.348412 \nL 103.826858 211.628373 \nL 104.229894 173.834012 \nL 104.364239 185.138287 \nL 104.498585 174.352105 \nL 104.63293 195.376574 \nL 104.767275 188.851621 \nL 105.035966 204.608994 \nL 105.170311 183.721915 \nL 105.304656 207.671544 \nL 105.439001 206.259802 \nL 105.707692 174.760879 \nL 105.842037 224.432075 \nL 106.110728 172.033296 \nL 106.245073 197.791238 \nL 106.513763 170.888017 \nL 106.648109 199.437102 \nL 106.782454 199.445575 \nL 106.916799 213.685011 \nL 107.051144 207.775019 \nL 107.18549 177.817474 \nL 107.45418 189.934195 \nL 107.588525 218.511014 \nL 107.857216 202.595665 \nL 107.991561 224.423894 \nL 108.125906 189.369692 \nL 108.260252 194.631686 \nL 108.394597 189.652876 \nL 108.528942 196.400937 \nL 108.663287 187.743516 \nL 108.797633 213.761808 \nL 108.931978 165.462944 \nL 109.200668 187.874073 \nL 109.335014 206.690602 \nL 109.603704 154.19045 \nL 109.738049 156.580527 \nL 110.00674 192.107636 \nL 110.141085 191.873537 \nL 110.27543 179.624415 \nL 110.544121 216.498853 \nL 110.678466 177.83887 \nL 110.812811 184.137656 \nL 110.947156 160.796469 \nL 111.081502 162.98299 \nL 111.215847 210.885283 \nL 111.350192 161.537558 \nL 111.618883 198.925684 \nL 111.753228 180.638261 \nL 111.887573 196.338547 \nL 112.021918 165.387204 \nL 112.290609 204.062673 \nL 112.424954 194.643261 \nL 112.559299 205.997317 \nL 112.693645 168.122743 \nL 112.962335 191.429971 \nL 113.09668 163.723652 \nL 113.231026 192.616154 \nL 113.365371 188.538658 \nL 113.499716 194.059901 \nL 113.634061 209.34195 \nL 113.902752 184.806736 \nL 114.037097 169.935079 \nL 114.171442 192.033064 \nL 114.305788 193.554304 \nL 114.440133 171.071255 \nL 114.574478 208.176422 \nL 114.843169 153.165457 \nL 115.111859 217.374028 \nL 115.246204 213.482534 \nL 115.38055 167.59656 \nL 115.514895 202.550445 \nL 115.64924 189.546435 \nL 115.783585 190.945074 \nL 115.917931 202.43371 \nL 116.052276 142.037274 \nL 116.186621 176.931736 \nL 116.320966 136.56561 \nL 116.455312 173.348576 \nL 116.589657 176.069416 \nL 116.724002 172.484908 \nL 116.858347 193.633416 \nL 116.992693 167.052104 \nL 117.127038 172.602205 \nL 117.261383 203.193207 \nL 117.395728 198.064624 \nL 117.530074 180.840895 \nL 117.664419 198.319332 \nL 117.933109 180.234206 \nL 118.067455 184.855979 \nL 118.2018 204.875659 \nL 118.47049 149.474619 \nL 118.739181 213.717577 \nL 118.873526 186.359463 \nL 119.007871 210.195909 \nL 119.142217 171.066558 \nL 119.276562 203.530668 \nL 119.410907 179.039167 \nL 119.679598 189.251698 \nL 119.948288 219.798672 \nL 120.082633 152.290866 \nL 120.216979 203.233774 \nL 120.351324 205.984933 \nL 120.485669 167.437145 \nL 120.620014 201.078425 \nL 120.75436 173.395503 \nL 120.888705 207.376088 \nL 121.157395 168.450451 \nL 121.291741 177.055348 \nL 121.426086 138.693067 \nL 121.560431 185.228051 \nL 121.694776 173.40492 \nL 121.829122 185.332852 \nL 121.963467 180.591715 \nL 122.097812 167.740287 \nL 122.500848 199.567839 \nL 122.635193 156.191215 \nL 122.903884 235.25624 \nL 123.172574 170.454498 \nL 123.306919 179.857301 \nL 123.441264 156.448958 \nL 123.57561 155.657615 \nL 123.8443 196.407208 \nL 123.978645 202.4792 \nL 124.247336 165.869449 \nL 124.381681 162.720146 \nL 124.516026 202.052805 \nL 124.650372 177.74398 \nL 124.784717 180.568049 \nL 124.919062 189.559223 \nL 125.053407 174.797603 \nL 125.187753 182.11972 \nL 125.322098 162.141932 \nL 125.456443 192.11321 \nL 125.590788 159.966761 \nL 125.859479 178.141225 \nL 125.993824 176.046784 \nL 126.128169 200.427056 \nL 126.262515 141.918044 \nL 126.531205 205.384268 \nL 126.66555 171.047747 \nL 126.934241 180.249489 \nL 127.068586 155.18173 \nL 127.337277 199.867228 \nL 127.471622 176.757465 \nL 127.605967 184.833122 \nL 127.740312 163.865739 \nL 128.009003 188.611432 \nL 128.412039 164.214955 \nL 128.680729 196.760492 \nL 128.815074 188.980515 \nL 128.94942 200.350776 \nL 129.083765 149.408228 \nL 129.21811 201.049433 \nL 129.352455 201.563682 \nL 129.486801 174.236673 \nL 129.621146 190.03567 \nL 129.755491 157.077088 \nL 129.889836 155.415043 \nL 130.024182 164.637844 \nL 130.158527 187.038634 \nL 130.292872 168.438112 \nL 130.427217 192.675129 \nL 130.561563 156.72758 \nL 130.695908 185.259247 \nL 130.830253 150.853997 \nL 131.098944 187.350676 \nL 131.367634 171.941396 \nL 131.501979 147.348263 \nL 131.905015 188.905404 \nL 132.03936 169.078895 \nL 132.173706 219.943298 \nL 132.308051 174.334799 \nL 132.442396 173.717547 \nL 132.576741 212.443967 \nL 132.845432 159.132603 \nL 133.114122 185.348203 \nL 133.248468 200.436743 \nL 133.382813 137.909905 \nL 133.517158 192.579071 \nL 133.920194 172.957624 \nL 134.054539 189.12013 \nL 134.32323 179.025165 \nL 134.457575 179.556361 \nL 134.59192 168.3748 \nL 134.726265 166.701225 \nL 134.860611 182.558341 \nL 134.994956 145.326596 \nL 135.263646 202.953354 \nL 135.397992 159.67852 \nL 135.532337 176.870828 \nL 135.666682 168.708576 \nL 135.935373 142.638321 \nL 136.338408 203.12486 \nL 136.472754 157.797973 \nL 136.607099 190.227201 \nL 136.741444 183.687303 \nL 136.875789 191.286311 \nL 137.010134 165.17976 \nL 137.14448 167.340727 \nL 137.278825 183.63143 \nL 137.41317 160.08662 \nL 137.681861 208.483025 \nL 137.816206 180.782415 \nL 137.950551 181.701416 \nL 138.084896 176.559842 \nL 138.219242 155.763832 \nL 138.353587 187.864769 \nL 138.487932 163.525468 \nL 138.622277 203.805986 \nL 138.890968 170.525114 \nL 139.025313 194.630585 \nL 139.294004 181.902994 \nL 139.428349 159.376861 \nL 139.697039 182.705462 \nL 139.831385 137.117258 \nL 139.96573 181.327905 \nL 140.100075 170.759505 \nL 140.368766 181.432728 \nL 140.503111 165.532032 \nL 140.637456 193.35603 \nL 140.771801 159.959187 \nL 141.040492 206.624189 \nL 141.174837 175.174306 \nL 141.309182 208.666196 \nL 141.443528 169.077951 \nL 141.577873 193.557496 \nL 141.712218 171.822099 \nL 141.846563 202.616229 \nL 141.980909 162.002565 \nL 142.115254 211.069106 \nL 142.383944 159.172429 \nL 142.51829 179.723193 \nL 142.652635 179.908544 \nL 142.78698 167.587615 \nL 142.921325 167.014166 \nL 143.055671 149.058293 \nL 143.324361 201.810525 \nL 143.593052 214.937338 \nL 143.727397 171.041004 \nL 143.861742 163.484362 \nL 143.996087 177.783154 \nL 144.130433 158.086461 \nL 144.264778 191.231203 \nL 144.399123 156.43826 \nL 144.533468 190.608287 \nL 144.667814 186.785229 \nL 144.802159 156.196542 \nL 144.936504 200.487604 \nL 145.205195 145.64183 \nL 145.473885 171.439036 \nL 145.60823 169.826233 \nL 145.742576 171.30513 \nL 146.011266 191.243856 \nL 146.145611 176.218515 \nL 146.279957 209.234318 \nL 146.414302 187.856116 \nL 146.682992 201.570762 \nL 146.817338 186.226344 \nL 146.951683 198.625958 \nL 147.086028 161.931859 \nL 147.220373 194.989038 \nL 147.354719 196.818455 \nL 147.489064 168.361832 \nL 147.623409 182.592998 \nL 147.757754 179.536381 \nL 147.8921 191.730057 \nL 148.16079 158.677328 \nL 148.295135 189.806515 \nL 148.429481 157.563491 \nL 148.563826 181.393487 \nL 148.698171 124.921425 \nL 148.832516 208.262546 \nL 149.235552 154.057038 \nL 149.369897 178.985587 \nL 149.504243 182.258256 \nL 149.638588 192.368615 \nL 149.907278 156.326649 \nL 150.041624 197.540125 \nL 150.175969 192.308922 \nL 150.444659 131.940781 \nL 150.579004 136.637148 \nL 150.71335 186.141569 \nL 150.847695 152.617652 \nL 150.98204 179.039077 \nL 151.116385 160.923587 \nL 151.250731 188.462445 \nL 151.385076 142.049433 \nL 151.653766 202.942993 \nL 151.788112 146.053751 \nL 151.922457 198.707767 \nL 152.056802 196.442606 \nL 152.325493 179.854671 \nL 152.459838 164.134023 \nL 152.594183 171.586022 \nL 152.728528 203.698062 \nL 152.862874 135.440806 \nL 152.997219 138.660479 \nL 153.131564 221.566867 \nL 153.265909 169.20752 \nL 153.400255 170.715207 \nL 153.5346 141.062827 \nL 153.668945 183.016111 \nL 153.80329 182.507593 \nL 154.071981 167.257705 \nL 154.206326 171.047252 \nL 154.340671 193.130134 \nL 154.475017 175.212289 \nL 154.609362 172.56112 \nL 154.743707 193.273794 \nL 154.878052 172.923731 \nL 155.146743 191.876189 \nL 155.281088 147.939198 \nL 155.415433 182.872002 \nL 155.684124 167.326253 \nL 155.952814 193.234351 \nL 156.08716 185.909088 \nL 156.221505 203.293288 \nL 156.35585 203.628187 \nL 156.490195 205.619805 \nL 156.624541 204.922228 \nL 156.758886 141.837853 \nL 156.893231 172.91391 \nL 157.027576 170.146321 \nL 157.161922 163.901766 \nL 157.296267 185.753786 \nL 157.430612 153.042609 \nL 157.564957 150.745893 \nL 157.699303 136.636654 \nL 157.833648 171.280632 \nL 157.967993 167.272493 \nL 158.236684 196.63207 \nL 158.371029 183.716476 \nL 158.505374 137.615168 \nL 158.774065 160.077563 \nL 158.90841 202.088405 \nL 159.042755 128.933497 \nL 159.311446 164.729676 \nL 159.445791 164.629101 \nL 159.580136 190.331755 \nL 159.714481 125.0269 \nL 159.848827 192.459549 \nL 159.983172 179.162735 \nL 160.117517 185.662605 \nL 160.251862 186.464084 \nL 160.386208 125.807005 \nL 160.520553 185.142107 \nL 160.789243 161.572934 \nL 160.923589 164.974024 \nL 161.057934 213.283901 \nL 161.192279 172.675068 \nL 161.595315 152.432841 \nL 161.864005 168.281079 \nL 162.132696 150.453538 \nL 162.267041 215.818986 \nL 162.535732 157.428102 \nL 162.670077 159.024791 \nL 163.073113 196.910534 \nL 163.207458 177.73108 \nL 163.341803 181.85737 \nL 163.610493 169.045273 \nL 163.879184 181.860853 \nL 164.147874 167.919929 \nL 164.28222 143.565436 \nL 164.416565 190.215806 \nL 164.55091 161.606107 \nL 164.685255 192.088937 \nL 164.953946 130.46503 \nL 165.088291 156.173842 \nL 165.222636 158.273295 \nL 165.356982 128.426237 \nL 165.625672 191.733203 \nL 165.760017 181.176266 \nL 165.894363 138.173267 \nL 166.028708 176.123806 \nL 166.163053 170.636005 \nL 166.297398 201.138568 \nL 166.431744 173.19433 \nL 166.566089 181.629047 \nL 166.700434 172.997404 \nL 166.834779 153.6811 \nL 166.969125 173.954118 \nL 167.10347 143.923709 \nL 167.237815 180.80008 \nL 167.37216 158.118263 \nL 167.506506 174.127985 \nL 167.640851 163.047381 \nL 167.775196 187.392772 \nL 167.909541 171.659605 \nL 168.043887 184.771203 \nL 168.178232 177.897799 \nL 168.312577 179.781785 \nL 168.446922 201.423101 \nL 168.581268 185.367149 \nL 168.715613 190.934668 \nL 168.849958 165.989802 \nL 168.984303 190.642988 \nL 169.252994 149.793292 \nL 169.387339 156.143321 \nL 169.65603 189.660742 \nL 169.790375 192.444311 \nL 169.92472 166.926828 \nL 170.059065 173.030353 \nL 170.193411 170.243368 \nL 170.327756 152.151477 \nL 170.462101 180.862246 \nL 170.596446 151.151656 \nL 170.730792 173.056468 \nL 170.865137 155.91311 \nL 170.999482 157.451117 \nL 171.133827 207.904317 \nL 171.268173 201.737414 \nL 171.402518 186.328695 \nL 171.536863 188.017711 \nL 171.805554 167.893162 \nL 171.939899 178.482418 \nL 172.208589 142.558221 \nL 172.342935 185.298308 \nL 172.611625 159.687914 \nL 172.74597 190.716301 \nL 172.880316 181.509345 \nL 173.014661 189.487236 \nL 173.149006 171.544218 \nL 173.283351 179.387304 \nL 173.417697 195.124495 \nL 173.552042 159.546996 \nL 173.820732 183.26574 \nL 173.955078 184.467094 \nL 174.089423 187.045691 \nL 174.223768 159.858567 \nL 174.358113 160.193039 \nL 174.492459 170.121958 \nL 174.626804 193.545112 \nL 174.895494 167.146319 \nL 175.02984 182.656534 \nL 175.164185 170.292296 \nL 175.29853 189.947411 \nL 175.567221 169.028102 \nL 175.701566 150.287561 \nL 175.835911 152.342918 \nL 175.970256 200.730693 \nL 176.238947 143.302007 \nL 176.373292 170.937417 \nL 176.507637 154.976579 \nL 176.641983 177.832262 \nL 176.776328 147.903844 \nL 177.045018 182.659703 \nL 177.179363 182.572927 \nL 177.448054 161.204502 \nL 177.582399 166.441572 \nL 177.716744 164.72417 \nL 177.85109 180.222923 \nL 177.985435 176.268185 \nL 178.254125 150.293247 \nL 178.657161 204.702827 \nL 178.925852 168.52709 \nL 179.060197 176.628953 \nL 179.194542 150.751017 \nL 179.463233 178.132213 \nL 179.597578 182.803363 \nL 179.866268 178.358019 \nL 180.000614 194.291977 \nL 180.134959 174.543434 \nL 180.269304 175.470301 \nL 180.403649 178.241711 \nL 180.537995 154.275922 \nL 180.67234 169.004458 \nL 180.806685 145.689701 \nL 180.94103 171.261731 \nL 181.075376 175.347745 \nL 181.209721 187.007574 \nL 181.344066 155.803275 \nL 181.478411 157.303411 \nL 181.612757 198.782069 \nL 181.881447 171.385141 \nL 182.015792 166.39089 \nL 182.150138 201.087258 \nL 182.284483 142.283397 \nL 182.418828 183.850157 \nL 182.553173 163.445907 \nL 182.687519 162.397135 \nL 182.821864 172.218872 \nL 183.090554 142.026373 \nL 183.2249 125.99357 \nL 183.359245 148.46019 \nL 183.49359 217.788422 \nL 183.627935 181.762885 \nL 183.762281 189.66299 \nL 183.896626 136.99041 \nL 184.165316 177.882921 \nL 184.299662 164.119594 \nL 184.434007 167.591166 \nL 184.568352 156.632848 \nL 184.702697 178.699975 \nL 184.837043 162.679106 \nL 184.971388 173.865634 \nL 185.105733 173.8626 \nL 185.240078 193.211673 \nL 185.374424 133.801258 \nL 185.508769 171.833201 \nL 185.643114 163.344388 \nL 185.777459 162.418329 \nL 185.911805 176.698086 \nL 186.180495 171.494054 \nL 186.31484 173.907123 \nL 186.449186 164.148384 \nL 186.583531 178.897575 \nL 186.717876 157.203128 \nL 186.852221 155.522248 \nL 186.986567 190.802425 \nL 187.255257 148.452054 \nL 187.389602 147.315787 \nL 187.523948 187.544815 \nL 187.792638 163.019287 \nL 187.926983 225.449786 \nL 188.061329 181.372158 \nL 188.195674 196.955597 \nL 188.330019 158.846991 \nL 188.464364 181.722947 \nL 188.733055 140.450137 \nL 189.001745 192.753162 \nL 189.270436 170.743436 \nL 189.404781 192.604153 \nL 189.539126 173.383007 \nL 189.673472 177.869773 \nL 189.942162 162.416149 \nL 190.076507 193.960427 \nL 190.210853 153.222228 \nL 190.345198 178.159183 \nL 190.479543 171.917617 \nL 190.613888 193.725181 \nL 190.748233 171.381545 \nL 190.882579 173.469648 \nL 191.016924 161.319956 \nL 191.151269 194.643328 \nL 191.41996 162.19558 \nL 191.68865 192.63364 \nL 191.822995 136.747006 \nL 191.957341 180.397868 \nL 192.091686 158.039151 \nL 192.226031 171.718669 \nL 192.360376 166.831445 \nL 192.494722 180.300619 \nL 192.629067 171.187226 \nL 192.763412 197.520775 \nL 192.897757 161.897562 \nL 193.032103 156.976558 \nL 193.166448 188.596531 \nL 193.300793 192.024456 \nL 193.435138 175.838104 \nL 193.569484 174.711974 \nL 193.838174 143.539477 \nL 193.972519 156.01454 \nL 194.106865 194.537381 \nL 194.24121 162.941726 \nL 194.375555 194.727991 \nL 194.5099 159.188655 \nL 194.644246 184.061983 \nL 194.778591 181.983746 \nL 195.047281 165.083972 \nL 195.181627 183.890522 \nL 195.315972 186.135096 \nL 195.450317 176.539053 \nL 195.584662 175.153315 \nL 195.719008 165.419006 \nL 195.853353 169.931371 \nL 195.987698 153.654152 \nL 196.122043 197.097841 \nL 196.256389 181.48941 \nL 196.390734 179.939761 \nL 196.525079 157.06239 \nL 196.79377 190.731809 \nL 197.06246 148.820441 \nL 197.196805 189.571921 \nL 197.465496 134.1607 \nL 197.734186 180.87699 \nL 197.868532 174.93978 \nL 198.002877 163.21174 \nL 198.137222 181.681998 \nL 198.271567 178.514984 \nL 198.405913 182.080456 \nL 198.540258 142.726154 \nL 198.808948 202.900425 \nL 199.077639 165.442245 \nL 199.211984 172.598564 \nL 199.346329 161.494699 \nL 199.480675 166.01003 \nL 199.61502 154.362653 \nL 199.749365 184.412727 \nL 199.88371 180.521548 \nL 200.018056 162.618401 \nL 200.152401 188.793546 \nL 200.286746 144.695994 \nL 200.421091 181.331096 \nL 200.555437 179.094815 \nL 200.689782 182.661704 \nL 200.958472 142.369993 \nL 201.227163 158.634805 \nL 201.361508 201.242987 \nL 201.495853 164.040864 \nL 201.630199 159.964603 \nL 201.764544 166.161107 \nL 201.898889 140.341561 \nL 202.16758 198.365204 \nL 202.301925 163.617256 \nL 202.570615 177.563776 \nL 202.704961 175.667474 \nL 202.839306 189.441117 \nL 202.973651 169.636859 \nL 203.107996 166.533876 \nL 203.242342 180.773919 \nL 203.511032 149.872381 \nL 203.645377 152.2781 \nL 203.779722 173.681025 \nL 203.914068 136.619932 \nL 204.048413 165.860122 \nL 204.182758 158.121679 \nL 204.317103 199.357068 \nL 204.585794 159.323258 \nL 204.720139 156.016945 \nL 204.854484 143.597148 \nL 205.123175 191.923813 \nL 205.25752 188.112218 \nL 205.391865 191.629391 \nL 205.526211 134.395046 \nL 205.660556 139.154141 \nL 205.794901 138.151488 \nL 205.929246 215.131365 \nL 206.197937 175.65518 \nL 206.332282 169.309893 \nL 206.466627 205.968886 \nL 206.600973 158.095429 \nL 206.735318 189.591924 \nL 207.004008 172.764968 \nL 207.272699 164.173758 \nL 207.407044 164.377224 \nL 207.541389 204.451197 \nL 207.675735 137.677109 \nL 208.07877 176.526445 \nL 208.213116 162.716505 \nL 208.347461 190.816877 \nL 208.481806 133.784312 \nL 208.750497 167.244624 \nL 208.884842 153.028135 \nL 209.019187 180.920231 \nL 209.153532 133.44294 \nL 209.287878 186.702049 \nL 209.422223 162.171981 \nL 209.556568 173.830776 \nL 209.690913 153.280888 \nL 209.825259 163.37765 \nL 209.959604 195.797575 \nL 210.093949 173.696151 \nL 210.228294 170.033901 \nL 210.36264 162.440287 \nL 210.496985 170.518911 \nL 210.900021 217.400459 \nL 211.168711 160.56264 \nL 211.303056 152.927177 \nL 211.437402 175.021724 \nL 211.571747 176.908227 \nL 211.974783 143.336146 \nL 212.243473 189.83135 \nL 212.377818 186.365464 \nL 212.512164 144.842755 \nL 212.646509 168.741501 \nL 212.780854 167.907321 \nL 212.915199 173.075302 \nL 213.18389 188.735426 \nL 213.318235 183.37598 \nL 213.45258 160.94159 \nL 213.586926 164.734554 \nL 213.855616 198.822906 \nL 213.989961 173.596677 \nL 214.124307 176.289626 \nL 214.258652 186.535555 \nL 214.392997 174.431127 \nL 214.527342 143.894492 \nL 214.661688 150.243173 \nL 214.796033 181.78945 \nL 214.930378 147.663902 \nL 215.333414 189.7479 \nL 215.467759 185.083313 \nL 215.602104 173.372197 \nL 215.870795 184.607113 \nL 216.00514 160.929431 \nL 216.139485 174.645763 \nL 216.273831 173.769958 \nL 216.408176 132.911879 \nL 216.542521 196.788653 \nL 216.676866 171.589326 \nL 216.811212 207.587623 \nL 217.079902 181.557756 \nL 217.214247 173.392537 \nL 217.348592 155.694024 \nL 217.617283 190.037198 \nL 217.751628 173.763463 \nL 217.885973 128.9288 \nL 218.289009 197.994232 \nL 218.423354 159.486089 \nL 218.692045 153.726567 \nL 218.82639 155.59882 \nL 218.960735 141.091909 \nL 219.229426 174.345947 \nL 219.363771 196.648701 \nL 219.632462 168.575524 \nL 219.766807 193.70174 \nL 219.901152 164.835646 \nL 220.035497 169.551319 \nL 220.169843 186.394749 \nL 220.304188 169.474949 \nL 220.438533 198.153602 \nL 220.572878 155.737626 \nL 220.841569 188.493123 \nL 221.110259 170.182326 \nL 221.244605 140.357405 \nL 221.37895 170.58737 \nL 221.513295 171.420651 \nL 221.64764 167.637419 \nL 221.781986 204.233123 \nL 221.916331 186.914033 \nL 222.050676 205.600454 \nL 222.185021 182.72306 \nL 222.319367 184.012156 \nL 222.453712 132.849848 \nL 222.722402 153.034428 \nL 222.856748 157.386479 \nL 222.991093 183.712026 \nL 223.259783 153.586862 \nL 223.394129 128.298894 \nL 223.662819 187.599609 \nL 223.797164 181.161972 \nL 223.93151 187.342518 \nL 224.065855 165.219855 \nL 224.2002 169.166278 \nL 224.334545 161.739541 \nL 224.468891 164.025401 \nL 224.603236 153.268662 \nL 224.737581 158.267092 \nL 224.871926 179.147856 \nL 225.006272 160.312269 \nL 225.140617 158.496517 \nL 225.274962 165.313261 \nL 225.409307 163.400597 \nL 225.543653 183.837346 \nL 225.677998 182.080366 \nL 225.812343 164.9106 \nL 225.946688 162.949255 \nL 226.081034 171.289847 \nL 226.215379 129.481481 \nL 226.484069 180.508535 \nL 226.75276 128.529127 \nL 227.02145 189.247068 \nL 227.155796 160.673261 \nL 227.290141 162.061427 \nL 227.424486 192.582082 \nL 227.558831 156.926439 \nL 227.827522 173.619646 \nL 228.096212 159.845756 \nL 228.230558 161.48854 \nL 228.364903 154.113922 \nL 228.499248 179.105985 \nL 228.633593 154.779788 \nL 228.767939 157.702971 \nL 228.902284 178.017478 \nL 229.036629 157.054726 \nL 229.170974 154.580323 \nL 229.30532 177.908722 \nL 229.57401 154.293655 \nL 229.977046 179.833904 \nL 230.245736 166.52837 \nL 230.380082 187.695173 \nL 230.514427 177.432253 \nL 230.648772 193.729362 \nL 231.051808 164.102715 \nL 231.186153 199.14068 \nL 231.320498 198.697496 \nL 231.454843 190.795054 \nL 231.589189 160.402281 \nL 231.723534 215.636377 \nL 232.12657 133.280895 \nL 232.260915 171.704263 \nL 232.39526 163.106063 \nL 232.663951 171.006707 \nL 232.798296 160.622872 \nL 232.932641 161.201265 \nL 233.066986 160.146156 \nL 233.201332 171.027317 \nL 233.335677 191.645641 \nL 233.470022 194.959034 \nL 233.604367 163.166071 \nL 233.738713 187.783859 \nL 233.873058 177.247441 \nL 234.007403 145.961221 \nL 234.141748 154.933427 \nL 234.276094 174.053435 \nL 234.410439 129.7786 \nL 234.544784 170.255032 \nL 234.679129 154.330042 \nL 234.813475 195.135822 \nL 234.94782 154.935966 \nL 235.082165 175.779265 \nL 235.21651 153.779607 \nL 235.485201 173.759305 \nL 235.619546 172.593934 \nL 235.753891 134.344837 \nL 235.888237 190.277702 \nL 236.022582 153.710474 \nL 236.156927 171.686755 \nL 236.291272 166.499872 \nL 236.425618 176.687927 \nL 236.694308 173.416742 \nL 236.828653 189.070842 \nL 236.962999 164.099928 \nL 237.097344 163.676006 \nL 237.231689 138.861023 \nL 237.366034 176.031816 \nL 237.50038 164.20792 \nL 237.634725 142.044735 \nL 237.76907 161.96647 \nL 237.903415 158.955815 \nL 238.037761 145.188555 \nL 238.172106 169.333627 \nL 238.306451 154.963116 \nL 238.440796 152.717711 \nL 238.575142 167.851583 \nL 238.709487 156.02126 \nL 238.843832 161.09579 \nL 238.978177 181.949405 \nL 239.112523 147.809 \nL 239.246868 161.25779 \nL 239.515558 164.361964 \nL 239.784249 153.316803 \nL 239.918594 175.863231 \nL 240.052939 132.827103 \nL 240.32163 170.340932 \nL 240.455975 177.260095 \nL 240.59032 147.634999 \nL 240.724666 152.157185 \nL 240.859011 149.702852 \nL 241.127701 175.969807 \nL 241.262047 162.806247 \nL 241.396392 177.276636 \nL 241.530737 165.850817 \nL 241.665082 139.613507 \nL 241.799428 152.990512 \nL 241.933773 143.311761 \nL 242.202463 181.74259 \nL 242.336809 182.355707 \nL 242.471154 168.666795 \nL 242.605499 174.138031 \nL 242.739844 159.076101 \nL 242.87419 175.089126 \nL 243.008535 157.721985 \nL 243.277225 173.325718 \nL 243.411571 162.4197 \nL 243.545916 181.492983 \nL 243.680261 176.601084 \nL 243.814606 146.936387 \nL 243.948951 179.259422 \nL 244.083297 180.148576 \nL 244.217642 171.472995 \nL 244.351987 177.919105 \nL 244.486332 157.202229 \nL 244.755023 173.009204 \nL 244.889368 151.862718 \nL 245.158059 166.304856 \nL 245.426749 159.367871 \nL 245.561094 161.66162 \nL 245.69544 180.652847 \nL 245.829785 160.752171 \nL 245.96413 172.831629 \nL 246.098475 152.707327 \nL 246.232821 169.86889 \nL 246.367166 156.642557 \nL 246.501511 173.302659 \nL 246.635856 154.668964 \nL 246.770202 157.300332 \nL 246.904547 175.37521 \nL 247.038892 151.608976 \nL 247.173237 161.408664 \nL 247.307583 143.962344 \nL 247.441928 175.778545 \nL 247.576273 153.529439 \nL 247.710618 183.993255 \nL 247.979309 153.890499 \nL 248.113654 169.044756 \nL 248.247999 155.159053 \nL 248.382345 167.669334 \nL 248.51669 145.783197 \nL 248.78538 185.069198 \nL 249.188416 162.055449 \nL 249.322761 191.165553 \nL 249.725797 141.640815 \nL 249.994488 171.065794 \nL 250.128833 158.3903 \nL 250.397523 154.147343 \nL 250.531869 178.758365 \nL 250.666214 153.389128 \nL 250.800559 149.646283 \nL 251.06925 178.665858 \nL 251.203595 164.769322 \nL 251.33794 170.644209 \nL 251.472285 163.385404 \nL 251.606631 140.241772 \nL 251.875321 161.995441 \nL 252.009666 168.843448 \nL 252.144012 147.118592 \nL 252.278357 177.111176 \nL 252.412702 162.092555 \nL 252.547047 172.156616 \nL 252.815738 151.516289 \nL 252.950083 175.36186 \nL 253.084428 157.956533 \nL 253.218774 173.845924 \nL 253.353119 156.228749 \nL 253.487464 164.23752 \nL 253.621809 150.174355 \nL 253.756155 153.740636 \nL 254.024845 177.552494 \nL 254.15919 150.924703 \nL 254.293536 177.280255 \nL 254.427881 159.365129 \nL 254.696571 176.226292 \nL 254.830917 177.847995 \nL 254.965262 170.297982 \nL 255.233952 180.689346 \nL 255.502643 159.491573 \nL 255.636988 166.749006 \nL 255.771333 159.76379 \nL 255.905679 163.719832 \nL 256.040024 145.134727 \nL 256.308714 177.623312 \nL 256.44306 161.10323 \nL 256.577405 162.67378 \nL 256.71175 174.255822 \nL 256.846095 163.864009 \nL 256.980441 134.663892 \nL 257.249131 165.830118 \nL 257.383476 163.561473 \nL 257.517821 173.214602 \nL 257.786512 110.615328 \nL 257.920857 180.877192 \nL 258.055202 161.427386 \nL 258.189548 183.404456 \nL 258.458238 156.086527 \nL 258.592583 167.390577 \nL 258.726929 189.186791 \nL 258.861274 160.894774 \nL 258.995619 162.019646 \nL 259.129964 153.367012 \nL 259.26431 173.508575 \nL 259.398655 159.064054 \nL 259.533 160.82436 \nL 259.667345 165.241723 \nL 259.801691 160.437993 \nL 259.936036 181.492758 \nL 260.070381 152.104594 \nL 260.204726 172.461354 \nL 260.473417 165.209112 \nL 260.607762 138.095458 \nL 260.742107 176.863771 \nL 260.876453 183.081244 \nL 261.010798 196.094896 \nL 261.145143 170.69035 \nL 261.279488 177.716539 \nL 261.548179 150.841816 \nL 261.682524 177.115603 \nL 261.816869 165.479216 \nL 261.951215 184.600663 \nL 262.08556 148.312776 \nL 262.219905 202.015833 \nL 262.35425 138.596785 \nL 262.622941 167.581052 \nL 262.757286 152.619495 \nL 262.891631 204.581148 \nL 263.025977 166.534955 \nL 263.160322 171.394041 \nL 263.294667 156.350698 \nL 263.429012 161.845847 \nL 263.563358 142.464523 \nL 263.697703 166.293439 \nL 263.832048 159.937499 \nL 263.966393 159.878951 \nL 264.235084 177.675342 \nL 264.369429 152.137542 \nL 264.503774 169.183292 \nL 264.63812 162.564124 \nL 264.772465 167.982634 \nL 264.90681 149.554405 \nL 265.041155 172.009675 \nL 265.309846 157.720591 \nL 265.444191 170.433529 \nL 265.578536 125.50456 \nL 265.712882 161.802403 \nL 265.847227 162.213875 \nL 266.115917 187.178541 \nL 266.250263 167.12544 \nL 266.384608 169.384645 \nL 266.518953 152.409601 \nL 266.653298 149.806395 \nL 266.921989 176.521253 \nL 267.056334 167.738534 \nL 267.190679 149.268681 \nL 267.45937 160.680408 \nL 267.593715 153.547981 \nL 267.72806 156.930372 \nL 267.862406 156.277115 \nL 267.996751 168.989063 \nL 268.131096 152.284798 \nL 268.265441 164.505916 \nL 268.399787 158.208725 \nL 268.534132 161.080418 \nL 268.668477 151.485633 \nL 268.802822 164.566284 \nL 268.937168 188.732796 \nL 269.205858 180.014828 \nL 269.340203 157.626084 \nL 269.474549 164.575408 \nL 269.608894 179.097647 \nL 269.877584 152.153454 \nL 270.01193 165.298765 \nL 270.146275 163.03929 \nL 270.28062 163.737497 \nL 270.414965 187.371353 \nL 270.549311 155.79669 \nL 270.683656 182.22079 \nL 270.818001 129.119275 \nL 271.086691 175.032332 \nL 271.355382 157.093855 \nL 271.624072 170.542532 \nL 271.758418 150.451538 \nL 271.892763 173.344912 \nL 272.027108 149.878314 \nL 272.295799 175.089935 \nL 272.430144 165.030212 \nL 272.564489 174.381817 \nL 272.698834 154.027147 \nL 272.83318 173.493292 \nL 272.967525 157.186002 \nL 273.236215 177.859771 \nL 273.370561 152.539686 \nL 273.504906 172.027969 \nL 273.639251 171.572582 \nL 273.907942 128.199038 \nL 274.176632 181.742523 \nL 274.310977 153.279989 \nL 274.579668 172.285398 \nL 274.714013 174.266655 \nL 274.848358 140.239187 \nL 275.117049 166.901791 \nL 275.251394 139.74975 \nL 275.385739 152.687594 \nL 275.520085 180.530021 \nL 275.65443 172.480166 \nL 275.788775 157.172966 \nL 275.92312 165.334747 \nL 276.057466 190.023983 \nL 276.191811 140.671897 \nL 276.326156 145.071865 \nL 276.460501 189.819506 \nL 276.729192 152.260682 \nL 276.863537 171.543634 \nL 276.997882 151.657522 \nL 277.132228 155.904188 \nL 277.266573 148.127335 \nL 277.400918 130.094643 \nL 277.535263 183.319928 \nL 277.669609 153.480735 \nL 277.803954 159.61968 \nL 277.938299 174.240225 \nL 278.072644 204.95776 \nL 278.20699 165.734172 \nL 278.341335 158.980852 \nL 278.47568 169.046015 \nL 278.610025 163.962426 \nL 278.878716 163.132022 \nL 279.147406 142.024935 \nL 279.416097 161.085542 \nL 279.550442 148.914229 \nL 279.819133 189.203175 \nL 280.087823 141.763304 \nL 280.222168 145.738113 \nL 280.356514 164.729969 \nL 280.625204 146.810528 \nL 280.893895 136.056755 \nL 281.162585 178.209752 \nL 281.29693 150.505725 \nL 281.565621 168.590784 \nL 281.699966 123.049463 \nL 281.968657 179.378764 \nL 282.103002 149.622819 \nL 282.237347 151.718025 \nL 282.371692 166.242713 \nL 282.506038 164.073543 \nL 282.774728 170.557927 \nL 282.909073 151.749647 \nL 283.043419 173.91182 \nL 283.177764 175.864804 \nL 283.312109 150.62237 \nL 283.446454 195.476093 \nL 283.715145 155.647636 \nL 283.84949 174.43279 \nL 283.983835 157.476356 \nL 284.11818 184.406502 \nL 284.386871 158.406842 \nL 284.521216 166.552396 \nL 284.655561 188.835552 \nL 284.924252 152.620799 \nL 285.058597 162.032277 \nL 285.192942 160.324315 \nL 285.461633 179.466461 \nL 285.595978 183.794823 \nL 285.730323 176.144168 \nL 285.864669 187.231177 \nL 285.999014 164.888237 \nL 286.133359 164.752151 \nL 286.267704 146.02768 \nL 286.40205 181.039753 \nL 286.536395 153.979792 \nL 286.939431 163.693401 \nL 287.073776 133.68531 \nL 287.342466 173.739168 \nL 287.476812 182.794755 \nL 287.611157 142.827785 \nL 287.745502 175.956884 \nL 287.879847 151.48842 \nL 288.148538 180.038449 \nL 288.417228 155.450306 \nL 288.551574 168.366709 \nL 288.685919 169.181022 \nL 288.954609 177.145989 \nL 289.2233 160.459704 \nL 289.357645 176.484619 \nL 289.49199 163.744667 \nL 289.760681 172.821605 \nL 289.895026 165.054822 \nL 290.029371 149.643743 \nL 290.163717 173.63821 \nL 290.298062 176.922363 \nL 290.566752 150.750433 \nL 290.701098 170.672145 \nL 290.835443 168.50711 \nL 290.969788 170.809332 \nL 291.104133 144.203702 \nL 291.372824 169.382217 \nL 291.507169 154.861102 \nL 291.641514 178.603333 \nL 291.910205 151.163388 \nL 292.04455 151.131451 \nL 292.178895 162.042391 \nL 292.313241 163.750667 \nL 292.447586 181.950708 \nL 292.581931 162.341308 \nL 292.716276 171.786611 \nL 292.850622 171.525362 \nL 292.984967 172.293668 \nL 293.253657 169.159311 \nL 293.388003 160.120737 \nL 293.522348 181.846829 \nL 293.656693 185.348742 \nL 293.791038 164.432265 \nL 293.925384 169.323648 \nL 294.059729 168.932426 \nL 294.328419 176.147764 \nL 294.462765 142.664347 \nL 294.731455 169.999739 \nL 294.8658 128.600688 \nL 295.000146 178.416431 \nL 295.134491 177.2062 \nL 295.268836 169.603079 \nL 295.403181 177.221348 \nL 295.806217 147.652597 \nL 295.940562 172.448116 \nL 296.209253 142.253595 \nL 296.343598 168.233343 \nL 296.612289 136.852683 \nL 296.746634 177.406721 \nL 296.880979 176.626795 \nL 297.284015 143.874534 \nL 297.41836 177.822148 \nL 297.552705 134.075183 \nL 297.821396 168.709722 \nL 297.955741 179.108975 \nL 298.090086 174.738112 \nL 298.224431 164.272806 \nL 298.358777 167.431144 \nL 298.493122 159.479347 \nL 298.627467 172.651335 \nL 298.761812 154.344403 \nL 298.896158 161.062033 \nL 299.030503 149.670286 \nL 299.164848 173.008777 \nL 299.299193 159.32782 \nL 299.433539 161.809101 \nL 299.567884 155.827638 \nL 299.702229 142.647851 \nL 299.97092 179.456909 \nL 300.23961 145.745574 \nL 300.373955 164.986565 \nL 300.508301 152.057351 \nL 300.776991 165.379967 \nL 300.911336 167.536799 \nL 301.180027 160.517532 \nL 301.314372 145.418339 \nL 301.583063 164.710123 \nL 301.851753 186.643547 \nL 301.986098 154.091919 \nL 302.120444 169.892916 \nL 302.254789 165.060598 \nL 302.389134 152.331096 \nL 302.523479 150.413353 \nL 302.657825 158.682902 \nL 302.79217 133.329127 \nL 303.195206 183.701507 \nL 303.329551 142.947891 \nL 303.463896 160.892842 \nL 303.598241 161.133841 \nL 303.732587 163.637214 \nL 303.866932 186.153952 \nL 304.135622 146.651944 \nL 304.269968 156.312648 \nL 304.404313 145.439061 \nL 304.673003 148.457448 \nL 304.807349 169.328435 \nL 305.076039 141.911639 \nL 305.210384 139.649107 \nL 305.34473 165.907634 \nL 305.479075 169.011291 \nL 305.747765 153.502401 \nL 305.882111 172.321223 \nL 306.285146 145.310684 \nL 306.553837 173.733594 \nL 306.822527 178.676219 \nL 306.956873 163.114401 \nL 307.091218 179.095917 \nL 307.225563 180.359683 \nL 307.359908 179.38663 \nL 307.494254 171.629578 \nL 307.628599 142.147244 \nL 307.897289 166.56624 \nL 308.031635 157.451319 \nL 308.16598 168.297981 \nL 308.300325 164.748263 \nL 308.569016 178.256904 \nL 308.703361 149.31671 \nL 308.837706 162.553786 \nL 308.972051 139.407861 \nL 309.106397 153.142487 \nL 309.375087 145.297019 \nL 309.509432 154.500874 \nL 309.643778 141.143827 \nL 309.912468 169.100314 \nL 310.046813 161.050458 \nL 310.181159 169.741839 \nL 310.315504 170.373273 \nL 310.449849 177.067439 \nL 310.584194 156.69416 \nL 310.71854 160.245383 \nL 310.852885 158.965254 \nL 311.121575 169.39768 \nL 311.25592 150.141856 \nL 311.390266 171.486503 \nL 311.524611 162.088375 \nL 311.658956 168.373811 \nL 311.793301 157.090955 \nL 311.927647 162.200682 \nL 312.061992 145.39247 \nL 312.196337 163.864053 \nL 312.330682 153.77745 \nL 312.465028 173.150369 \nL 312.599373 151.625203 \nL 312.733718 152.646735 \nL 312.868063 151.932301 \nL 313.002409 166.254333 \nL 313.136754 167.038551 \nL 313.271099 185.636466 \nL 313.405444 150.461247 \nL 313.53979 177.301134 \nL 313.674135 161.4148 \nL 313.80848 177.511724 \nL 313.942825 139.994907 \nL 314.077171 158.002337 \nL 314.211516 157.325526 \nL 314.480206 171.646435 \nL 314.748897 142.694262 \nL 315.017587 174.50925 \nL 315.151933 139.216936 \nL 315.420623 174.157719 \nL 315.689314 148.68858 \nL 315.823659 170.313288 \nL 315.958004 158.182699 \nL 316.226695 169.844909 \nL 316.36104 160.38248 \nL 316.495385 165.190054 \nL 316.62973 187.672383 \nL 316.764076 140.603753 \nL 316.898421 172.148076 \nL 317.032766 147.881909 \nL 317.167111 154.03263 \nL 317.301457 178.213909 \nL 317.435802 180.147295 \nL 317.570147 159.721806 \nL 317.704492 163.367649 \nL 317.838838 153.181144 \nL 317.973183 163.166318 \nL 318.107528 151.32478 \nL 318.241873 154.204991 \nL 318.376219 166.44764 \nL 318.510564 153.017909 \nL 318.644909 158.016159 \nL 318.779254 183.704384 \nL 318.9136 178.868942 \nL 319.047945 154.687011 \nL 319.18229 162.645978 \nL 319.316635 138.636655 \nL 319.450981 168.138925 \nL 319.585326 170.49275 \nL 319.719671 178.017231 \nL 319.988362 149.477563 \nL 320.122707 148.571126 \nL 320.257052 148.730249 \nL 320.525743 167.996209 \nL 320.660088 157.526475 \nL 320.794433 161.392527 \nL 320.928778 172.834326 \nL 321.063124 157.80658 \nL 321.197469 121.133113 \nL 321.331814 147.149765 \nL 321.466159 148.983991 \nL 321.600505 168.246738 \nL 321.73485 169.316591 \nL 321.869195 157.976536 \nL 322.00354 180.734139 \nL 322.137886 152.445044 \nL 322.272231 168.230488 \nL 322.406576 159.008092 \nL 322.540921 171.658346 \nL 322.675267 147.396405 \nL 322.809612 186.761248 \nL 322.943957 179.42459 \nL 323.078302 165.908623 \nL 323.212648 185.753246 \nL 323.481338 161.0808 \nL 323.615683 187.334045 \nL 323.750029 132.630492 \nL 323.884374 154.655726 \nL 324.018719 149.189187 \nL 324.153064 167.977578 \nL 324.287409 168.666368 \nL 324.421755 160.601004 \nL 324.5561 178.250027 \nL 324.690445 148.166622 \nL 324.82479 146.789738 \nL 324.959136 142.576201 \nL 325.093481 169.103888 \nL 325.227826 152.368809 \nL 325.362171 178.27385 \nL 325.496517 172.378444 \nL 325.630862 179.219641 \nL 325.765207 151.122865 \nL 325.765207 151.122865 \n\" style=\"fill:none;stroke:#1f77b4;stroke-linecap:square;stroke-width:1.5;\"/>\n   </g>\n   <g id=\"line2d_18\">\n    <path clip-path=\"url(#p2055743ed9)\" d=\"M 57.209057 69.382658 \nL 57.343403 88.710492 \nL 57.477748 136.964653 \nL 57.612093 139.300835 \nL 57.746438 99.013417 \nL 58.015129 173.090069 \nL 58.149474 115.663922 \nL 58.283819 178.915443 \nL 58.418165 120.816171 \nL 58.55251 150.344445 \nL 58.686855 92.372135 \nL 58.8212 132.468471 \nL 58.955546 57.499091 \nL 59.224236 162.198906 \nL 59.358581 122.35674 \nL 59.492927 150.659836 \nL 59.761617 119.981407 \nL 59.895962 161.963594 \nL 60.030308 144.386446 \nL 60.164653 182.850426 \nL 60.298998 34.67267 \nL 60.433343 65.145252 \nL 60.702034 164.117661 \nL 60.836379 170.149647 \nL 60.970724 146.387122 \nL 61.10507 172.635198 \nL 61.239415 135.374056 \nL 61.37376 129.456916 \nL 61.508105 178.124302 \nL 61.776796 150.384113 \nL 61.911141 145.336373 \nL 62.045486 111.43027 \nL 62.179832 164.571722 \nL 62.314177 141.842303 \nL 62.448522 80.735276 \nL 62.582867 178.143113 \nL 62.717213 154.595786 \nL 62.851558 68.125858 \nL 63.120248 164.135461 \nL 63.254594 80.51828 \nL 63.388939 150.777313 \nL 63.523284 139.718038 \nL 63.657629 153.740681 \nL 63.791975 106.484835 \nL 63.92632 100.784961 \nL 64.060665 101.581271 \nL 64.329356 175.047435 \nL 64.463701 194.362009 \nL 64.598046 126.686765 \nL 64.732391 182.443809 \nL 64.866737 112.305804 \nL 65.001082 143.24564 \nL 65.135427 143.341316 \nL 65.269772 173.827809 \nL 65.404118 124.491232 \nL 65.538463 138.899343 \nL 65.672808 168.399904 \nL 65.807153 110.318973 \nL 66.075844 181.719486 \nL 66.210189 89.232069 \nL 66.344534 203.399504 \nL 66.47888 145.046895 \nL 66.613225 193.386551 \nL 66.74757 153.12626 \nL 66.881915 171.466995 \nL 67.016261 135.385787 \nL 67.150606 131.817169 \nL 67.284951 166.449146 \nL 67.553642 102.416868 \nL 67.687987 142.65974 \nL 67.822332 102.588756 \nL 68.091023 222.535762 \nL 68.225368 155.730906 \nL 68.359713 199.577638 \nL 68.494058 189.233943 \nL 68.628404 151.342288 \nL 68.762749 191.765455 \nL 68.897094 193.003016 \nL 69.031439 172.719794 \nL 69.165785 90.496959 \nL 69.30013 146.84905 \nL 69.434475 119.021951 \nL 69.56882 194.715091 \nL 69.703166 198.88442 \nL 69.837511 110.481759 \nL 69.971856 182.240006 \nL 70.240546 101.941163 \nL 70.374892 103.165351 \nL 70.509237 78.544192 \nL 70.643582 117.071349 \nL 70.777927 47.313755 \nL 70.912273 96.403783 \nL 71.046618 95.920661 \nL 71.180963 191.429724 \nL 71.315308 110.634521 \nL 71.449654 190.977685 \nL 71.852689 80.079412 \nL 71.987035 98.944576 \nL 72.12138 87.449355 \nL 72.39007 141.211431 \nL 72.524416 127.964444 \nL 72.658761 155.226096 \nL 72.793106 67.728523 \nL 73.061797 186.464107 \nL 73.330487 145.355319 \nL 73.464832 178.615919 \nL 73.599178 141.395479 \nL 73.733523 161.138785 \nL 73.867868 201.441329 \nL 74.002213 169.104652 \nL 74.136559 173.871433 \nL 74.270904 193.437592 \nL 74.539594 170.946699 \nL 74.808285 187.317571 \nL 74.94263 55.869432 \nL 75.211321 211.890948 \nL 75.345666 228.043677 \nL 75.480011 78.237656 \nL 75.748702 164.259298 \nL 75.883047 130.840722 \nL 76.017392 194.690099 \nL 76.151737 179.355368 \nL 76.286083 139.83929 \nL 76.554773 187.000696 \nL 76.689118 141.429191 \nL 76.823464 212.048003 \nL 77.092154 106.452831 \nL 77.226499 129.755451 \nL 77.360845 116.532602 \nL 77.49519 189.77251 \nL 77.629535 156.651008 \nL 77.76388 214.497886 \nL 78.032571 122.900319 \nL 78.301261 216.222973 \nL 78.435607 197.214508 \nL 78.569952 109.548936 \nL 78.704297 174.19069 \nL 78.838642 152.855325 \nL 78.972988 161.354208 \nL 79.107333 151.839839 \nL 79.241678 189.207108 \nL 79.376023 192.714168 \nL 79.510369 183.056971 \nL 79.779059 114.034128 \nL 80.04775 181.277044 \nL 80.182095 151.902094 \nL 80.31644 183.33775 \nL 80.450785 112.185428 \nL 80.585131 160.877109 \nL 80.719476 71.175193 \nL 80.988166 181.50485 \nL 81.122512 135.346142 \nL 81.391202 178.589623 \nL 81.525547 150.008085 \nL 81.794238 181.093738 \nL 81.928583 127.884725 \nL 82.197274 199.263168 \nL 82.465964 155.647501 \nL 82.600309 200.518889 \nL 82.734655 134.550101 \nL 82.869 125.704115 \nL 83.003345 105.856165 \nL 83.272035 169.938293 \nL 83.406381 181.850223 \nL 83.540726 135.602491 \nL 83.675071 140.015539 \nL 83.809416 102.866974 \nL 83.943762 118.301336 \nL 84.078107 201.87559 \nL 84.346797 137.245186 \nL 84.481143 199.576559 \nL 84.615488 203.971852 \nL 84.749833 124.464531 \nL 84.884178 124.584165 \nL 85.018524 226.387295 \nL 85.152869 139.408108 \nL 85.421559 194.116425 \nL 85.555905 173.046197 \nL 85.69025 127.735919 \nL 85.824595 165.560935 \nL 85.95894 71.853847 \nL 86.227631 212.399466 \nL 86.361976 167.413996 \nL 86.496321 189.428194 \nL 86.630667 239.902903 \nL 86.899357 151.803834 \nL 87.033702 226.176548 \nL 87.168048 151.567869 \nL 87.436738 207.344916 \nL 87.571083 113.434451 \nL 87.705429 186.3558 \nL 87.839774 184.953295 \nL 88.108464 171.267192 \nL 88.24281 175.177363 \nL 88.5115 149.542471 \nL 88.645845 154.830536 \nL 88.780191 223.329915 \nL 89.048881 127.034048 \nL 89.183226 179.72353 \nL 89.317572 168.178504 \nL 89.451917 208.6241 \nL 89.586262 176.927016 \nL 89.720607 201.057344 \nL 89.854953 116.636683 \nL 90.123643 204.858803 \nL 90.257988 165.27411 \nL 90.392334 221.423139 \nL 90.526679 151.646824 \nL 90.661024 169.95016 \nL 90.795369 207.953425 \nL 90.929715 202.650998 \nL 91.06406 237.765557 \nL 91.198405 210.417422 \nL 91.33275 154.474533 \nL 91.467096 198.341021 \nL 91.735786 134.622808 \nL 91.870131 204.117354 \nL 92.004477 160.310763 \nL 92.273167 194.848862 \nL 92.407512 182.389285 \nL 92.541858 204.822708 \nL 92.810548 158.251989 \nL 92.944893 200.691429 \nL 93.079239 92.318195 \nL 93.213584 191.659171 \nL 93.482274 157.238481 \nL 93.750965 185.136399 \nL 93.88531 177.387056 \nL 94.019655 141.216488 \nL 94.154001 178.218764 \nL 94.288346 180.205078 \nL 94.422691 121.054001 \nL 94.557036 188.187442 \nL 94.691382 150.892564 \nL 94.960072 205.487742 \nL 95.228763 177.992374 \nL 95.363108 187.4417 \nL 95.497453 148.617739 \nL 95.631798 184.011077 \nL 95.766144 167.88143 \nL 95.900489 204.321876 \nL 96.034834 149.050562 \nL 96.169179 210.81197 \nL 96.303525 162.440602 \nL 96.43787 169.628431 \nL 96.572215 164.947234 \nL 96.70656 216.330381 \nL 96.840905 177.261084 \nL 96.975251 199.811557 \nL 97.109596 167.746872 \nL 97.243941 169.578177 \nL 97.378286 145.966863 \nL 97.512632 151.856043 \nL 97.646977 133.52131 \nL 97.781322 147.760949 \nL 97.915667 191.564866 \nL 98.184358 117.510487 \nL 98.453048 191.432353 \nL 98.587394 124.557712 \nL 98.721739 179.600906 \nL 98.856084 159.935049 \nL 98.990429 171.129173 \nL 99.124775 199.88314 \nL 99.25912 187.721963 \nL 99.393465 202.613061 \nL 99.662156 166.072555 \nL 99.796501 223.039909 \nL 99.930846 206.366154 \nL 100.065191 169.559118 \nL 100.333882 216.543669 \nL 100.468227 193.832319 \nL 100.602572 204.369793 \nL 100.736918 169.834548 \nL 101.005608 203.784253 \nL 101.139953 196.343783 \nL 101.274299 204.116995 \nL 101.408644 148.592207 \nL 101.81168 204.146212 \nL 101.946025 184.229894 \nL 102.08037 192.723765 \nL 102.214715 178.140731 \nL 102.349061 213.931562 \nL 102.483406 173.102655 \nL 102.617751 179.702988 \nL 102.752096 169.553701 \nL 103.020787 221.924848 \nL 103.155132 205.128413 \nL 103.289477 170.913728 \nL 103.423823 175.168935 \nL 103.558168 175.180757 \nL 103.692513 218.812291 \nL 103.826858 150.09949 \nL 104.095549 189.228864 \nL 104.498585 145.953288 \nL 104.63293 150.37618 \nL 104.767275 185.358631 \nL 104.90162 174.297963 \nL 105.035966 205.279287 \nL 105.170311 162.466089 \nL 105.304656 172.890311 \nL 105.573347 229.493031 \nL 105.707692 207.965831 \nL 105.842037 144.100902 \nL 106.110728 219.57626 \nL 106.245073 142.887591 \nL 106.379418 140.37352 \nL 106.513763 227.257784 \nL 106.782454 168.733051 \nL 107.051144 204.655899 \nL 107.18549 189.007463 \nL 107.319835 134.68758 \nL 107.45418 150.479879 \nL 107.588525 186.160717 \nL 107.722871 151.993478 \nL 107.857216 170.882421 \nL 107.991561 164.574622 \nL 108.260252 207.627718 \nL 108.394597 185.700835 \nL 108.528942 211.500423 \nL 108.663287 200.01273 \nL 108.797633 209.282729 \nL 108.931978 187.606239 \nL 109.066323 211.503727 \nL 109.200668 173.283915 \nL 109.335014 167.195809 \nL 109.469359 133.134246 \nL 109.603704 138.32695 \nL 109.738049 222.331802 \nL 109.872395 207.125695 \nL 110.00674 152.303048 \nL 110.141085 208.469225 \nL 110.544121 170.782744 \nL 110.678466 185.417381 \nL 110.812811 171.765147 \nL 110.947156 216.277385 \nL 111.081502 196.583726 \nL 111.215847 140.798971 \nL 111.350192 219.777141 \nL 111.484537 185.616396 \nL 111.618883 109.881925 \nL 111.753228 231.094934 \nL 112.021918 188.481347 \nL 112.156264 209.382945 \nL 112.290609 187.915832 \nL 112.424954 214.800354 \nL 112.693645 190.733787 \nL 112.82799 212.553937 \nL 112.962335 172.035768 \nL 113.09668 203.69251 \nL 113.231026 208.918837 \nL 113.365371 237.516715 \nL 113.499716 190.711716 \nL 113.634061 190.048413 \nL 113.768407 172.462815 \nL 113.902752 197.598268 \nL 114.037097 197.173447 \nL 114.171442 174.157562 \nL 114.305788 172.342529 \nL 114.440133 222.7595 \nL 114.574478 173.39157 \nL 114.708823 263.760363 \nL 114.843169 268.017884 \nL 114.977514 189.52605 \nL 115.111859 178.429534 \nL 115.38055 182.705822 \nL 115.64924 205.835835 \nL 115.783585 190.661552 \nL 115.917931 193.770064 \nL 116.052276 172.355924 \nL 116.186621 213.947406 \nL 116.320966 204.907439 \nL 116.455312 239.91032 \nL 116.589657 178.808709 \nL 116.992693 211.562274 \nL 117.127038 194.776357 \nL 117.261383 215.276081 \nL 117.395728 169.846618 \nL 117.530074 220.113681 \nL 117.664419 176.627942 \nL 117.798764 200.524013 \nL 117.933109 143.190823 \nL 118.067455 250.458829 \nL 118.2018 212.532023 \nL 118.336145 213.001076 \nL 118.47049 201.840798 \nL 118.604836 203.904427 \nL 118.739181 171.65493 \nL 118.873526 192.082397 \nL 119.007871 168.238557 \nL 119.142217 184.230523 \nL 119.276562 156.72095 \nL 119.545252 205.506015 \nL 119.679598 165.615752 \nL 119.813943 159.496652 \nL 119.948288 204.949198 \nL 120.216979 192.694277 \nL 120.351324 192.877673 \nL 120.485669 164.422758 \nL 120.620014 213.962734 \nL 120.75436 187.768621 \nL 120.888705 198.395747 \nL 121.02305 191.162879 \nL 121.157395 193.690143 \nL 121.291741 202.967536 \nL 121.426086 263.238854 \nL 121.694776 203.195387 \nL 121.829122 181.351796 \nL 122.232157 227.625531 \nL 122.366503 205.487563 \nL 122.500848 152.874181 \nL 122.635193 253.1952 \nL 122.769538 215.55277 \nL 122.903884 138.998547 \nL 123.038229 236.40544 \nL 123.172574 227.329007 \nL 123.306919 198.077075 \nL 123.441264 243.684731 \nL 123.57561 186.562929 \nL 123.709955 219.883897 \nL 123.8443 188.116848 \nL 124.112991 228.018314 \nL 124.381681 189.209221 \nL 124.516026 209.325858 \nL 124.784717 165.62137 \nL 124.919062 197.996772 \nL 125.053407 200.376937 \nL 125.187753 176.167677 \nL 125.456443 229.112935 \nL 125.590788 247.441892 \nL 125.725134 199.801556 \nL 125.993824 227.544666 \nL 126.128169 213.890432 \nL 126.262515 219.381626 \nL 126.39686 231.320414 \nL 126.531205 167.445281 \nL 126.66555 220.344274 \nL 126.799896 210.860201 \nL 126.934241 191.611344 \nL 127.068586 200.897772 \nL 127.202931 198.348527 \nL 127.337277 210.204832 \nL 127.471622 238.324757 \nL 127.605967 236.825374 \nL 127.740312 247.566426 \nL 128.009003 151.745624 \nL 128.143348 221.204256 \nL 128.277693 207.380269 \nL 128.412039 243.382105 \nL 128.680729 209.963091 \nL 128.815074 210.658466 \nL 128.94942 237.70946 \nL 129.21811 177.975248 \nL 129.486801 202.756024 \nL 129.621146 192.574149 \nL 129.755491 220.67551 \nL 129.889836 209.955584 \nL 130.024182 219.338834 \nL 130.158527 209.378854 \nL 130.292872 208.42232 \nL 130.427217 218.309211 \nL 130.561563 250.302561 \nL 130.695908 166.229475 \nL 130.830253 212.704002 \nL 131.098944 182.661726 \nL 131.233289 219.13584 \nL 131.367634 198.042463 \nL 131.501979 198.303555 \nL 131.636325 223.677355 \nL 131.905015 173.993629 \nL 132.03936 201.778453 \nL 132.173706 174.247192 \nL 132.308051 204.888223 \nL 132.442396 204.805245 \nL 132.576741 171.612767 \nL 132.711087 230.366015 \nL 132.979777 150.285246 \nL 133.114122 200.532014 \nL 133.248468 205.891887 \nL 133.382813 236.539616 \nL 133.517158 157.756461 \nL 133.651503 226.31841 \nL 133.785849 192.783795 \nL 134.32323 225.775089 \nL 134.59192 161.818293 \nL 134.860611 219.128334 \nL 134.994956 207.120481 \nL 135.129301 215.489188 \nL 135.263646 201.266091 \nL 135.397992 223.542573 \nL 135.532337 210.959855 \nL 135.666682 225.219339 \nL 135.801027 222.517467 \nL 136.069718 190.454423 \nL 136.204063 204.327023 \nL 136.338408 180.831523 \nL 136.472754 188.277858 \nL 136.607099 220.646742 \nL 136.875789 154.922706 \nL 137.278825 227.33775 \nL 137.41317 169.8826 \nL 137.547515 163.508163 \nL 137.681861 222.432197 \nL 137.816206 137.704237 \nL 137.950551 186.613183 \nL 138.084896 191.142786 \nL 138.219242 160.604263 \nL 138.353587 236.129291 \nL 138.622277 160.549941 \nL 138.756623 169.699789 \nL 139.025313 243.038801 \nL 139.159658 199.628431 \nL 139.294004 215.393131 \nL 139.428349 252.306248 \nL 139.562694 182.828715 \nL 139.831385 235.8693 \nL 139.96573 208.399598 \nL 140.100075 220.072012 \nL 140.23442 184.520225 \nL 140.368766 241.501424 \nL 140.503111 204.578158 \nL 140.771801 219.850814 \nL 140.906147 212.497637 \nL 141.040492 178.044336 \nL 141.174837 220.667778 \nL 141.309182 181.348537 \nL 141.443528 180.71762 \nL 141.577873 188.735291 \nL 141.712218 182.727263 \nL 141.980909 223.831769 \nL 142.115254 174.185026 \nL 142.249599 196.776067 \nL 142.383944 253.898779 \nL 142.51829 179.687075 \nL 142.78698 242.568726 \nL 142.921325 197.364798 \nL 143.055671 210.277875 \nL 143.190016 148.59904 \nL 143.324361 203.27996 \nL 143.458706 171.142569 \nL 143.727397 210.509277 \nL 143.861742 230.169999 \nL 143.996087 173.932677 \nL 144.130433 226.402702 \nL 144.264778 209.898003 \nL 144.399123 223.719282 \nL 144.533468 214.068299 \nL 144.667814 240.266211 \nL 144.802159 178.491048 \nL 145.070849 192.955976 \nL 145.205195 185.932731 \nL 145.33954 150.286122 \nL 145.473885 194.863695 \nL 145.60823 123.925537 \nL 145.742576 203.408382 \nL 145.876921 142.367408 \nL 146.145611 240.356448 \nL 146.279957 182.565263 \nL 146.548647 211.849369 \nL 146.682992 153.248951 \nL 146.817338 216.090506 \nL 146.951683 172.151537 \nL 147.086028 217.014789 \nL 147.220373 203.479111 \nL 147.354719 213.330311 \nL 147.489064 237.832353 \nL 147.757754 206.775647 \nL 147.8921 202.612746 \nL 148.026445 204.714289 \nL 148.295135 228.5457 \nL 148.429481 191.121794 \nL 148.563826 227.242018 \nL 148.698171 227.730759 \nL 148.832516 219.356522 \nL 148.966862 218.665754 \nL 149.101207 238.497634 \nL 149.235552 190.632807 \nL 149.504243 227.591223 \nL 149.638588 205.976483 \nL 149.772933 208.809182 \nL 149.907278 243.393152 \nL 150.041624 212.403107 \nL 150.175969 213.864294 \nL 150.310314 243.550465 \nL 150.444659 211.739916 \nL 150.579004 212.718049 \nL 150.71335 196.163826 \nL 150.98204 225.01975 \nL 151.116385 213.244929 \nL 151.250731 182.406927 \nL 151.385076 184.5496 \nL 151.653766 201.78533 \nL 151.788112 197.833289 \nL 152.056802 178.001723 \nL 152.191147 210.896274 \nL 152.459838 204.985023 \nL 152.594183 230.94052 \nL 152.728528 215.071312 \nL 152.862874 240.928121 \nL 153.131564 149.833387 \nL 153.265909 235.377368 \nL 153.5346 180.899734 \nL 153.937636 226.176492 \nL 154.071981 219.771882 \nL 154.206326 229.890984 \nL 154.340671 224.110088 \nL 154.475017 205.889954 \nL 154.609362 217.952242 \nL 154.743707 200.754269 \nL 154.878052 212.333525 \nL 155.012398 187.703174 \nL 155.281088 240.213013 \nL 155.415433 170.045813 \nL 155.549779 222.621436 \nL 155.684124 230.441014 \nL 155.952814 180.477093 \nL 156.08716 179.697009 \nL 156.221505 152.136643 \nL 156.35585 158.462108 \nL 156.490195 219.843554 \nL 156.624541 162.586015 \nL 156.758886 170.242289 \nL 156.893231 206.573732 \nL 157.027576 151.280392 \nL 157.161922 198.972971 \nL 157.296267 151.156151 \nL 157.430612 193.263793 \nL 157.564957 192.087498 \nL 157.699303 185.527193 \nL 157.833648 225.439976 \nL 157.967993 194.789168 \nL 158.102338 193.768108 \nL 158.236684 178.272524 \nL 158.371029 223.784909 \nL 158.505374 223.659274 \nL 158.639719 182.513841 \nL 158.774065 205.367412 \nL 158.90841 184.516831 \nL 159.042755 230.920832 \nL 159.311446 192.202975 \nL 159.445791 216.963748 \nL 159.580136 212.604123 \nL 159.714481 213.129947 \nL 159.848827 210.57877 \nL 159.983172 229.431079 \nL 160.117517 222.488789 \nL 160.386208 240.77946 \nL 160.520553 220.319933 \nL 160.654898 166.14933 \nL 160.923589 229.690474 \nL 161.057934 211.759469 \nL 161.192279 256.29362 \nL 161.326624 230.567975 \nL 161.46097 234.996216 \nL 161.595315 211.604752 \nL 161.72966 231.008192 \nL 161.864005 209.191615 \nL 161.998351 213.854495 \nL 162.132696 272.294588 \nL 162.267041 169.180842 \nL 162.535732 221.671937 \nL 162.670077 182.442505 \nL 162.804422 206.37429 \nL 162.938767 164.114402 \nL 163.073113 178.621538 \nL 163.207458 220.501284 \nL 163.341803 203.83444 \nL 163.476148 202.565144 \nL 163.744839 234.477808 \nL 163.879184 225.79435 \nL 164.013529 234.284164 \nL 164.147874 194.214978 \nL 164.28222 254.406162 \nL 164.416565 208.421938 \nL 164.55091 234.269038 \nL 164.685255 227.643915 \nL 164.819601 230.688609 \nL 164.953946 167.922334 \nL 165.088291 211.432886 \nL 165.356982 220.930151 \nL 165.491327 138.456721 \nL 165.760017 189.61141 \nL 166.028708 230.955994 \nL 166.297398 177.818957 \nL 166.431744 248.417485 \nL 166.566089 187.630714 \nL 166.969125 248.287827 \nL 167.10347 231.037993 \nL 167.237815 231.59844 \nL 167.37216 201.770789 \nL 167.640851 238.276795 \nL 167.775196 202.039994 \nL 167.909541 213.796352 \nL 168.043887 239.999512 \nL 168.312577 197.159242 \nL 168.581268 217.608217 \nL 168.715613 216.890907 \nL 168.849958 238.895789 \nL 169.118649 165.793147 \nL 169.387339 233.707973 \nL 169.521684 227.738108 \nL 169.790375 168.06024 \nL 170.059065 260.25954 \nL 170.193411 205.856017 \nL 170.462101 193.545382 \nL 170.596446 227.756402 \nL 170.865137 210.019908 \nL 170.999482 223.79418 \nL 171.133827 176.597376 \nL 171.402518 224.352772 \nL 171.536863 231.60906 \nL 171.805554 225.268773 \nL 171.939899 203.030151 \nL 172.342935 230.265304 \nL 172.47728 232.850284 \nL 172.611625 206.038536 \nL 172.74597 215.505595 \nL 172.880316 238.819757 \nL 173.014661 208.059889 \nL 173.149006 222.88282 \nL 173.283351 208.607042 \nL 173.417697 174.451264 \nL 173.552042 227.755975 \nL 173.820732 208.211662 \nL 173.955078 220.977303 \nL 174.089423 182.949405 \nL 174.358113 235.407822 \nL 174.492459 231.677339 \nL 174.626804 184.450553 \nL 174.761149 201.68653 \nL 174.895494 191.719089 \nL 175.164185 238.887979 \nL 175.29853 196.987017 \nL 175.432875 205.918183 \nL 175.567221 261.411089 \nL 175.701566 207.571441 \nL 175.835911 224.691582 \nL 175.970256 174.129693 \nL 176.104602 234.899292 \nL 176.238947 187.004225 \nL 176.373292 215.46069 \nL 176.641983 198.764516 \nL 176.910673 234.766769 \nL 177.045018 250.055808 \nL 177.179363 230.627443 \nL 177.313709 236.566001 \nL 177.448054 235.11603 \nL 177.582399 232.2411 \nL 177.716744 235.042581 \nL 177.85109 221.474562 \nL 177.985435 224.592209 \nL 178.11978 231.130624 \nL 178.254125 207.91315 \nL 178.522816 244.635736 \nL 178.657161 208.000982 \nL 178.791506 243.017505 \nL 178.925852 232.27333 \nL 179.060197 201.392962 \nL 179.194542 231.682609 \nL 179.463233 218.38203 \nL 179.597578 221.919544 \nL 179.866268 177.270838 \nL 180.000614 219.151932 \nL 180.134959 182.924189 \nL 180.403649 213.045621 \nL 180.537995 210.52883 \nL 180.67234 201.215073 \nL 180.806685 206.803404 \nL 180.94103 204.268701 \nL 181.075376 179.653768 \nL 181.209721 224.683289 \nL 181.344066 220.740372 \nL 181.478411 189.657012 \nL 181.612757 190.54884 \nL 181.747102 224.36129 \nL 181.881447 213.269292 \nL 182.015792 234.436735 \nL 182.150138 206.140213 \nL 182.284483 261.405089 \nL 182.553173 201.353834 \nL 182.687519 232.534208 \nL 183.090554 202.62722 \nL 183.2249 264.713976 \nL 183.49359 161.869738 \nL 183.762281 211.034068 \nL 183.896626 196.431413 \nL 184.030971 202.765868 \nL 184.165316 227.305195 \nL 184.299662 229.466735 \nL 184.568352 201.418966 \nL 184.702697 209.874764 \nL 184.837043 226.104313 \nL 184.971388 211.090862 \nL 185.105733 213.684719 \nL 185.240078 200.858396 \nL 185.374424 228.095437 \nL 185.508769 182.533866 \nL 185.777459 235.960785 \nL 185.911805 222.649598 \nL 186.04615 230.53161 \nL 186.180495 198.221184 \nL 186.31484 245.766642 \nL 186.449186 227.694506 \nL 186.717876 266.184872 \nL 186.852221 255.992838 \nL 186.986567 224.250062 \nL 187.120912 250.012207 \nL 187.255257 254.385878 \nL 187.658293 209.802283 \nL 187.792638 235.143764 \nL 187.926983 171.533228 \nL 188.195674 218.184588 \nL 188.330019 215.602193 \nL 188.464364 242.371575 \nL 188.59871 241.811511 \nL 188.733055 191.195467 \nL 188.8674 220.68005 \nL 189.001745 199.947845 \nL 189.136091 225.867349 \nL 189.270436 205.639448 \nL 189.404781 206.978596 \nL 189.539126 230.607879 \nL 189.673472 188.967637 \nL 189.807817 234.467076 \nL 189.942162 214.248751 \nL 190.076507 213.027461 \nL 190.210853 206.225775 \nL 190.345198 219.01016 \nL 190.479543 191.168093 \nL 190.613888 232.826438 \nL 190.748233 208.968259 \nL 190.882579 252.47998 \nL 191.016924 237.191423 \nL 191.151269 208.530357 \nL 191.41996 243.770158 \nL 191.554305 194.703179 \nL 191.822995 267.143653 \nL 191.957341 214.479344 \nL 192.091686 215.647098 \nL 192.226031 249.292379 \nL 192.360376 228.014235 \nL 192.494722 184.012246 \nL 192.629067 206.137089 \nL 192.763412 177.073238 \nL 192.897757 224.53146 \nL 193.032103 208.94502 \nL 193.166448 209.12491 \nL 193.300793 260.805951 \nL 193.569484 219.445882 \nL 193.703829 226.153567 \nL 193.838174 254.414309 \nL 194.24121 173.81329 \nL 194.375555 240.333906 \nL 194.5099 210.851638 \nL 194.644246 234.143044 \nL 194.778591 208.723867 \nL 194.912936 218.13566 \nL 195.047281 239.027998 \nL 195.181627 203.854195 \nL 195.315972 236.793223 \nL 195.584662 209.868763 \nL 195.719008 228.090672 \nL 195.853353 223.676456 \nL 195.987698 230.856666 \nL 196.256389 203.731617 \nL 196.390734 227.663626 \nL 196.525079 224.832309 \nL 196.659424 250.872189 \nL 196.79377 196.779033 \nL 196.928115 210.46208 \nL 197.06246 247.25898 \nL 197.196805 235.41198 \nL 197.331151 252.585792 \nL 197.465496 241.75293 \nL 197.599841 210.511525 \nL 197.734186 248.264026 \nL 197.868532 234.511498 \nL 198.002877 257.026158 \nL 198.137222 213.240794 \nL 198.271567 209.910814 \nL 198.405913 227.585447 \nL 198.540258 222.019714 \nL 198.674603 238.240116 \nL 198.808948 177.358041 \nL 199.077639 235.190781 \nL 199.211984 238.387237 \nL 199.480675 214.419852 \nL 199.61502 226.939067 \nL 199.749365 222.424938 \nL 199.88371 226.354965 \nL 200.018056 239.612538 \nL 200.152401 206.190804 \nL 200.286746 241.611315 \nL 200.421091 194.648385 \nL 200.689782 250.426398 \nL 200.824127 207.798303 \nL 201.092818 241.205507 \nL 201.227163 208.17323 \nL 201.361508 239.766121 \nL 201.495853 223.067227 \nL 201.630199 244.49247 \nL 201.764544 247.785141 \nL 201.898889 225.901376 \nL 202.033234 261.178979 \nL 202.16758 226.636959 \nL 202.301925 247.641189 \nL 202.43627 231.236155 \nL 202.570615 232.909281 \nL 202.704961 224.910016 \nL 202.839306 206.033637 \nL 202.973651 242.754436 \nL 203.107996 217.203466 \nL 203.242342 230.387669 \nL 203.376687 215.82638 \nL 203.511032 240.511964 \nL 203.779722 208.331386 \nL 203.914068 231.489853 \nL 204.048413 218.441454 \nL 204.182758 246.732897 \nL 204.317103 196.585749 \nL 204.720139 250.840465 \nL 204.854484 198.359001 \nL 204.98883 207.689726 \nL 205.123175 198.239838 \nL 205.25752 226.806656 \nL 205.526211 206.412093 \nL 205.794901 242.760134 \nL 206.197937 165.376888 \nL 206.332282 181.888992 \nL 206.600973 245.111924 \nL 206.735318 234.773331 \nL 206.869663 252.275727 \nL 207.004008 218.100082 \nL 207.272699 235.908778 \nL 207.407044 235.795594 \nL 207.541389 192.260106 \nL 207.675735 216.209691 \nL 207.944425 204.614141 \nL 208.07877 231.718625 \nL 208.213116 219.440061 \nL 208.347461 217.609881 \nL 208.481806 237.654621 \nL 208.616151 230.606497 \nL 208.750497 202.368668 \nL 208.884842 235.709706 \nL 209.019187 194.232598 \nL 209.422223 253.014389 \nL 209.556568 196.835513 \nL 209.690913 202.931261 \nL 209.825259 244.627881 \nL 210.093949 222.879438 \nL 210.228294 225.910186 \nL 210.36264 262.806279 \nL 210.63133 203.511047 \nL 210.765675 210.392093 \nL 210.900021 201.104159 \nL 211.034366 241.5211 \nL 211.168711 214.124666 \nL 211.303056 245.137894 \nL 211.437402 249.873312 \nL 211.571747 218.556908 \nL 211.706092 229.698025 \nL 211.840437 252.494038 \nL 212.109128 246.245336 \nL 212.243473 232.657089 \nL 212.377818 197.724577 \nL 212.512164 258.928292 \nL 212.646509 214.866992 \nL 212.780854 252.370763 \nL 213.18389 183.778979 \nL 213.318235 252.918724 \nL 213.45258 247.210523 \nL 213.586926 233.759688 \nL 213.721271 233.241708 \nL 213.989961 244.436619 \nL 214.124307 221.836319 \nL 214.258652 223.500724 \nL 214.392997 186.440103 \nL 214.527342 246.129815 \nL 214.661688 188.566437 \nL 214.796033 197.658344 \nL 214.930378 264.173284 \nL 215.333414 196.662029 \nL 215.602104 231.758125 \nL 215.73645 228.795622 \nL 215.870795 234.629143 \nL 216.00514 204.472369 \nL 216.273831 241.661086 \nL 216.542521 188.206163 \nL 216.811212 213.335481 \nL 216.945557 185.920438 \nL 217.348592 249.983675 \nL 217.482938 244.015686 \nL 217.617283 229.907166 \nL 217.751628 203.859994 \nL 218.020319 254.858032 \nL 218.154664 219.287142 \nL 218.289009 222.221068 \nL 218.423354 211.851414 \nL 218.5577 260.228446 \nL 218.692045 258.124655 \nL 218.82639 270.165456 \nL 218.960735 248.94441 \nL 219.095081 274.503258 \nL 219.363771 205.066382 \nL 219.498116 267.025278 \nL 219.766807 211.34629 \nL 219.901152 236.452458 \nL 220.035497 226.25739 \nL 220.169843 244.176629 \nL 220.304188 227.695192 \nL 220.438533 237.070182 \nL 220.572878 232.288163 \nL 220.707224 196.099481 \nL 220.841569 231.841091 \nL 220.975914 227.885926 \nL 221.110259 205.642865 \nL 221.244605 242.969027 \nL 221.37895 191.638831 \nL 221.513295 249.323956 \nL 221.64764 226.793159 \nL 221.781986 153.701664 \nL 221.916331 232.200443 \nL 222.185021 212.654894 \nL 222.588057 250.768826 \nL 222.722402 216.076684 \nL 222.856748 215.37533 \nL 222.991093 265.264938 \nL 223.125438 189.842452 \nL 223.259783 203.934453 \nL 223.394129 272.493671 \nL 223.528474 217.490628 \nL 223.662819 208.551731 \nL 223.93151 230.917382 \nL 224.065855 218.230594 \nL 224.2002 230.430653 \nL 224.334545 225.797968 \nL 224.468891 252.089612 \nL 224.603236 244.1484 \nL 224.737581 227.841965 \nL 224.871926 250.51732 \nL 225.006272 236.462673 \nL 225.140617 242.358023 \nL 225.274962 231.357205 \nL 225.543653 244.522294 \nL 225.677998 253.189334 \nL 225.812343 241.700001 \nL 225.946688 243.348022 \nL 226.081034 190.944692 \nL 226.215379 263.321472 \nL 226.484069 244.741492 \nL 226.618415 260.531139 \nL 226.887105 228.328233 \nL 227.155796 254.558048 \nL 227.424486 231.250562 \nL 227.693177 247.132861 \nL 227.961867 223.393811 \nL 228.499248 255.298306 \nL 228.767939 216.785836 \nL 228.902284 203.859387 \nL 229.170974 234.908159 \nL 229.30532 256.204192 \nL 229.439665 227.482871 \nL 229.57401 247.269723 \nL 229.708355 234.136818 \nL 229.842701 202.452994 \nL 230.111391 257.868216 \nL 230.245736 248.359511 \nL 230.514427 180.925266 \nL 230.783117 230.711331 \nL 230.917462 216.660898 \nL 231.051808 253.787427 \nL 231.320498 238.600457 \nL 231.454843 194.020839 \nL 231.589189 213.283586 \nL 231.723534 213.274776 \nL 231.857879 239.836164 \nL 231.992224 233.02251 \nL 232.12657 233.865557 \nL 232.260915 231.580944 \nL 232.39526 220.468178 \nL 232.529605 228.744885 \nL 232.663951 269.292147 \nL 232.798296 234.450996 \nL 232.932641 244.831943 \nL 233.066986 244.516046 \nL 233.201332 242.617035 \nL 233.335677 230.564907 \nL 233.604367 254.501467 \nL 233.738713 241.708429 \nL 233.873058 242.139229 \nL 234.007403 277.341991 \nL 234.141748 221.555404 \nL 234.276094 280.29883 \nL 234.410439 242.740816 \nL 234.544784 251.259095 \nL 234.813475 228.017719 \nL 234.94782 237.823644 \nL 235.082165 234.576867 \nL 235.21651 267.148047 \nL 235.350856 228.374868 \nL 235.485201 249.690433 \nL 235.619546 251.780132 \nL 235.753891 222.142787 \nL 235.888237 250.743182 \nL 236.022582 242.890477 \nL 236.156927 226.170154 \nL 236.291272 226.401949 \nL 236.425618 234.435241 \nL 236.559963 258.032845 \nL 236.694308 243.967365 \nL 236.828653 194.162229 \nL 236.962999 195.599975 \nL 237.097344 244.309254 \nL 237.231689 244.235435 \nL 237.366034 207.819856 \nL 237.50038 202.691004 \nL 237.634725 280.721719 \nL 237.76907 239.337568 \nL 237.903415 262.530084 \nL 238.172106 235.021702 \nL 238.306451 246.548119 \nL 238.440796 245.247381 \nL 238.575142 215.787206 \nL 238.709487 245.785701 \nL 238.843832 235.310483 \nL 238.978177 242.204654 \nL 239.112523 226.513054 \nL 239.246868 250.722573 \nL 239.381213 240.540473 \nL 239.515558 253.090534 \nL 239.649904 243.49094 \nL 239.784249 256.114922 \nL 239.918594 193.919545 \nL 240.187285 259.110867 \nL 240.32163 228.789453 \nL 240.455975 265.056101 \nL 240.724666 222.571902 \nL 240.859011 227.016561 \nL 240.993356 238.460225 \nL 241.127701 212.2365 \nL 241.396392 256.175975 \nL 241.530737 218.548615 \nL 241.665082 251.720978 \nL 241.799428 237.744611 \nL 241.933773 255.322163 \nL 242.068118 234.942838 \nL 242.202463 233.569191 \nL 242.471154 199.473152 \nL 242.605499 244.397805 \nL 242.739844 235.855489 \nL 242.87419 262.175261 \nL 243.008535 234.466728 \nL 243.14288 245.952353 \nL 243.277225 243.512146 \nL 243.411571 244.373442 \nL 243.545916 221.05246 \nL 243.680261 218.205422 \nL 243.948951 238.893396 \nL 244.083297 233.023836 \nL 244.217642 252.61947 \nL 244.351987 223.766401 \nL 244.486332 237.939806 \nL 244.620678 214.546589 \nL 244.755023 227.837885 \nL 245.023713 222.534436 \nL 245.158059 256.639015 \nL 245.292404 218.446151 \nL 245.426749 256.593526 \nL 245.69544 212.864338 \nL 245.829785 258.846641 \nL 245.96413 225.917232 \nL 246.098475 255.675199 \nL 246.232821 230.455847 \nL 246.367166 249.648326 \nL 246.501511 230.031913 \nL 246.635856 236.406901 \nL 246.904547 225.977307 \nL 247.038892 234.075821 \nL 247.173237 228.961678 \nL 247.307583 215.843439 \nL 247.441928 214.378476 \nL 247.576273 241.555757 \nL 247.844964 252.204459 \nL 247.979309 243.812153 \nL 248.113654 221.913745 \nL 248.382345 254.943572 \nL 248.51669 246.522037 \nL 248.651035 230.476861 \nL 248.78538 246.26362 \nL 249.054071 232.208928 \nL 249.188416 236.819901 \nL 249.322761 226.687145 \nL 249.457107 249.751183 \nL 249.591452 210.818061 \nL 249.860142 255.953237 \nL 249.994488 235.36703 \nL 250.263178 253.716619 \nL 250.397523 230.342551 \nL 250.531869 238.78001 \nL 250.666214 259.773924 \nL 250.800559 260.118746 \nL 251.06925 221.782761 \nL 251.203595 261.018036 \nL 251.33794 253.413567 \nL 251.472285 230.207993 \nL 251.606631 244.05541 \nL 251.740976 242.048824 \nL 251.875321 256.287721 \nL 252.009666 236.353321 \nL 252.144012 262.624164 \nL 252.278357 240.975599 \nL 252.412702 255.636733 \nL 252.547047 211.450866 \nL 252.681393 243.996852 \nL 252.815738 245.659257 \nL 252.950083 248.735157 \nL 253.084428 255.435234 \nL 253.218774 239.817173 \nL 253.353119 270.662175 \nL 253.487464 250.064776 \nL 253.621809 261.723401 \nL 253.756155 223.195582 \nL 253.8905 246.144828 \nL 254.024845 237.322149 \nL 254.15919 248.152741 \nL 254.293536 241.580412 \nL 254.427881 266.351141 \nL 254.562226 257.893051 \nL 254.696571 260.130096 \nL 254.965262 245.053388 \nL 255.099607 245.030048 \nL 255.233952 214.396771 \nL 255.368298 234.210671 \nL 255.502643 237.589534 \nL 255.636988 254.55071 \nL 255.771333 227.367249 \nL 256.040024 250.055988 \nL 256.174369 255.829524 \nL 256.44306 226.144723 \nL 256.577405 252.147238 \nL 256.71175 246.281544 \nL 256.846095 250.414891 \nL 256.980441 231.38231 \nL 257.114786 237.306529 \nL 257.249131 206.732361 \nL 257.383476 267.20256 \nL 257.517821 229.178078 \nL 257.652167 279.654114 \nL 257.786512 253.87727 \nL 257.920857 205.968931 \nL 258.055202 222.737992 \nL 258.189548 210.023256 \nL 258.323893 250.635246 \nL 258.458238 223.325049 \nL 258.726929 250.801347 \nL 258.861274 237.979935 \nL 258.995619 240.967261 \nL 259.129964 240.177772 \nL 259.398655 233.369231 \nL 259.801691 264.776759 \nL 259.936036 222.697896 \nL 260.070381 265.513567 \nL 260.204726 268.955843 \nL 260.473417 236.894844 \nL 260.607762 257.415042 \nL 260.742107 232.673541 \nL 260.876453 247.411247 \nL 261.010798 203.743236 \nL 261.279488 236.988553 \nL 261.548179 226.929875 \nL 261.682524 274.25873 \nL 261.816869 222.046595 \nL 261.951215 246.382074 \nL 262.08556 249.418531 \nL 262.219905 213.027237 \nL 262.35425 254.819611 \nL 262.488596 255.2296 \nL 262.622941 253.9007 \nL 262.757286 250.165823 \nL 262.891631 214.914998 \nL 263.025977 255.378946 \nL 263.160322 222.402508 \nL 263.294667 242.833851 \nL 263.429012 238.435199 \nL 263.563358 261.558064 \nL 263.832048 217.62341 \nL 263.966393 241.808578 \nL 264.100739 227.086143 \nL 264.369429 246.761485 \nL 264.63812 225.128776 \nL 264.772465 258.288531 \nL 264.90681 220.652585 \nL 265.175501 246.514969 \nL 265.309846 253.869426 \nL 265.444191 254.119191 \nL 265.578536 265.403856 \nL 265.712882 256.083479 \nL 265.981572 211.752053 \nL 266.250263 235.910002 \nL 266.384608 235.777423 \nL 266.518953 245.790882 \nL 266.653298 223.991285 \nL 266.787644 242.746514 \nL 266.921989 243.559096 \nL 267.056334 237.481856 \nL 267.190679 244.863329 \nL 267.45937 239.995152 \nL 267.593715 249.973033 \nL 267.72806 245.373286 \nL 267.862406 263.945759 \nL 267.996751 236.538773 \nL 268.131096 258.966286 \nL 268.265441 196.784225 \nL 268.399787 248.426621 \nL 268.534132 236.665296 \nL 268.668477 256.423121 \nL 268.802822 252.260332 \nL 269.071513 231.597935 \nL 269.205858 234.700411 \nL 269.340203 245.994493 \nL 269.474549 213.318197 \nL 270.01193 269.688538 \nL 270.28062 234.463155 \nL 270.414965 246.050658 \nL 270.549311 242.951957 \nL 270.683656 231.22748 \nL 270.952346 252.457606 \nL 271.086691 257.53462 \nL 271.221037 229.728614 \nL 271.355382 256.218801 \nL 271.489727 225.955035 \nL 271.624072 223.446391 \nL 271.758418 241.426998 \nL 271.892763 241.179076 \nL 272.027108 257.208171 \nL 272.161453 246.837035 \nL 272.295799 245.570863 \nL 272.430144 260.925979 \nL 272.564489 236.282064 \nL 272.698834 249.5215 \nL 272.83318 246.367701 \nL 272.967525 255.219081 \nL 273.10187 253.700527 \nL 273.236215 209.246567 \nL 273.370561 244.7086 \nL 273.504906 218.469795 \nL 273.773596 255.369473 \nL 273.907942 255.218812 \nL 274.042287 233.142189 \nL 274.176632 231.136479 \nL 274.310977 242.586616 \nL 274.445323 242.002671 \nL 274.579668 237.711741 \nL 274.982704 255.654275 \nL 275.117049 269.560363 \nL 275.251394 241.438044 \nL 275.385739 236.614345 \nL 275.520085 241.378632 \nL 275.65443 268.381922 \nL 275.788775 258.259988 \nL 275.92312 257.45807 \nL 276.057466 248.697478 \nL 276.326156 264.751733 \nL 276.460501 239.798867 \nL 276.594847 251.942929 \nL 276.729192 275.709736 \nL 276.863537 241.520538 \nL 276.997882 247.252664 \nL 277.132228 234.244642 \nL 277.266573 207.858491 \nL 277.400918 275.78778 \nL 277.535263 216.582325 \nL 277.669609 238.683345 \nL 277.803954 241.433875 \nL 277.938299 224.168669 \nL 278.072644 228.838504 \nL 278.20699 253.744983 \nL 278.341335 238.963405 \nL 278.47568 244.666931 \nL 278.610025 268.78464 \nL 278.744371 243.058331 \nL 278.878716 261.038084 \nL 279.013061 260.961242 \nL 279.147406 251.155935 \nL 279.281752 261.587788 \nL 279.416097 246.397413 \nL 279.550442 269.441392 \nL 279.819133 233.367624 \nL 280.087823 247.505013 \nL 280.222168 229.952048 \nL 280.356514 250.862232 \nL 280.490859 246.068784 \nL 280.625204 251.453222 \nL 280.759549 243.041172 \nL 280.893895 264.432971 \nL 281.162585 228.534823 \nL 281.29693 230.939373 \nL 281.431276 235.648821 \nL 281.565621 220.008363 \nL 281.834311 268.906915 \nL 282.103002 227.374227 \nL 282.237347 233.948276 \nL 282.371692 258.11898 \nL 282.506038 228.934068 \nL 282.774728 256.664592 \nL 282.909073 263.028826 \nL 283.043419 236.43077 \nL 283.177764 236.841904 \nL 283.312109 249.460986 \nL 283.446454 229.46977 \nL 283.5808 256.455182 \nL 283.715145 247.089934 \nL 284.11818 202.275756 \nL 284.252526 252.186985 \nL 284.386871 256.153422 \nL 284.521216 245.172371 \nL 284.655561 259.152716 \nL 284.789907 257.11989 \nL 284.924252 240.190066 \nL 285.192942 262.992686 \nL 285.461633 231.007562 \nL 285.595978 230.091135 \nL 285.730323 243.586223 \nL 285.864669 238.338163 \nL 285.999014 280.644091 \nL 286.133359 268.60284 \nL 286.267704 267.704673 \nL 286.40205 241.336997 \nL 286.805085 263.701951 \nL 286.939431 265.912116 \nL 287.073776 246.407055 \nL 287.208121 263.774185 \nL 287.476812 238.135102 \nL 287.611157 254.807936 \nL 287.745502 229.57566 \nL 287.879847 267.405149 \nL 288.014193 255.507694 \nL 288.148538 224.761187 \nL 288.417228 252.125864 \nL 288.551574 229.018124 \nL 288.685919 225.620203 \nL 288.820264 252.570767 \nL 288.954609 238.744297 \nL 289.2233 260.30149 \nL 289.357645 245.286139 \nL 289.49199 248.154809 \nL 289.626336 233.011362 \nL 289.760681 244.010775 \nL 289.895026 239.559284 \nL 290.029371 259.805445 \nL 290.298062 242.853933 \nL 290.432407 252.81425 \nL 290.566752 254.495893 \nL 290.701098 240.795474 \nL 290.835443 241.98268 \nL 291.104133 275.251247 \nL 291.238479 248.768139 \nL 291.372824 263.46493 \nL 291.507169 237.986059 \nL 291.641514 260.640929 \nL 291.77586 260.77116 \nL 291.910205 241.715273 \nL 292.04455 251.330453 \nL 292.313241 236.174712 \nL 292.447586 259.659414 \nL 292.716276 248.061886 \nL 292.850622 249.2488 \nL 292.984967 266.04919 \nL 293.119312 248.125254 \nL 293.253657 254.499422 \nL 293.388003 218.889245 \nL 293.522348 246.175878 \nL 293.656693 241.708362 \nL 293.925384 259.596304 \nL 294.059729 243.29987 \nL 294.194074 251.045279 \nL 294.328419 247.604206 \nL 294.462765 251.461752 \nL 294.59711 241.658389 \nL 294.8658 260.839023 \nL 295.000146 240.611235 \nL 295.268836 263.410597 \nL 295.403181 229.348888 \nL 295.537527 254.542945 \nL 295.671872 255.111404 \nL 295.806217 262.711232 \nL 295.940562 219.09988 \nL 296.074908 227.410356 \nL 296.209253 242.910749 \nL 296.343598 241.561949 \nL 296.612289 277.092171 \nL 296.746634 228.142511 \nL 296.880979 266.707729 \nL 297.015324 246.364881 \nL 297.14967 253.851626 \nL 297.284015 248.128109 \nL 297.41836 256.015448 \nL 297.552705 274.006045 \nL 297.821396 226.506458 \nL 297.955741 275.013338 \nL 298.090086 234.89618 \nL 298.224431 269.14833 \nL 298.493122 249.737405 \nL 298.627467 246.953545 \nL 298.761812 238.214922 \nL 299.030503 267.034279 \nL 299.164848 242.226747 \nL 299.299193 256.335401 \nL 299.567884 233.609106 \nL 299.702229 266.147406 \nL 299.836574 237.397283 \nL 300.105265 252.820576 \nL 300.23961 247.378232 \nL 300.373955 229.365272 \nL 300.508301 258.128858 \nL 300.642646 232.65918 \nL 300.776991 261.388997 \nL 300.911336 251.91297 \nL 301.045682 234.087115 \nL 301.180027 267.292482 \nL 301.314372 231.49682 \nL 301.448717 253.739229 \nL 301.717408 236.557349 \nL 301.986098 270.38243 \nL 302.120444 238.240229 \nL 302.254789 236.940333 \nL 302.523479 273.320794 \nL 302.657825 237.082712 \nL 302.79217 264.510858 \nL 302.926515 246.066773 \nL 303.06086 248.104274 \nL 303.195206 235.039783 \nL 303.329551 265.154013 \nL 303.598241 204.339407 \nL 303.866932 242.030293 \nL 304.135622 265.435759 \nL 304.269968 261.455107 \nL 304.404313 251.605322 \nL 304.538658 267.963146 \nL 304.673003 260.898177 \nL 304.807349 238.377281 \nL 304.941694 261.563885 \nL 305.076039 256.150859 \nL 305.210384 260.360981 \nL 305.34473 239.31842 \nL 305.479075 246.685767 \nL 305.61342 241.571444 \nL 305.747765 270.399263 \nL 306.016456 250.873784 \nL 306.150801 272.487839 \nL 306.285146 231.627613 \nL 306.419492 250.877403 \nL 306.553837 241.441269 \nL 306.688182 253.633035 \nL 306.822527 233.179025 \nL 306.956873 256.055094 \nL 307.091218 241.562645 \nL 307.225563 245.907628 \nL 307.359908 234.763296 \nL 307.494254 264.971404 \nL 307.628599 254.177614 \nL 307.762944 275.796624 \nL 308.031635 237.561238 \nL 308.16598 280.219235 \nL 308.569016 235.350286 \nL 308.703361 253.136158 \nL 308.837706 242.920998 \nL 308.972051 253.372134 \nL 309.106397 241.402522 \nL 309.240742 248.594284 \nL 309.375087 269.539945 \nL 309.778123 250.486282 \nL 309.912468 261.54422 \nL 310.046813 258.859642 \nL 310.315504 246.324819 \nL 310.584194 239.722317 \nL 310.71854 246.031094 \nL 310.852885 243.543981 \nL 310.98723 251.321036 \nL 311.121575 229.153783 \nL 311.25592 251.725832 \nL 311.390266 255.042372 \nL 311.524611 239.143654 \nL 311.658956 261.336034 \nL 311.793301 250.059247 \nL 311.927647 222.162048 \nL 312.330682 271.834537 \nL 312.465028 242.471195 \nL 312.599373 240.184987 \nL 312.733718 267.180535 \nL 313.271099 229.825616 \nL 313.674135 258.23122 \nL 313.80848 228.040846 \nL 314.345861 268.791809 \nL 314.480206 244.832538 \nL 314.614552 246.103272 \nL 315.017587 267.719372 \nL 315.151933 258.669088 \nL 315.286278 241.624485 \nL 315.689314 281.76358 \nL 315.823659 248.265408 \nL 315.958004 250.138718 \nL 316.092349 258.484592 \nL 316.36104 255.451843 \nL 316.495385 258.589527 \nL 316.62973 218.532612 \nL 316.764076 218.329461 \nL 316.898421 255.314229 \nL 317.167111 263.403124 \nL 317.435802 249.222234 \nL 317.570147 265.098893 \nL 317.704492 244.517934 \nL 317.838838 253.315621 \nL 317.973183 273.281328 \nL 318.107528 260.552018 \nL 318.241873 268.090602 \nL 318.644909 242.076681 \nL 318.779254 252.029267 \nL 318.9136 224.450741 \nL 319.047945 272.169762 \nL 319.18229 269.175625 \nL 319.316635 253.366796 \nL 319.450981 253.193975 \nL 319.585326 260.240043 \nL 319.719671 242.094976 \nL 319.854016 266.031435 \nL 319.988362 242.856821 \nL 320.122707 240.064701 \nL 320.391397 255.682481 \nL 320.525743 269.331422 \nL 320.660088 252.970799 \nL 320.794433 254.732914 \nL 320.928778 221.587521 \nL 321.063124 264.976697 \nL 321.197469 267.679074 \nL 321.331814 265.618357 \nL 321.466159 244.235783 \nL 321.600505 256.655714 \nL 321.73485 251.534267 \nL 322.00354 237.838601 \nL 322.137886 259.03534 \nL 322.272231 243.43445 \nL 322.406576 247.840924 \nL 322.675267 268.497286 \nL 322.943957 228.522484 \nL 323.212648 256.457609 \nL 323.346993 254.820128 \nL 323.481338 250.475843 \nL 323.615683 232.871186 \nL 323.750029 231.630928 \nL 324.018719 263.239618 \nL 324.153064 270.839626 \nL 324.287409 242.047981 \nL 324.421755 252.887923 \nL 324.5561 237.775896 \nL 324.690445 271.49013 \nL 324.82479 251.10849 \nL 324.959136 255.131598 \nL 325.227826 231.325965 \nL 325.362171 281.028087 \nL 325.496517 245.551759 \nL 325.765207 263.210592 \nL 325.765207 263.210592 \n\" style=\"fill:none;stroke:#ff7f0e;stroke-linecap:square;stroke-width:1.5;\"/>\n   </g>\n   <g id=\"patch_3\">\n    <path d=\"M 43.78125 294.118125 \nL 43.78125 22.318125 \n\" style=\"fill:none;stroke:#000000;stroke-linecap:square;stroke-linejoin:miter;stroke-width:0.8;\"/>\n   </g>\n   <g id=\"patch_4\">\n    <path d=\"M 339.193015 294.118125 \nL 339.193015 22.318125 \n\" style=\"fill:none;stroke:#000000;stroke-linecap:square;stroke-linejoin:miter;stroke-width:0.8;\"/>\n   </g>\n   <g id=\"patch_5\">\n    <path d=\"M 43.78125 294.118125 \nL 339.193015 294.118125 \n\" style=\"fill:none;stroke:#000000;stroke-linecap:square;stroke-linejoin:miter;stroke-width:0.8;\"/>\n   </g>\n   <g id=\"patch_6\">\n    <path d=\"M 43.78125 22.318125 \nL 339.193015 22.318125 \n\" style=\"fill:none;stroke:#000000;stroke-linecap:square;stroke-linejoin:miter;stroke-width:0.8;\"/>\n   </g>\n   <g id=\"text_19\">\n    <!-- Model loss -->\n    <defs>\n     <path d=\"M 9.8125 72.90625 \nL 24.515625 72.90625 \nL 43.109375 23.296875 \nL 61.8125 72.90625 \nL 76.515625 72.90625 \nL 76.515625 0 \nL 66.890625 0 \nL 66.890625 64.015625 \nL 48.09375 14.015625 \nL 38.1875 14.015625 \nL 19.390625 64.015625 \nL 19.390625 0 \nL 9.8125 0 \nz\n\" id=\"DejaVuSans-77\"/>\n     <path d=\"M 45.40625 46.390625 \nL 45.40625 75.984375 \nL 54.390625 75.984375 \nL 54.390625 0 \nL 45.40625 0 \nL 45.40625 8.203125 \nQ 42.578125 3.328125 38.25 0.953125 \nQ 33.9375 -1.421875 27.875 -1.421875 \nQ 17.96875 -1.421875 11.734375 6.484375 \nQ 5.515625 14.40625 5.515625 27.296875 \nQ 5.515625 40.1875 11.734375 48.09375 \nQ 17.96875 56 27.875 56 \nQ 33.9375 56 38.25 53.625 \nQ 42.578125 51.265625 45.40625 46.390625 \nz\nM 14.796875 27.296875 \nQ 14.796875 17.390625 18.875 11.75 \nQ 22.953125 6.109375 30.078125 6.109375 \nQ 37.203125 6.109375 41.296875 11.75 \nQ 45.40625 17.390625 45.40625 27.296875 \nQ 45.40625 37.203125 41.296875 42.84375 \nQ 37.203125 48.484375 30.078125 48.484375 \nQ 22.953125 48.484375 18.875 42.84375 \nQ 14.796875 37.203125 14.796875 27.296875 \nz\n\" id=\"DejaVuSans-100\"/>\n     <path d=\"M 56.203125 29.59375 \nL 56.203125 25.203125 \nL 14.890625 25.203125 \nQ 15.484375 15.921875 20.484375 11.0625 \nQ 25.484375 6.203125 34.421875 6.203125 \nQ 39.59375 6.203125 44.453125 7.46875 \nQ 49.3125 8.734375 54.109375 11.28125 \nL 54.109375 2.78125 \nQ 49.265625 0.734375 44.1875 -0.34375 \nQ 39.109375 -1.421875 33.890625 -1.421875 \nQ 20.796875 -1.421875 13.15625 6.1875 \nQ 5.515625 13.8125 5.515625 26.8125 \nQ 5.515625 40.234375 12.765625 48.109375 \nQ 20.015625 56 32.328125 56 \nQ 43.359375 56 49.78125 48.890625 \nQ 56.203125 41.796875 56.203125 29.59375 \nz\nM 47.21875 32.234375 \nQ 47.125 39.59375 43.09375 43.984375 \nQ 39.0625 48.390625 32.421875 48.390625 \nQ 24.90625 48.390625 20.390625 44.140625 \nQ 15.875 39.890625 15.1875 32.171875 \nz\n\" id=\"DejaVuSans-101\"/>\n     <path d=\"M 9.421875 75.984375 \nL 18.40625 75.984375 \nL 18.40625 0 \nL 9.421875 0 \nz\n\" id=\"DejaVuSans-108\"/>\n     <path id=\"DejaVuSans-32\"/>\n    </defs>\n    <g transform=\"translate(159.974945 16.318125)scale(0.12 -0.12)\">\n     <use xlink:href=\"#DejaVuSans-77\"/>\n     <use x=\"86.279297\" xlink:href=\"#DejaVuSans-111\"/>\n     <use x=\"147.460938\" xlink:href=\"#DejaVuSans-100\"/>\n     <use x=\"210.9375\" xlink:href=\"#DejaVuSans-101\"/>\n     <use x=\"272.460938\" xlink:href=\"#DejaVuSans-108\"/>\n     <use x=\"300.244141\" xlink:href=\"#DejaVuSans-32\"/>\n     <use x=\"332.03125\" xlink:href=\"#DejaVuSans-108\"/>\n     <use x=\"359.814453\" xlink:href=\"#DejaVuSans-111\"/>\n     <use x=\"420.996094\" xlink:href=\"#DejaVuSans-115\"/>\n     <use x=\"473.095703\" xlink:href=\"#DejaVuSans-115\"/>\n    </g>\n   </g>\n   <g id=\"legend_1\">\n    <g id=\"patch_7\">\n     <path d=\"M 242.099265 59.674375 \nL 332.193015 59.674375 \nQ 334.193015 59.674375 334.193015 57.674375 \nL 334.193015 29.318125 \nQ 334.193015 27.318125 332.193015 27.318125 \nL 242.099265 27.318125 \nQ 240.099265 27.318125 240.099265 29.318125 \nL 240.099265 57.674375 \nQ 240.099265 59.674375 242.099265 59.674375 \nz\n\" style=\"fill:#ffffff;opacity:0.8;stroke:#cccccc;stroke-linejoin:miter;\"/>\n    </g>\n    <g id=\"line2d_19\">\n     <path d=\"M 244.099265 35.416562 \nL 264.099265 35.416562 \n\" style=\"fill:none;stroke:#1f77b4;stroke-linecap:square;stroke-width:1.5;\"/>\n    </g>\n    <g id=\"line2d_20\"/>\n    <g id=\"text_20\">\n     <!-- Discrimator -->\n     <defs>\n      <path d=\"M 19.671875 64.796875 \nL 19.671875 8.109375 \nL 31.59375 8.109375 \nQ 46.6875 8.109375 53.6875 14.9375 \nQ 60.6875 21.78125 60.6875 36.53125 \nQ 60.6875 51.171875 53.6875 57.984375 \nQ 46.6875 64.796875 31.59375 64.796875 \nz\nM 9.8125 72.90625 \nL 30.078125 72.90625 \nQ 51.265625 72.90625 61.171875 64.09375 \nQ 71.09375 55.28125 71.09375 36.53125 \nQ 71.09375 17.671875 61.125 8.828125 \nQ 51.171875 0 30.078125 0 \nL 9.8125 0 \nz\n\" id=\"DejaVuSans-68\"/>\n      <path d=\"M 9.421875 54.6875 \nL 18.40625 54.6875 \nL 18.40625 0 \nL 9.421875 0 \nz\nM 9.421875 75.984375 \nL 18.40625 75.984375 \nL 18.40625 64.59375 \nL 9.421875 64.59375 \nz\n\" id=\"DejaVuSans-105\"/>\n      <path d=\"M 41.109375 46.296875 \nQ 39.59375 47.171875 37.8125 47.578125 \nQ 36.03125 48 33.890625 48 \nQ 26.265625 48 22.1875 43.046875 \nQ 18.109375 38.09375 18.109375 28.8125 \nL 18.109375 0 \nL 9.078125 0 \nL 9.078125 54.6875 \nL 18.109375 54.6875 \nL 18.109375 46.1875 \nQ 20.953125 51.171875 25.484375 53.578125 \nQ 30.03125 56 36.53125 56 \nQ 37.453125 56 38.578125 55.875 \nQ 39.703125 55.765625 41.0625 55.515625 \nz\n\" id=\"DejaVuSans-114\"/>\n      <path d=\"M 52 44.1875 \nQ 55.375 50.25 60.0625 53.125 \nQ 64.75 56 71.09375 56 \nQ 79.640625 56 84.28125 50.015625 \nQ 88.921875 44.046875 88.921875 33.015625 \nL 88.921875 0 \nL 79.890625 0 \nL 79.890625 32.71875 \nQ 79.890625 40.578125 77.09375 44.375 \nQ 74.3125 48.1875 68.609375 48.1875 \nQ 61.625 48.1875 57.5625 43.546875 \nQ 53.515625 38.921875 53.515625 30.90625 \nL 53.515625 0 \nL 44.484375 0 \nL 44.484375 32.71875 \nQ 44.484375 40.625 41.703125 44.40625 \nQ 38.921875 48.1875 33.109375 48.1875 \nQ 26.21875 48.1875 22.15625 43.53125 \nQ 18.109375 38.875 18.109375 30.90625 \nL 18.109375 0 \nL 9.078125 0 \nL 9.078125 54.6875 \nL 18.109375 54.6875 \nL 18.109375 46.1875 \nQ 21.1875 51.21875 25.484375 53.609375 \nQ 29.78125 56 35.6875 56 \nQ 41.65625 56 45.828125 52.96875 \nQ 50 49.953125 52 44.1875 \nz\n\" id=\"DejaVuSans-109\"/>\n      <path d=\"M 34.28125 27.484375 \nQ 23.390625 27.484375 19.1875 25 \nQ 14.984375 22.515625 14.984375 16.5 \nQ 14.984375 11.71875 18.140625 8.90625 \nQ 21.296875 6.109375 26.703125 6.109375 \nQ 34.1875 6.109375 38.703125 11.40625 \nQ 43.21875 16.703125 43.21875 25.484375 \nL 43.21875 27.484375 \nz\nM 52.203125 31.203125 \nL 52.203125 0 \nL 43.21875 0 \nL 43.21875 8.296875 \nQ 40.140625 3.328125 35.546875 0.953125 \nQ 30.953125 -1.421875 24.3125 -1.421875 \nQ 15.921875 -1.421875 10.953125 3.296875 \nQ 6 8.015625 6 15.921875 \nQ 6 25.140625 12.171875 29.828125 \nQ 18.359375 34.515625 30.609375 34.515625 \nL 43.21875 34.515625 \nL 43.21875 35.40625 \nQ 43.21875 41.609375 39.140625 45 \nQ 35.0625 48.390625 27.6875 48.390625 \nQ 23 48.390625 18.546875 47.265625 \nQ 14.109375 46.140625 10.015625 43.890625 \nL 10.015625 52.203125 \nQ 14.9375 54.109375 19.578125 55.046875 \nQ 24.21875 56 28.609375 56 \nQ 40.484375 56 46.34375 49.84375 \nQ 52.203125 43.703125 52.203125 31.203125 \nz\n\" id=\"DejaVuSans-97\"/>\n      <path d=\"M 18.3125 70.21875 \nL 18.3125 54.6875 \nL 36.8125 54.6875 \nL 36.8125 47.703125 \nL 18.3125 47.703125 \nL 18.3125 18.015625 \nQ 18.3125 11.328125 20.140625 9.421875 \nQ 21.96875 7.515625 27.59375 7.515625 \nL 36.8125 7.515625 \nL 36.8125 0 \nL 27.59375 0 \nQ 17.1875 0 13.234375 3.875 \nQ 9.28125 7.765625 9.28125 18.015625 \nL 9.28125 47.703125 \nL 2.6875 47.703125 \nL 2.6875 54.6875 \nL 9.28125 54.6875 \nL 9.28125 70.21875 \nz\n\" id=\"DejaVuSans-116\"/>\n     </defs>\n     <g transform=\"translate(272.099265 38.916562)scale(0.1 -0.1)\">\n      <use xlink:href=\"#DejaVuSans-68\"/>\n      <use x=\"77.001953\" xlink:href=\"#DejaVuSans-105\"/>\n      <use x=\"104.785156\" xlink:href=\"#DejaVuSans-115\"/>\n      <use x=\"156.884766\" xlink:href=\"#DejaVuSans-99\"/>\n      <use x=\"211.865234\" xlink:href=\"#DejaVuSans-114\"/>\n      <use x=\"252.978516\" xlink:href=\"#DejaVuSans-105\"/>\n      <use x=\"280.761719\" xlink:href=\"#DejaVuSans-109\"/>\n      <use x=\"378.173828\" xlink:href=\"#DejaVuSans-97\"/>\n      <use x=\"439.453125\" xlink:href=\"#DejaVuSans-116\"/>\n      <use x=\"478.662109\" xlink:href=\"#DejaVuSans-111\"/>\n      <use x=\"539.84375\" xlink:href=\"#DejaVuSans-114\"/>\n     </g>\n    </g>\n    <g id=\"line2d_21\">\n     <path d=\"M 244.099265 50.094688 \nL 264.099265 50.094688 \n\" style=\"fill:none;stroke:#ff7f0e;stroke-linecap:square;stroke-width:1.5;\"/>\n    </g>\n    <g id=\"line2d_22\"/>\n    <g id=\"text_21\">\n     <!-- Generator -->\n     <defs>\n      <path d=\"M 59.515625 10.40625 \nL 59.515625 29.984375 \nL 43.40625 29.984375 \nL 43.40625 38.09375 \nL 69.28125 38.09375 \nL 69.28125 6.78125 \nQ 63.578125 2.734375 56.6875 0.65625 \nQ 49.8125 -1.421875 42 -1.421875 \nQ 24.90625 -1.421875 15.25 8.5625 \nQ 5.609375 18.5625 5.609375 36.375 \nQ 5.609375 54.25 15.25 64.234375 \nQ 24.90625 74.21875 42 74.21875 \nQ 49.125 74.21875 55.546875 72.453125 \nQ 61.96875 70.703125 67.390625 67.28125 \nL 67.390625 56.78125 \nQ 61.921875 61.421875 55.765625 63.765625 \nQ 49.609375 66.109375 42.828125 66.109375 \nQ 29.4375 66.109375 22.71875 58.640625 \nQ 16.015625 51.171875 16.015625 36.375 \nQ 16.015625 21.625 22.71875 14.15625 \nQ 29.4375 6.6875 42.828125 6.6875 \nQ 48.046875 6.6875 52.140625 7.59375 \nQ 56.25 8.5 59.515625 10.40625 \nz\n\" id=\"DejaVuSans-71\"/>\n      <path d=\"M 54.890625 33.015625 \nL 54.890625 0 \nL 45.90625 0 \nL 45.90625 32.71875 \nQ 45.90625 40.484375 42.875 44.328125 \nQ 39.84375 48.1875 33.796875 48.1875 \nQ 26.515625 48.1875 22.3125 43.546875 \nQ 18.109375 38.921875 18.109375 30.90625 \nL 18.109375 0 \nL 9.078125 0 \nL 9.078125 54.6875 \nL 18.109375 54.6875 \nL 18.109375 46.1875 \nQ 21.34375 51.125 25.703125 53.5625 \nQ 30.078125 56 35.796875 56 \nQ 45.21875 56 50.046875 50.171875 \nQ 54.890625 44.34375 54.890625 33.015625 \nz\n\" id=\"DejaVuSans-110\"/>\n     </defs>\n     <g transform=\"translate(272.099265 53.594688)scale(0.1 -0.1)\">\n      <use xlink:href=\"#DejaVuSans-71\"/>\n      <use x=\"77.490234\" xlink:href=\"#DejaVuSans-101\"/>\n      <use x=\"139.013672\" xlink:href=\"#DejaVuSans-110\"/>\n      <use x=\"202.392578\" xlink:href=\"#DejaVuSans-101\"/>\n      <use x=\"263.916016\" xlink:href=\"#DejaVuSans-114\"/>\n      <use x=\"305.029297\" xlink:href=\"#DejaVuSans-97\"/>\n      <use x=\"366.308594\" xlink:href=\"#DejaVuSans-116\"/>\n      <use x=\"405.517578\" xlink:href=\"#DejaVuSans-111\"/>\n      <use x=\"466.699219\" xlink:href=\"#DejaVuSans-114\"/>\n     </g>\n    </g>\n   </g>\n  </g>\n  <g id=\"axes_2\">\n   <g id=\"patch_8\">\n    <path d=\"M 398.275368 294.118125 \nL 693.687132 294.118125 \nL 693.687132 22.318125 \nL 398.275368 22.318125 \nz\n\" style=\"fill:#ffffff;\"/>\n   </g>\n   <g id=\"matplotlib.axis_3\">\n    <g id=\"xtick_10\">\n     <g id=\"line2d_23\">\n      <g>\n       <use style=\"stroke:#000000;stroke-width:0.8;\" x=\"410.53187\" xlink:href=\"#m5da3984d9f\" y=\"294.118125\"/>\n      </g>\n     </g>\n     <g id=\"text_22\">\n      <!-- 0.8 -->\n      <g transform=\"translate(402.580308 308.716563)scale(0.1 -0.1)\">\n       <use xlink:href=\"#DejaVuSans-48\"/>\n       <use x=\"63.623047\" xlink:href=\"#DejaVuSans-46\"/>\n       <use x=\"95.410156\" xlink:href=\"#DejaVuSans-56\"/>\n      </g>\n     </g>\n    </g>\n    <g id=\"xtick_11\">\n     <g id=\"line2d_24\">\n      <g>\n       <use style=\"stroke:#000000;stroke-width:0.8;\" x=\"447.001927\" xlink:href=\"#m5da3984d9f\" y=\"294.118125\"/>\n      </g>\n     </g>\n     <g id=\"text_23\">\n      <!-- 0.9 -->\n      <defs>\n       <path d=\"M 10.984375 1.515625 \nL 10.984375 10.5 \nQ 14.703125 8.734375 18.5 7.8125 \nQ 22.3125 6.890625 25.984375 6.890625 \nQ 35.75 6.890625 40.890625 13.453125 \nQ 46.046875 20.015625 46.78125 33.40625 \nQ 43.953125 29.203125 39.59375 26.953125 \nQ 35.25 24.703125 29.984375 24.703125 \nQ 19.046875 24.703125 12.671875 31.3125 \nQ 6.296875 37.9375 6.296875 49.421875 \nQ 6.296875 60.640625 12.9375 67.421875 \nQ 19.578125 74.21875 30.609375 74.21875 \nQ 43.265625 74.21875 49.921875 64.515625 \nQ 56.59375 54.828125 56.59375 36.375 \nQ 56.59375 19.140625 48.40625 8.859375 \nQ 40.234375 -1.421875 26.421875 -1.421875 \nQ 22.703125 -1.421875 18.890625 -0.6875 \nQ 15.09375 0.046875 10.984375 1.515625 \nz\nM 30.609375 32.421875 \nQ 37.25 32.421875 41.125 36.953125 \nQ 45.015625 41.5 45.015625 49.421875 \nQ 45.015625 57.28125 41.125 61.84375 \nQ 37.25 66.40625 30.609375 66.40625 \nQ 23.96875 66.40625 20.09375 61.84375 \nQ 16.21875 57.28125 16.21875 49.421875 \nQ 16.21875 41.5 20.09375 36.953125 \nQ 23.96875 32.421875 30.609375 32.421875 \nz\n\" id=\"DejaVuSans-57\"/>\n      </defs>\n      <g transform=\"translate(439.050364 308.716563)scale(0.1 -0.1)\">\n       <use xlink:href=\"#DejaVuSans-48\"/>\n       <use x=\"63.623047\" xlink:href=\"#DejaVuSans-46\"/>\n       <use x=\"95.410156\" xlink:href=\"#DejaVuSans-57\"/>\n      </g>\n     </g>\n    </g>\n    <g id=\"xtick_12\">\n     <g id=\"line2d_25\">\n      <g>\n       <use style=\"stroke:#000000;stroke-width:0.8;\" x=\"483.471983\" xlink:href=\"#m5da3984d9f\" y=\"294.118125\"/>\n      </g>\n     </g>\n     <g id=\"text_24\">\n      <!-- 1.0 -->\n      <g transform=\"translate(475.52042 308.716563)scale(0.1 -0.1)\">\n       <use xlink:href=\"#DejaVuSans-49\"/>\n       <use x=\"63.623047\" xlink:href=\"#DejaVuSans-46\"/>\n       <use x=\"95.410156\" xlink:href=\"#DejaVuSans-48\"/>\n      </g>\n     </g>\n    </g>\n    <g id=\"xtick_13\">\n     <g id=\"line2d_26\">\n      <g>\n       <use style=\"stroke:#000000;stroke-width:0.8;\" x=\"519.942039\" xlink:href=\"#m5da3984d9f\" y=\"294.118125\"/>\n      </g>\n     </g>\n     <g id=\"text_25\">\n      <!-- 1.1 -->\n      <g transform=\"translate(511.990477 308.716563)scale(0.1 -0.1)\">\n       <use xlink:href=\"#DejaVuSans-49\"/>\n       <use x=\"63.623047\" xlink:href=\"#DejaVuSans-46\"/>\n       <use x=\"95.410156\" xlink:href=\"#DejaVuSans-49\"/>\n      </g>\n     </g>\n    </g>\n    <g id=\"xtick_14\">\n     <g id=\"line2d_27\">\n      <g>\n       <use style=\"stroke:#000000;stroke-width:0.8;\" x=\"556.412095\" xlink:href=\"#m5da3984d9f\" y=\"294.118125\"/>\n      </g>\n     </g>\n     <g id=\"text_26\">\n      <!-- 1.2 -->\n      <g transform=\"translate(548.460533 308.716563)scale(0.1 -0.1)\">\n       <use xlink:href=\"#DejaVuSans-49\"/>\n       <use x=\"63.623047\" xlink:href=\"#DejaVuSans-46\"/>\n       <use x=\"95.410156\" xlink:href=\"#DejaVuSans-50\"/>\n      </g>\n     </g>\n    </g>\n    <g id=\"xtick_15\">\n     <g id=\"line2d_28\">\n      <g>\n       <use style=\"stroke:#000000;stroke-width:0.8;\" x=\"592.882151\" xlink:href=\"#m5da3984d9f\" y=\"294.118125\"/>\n      </g>\n     </g>\n     <g id=\"text_27\">\n      <!-- 1.3 -->\n      <defs>\n       <path d=\"M 40.578125 39.3125 \nQ 47.65625 37.796875 51.625 33 \nQ 55.609375 28.21875 55.609375 21.1875 \nQ 55.609375 10.40625 48.1875 4.484375 \nQ 40.765625 -1.421875 27.09375 -1.421875 \nQ 22.515625 -1.421875 17.65625 -0.515625 \nQ 12.796875 0.390625 7.625 2.203125 \nL 7.625 11.71875 \nQ 11.71875 9.328125 16.59375 8.109375 \nQ 21.484375 6.890625 26.8125 6.890625 \nQ 36.078125 6.890625 40.9375 10.546875 \nQ 45.796875 14.203125 45.796875 21.1875 \nQ 45.796875 27.640625 41.28125 31.265625 \nQ 36.765625 34.90625 28.71875 34.90625 \nL 20.21875 34.90625 \nL 20.21875 43.015625 \nL 29.109375 43.015625 \nQ 36.375 43.015625 40.234375 45.921875 \nQ 44.09375 48.828125 44.09375 54.296875 \nQ 44.09375 59.90625 40.109375 62.90625 \nQ 36.140625 65.921875 28.71875 65.921875 \nQ 24.65625 65.921875 20.015625 65.03125 \nQ 15.375 64.15625 9.8125 62.3125 \nL 9.8125 71.09375 \nQ 15.4375 72.65625 20.34375 73.4375 \nQ 25.25 74.21875 29.59375 74.21875 \nQ 40.828125 74.21875 47.359375 69.109375 \nQ 53.90625 64.015625 53.90625 55.328125 \nQ 53.90625 49.265625 50.4375 45.09375 \nQ 46.96875 40.921875 40.578125 39.3125 \nz\n\" id=\"DejaVuSans-51\"/>\n      </defs>\n      <g transform=\"translate(584.930589 308.716563)scale(0.1 -0.1)\">\n       <use xlink:href=\"#DejaVuSans-49\"/>\n       <use x=\"63.623047\" xlink:href=\"#DejaVuSans-46\"/>\n       <use x=\"95.410156\" xlink:href=\"#DejaVuSans-51\"/>\n      </g>\n     </g>\n    </g>\n    <g id=\"xtick_16\">\n     <g id=\"line2d_29\">\n      <g>\n       <use style=\"stroke:#000000;stroke-width:0.8;\" x=\"629.352208\" xlink:href=\"#m5da3984d9f\" y=\"294.118125\"/>\n      </g>\n     </g>\n     <g id=\"text_28\">\n      <!-- 1.4 -->\n      <g transform=\"translate(621.400645 308.716563)scale(0.1 -0.1)\">\n       <use xlink:href=\"#DejaVuSans-49\"/>\n       <use x=\"63.623047\" xlink:href=\"#DejaVuSans-46\"/>\n       <use x=\"95.410156\" xlink:href=\"#DejaVuSans-52\"/>\n      </g>\n     </g>\n    </g>\n    <g id=\"xtick_17\">\n     <g id=\"line2d_30\">\n      <g>\n       <use style=\"stroke:#000000;stroke-width:0.8;\" x=\"665.822264\" xlink:href=\"#m5da3984d9f\" y=\"294.118125\"/>\n      </g>\n     </g>\n     <g id=\"text_29\">\n      <!-- 1.5 -->\n      <g transform=\"translate(657.870701 308.716563)scale(0.1 -0.1)\">\n       <use xlink:href=\"#DejaVuSans-49\"/>\n       <use x=\"63.623047\" xlink:href=\"#DejaVuSans-46\"/>\n       <use x=\"95.410156\" xlink:href=\"#DejaVuSans-53\"/>\n      </g>\n     </g>\n    </g>\n    <g id=\"text_30\">\n     <!-- Discriminator loss -->\n     <g transform=\"translate(501.129688 322.394687)scale(0.1 -0.1)\">\n      <use xlink:href=\"#DejaVuSans-68\"/>\n      <use x=\"77.001953\" xlink:href=\"#DejaVuSans-105\"/>\n      <use x=\"104.785156\" xlink:href=\"#DejaVuSans-115\"/>\n      <use x=\"156.884766\" xlink:href=\"#DejaVuSans-99\"/>\n      <use x=\"211.865234\" xlink:href=\"#DejaVuSans-114\"/>\n      <use x=\"252.978516\" xlink:href=\"#DejaVuSans-105\"/>\n      <use x=\"280.761719\" xlink:href=\"#DejaVuSans-109\"/>\n      <use x=\"378.173828\" xlink:href=\"#DejaVuSans-105\"/>\n      <use x=\"405.957031\" xlink:href=\"#DejaVuSans-110\"/>\n      <use x=\"469.335938\" xlink:href=\"#DejaVuSans-97\"/>\n      <use x=\"530.615234\" xlink:href=\"#DejaVuSans-116\"/>\n      <use x=\"569.824219\" xlink:href=\"#DejaVuSans-111\"/>\n      <use x=\"631.005859\" xlink:href=\"#DejaVuSans-114\"/>\n      <use x=\"672.119141\" xlink:href=\"#DejaVuSans-32\"/>\n      <use x=\"703.90625\" xlink:href=\"#DejaVuSans-108\"/>\n      <use x=\"731.689453\" xlink:href=\"#DejaVuSans-111\"/>\n      <use x=\"792.871094\" xlink:href=\"#DejaVuSans-115\"/>\n      <use x=\"844.970703\" xlink:href=\"#DejaVuSans-115\"/>\n     </g>\n    </g>\n   </g>\n   <g id=\"matplotlib.axis_4\">\n    <g id=\"ytick_8\">\n     <g id=\"line2d_31\">\n      <g>\n       <use style=\"stroke:#000000;stroke-width:0.8;\" x=\"398.275368\" xlink:href=\"#m1adf709e0c\" y=\"263.536255\"/>\n      </g>\n     </g>\n     <g id=\"text_31\">\n      <!-- 0.8 -->\n      <g transform=\"translate(375.372243 267.335474)scale(0.1 -0.1)\">\n       <use xlink:href=\"#DejaVuSans-48\"/>\n       <use x=\"63.623047\" xlink:href=\"#DejaVuSans-46\"/>\n       <use x=\"95.410156\" xlink:href=\"#DejaVuSans-56\"/>\n      </g>\n     </g>\n    </g>\n    <g id=\"ytick_9\">\n     <g id=\"line2d_32\">\n      <g>\n       <use style=\"stroke:#000000;stroke-width:0.8;\" x=\"398.275368\" xlink:href=\"#m1adf709e0c\" y=\"218.398863\"/>\n      </g>\n     </g>\n     <g id=\"text_32\">\n      <!-- 1.0 -->\n      <g transform=\"translate(375.372243 222.198082)scale(0.1 -0.1)\">\n       <use xlink:href=\"#DejaVuSans-49\"/>\n       <use x=\"63.623047\" xlink:href=\"#DejaVuSans-46\"/>\n       <use x=\"95.410156\" xlink:href=\"#DejaVuSans-48\"/>\n      </g>\n     </g>\n    </g>\n    <g id=\"ytick_10\">\n     <g id=\"line2d_33\">\n      <g>\n       <use style=\"stroke:#000000;stroke-width:0.8;\" x=\"398.275368\" xlink:href=\"#m1adf709e0c\" y=\"173.261471\"/>\n      </g>\n     </g>\n     <g id=\"text_33\">\n      <!-- 1.2 -->\n      <g transform=\"translate(375.372243 177.060689)scale(0.1 -0.1)\">\n       <use xlink:href=\"#DejaVuSans-49\"/>\n       <use x=\"63.623047\" xlink:href=\"#DejaVuSans-46\"/>\n       <use x=\"95.410156\" xlink:href=\"#DejaVuSans-50\"/>\n      </g>\n     </g>\n    </g>\n    <g id=\"ytick_11\">\n     <g id=\"line2d_34\">\n      <g>\n       <use style=\"stroke:#000000;stroke-width:0.8;\" x=\"398.275368\" xlink:href=\"#m1adf709e0c\" y=\"128.124078\"/>\n      </g>\n     </g>\n     <g id=\"text_34\">\n      <!-- 1.4 -->\n      <g transform=\"translate(375.372243 131.923297)scale(0.1 -0.1)\">\n       <use xlink:href=\"#DejaVuSans-49\"/>\n       <use x=\"63.623047\" xlink:href=\"#DejaVuSans-46\"/>\n       <use x=\"95.410156\" xlink:href=\"#DejaVuSans-52\"/>\n      </g>\n     </g>\n    </g>\n    <g id=\"ytick_12\">\n     <g id=\"line2d_35\">\n      <g>\n       <use style=\"stroke:#000000;stroke-width:0.8;\" x=\"398.275368\" xlink:href=\"#m1adf709e0c\" y=\"82.986686\"/>\n      </g>\n     </g>\n     <g id=\"text_35\">\n      <!-- 1.6 -->\n      <g transform=\"translate(375.372243 86.785905)scale(0.1 -0.1)\">\n       <use xlink:href=\"#DejaVuSans-49\"/>\n       <use x=\"63.623047\" xlink:href=\"#DejaVuSans-46\"/>\n       <use x=\"95.410156\" xlink:href=\"#DejaVuSans-54\"/>\n      </g>\n     </g>\n    </g>\n    <g id=\"ytick_13\">\n     <g id=\"line2d_36\">\n      <g>\n       <use style=\"stroke:#000000;stroke-width:0.8;\" x=\"398.275368\" xlink:href=\"#m1adf709e0c\" y=\"37.849294\"/>\n      </g>\n     </g>\n     <g id=\"text_36\">\n      <!-- 1.8 -->\n      <g transform=\"translate(375.372243 41.648512)scale(0.1 -0.1)\">\n       <use xlink:href=\"#DejaVuSans-49\"/>\n       <use x=\"63.623047\" xlink:href=\"#DejaVuSans-46\"/>\n       <use x=\"95.410156\" xlink:href=\"#DejaVuSans-56\"/>\n      </g>\n     </g>\n    </g>\n    <g id=\"text_37\">\n     <!-- Generator loss -->\n     <g transform=\"translate(369.292555 194.855625)rotate(-90)scale(0.1 -0.1)\">\n      <use xlink:href=\"#DejaVuSans-71\"/>\n      <use x=\"77.490234\" xlink:href=\"#DejaVuSans-101\"/>\n      <use x=\"139.013672\" xlink:href=\"#DejaVuSans-110\"/>\n      <use x=\"202.392578\" xlink:href=\"#DejaVuSans-101\"/>\n      <use x=\"263.916016\" xlink:href=\"#DejaVuSans-114\"/>\n      <use x=\"305.029297\" xlink:href=\"#DejaVuSans-97\"/>\n      <use x=\"366.308594\" xlink:href=\"#DejaVuSans-116\"/>\n      <use x=\"405.517578\" xlink:href=\"#DejaVuSans-111\"/>\n      <use x=\"466.699219\" xlink:href=\"#DejaVuSans-114\"/>\n      <use x=\"507.8125\" xlink:href=\"#DejaVuSans-32\"/>\n      <use x=\"539.599609\" xlink:href=\"#DejaVuSans-108\"/>\n      <use x=\"567.382812\" xlink:href=\"#DejaVuSans-111\"/>\n      <use x=\"628.564453\" xlink:href=\"#DejaVuSans-115\"/>\n      <use x=\"680.664062\" xlink:href=\"#DejaVuSans-115\"/>\n     </g>\n    </g>\n   </g>\n   <g id=\"line2d_37\">\n    <defs>\n     <path d=\"M 0 1.5 \nC 0.397805 1.5 0.77937 1.341951 1.06066 1.06066 \nC 1.341951 0.77937 1.5 0.397805 1.5 0 \nC 1.5 -0.397805 1.341951 -0.77937 1.06066 -1.06066 \nC 0.77937 -1.341951 0.397805 -1.5 0 -1.5 \nC -0.397805 -1.5 -0.77937 -1.341951 -1.06066 -1.06066 \nC -1.341951 -0.77937 -1.5 -0.397805 -1.5 0 \nC -1.5 0.397805 -1.341951 0.77937 -1.06066 1.06066 \nC -0.77937 1.341951 -0.397805 1.5 0 1.5 \nz\n\" id=\"mefca631c5e\" style=\"stroke:#000000;stroke-opacity:0.1;\"/>\n    </defs>\n    <g clip-path=\"url(#p4efae4b83c)\">\n     <use style=\"fill-opacity:0.1;stroke:#000000;stroke-opacity:0.1;\" x=\"472.894998\" xlink:href=\"#mefca631c5e\" y=\"34.67267\"/>\n     <use style=\"fill-opacity:0.1;stroke:#000000;stroke-opacity:0.1;\" x=\"473.792271\" xlink:href=\"#mefca631c5e\" y=\"131.184277\"/>\n     <use style=\"fill-opacity:0.1;stroke:#000000;stroke-opacity:0.1;\" x=\"525.374727\" xlink:href=\"#mefca631c5e\" y=\"131.589182\"/>\n     <use style=\"fill-opacity:0.1;stroke:#000000;stroke-opacity:0.1;\" x=\"422.790629\" xlink:href=\"#mefca631c5e\" y=\"145.779741\"/>\n     <use style=\"fill-opacity:0.1;stroke:#000000;stroke-opacity:0.1;\" x=\"498.886725\" xlink:href=\"#mefca631c5e\" y=\"145.498057\"/>\n     <use style=\"fill-opacity:0.1;stroke:#000000;stroke-opacity:0.1;\" x=\"477.163964\" xlink:href=\"#mefca631c5e\" y=\"117.916417\"/>\n     <use style=\"fill-opacity:0.1;stroke:#000000;stroke-opacity:0.1;\" x=\"553.546543\" xlink:href=\"#mefca631c5e\" y=\"113.668655\"/>\n     <use style=\"fill-opacity:0.1;stroke:#000000;stroke-opacity:0.1;\" x=\"539.503937\" xlink:href=\"#mefca631c5e\" y=\"125.594195\"/>\n     <use style=\"fill-opacity:0.1;stroke:#000000;stroke-opacity:0.1;\" x=\"411.703175\" xlink:href=\"#mefca631c5e\" y=\"164.865991\"/>\n     <use style=\"fill-opacity:0.1;stroke:#000000;stroke-opacity:0.1;\" x=\"518.309405\" xlink:href=\"#mefca631c5e\" y=\"48.002733\"/>\n     <use style=\"fill-opacity:0.1;stroke:#000000;stroke-opacity:0.1;\" x=\"558.092883\" xlink:href=\"#mefca631c5e\" y=\"72.263264\"/>\n     <use style=\"fill-opacity:0.1;stroke:#000000;stroke-opacity:0.1;\" x=\"455.186783\" xlink:href=\"#mefca631c5e\" y=\"103.269405\"/>\n     <use style=\"fill-opacity:0.1;stroke:#000000;stroke-opacity:0.1;\" x=\"483.395966\" xlink:href=\"#mefca631c5e\" y=\"159.700292\"/>\n     <use style=\"fill-opacity:0.1;stroke:#000000;stroke-opacity:0.1;\" x=\"506.539752\" xlink:href=\"#mefca631c5e\" y=\"119.854714\"/>\n     <use style=\"fill-opacity:0.1;stroke:#000000;stroke-opacity:0.1;\" x=\"489.817869\" xlink:href=\"#mefca631c5e\" y=\"183.113375\"/>\n     <use style=\"fill-opacity:0.1;stroke:#000000;stroke-opacity:0.1;\" x=\"571.036989\" xlink:href=\"#mefca631c5e\" y=\"150.867553\"/>\n     <use style=\"fill-opacity:0.1;stroke:#000000;stroke-opacity:0.1;\" x=\"519.791404\" xlink:href=\"#mefca631c5e\" y=\"165.819307\"/>\n     <use style=\"fill-opacity:0.1;stroke:#000000;stroke-opacity:0.1;\" x=\"478.017892\" xlink:href=\"#mefca631c5e\" y=\"132.783665\"/>\n     <use style=\"fill-opacity:0.1;stroke:#000000;stroke-opacity:0.1;\" x=\"453.768301\" xlink:href=\"#mefca631c5e\" y=\"127.404967\"/>\n     <use style=\"fill-opacity:0.1;stroke:#000000;stroke-opacity:0.1;\" x=\"506.81317\" xlink:href=\"#mefca631c5e\" y=\"169.770238\"/>\n     <use style=\"fill-opacity:0.1;stroke:#000000;stroke-opacity:0.1;\" x=\"473.723732\" xlink:href=\"#mefca631c5e\" y=\"91.759128\"/>\n     <use style=\"fill-opacity:0.1;stroke:#000000;stroke-opacity:0.1;\" x=\"471.577576\" xlink:href=\"#mefca631c5e\" y=\"84.053827\"/>\n     <use style=\"fill-opacity:0.1;stroke:#000000;stroke-opacity:0.1;\" x=\"523.162249\" xlink:href=\"#mefca631c5e\" y=\"70.060205\"/>\n     <use style=\"fill-opacity:0.1;stroke:#000000;stroke-opacity:0.1;\" x=\"519.553375\" xlink:href=\"#mefca631c5e\" y=\"137.432835\"/>\n     <use style=\"fill-opacity:0.1;stroke:#000000;stroke-opacity:0.1;\" x=\"505.280826\" xlink:href=\"#mefca631c5e\" y=\"125.616875\"/>\n     <use style=\"fill-opacity:0.1;stroke:#000000;stroke-opacity:0.1;\" x=\"523.015127\" xlink:href=\"#mefca631c5e\" y=\"154.046367\"/>\n     <use style=\"fill-opacity:0.1;stroke:#000000;stroke-opacity:0.1;\" x=\"557.803074\" xlink:href=\"#mefca631c5e\" y=\"171.16338\"/>\n     <use style=\"fill-opacity:0.1;stroke:#000000;stroke-opacity:0.1;\" x=\"495.930552\" xlink:href=\"#mefca631c5e\" y=\"224.600204\"/>\n     <use style=\"fill-opacity:0.1;stroke:#000000;stroke-opacity:0.1;\" x=\"514.383463\" xlink:href=\"#mefca631c5e\" y=\"184.673806\"/>\n     <use style=\"fill-opacity:0.1;stroke:#000000;stroke-opacity:0.1;\" x=\"498.886508\" xlink:href=\"#mefca631c5e\" y=\"120.917045\"/>\n     <use style=\"fill-opacity:0.1;stroke:#000000;stroke-opacity:0.1;\" x=\"490.178804\" xlink:href=\"#mefca631c5e\" y=\"91.114212\"/>\n     <use style=\"fill-opacity:0.1;stroke:#000000;stroke-opacity:0.1;\" x=\"495.108818\" xlink:href=\"#mefca631c5e\" y=\"98.736783\"/>\n     <use style=\"fill-opacity:0.1;stroke:#000000;stroke-opacity:0.1;\" x=\"522.32682\" xlink:href=\"#mefca631c5e\" y=\"160.134684\"/>\n     <use style=\"fill-opacity:0.1;stroke:#000000;stroke-opacity:0.1;\" x=\"568.411752\" xlink:href=\"#mefca631c5e\" y=\"182.308489\"/>\n     <use style=\"fill-opacity:0.1;stroke:#000000;stroke-opacity:0.1;\" x=\"548.504058\" xlink:href=\"#mefca631c5e\" y=\"168.61751\"/>\n     <use style=\"fill-opacity:0.1;stroke:#000000;stroke-opacity:0.1;\" x=\"447.414067\" xlink:href=\"#mefca631c5e\" y=\"36.818451\"/>\n     <use style=\"fill-opacity:0.1;stroke:#000000;stroke-opacity:0.1;\" x=\"532.81994\" xlink:href=\"#mefca631c5e\" y=\"165.400493\"/>\n     <use style=\"fill-opacity:0.1;stroke:#000000;stroke-opacity:0.1;\" x=\"543.970021\" xlink:href=\"#mefca631c5e\" y=\"163.113923\"/>\n     <use style=\"fill-opacity:0.1;stroke:#000000;stroke-opacity:0.1;\" x=\"490.209846\" xlink:href=\"#mefca631c5e\" y=\"112.682328\"/>\n     <use style=\"fill-opacity:0.1;stroke:#000000;stroke-opacity:0.1;\" x=\"480.263085\" xlink:href=\"#mefca631c5e\" y=\"169.303642\"/>\n     <use style=\"fill-opacity:0.1;stroke:#000000;stroke-opacity:0.1;\" x=\"507.183105\" xlink:href=\"#mefca631c5e\" y=\"193.275305\"/>\n     <use style=\"fill-opacity:0.1;stroke:#000000;stroke-opacity:0.1;\" x=\"520.165991\" xlink:href=\"#mefca631c5e\" y=\"100.609246\"/>\n     <use style=\"fill-opacity:0.1;stroke:#000000;stroke-opacity:0.1;\" x=\"526.596916\" xlink:href=\"#mefca631c5e\" y=\"183.987082\"/>\n     <use style=\"fill-opacity:0.1;stroke:#000000;stroke-opacity:0.1;\" x=\"479.056113\" xlink:href=\"#mefca631c5e\" y=\"145.834841\"/>\n     <use style=\"fill-opacity:0.1;stroke:#000000;stroke-opacity:0.1;\" x=\"623.518152\" xlink:href=\"#mefca631c5e\" y=\"183.002477\"/>\n     <use style=\"fill-opacity:0.1;stroke:#000000;stroke-opacity:0.1;\" x=\"494.523026\" xlink:href=\"#mefca631c5e\" y=\"199.822443\"/>\n     <use style=\"fill-opacity:0.1;stroke:#000000;stroke-opacity:0.1;\" x=\"525.230214\" xlink:href=\"#mefca631c5e\" y=\"156.635068\"/>\n     <use style=\"fill-opacity:0.1;stroke:#000000;stroke-opacity:0.1;\" x=\"563.708986\" xlink:href=\"#mefca631c5e\" y=\"218.957524\"/>\n     <use style=\"fill-opacity:0.1;stroke:#000000;stroke-opacity:0.1;\" x=\"512.000995\" xlink:href=\"#mefca631c5e\" y=\"201.35371\"/>\n     <use style=\"fill-opacity:0.1;stroke:#000000;stroke-opacity:0.1;\" x=\"557.289322\" xlink:href=\"#mefca631c5e\" y=\"196.846406\"/>\n     <use style=\"fill-opacity:0.1;stroke:#000000;stroke-opacity:0.1;\" x=\"521.366355\" xlink:href=\"#mefca631c5e\" y=\"200.550869\"/>\n     <use style=\"fill-opacity:0.1;stroke:#000000;stroke-opacity:0.1;\" x=\"526.542006\" xlink:href=\"#mefca631c5e\" y=\"189.044197\"/>\n     <use style=\"fill-opacity:0.1;stroke:#000000;stroke-opacity:0.1;\" x=\"553.899304\" xlink:href=\"#mefca631c5e\" y=\"178.19635\"/>\n     <use style=\"fill-opacity:0.1;stroke:#000000;stroke-opacity:0.1;\" x=\"478.176121\" xlink:href=\"#mefca631c5e\" y=\"141.055025\"/>\n     <use style=\"fill-opacity:0.1;stroke:#000000;stroke-opacity:0.1;\" x=\"510.85654\" xlink:href=\"#mefca631c5e\" y=\"139.84179\"/>\n     <use style=\"fill-opacity:0.1;stroke:#000000;stroke-opacity:0.1;\" x=\"560.725771\" xlink:href=\"#mefca631c5e\" y=\"164.95655\"/>\n     <use style=\"fill-opacity:0.1;stroke:#000000;stroke-opacity:0.1;\" x=\"474.203465\" xlink:href=\"#mefca631c5e\" y=\"170.304228\"/>\n     <use style=\"fill-opacity:0.1;stroke:#000000;stroke-opacity:0.1;\" x=\"475.927537\" xlink:href=\"#mefca631c5e\" y=\"129.522203\"/>\n     <use style=\"fill-opacity:0.1;stroke:#000000;stroke-opacity:0.1;\" x=\"544.054885\" xlink:href=\"#mefca631c5e\" y=\"203.972732\"/>\n     <use style=\"fill-opacity:0.1;stroke:#000000;stroke-opacity:0.1;\" x=\"492.1686\" xlink:href=\"#mefca631c5e\" y=\"163.810145\"/>\n     <use style=\"fill-opacity:0.1;stroke:#000000;stroke-opacity:0.1;\" x=\"512.371886\" xlink:href=\"#mefca631c5e\" y=\"133.398663\"/>\n     <use style=\"fill-opacity:0.1;stroke:#000000;stroke-opacity:0.1;\" x=\"526.799556\" xlink:href=\"#mefca631c5e\" y=\"92.284804\"/>\n     <use style=\"fill-opacity:0.1;stroke:#000000;stroke-opacity:0.1;\" x=\"516.985222\" xlink:href=\"#mefca631c5e\" y=\"143.069757\"/>\n     <use style=\"fill-opacity:0.1;stroke:#000000;stroke-opacity:0.1;\" x=\"518.159892\" xlink:href=\"#mefca631c5e\" y=\"177.176447\"/>\n     <use style=\"fill-opacity:0.1;stroke:#000000;stroke-opacity:0.1;\" x=\"510.967577\" xlink:href=\"#mefca631c5e\" y=\"188.927541\"/>\n     <use style=\"fill-opacity:0.1;stroke:#000000;stroke-opacity:0.1;\" x=\"491.373169\" xlink:href=\"#mefca631c5e\" y=\"178.370741\"/>\n     <use style=\"fill-opacity:0.1;stroke:#000000;stroke-opacity:0.1;\" x=\"522.831399\" xlink:href=\"#mefca631c5e\" y=\"154.680009\"/>\n     <use style=\"fill-opacity:0.1;stroke:#000000;stroke-opacity:0.1;\" x=\"535.270621\" xlink:href=\"#mefca631c5e\" y=\"164.86314\"/>\n     <use style=\"fill-opacity:0.1;stroke:#000000;stroke-opacity:0.1;\" x=\"560.013465\" xlink:href=\"#mefca631c5e\" y=\"191.911946\"/>\n     <use style=\"fill-opacity:0.1;stroke:#000000;stroke-opacity:0.1;\" x=\"513.875754\" xlink:href=\"#mefca631c5e\" y=\"161.319858\"/>\n     <use style=\"fill-opacity:0.1;stroke:#000000;stroke-opacity:0.1;\" x=\"578.314385\" xlink:href=\"#mefca631c5e\" y=\"161.905935\"/>\n     <use style=\"fill-opacity:0.1;stroke:#000000;stroke-opacity:0.1;\" x=\"538.122149\" xlink:href=\"#mefca631c5e\" y=\"160.263097\"/>\n     <use style=\"fill-opacity:0.1;stroke:#000000;stroke-opacity:0.1;\" x=\"551.94968\" xlink:href=\"#mefca631c5e\" y=\"226.335175\"/>\n     <use style=\"fill-opacity:0.1;stroke:#000000;stroke-opacity:0.1;\" x=\"531.971381\" xlink:href=\"#mefca631c5e\" y=\"122.662844\"/>\n     <use style=\"fill-opacity:0.1;stroke:#000000;stroke-opacity:0.1;\" x=\"501.22637\" xlink:href=\"#mefca631c5e\" y=\"172.748293\"/>\n     <use style=\"fill-opacity:0.1;stroke:#000000;stroke-opacity:0.1;\" x=\"491.890921\" xlink:href=\"#mefca631c5e\" y=\"174.463584\"/>\n     <use style=\"fill-opacity:0.1;stroke:#000000;stroke-opacity:0.1;\" x=\"538.083238\" xlink:href=\"#mefca631c5e\" y=\"200.160976\"/>\n     <use style=\"fill-opacity:0.1;stroke:#000000;stroke-opacity:0.1;\" x=\"594.507429\" xlink:href=\"#mefca631c5e\" y=\"176.193967\"/>\n     <use style=\"fill-opacity:0.1;stroke:#000000;stroke-opacity:0.1;\" x=\"616.313012\" xlink:href=\"#mefca631c5e\" y=\"117.203461\"/>\n     <use style=\"fill-opacity:0.1;stroke:#000000;stroke-opacity:0.1;\" x=\"567.113394\" xlink:href=\"#mefca631c5e\" y=\"187.662085\"/>\n     <use style=\"fill-opacity:0.1;stroke:#000000;stroke-opacity:0.1;\" x=\"603.534288\" xlink:href=\"#mefca631c5e\" y=\"210.515189\"/>\n     <use style=\"fill-opacity:0.1;stroke:#000000;stroke-opacity:0.1;\" x=\"529.776902\" xlink:href=\"#mefca631c5e\" y=\"83.15292\"/>\n     <use style=\"fill-opacity:0.1;stroke:#000000;stroke-opacity:0.1;\" x=\"519.83988\" xlink:href=\"#mefca631c5e\" y=\"176.564569\"/>\n     <use style=\"fill-opacity:0.1;stroke:#000000;stroke-opacity:0.1;\" x=\"544.276655\" xlink:href=\"#mefca631c5e\" y=\"157.555103\"/>\n     <use style=\"fill-opacity:0.1;stroke:#000000;stroke-opacity:0.1;\" x=\"509.627613\" xlink:href=\"#mefca631c5e\" y=\"179.117408\"/>\n     <use style=\"fill-opacity:0.1;stroke:#000000;stroke-opacity:0.1;\" x=\"540.167332\" xlink:href=\"#mefca631c5e\" y=\"157.922316\"/>\n     <use style=\"fill-opacity:0.1;stroke:#000000;stroke-opacity:0.1;\" x=\"549.494304\" xlink:href=\"#mefca631c5e\" y=\"178.492105\"/>\n     <use style=\"fill-opacity:0.1;stroke:#000000;stroke-opacity:0.1;\" x=\"547.920179\" xlink:href=\"#mefca631c5e\" y=\"198.015975\"/>\n     <use style=\"fill-opacity:0.1;stroke:#000000;stroke-opacity:0.1;\" x=\"650.406609\" xlink:href=\"#mefca631c5e\" y=\"196.904626\"/>\n     <use style=\"fill-opacity:0.1;stroke:#000000;stroke-opacity:0.1;\" x=\"591.43335\" xlink:href=\"#mefca631c5e\" y=\"204.870895\"/>\n     <use style=\"fill-opacity:0.1;stroke:#000000;stroke-opacity:0.1;\" x=\"530.949833\" xlink:href=\"#mefca631c5e\" y=\"163.052233\"/>\n     <use style=\"fill-opacity:0.1;stroke:#000000;stroke-opacity:0.1;\" x=\"591.219667\" xlink:href=\"#mefca631c5e\" y=\"206.593234\"/>\n     <use style=\"fill-opacity:0.1;stroke:#000000;stroke-opacity:0.1;\" x=\"507.97571\" xlink:href=\"#mefca631c5e\" y=\"153.009595\"/>\n     <use style=\"fill-opacity:0.1;stroke:#000000;stroke-opacity:0.1;\" x=\"548.490319\" xlink:href=\"#mefca631c5e\" y=\"149.869927\"/>\n     <use style=\"fill-opacity:0.1;stroke:#000000;stroke-opacity:0.1;\" x=\"516.121447\" xlink:href=\"#mefca631c5e\" y=\"182.504215\"/>\n     <use style=\"fill-opacity:0.1;stroke:#000000;stroke-opacity:0.1;\" x=\"576.797344\" xlink:href=\"#mefca631c5e\" y=\"180.451495\"/>\n     <use style=\"fill-opacity:0.1;stroke:#000000;stroke-opacity:0.1;\" x=\"579.144423\" xlink:href=\"#mefca631c5e\" y=\"194.855188\"/>\n     <use style=\"fill-opacity:0.1;stroke:#000000;stroke-opacity:0.1;\" x=\"552.783849\" xlink:href=\"#mefca631c5e\" y=\"197.599071\"/>\n     <use style=\"fill-opacity:0.1;stroke:#000000;stroke-opacity:0.1;\" x=\"536.775228\" xlink:href=\"#mefca631c5e\" y=\"234.609777\"/>\n     <use style=\"fill-opacity:0.1;stroke:#000000;stroke-opacity:0.1;\" x=\"547.779405\" xlink:href=\"#mefca631c5e\" y=\"214.832417\"/>\n     <use style=\"fill-opacity:0.1;stroke:#000000;stroke-opacity:0.1;\" x=\"599.813116\" xlink:href=\"#mefca631c5e\" y=\"178.11284\"/>\n     <use style=\"fill-opacity:0.1;stroke:#000000;stroke-opacity:0.1;\" x=\"576.450408\" xlink:href=\"#mefca631c5e\" y=\"191.481321\"/>\n     <use style=\"fill-opacity:0.1;stroke:#000000;stroke-opacity:0.1;\" x=\"578.723144\" xlink:href=\"#mefca631c5e\" y=\"190.792552\"/>\n     <use style=\"fill-opacity:0.1;stroke:#000000;stroke-opacity:0.1;\" x=\"571.3541\" xlink:href=\"#mefca631c5e\" y=\"228.52267\"/>\n     <use style=\"fill-opacity:0.1;stroke:#000000;stroke-opacity:0.1;\" x=\"614.395473\" xlink:href=\"#mefca631c5e\" y=\"192.104794\"/>\n     <use style=\"fill-opacity:0.1;stroke:#000000;stroke-opacity:0.1;\" x=\"597.597073\" xlink:href=\"#mefca631c5e\" y=\"247.9702\"/>\n     <use style=\"fill-opacity:0.1;stroke:#000000;stroke-opacity:0.1;\" x=\"596.921548\" xlink:href=\"#mefca631c5e\" y=\"242.961298\"/>\n     <use style=\"fill-opacity:0.1;stroke:#000000;stroke-opacity:0.1;\" x=\"625.56377\" xlink:href=\"#mefca631c5e\" y=\"209.485627\"/>\n     <use style=\"fill-opacity:0.1;stroke:#000000;stroke-opacity:0.1;\" x=\"610.729081\" xlink:href=\"#mefca631c5e\" y=\"215.780029\"/>\n     <use style=\"fill-opacity:0.1;stroke:#000000;stroke-opacity:0.1;\" x=\"541.868015\" xlink:href=\"#mefca631c5e\" y=\"212.947417\"/>\n     <use style=\"fill-opacity:0.1;stroke:#000000;stroke-opacity:0.1;\" x=\"552.167667\" xlink:href=\"#mefca631c5e\" y=\"170.275064\"/>\n     <use style=\"fill-opacity:0.1;stroke:#000000;stroke-opacity:0.1;\" x=\"591.406917\" xlink:href=\"#mefca631c5e\" y=\"186.990347\"/>\n     <use style=\"fill-opacity:0.1;stroke:#000000;stroke-opacity:0.1;\" x=\"578.539676\" xlink:href=\"#mefca631c5e\" y=\"196.782293\"/>\n     <use style=\"fill-opacity:0.1;stroke:#000000;stroke-opacity:0.1;\" x=\"556.041265\" xlink:href=\"#mefca631c5e\" y=\"191.666958\"/>\n     <use style=\"fill-opacity:0.1;stroke:#000000;stroke-opacity:0.1;\" x=\"567.275254\" xlink:href=\"#mefca631c5e\" y=\"182.391837\"/>\n     <use style=\"fill-opacity:0.1;stroke:#000000;stroke-opacity:0.1;\" x=\"567.245038\" xlink:href=\"#mefca631c5e\" y=\"193.391127\"/>\n     <use style=\"fill-opacity:0.1;stroke:#000000;stroke-opacity:0.1;\" x=\"555.505818\" xlink:href=\"#mefca631c5e\" y=\"209.571666\"/>\n     <use style=\"fill-opacity:0.1;stroke:#000000;stroke-opacity:0.1;\" x=\"628.130054\" xlink:href=\"#mefca631c5e\" y=\"217.984972\"/>\n     <use style=\"fill-opacity:0.1;stroke:#000000;stroke-opacity:0.1;\" x=\"609.334598\" xlink:href=\"#mefca631c5e\" y=\"176.997939\"/>\n     <use style=\"fill-opacity:0.1;stroke:#000000;stroke-opacity:0.1;\" x=\"590.875035\" xlink:href=\"#mefca631c5e\" y=\"178.944307\"/>\n     <use style=\"fill-opacity:0.1;stroke:#000000;stroke-opacity:0.1;\" x=\"564.873352\" xlink:href=\"#mefca631c5e\" y=\"116.458033\"/>\n     <use style=\"fill-opacity:0.1;stroke:#000000;stroke-opacity:0.1;\" x=\"598.255295\" xlink:href=\"#mefca631c5e\" y=\"188.12435\"/>\n     <use style=\"fill-opacity:0.1;stroke:#000000;stroke-opacity:0.1;\" x=\"548.382152\" xlink:href=\"#mefca631c5e\" y=\"190.585311\"/>\n     <use style=\"fill-opacity:0.1;stroke:#000000;stroke-opacity:0.1;\" x=\"649.339498\" xlink:href=\"#mefca631c5e\" y=\"233.967982\"/>\n     <use style=\"fill-opacity:0.1;stroke:#000000;stroke-opacity:0.1;\" x=\"594.373785\" xlink:href=\"#mefca631c5e\" y=\"196.510455\"/>\n     <use style=\"fill-opacity:0.1;stroke:#000000;stroke-opacity:0.1;\" x=\"575.721712\" xlink:href=\"#mefca631c5e\" y=\"215.770774\"/>\n     <use style=\"fill-opacity:0.1;stroke:#000000;stroke-opacity:0.1;\" x=\"522.637889\" xlink:href=\"#mefca631c5e\" y=\"200.008673\"/>\n     <use style=\"fill-opacity:0.1;stroke:#000000;stroke-opacity:0.1;\" x=\"566.922318\" xlink:href=\"#mefca631c5e\" y=\"166.714214\"/>\n     <use style=\"fill-opacity:0.1;stroke:#000000;stroke-opacity:0.1;\" x=\"565.614265\" xlink:href=\"#mefca631c5e\" y=\"129.499819\"/>\n     <use style=\"fill-opacity:0.1;stroke:#000000;stroke-opacity:0.1;\" x=\"598.334812\" xlink:href=\"#mefca631c5e\" y=\"227.145549\"/>\n     <use style=\"fill-opacity:0.1;stroke:#000000;stroke-opacity:0.1;\" x=\"545.866126\" xlink:href=\"#mefca631c5e\" y=\"207.87077\"/>\n     <use style=\"fill-opacity:0.1;stroke:#000000;stroke-opacity:0.1;\" x=\"632.849514\" xlink:href=\"#mefca631c5e\" y=\"174.19067\"/>\n     <use style=\"fill-opacity:0.1;stroke:#000000;stroke-opacity:0.1;\" x=\"564.152569\" xlink:href=\"#mefca631c5e\" y=\"122.040152\"/>\n     <use style=\"fill-opacity:0.1;stroke:#000000;stroke-opacity:0.1;\" x=\"539.372423\" xlink:href=\"#mefca631c5e\" y=\"205.214566\"/>\n     <use style=\"fill-opacity:0.1;stroke:#000000;stroke-opacity:0.1;\" x=\"537.391974\" xlink:href=\"#mefca631c5e\" y=\"195.194824\"/>\n     <use style=\"fill-opacity:0.1;stroke:#000000;stroke-opacity:0.1;\" x=\"543.696167\" xlink:href=\"#mefca631c5e\" y=\"194.157729\"/>\n     <use style=\"fill-opacity:0.1;stroke:#000000;stroke-opacity:0.1;\" x=\"563.691292\" xlink:href=\"#mefca631c5e\" y=\"223.640566\"/>\n     <use style=\"fill-opacity:0.1;stroke:#000000;stroke-opacity:0.1;\" x=\"616.571084\" xlink:href=\"#mefca631c5e\" y=\"179.816965\"/>\n     <use style=\"fill-opacity:0.1;stroke:#000000;stroke-opacity:0.1;\" x=\"612.180734\" xlink:href=\"#mefca631c5e\" y=\"242.974521\"/>\n     <use style=\"fill-opacity:0.1;stroke:#000000;stroke-opacity:0.1;\" x=\"650.268225\" xlink:href=\"#mefca631c5e\" y=\"206.254432\"/>\n     <use style=\"fill-opacity:0.1;stroke:#000000;stroke-opacity:0.1;\" x=\"550.017055\" xlink:href=\"#mefca631c5e\" y=\"169.970054\"/>\n     <use style=\"fill-opacity:0.1;stroke:#000000;stroke-opacity:0.1;\" x=\"530.198442\" xlink:href=\"#mefca631c5e\" y=\"178.396731\"/>\n     <use style=\"fill-opacity:0.1;stroke:#000000;stroke-opacity:0.1;\" x=\"582.662911\" xlink:href=\"#mefca631c5e\" y=\"228.067912\"/>\n     <use style=\"fill-opacity:0.1;stroke:#000000;stroke-opacity:0.1;\" x=\"587.2639\" xlink:href=\"#mefca631c5e\" y=\"233.379108\"/>\n     <use style=\"fill-opacity:0.1;stroke:#000000;stroke-opacity:0.1;\" x=\"573.054174\" xlink:href=\"#mefca631c5e\" y=\"222.365061\"/>\n     <use style=\"fill-opacity:0.1;stroke:#000000;stroke-opacity:0.1;\" x=\"580.776675\" xlink:href=\"#mefca631c5e\" y=\"212.520101\"/>\n     <use style=\"fill-opacity:0.1;stroke:#000000;stroke-opacity:0.1;\" x=\"628.405472\" xlink:href=\"#mefca631c5e\" y=\"239.167688\"/>\n     <use style=\"fill-opacity:0.1;stroke:#000000;stroke-opacity:0.1;\" x=\"540.786252\" xlink:href=\"#mefca631c5e\" y=\"167.659916\"/>\n     <use style=\"fill-opacity:0.1;stroke:#000000;stroke-opacity:0.1;\" x=\"518.177152\" xlink:href=\"#mefca631c5e\" y=\"146.243136\"/>\n     <use style=\"fill-opacity:0.1;stroke:#000000;stroke-opacity:0.1;\" x=\"555.256703\" xlink:href=\"#mefca631c5e\" y=\"132.560846\"/>\n     <use style=\"fill-opacity:0.1;stroke:#000000;stroke-opacity:0.1;\" x=\"591.007027\" xlink:href=\"#mefca631c5e\" y=\"184.792399\"/>\n     <use style=\"fill-opacity:0.1;stroke:#000000;stroke-opacity:0.1;\" x=\"617.898658\" xlink:href=\"#mefca631c5e\" y=\"170.098036\"/>\n     <use style=\"fill-opacity:0.1;stroke:#000000;stroke-opacity:0.1;\" x=\"595.925867\" xlink:href=\"#mefca631c5e\" y=\"181.696558\"/>\n     <use style=\"fill-opacity:0.1;stroke:#000000;stroke-opacity:0.1;\" x=\"568.006472\" xlink:href=\"#mefca631c5e\" y=\"226.261014\"/>\n     <use style=\"fill-opacity:0.1;stroke:#000000;stroke-opacity:0.1;\" x=\"573.157776\" xlink:href=\"#mefca631c5e\" y=\"150.508654\"/>\n     <use style=\"fill-opacity:0.1;stroke:#000000;stroke-opacity:0.1;\" x=\"591.003288\" xlink:href=\"#mefca631c5e\" y=\"227.621952\"/>\n     <use style=\"fill-opacity:0.1;stroke:#000000;stroke-opacity:0.1;\" x=\"603.991131\" xlink:href=\"#mefca631c5e\" y=\"207.614832\"/>\n     <use style=\"fill-opacity:0.1;stroke:#000000;stroke-opacity:0.1;\" x=\"606.961434\" xlink:href=\"#mefca631c5e\" y=\"170.012643\"/>\n     <use style=\"fill-opacity:0.1;stroke:#000000;stroke-opacity:0.1;\" x=\"562.793953\" xlink:href=\"#mefca631c5e\" y=\"195.620176\"/>\n     <use style=\"fill-opacity:0.1;stroke:#000000;stroke-opacity:0.1;\" x=\"579.296197\" xlink:href=\"#mefca631c5e\" y=\"232.070471\"/>\n     <use style=\"fill-opacity:0.1;stroke:#000000;stroke-opacity:0.1;\" x=\"543.001948\" xlink:href=\"#mefca631c5e\" y=\"224.121663\"/>\n     <use style=\"fill-opacity:0.1;stroke:#000000;stroke-opacity:0.1;\" x=\"666.151462\" xlink:href=\"#mefca631c5e\" y=\"216.084851\"/>\n     <use style=\"fill-opacity:0.1;stroke:#000000;stroke-opacity:0.1;\" x=\"573.884994\" xlink:href=\"#mefca631c5e\" y=\"228.086435\"/>\n     <use style=\"fill-opacity:0.1;stroke:#000000;stroke-opacity:0.1;\" x=\"579.932724\" xlink:href=\"#mefca631c5e\" y=\"207.442889\"/>\n     <use style=\"fill-opacity:0.1;stroke:#000000;stroke-opacity:0.1;\" x=\"608.715026\" xlink:href=\"#mefca631c5e\" y=\"193.149852\"/>\n     <use style=\"fill-opacity:0.1;stroke:#000000;stroke-opacity:0.1;\" x=\"557.157416\" xlink:href=\"#mefca631c5e\" y=\"238.912114\"/>\n     <use style=\"fill-opacity:0.1;stroke:#000000;stroke-opacity:0.1;\" x=\"545.234772\" xlink:href=\"#mefca631c5e\" y=\"211.249614\"/>\n     <use style=\"fill-opacity:0.1;stroke:#000000;stroke-opacity:0.1;\" x=\"612.535365\" xlink:href=\"#mefca631c5e\" y=\"231.380734\"/>\n     <use style=\"fill-opacity:0.1;stroke:#000000;stroke-opacity:0.1;\" x=\"579.868989\" xlink:href=\"#mefca631c5e\" y=\"263.164682\"/>\n     <use style=\"fill-opacity:0.1;stroke:#000000;stroke-opacity:0.1;\" x=\"579.81847\" xlink:href=\"#mefca631c5e\" y=\"206.256289\"/>\n     <use style=\"fill-opacity:0.1;stroke:#000000;stroke-opacity:0.1;\" x=\"554.144594\" xlink:href=\"#mefca631c5e\" y=\"220.181951\"/>\n     <use style=\"fill-opacity:0.1;stroke:#000000;stroke-opacity:0.1;\" x=\"598.719181\" xlink:href=\"#mefca631c5e\" y=\"206.014395\"/>\n     <use style=\"fill-opacity:0.1;stroke:#000000;stroke-opacity:0.1;\" x=\"545.657182\" xlink:href=\"#mefca631c5e\" y=\"209.591306\"/>\n     <use style=\"fill-opacity:0.1;stroke:#000000;stroke-opacity:0.1;\" x=\"537.129946\" xlink:href=\"#mefca631c5e\" y=\"160.446609\"/>\n     <use style=\"fill-opacity:0.1;stroke:#000000;stroke-opacity:0.1;\" x=\"552.757633\" xlink:href=\"#mefca631c5e\" y=\"170.619435\"/>\n     <use style=\"fill-opacity:0.1;stroke:#000000;stroke-opacity:0.1;\" x=\"582.847074\" xlink:href=\"#mefca631c5e\" y=\"193.048989\"/>\n     <use style=\"fill-opacity:0.1;stroke:#000000;stroke-opacity:0.1;\" x=\"565.227592\" xlink:href=\"#mefca631c5e\" y=\"198.114552\"/>\n     <use style=\"fill-opacity:0.1;stroke:#000000;stroke-opacity:0.1;\" x=\"583.345132\" xlink:href=\"#mefca631c5e\" y=\"232.80682\"/>\n     <use style=\"fill-opacity:0.1;stroke:#000000;stroke-opacity:0.1;\" x=\"628.47386\" xlink:href=\"#mefca631c5e\" y=\"223.785403\"/>\n     <use style=\"fill-opacity:0.1;stroke:#000000;stroke-opacity:0.1;\" x=\"602.744987\" xlink:href=\"#mefca631c5e\" y=\"233.066268\"/>\n     <use style=\"fill-opacity:0.1;stroke:#000000;stroke-opacity:0.1;\" x=\"600.854533\" xlink:href=\"#mefca631c5e\" y=\"228.295479\"/>\n     <use style=\"fill-opacity:0.1;stroke:#000000;stroke-opacity:0.1;\" x=\"569.642636\" xlink:href=\"#mefca631c5e\" y=\"242.524848\"/>\n     <use style=\"fill-opacity:0.1;stroke:#000000;stroke-opacity:0.1;\" x=\"569.999919\" xlink:href=\"#mefca631c5e\" y=\"213.034585\"/>\n     <use style=\"fill-opacity:0.1;stroke:#000000;stroke-opacity:0.1;\" x=\"576.942075\" xlink:href=\"#mefca631c5e\" y=\"170.589249\"/>\n     <use style=\"fill-opacity:0.1;stroke:#000000;stroke-opacity:0.1;\" x=\"632.756911\" xlink:href=\"#mefca631c5e\" y=\"199.174219\"/>\n     <use style=\"fill-opacity:0.1;stroke:#000000;stroke-opacity:0.1;\" x=\"610.29128\" xlink:href=\"#mefca631c5e\" y=\"178.648875\"/>\n     <use style=\"fill-opacity:0.1;stroke:#000000;stroke-opacity:0.1;\" x=\"525.59554\" xlink:href=\"#mefca631c5e\" y=\"198.380336\"/>\n     <use style=\"fill-opacity:0.1;stroke:#000000;stroke-opacity:0.1;\" x=\"581.438723\" xlink:href=\"#mefca631c5e\" y=\"213.837131\"/>\n     <use style=\"fill-opacity:0.1;stroke:#000000;stroke-opacity:0.1;\" x=\"493.288708\" xlink:href=\"#mefca631c5e\" y=\"145.385706\"/>\n     <use style=\"fill-opacity:0.1;stroke:#000000;stroke-opacity:0.1;\" x=\"570.482152\" xlink:href=\"#mefca631c5e\" y=\"223.716193\"/>\n     <use style=\"fill-opacity:0.1;stroke:#000000;stroke-opacity:0.1;\" x=\"599.892503\" xlink:href=\"#mefca631c5e\" y=\"222.278659\"/>\n     <use style=\"fill-opacity:0.1;stroke:#000000;stroke-opacity:0.1;\" x=\"582.184765\" xlink:href=\"#mefca631c5e\" y=\"170.122007\"/>\n     <use style=\"fill-opacity:0.1;stroke:#000000;stroke-opacity:0.1;\" x=\"582.840814\" xlink:href=\"#mefca631c5e\" y=\"188.900745\"/>\n     <use style=\"fill-opacity:0.1;stroke:#000000;stroke-opacity:0.1;\" x=\"613.736773\" xlink:href=\"#mefca631c5e\" y=\"258.057162\"/>\n     <use style=\"fill-opacity:0.1;stroke:#000000;stroke-opacity:0.1;\" x=\"551.792124\" xlink:href=\"#mefca631c5e\" y=\"211.651936\"/>\n     <use style=\"fill-opacity:0.1;stroke:#000000;stroke-opacity:0.1;\" x=\"533.587851\" xlink:href=\"#mefca631c5e\" y=\"212.798234\"/>\n     <use style=\"fill-opacity:0.1;stroke:#000000;stroke-opacity:0.1;\" x=\"604.311981\" xlink:href=\"#mefca631c5e\" y=\"215.785464\"/>\n     <use style=\"fill-opacity:0.1;stroke:#000000;stroke-opacity:0.1;\" x=\"579.186812\" xlink:href=\"#mefca631c5e\" y=\"227.66972\"/>\n     <use style=\"fill-opacity:0.1;stroke:#000000;stroke-opacity:0.1;\" x=\"618.185945\" xlink:href=\"#mefca631c5e\" y=\"198.48276\"/>\n     <use style=\"fill-opacity:0.1;stroke:#000000;stroke-opacity:0.1;\" x=\"579.019213\" xlink:href=\"#mefca631c5e\" y=\"253.852043\"/>\n     <use style=\"fill-opacity:0.1;stroke:#000000;stroke-opacity:0.1;\" x=\"570.213559\" xlink:href=\"#mefca631c5e\" y=\"184.689464\"/>\n     <use style=\"fill-opacity:0.1;stroke:#000000;stroke-opacity:0.1;\" x=\"582.406318\" xlink:href=\"#mefca631c5e\" y=\"250.036278\"/>\n     <use style=\"fill-opacity:0.1;stroke:#000000;stroke-opacity:0.1;\" x=\"601.404327\" xlink:href=\"#mefca631c5e\" y=\"220.395851\"/>\n     <use style=\"fill-opacity:0.1;stroke:#000000;stroke-opacity:0.1;\" x=\"576.616051\" xlink:href=\"#mefca631c5e\" y=\"214.308086\"/>\n     <use style=\"fill-opacity:0.1;stroke:#000000;stroke-opacity:0.1;\" x=\"599.384489\" xlink:href=\"#mefca631c5e\" y=\"159.682912\"/>\n     <use style=\"fill-opacity:0.1;stroke:#000000;stroke-opacity:0.1;\" x=\"587.199643\" xlink:href=\"#mefca631c5e\" y=\"212.739664\"/>\n     <use style=\"fill-opacity:0.1;stroke:#000000;stroke-opacity:0.1;\" x=\"575.762318\" xlink:href=\"#mefca631c5e\" y=\"202.843653\"/>\n     <use style=\"fill-opacity:0.1;stroke:#000000;stroke-opacity:0.1;\" x=\"563.505737\" xlink:href=\"#mefca631c5e\" y=\"195.49709\"/>\n     <use style=\"fill-opacity:0.1;stroke:#000000;stroke-opacity:0.1;\" x=\"593.124468\" xlink:href=\"#mefca631c5e\" y=\"203.553891\"/>\n     <use style=\"fill-opacity:0.1;stroke:#000000;stroke-opacity:0.1;\" x=\"597.390998\" xlink:href=\"#mefca631c5e\" y=\"203.61308\"/>\n     <use style=\"fill-opacity:0.1;stroke:#000000;stroke-opacity:0.1;\" x=\"569.259485\" xlink:href=\"#mefca631c5e\" y=\"202.89399\"/>\n     <use style=\"fill-opacity:0.1;stroke:#000000;stroke-opacity:0.1;\" x=\"561.702626\" xlink:href=\"#mefca631c5e\" y=\"222.880057\"/>\n     <use style=\"fill-opacity:0.1;stroke:#000000;stroke-opacity:0.1;\" x=\"615.979901\" xlink:href=\"#mefca631c5e\" y=\"223.277914\"/>\n     <use style=\"fill-opacity:0.1;stroke:#000000;stroke-opacity:0.1;\" x=\"634.679145\" xlink:href=\"#mefca631c5e\" y=\"240.841546\"/>\n     <use style=\"fill-opacity:0.1;stroke:#000000;stroke-opacity:0.1;\" x=\"639.178576\" xlink:href=\"#mefca631c5e\" y=\"227.939688\"/>\n     <use style=\"fill-opacity:0.1;stroke:#000000;stroke-opacity:0.1;\" x=\"605.143454\" xlink:href=\"#mefca631c5e\" y=\"244.290475\"/>\n     <use style=\"fill-opacity:0.1;stroke:#000000;stroke-opacity:0.1;\" x=\"598.07774\" xlink:href=\"#mefca631c5e\" y=\"248.059696\"/>\n     <use style=\"fill-opacity:0.1;stroke:#000000;stroke-opacity:0.1;\" x=\"586.433384\" xlink:href=\"#mefca631c5e\" y=\"242.209937\"/>\n     <use style=\"fill-opacity:0.1;stroke:#000000;stroke-opacity:0.1;\" x=\"620.012272\" xlink:href=\"#mefca631c5e\" y=\"211.800311\"/>\n     <use style=\"fill-opacity:0.1;stroke:#000000;stroke-opacity:0.1;\" x=\"528.94243\" xlink:href=\"#mefca631c5e\" y=\"186.943023\"/>\n     <use style=\"fill-opacity:0.1;stroke:#000000;stroke-opacity:0.1;\" x=\"600.681587\" xlink:href=\"#mefca631c5e\" y=\"200.235204\"/>\n     <use style=\"fill-opacity:0.1;stroke:#000000;stroke-opacity:0.1;\" x=\"645.399339\" xlink:href=\"#mefca631c5e\" y=\"225.704801\"/>\n     <use style=\"fill-opacity:0.1;stroke:#000000;stroke-opacity:0.1;\" x=\"587.065869\" xlink:href=\"#mefca631c5e\" y=\"169.350051\"/>\n     <use style=\"fill-opacity:0.1;stroke:#000000;stroke-opacity:0.1;\" x=\"580.38235\" xlink:href=\"#mefca631c5e\" y=\"212.697075\"/>\n     <use style=\"fill-opacity:0.1;stroke:#000000;stroke-opacity:0.1;\" x=\"648.256518\" xlink:href=\"#mefca631c5e\" y=\"210.434154\"/>\n     <use style=\"fill-opacity:0.1;stroke:#000000;stroke-opacity:0.1;\" x=\"545.462628\" xlink:href=\"#mefca631c5e\" y=\"212.110272\"/>\n     <use style=\"fill-opacity:0.1;stroke:#000000;stroke-opacity:0.1;\" x=\"564.606759\" xlink:href=\"#mefca631c5e\" y=\"184.126149\"/>\n     <use style=\"fill-opacity:0.1;stroke:#000000;stroke-opacity:0.1;\" x=\"618.072473\" xlink:href=\"#mefca631c5e\" y=\"194.539012\"/>\n     <use style=\"fill-opacity:0.1;stroke:#000000;stroke-opacity:0.1;\" x=\"600.354476\" xlink:href=\"#mefca631c5e\" y=\"266.213293\"/>\n     <use style=\"fill-opacity:0.1;stroke:#000000;stroke-opacity:0.1;\" x=\"558.212398\" xlink:href=\"#mefca631c5e\" y=\"240.733554\"/>\n     <use style=\"fill-opacity:0.1;stroke:#000000;stroke-opacity:0.1;\" x=\"592.807921\" xlink:href=\"#mefca631c5e\" y=\"226.580566\"/>\n     <use style=\"fill-opacity:0.1;stroke:#000000;stroke-opacity:0.1;\" x=\"554.073468\" xlink:href=\"#mefca631c5e\" y=\"188.306274\"/>\n     <use style=\"fill-opacity:0.1;stroke:#000000;stroke-opacity:0.1;\" x=\"557.646822\" xlink:href=\"#mefca631c5e\" y=\"213.383369\"/>\n     <use style=\"fill-opacity:0.1;stroke:#000000;stroke-opacity:0.1;\" x=\"559.233511\" xlink:href=\"#mefca631c5e\" y=\"230.822584\"/>\n     <use style=\"fill-opacity:0.1;stroke:#000000;stroke-opacity:0.1;\" x=\"577.159323\" xlink:href=\"#mefca631c5e\" y=\"174.798027\"/>\n     <use style=\"fill-opacity:0.1;stroke:#000000;stroke-opacity:0.1;\" x=\"591.747679\" xlink:href=\"#mefca631c5e\" y=\"235.024031\"/>\n     <use style=\"fill-opacity:0.1;stroke:#000000;stroke-opacity:0.1;\" x=\"571.033945\" xlink:href=\"#mefca631c5e\" y=\"225.50033\"/>\n     <use style=\"fill-opacity:0.1;stroke:#000000;stroke-opacity:0.1;\" x=\"657.474409\" xlink:href=\"#mefca631c5e\" y=\"217.535998\"/>\n     <use style=\"fill-opacity:0.1;stroke:#000000;stroke-opacity:0.1;\" x=\"563.373528\" xlink:href=\"#mefca631c5e\" y=\"197.582283\"/>\n     <use style=\"fill-opacity:0.1;stroke:#000000;stroke-opacity:0.1;\" x=\"578.450855\" xlink:href=\"#mefca631c5e\" y=\"195.650766\"/>\n     <use style=\"fill-opacity:0.1;stroke:#000000;stroke-opacity:0.1;\" x=\"606.069095\" xlink:href=\"#mefca631c5e\" y=\"205.217015\"/>\n     <use style=\"fill-opacity:0.1;stroke:#000000;stroke-opacity:0.1;\" x=\"616.642906\" xlink:href=\"#mefca631c5e\" y=\"280.215336\"/>\n     <use style=\"fill-opacity:0.1;stroke:#000000;stroke-opacity:0.1;\" x=\"539.882132\" xlink:href=\"#mefca631c5e\" y=\"204.612348\"/>\n     <use style=\"fill-opacity:0.1;stroke:#000000;stroke-opacity:0.1;\" x=\"531.270423\" xlink:href=\"#mefca631c5e\" y=\"235.405516\"/>\n     <use style=\"fill-opacity:0.1;stroke:#000000;stroke-opacity:0.1;\" x=\"585.378229\" xlink:href=\"#mefca631c5e\" y=\"197.784978\"/>\n     <use style=\"fill-opacity:0.1;stroke:#000000;stroke-opacity:0.1;\" x=\"519.51016\" xlink:href=\"#mefca631c5e\" y=\"135.607991\"/>\n     <use style=\"fill-opacity:0.1;stroke:#000000;stroke-opacity:0.1;\" x=\"657.594402\" xlink:href=\"#mefca631c5e\" y=\"243.783039\"/>\n     <use style=\"fill-opacity:0.1;stroke:#000000;stroke-opacity:0.1;\" x=\"586.103056\" xlink:href=\"#mefca631c5e\" y=\"178.870859\"/>\n     <use style=\"fill-opacity:0.1;stroke:#000000;stroke-opacity:0.1;\" x=\"564.139135\" xlink:href=\"#mefca631c5e\" y=\"212.257222\"/>\n     <use style=\"fill-opacity:0.1;stroke:#000000;stroke-opacity:0.1;\" x=\"597.288222\" xlink:href=\"#mefca631c5e\" y=\"253.384748\"/>\n     <use style=\"fill-opacity:0.1;stroke:#000000;stroke-opacity:0.1;\" x=\"607.98333\" xlink:href=\"#mefca631c5e\" y=\"241.735404\"/>\n     <use style=\"fill-opacity:0.1;stroke:#000000;stroke-opacity:0.1;\" x=\"595.575888\" xlink:href=\"#mefca631c5e\" y=\"240.947709\"/>\n     <use style=\"fill-opacity:0.1;stroke:#000000;stroke-opacity:0.1;\" x=\"565.403147\" xlink:href=\"#mefca631c5e\" y=\"244.588571\"/>\n     <use style=\"fill-opacity:0.1;stroke:#000000;stroke-opacity:0.1;\" x=\"603.772622\" xlink:href=\"#mefca631c5e\" y=\"256.339626\"/>\n     <use style=\"fill-opacity:0.1;stroke:#000000;stroke-opacity:0.1;\" x=\"578.729056\" xlink:href=\"#mefca631c5e\" y=\"232.732619\"/>\n     <use style=\"fill-opacity:0.1;stroke:#000000;stroke-opacity:0.1;\" x=\"568.116248\" xlink:href=\"#mefca631c5e\" y=\"257.225762\"/>\n     <use style=\"fill-opacity:0.1;stroke:#000000;stroke-opacity:0.1;\" x=\"615.558839\" xlink:href=\"#mefca631c5e\" y=\"232.817433\"/>\n     <use style=\"fill-opacity:0.1;stroke:#000000;stroke-opacity:0.1;\" x=\"571.481701\" xlink:href=\"#mefca631c5e\" y=\"193.966496\"/>\n     <use style=\"fill-opacity:0.1;stroke:#000000;stroke-opacity:0.1;\" x=\"571.353926\" xlink:href=\"#mefca631c5e\" y=\"168.196408\"/>\n     <use style=\"fill-opacity:0.1;stroke:#000000;stroke-opacity:0.1;\" x=\"529.361014\" xlink:href=\"#mefca631c5e\" y=\"241.529091\"/>\n     <use style=\"fill-opacity:0.1;stroke:#000000;stroke-opacity:0.1;\" x=\"560.771073\" xlink:href=\"#mefca631c5e\" y=\"238.716576\"/>\n     <use style=\"fill-opacity:0.1;stroke:#000000;stroke-opacity:0.1;\" x=\"586.335347\" xlink:href=\"#mefca631c5e\" y=\"225.439595\"/>\n     <use style=\"fill-opacity:0.1;stroke:#000000;stroke-opacity:0.1;\" x=\"583.743673\" xlink:href=\"#mefca631c5e\" y=\"242.045459\"/>\n     <use style=\"fill-opacity:0.1;stroke:#000000;stroke-opacity:0.1;\" x=\"571.711427\" xlink:href=\"#mefca631c5e\" y=\"241.473494\"/>\n     <use style=\"fill-opacity:0.1;stroke:#000000;stroke-opacity:0.1;\" x=\"585.237585\" xlink:href=\"#mefca631c5e\" y=\"252.390565\"/>\n     <use style=\"fill-opacity:0.1;stroke:#000000;stroke-opacity:0.1;\" x=\"617.107748\" xlink:href=\"#mefca631c5e\" y=\"271.410672\"/>\n     <use style=\"fill-opacity:0.1;stroke:#000000;stroke-opacity:0.1;\" x=\"546.50561\" xlink:href=\"#mefca631c5e\" y=\"251.772984\"/>\n     <use style=\"fill-opacity:0.1;stroke:#000000;stroke-opacity:0.1;\" x=\"575.257\" xlink:href=\"#mefca631c5e\" y=\"260.499183\"/>\n     <use style=\"fill-opacity:0.1;stroke:#000000;stroke-opacity:0.1;\" x=\"645.966349\" xlink:href=\"#mefca631c5e\" y=\"243.982788\"/>\n     <use style=\"fill-opacity:0.1;stroke:#000000;stroke-opacity:0.1;\" x=\"607.09486\" xlink:href=\"#mefca631c5e\" y=\"265.88267\"/>\n     <use style=\"fill-opacity:0.1;stroke:#000000;stroke-opacity:0.1;\" x=\"589.886833\" xlink:href=\"#mefca631c5e\" y=\"209.928413\"/>\n     <use style=\"fill-opacity:0.1;stroke:#000000;stroke-opacity:0.1;\" x=\"602.641906\" xlink:href=\"#mefca631c5e\" y=\"251.748313\"/>\n     <use style=\"fill-opacity:0.1;stroke:#000000;stroke-opacity:0.1;\" x=\"574.389052\" xlink:href=\"#mefca631c5e\" y=\"183.751403\"/>\n     <use style=\"fill-opacity:0.1;stroke:#000000;stroke-opacity:0.1;\" x=\"628.993916\" xlink:href=\"#mefca631c5e\" y=\"249.95414\"/>\n     <use style=\"fill-opacity:0.1;stroke:#000000;stroke-opacity:0.1;\" x=\"599.646561\" xlink:href=\"#mefca631c5e\" y=\"240.866392\"/>\n     <use style=\"fill-opacity:0.1;stroke:#000000;stroke-opacity:0.1;\" x=\"637.356814\" xlink:href=\"#mefca631c5e\" y=\"257.254321\"/>\n     <use style=\"fill-opacity:0.1;stroke:#000000;stroke-opacity:0.1;\" x=\"577.726289\" xlink:href=\"#mefca631c5e\" y=\"244.177156\"/>\n     <use style=\"fill-opacity:0.1;stroke:#000000;stroke-opacity:0.1;\" x=\"579.297631\" xlink:href=\"#mefca631c5e\" y=\"243.116964\"/>\n     <use style=\"fill-opacity:0.1;stroke:#000000;stroke-opacity:0.1;\" x=\"567.819439\" xlink:href=\"#mefca631c5e\" y=\"237.588021\"/>\n     <use style=\"fill-opacity:0.1;stroke:#000000;stroke-opacity:0.1;\" x=\"585.692167\" xlink:href=\"#mefca631c5e\" y=\"208.443313\"/>\n     <use style=\"fill-opacity:0.1;stroke:#000000;stroke-opacity:0.1;\" x=\"601.834649\" xlink:href=\"#mefca631c5e\" y=\"213.111343\"/>\n     <use style=\"fill-opacity:0.1;stroke:#000000;stroke-opacity:0.1;\" x=\"580.253401\" xlink:href=\"#mefca631c5e\" y=\"222.054711\"/>\n     <use style=\"fill-opacity:0.1;stroke:#000000;stroke-opacity:0.1;\" x=\"615.387371\" xlink:href=\"#mefca631c5e\" y=\"234.611526\"/>\n     <use style=\"fill-opacity:0.1;stroke:#000000;stroke-opacity:0.1;\" x=\"636.098323\" xlink:href=\"#mefca631c5e\" y=\"209.995727\"/>\n     <use style=\"fill-opacity:0.1;stroke:#000000;stroke-opacity:0.1;\" x=\"616.893239\" xlink:href=\"#mefca631c5e\" y=\"243.476092\"/>\n     <use style=\"fill-opacity:0.1;stroke:#000000;stroke-opacity:0.1;\" x=\"570.618318\" xlink:href=\"#mefca631c5e\" y=\"227.512883\"/>\n     <use style=\"fill-opacity:0.1;stroke:#000000;stroke-opacity:0.1;\" x=\"544.788147\" xlink:href=\"#mefca631c5e\" y=\"222.976347\"/>\n     <use style=\"fill-opacity:0.1;stroke:#000000;stroke-opacity:0.1;\" x=\"583.669243\" xlink:href=\"#mefca631c5e\" y=\"233.366732\"/>\n     <use style=\"fill-opacity:0.1;stroke:#000000;stroke-opacity:0.1;\" x=\"617.863094\" xlink:href=\"#mefca631c5e\" y=\"262.583367\"/>\n     <use style=\"fill-opacity:0.1;stroke:#000000;stroke-opacity:0.1;\" x=\"584.48476\" xlink:href=\"#mefca631c5e\" y=\"254.969608\"/>\n     <use style=\"fill-opacity:0.1;stroke:#000000;stroke-opacity:0.1;\" x=\"587.968163\" xlink:href=\"#mefca631c5e\" y=\"234.547386\"/>\n     <use style=\"fill-opacity:0.1;stroke:#000000;stroke-opacity:0.1;\" x=\"596.464618\" xlink:href=\"#mefca631c5e\" y=\"243.697189\"/>\n     <use style=\"fill-opacity:0.1;stroke:#000000;stroke-opacity:0.1;\" x=\"612.370114\" xlink:href=\"#mefca631c5e\" y=\"275.617311\"/>\n     <use style=\"fill-opacity:0.1;stroke:#000000;stroke-opacity:0.1;\" x=\"571.121331\" xlink:href=\"#mefca631c5e\" y=\"235.707136\"/>\n     <use style=\"fill-opacity:0.1;stroke:#000000;stroke-opacity:0.1;\" x=\"573.686745\" xlink:href=\"#mefca631c5e\" y=\"263.009728\"/>\n     <use style=\"fill-opacity:0.1;stroke:#000000;stroke-opacity:0.1;\" x=\"589.500377\" xlink:href=\"#mefca631c5e\" y=\"231.982495\"/>\n     <use style=\"fill-opacity:0.1;stroke:#000000;stroke-opacity:0.1;\" x=\"633.830456\" xlink:href=\"#mefca631c5e\" y=\"250.950368\"/>\n     <use style=\"fill-opacity:0.1;stroke:#000000;stroke-opacity:0.1;\" x=\"577.498433\" xlink:href=\"#mefca631c5e\" y=\"246.432113\"/>\n     <use style=\"fill-opacity:0.1;stroke:#000000;stroke-opacity:0.1;\" x=\"598.185647\" xlink:href=\"#mefca631c5e\" y=\"271.475927\"/>\n     <use style=\"fill-opacity:0.1;stroke:#000000;stroke-opacity:0.1;\" x=\"602.313838\" xlink:href=\"#mefca631c5e\" y=\"218.248954\"/>\n     <use style=\"fill-opacity:0.1;stroke:#000000;stroke-opacity:0.1;\" x=\"548.615877\" xlink:href=\"#mefca631c5e\" y=\"251.842612\"/>\n     <use style=\"fill-opacity:0.1;stroke:#000000;stroke-opacity:0.1;\" x=\"606.885482\" xlink:href=\"#mefca631c5e\" y=\"230.975237\"/>\n     <use style=\"fill-opacity:0.1;stroke:#000000;stroke-opacity:0.1;\" x=\"620.347904\" xlink:href=\"#mefca631c5e\" y=\"269.454093\"/>\n     <use style=\"fill-opacity:0.1;stroke:#000000;stroke-opacity:0.1;\" x=\"572.453601\" xlink:href=\"#mefca631c5e\" y=\"230.142451\"/>\n     <use style=\"fill-opacity:0.1;stroke:#000000;stroke-opacity:0.1;\" x=\"592.833354\" xlink:href=\"#mefca631c5e\" y=\"225.660019\"/>\n     <use style=\"fill-opacity:0.1;stroke:#000000;stroke-opacity:0.1;\" x=\"627.682819\" xlink:href=\"#mefca631c5e\" y=\"250.18729\"/>\n     <use style=\"fill-opacity:0.1;stroke:#000000;stroke-opacity:0.1;\" x=\"619.351876\" xlink:href=\"#mefca631c5e\" y=\"251.081848\"/>\n     <use style=\"fill-opacity:0.1;stroke:#000000;stroke-opacity:0.1;\" x=\"601.504364\" xlink:href=\"#mefca631c5e\" y=\"237.039529\"/>\n     <use style=\"fill-opacity:0.1;stroke:#000000;stroke-opacity:0.1;\" x=\"582.994805\" xlink:href=\"#mefca631c5e\" y=\"223.453973\"/>\n     <use style=\"fill-opacity:0.1;stroke:#000000;stroke-opacity:0.1;\" x=\"589.633326\" xlink:href=\"#mefca631c5e\" y=\"260.805256\"/>\n     <use style=\"fill-opacity:0.1;stroke:#000000;stroke-opacity:0.1;\" x=\"584.892301\" xlink:href=\"#mefca631c5e\" y=\"255.814285\"/>\n     <use style=\"fill-opacity:0.1;stroke:#000000;stroke-opacity:0.1;\" x=\"552.500648\" xlink:href=\"#mefca631c5e\" y=\"228.307357\"/>\n     <use style=\"fill-opacity:0.1;stroke:#000000;stroke-opacity:0.1;\" x=\"605.028374\" xlink:href=\"#mefca631c5e\" y=\"242.200453\"/>\n     <use style=\"fill-opacity:0.1;stroke:#000000;stroke-opacity:0.1;\" x=\"603.758796\" xlink:href=\"#mefca631c5e\" y=\"238.906894\"/>\n     <use style=\"fill-opacity:0.1;stroke:#000000;stroke-opacity:0.1;\" x=\"619.999316\" xlink:href=\"#mefca631c5e\" y=\"261.616573\"/>\n     <use style=\"fill-opacity:0.1;stroke:#000000;stroke-opacity:0.1;\" x=\"596.241936\" xlink:href=\"#mefca631c5e\" y=\"253.58911\"/>\n     <use style=\"fill-opacity:0.1;stroke:#000000;stroke-opacity:0.1;\" x=\"596.224285\" xlink:href=\"#mefca631c5e\" y=\"206.972849\"/>\n     <use style=\"fill-opacity:0.1;stroke:#000000;stroke-opacity:0.1;\" x=\"599.195761\" xlink:href=\"#mefca631c5e\" y=\"245.239258\"/>\n     <use style=\"fill-opacity:0.1;stroke:#000000;stroke-opacity:0.1;\" x=\"664.810845\" xlink:href=\"#mefca631c5e\" y=\"247.280261\"/>\n     <use style=\"fill-opacity:0.1;stroke:#000000;stroke-opacity:0.1;\" x=\"596.079684\" xlink:href=\"#mefca631c5e\" y=\"222.099963\"/>\n     <use style=\"fill-opacity:0.1;stroke:#000000;stroke-opacity:0.1;\" x=\"600.248047\" xlink:href=\"#mefca631c5e\" y=\"247.097072\"/>\n     <use style=\"fill-opacity:0.1;stroke:#000000;stroke-opacity:0.1;\" x=\"578.973477\" xlink:href=\"#mefca631c5e\" y=\"246.535249\"/>\n     <use style=\"fill-opacity:0.1;stroke:#000000;stroke-opacity:0.1;\" x=\"581.808005\" xlink:href=\"#mefca631c5e\" y=\"213.139646\"/>\n     <use style=\"fill-opacity:0.1;stroke:#000000;stroke-opacity:0.1;\" x=\"563.016114\" xlink:href=\"#mefca631c5e\" y=\"228.302488\"/>\n     <use style=\"fill-opacity:0.1;stroke:#000000;stroke-opacity:0.1;\" x=\"643.300419\" xlink:href=\"#mefca631c5e\" y=\"249.286572\"/>\n     <use style=\"fill-opacity:0.1;stroke:#000000;stroke-opacity:0.1;\" x=\"565.361584\" xlink:href=\"#mefca631c5e\" y=\"240.563009\"/>\n     <use style=\"fill-opacity:0.1;stroke:#000000;stroke-opacity:0.1;\" x=\"642.463382\" xlink:href=\"#mefca631c5e\" y=\"262.34711\"/>\n     <use style=\"fill-opacity:0.1;stroke:#000000;stroke-opacity:0.1;\" x=\"582.744906\" xlink:href=\"#mefca631c5e\" y=\"240.732881\"/>\n     <use style=\"fill-opacity:0.1;stroke:#000000;stroke-opacity:0.1;\" x=\"559.964773\" xlink:href=\"#mefca631c5e\" y=\"210.880222\"/>\n     <use style=\"fill-opacity:0.1;stroke:#000000;stroke-opacity:0.1;\" x=\"593.982765\" xlink:href=\"#mefca631c5e\" y=\"255.366334\"/>\n     <use style=\"fill-opacity:0.1;stroke:#000000;stroke-opacity:0.1;\" x=\"599.016381\" xlink:href=\"#mefca631c5e\" y=\"264.096649\"/>\n     <use style=\"fill-opacity:0.1;stroke:#000000;stroke-opacity:0.1;\" x=\"626.519366\" xlink:href=\"#mefca631c5e\" y=\"274.155954\"/>\n     <use style=\"fill-opacity:0.1;stroke:#000000;stroke-opacity:0.1;\" x=\"632.663264\" xlink:href=\"#mefca631c5e\" y=\"226.884648\"/>\n     <use style=\"fill-opacity:0.1;stroke:#000000;stroke-opacity:0.1;\" x=\"651.390942\" xlink:href=\"#mefca631c5e\" y=\"268.160549\"/>\n     <use style=\"fill-opacity:0.1;stroke:#000000;stroke-opacity:0.1;\" x=\"588.456917\" xlink:href=\"#mefca631c5e\" y=\"214.981411\"/>\n     <use style=\"fill-opacity:0.1;stroke:#000000;stroke-opacity:0.1;\" x=\"621.095686\" xlink:href=\"#mefca631c5e\" y=\"231.668391\"/>\n     <use style=\"fill-opacity:0.1;stroke:#000000;stroke-opacity:0.1;\" x=\"621.034516\" xlink:href=\"#mefca631c5e\" y=\"266.479696\"/>\n     <use style=\"fill-opacity:0.1;stroke:#000000;stroke-opacity:0.1;\" x=\"581.987994\" xlink:href=\"#mefca631c5e\" y=\"258.610618\"/>\n     <use style=\"fill-opacity:0.1;stroke:#000000;stroke-opacity:0.1;\" x=\"586.431732\" xlink:href=\"#mefca631c5e\" y=\"253.501309\"/>\n     <use style=\"fill-opacity:0.1;stroke:#000000;stroke-opacity:0.1;\" x=\"619.349355\" xlink:href=\"#mefca631c5e\" y=\"239.140219\"/>\n     <use style=\"fill-opacity:0.1;stroke:#000000;stroke-opacity:0.1;\" x=\"559.046131\" xlink:href=\"#mefca631c5e\" y=\"227.051143\"/>\n     <use style=\"fill-opacity:0.1;stroke:#000000;stroke-opacity:0.1;\" x=\"632.103124\" xlink:href=\"#mefca631c5e\" y=\"272.076989\"/>\n     <use style=\"fill-opacity:0.1;stroke:#000000;stroke-opacity:0.1;\" x=\"597.930445\" xlink:href=\"#mefca631c5e\" y=\"269.931181\"/>\n     <use style=\"fill-opacity:0.1;stroke:#000000;stroke-opacity:0.1;\" x=\"638.293019\" xlink:href=\"#mefca631c5e\" y=\"256.638758\"/>\n     <use style=\"fill-opacity:0.1;stroke:#000000;stroke-opacity:0.1;\" x=\"590.546707\" xlink:href=\"#mefca631c5e\" y=\"241.165874\"/>\n     <use style=\"fill-opacity:0.1;stroke:#000000;stroke-opacity:0.1;\" x=\"571.907676\" xlink:href=\"#mefca631c5e\" y=\"237.40954\"/>\n     <use style=\"fill-opacity:0.1;stroke:#000000;stroke-opacity:0.1;\" x=\"588.660557\" xlink:href=\"#mefca631c5e\" y=\"230.546845\"/>\n     <use style=\"fill-opacity:0.1;stroke:#000000;stroke-opacity:0.1;\" x=\"572.34026\" xlink:href=\"#mefca631c5e\" y=\"242.32904\"/>\n     <use style=\"fill-opacity:0.1;stroke:#000000;stroke-opacity:0.1;\" x=\"584.165344\" xlink:href=\"#mefca631c5e\" y=\"260.182954\"/>\n     <use style=\"fill-opacity:0.1;stroke:#000000;stroke-opacity:0.1;\" x=\"569.088582\" xlink:href=\"#mefca631c5e\" y=\"263.621229\"/>\n     <use style=\"fill-opacity:0.1;stroke:#000000;stroke-opacity:0.1;\" x=\"597.819669\" xlink:href=\"#mefca631c5e\" y=\"234.333581\"/>\n     <use style=\"fill-opacity:0.1;stroke:#000000;stroke-opacity:0.1;\" x=\"581.294035\" xlink:href=\"#mefca631c5e\" y=\"270.095269\"/>\n     <use style=\"fill-opacity:0.1;stroke:#000000;stroke-opacity:0.1;\" x=\"556.040222\" xlink:href=\"#mefca631c5e\" y=\"240.957718\"/>\n     <use style=\"fill-opacity:0.1;stroke:#000000;stroke-opacity:0.1;\" x=\"573.838649\" xlink:href=\"#mefca631c5e\" y=\"248.015426\"/>\n     <use style=\"fill-opacity:0.1;stroke:#000000;stroke-opacity:0.1;\" x=\"569.450126\" xlink:href=\"#mefca631c5e\" y=\"239.644386\"/>\n     <use style=\"fill-opacity:0.1;stroke:#000000;stroke-opacity:0.1;\" x=\"596.089771\" xlink:href=\"#mefca631c5e\" y=\"257.002029\"/>\n     <use style=\"fill-opacity:0.1;stroke:#000000;stroke-opacity:0.1;\" x=\"589.148354\" xlink:href=\"#mefca631c5e\" y=\"240.782452\"/>\n     <use style=\"fill-opacity:0.1;stroke:#000000;stroke-opacity:0.1;\" x=\"592.17748\" xlink:href=\"#mefca631c5e\" y=\"246.531873\"/>\n     <use style=\"fill-opacity:0.1;stroke:#000000;stroke-opacity:0.1;\" x=\"605.960145\" xlink:href=\"#mefca631c5e\" y=\"234.86071\"/>\n     <use style=\"fill-opacity:0.1;stroke:#000000;stroke-opacity:0.1;\" x=\"590.700132\" xlink:href=\"#mefca631c5e\" y=\"260.284301\"/>\n     <use style=\"fill-opacity:0.1;stroke:#000000;stroke-opacity:0.1;\" x=\"625.056844\" xlink:href=\"#mefca631c5e\" y=\"271.274484\"/>\n     <use style=\"fill-opacity:0.1;stroke:#000000;stroke-opacity:0.1;\" x=\"638.641086\" xlink:href=\"#mefca631c5e\" y=\"270.212839\"/>\n     <use style=\"fill-opacity:0.1;stroke:#000000;stroke-opacity:0.1;\" x=\"595.42894\" xlink:href=\"#mefca631c5e\" y=\"226.182239\"/>\n     <use style=\"fill-opacity:0.1;stroke:#000000;stroke-opacity:0.1;\" x=\"598.426024\" xlink:href=\"#mefca631c5e\" y=\"231.834591\"/>\n     <use style=\"fill-opacity:0.1;stroke:#000000;stroke-opacity:0.1;\" x=\"571.542002\" xlink:href=\"#mefca631c5e\" y=\"234.791621\"/>\n     <use style=\"fill-opacity:0.1;stroke:#000000;stroke-opacity:0.1;\" x=\"619.909756\" xlink:href=\"#mefca631c5e\" y=\"258.973189\"/>\n     <use style=\"fill-opacity:0.1;stroke:#000000;stroke-opacity:0.1;\" x=\"596.35819\" xlink:href=\"#mefca631c5e\" y=\"248.614039\"/>\n     <use style=\"fill-opacity:0.1;stroke:#000000;stroke-opacity:0.1;\" x=\"598.039134\" xlink:href=\"#mefca631c5e\" y=\"228.961393\"/>\n     <use style=\"fill-opacity:0.1;stroke:#000000;stroke-opacity:0.1;\" x=\"633.241752\" xlink:href=\"#mefca631c5e\" y=\"252.805021\"/>\n     <use style=\"fill-opacity:0.1;stroke:#000000;stroke-opacity:0.1;\" x=\"640.065219\" xlink:href=\"#mefca631c5e\" y=\"258.246324\"/>\n     <use style=\"fill-opacity:0.1;stroke:#000000;stroke-opacity:0.1;\" x=\"617.643977\" xlink:href=\"#mefca631c5e\" y=\"275.302588\"/>\n     <use style=\"fill-opacity:0.1;stroke:#000000;stroke-opacity:0.1;\" x=\"597.608464\" xlink:href=\"#mefca631c5e\" y=\"251.933655\"/>\n     <use style=\"fill-opacity:0.1;stroke:#000000;stroke-opacity:0.1;\" x=\"568.135725\" xlink:href=\"#mefca631c5e\" y=\"240.783286\"/>\n     <use style=\"fill-opacity:0.1;stroke:#000000;stroke-opacity:0.1;\" x=\"601.024088\" xlink:href=\"#mefca631c5e\" y=\"281.76358\"/>\n     <use style=\"fill-opacity:0.1;stroke:#000000;stroke-opacity:0.1;\" x=\"579.755257\" xlink:href=\"#mefca631c5e\" y=\"249.651847\"/>\n     <use style=\"fill-opacity:0.1;stroke:#000000;stroke-opacity:0.1;\" x=\"618.340197\" xlink:href=\"#mefca631c5e\" y=\"240.591608\"/>\n     <use style=\"fill-opacity:0.1;stroke:#000000;stroke-opacity:0.1;\" x=\"603.794055\" xlink:href=\"#mefca631c5e\" y=\"251.465458\"/>\n     <use style=\"fill-opacity:0.1;stroke:#000000;stroke-opacity:0.1;\" x=\"572.059624\" xlink:href=\"#mefca631c5e\" y=\"241.123904\"/>\n     <use style=\"fill-opacity:0.1;stroke:#000000;stroke-opacity:0.1;\" x=\"586.896053\" xlink:href=\"#mefca631c5e\" y=\"225.929072\"/>\n     <use style=\"fill-opacity:0.1;stroke:#000000;stroke-opacity:0.1;\" x=\"610.702256\" xlink:href=\"#mefca631c5e\" y=\"250.954269\"/>\n     <use style=\"fill-opacity:0.1;stroke:#000000;stroke-opacity:0.1;\" x=\"579.636829\" xlink:href=\"#mefca631c5e\" y=\"241.870879\"/>\n     <use style=\"fill-opacity:0.1;stroke:#000000;stroke-opacity:0.1;\" x=\"591.459566\" xlink:href=\"#mefca631c5e\" y=\"235.463844\"/>\n     <use style=\"fill-opacity:0.1;stroke:#000000;stroke-opacity:0.1;\" x=\"571.200196\" xlink:href=\"#mefca631c5e\" y=\"224.596814\"/>\n     <use style=\"fill-opacity:0.1;stroke:#000000;stroke-opacity:0.1;\" x=\"582.546048\" xlink:href=\"#mefca631c5e\" y=\"244.697559\"/>\n     <use style=\"fill-opacity:0.1;stroke:#000000;stroke-opacity:0.1;\" x=\"645.277868\" xlink:href=\"#mefca631c5e\" y=\"261.260808\"/>\n     <use style=\"fill-opacity:0.1;stroke:#000000;stroke-opacity:0.1;\" x=\"585.124896\" xlink:href=\"#mefca631c5e\" y=\"248.806928\"/>\n     <use style=\"fill-opacity:0.1;stroke:#000000;stroke-opacity:0.1;\" x=\"595.035311\" xlink:href=\"#mefca631c5e\" y=\"261.165568\"/>\n     <use style=\"fill-opacity:0.1;stroke:#000000;stroke-opacity:0.1;\" x=\"616.618298\" xlink:href=\"#mefca631c5e\" y=\"266.927755\"/>\n     <use style=\"fill-opacity:0.1;stroke:#000000;stroke-opacity:0.1;\" x=\"618.265419\" xlink:href=\"#mefca631c5e\" y=\"254.85236\"/>\n     <use style=\"fill-opacity:0.1;stroke:#000000;stroke-opacity:0.1;\" x=\"618.581183\" xlink:href=\"#mefca631c5e\" y=\"250.084665\"/>\n     <use style=\"fill-opacity:0.1;stroke:#000000;stroke-opacity:0.1;\" x=\"599.956586\" xlink:href=\"#mefca631c5e\" y=\"273.837814\"/>\n     <use style=\"fill-opacity:0.1;stroke:#000000;stroke-opacity:0.1;\" x=\"601.626314\" xlink:href=\"#mefca631c5e\" y=\"270.074014\"/>\n     <use style=\"fill-opacity:0.1;stroke:#000000;stroke-opacity:0.1;\" x=\"589.607066\" xlink:href=\"#mefca631c5e\" y=\"274.024313\"/>\n     <use style=\"fill-opacity:0.1;stroke:#000000;stroke-opacity:0.1;\" x=\"680.259325\" xlink:href=\"#mefca631c5e\" y=\"272.046345\"/>\n     <use style=\"fill-opacity:0.1;stroke:#000000;stroke-opacity:0.1;\" x=\"608.989183\" xlink:href=\"#mefca631c5e\" y=\"241.150982\"/>\n     <use style=\"fill-opacity:0.1;stroke:#000000;stroke-opacity:0.1;\" x=\"582.523006\" xlink:href=\"#mefca631c5e\" y=\"261.508594\"/>\n     <use style=\"fill-opacity:0.1;stroke:#000000;stroke-opacity:0.1;\" x=\"555.257746\" xlink:href=\"#mefca631c5e\" y=\"258.613523\"/>\n     <use style=\"fill-opacity:0.1;stroke:#000000;stroke-opacity:0.1;\" x=\"615.412978\" xlink:href=\"#mefca631c5e\" y=\"252.850004\"/>\n     <use style=\"fill-opacity:0.1;stroke:#000000;stroke-opacity:0.1;\" x=\"569.77202\" xlink:href=\"#mefca631c5e\" y=\"236.250301\"/>\n     <use style=\"fill-opacity:0.1;stroke:#000000;stroke-opacity:0.1;\" x=\"619.836804\" xlink:href=\"#mefca631c5e\" y=\"228.529315\"/>\n    </g>\n   </g>\n   <g id=\"patch_9\">\n    <path d=\"M 398.275368 294.118125 \nL 398.275368 22.318125 \n\" style=\"fill:none;stroke:#000000;stroke-linecap:square;stroke-linejoin:miter;stroke-width:0.8;\"/>\n   </g>\n   <g id=\"patch_10\">\n    <path d=\"M 693.687132 294.118125 \nL 693.687132 22.318125 \n\" style=\"fill:none;stroke:#000000;stroke-linecap:square;stroke-linejoin:miter;stroke-width:0.8;\"/>\n   </g>\n   <g id=\"patch_11\">\n    <path d=\"M 398.275368 294.118125 \nL 693.687132 294.118125 \n\" style=\"fill:none;stroke:#000000;stroke-linecap:square;stroke-linejoin:miter;stroke-width:0.8;\"/>\n   </g>\n   <g id=\"patch_12\">\n    <path d=\"M 398.275368 22.318125 \nL 693.687132 22.318125 \n\" style=\"fill:none;stroke:#000000;stroke-linecap:square;stroke-linejoin:miter;stroke-width:0.8;\"/>\n   </g>\n  </g>\n  <g id=\"axes_3\">\n   <g id=\"patch_13\">\n    <path d=\"M 752.769485 294.118125 \nL 1048.18125 294.118125 \nL 1048.18125 22.318125 \nL 752.769485 22.318125 \nz\n\" style=\"fill:#ffffff;\"/>\n   </g>\n   <g id=\"matplotlib.axis_5\">\n    <g id=\"xtick_18\">\n     <g id=\"line2d_38\">\n      <g>\n       <use style=\"stroke:#000000;stroke-width:0.8;\" x=\"766.197293\" xlink:href=\"#m5da3984d9f\" y=\"294.118125\"/>\n      </g>\n     </g>\n     <g id=\"text_38\">\n      <!-- 0 -->\n      <g transform=\"translate(763.016043 308.716563)scale(0.1 -0.1)\">\n       <use xlink:href=\"#DejaVuSans-48\"/>\n      </g>\n     </g>\n    </g>\n    <g id=\"xtick_19\">\n     <g id=\"line2d_39\">\n      <g>\n       <use style=\"stroke:#000000;stroke-width:0.8;\" x=\"799.783605\" xlink:href=\"#m5da3984d9f\" y=\"294.118125\"/>\n      </g>\n     </g>\n     <g id=\"text_39\">\n      <!-- 250 -->\n      <g transform=\"translate(790.239855 308.716563)scale(0.1 -0.1)\">\n       <use xlink:href=\"#DejaVuSans-50\"/>\n       <use x=\"63.623047\" xlink:href=\"#DejaVuSans-53\"/>\n       <use x=\"127.246094\" xlink:href=\"#DejaVuSans-48\"/>\n      </g>\n     </g>\n    </g>\n    <g id=\"xtick_20\">\n     <g id=\"line2d_40\">\n      <g>\n       <use style=\"stroke:#000000;stroke-width:0.8;\" x=\"833.369917\" xlink:href=\"#m5da3984d9f\" y=\"294.118125\"/>\n      </g>\n     </g>\n     <g id=\"text_40\">\n      <!-- 500 -->\n      <g transform=\"translate(823.826167 308.716563)scale(0.1 -0.1)\">\n       <use xlink:href=\"#DejaVuSans-53\"/>\n       <use x=\"63.623047\" xlink:href=\"#DejaVuSans-48\"/>\n       <use x=\"127.246094\" xlink:href=\"#DejaVuSans-48\"/>\n      </g>\n     </g>\n    </g>\n    <g id=\"xtick_21\">\n     <g id=\"line2d_41\">\n      <g>\n       <use style=\"stroke:#000000;stroke-width:0.8;\" x=\"866.956228\" xlink:href=\"#m5da3984d9f\" y=\"294.118125\"/>\n      </g>\n     </g>\n     <g id=\"text_41\">\n      <!-- 750 -->\n      <g transform=\"translate(857.412478 308.716563)scale(0.1 -0.1)\">\n       <use xlink:href=\"#DejaVuSans-55\"/>\n       <use x=\"63.623047\" xlink:href=\"#DejaVuSans-53\"/>\n       <use x=\"127.246094\" xlink:href=\"#DejaVuSans-48\"/>\n      </g>\n     </g>\n    </g>\n    <g id=\"xtick_22\">\n     <g id=\"line2d_42\">\n      <g>\n       <use style=\"stroke:#000000;stroke-width:0.8;\" x=\"900.54254\" xlink:href=\"#m5da3984d9f\" y=\"294.118125\"/>\n      </g>\n     </g>\n     <g id=\"text_42\">\n      <!-- 1000 -->\n      <g transform=\"translate(887.81754 308.716563)scale(0.1 -0.1)\">\n       <use xlink:href=\"#DejaVuSans-49\"/>\n       <use x=\"63.623047\" xlink:href=\"#DejaVuSans-48\"/>\n       <use x=\"127.246094\" xlink:href=\"#DejaVuSans-48\"/>\n       <use x=\"190.869141\" xlink:href=\"#DejaVuSans-48\"/>\n      </g>\n     </g>\n    </g>\n    <g id=\"xtick_23\">\n     <g id=\"line2d_43\">\n      <g>\n       <use style=\"stroke:#000000;stroke-width:0.8;\" x=\"934.128852\" xlink:href=\"#m5da3984d9f\" y=\"294.118125\"/>\n      </g>\n     </g>\n     <g id=\"text_43\">\n      <!-- 1250 -->\n      <g transform=\"translate(921.403852 308.716563)scale(0.1 -0.1)\">\n       <use xlink:href=\"#DejaVuSans-49\"/>\n       <use x=\"63.623047\" xlink:href=\"#DejaVuSans-50\"/>\n       <use x=\"127.246094\" xlink:href=\"#DejaVuSans-53\"/>\n       <use x=\"190.869141\" xlink:href=\"#DejaVuSans-48\"/>\n      </g>\n     </g>\n    </g>\n    <g id=\"xtick_24\">\n     <g id=\"line2d_44\">\n      <g>\n       <use style=\"stroke:#000000;stroke-width:0.8;\" x=\"967.715164\" xlink:href=\"#m5da3984d9f\" y=\"294.118125\"/>\n      </g>\n     </g>\n     <g id=\"text_44\">\n      <!-- 1500 -->\n      <g transform=\"translate(954.990164 308.716563)scale(0.1 -0.1)\">\n       <use xlink:href=\"#DejaVuSans-49\"/>\n       <use x=\"63.623047\" xlink:href=\"#DejaVuSans-53\"/>\n       <use x=\"127.246094\" xlink:href=\"#DejaVuSans-48\"/>\n       <use x=\"190.869141\" xlink:href=\"#DejaVuSans-48\"/>\n      </g>\n     </g>\n    </g>\n    <g id=\"xtick_25\">\n     <g id=\"line2d_45\">\n      <g>\n       <use style=\"stroke:#000000;stroke-width:0.8;\" x=\"1001.301476\" xlink:href=\"#m5da3984d9f\" y=\"294.118125\"/>\n      </g>\n     </g>\n     <g id=\"text_45\">\n      <!-- 1750 -->\n      <g transform=\"translate(988.576476 308.716563)scale(0.1 -0.1)\">\n       <use xlink:href=\"#DejaVuSans-49\"/>\n       <use x=\"63.623047\" xlink:href=\"#DejaVuSans-55\"/>\n       <use x=\"127.246094\" xlink:href=\"#DejaVuSans-53\"/>\n       <use x=\"190.869141\" xlink:href=\"#DejaVuSans-48\"/>\n      </g>\n     </g>\n    </g>\n    <g id=\"xtick_26\">\n     <g id=\"line2d_46\">\n      <g>\n       <use style=\"stroke:#000000;stroke-width:0.8;\" x=\"1034.887788\" xlink:href=\"#m5da3984d9f\" y=\"294.118125\"/>\n      </g>\n     </g>\n     <g id=\"text_46\">\n      <!-- 2000 -->\n      <g transform=\"translate(1022.162788 308.716563)scale(0.1 -0.1)\">\n       <use xlink:href=\"#DejaVuSans-50\"/>\n       <use x=\"63.623047\" xlink:href=\"#DejaVuSans-48\"/>\n       <use x=\"127.246094\" xlink:href=\"#DejaVuSans-48\"/>\n       <use x=\"190.869141\" xlink:href=\"#DejaVuSans-48\"/>\n      </g>\n     </g>\n    </g>\n    <g id=\"text_47\">\n     <!-- Epochs -->\n     <g transform=\"translate(882.559743 322.394687)scale(0.1 -0.1)\">\n      <use xlink:href=\"#DejaVuSans-69\"/>\n      <use x=\"63.183594\" xlink:href=\"#DejaVuSans-112\"/>\n      <use x=\"126.660156\" xlink:href=\"#DejaVuSans-111\"/>\n      <use x=\"187.841797\" xlink:href=\"#DejaVuSans-99\"/>\n      <use x=\"242.822266\" xlink:href=\"#DejaVuSans-104\"/>\n      <use x=\"306.201172\" xlink:href=\"#DejaVuSans-115\"/>\n     </g>\n    </g>\n   </g>\n   <g id=\"matplotlib.axis_6\">\n    <g id=\"ytick_14\">\n     <g id=\"line2d_47\">\n      <g>\n       <use style=\"stroke:#000000;stroke-width:0.8;\" x=\"752.769485\" xlink:href=\"#m1adf709e0c\" y=\"238.406118\"/>\n      </g>\n     </g>\n     <g id=\"text_48\">\n      <!-- 0.2 -->\n      <g transform=\"translate(729.86636 242.205337)scale(0.1 -0.1)\">\n       <use xlink:href=\"#DejaVuSans-48\"/>\n       <use x=\"63.623047\" xlink:href=\"#DejaVuSans-46\"/>\n       <use x=\"95.410156\" xlink:href=\"#DejaVuSans-50\"/>\n      </g>\n     </g>\n    </g>\n    <g id=\"ytick_15\">\n     <g id=\"line2d_48\">\n      <g>\n       <use style=\"stroke:#000000;stroke-width:0.8;\" x=\"752.769485\" xlink:href=\"#m1adf709e0c\" y=\"178.731333\"/>\n      </g>\n     </g>\n     <g id=\"text_49\">\n      <!-- 0.4 -->\n      <g transform=\"translate(729.86636 182.530551)scale(0.1 -0.1)\">\n       <use xlink:href=\"#DejaVuSans-48\"/>\n       <use x=\"63.623047\" xlink:href=\"#DejaVuSans-46\"/>\n       <use x=\"95.410156\" xlink:href=\"#DejaVuSans-52\"/>\n      </g>\n     </g>\n    </g>\n    <g id=\"ytick_16\">\n     <g id=\"line2d_49\">\n      <g>\n       <use style=\"stroke:#000000;stroke-width:0.8;\" x=\"752.769485\" xlink:href=\"#m1adf709e0c\" y=\"119.056547\"/>\n      </g>\n     </g>\n     <g id=\"text_50\">\n      <!-- 0.6 -->\n      <g transform=\"translate(729.86636 122.855766)scale(0.1 -0.1)\">\n       <use xlink:href=\"#DejaVuSans-48\"/>\n       <use x=\"63.623047\" xlink:href=\"#DejaVuSans-46\"/>\n       <use x=\"95.410156\" xlink:href=\"#DejaVuSans-54\"/>\n      </g>\n     </g>\n    </g>\n    <g id=\"ytick_17\">\n     <g id=\"line2d_50\">\n      <g>\n       <use style=\"stroke:#000000;stroke-width:0.8;\" x=\"752.769485\" xlink:href=\"#m1adf709e0c\" y=\"59.381761\"/>\n      </g>\n     </g>\n     <g id=\"text_51\">\n      <!-- 0.8 -->\n      <g transform=\"translate(729.86636 63.18098)scale(0.1 -0.1)\">\n       <use xlink:href=\"#DejaVuSans-48\"/>\n       <use x=\"63.623047\" xlink:href=\"#DejaVuSans-46\"/>\n       <use x=\"95.410156\" xlink:href=\"#DejaVuSans-56\"/>\n      </g>\n     </g>\n    </g>\n    <g id=\"text_52\">\n     <!-- Probablity (\"real\") -->\n     <defs>\n      <path d=\"M 19.671875 64.796875 \nL 19.671875 37.40625 \nL 32.078125 37.40625 \nQ 38.96875 37.40625 42.71875 40.96875 \nQ 46.484375 44.53125 46.484375 51.125 \nQ 46.484375 57.671875 42.71875 61.234375 \nQ 38.96875 64.796875 32.078125 64.796875 \nz\nM 9.8125 72.90625 \nL 32.078125 72.90625 \nQ 44.34375 72.90625 50.609375 67.359375 \nQ 56.890625 61.8125 56.890625 51.125 \nQ 56.890625 40.328125 50.609375 34.8125 \nQ 44.34375 29.296875 32.078125 29.296875 \nL 19.671875 29.296875 \nL 19.671875 0 \nL 9.8125 0 \nz\n\" id=\"DejaVuSans-80\"/>\n      <path d=\"M 48.6875 27.296875 \nQ 48.6875 37.203125 44.609375 42.84375 \nQ 40.53125 48.484375 33.40625 48.484375 \nQ 26.265625 48.484375 22.1875 42.84375 \nQ 18.109375 37.203125 18.109375 27.296875 \nQ 18.109375 17.390625 22.1875 11.75 \nQ 26.265625 6.109375 33.40625 6.109375 \nQ 40.53125 6.109375 44.609375 11.75 \nQ 48.6875 17.390625 48.6875 27.296875 \nz\nM 18.109375 46.390625 \nQ 20.953125 51.265625 25.265625 53.625 \nQ 29.59375 56 35.59375 56 \nQ 45.5625 56 51.78125 48.09375 \nQ 58.015625 40.1875 58.015625 27.296875 \nQ 58.015625 14.40625 51.78125 6.484375 \nQ 45.5625 -1.421875 35.59375 -1.421875 \nQ 29.59375 -1.421875 25.265625 0.953125 \nQ 20.953125 3.328125 18.109375 8.203125 \nL 18.109375 0 \nL 9.078125 0 \nL 9.078125 75.984375 \nL 18.109375 75.984375 \nz\n\" id=\"DejaVuSans-98\"/>\n      <path d=\"M 32.171875 -5.078125 \nQ 28.375 -14.84375 24.75 -17.8125 \nQ 21.140625 -20.796875 15.09375 -20.796875 \nL 7.90625 -20.796875 \nL 7.90625 -13.28125 \nL 13.1875 -13.28125 \nQ 16.890625 -13.28125 18.9375 -11.515625 \nQ 21 -9.765625 23.484375 -3.21875 \nL 25.09375 0.875 \nL 2.984375 54.6875 \nL 12.5 54.6875 \nL 29.59375 11.921875 \nL 46.6875 54.6875 \nL 56.203125 54.6875 \nz\n\" id=\"DejaVuSans-121\"/>\n      <path d=\"M 31 75.875 \nQ 24.46875 64.65625 21.28125 53.65625 \nQ 18.109375 42.671875 18.109375 31.390625 \nQ 18.109375 20.125 21.3125 9.0625 \nQ 24.515625 -2 31 -13.1875 \nL 23.1875 -13.1875 \nQ 15.875 -1.703125 12.234375 9.375 \nQ 8.59375 20.453125 8.59375 31.390625 \nQ 8.59375 42.28125 12.203125 53.3125 \nQ 15.828125 64.359375 23.1875 75.875 \nz\n\" id=\"DejaVuSans-40\"/>\n      <path d=\"M 17.921875 72.90625 \nL 17.921875 45.796875 \nL 9.625 45.796875 \nL 9.625 72.90625 \nz\nM 36.375 72.90625 \nL 36.375 45.796875 \nL 28.078125 45.796875 \nL 28.078125 72.90625 \nz\n\" id=\"DejaVuSans-34\"/>\n      <path d=\"M 8.015625 75.875 \nL 15.828125 75.875 \nQ 23.140625 64.359375 26.78125 53.3125 \nQ 30.421875 42.28125 30.421875 31.390625 \nQ 30.421875 20.453125 26.78125 9.375 \nQ 23.140625 -1.703125 15.828125 -13.1875 \nL 8.015625 -13.1875 \nQ 14.5 -2 17.703125 9.0625 \nQ 20.90625 20.125 20.90625 31.390625 \nQ 20.90625 42.671875 17.703125 53.65625 \nQ 14.5 64.65625 8.015625 75.875 \nz\n\" id=\"DejaVuSans-41\"/>\n     </defs>\n     <g transform=\"translate(723.786673 202.82125)rotate(-90)scale(0.1 -0.1)\">\n      <use xlink:href=\"#DejaVuSans-80\"/>\n      <use x=\"58.552734\" xlink:href=\"#DejaVuSans-114\"/>\n      <use x=\"97.416016\" xlink:href=\"#DejaVuSans-111\"/>\n      <use x=\"158.597656\" xlink:href=\"#DejaVuSans-98\"/>\n      <use x=\"222.074219\" xlink:href=\"#DejaVuSans-97\"/>\n      <use x=\"283.353516\" xlink:href=\"#DejaVuSans-98\"/>\n      <use x=\"346.830078\" xlink:href=\"#DejaVuSans-108\"/>\n      <use x=\"374.613281\" xlink:href=\"#DejaVuSans-105\"/>\n      <use x=\"402.396484\" xlink:href=\"#DejaVuSans-116\"/>\n      <use x=\"441.605469\" xlink:href=\"#DejaVuSans-121\"/>\n      <use x=\"500.785156\" xlink:href=\"#DejaVuSans-32\"/>\n      <use x=\"532.572266\" xlink:href=\"#DejaVuSans-40\"/>\n      <use x=\"571.585938\" xlink:href=\"#DejaVuSans-34\"/>\n      <use x=\"617.582031\" xlink:href=\"#DejaVuSans-114\"/>\n      <use x=\"656.445312\" xlink:href=\"#DejaVuSans-101\"/>\n      <use x=\"717.96875\" xlink:href=\"#DejaVuSans-97\"/>\n      <use x=\"779.248047\" xlink:href=\"#DejaVuSans-108\"/>\n      <use x=\"807.03125\" xlink:href=\"#DejaVuSans-34\"/>\n      <use x=\"853.027344\" xlink:href=\"#DejaVuSans-41\"/>\n     </g>\n    </g>\n   </g>\n   <g id=\"line2d_51\">\n    <path clip-path=\"url(#p58fa2ec96f)\" d=\"M 766.197293 76.631504 \nL 766.331638 83.624643 \nL 766.600329 76.631504 \nL 766.734674 134.907662 \nL 766.869019 76.631504 \nL 767.003364 88.286736 \nL 767.13771 85.955689 \nL 767.272055 85.955689 \nL 767.4064 62.645226 \nL 767.540745 85.955689 \nL 767.675091 62.645226 \nL 767.809436 85.955689 \nL 767.943781 88.286736 \nL 768.078126 85.955689 \nL 768.346817 37.003717 \nL 768.615507 85.955689 \nL 768.884198 74.300458 \nL 769.018543 102.273014 \nL 769.287233 48.658948 \nL 769.421579 123.25243 \nL 769.690269 62.645226 \nL 769.824614 69.638365 \nL 769.95896 104.60406 \nL 770.093305 78.96255 \nL 770.22765 81.293597 \nL 770.361995 74.300458 \nL 770.496341 74.300458 \nL 770.630686 81.293597 \nL 770.765031 62.645226 \nL 770.899376 111.597199 \nL 771.033722 78.96255 \nL 771.168067 106.935106 \nL 771.571103 34.67267 \nL 771.839793 111.597199 \nL 772.108484 48.658948 \nL 772.511519 109.266152 \nL 772.645865 102.273014 \nL 772.78021 78.96255 \nL 772.914555 88.286736 \nL 773.0489 78.96255 \nL 773.183246 48.658948 \nL 773.317591 113.928245 \nL 773.586281 60.31418 \nL 773.720627 99.941967 \nL 773.854972 95.279875 \nL 773.989317 97.610921 \nL 774.123662 88.286736 \nL 774.258008 64.976273 \nL 774.392353 144.231847 \nL 774.795389 64.976273 \nL 774.929734 95.279875 \nL 775.064079 69.638365 \nL 775.198424 71.969411 \nL 775.33277 102.273014 \nL 775.467115 97.610921 \nL 775.735805 69.638365 \nL 775.870151 102.273014 \nL 776.004496 71.969411 \nL 776.273186 127.914523 \nL 776.541877 78.96255 \nL 776.676222 109.266152 \nL 776.810567 109.266152 \nL 776.944913 92.948828 \nL 777.079258 123.25243 \nL 777.213603 62.645226 \nL 777.347948 69.638365 \nL 777.482294 64.976273 \nL 777.616639 55.652087 \nL 777.750984 113.928245 \nL 777.885329 53.321041 \nL 778.019675 74.300458 \nL 778.15402 74.300458 \nL 778.288365 99.941967 \nL 778.42271 92.948828 \nL 778.557056 67.307319 \nL 778.691401 81.293597 \nL 778.825746 106.935106 \nL 778.960091 71.969411 \nL 779.094437 76.631504 \nL 779.228782 113.928245 \nL 779.497472 62.645226 \nL 779.766163 81.293597 \nL 779.900508 46.327902 \nL 780.169199 64.976273 \nL 780.303544 71.969411 \nL 780.437889 118.590338 \nL 780.572234 104.60406 \nL 780.70658 78.96255 \nL 780.840925 85.955689 \nL 780.97527 81.293597 \nL 781.109615 95.279875 \nL 781.378306 74.300458 \nL 781.512651 99.941967 \nL 781.646996 81.293597 \nL 781.781341 78.96255 \nL 781.915687 102.273014 \nL 782.050032 95.279875 \nL 782.184377 99.941967 \nL 782.318722 78.96255 \nL 782.453068 85.955689 \nL 782.721758 78.96255 \nL 782.856103 60.31418 \nL 782.990449 81.293597 \nL 783.124794 71.969411 \nL 783.259139 90.617782 \nL 783.393484 127.914523 \nL 783.52783 76.631504 \nL 783.662175 104.60406 \nL 783.79652 46.327902 \nL 783.930865 60.31418 \nL 784.065211 118.590338 \nL 784.333901 62.645226 \nL 784.468246 76.631504 \nL 784.602592 102.273014 \nL 784.736937 74.300458 \nL 784.871282 99.941967 \nL 785.005627 74.300458 \nL 785.274318 95.279875 \nL 785.408663 81.293597 \nL 785.543008 85.955689 \nL 785.677354 85.955689 \nL 785.811699 106.935106 \nL 785.946044 102.273014 \nL 786.080389 109.266152 \nL 786.214735 88.286736 \nL 786.34908 104.60406 \nL 786.483425 76.631504 \nL 786.61777 111.597199 \nL 786.752116 78.96255 \nL 786.886461 113.928245 \nL 787.155151 71.969411 \nL 787.289497 85.955689 \nL 787.423842 81.293597 \nL 787.692532 95.279875 \nL 787.826878 81.293597 \nL 788.095568 104.60406 \nL 788.229913 88.286736 \nL 788.364259 120.921384 \nL 788.498604 81.293597 \nL 788.632949 116.259291 \nL 788.90164 83.624643 \nL 789.035985 109.266152 \nL 789.439021 95.279875 \nL 789.573366 109.266152 \nL 789.842056 71.969411 \nL 789.976402 120.921384 \nL 790.110747 67.307319 \nL 790.245092 88.286736 \nL 790.379437 90.617782 \nL 790.513783 83.624643 \nL 790.648128 69.638365 \nL 790.782473 90.617782 \nL 790.916818 85.955689 \nL 791.051164 95.279875 \nL 791.185509 90.617782 \nL 791.319854 109.266152 \nL 791.588545 81.293597 \nL 791.72289 95.279875 \nL 791.857235 92.948828 \nL 791.99158 97.610921 \nL 792.125926 85.955689 \nL 792.260271 99.941967 \nL 792.394616 71.969411 \nL 792.528961 74.300458 \nL 792.663307 67.307319 \nL 792.797652 78.96255 \nL 792.931997 69.638365 \nL 793.066342 71.969411 \nL 793.200688 55.652087 \nL 793.335033 88.286736 \nL 793.469378 83.624643 \nL 793.738069 104.60406 \nL 793.872414 88.286736 \nL 794.006759 92.948828 \nL 794.141104 83.624643 \nL 794.27545 120.921384 \nL 794.409795 92.948828 \nL 794.54414 99.941967 \nL 794.678485 123.25243 \nL 794.947176 85.955689 \nL 795.081521 60.31418 \nL 795.215866 64.976273 \nL 795.350211 78.96255 \nL 795.484557 64.976273 \nL 795.618902 69.638365 \nL 795.753247 125.583477 \nL 795.887592 88.286736 \nL 796.021938 83.624643 \nL 796.156283 83.624643 \nL 796.290628 92.948828 \nL 796.424973 55.652087 \nL 796.559319 116.259291 \nL 796.693664 99.941967 \nL 797.0967 111.597199 \nL 797.231045 95.279875 \nL 797.36539 104.60406 \nL 797.499735 130.245569 \nL 797.634081 120.921384 \nL 797.768426 81.293597 \nL 797.902771 88.286736 \nL 798.037116 85.955689 \nL 798.305807 104.60406 \nL 798.440152 88.286736 \nL 798.574497 118.590338 \nL 798.843188 83.624643 \nL 798.977533 97.610921 \nL 799.111878 90.617782 \nL 799.380569 127.914523 \nL 799.514914 92.948828 \nL 799.783605 88.286736 \nL 800.18664 116.259291 \nL 800.455331 64.976273 \nL 800.589676 167.54231 \nL 800.724021 88.286736 \nL 800.858367 111.597199 \nL 800.992712 76.631504 \nL 801.127057 106.935106 \nL 801.261402 85.955689 \nL 801.530093 130.245569 \nL 801.664438 123.25243 \nL 801.798783 78.96255 \nL 801.933129 106.935106 \nL 802.067474 109.266152 \nL 802.201819 95.279875 \nL 802.336164 69.638365 \nL 802.47051 106.935106 \nL 802.604855 90.617782 \nL 802.7392 60.31418 \nL 802.873545 109.266152 \nL 803.007891 104.60406 \nL 803.142236 123.25243 \nL 803.276581 109.266152 \nL 803.410926 132.576616 \nL 803.545272 106.935106 \nL 803.679617 106.935106 \nL 803.813962 64.976273 \nL 804.082653 111.597199 \nL 804.216998 83.624643 \nL 804.351343 99.941967 \nL 804.485688 83.624643 \nL 804.620034 120.921384 \nL 804.888724 76.631504 \nL 805.023069 106.935106 \nL 805.157415 76.631504 \nL 805.29176 104.60406 \nL 805.426105 102.273014 \nL 805.56045 123.25243 \nL 805.829141 57.983134 \nL 805.963486 97.610921 \nL 806.097831 95.279875 \nL 806.232177 97.610921 \nL 806.366522 92.948828 \nL 806.500867 74.300458 \nL 806.635212 76.631504 \nL 806.769558 95.279875 \nL 806.903903 97.610921 \nL 807.038248 155.887079 \nL 807.306939 97.610921 \nL 807.441284 71.969411 \nL 807.575629 106.935106 \nL 807.709974 78.96255 \nL 807.978665 99.941967 \nL 808.11301 76.631504 \nL 808.247355 139.569755 \nL 808.3817 123.25243 \nL 808.516046 88.286736 \nL 808.650391 109.266152 \nL 808.784736 90.617782 \nL 808.919081 118.590338 \nL 809.187772 90.617782 \nL 809.322117 109.266152 \nL 809.590808 109.266152 \nL 809.725153 81.293597 \nL 809.859498 83.624643 \nL 809.993843 92.948828 \nL 810.128189 67.307319 \nL 810.262534 92.948828 \nL 810.396879 88.286736 \nL 810.531224 104.60406 \nL 810.66557 88.286736 \nL 810.799915 111.597199 \nL 811.068605 71.969411 \nL 811.202951 109.266152 \nL 811.337296 104.60406 \nL 811.471641 81.293597 \nL 811.605986 90.617782 \nL 811.740332 85.955689 \nL 812.009022 111.597199 \nL 812.143367 71.969411 \nL 812.277713 113.928245 \nL 812.412058 106.935106 \nL 812.546403 78.96255 \nL 812.680748 109.266152 \nL 812.815094 109.266152 \nL 812.949439 78.96255 \nL 813.083784 90.617782 \nL 813.352475 165.211264 \nL 813.48682 144.231847 \nL 813.621165 95.279875 \nL 813.75551 106.935106 \nL 813.889856 106.935106 \nL 814.158546 118.590338 \nL 814.292891 76.631504 \nL 814.427237 95.279875 \nL 814.561582 88.286736 \nL 814.695927 99.941967 \nL 814.830272 88.286736 \nL 815.098963 102.273014 \nL 815.233308 88.286736 \nL 815.501999 127.914523 \nL 815.770689 71.969411 \nL 815.905034 99.941967 \nL 816.03938 67.307319 \nL 816.173725 127.914523 \nL 816.30807 106.935106 \nL 816.442415 111.597199 \nL 816.576761 83.624643 \nL 816.711106 111.597199 \nL 816.845451 111.597199 \nL 816.979796 67.307319 \nL 817.114142 116.259291 \nL 817.248487 85.955689 \nL 817.382832 116.259291 \nL 817.517177 83.624643 \nL 817.651523 90.617782 \nL 817.785868 81.293597 \nL 817.920213 99.941967 \nL 818.054558 134.907662 \nL 818.188904 85.955689 \nL 818.323249 97.610921 \nL 818.457594 92.948828 \nL 818.591939 127.914523 \nL 818.726285 116.259291 \nL 818.86063 71.969411 \nL 818.994975 125.583477 \nL 819.12932 104.60406 \nL 819.263666 116.259291 \nL 819.398011 74.300458 \nL 819.532356 76.631504 \nL 819.666701 120.921384 \nL 819.801047 104.60406 \nL 819.935392 111.597199 \nL 820.204082 92.948828 \nL 820.338428 111.597199 \nL 820.607118 81.293597 \nL 820.875809 106.935106 \nL 821.010154 104.60406 \nL 821.278844 74.300458 \nL 821.547535 106.935106 \nL 821.68188 111.597199 \nL 821.95057 88.286736 \nL 822.084916 95.279875 \nL 822.219261 78.96255 \nL 822.353606 88.286736 \nL 822.487951 120.921384 \nL 822.622297 92.948828 \nL 822.756642 109.266152 \nL 822.890987 88.286736 \nL 823.025332 125.583477 \nL 823.159678 97.610921 \nL 823.294023 139.569755 \nL 823.562713 78.96255 \nL 823.965749 123.25243 \nL 824.23444 95.279875 \nL 824.368785 102.273014 \nL 824.50313 76.631504 \nL 824.771821 109.266152 \nL 824.906166 83.624643 \nL 825.040511 88.286736 \nL 825.309202 144.231847 \nL 825.443547 81.293597 \nL 825.577892 132.576616 \nL 825.712237 106.935106 \nL 825.846583 123.25243 \nL 826.249618 90.617782 \nL 826.383964 109.266152 \nL 826.518309 81.293597 \nL 826.921345 118.590338 \nL 827.05569 83.624643 \nL 827.190035 81.293597 \nL 827.458726 146.562893 \nL 827.727416 104.60406 \nL 827.861761 134.907662 \nL 828.130452 99.941967 \nL 828.264797 118.590338 \nL 828.399142 109.266152 \nL 828.533488 118.590338 \nL 828.667833 104.60406 \nL 828.802178 111.597199 \nL 828.936523 69.638365 \nL 829.070869 134.907662 \nL 829.339559 69.638365 \nL 829.473904 139.569755 \nL 829.60825 74.300458 \nL 829.742595 109.266152 \nL 829.87694 113.928245 \nL 830.011285 134.907662 \nL 830.145631 106.935106 \nL 830.279976 144.231847 \nL 830.414321 95.279875 \nL 830.817357 137.238708 \nL 831.086047 111.597199 \nL 831.220393 116.259291 \nL 831.354738 109.266152 \nL 831.623428 120.921384 \nL 831.892119 76.631504 \nL 832.026464 48.658948 \nL 832.160809 125.583477 \nL 832.295155 109.266152 \nL 832.4295 120.921384 \nL 832.563845 83.624643 \nL 832.69819 88.286736 \nL 832.832536 106.935106 \nL 832.966881 97.610921 \nL 833.101226 97.610921 \nL 833.235571 81.293597 \nL 833.369917 127.914523 \nL 833.638607 118.590338 \nL 833.772952 120.921384 \nL 833.907298 109.266152 \nL 834.041643 139.569755 \nL 834.310333 106.935106 \nL 834.579024 120.921384 \nL 834.713369 104.60406 \nL 834.847714 127.914523 \nL 834.982059 69.638365 \nL 835.25075 113.928245 \nL 835.51944 81.293597 \nL 835.922476 132.576616 \nL 836.191167 118.590338 \nL 836.325512 92.948828 \nL 836.459857 109.266152 \nL 836.594202 88.286736 \nL 836.997238 137.238708 \nL 837.131583 109.266152 \nL 837.265929 137.238708 \nL 837.400274 102.273014 \nL 837.534619 116.259291 \nL 837.668964 109.266152 \nL 837.80331 83.624643 \nL 837.937655 83.624643 \nL 838.072 120.921384 \nL 838.206345 118.590338 \nL 838.340691 88.286736 \nL 838.475036 125.583477 \nL 838.743726 102.273014 \nL 838.878072 139.569755 \nL 839.146762 85.955689 \nL 839.281107 109.266152 \nL 839.415453 104.60406 \nL 839.549798 123.25243 \nL 839.684143 118.590338 \nL 839.818488 118.590338 \nL 840.087179 104.60406 \nL 840.221524 64.976273 \nL 840.355869 137.238708 \nL 840.490215 134.907662 \nL 840.62456 88.286736 \nL 840.758905 104.60406 \nL 840.89325 81.293597 \nL 841.027596 127.914523 \nL 841.296286 81.293597 \nL 841.564977 95.279875 \nL 841.699322 85.955689 \nL 841.833667 137.238708 \nL 841.968012 141.900801 \nL 842.102358 85.955689 \nL 842.236703 90.617782 \nL 842.371048 123.25243 \nL 842.639739 99.941967 \nL 842.774084 125.583477 \nL 843.042774 78.96255 \nL 843.17712 104.60406 \nL 843.311465 95.279875 \nL 843.580155 151.224986 \nL 843.714501 158.218125 \nL 843.848846 102.273014 \nL 843.983191 148.89394 \nL 844.117536 97.610921 \nL 844.251882 116.259291 \nL 844.386227 118.590338 \nL 844.520572 123.25243 \nL 844.654917 111.597199 \nL 844.789263 123.25243 \nL 844.923608 167.54231 \nL 845.057953 92.948828 \nL 845.192298 120.921384 \nL 845.326644 76.631504 \nL 845.460989 148.89394 \nL 845.595334 85.955689 \nL 845.729679 116.259291 \nL 845.864025 120.921384 \nL 845.99837 92.948828 \nL 846.132715 106.935106 \nL 846.26706 81.293597 \nL 846.401406 141.900801 \nL 846.535751 78.96255 \nL 846.670096 74.300458 \nL 847.207477 111.597199 \nL 847.341822 92.948828 \nL 847.476168 90.617782 \nL 847.744858 120.921384 \nL 847.879203 111.597199 \nL 848.013549 62.645226 \nL 848.147894 81.293597 \nL 848.282239 76.631504 \nL 848.550929 141.900801 \nL 848.685275 90.617782 \nL 848.81962 137.238708 \nL 848.953965 132.576616 \nL 849.08831 102.273014 \nL 849.222656 113.928245 \nL 849.357001 85.955689 \nL 849.491346 132.576616 \nL 849.625691 92.948828 \nL 849.760037 97.610921 \nL 849.894382 148.89394 \nL 850.028727 97.610921 \nL 850.163072 106.935106 \nL 850.297418 83.624643 \nL 850.431763 102.273014 \nL 850.566108 90.617782 \nL 850.700453 106.935106 \nL 850.834799 99.941967 \nL 850.969144 130.245569 \nL 851.103489 83.624643 \nL 851.237834 97.610921 \nL 851.37218 123.25243 \nL 851.506525 92.948828 \nL 851.775215 125.583477 \nL 851.909561 158.218125 \nL 852.312596 74.300458 \nL 852.446942 99.941967 \nL 852.581287 69.638365 \nL 852.715632 125.583477 \nL 852.849977 127.914523 \nL 852.984323 88.286736 \nL 853.118668 104.60406 \nL 853.253013 78.96255 \nL 853.387358 92.948828 \nL 853.656049 74.300458 \nL 853.790394 132.576616 \nL 853.924739 85.955689 \nL 854.059085 132.576616 \nL 854.19343 113.928245 \nL 854.327775 69.638365 \nL 854.46212 118.590338 \nL 854.596466 111.597199 \nL 854.865156 74.300458 \nL 855.133847 97.610921 \nL 855.268192 97.610921 \nL 855.402537 92.948828 \nL 855.536882 99.941967 \nL 855.671228 120.921384 \nL 855.805573 97.610921 \nL 855.939918 97.610921 \nL 856.074263 102.273014 \nL 856.208609 83.624643 \nL 856.477299 95.279875 \nL 856.611644 62.645226 \nL 856.74599 139.569755 \nL 856.880335 99.941967 \nL 857.01468 99.941967 \nL 857.149025 95.279875 \nL 857.283371 125.583477 \nL 857.417716 123.25243 \nL 857.552061 95.279875 \nL 857.686406 148.89394 \nL 857.820752 83.624643 \nL 857.955097 104.60406 \nL 858.089442 88.286736 \nL 858.223787 146.562893 \nL 858.626823 109.266152 \nL 858.761168 123.25243 \nL 858.895514 78.96255 \nL 859.029859 85.955689 \nL 859.164204 85.955689 \nL 859.298549 123.25243 \nL 859.56724 132.576616 \nL 859.701585 92.948828 \nL 859.83593 141.900801 \nL 859.970276 92.948828 \nL 860.104621 118.590338 \nL 860.238966 81.293597 \nL 860.373311 99.941967 \nL 860.507657 85.955689 \nL 860.642002 99.941967 \nL 860.776347 151.224986 \nL 860.910692 102.273014 \nL 861.045038 106.935106 \nL 861.179383 95.279875 \nL 861.313728 109.266152 \nL 861.448073 155.887079 \nL 861.716764 76.631504 \nL 861.851109 146.562893 \nL 861.985454 153.556032 \nL 862.119799 88.286736 \nL 862.522835 155.887079 \nL 862.65718 113.928245 \nL 862.791526 111.597199 \nL 862.925871 120.921384 \nL 863.060216 120.921384 \nL 863.194561 92.948828 \nL 863.463252 148.89394 \nL 863.866288 102.273014 \nL 864.000633 99.941967 \nL 864.269323 132.576616 \nL 864.94105 83.624643 \nL 865.075395 102.273014 \nL 865.20974 102.273014 \nL 865.478431 74.300458 \nL 865.612776 97.610921 \nL 865.747121 151.224986 \nL 865.881466 85.955689 \nL 866.015812 127.914523 \nL 866.284502 95.279875 \nL 866.418847 116.259291 \nL 866.553193 97.610921 \nL 866.687538 146.562893 \nL 866.821883 88.286736 \nL 866.956228 116.259291 \nL 867.224919 104.60406 \nL 867.359264 74.300458 \nL 867.493609 151.224986 \nL 867.627955 153.556032 \nL 867.7623 151.224986 \nL 867.896645 81.293597 \nL 868.03099 134.907662 \nL 868.165336 127.914523 \nL 868.299681 137.238708 \nL 868.434026 97.610921 \nL 868.568371 102.273014 \nL 868.702717 132.576616 \nL 868.971407 74.300458 \nL 869.105752 111.597199 \nL 869.240098 85.955689 \nL 869.374443 141.900801 \nL 869.508788 88.286736 \nL 869.643133 123.25243 \nL 869.777479 127.914523 \nL 869.911824 118.590338 \nL 870.046169 76.631504 \nL 870.449205 120.921384 \nL 870.58355 123.25243 \nL 870.717895 123.25243 \nL 870.852241 146.562893 \nL 870.986586 137.238708 \nL 871.120931 95.279875 \nL 871.255276 104.60406 \nL 871.389622 104.60406 \nL 871.523967 109.266152 \nL 871.658312 127.914523 \nL 871.792657 109.266152 \nL 871.927003 118.590338 \nL 872.061348 85.955689 \nL 872.195693 92.948828 \nL 872.598729 134.907662 \nL 872.733074 76.631504 \nL 872.867419 99.941967 \nL 873.001765 88.286736 \nL 873.270455 130.245569 \nL 873.539146 97.610921 \nL 873.673491 97.610921 \nL 873.807836 113.928245 \nL 873.942181 181.528588 \nL 874.076527 104.60406 \nL 874.345217 151.224986 \nL 874.613908 106.935106 \nL 874.748253 113.928245 \nL 874.882598 132.576616 \nL 875.016943 90.617782 \nL 875.151288 123.25243 \nL 875.285634 106.935106 \nL 875.419979 106.935106 \nL 875.688669 120.921384 \nL 875.823015 99.941967 \nL 876.091705 120.921384 \nL 876.22605 106.935106 \nL 876.494741 132.576616 \nL 876.629086 144.231847 \nL 876.763431 85.955689 \nL 876.897777 160.549171 \nL 877.166467 99.941967 \nL 877.300812 130.245569 \nL 877.435158 67.307319 \nL 877.569503 120.921384 \nL 877.703848 78.96255 \nL 877.838193 71.969411 \nL 877.972539 111.597199 \nL 878.106884 97.610921 \nL 878.241229 167.54231 \nL 878.375574 95.279875 \nL 878.50992 85.955689 \nL 878.644265 130.245569 \nL 878.77861 104.60406 \nL 878.912955 127.914523 \nL 879.047301 102.273014 \nL 879.315991 130.245569 \nL 879.450336 78.96255 \nL 879.584682 111.597199 \nL 879.719027 111.597199 \nL 879.853372 165.211264 \nL 880.122063 99.941967 \nL 880.256408 99.941967 \nL 880.390753 104.60406 \nL 880.659444 90.617782 \nL 880.793789 97.610921 \nL 880.928134 97.610921 \nL 881.196825 123.25243 \nL 881.33117 102.273014 \nL 881.465515 146.562893 \nL 881.59986 146.562893 \nL 881.734206 97.610921 \nL 882.137241 85.955689 \nL 882.271587 118.590338 \nL 882.540277 97.610921 \nL 882.674622 97.610921 \nL 882.808968 148.89394 \nL 882.943313 123.25243 \nL 883.077658 132.576616 \nL 883.212003 125.583477 \nL 883.346349 144.231847 \nL 883.615039 69.638365 \nL 883.88373 148.89394 \nL 884.018075 120.921384 \nL 884.15242 116.259291 \nL 884.286765 116.259291 \nL 884.421111 137.238708 \nL 884.555456 97.610921 \nL 884.689801 132.576616 \nL 884.958492 113.928245 \nL 885.092837 92.948828 \nL 885.227182 125.583477 \nL 885.361527 95.279875 \nL 885.495873 123.25243 \nL 885.630218 116.259291 \nL 885.764563 141.900801 \nL 885.898908 130.245569 \nL 886.033254 106.935106 \nL 886.167599 141.900801 \nL 886.436289 83.624643 \nL 886.70498 118.590338 \nL 886.839325 111.597199 \nL 886.97367 90.617782 \nL 887.108016 155.887079 \nL 887.242361 155.887079 \nL 887.376706 78.96255 \nL 887.645397 109.266152 \nL 887.779742 95.279875 \nL 888.048432 137.238708 \nL 888.182778 132.576616 \nL 888.317123 118.590338 \nL 888.451468 123.25243 \nL 888.585813 106.935106 \nL 888.720158 141.900801 \nL 888.854504 134.907662 \nL 888.988849 116.259291 \nL 889.123194 144.231847 \nL 889.257539 97.610921 \nL 889.391885 90.617782 \nL 889.52623 151.224986 \nL 889.660575 127.914523 \nL 889.79492 141.900801 \nL 889.929266 132.576616 \nL 890.063611 88.286736 \nL 890.332301 132.576616 \nL 890.735337 81.293597 \nL 890.869682 123.25243 \nL 891.138373 76.631504 \nL 891.272718 137.238708 \nL 891.407063 106.935106 \nL 891.541409 139.569755 \nL 891.810099 99.941967 \nL 892.07879 176.866495 \nL 892.213135 130.245569 \nL 892.34748 139.569755 \nL 892.481825 85.955689 \nL 892.616171 120.921384 \nL 892.750516 85.955689 \nL 892.884861 148.89394 \nL 893.019206 95.279875 \nL 893.153552 139.569755 \nL 893.287897 99.941967 \nL 893.422242 104.60406 \nL 893.556587 139.569755 \nL 893.690933 113.928245 \nL 893.825278 134.907662 \nL 893.959623 113.928245 \nL 894.093968 132.576616 \nL 894.228314 109.266152 \nL 894.497004 139.569755 \nL 894.631349 132.576616 \nL 894.765695 99.941967 \nL 894.90004 123.25243 \nL 895.303076 78.96255 \nL 895.437421 125.583477 \nL 895.706111 78.96255 \nL 895.974802 104.60406 \nL 896.109147 118.590338 \nL 896.243492 69.638365 \nL 896.377838 123.25243 \nL 896.512183 116.259291 \nL 896.646528 118.590338 \nL 896.780873 130.245569 \nL 896.915219 76.631504 \nL 897.049564 116.259291 \nL 897.183909 76.631504 \nL 897.318254 162.880218 \nL 897.4526 116.259291 \nL 897.586945 127.914523 \nL 897.72129 165.211264 \nL 897.989981 118.590338 \nL 898.124326 118.590338 \nL 898.258671 92.948828 \nL 898.393016 102.273014 \nL 898.527362 95.279875 \nL 898.661707 162.880218 \nL 898.796052 123.25243 \nL 898.930397 118.590338 \nL 899.333433 83.624643 \nL 899.467778 123.25243 \nL 899.602124 88.286736 \nL 899.736469 130.245569 \nL 899.870814 116.259291 \nL 900.005159 123.25243 \nL 900.27385 118.590338 \nL 900.408195 92.948828 \nL 900.54254 144.231847 \nL 900.676886 60.31418 \nL 900.811231 104.60406 \nL 901.079921 123.25243 \nL 901.214267 106.935106 \nL 901.348612 118.590338 \nL 901.482957 109.266152 \nL 901.617302 109.266152 \nL 901.885993 97.610921 \nL 902.020338 127.914523 \nL 902.154683 113.928245 \nL 902.289028 76.631504 \nL 902.692064 146.562893 \nL 902.826409 116.259291 \nL 902.960755 125.583477 \nL 903.0951 92.948828 \nL 903.229445 120.921384 \nL 903.36379 76.631504 \nL 903.498136 137.238708 \nL 903.632481 85.955689 \nL 903.766826 132.576616 \nL 903.901171 130.245569 \nL 904.035517 137.238708 \nL 904.304207 62.645226 \nL 904.572898 134.907662 \nL 904.707243 132.576616 \nL 904.841588 109.266152 \nL 904.975933 137.238708 \nL 905.110279 109.266152 \nL 905.244624 120.921384 \nL 905.378969 106.935106 \nL 905.513314 132.576616 \nL 905.64766 106.935106 \nL 905.782005 116.259291 \nL 906.050695 158.218125 \nL 906.185041 106.935106 \nL 906.319386 162.880218 \nL 906.453731 153.556032 \nL 906.588076 120.921384 \nL 906.722422 118.590338 \nL 906.991112 76.631504 \nL 907.259803 141.900801 \nL 907.394148 132.576616 \nL 907.528493 153.556032 \nL 907.662838 109.266152 \nL 907.797184 106.935106 \nL 907.931529 76.631504 \nL 908.065874 151.224986 \nL 908.334565 113.928245 \nL 908.46891 116.259291 \nL 908.603255 116.259291 \nL 908.7376 125.583477 \nL 908.871946 95.279875 \nL 909.140636 137.238708 \nL 909.274981 130.245569 \nL 909.409327 148.89394 \nL 909.543672 83.624643 \nL 909.946708 134.907662 \nL 910.081053 90.617782 \nL 910.215398 130.245569 \nL 910.349743 88.286736 \nL 910.484089 132.576616 \nL 910.752779 95.279875 \nL 910.887124 160.549171 \nL 911.02147 97.610921 \nL 911.155815 92.948828 \nL 911.29016 78.96255 \nL 911.558851 116.259291 \nL 911.693196 99.941967 \nL 911.827541 118.590338 \nL 911.961886 99.941967 \nL 912.096232 151.224986 \nL 912.230577 88.286736 \nL 912.364922 137.238708 \nL 912.499267 102.273014 \nL 912.767958 158.218125 \nL 912.902303 144.231847 \nL 913.036648 83.624643 \nL 913.170994 141.900801 \nL 913.439684 90.617782 \nL 913.574029 85.955689 \nL 913.708375 97.610921 \nL 913.84272 141.900801 \nL 914.245756 104.60406 \nL 914.380101 106.935106 \nL 914.514446 160.549171 \nL 914.648791 104.60406 \nL 914.783137 120.921384 \nL 914.917482 88.286736 \nL 915.051827 102.273014 \nL 915.186172 137.238708 \nL 915.454863 90.617782 \nL 915.589208 116.259291 \nL 915.723553 97.610921 \nL 915.857898 106.935106 \nL 915.992244 130.245569 \nL 916.126589 127.914523 \nL 916.260934 109.266152 \nL 916.395279 137.238708 \nL 916.529625 95.279875 \nL 916.66397 162.880218 \nL 916.93266 99.941967 \nL 917.067006 102.273014 \nL 917.335696 130.245569 \nL 917.470041 130.245569 \nL 917.604387 146.562893 \nL 917.738732 148.89394 \nL 917.873077 134.907662 \nL 918.007422 92.948828 \nL 918.141768 132.576616 \nL 918.276113 102.273014 \nL 918.544803 141.900801 \nL 918.679149 120.921384 \nL 918.813494 146.562893 \nL 918.947839 78.96255 \nL 919.082184 139.569755 \nL 919.21653 130.245569 \nL 919.350875 111.597199 \nL 919.48522 118.590338 \nL 919.619565 81.293597 \nL 919.753911 90.617782 \nL 920.022601 76.631504 \nL 920.156946 144.231847 \nL 920.291292 139.569755 \nL 920.425637 104.60406 \nL 920.694327 127.914523 \nL 920.828673 85.955689 \nL 920.963018 153.556032 \nL 921.231708 95.279875 \nL 921.366054 85.955689 \nL 921.500399 134.907662 \nL 921.634744 137.238708 \nL 921.769089 71.969411 \nL 921.903435 106.935106 \nL 922.03778 95.279875 \nL 922.172125 130.245569 \nL 922.30647 88.286736 \nL 922.440816 92.948828 \nL 922.575161 132.576616 \nL 922.709506 125.583477 \nL 922.843851 83.624643 \nL 923.112542 109.266152 \nL 923.381232 116.259291 \nL 923.649923 148.89394 \nL 923.784268 106.935106 \nL 923.918613 132.576616 \nL 924.187304 78.96255 \nL 924.455994 118.590338 \nL 924.59034 120.921384 \nL 924.85903 99.941967 \nL 924.993375 155.887079 \nL 925.262066 97.610921 \nL 925.396411 160.549171 \nL 925.530756 102.273014 \nL 925.665102 104.60406 \nL 925.799447 102.273014 \nL 925.933792 95.279875 \nL 926.068137 120.921384 \nL 926.202483 109.266152 \nL 926.336828 139.569755 \nL 926.471173 113.928245 \nL 926.739864 139.569755 \nL 926.874209 200.176959 \nL 927.142899 120.921384 \nL 927.277245 111.597199 \nL 927.41159 130.245569 \nL 927.545935 102.273014 \nL 927.68028 118.590338 \nL 927.948971 85.955689 \nL 928.083316 69.638365 \nL 928.352007 113.928245 \nL 928.486352 104.60406 \nL 928.620697 144.231847 \nL 928.755042 104.60406 \nL 928.889387 125.583477 \nL 929.158078 95.279875 \nL 929.292423 116.259291 \nL 929.426768 90.617782 \nL 929.561114 153.556032 \nL 929.829804 109.266152 \nL 929.964149 125.583477 \nL 930.098495 113.928245 \nL 930.23284 158.218125 \nL 930.50153 134.907662 \nL 930.635876 104.60406 \nL 930.770221 116.259291 \nL 931.038911 64.976273 \nL 931.173257 102.273014 \nL 931.307602 97.610921 \nL 931.441947 106.935106 \nL 931.710638 134.907662 \nL 931.844983 132.576616 \nL 931.979328 95.279875 \nL 932.113673 125.583477 \nL 932.248019 127.914523 \nL 932.382364 111.597199 \nL 932.516709 134.907662 \nL 932.651054 99.941967 \nL 932.7854 118.590338 \nL 932.919745 109.266152 \nL 933.188435 148.89394 \nL 933.322781 116.259291 \nL 933.457126 120.921384 \nL 933.591471 146.562893 \nL 933.860162 85.955689 \nL 933.994507 116.259291 \nL 934.263197 99.941967 \nL 934.397543 141.900801 \nL 934.531888 144.231847 \nL 934.666233 102.273014 \nL 934.800578 116.259291 \nL 934.934924 109.266152 \nL 935.069269 120.921384 \nL 935.203614 118.590338 \nL 935.337959 120.921384 \nL 935.472305 106.935106 \nL 935.60665 130.245569 \nL 935.740995 125.583477 \nL 935.87534 137.238708 \nL 936.009686 76.631504 \nL 936.144031 148.89394 \nL 936.278376 132.576616 \nL 936.412721 102.273014 \nL 936.547067 123.25243 \nL 936.681412 97.610921 \nL 937.084448 155.887079 \nL 937.487483 97.610921 \nL 937.621829 155.887079 \nL 938.024864 111.597199 \nL 938.15921 153.556032 \nL 938.293555 97.610921 \nL 938.4279 167.54231 \nL 938.562245 116.259291 \nL 938.696591 116.259291 \nL 938.830936 151.224986 \nL 939.099626 81.293597 \nL 939.233972 116.259291 \nL 939.368317 118.590338 \nL 939.502662 134.907662 \nL 939.637007 88.286736 \nL 939.771353 88.286736 \nL 940.040043 125.583477 \nL 940.308734 78.96255 \nL 940.443079 118.590338 \nL 940.711769 92.948828 \nL 940.846115 99.941967 \nL 941.114805 153.556032 \nL 941.383496 113.928245 \nL 941.652186 120.921384 \nL 941.786531 111.597199 \nL 941.920876 118.590338 \nL 942.189567 160.549171 \nL 942.458257 71.969411 \nL 942.592603 132.576616 \nL 942.726948 104.60406 \nL 942.861293 123.25243 \nL 942.995638 125.583477 \nL 943.129984 132.576616 \nL 943.264329 83.624643 \nL 943.398674 179.197542 \nL 943.533019 111.597199 \nL 943.667365 160.549171 \nL 943.80171 111.597199 \nL 943.936055 151.224986 \nL 944.0704 104.60406 \nL 944.204746 106.935106 \nL 944.339091 151.224986 \nL 944.473436 148.89394 \nL 944.607781 134.907662 \nL 944.742127 146.562893 \nL 944.876472 88.286736 \nL 945.010817 151.224986 \nL 945.145162 146.562893 \nL 945.279508 127.914523 \nL 945.413853 132.576616 \nL 945.548198 85.955689 \nL 945.682543 113.928245 \nL 945.816889 113.928245 \nL 945.951234 144.231847 \nL 946.219924 118.590338 \nL 946.35427 120.921384 \nL 946.488615 151.224986 \nL 946.62296 116.259291 \nL 946.757305 120.921384 \nL 947.025996 120.921384 \nL 947.160341 144.231847 \nL 947.294686 132.576616 \nL 947.429032 99.941967 \nL 947.563377 148.89394 \nL 947.697722 132.576616 \nL 947.832067 130.245569 \nL 947.966413 88.286736 \nL 948.100758 179.197542 \nL 948.235103 132.576616 \nL 948.369448 137.238708 \nL 948.503794 137.238708 \nL 948.638139 146.562893 \nL 948.772484 123.25243 \nL 948.906829 127.914523 \nL 949.041175 169.873357 \nL 949.309865 120.921384 \nL 949.44421 125.583477 \nL 949.578556 118.590338 \nL 949.712901 104.60406 \nL 949.847246 148.89394 \nL 950.250282 76.631504 \nL 950.384627 83.624643 \nL 950.518972 130.245569 \nL 950.787663 116.259291 \nL 950.922008 120.921384 \nL 951.056353 148.89394 \nL 951.190699 102.273014 \nL 951.459389 148.89394 \nL 951.593734 111.597199 \nL 951.72808 118.590338 \nL 951.862425 90.617782 \nL 951.99677 144.231847 \nL 952.265461 102.273014 \nL 952.399806 132.576616 \nL 952.534151 118.590338 \nL 952.802842 144.231847 \nL 952.937187 113.928245 \nL 953.071532 132.576616 \nL 953.205877 85.955689 \nL 953.340223 146.562893 \nL 953.474568 125.583477 \nL 953.608913 144.231847 \nL 953.743258 127.914523 \nL 953.877604 141.900801 \nL 954.011949 102.273014 \nL 954.146294 104.60406 \nL 954.280639 134.907662 \nL 954.414985 118.590338 \nL 954.54933 134.907662 \nL 954.683675 134.907662 \nL 954.81802 132.576616 \nL 954.952366 146.562893 \nL 955.086711 125.583477 \nL 955.221056 153.556032 \nL 955.355401 116.259291 \nL 955.489746 120.921384 \nL 955.624092 139.569755 \nL 955.758437 130.245569 \nL 955.892782 74.300458 \nL 956.027127 137.238708 \nL 956.161473 81.293597 \nL 956.295818 151.224986 \nL 956.430163 116.259291 \nL 956.564508 144.231847 \nL 956.698854 137.238708 \nL 956.833199 137.238708 \nL 956.967544 130.245569 \nL 957.101889 132.576616 \nL 957.236235 153.556032 \nL 957.37058 109.266152 \nL 957.504925 148.89394 \nL 957.63927 109.266152 \nL 957.773616 118.590338 \nL 957.907961 97.610921 \nL 958.042306 137.238708 \nL 958.310997 109.266152 \nL 958.445342 148.89394 \nL 958.579687 146.562893 \nL 958.714032 158.218125 \nL 958.848378 125.583477 \nL 958.982723 132.576616 \nL 959.117068 123.25243 \nL 959.251413 137.238708 \nL 959.385759 169.873357 \nL 959.654449 118.590338 \nL 959.788794 120.921384 \nL 959.92314 141.900801 \nL 960.057485 118.590338 \nL 960.19183 127.914523 \nL 960.326175 109.266152 \nL 960.460521 146.562893 \nL 960.594866 111.597199 \nL 960.729211 130.245569 \nL 960.997902 111.597199 \nL 961.132247 139.569755 \nL 961.266592 99.941967 \nL 961.535283 155.887079 \nL 961.669628 151.224986 \nL 961.803973 137.238708 \nL 961.938318 95.279875 \nL 962.207009 144.231847 \nL 962.341354 120.921384 \nL 962.475699 137.238708 \nL 962.610045 123.25243 \nL 962.74439 153.556032 \nL 962.878735 92.948828 \nL 963.147426 146.562893 \nL 963.281771 111.597199 \nL 963.550461 132.576616 \nL 963.684807 78.96255 \nL 963.819152 130.245569 \nL 964.087842 113.928245 \nL 964.222188 125.583477 \nL 964.356533 120.921384 \nL 964.490878 141.900801 \nL 964.625223 111.597199 \nL 964.759569 116.259291 \nL 964.893914 125.583477 \nL 965.028259 116.259291 \nL 965.162604 85.955689 \nL 965.431295 134.907662 \nL 965.56564 85.955689 \nL 965.699985 130.245569 \nL 965.834331 76.631504 \nL 965.968676 186.190681 \nL 966.103021 151.224986 \nL 966.237366 158.218125 \nL 966.371712 95.279875 \nL 966.506057 148.89394 \nL 966.640402 99.941967 \nL 966.909093 134.907662 \nL 967.043438 153.556032 \nL 967.177783 118.590338 \nL 967.312128 141.900801 \nL 967.446474 137.238708 \nL 967.580819 123.25243 \nL 967.715164 88.286736 \nL 967.983855 155.887079 \nL 968.1182 125.583477 \nL 968.38689 120.921384 \nL 968.521236 141.900801 \nL 968.655581 134.907662 \nL 968.789926 134.907662 \nL 968.924271 132.576616 \nL 969.192962 90.617782 \nL 969.461652 134.907662 \nL 969.595997 125.583477 \nL 969.730343 127.914523 \nL 969.864688 109.266152 \nL 969.999033 139.569755 \nL 970.133378 127.914523 \nL 970.536414 160.549171 \nL 970.670759 78.96255 \nL 970.805105 116.259291 \nL 970.93945 97.610921 \nL 971.073795 137.238708 \nL 971.20814 81.293597 \nL 971.342486 167.54231 \nL 971.476831 116.259291 \nL 971.879867 132.576616 \nL 972.014212 102.273014 \nL 972.148557 116.259291 \nL 972.282902 109.266152 \nL 972.417248 113.928245 \nL 972.551593 109.266152 \nL 972.820283 158.218125 \nL 973.088974 118.590338 \nL 973.223319 111.597199 \nL 973.357664 134.907662 \nL 973.7607 90.617782 \nL 973.895045 160.549171 \nL 974.163736 106.935106 \nL 974.298081 134.907662 \nL 974.432426 95.279875 \nL 974.566772 144.231847 \nL 974.701117 123.25243 \nL 974.969807 132.576616 \nL 975.104153 125.583477 \nL 975.238498 111.597199 \nL 975.372843 137.238708 \nL 975.507188 132.576616 \nL 975.641534 155.887079 \nL 975.910224 132.576616 \nL 976.044569 134.907662 \nL 976.178915 139.569755 \nL 976.31326 134.907662 \nL 976.447605 139.569755 \nL 976.58195 139.569755 \nL 976.716296 118.590338 \nL 977.253677 167.54231 \nL 977.388022 134.907662 \nL 977.522367 148.89394 \nL 977.656712 99.941967 \nL 977.791058 120.921384 \nL 977.925403 109.266152 \nL 978.059748 123.25243 \nL 978.194093 120.921384 \nL 978.328439 102.273014 \nL 978.462784 141.900801 \nL 978.731474 99.941967 \nL 978.86582 118.590338 \nL 979.000165 113.928245 \nL 979.13451 160.549171 \nL 979.403201 109.266152 \nL 979.537546 183.859634 \nL 979.671891 111.597199 \nL 979.806236 141.900801 \nL 979.940582 85.955689 \nL 980.209272 123.25243 \nL 980.343617 118.590338 \nL 980.477963 123.25243 \nL 980.746653 160.549171 \nL 980.880998 118.590338 \nL 981.015344 144.231847 \nL 981.284034 125.583477 \nL 981.418379 74.300458 \nL 981.552725 127.914523 \nL 981.68707 113.928245 \nL 981.821415 76.631504 \nL 981.95576 146.562893 \nL 982.358796 130.245569 \nL 982.493141 144.231847 \nL 982.627486 102.273014 \nL 982.761832 146.562893 \nL 982.896177 148.89394 \nL 983.030522 160.549171 \nL 983.164867 132.576616 \nL 983.299213 146.562893 \nL 983.567903 120.921384 \nL 983.702248 127.914523 \nL 983.836594 162.880218 \nL 983.970939 160.549171 \nL 984.105284 92.948828 \nL 984.373975 144.231847 \nL 984.642665 95.279875 \nL 984.77701 146.562893 \nL 984.911356 141.900801 \nL 985.045701 106.935106 \nL 985.314391 172.204403 \nL 985.448737 97.610921 \nL 985.717427 127.914523 \nL 985.851772 99.941967 \nL 985.986118 146.562893 \nL 986.120463 153.556032 \nL 986.254808 151.224986 \nL 986.389153 109.266152 \nL 986.523499 109.266152 \nL 986.657844 118.590338 \nL 986.792189 137.238708 \nL 986.926534 116.259291 \nL 987.06088 76.631504 \nL 987.32957 160.549171 \nL 987.598261 92.948828 \nL 987.732606 139.569755 \nL 988.001296 109.266152 \nL 988.135642 146.562893 \nL 988.269987 104.60406 \nL 988.538677 155.887079 \nL 988.807368 123.25243 \nL 988.941713 109.266152 \nL 989.210404 160.549171 \nL 989.344749 92.948828 \nL 989.747785 165.211264 \nL 989.88213 127.914523 \nL 990.016475 144.231847 \nL 990.15082 130.245569 \nL 990.285166 153.556032 \nL 990.419511 139.569755 \nL 990.553856 146.562893 \nL 990.688201 165.211264 \nL 990.822547 106.935106 \nL 990.956892 104.60406 \nL 991.225582 172.204403 \nL 991.359928 113.928245 \nL 991.494273 158.218125 \nL 991.628618 106.935106 \nL 991.897309 130.245569 \nL 992.031654 174.535449 \nL 992.165999 113.928245 \nL 992.300344 174.535449 \nL 992.43469 88.286736 \nL 992.70338 130.245569 \nL 992.837725 139.569755 \nL 992.972071 134.907662 \nL 993.106416 120.921384 \nL 993.240761 127.914523 \nL 993.375106 111.597199 \nL 993.509452 113.928245 \nL 993.643797 97.610921 \nL 993.778142 111.597199 \nL 993.912487 139.569755 \nL 994.046833 144.231847 \nL 994.181178 137.238708 \nL 994.315523 148.89394 \nL 994.584214 99.941967 \nL 994.718559 118.590338 \nL 994.852904 113.928245 \nL 994.987249 99.941967 \nL 995.25594 148.89394 \nL 995.390285 125.583477 \nL 995.52463 139.569755 \nL 995.793321 104.60406 \nL 995.927666 127.914523 \nL 996.062011 130.245569 \nL 996.196356 106.935106 \nL 996.330702 113.928245 \nL 996.599392 141.900801 \nL 996.733737 120.921384 \nL 996.868083 139.569755 \nL 997.002428 139.569755 \nL 997.271118 127.914523 \nL 997.405464 146.562893 \nL 997.539809 130.245569 \nL 997.674154 139.569755 \nL 997.808499 106.935106 \nL 997.942845 130.245569 \nL 998.07719 132.576616 \nL 998.211535 141.900801 \nL 998.34588 139.569755 \nL 998.480226 139.569755 \nL 998.748916 109.266152 \nL 998.883261 141.900801 \nL 999.017607 130.245569 \nL 999.151952 137.238708 \nL 999.420642 127.914523 \nL 999.554988 155.887079 \nL 999.823678 125.583477 \nL 999.958023 102.273014 \nL 1000.092369 116.259291 \nL 1000.226714 141.900801 \nL 1000.361059 90.617782 \nL 1000.495404 176.866495 \nL 1000.62975 99.941967 \nL 1001.032785 155.887079 \nL 1001.301476 137.238708 \nL 1001.435821 95.279875 \nL 1001.704512 130.245569 \nL 1001.838857 130.245569 \nL 1001.973202 120.921384 \nL 1002.107547 137.238708 \nL 1002.241893 113.928245 \nL 1002.376238 176.866495 \nL 1002.510583 97.610921 \nL 1002.644928 123.25243 \nL 1002.779274 125.583477 \nL 1002.913619 120.921384 \nL 1003.047964 148.89394 \nL 1003.182309 116.259291 \nL 1003.585345 165.211264 \nL 1003.71969 123.25243 \nL 1003.854036 169.873357 \nL 1004.122726 116.259291 \nL 1004.257071 134.907662 \nL 1004.391417 127.914523 \nL 1004.525762 134.907662 \nL 1004.660107 111.597199 \nL 1005.063143 160.549171 \nL 1005.466179 125.583477 \nL 1005.600524 92.948828 \nL 1005.734869 146.562893 \nL 1005.869214 85.955689 \nL 1006.00356 146.562893 \nL 1006.137905 144.231847 \nL 1006.27225 169.873357 \nL 1006.406595 137.238708 \nL 1006.675286 160.549171 \nL 1006.809631 172.204403 \nL 1006.943976 78.96255 \nL 1007.078322 132.576616 \nL 1007.212667 127.914523 \nL 1007.347012 134.907662 \nL 1007.481357 148.89394 \nL 1007.615703 132.576616 \nL 1007.750048 160.549171 \nL 1007.884393 144.231847 \nL 1008.018738 144.231847 \nL 1008.153084 92.948828 \nL 1008.287429 102.273014 \nL 1008.556119 169.873357 \nL 1008.690465 132.576616 \nL 1008.82481 134.907662 \nL 1008.959155 141.900801 \nL 1009.227845 134.907662 \nL 1009.362191 146.562893 \nL 1009.496536 137.238708 \nL 1009.630881 174.535449 \nL 1009.765226 109.266152 \nL 1009.899572 104.60406 \nL 1010.033917 148.89394 \nL 1010.168262 92.948828 \nL 1010.302607 176.866495 \nL 1010.436953 116.259291 \nL 1010.571298 155.887079 \nL 1010.705643 155.887079 \nL 1010.839988 130.245569 \nL 1010.974334 137.238708 \nL 1011.108679 120.921384 \nL 1011.243024 120.921384 \nL 1011.377369 127.914523 \nL 1011.64606 162.880218 \nL 1011.91475 130.245569 \nL 1012.049096 153.556032 \nL 1012.183441 104.60406 \nL 1012.317786 116.259291 \nL 1012.452131 160.549171 \nL 1012.586477 165.211264 \nL 1012.720822 146.562893 \nL 1012.855167 92.948828 \nL 1012.989512 134.907662 \nL 1013.123858 127.914523 \nL 1013.258203 132.576616 \nL 1013.392548 190.852773 \nL 1013.526893 111.597199 \nL 1013.661239 162.880218 \nL 1013.929929 134.907662 \nL 1014.064274 179.197542 \nL 1014.19862 134.907662 \nL 1014.332965 134.907662 \nL 1014.601655 153.556032 \nL 1014.870346 123.25243 \nL 1015.004691 144.231847 \nL 1015.139036 146.562893 \nL 1015.273382 155.887079 \nL 1015.407727 120.921384 \nL 1015.542072 125.583477 \nL 1015.676417 125.583477 \nL 1015.810763 130.245569 \nL 1016.079453 118.590338 \nL 1016.213798 132.576616 \nL 1016.348144 97.610921 \nL 1016.482489 102.273014 \nL 1016.616834 153.556032 \nL 1016.751179 123.25243 \nL 1017.01987 144.231847 \nL 1017.154215 104.60406 \nL 1017.28856 109.266152 \nL 1017.422906 139.569755 \nL 1017.557251 139.569755 \nL 1017.825941 120.921384 \nL 1017.960287 130.245569 \nL 1018.228977 165.211264 \nL 1018.363322 113.928245 \nL 1018.497668 120.921384 \nL 1018.632013 169.873357 \nL 1018.900703 111.597199 \nL 1019.035049 137.238708 \nL 1019.169394 132.576616 \nL 1019.303739 111.597199 \nL 1019.438084 127.914523 \nL 1019.57243 179.197542 \nL 1019.706775 141.900801 \nL 1019.84112 146.562893 \nL 1020.109811 104.60406 \nL 1020.244156 158.218125 \nL 1020.378501 109.266152 \nL 1020.512846 139.569755 \nL 1020.647192 116.259291 \nL 1020.915882 174.535449 \nL 1021.318918 127.914523 \nL 1021.453263 130.245569 \nL 1021.587608 160.549171 \nL 1021.721954 123.25243 \nL 1021.856299 123.25243 \nL 1021.990644 153.556032 \nL 1022.259334 116.259291 \nL 1022.39368 141.900801 \nL 1022.528025 127.914523 \nL 1022.66237 141.900801 \nL 1022.796715 134.907662 \nL 1022.931061 162.880218 \nL 1023.065406 123.25243 \nL 1023.199751 144.231847 \nL 1023.334096 76.631504 \nL 1023.602787 125.583477 \nL 1023.737132 151.224986 \nL 1024.005823 99.941967 \nL 1024.140168 160.549171 \nL 1024.408858 123.25243 \nL 1024.677549 97.610921 \nL 1024.946239 174.535449 \nL 1025.21493 99.941967 \nL 1025.349275 113.928245 \nL 1025.48362 153.556032 \nL 1025.617966 127.914523 \nL 1025.752311 172.204403 \nL 1025.886656 104.60406 \nL 1026.155347 153.556032 \nL 1026.289692 116.259291 \nL 1026.424037 111.597199 \nL 1026.692728 146.562893 \nL 1026.961418 102.273014 \nL 1027.095763 137.238708 \nL 1027.230109 102.273014 \nL 1027.498799 155.887079 \nL 1027.633144 104.60406 \nL 1027.76749 106.935106 \nL 1027.901835 134.907662 \nL 1028.170525 111.597199 \nL 1028.304871 144.231847 \nL 1028.573561 81.293597 \nL 1028.707906 111.597199 \nL 1028.842252 102.273014 \nL 1029.245287 193.18382 \nL 1029.513978 116.259291 \nL 1029.648323 148.89394 \nL 1029.917014 125.583477 \nL 1030.051359 127.914523 \nL 1030.185704 165.211264 \nL 1030.320049 120.921384 \nL 1030.454395 176.866495 \nL 1030.723085 118.590338 \nL 1030.85743 139.569755 \nL 1030.991776 139.569755 \nL 1031.394811 165.211264 \nL 1031.529157 111.597199 \nL 1031.663502 111.597199 \nL 1031.797847 90.617782 \nL 1031.932192 88.286736 \nL 1032.066538 134.907662 \nL 1032.200883 116.259291 \nL 1032.469573 134.907662 \nL 1032.603919 116.259291 \nL 1032.738264 144.231847 \nL 1032.872609 127.914523 \nL 1033.006954 158.218125 \nL 1033.1413 102.273014 \nL 1033.275645 139.569755 \nL 1033.40999 132.576616 \nL 1033.544335 111.597199 \nL 1033.678681 130.245569 \nL 1033.813026 165.211264 \nL 1034.216062 137.238708 \nL 1034.350407 88.286736 \nL 1034.484752 139.569755 \nL 1034.619097 113.928245 \nL 1034.753443 160.549171 \nL 1034.753443 160.549171 \n\" style=\"fill:none;stroke:#1f77b4;stroke-linecap:square;stroke-width:1.5;\"/>\n   </g>\n   <g id=\"line2d_52\">\n    <path clip-path=\"url(#p58fa2ec96f)\" d=\"M 766.197293 251.459977 \nL 766.465983 279.432533 \nL 766.600329 256.12207 \nL 766.734674 272.439394 \nL 767.003364 223.487422 \nL 767.13771 263.115209 \nL 767.272055 239.804746 \nL 767.540745 235.142653 \nL 767.675091 260.784163 \nL 767.809436 249.128931 \nL 767.943781 272.439394 \nL 768.212471 230.480561 \nL 768.346817 260.784163 \nL 768.481162 207.170098 \nL 768.615507 256.12207 \nL 768.749852 258.453116 \nL 768.884198 223.487422 \nL 769.018543 251.459977 \nL 769.152888 218.825329 \nL 769.421579 265.446255 \nL 769.824614 232.811607 \nL 769.95896 232.811607 \nL 770.093305 246.797885 \nL 770.22765 239.804746 \nL 770.361995 244.466839 \nL 770.630686 221.156375 \nL 770.765031 256.12207 \nL 770.899376 228.149514 \nL 771.033722 260.784163 \nL 771.168067 253.791024 \nL 771.302412 239.804746 \nL 771.436757 251.459977 \nL 771.571103 235.142653 \nL 771.705448 237.4737 \nL 771.839793 260.784163 \nL 771.974138 246.797885 \nL 772.108484 216.494283 \nL 772.242829 249.128931 \nL 772.377174 253.791024 \nL 772.511519 265.446255 \nL 772.645865 246.797885 \nL 772.78021 253.791024 \nL 772.914555 253.791024 \nL 773.0489 256.12207 \nL 773.183246 246.797885 \nL 773.317591 256.12207 \nL 773.451936 235.142653 \nL 773.586281 235.142653 \nL 773.720627 228.149514 \nL 773.854972 263.115209 \nL 773.989317 260.784163 \nL 774.123662 256.12207 \nL 774.258008 204.839051 \nL 774.392353 249.128931 \nL 774.526698 251.459977 \nL 774.661043 230.480561 \nL 774.929734 263.115209 \nL 775.064079 221.156375 \nL 775.198424 267.777302 \nL 775.33277 209.501144 \nL 775.467115 251.459977 \nL 775.60146 223.487422 \nL 775.735805 265.446255 \nL 775.870151 232.811607 \nL 776.138841 265.446255 \nL 776.273186 249.128931 \nL 776.407532 249.128931 \nL 776.541877 251.459977 \nL 776.676222 251.459977 \nL 776.810567 267.777302 \nL 776.944913 207.170098 \nL 777.079258 214.163236 \nL 777.213603 256.12207 \nL 777.347948 239.804746 \nL 777.482294 195.514866 \nL 777.616639 251.459977 \nL 777.750984 253.791024 \nL 777.885329 223.487422 \nL 778.019675 221.156375 \nL 778.15402 267.777302 \nL 778.288365 242.135792 \nL 778.42271 274.770441 \nL 778.557056 218.825329 \nL 778.691401 211.83219 \nL 778.825746 260.784163 \nL 778.960091 200.176959 \nL 779.094437 260.784163 \nL 779.228782 249.128931 \nL 779.363127 274.770441 \nL 779.631818 244.466839 \nL 779.900508 274.770441 \nL 780.034853 263.115209 \nL 780.169199 232.811607 \nL 780.303544 251.459977 \nL 780.437889 204.839051 \nL 780.572234 253.791024 \nL 780.70658 225.818468 \nL 780.840925 277.101487 \nL 780.97527 239.804746 \nL 781.109615 272.439394 \nL 781.24396 263.115209 \nL 781.378306 235.142653 \nL 781.512651 249.128931 \nL 781.646996 225.818468 \nL 781.781341 267.777302 \nL 782.050032 237.4737 \nL 782.184377 230.480561 \nL 782.318722 281.76358 \nL 782.453068 235.142653 \nL 782.587413 260.784163 \nL 782.856103 214.163236 \nL 783.124794 244.466839 \nL 783.259139 232.811607 \nL 783.393484 258.453116 \nL 783.52783 235.142653 \nL 783.662175 242.135792 \nL 783.79652 239.804746 \nL 783.930865 272.439394 \nL 784.333901 179.197542 \nL 784.468246 274.770441 \nL 784.602592 237.4737 \nL 784.736937 235.142653 \nL 784.871282 249.128931 \nL 785.005627 195.514866 \nL 785.139973 237.4737 \nL 785.274318 239.804746 \nL 785.408663 235.142653 \nL 785.543008 235.142653 \nL 785.677354 263.115209 \nL 785.811699 207.170098 \nL 786.080389 246.797885 \nL 786.34908 263.115209 \nL 786.483425 221.156375 \nL 786.61777 251.459977 \nL 786.752116 197.845912 \nL 787.020806 258.453116 \nL 787.289497 190.852773 \nL 787.423842 211.83219 \nL 787.558187 263.115209 \nL 787.692532 251.459977 \nL 787.826878 263.115209 \nL 787.961223 218.825329 \nL 788.095568 242.135792 \nL 788.229913 211.83219 \nL 788.364259 218.825329 \nL 788.498604 232.811607 \nL 788.632949 265.446255 \nL 788.767294 258.453116 \nL 788.90164 225.818468 \nL 789.035985 239.804746 \nL 789.17033 242.135792 \nL 789.439021 249.128931 \nL 789.573366 232.811607 \nL 789.707711 270.108348 \nL 789.976402 249.128931 \nL 790.110747 246.797885 \nL 790.379437 223.487422 \nL 790.513783 258.453116 \nL 790.648128 218.825329 \nL 790.916818 249.128931 \nL 791.051164 235.142653 \nL 791.185509 249.128931 \nL 791.319854 209.501144 \nL 791.454199 256.12207 \nL 791.588545 214.163236 \nL 791.99158 277.101487 \nL 792.125926 244.466839 \nL 792.260271 246.797885 \nL 792.394616 225.818468 \nL 792.528961 258.453116 \nL 792.663307 235.142653 \nL 792.797652 270.108348 \nL 792.931997 253.791024 \nL 793.066342 193.18382 \nL 793.335033 253.791024 \nL 793.469378 223.487422 \nL 793.603723 225.818468 \nL 793.872414 272.439394 \nL 794.006759 190.852773 \nL 794.141104 246.797885 \nL 794.27545 230.480561 \nL 794.409795 232.811607 \nL 794.678485 260.784163 \nL 794.81283 225.818468 \nL 794.947176 258.453116 \nL 795.081521 253.791024 \nL 795.215866 202.508005 \nL 795.484557 239.804746 \nL 795.618902 176.866495 \nL 795.887592 258.453116 \nL 796.021938 200.176959 \nL 796.156283 242.135792 \nL 796.290628 239.804746 \nL 796.424973 221.156375 \nL 796.559319 260.784163 \nL 796.828009 235.142653 \nL 796.962354 253.791024 \nL 797.0967 225.818468 \nL 797.231045 228.149514 \nL 797.36539 246.797885 \nL 797.499735 237.4737 \nL 797.634081 246.797885 \nL 797.768426 214.163236 \nL 798.037116 251.459977 \nL 798.171462 237.4737 \nL 798.305807 239.804746 \nL 798.440152 211.83219 \nL 798.574497 246.797885 \nL 798.708843 225.818468 \nL 798.843188 263.115209 \nL 799.111878 223.487422 \nL 799.246224 260.784163 \nL 799.380569 202.508005 \nL 799.514914 260.784163 \nL 799.783605 207.170098 \nL 799.91795 244.466839 \nL 800.052295 176.866495 \nL 800.320986 256.12207 \nL 800.455331 232.811607 \nL 800.589676 242.135792 \nL 800.724021 274.770441 \nL 800.858367 228.149514 \nL 800.992712 258.453116 \nL 801.127057 214.163236 \nL 801.395748 232.811607 \nL 801.530093 216.494283 \nL 801.664438 230.480561 \nL 801.798783 265.446255 \nL 801.933129 218.825329 \nL 802.067474 281.76358 \nL 802.201819 216.494283 \nL 802.47051 258.453116 \nL 802.7392 223.487422 \nL 803.007891 256.12207 \nL 803.276581 223.487422 \nL 803.410926 260.784163 \nL 803.545272 218.825329 \nL 803.679617 260.784163 \nL 803.813962 246.797885 \nL 803.948307 204.839051 \nL 804.082653 225.818468 \nL 804.216998 225.818468 \nL 804.620034 249.128931 \nL 804.754379 246.797885 \nL 804.888724 211.83219 \nL 805.023069 251.459977 \nL 805.157415 207.170098 \nL 805.29176 237.4737 \nL 805.426105 232.811607 \nL 805.56045 246.797885 \nL 805.694796 190.852773 \nL 805.829141 237.4737 \nL 805.963486 214.163236 \nL 806.097831 249.128931 \nL 806.232177 232.811607 \nL 806.366522 258.453116 \nL 806.635212 251.459977 \nL 806.903903 214.163236 \nL 807.172593 249.128931 \nL 807.306939 249.128931 \nL 807.441284 223.487422 \nL 807.575629 253.791024 \nL 807.978665 242.135792 \nL 808.11301 202.508005 \nL 808.3817 235.142653 \nL 808.516046 218.825329 \nL 808.650391 230.480561 \nL 808.784736 186.190681 \nL 809.053427 258.453116 \nL 809.322117 202.508005 \nL 809.590808 228.149514 \nL 809.725153 223.487422 \nL 809.859498 232.811607 \nL 809.993843 218.825329 \nL 810.128189 216.494283 \nL 810.262534 190.852773 \nL 810.396879 258.453116 \nL 810.531224 237.4737 \nL 810.66557 235.142653 \nL 810.799915 207.170098 \nL 810.93426 242.135792 \nL 811.068605 242.135792 \nL 811.202951 256.12207 \nL 811.337296 214.163236 \nL 811.471641 263.115209 \nL 811.605986 228.149514 \nL 811.740332 237.4737 \nL 812.009022 214.163236 \nL 812.143367 204.839051 \nL 812.412058 265.446255 \nL 812.680748 209.501144 \nL 812.815094 242.135792 \nL 812.949439 242.135792 \nL 813.083784 235.142653 \nL 813.218129 239.804746 \nL 813.48682 256.12207 \nL 813.621165 251.459977 \nL 813.75551 235.142653 \nL 813.889856 242.135792 \nL 814.024201 228.149514 \nL 814.158546 251.459977 \nL 814.561582 195.514866 \nL 814.695927 211.83219 \nL 814.830272 260.784163 \nL 814.964618 221.156375 \nL 815.098963 221.156375 \nL 815.367653 253.791024 \nL 815.501999 204.839051 \nL 815.636344 258.453116 \nL 815.770689 237.4737 \nL 815.905034 237.4737 \nL 816.03938 244.466839 \nL 816.173725 230.480561 \nL 816.30807 260.784163 \nL 816.442415 258.453116 \nL 816.576761 239.804746 \nL 816.711106 258.453116 \nL 816.845451 235.142653 \nL 817.114142 249.128931 \nL 817.248487 204.839051 \nL 817.382832 235.142653 \nL 817.651523 202.508005 \nL 817.920213 228.149514 \nL 818.188904 209.501144 \nL 818.457594 246.797885 \nL 818.591939 263.115209 \nL 818.726285 197.845912 \nL 818.86063 190.852773 \nL 818.994975 270.108348 \nL 819.263666 200.176959 \nL 819.398011 216.494283 \nL 819.532356 249.128931 \nL 819.666701 221.156375 \nL 819.801047 232.811607 \nL 819.935392 197.845912 \nL 820.204082 235.142653 \nL 820.338428 181.528588 \nL 820.607118 270.108348 \nL 820.741463 193.18382 \nL 820.875809 239.804746 \nL 821.010154 232.811607 \nL 821.144499 204.839051 \nL 821.413189 230.480561 \nL 821.547535 223.487422 \nL 821.68188 225.818468 \nL 821.816225 200.176959 \nL 821.95057 235.142653 \nL 822.084916 190.852773 \nL 822.219261 221.156375 \nL 822.353606 193.18382 \nL 822.756642 256.12207 \nL 822.890987 223.487422 \nL 823.025332 218.825329 \nL 823.294023 242.135792 \nL 823.428368 207.170098 \nL 823.562713 246.797885 \nL 823.831404 141.900801 \nL 823.965749 242.135792 \nL 824.100094 242.135792 \nL 824.23444 221.156375 \nL 824.368785 218.825329 \nL 824.50313 242.135792 \nL 824.637475 179.197542 \nL 824.906166 218.825329 \nL 825.040511 225.818468 \nL 825.174856 211.83219 \nL 825.309202 237.4737 \nL 825.443547 186.190681 \nL 825.712237 251.459977 \nL 825.980928 221.156375 \nL 826.115273 244.466839 \nL 826.249618 200.176959 \nL 826.383964 242.135792 \nL 826.518309 232.811607 \nL 826.652654 242.135792 \nL 826.786999 223.487422 \nL 826.921345 263.115209 \nL 827.05569 165.211264 \nL 827.190035 218.825329 \nL 827.32438 216.494283 \nL 827.458726 211.83219 \nL 827.593071 211.83219 \nL 827.727416 230.480561 \nL 827.861761 221.156375 \nL 827.996107 237.4737 \nL 828.130452 237.4737 \nL 828.264797 263.115209 \nL 828.399142 239.804746 \nL 828.533488 242.135792 \nL 828.667833 246.797885 \nL 828.802178 232.811607 \nL 828.936523 195.514866 \nL 829.070869 225.818468 \nL 829.205214 204.839051 \nL 829.339559 209.501144 \nL 829.473904 242.135792 \nL 829.60825 214.163236 \nL 829.742595 253.791024 \nL 829.87694 249.128931 \nL 830.145631 225.818468 \nL 830.279976 249.128931 \nL 830.414321 144.231847 \nL 830.683012 246.797885 \nL 830.817357 242.135792 \nL 830.951702 225.818468 \nL 831.086047 223.487422 \nL 831.220393 207.170098 \nL 831.489083 263.115209 \nL 831.623428 172.204403 \nL 831.892119 251.459977 \nL 832.026464 165.211264 \nL 832.295155 218.825329 \nL 832.4295 181.528588 \nL 832.832536 244.466839 \nL 832.966881 197.845912 \nL 833.101226 204.839051 \nL 833.369917 237.4737 \nL 833.504262 218.825329 \nL 833.638607 251.459977 \nL 833.772952 251.459977 \nL 833.907298 221.156375 \nL 834.175988 246.797885 \nL 834.444679 186.190681 \nL 834.579024 165.211264 \nL 834.713369 228.149514 \nL 834.982059 176.866495 \nL 835.116405 228.149514 \nL 835.385095 181.528588 \nL 835.51944 225.818468 \nL 835.653786 221.156375 \nL 835.788131 246.797885 \nL 835.922476 225.818468 \nL 836.056821 232.811607 \nL 836.325512 218.825329 \nL 836.594202 176.866495 \nL 836.728548 179.197542 \nL 836.997238 267.777302 \nL 837.131583 207.170098 \nL 837.265929 216.494283 \nL 837.400274 179.197542 \nL 837.668964 225.818468 \nL 837.937655 202.508005 \nL 838.206345 265.446255 \nL 838.340691 237.4737 \nL 838.609381 230.480561 \nL 838.743726 204.839051 \nL 838.878072 237.4737 \nL 839.012417 235.142653 \nL 839.146762 218.825329 \nL 839.281107 228.149514 \nL 839.415453 223.487422 \nL 839.549798 190.852773 \nL 839.684143 256.12207 \nL 839.818488 214.163236 \nL 839.952834 214.163236 \nL 840.087179 230.480561 \nL 840.221524 200.176959 \nL 840.355869 230.480561 \nL 840.490215 202.508005 \nL 840.758905 221.156375 \nL 840.89325 230.480561 \nL 841.027596 223.487422 \nL 841.161941 251.459977 \nL 841.430631 221.156375 \nL 841.564977 244.466839 \nL 841.699322 179.197542 \nL 841.833667 209.501144 \nL 841.968012 267.777302 \nL 842.102358 216.494283 \nL 842.236703 235.142653 \nL 842.371048 193.18382 \nL 842.505393 251.459977 \nL 842.639739 188.521727 \nL 842.774084 228.149514 \nL 843.042774 188.521727 \nL 843.17712 228.149514 \nL 843.311465 202.508005 \nL 843.580155 274.770441 \nL 843.714501 232.811607 \nL 843.848846 235.142653 \nL 844.117536 207.170098 \nL 844.251882 225.818468 \nL 844.386227 202.508005 \nL 844.520572 211.83219 \nL 844.654917 207.170098 \nL 844.789263 209.501144 \nL 844.923608 232.811607 \nL 845.192298 214.163236 \nL 845.326644 218.825329 \nL 845.460989 235.142653 \nL 845.595334 211.83219 \nL 845.729679 249.128931 \nL 845.864025 249.128931 \nL 846.26706 207.170098 \nL 846.535751 244.466839 \nL 846.670096 202.508005 \nL 846.804441 239.804746 \nL 846.938787 209.501144 \nL 847.073132 211.83219 \nL 847.207477 230.480561 \nL 847.341822 214.163236 \nL 847.744858 258.453116 \nL 848.013549 186.190681 \nL 848.147894 235.142653 \nL 848.282239 230.480561 \nL 848.416584 167.54231 \nL 848.550929 230.480561 \nL 848.81962 190.852773 \nL 848.953965 216.494283 \nL 849.08831 211.83219 \nL 849.222656 223.487422 \nL 849.357001 179.197542 \nL 849.491346 237.4737 \nL 849.760037 211.83219 \nL 850.028727 253.791024 \nL 850.163072 200.176959 \nL 850.297418 237.4737 \nL 850.431763 237.4737 \nL 850.566108 228.149514 \nL 850.700453 244.466839 \nL 850.969144 190.852773 \nL 851.103489 251.459977 \nL 851.237834 228.149514 \nL 851.37218 169.873357 \nL 851.506525 232.811607 \nL 851.64087 200.176959 \nL 851.775215 202.508005 \nL 851.909561 221.156375 \nL 852.043906 195.514866 \nL 852.178251 249.128931 \nL 852.312596 221.156375 \nL 852.581287 244.466839 \nL 852.849977 200.176959 \nL 852.984323 253.791024 \nL 853.118668 174.535449 \nL 853.253013 211.83219 \nL 853.387358 207.170098 \nL 853.521704 223.487422 \nL 853.656049 190.852773 \nL 853.790394 237.4737 \nL 853.924739 225.818468 \nL 854.059085 235.142653 \nL 854.19343 223.487422 \nL 854.327775 237.4737 \nL 854.46212 209.501144 \nL 854.596466 244.466839 \nL 854.730811 195.514866 \nL 854.865156 242.135792 \nL 855.133847 188.521727 \nL 855.402537 235.142653 \nL 855.536882 200.176959 \nL 855.671228 246.797885 \nL 855.805573 214.163236 \nL 855.939918 263.115209 \nL 856.074263 207.170098 \nL 856.342954 242.135792 \nL 856.477299 190.852773 \nL 856.611644 225.818468 \nL 856.74599 225.818468 \nL 856.880335 235.142653 \nL 857.149025 200.176959 \nL 857.283371 195.514866 \nL 857.417716 235.142653 \nL 857.552061 193.18382 \nL 857.686406 186.190681 \nL 857.955097 239.804746 \nL 858.089442 204.839051 \nL 858.223787 237.4737 \nL 858.358133 211.83219 \nL 858.492478 228.149514 \nL 858.626823 216.494283 \nL 858.761168 216.494283 \nL 858.895514 181.528588 \nL 859.164204 230.480561 \nL 859.298549 162.880218 \nL 859.56724 216.494283 \nL 859.83593 230.480561 \nL 860.104621 200.176959 \nL 860.238966 232.811607 \nL 860.373311 221.156375 \nL 860.642002 230.480561 \nL 860.776347 216.494283 \nL 860.910692 214.163236 \nL 861.045038 232.811607 \nL 861.179383 230.480561 \nL 861.313728 218.825329 \nL 861.448073 228.149514 \nL 861.582418 202.508005 \nL 861.716764 216.494283 \nL 861.851109 200.176959 \nL 861.985454 204.839051 \nL 862.119799 274.770441 \nL 862.254145 193.18382 \nL 862.522835 239.804746 \nL 862.65718 230.480561 \nL 862.791526 204.839051 \nL 862.925871 202.508005 \nL 863.060216 230.480561 \nL 863.194561 202.508005 \nL 863.463252 228.149514 \nL 863.597597 221.156375 \nL 863.731942 232.811607 \nL 863.866288 232.811607 \nL 864.000633 237.4737 \nL 864.134978 232.811607 \nL 864.269323 188.521727 \nL 864.403669 246.797885 \nL 864.538014 195.514866 \nL 864.672359 197.845912 \nL 865.20974 249.128931 \nL 865.344085 249.128931 \nL 865.478431 209.501144 \nL 865.612776 265.446255 \nL 865.747121 223.487422 \nL 865.881466 216.494283 \nL 866.015812 251.459977 \nL 866.150157 223.487422 \nL 866.284502 258.453116 \nL 866.553193 214.163236 \nL 866.687538 235.142653 \nL 866.821883 162.880218 \nL 866.956228 223.487422 \nL 867.090574 225.818468 \nL 867.224919 237.4737 \nL 867.359264 186.190681 \nL 867.493609 200.176959 \nL 867.627955 225.818468 \nL 867.7623 200.176959 \nL 867.896645 228.149514 \nL 868.03099 200.176959 \nL 868.299681 223.487422 \nL 868.434026 204.839051 \nL 868.568371 211.83219 \nL 868.702717 204.839051 \nL 868.837062 207.170098 \nL 868.971407 197.845912 \nL 869.105752 225.818468 \nL 869.374443 190.852773 \nL 869.643133 253.791024 \nL 869.777479 200.176959 \nL 870.046169 211.83219 \nL 870.180514 176.866495 \nL 870.31486 209.501144 \nL 870.449205 195.514866 \nL 870.58355 221.156375 \nL 870.717895 193.18382 \nL 870.852241 214.163236 \nL 870.986586 190.852773 \nL 871.120931 132.576616 \nL 871.255276 272.439394 \nL 871.523967 214.163236 \nL 871.658312 218.825329 \nL 871.792657 235.142653 \nL 871.927003 270.108348 \nL 872.195693 207.170098 \nL 872.330038 232.811607 \nL 872.464384 230.480561 \nL 872.733074 214.163236 \nL 873.001765 207.170098 \nL 873.13611 235.142653 \nL 873.270455 174.535449 \nL 873.4048 228.149514 \nL 873.539146 188.521727 \nL 873.942181 246.797885 \nL 874.076527 204.839051 \nL 874.210872 218.825329 \nL 874.345217 214.163236 \nL 874.479562 256.12207 \nL 874.748253 228.149514 \nL 874.882598 221.156375 \nL 875.016943 181.528588 \nL 875.285634 251.459977 \nL 875.419979 183.859634 \nL 875.554324 228.149514 \nL 875.823015 209.501144 \nL 875.95736 183.859634 \nL 876.091705 190.852773 \nL 876.22605 188.521727 \nL 876.360396 232.811607 \nL 876.494741 207.170098 \nL 876.629086 209.501144 \nL 876.763431 244.466839 \nL 877.032122 193.18382 \nL 877.166467 193.18382 \nL 877.300812 242.135792 \nL 877.435158 221.156375 \nL 877.569503 223.487422 \nL 877.838193 200.176959 \nL 877.972539 249.128931 \nL 878.241229 214.163236 \nL 878.375574 216.494283 \nL 878.50992 190.852773 \nL 878.77861 253.791024 \nL 879.047301 155.887079 \nL 879.181646 230.480561 \nL 879.315991 225.818468 \nL 879.450336 237.4737 \nL 879.584682 207.170098 \nL 879.719027 214.163236 \nL 879.987717 204.839051 \nL 880.122063 239.804746 \nL 880.256408 225.818468 \nL 880.390753 193.18382 \nL 880.525098 188.521727 \nL 880.793789 202.508005 \nL 880.928134 228.149514 \nL 881.062479 181.528588 \nL 881.196825 197.845912 \nL 881.33117 197.845912 \nL 881.465515 211.83219 \nL 881.59986 244.466839 \nL 881.868551 218.825329 \nL 882.002896 235.142653 \nL 882.137241 204.839051 \nL 882.405932 263.115209 \nL 882.540277 197.845912 \nL 882.674622 207.170098 \nL 882.808968 230.480561 \nL 882.943313 232.811607 \nL 883.077658 244.466839 \nL 883.212003 216.494283 \nL 883.346349 214.163236 \nL 883.480694 186.190681 \nL 883.615039 246.797885 \nL 883.749384 237.4737 \nL 883.88373 267.777302 \nL 884.018075 200.176959 \nL 884.15242 193.18382 \nL 884.286765 239.804746 \nL 884.421111 244.466839 \nL 884.555456 155.887079 \nL 884.689801 207.170098 \nL 884.824146 188.521727 \nL 884.958492 237.4737 \nL 885.092837 195.514866 \nL 885.227182 237.4737 \nL 885.361527 221.156375 \nL 885.495873 223.487422 \nL 885.630218 228.149514 \nL 885.898908 202.508005 \nL 886.033254 179.197542 \nL 886.167599 221.156375 \nL 886.301944 204.839051 \nL 886.436289 209.501144 \nL 886.70498 186.190681 \nL 886.839325 230.480561 \nL 886.97367 209.501144 \nL 887.242361 228.149514 \nL 887.376706 216.494283 \nL 887.511051 183.859634 \nL 887.645397 232.811607 \nL 887.779742 169.873357 \nL 888.048432 239.804746 \nL 888.182778 195.514866 \nL 888.585813 237.4737 \nL 888.720158 232.811607 \nL 888.854504 242.135792 \nL 888.988849 237.4737 \nL 889.123194 251.459977 \nL 889.257539 209.501144 \nL 889.391885 214.163236 \nL 889.52623 228.149514 \nL 889.660575 202.508005 \nL 889.929266 239.804746 \nL 890.063611 225.818468 \nL 890.197956 235.142653 \nL 890.466647 207.170098 \nL 890.600992 246.797885 \nL 890.735337 200.176959 \nL 891.138373 237.4737 \nL 891.272718 155.887079 \nL 891.407063 218.825329 \nL 891.541409 216.494283 \nL 891.675754 197.845912 \nL 891.944444 232.811607 \nL 892.07879 237.4737 \nL 892.213135 151.224986 \nL 892.481825 267.777302 \nL 892.750516 200.176959 \nL 892.884861 209.501144 \nL 893.019206 239.804746 \nL 893.287897 204.839051 \nL 893.556587 228.149514 \nL 893.690933 235.142653 \nL 893.825278 190.852773 \nL 893.959623 218.825329 \nL 894.093968 214.163236 \nL 894.228314 235.142653 \nL 894.362659 209.501144 \nL 894.497004 260.784163 \nL 894.765695 195.514866 \nL 894.90004 232.811607 \nL 895.034385 230.480561 \nL 895.16873 249.128931 \nL 895.303076 186.190681 \nL 895.437421 221.156375 \nL 895.706111 134.907662 \nL 895.974802 207.170098 \nL 896.109147 169.873357 \nL 896.243492 172.204403 \nL 896.512183 228.149514 \nL 896.780873 214.163236 \nL 896.915219 256.12207 \nL 897.049564 256.12207 \nL 897.318254 216.494283 \nL 897.4526 202.508005 \nL 897.586945 204.839051 \nL 897.72129 251.459977 \nL 897.855635 244.466839 \nL 897.989981 244.466839 \nL 898.124326 200.176959 \nL 898.393016 235.142653 \nL 898.527362 211.83219 \nL 898.661707 246.797885 \nL 898.796052 204.839051 \nL 899.064743 235.142653 \nL 899.199088 237.4737 \nL 899.333433 204.839051 \nL 899.467778 244.466839 \nL 899.602124 186.190681 \nL 899.736469 221.156375 \nL 899.870814 179.197542 \nL 900.005159 190.852773 \nL 900.139505 249.128931 \nL 900.27385 230.480561 \nL 900.408195 176.866495 \nL 900.54254 256.12207 \nL 900.811231 162.880218 \nL 900.945576 251.459977 \nL 901.214267 190.852773 \nL 901.348612 207.170098 \nL 901.482957 246.797885 \nL 901.617302 223.487422 \nL 901.751647 230.480561 \nL 901.885993 216.494283 \nL 902.020338 239.804746 \nL 902.154683 232.811607 \nL 902.289028 176.866495 \nL 902.423374 230.480561 \nL 902.557719 221.156375 \nL 902.692064 223.487422 \nL 902.826409 195.514866 \nL 903.229445 246.797885 \nL 903.36379 195.514866 \nL 903.498136 223.487422 \nL 903.632481 202.508005 \nL 903.766826 225.818468 \nL 903.901171 225.818468 \nL 904.035517 202.508005 \nL 904.169862 228.149514 \nL 904.304207 214.163236 \nL 904.438552 228.149514 \nL 904.707243 200.176959 \nL 904.975933 221.156375 \nL 905.244624 256.12207 \nL 905.378969 225.818468 \nL 905.513314 221.156375 \nL 905.64766 169.873357 \nL 905.782005 251.459977 \nL 906.050695 200.176959 \nL 906.185041 195.514866 \nL 906.319386 181.528588 \nL 906.588076 228.149514 \nL 906.722422 195.514866 \nL 906.856767 204.839051 \nL 906.991112 181.528588 \nL 907.125457 232.811607 \nL 907.259803 216.494283 \nL 907.394148 214.163236 \nL 907.528493 230.480561 \nL 907.662838 216.494283 \nL 907.797184 242.135792 \nL 908.200219 190.852773 \nL 908.334565 193.18382 \nL 908.46891 218.825329 \nL 908.603255 197.845912 \nL 908.871946 237.4737 \nL 909.006291 190.852773 \nL 909.140636 242.135792 \nL 909.274981 176.866495 \nL 909.409327 228.149514 \nL 909.678017 172.204403 \nL 909.812362 228.149514 \nL 910.081053 193.18382 \nL 910.215398 225.818468 \nL 910.349743 188.521727 \nL 910.484089 223.487422 \nL 910.752779 183.859634 \nL 910.887124 204.839051 \nL 911.02147 169.873357 \nL 911.155815 218.825329 \nL 911.29016 179.197542 \nL 911.827541 251.459977 \nL 911.961886 186.190681 \nL 912.096232 225.818468 \nL 912.230577 190.852773 \nL 912.364922 228.149514 \nL 912.499267 193.18382 \nL 912.767958 239.804746 \nL 912.902303 207.170098 \nL 913.036648 221.156375 \nL 913.170994 174.535449 \nL 913.305339 232.811607 \nL 913.439684 225.818468 \nL 913.708375 188.521727 \nL 913.84272 246.797885 \nL 913.977065 230.480561 \nL 914.11141 242.135792 \nL 914.245756 193.18382 \nL 914.380101 244.466839 \nL 914.514446 235.142653 \nL 914.783137 190.852773 \nL 915.186172 260.784163 \nL 915.454863 221.156375 \nL 915.589208 181.528588 \nL 915.723553 209.501144 \nL 915.857898 190.852773 \nL 915.992244 242.135792 \nL 916.260934 188.521727 \nL 916.529625 232.811607 \nL 916.66397 230.480561 \nL 916.798315 235.142653 \nL 917.067006 204.839051 \nL 917.201351 225.818468 \nL 917.470041 181.528588 \nL 917.738732 225.818468 \nL 917.873077 195.514866 \nL 918.007422 237.4737 \nL 918.141768 211.83219 \nL 918.276113 211.83219 \nL 918.410458 160.549171 \nL 918.544803 246.797885 \nL 918.679149 239.804746 \nL 918.813494 195.514866 \nL 918.947839 195.514866 \nL 919.082184 209.501144 \nL 919.21653 200.176959 \nL 919.350875 132.576616 \nL 919.48522 239.804746 \nL 919.753911 221.156375 \nL 919.888256 239.804746 \nL 920.022601 193.18382 \nL 920.156946 216.494283 \nL 920.291292 172.204403 \nL 920.425637 190.852773 \nL 920.559982 237.4737 \nL 920.963018 165.211264 \nL 921.097363 174.535449 \nL 921.366054 239.804746 \nL 921.500399 165.211264 \nL 921.634744 242.135792 \nL 921.769089 181.528588 \nL 921.903435 216.494283 \nL 922.03778 211.83219 \nL 922.172125 253.791024 \nL 922.30647 179.197542 \nL 922.440816 179.197542 \nL 922.709506 202.508005 \nL 922.843851 193.18382 \nL 922.978197 204.839051 \nL 923.246887 239.804746 \nL 923.381232 253.791024 \nL 923.515578 174.535449 \nL 923.649923 237.4737 \nL 923.784268 235.142653 \nL 923.918613 153.556032 \nL 924.052959 209.501144 \nL 924.187304 216.494283 \nL 924.321649 235.142653 \nL 924.455994 211.83219 \nL 924.59034 209.501144 \nL 924.724685 216.494283 \nL 924.993375 249.128931 \nL 925.262066 188.521727 \nL 925.396411 200.176959 \nL 925.530756 225.818468 \nL 925.665102 218.825329 \nL 925.933792 230.480561 \nL 926.068137 251.459977 \nL 926.336828 200.176959 \nL 926.471173 195.514866 \nL 926.605518 204.839051 \nL 926.739864 263.115209 \nL 927.008554 181.528588 \nL 927.142899 253.791024 \nL 927.277245 230.480561 \nL 927.41159 239.804746 \nL 927.545935 162.880218 \nL 927.68028 172.204403 \nL 927.814626 160.549171 \nL 927.948971 162.880218 \nL 928.083316 130.245569 \nL 928.352007 253.791024 \nL 928.486352 162.880218 \nL 928.620697 228.149514 \nL 928.755042 228.149514 \nL 928.889387 223.487422 \nL 929.023733 225.818468 \nL 929.158078 183.859634 \nL 929.292423 202.508005 \nL 929.426768 195.514866 \nL 929.561114 207.170098 \nL 929.695459 239.804746 \nL 929.829804 216.494283 \nL 929.964149 214.163236 \nL 930.098495 214.163236 \nL 930.23284 193.18382 \nL 930.367185 230.480561 \nL 930.50153 183.859634 \nL 930.770221 267.777302 \nL 930.904566 172.204403 \nL 931.038911 216.494283 \nL 931.173257 218.825329 \nL 931.307602 228.149514 \nL 931.441947 183.859634 \nL 931.576292 200.176959 \nL 931.710638 232.811607 \nL 931.844983 221.156375 \nL 931.979328 148.89394 \nL 932.113673 242.135792 \nL 932.248019 218.825329 \nL 932.382364 146.562893 \nL 932.651054 239.804746 \nL 932.919745 207.170098 \nL 933.05409 235.142653 \nL 933.188435 214.163236 \nL 933.322781 223.487422 \nL 933.457126 190.852773 \nL 933.591471 188.521727 \nL 933.725816 225.818468 \nL 933.860162 181.528588 \nL 933.994507 228.149514 \nL 934.128852 209.501144 \nL 934.263197 216.494283 \nL 934.531888 188.521727 \nL 934.800578 214.163236 \nL 934.934924 193.18382 \nL 935.069269 246.797885 \nL 935.203614 146.562893 \nL 935.472305 204.839051 \nL 935.740995 181.528588 \nL 936.009686 214.163236 \nL 936.144031 183.859634 \nL 936.412721 223.487422 \nL 936.681412 193.18382 \nL 936.950102 232.811607 \nL 937.487483 179.197542 \nL 937.756174 232.811607 \nL 937.890519 239.804746 \nL 938.293555 172.204403 \nL 938.4279 221.156375 \nL 938.562245 216.494283 \nL 938.696591 197.845912 \nL 938.830936 237.4737 \nL 938.965281 218.825329 \nL 939.099626 165.211264 \nL 939.368317 239.804746 \nL 939.502662 237.4737 \nL 939.771353 209.501144 \nL 939.905698 223.487422 \nL 940.040043 181.528588 \nL 940.308734 207.170098 \nL 940.443079 270.108348 \nL 940.577424 232.811607 \nL 940.711769 230.480561 \nL 940.846115 179.197542 \nL 940.98046 202.508005 \nL 941.114805 197.845912 \nL 941.24915 209.501144 \nL 941.383496 232.811607 \nL 941.517841 232.811607 \nL 941.652186 162.880218 \nL 941.786531 214.163236 \nL 941.920876 216.494283 \nL 942.055222 211.83219 \nL 942.189567 202.508005 \nL 942.323912 221.156375 \nL 942.458257 202.508005 \nL 942.592603 167.54231 \nL 942.726948 207.170098 \nL 942.861293 193.18382 \nL 942.995638 139.569755 \nL 943.129984 239.804746 \nL 943.264329 139.569755 \nL 943.398674 202.508005 \nL 943.533019 207.170098 \nL 943.667365 218.825329 \nL 943.80171 209.501144 \nL 943.936055 218.825329 \nL 944.0704 207.170098 \nL 944.204746 172.204403 \nL 944.473436 207.170098 \nL 944.607781 202.508005 \nL 944.742127 207.170098 \nL 944.876472 188.521727 \nL 945.145162 228.149514 \nL 945.279508 214.163236 \nL 945.413853 246.797885 \nL 945.548198 188.521727 \nL 945.682543 186.190681 \nL 945.816889 242.135792 \nL 945.951234 228.149514 \nL 946.085579 188.521727 \nL 946.35427 223.487422 \nL 946.488615 263.115209 \nL 946.62296 102.273014 \nL 946.757305 211.83219 \nL 946.891651 165.211264 \nL 947.025996 176.866495 \nL 947.160341 216.494283 \nL 947.294686 193.18382 \nL 947.429032 207.170098 \nL 947.563377 239.804746 \nL 947.697722 204.839051 \nL 947.966413 218.825329 \nL 948.100758 221.156375 \nL 948.235103 195.514866 \nL 948.369448 221.156375 \nL 948.772484 193.18382 \nL 948.906829 249.128931 \nL 949.17552 181.528588 \nL 949.309865 200.176959 \nL 949.44421 167.54231 \nL 949.578556 176.866495 \nL 949.712901 211.83219 \nL 949.847246 216.494283 \nL 949.981591 202.508005 \nL 950.115937 221.156375 \nL 950.250282 183.859634 \nL 950.384627 195.514866 \nL 950.518972 232.811607 \nL 950.653318 190.852773 \nL 950.787663 197.845912 \nL 950.922008 172.204403 \nL 951.325044 232.811607 \nL 951.459389 228.149514 \nL 951.593734 204.839051 \nL 951.72808 207.170098 \nL 951.862425 190.852773 \nL 951.99677 216.494283 \nL 952.399806 193.18382 \nL 952.534151 242.135792 \nL 952.668496 232.811607 \nL 952.802842 207.170098 \nL 952.937187 225.818468 \nL 953.205877 183.859634 \nL 953.340223 228.149514 \nL 953.474568 200.176959 \nL 953.608913 225.818468 \nL 953.877604 202.508005 \nL 954.011949 230.480561 \nL 954.146294 169.873357 \nL 954.280639 242.135792 \nL 954.414985 193.18382 \nL 954.683675 232.811607 \nL 954.81802 160.549171 \nL 954.952366 237.4737 \nL 955.086711 169.873357 \nL 955.221056 197.845912 \nL 955.355401 195.514866 \nL 955.489746 221.156375 \nL 955.624092 202.508005 \nL 955.758437 218.825329 \nL 955.892782 202.508005 \nL 956.161473 228.149514 \nL 956.295818 230.480561 \nL 956.833199 204.839051 \nL 956.967544 211.83219 \nL 957.101889 237.4737 \nL 957.236235 223.487422 \nL 957.37058 193.18382 \nL 957.504925 200.176959 \nL 957.63927 232.811607 \nL 957.907961 167.54231 \nL 958.042306 204.839051 \nL 958.176651 188.521727 \nL 958.310997 228.149514 \nL 958.445342 204.839051 \nL 958.579687 251.459977 \nL 958.848378 186.190681 \nL 958.982723 188.521727 \nL 959.117068 181.528588 \nL 959.251413 190.852773 \nL 959.385759 225.818468 \nL 959.520104 183.859634 \nL 959.654449 188.521727 \nL 959.788794 179.197542 \nL 959.92314 218.825329 \nL 960.057485 223.487422 \nL 960.19183 172.204403 \nL 960.460521 216.494283 \nL 960.594866 174.535449 \nL 960.729211 209.501144 \nL 960.863556 188.521727 \nL 960.997902 225.818468 \nL 961.132247 162.880218 \nL 961.266592 209.501144 \nL 961.400937 207.170098 \nL 961.535283 249.128931 \nL 961.669628 202.508005 \nL 961.803973 200.176959 \nL 961.938318 200.176959 \nL 962.072664 193.18382 \nL 962.207009 223.487422 \nL 962.341354 155.887079 \nL 962.475699 211.83219 \nL 962.610045 167.54231 \nL 962.74439 235.142653 \nL 962.878735 188.521727 \nL 963.01308 216.494283 \nL 963.147426 202.508005 \nL 963.281771 232.811607 \nL 963.416116 179.197542 \nL 963.550461 195.514866 \nL 963.684807 169.873357 \nL 963.819152 235.142653 \nL 963.953497 211.83219 \nL 964.087842 211.83219 \nL 964.222188 232.811607 \nL 964.625223 165.211264 \nL 964.893914 218.825329 \nL 965.162604 176.866495 \nL 965.29695 230.480561 \nL 965.834331 176.866495 \nL 965.968676 225.818468 \nL 966.103021 223.487422 \nL 966.237366 246.797885 \nL 966.371712 179.197542 \nL 966.506057 235.142653 \nL 966.640402 125.583477 \nL 966.909093 253.791024 \nL 967.043438 221.156375 \nL 967.177783 228.149514 \nL 967.312128 195.514866 \nL 967.580819 237.4737 \nL 967.849509 207.170098 \nL 967.983855 214.163236 \nL 968.1182 211.83219 \nL 968.252545 235.142653 \nL 968.38689 209.501144 \nL 968.521236 216.494283 \nL 968.655581 183.859634 \nL 968.789926 188.521727 \nL 968.924271 237.4737 \nL 969.192962 141.900801 \nL 969.327307 200.176959 \nL 969.461652 207.170098 \nL 969.595997 183.859634 \nL 969.730343 230.480561 \nL 969.864688 197.845912 \nL 969.999033 244.466839 \nL 970.267724 197.845912 \nL 970.536414 221.156375 \nL 970.670759 155.887079 \nL 970.805105 207.170098 \nL 970.93945 197.845912 \nL 971.073795 211.83219 \nL 971.20814 237.4737 \nL 971.342486 183.859634 \nL 971.476831 179.197542 \nL 971.745521 195.514866 \nL 971.879867 228.149514 \nL 972.014212 186.190681 \nL 972.148557 228.149514 \nL 972.417248 186.190681 \nL 972.551593 179.197542 \nL 972.685938 190.852773 \nL 972.820283 256.12207 \nL 972.954629 204.839051 \nL 973.088974 228.149514 \nL 973.223319 225.818468 \nL 973.49201 193.18382 \nL 973.626355 209.501144 \nL 973.7607 172.204403 \nL 973.895045 221.156375 \nL 974.029391 197.845912 \nL 974.163736 211.83219 \nL 974.298081 179.197542 \nL 974.432426 183.859634 \nL 974.701117 158.218125 \nL 974.969807 232.811607 \nL 975.104153 207.170098 \nL 975.238498 209.501144 \nL 975.372843 207.170098 \nL 975.507188 190.852773 \nL 975.641534 225.818468 \nL 975.910224 183.859634 \nL 976.044569 221.156375 \nL 976.31326 186.190681 \nL 976.447605 221.156375 \nL 976.58195 197.845912 \nL 976.716296 195.514866 \nL 976.850641 174.535449 \nL 976.984986 221.156375 \nL 977.119331 183.859634 \nL 977.253677 237.4737 \nL 977.388022 200.176959 \nL 977.522367 221.156375 \nL 977.656712 183.859634 \nL 977.925403 221.156375 \nL 978.059748 244.466839 \nL 978.194093 225.818468 \nL 978.328439 183.859634 \nL 978.462784 244.466839 \nL 979.000165 162.880218 \nL 979.268855 228.149514 \nL 979.403201 207.170098 \nL 979.537546 218.825329 \nL 979.671891 216.494283 \nL 979.940582 167.54231 \nL 980.209272 216.494283 \nL 980.343617 188.521727 \nL 980.612308 230.480561 \nL 980.880998 209.501144 \nL 981.015344 169.873357 \nL 981.284034 223.487422 \nL 981.418379 167.54231 \nL 981.552725 218.825329 \nL 981.68707 195.514866 \nL 981.821415 207.170098 \nL 981.95576 204.839051 \nL 982.090105 195.514866 \nL 982.224451 258.453116 \nL 982.358796 216.494283 \nL 982.493141 228.149514 \nL 982.761832 186.190681 \nL 983.030522 214.163236 \nL 983.164867 242.135792 \nL 983.299213 211.83219 \nL 983.433558 230.480561 \nL 983.702248 207.170098 \nL 983.836594 204.839051 \nL 983.970939 197.845912 \nL 984.105284 162.880218 \nL 984.373975 209.501144 \nL 984.642665 169.873357 \nL 984.77701 197.845912 \nL 985.045701 202.508005 \nL 985.314391 174.535449 \nL 985.583082 209.501144 \nL 985.717427 155.887079 \nL 985.851772 209.501144 \nL 985.986118 193.18382 \nL 986.120463 207.170098 \nL 986.254808 232.811607 \nL 986.389153 141.900801 \nL 986.523499 223.487422 \nL 986.657844 190.852773 \nL 986.792189 193.18382 \nL 987.06088 239.804746 \nL 987.195225 204.839051 \nL 987.32957 200.176959 \nL 987.463915 221.156375 \nL 987.598261 165.211264 \nL 987.732606 209.501144 \nL 987.866951 169.873357 \nL 988.001296 172.204403 \nL 988.135642 186.190681 \nL 988.269987 158.218125 \nL 988.404332 209.501144 \nL 988.538677 167.54231 \nL 988.673023 244.466839 \nL 988.807368 230.480561 \nL 988.941713 232.811607 \nL 989.076058 190.852773 \nL 989.210404 211.83219 \nL 989.344749 186.190681 \nL 989.479094 188.521727 \nL 989.613439 204.839051 \nL 989.747785 207.170098 \nL 989.88213 179.197542 \nL 990.15082 211.83219 \nL 990.285166 223.487422 \nL 990.419511 218.825329 \nL 990.553856 235.142653 \nL 990.822547 155.887079 \nL 991.091237 235.142653 \nL 991.225582 232.811607 \nL 991.359928 200.176959 \nL 991.494273 223.487422 \nL 991.628618 193.18382 \nL 991.762963 188.521727 \nL 991.897309 162.880218 \nL 992.031654 218.825329 \nL 992.165999 225.818468 \nL 992.300344 211.83219 \nL 992.43469 244.466839 \nL 992.569035 190.852773 \nL 992.70338 204.839051 \nL 992.837725 204.839051 \nL 993.106416 242.135792 \nL 993.240761 207.170098 \nL 993.375106 202.508005 \nL 993.509452 193.18382 \nL 993.643797 197.845912 \nL 993.778142 190.852773 \nL 993.912487 204.839051 \nL 994.046833 197.845912 \nL 994.181178 181.528588 \nL 994.449868 232.811607 \nL 994.718559 202.508005 \nL 994.852904 216.494283 \nL 994.987249 127.914523 \nL 995.390285 221.156375 \nL 995.52463 202.508005 \nL 995.658975 221.156375 \nL 995.793321 169.873357 \nL 995.927666 165.211264 \nL 996.196356 190.852773 \nL 996.330702 195.514866 \nL 996.465047 232.811607 \nL 996.599392 179.197542 \nL 996.733737 216.494283 \nL 996.868083 167.54231 \nL 997.002428 172.204403 \nL 997.136773 223.487422 \nL 997.271118 216.494283 \nL 997.405464 174.535449 \nL 997.539809 237.4737 \nL 997.674154 242.135792 \nL 997.808499 186.190681 \nL 997.942845 242.135792 \nL 998.07719 190.852773 \nL 998.211535 197.845912 \nL 998.34588 193.18382 \nL 998.480226 193.18382 \nL 998.614571 207.170098 \nL 998.748916 204.839051 \nL 998.883261 216.494283 \nL 999.017607 174.535449 \nL 999.286297 204.839051 \nL 999.420642 200.176959 \nL 999.554988 181.528588 \nL 999.823678 221.156375 \nL 1000.092369 153.556032 \nL 1000.226714 214.163236 \nL 1000.361059 179.197542 \nL 1000.495404 223.487422 \nL 1000.62975 181.528588 \nL 1001.032785 223.487422 \nL 1001.167131 211.83219 \nL 1001.301476 216.494283 \nL 1001.570166 195.514866 \nL 1001.704512 207.170098 \nL 1001.838857 207.170098 \nL 1001.973202 181.528588 \nL 1002.107547 214.163236 \nL 1002.241893 200.176959 \nL 1002.376238 246.797885 \nL 1002.510583 202.508005 \nL 1002.644928 202.508005 \nL 1002.779274 204.839051 \nL 1002.913619 204.839051 \nL 1003.047964 211.83219 \nL 1003.182309 211.83219 \nL 1003.316655 209.501144 \nL 1003.451 186.190681 \nL 1003.585345 225.818468 \nL 1003.854036 181.528588 \nL 1003.988381 218.825329 \nL 1004.122726 181.528588 \nL 1004.257071 183.859634 \nL 1004.391417 204.839051 \nL 1004.525762 197.845912 \nL 1004.660107 214.163236 \nL 1004.794452 176.866495 \nL 1004.928798 242.135792 \nL 1005.197488 204.839051 \nL 1005.331833 237.4737 \nL 1005.600524 127.914523 \nL 1005.734869 230.480561 \nL 1005.869214 176.866495 \nL 1006.137905 225.818468 \nL 1006.27225 218.825329 \nL 1006.406595 193.18382 \nL 1006.540941 137.238708 \nL 1006.675286 232.811607 \nL 1006.943976 160.549171 \nL 1007.078322 223.487422 \nL 1007.212667 158.218125 \nL 1007.481357 230.480561 \nL 1007.615703 225.818468 \nL 1008.018738 176.866495 \nL 1008.153084 214.163236 \nL 1008.287429 214.163236 \nL 1008.421774 209.501144 \nL 1008.556119 237.4737 \nL 1008.690465 172.204403 \nL 1008.82481 216.494283 \nL 1008.959155 186.190681 \nL 1009.0935 188.521727 \nL 1009.227845 195.514866 \nL 1009.362191 223.487422 \nL 1009.496536 155.887079 \nL 1009.630881 237.4737 \nL 1009.765226 188.521727 \nL 1009.899572 183.859634 \nL 1010.033917 235.142653 \nL 1010.168262 169.873357 \nL 1010.302607 225.818468 \nL 1010.436953 197.845912 \nL 1010.571298 204.839051 \nL 1010.705643 221.156375 \nL 1010.839988 200.176959 \nL 1010.974334 160.549171 \nL 1011.243024 235.142653 \nL 1011.511715 160.549171 \nL 1011.64606 207.170098 \nL 1011.780405 174.535449 \nL 1012.049096 214.163236 \nL 1012.183441 221.156375 \nL 1012.317786 176.866495 \nL 1012.586477 235.142653 \nL 1012.855167 195.514866 \nL 1012.989512 200.176959 \nL 1013.258203 174.535449 \nL 1013.392548 195.514866 \nL 1013.526893 181.528588 \nL 1013.795584 225.818468 \nL 1013.929929 172.204403 \nL 1014.064274 195.514866 \nL 1014.19862 183.859634 \nL 1014.332965 211.83219 \nL 1014.46731 211.83219 \nL 1014.601655 216.494283 \nL 1014.736001 174.535449 \nL 1014.870346 188.521727 \nL 1015.004691 218.825329 \nL 1015.139036 148.89394 \nL 1015.273382 235.142653 \nL 1015.407727 197.845912 \nL 1015.542072 211.83219 \nL 1015.676417 195.514866 \nL 1015.810763 244.466839 \nL 1015.945108 200.176959 \nL 1016.079453 209.501144 \nL 1016.213798 202.508005 \nL 1016.348144 253.791024 \nL 1016.482489 179.197542 \nL 1016.616834 193.18382 \nL 1016.751179 158.218125 \nL 1016.885525 218.825329 \nL 1017.01987 195.514866 \nL 1017.154215 141.900801 \nL 1017.422906 221.156375 \nL 1017.557251 204.839051 \nL 1017.691596 207.170098 \nL 1017.825941 211.83219 \nL 1017.960287 197.845912 \nL 1018.094632 218.825329 \nL 1018.228977 209.501144 \nL 1018.363322 160.549171 \nL 1018.632013 209.501144 \nL 1018.900703 167.54231 \nL 1019.169394 209.501144 \nL 1019.303739 193.18382 \nL 1019.438084 237.4737 \nL 1019.57243 223.487422 \nL 1019.706775 223.487422 \nL 1019.84112 228.149514 \nL 1019.975465 221.156375 \nL 1020.109811 221.156375 \nL 1020.244156 190.852773 \nL 1020.512846 223.487422 \nL 1020.647192 167.54231 \nL 1020.915882 249.128931 \nL 1021.050227 228.149514 \nL 1021.318918 167.54231 \nL 1021.453263 200.176959 \nL 1021.587608 200.176959 \nL 1021.721954 162.880218 \nL 1022.124989 218.825329 \nL 1022.259334 218.825329 \nL 1022.39368 216.494283 \nL 1022.66237 195.514866 \nL 1022.796715 232.811607 \nL 1023.065406 202.508005 \nL 1023.199751 165.211264 \nL 1023.334096 169.873357 \nL 1023.468442 218.825329 \nL 1023.602787 183.859634 \nL 1023.737132 195.514866 \nL 1023.871477 195.514866 \nL 1024.005823 172.204403 \nL 1024.140168 174.535449 \nL 1024.274513 207.170098 \nL 1024.408858 211.83219 \nL 1024.677549 146.562893 \nL 1024.811894 214.163236 \nL 1024.946239 218.825329 \nL 1025.21493 181.528588 \nL 1025.617966 260.784163 \nL 1025.752311 237.4737 \nL 1026.021001 169.873357 \nL 1026.424037 214.163236 \nL 1026.558382 176.866495 \nL 1026.692728 209.501144 \nL 1026.827073 193.18382 \nL 1026.961418 162.880218 \nL 1027.095763 200.176959 \nL 1027.230109 179.197542 \nL 1027.364454 186.190681 \nL 1027.498799 221.156375 \nL 1027.633144 202.508005 \nL 1027.76749 204.839051 \nL 1027.901835 216.494283 \nL 1028.03618 141.900801 \nL 1028.170525 155.887079 \nL 1028.304871 193.18382 \nL 1028.439216 190.852773 \nL 1028.573561 162.880218 \nL 1028.707906 202.508005 \nL 1028.842252 169.873357 \nL 1028.976597 228.149514 \nL 1029.110942 223.487422 \nL 1029.513978 181.528588 \nL 1029.782668 204.839051 \nL 1029.917014 218.825329 \nL 1030.185704 158.218125 \nL 1030.320049 169.873357 \nL 1030.454395 209.501144 \nL 1030.58874 176.866495 \nL 1030.723085 218.825329 \nL 1030.85743 214.163236 \nL 1030.991776 225.818468 \nL 1031.126121 188.521727 \nL 1031.394811 218.825329 \nL 1031.529157 202.508005 \nL 1031.663502 151.224986 \nL 1031.932192 211.83219 \nL 1032.066538 202.508005 \nL 1032.200883 209.501144 \nL 1032.335228 186.190681 \nL 1032.738264 221.156375 \nL 1032.872609 193.18382 \nL 1033.006954 190.852773 \nL 1033.1413 172.204403 \nL 1033.275645 214.163236 \nL 1033.40999 207.170098 \nL 1033.544335 218.825329 \nL 1033.678681 165.211264 \nL 1033.813026 207.170098 \nL 1033.947371 193.18382 \nL 1034.081716 230.480561 \nL 1034.216062 218.825329 \nL 1034.350407 141.900801 \nL 1034.484752 225.818468 \nL 1034.619097 186.190681 \nL 1034.753443 181.528588 \nL 1034.753443 181.528588 \n\" style=\"fill:none;stroke:#ff7f0e;stroke-linecap:square;stroke-width:1.5;\"/>\n   </g>\n   <g id=\"patch_14\">\n    <path d=\"M 752.769485 294.118125 \nL 752.769485 22.318125 \n\" style=\"fill:none;stroke:#000000;stroke-linecap:square;stroke-linejoin:miter;stroke-width:0.8;\"/>\n   </g>\n   <g id=\"patch_15\">\n    <path d=\"M 1048.18125 294.118125 \nL 1048.18125 22.318125 \n\" style=\"fill:none;stroke:#000000;stroke-linecap:square;stroke-linejoin:miter;stroke-width:0.8;\"/>\n   </g>\n   <g id=\"patch_16\">\n    <path d=\"M 752.769485 294.118125 \nL 1048.18125 294.118125 \n\" style=\"fill:none;stroke:#000000;stroke-linecap:square;stroke-linejoin:miter;stroke-width:0.8;\"/>\n   </g>\n   <g id=\"patch_17\">\n    <path d=\"M 752.769485 22.318125 \nL 1048.18125 22.318125 \n\" style=\"fill:none;stroke:#000000;stroke-linecap:square;stroke-linejoin:miter;stroke-width:0.8;\"/>\n   </g>\n   <g id=\"text_53\">\n    <!-- Discriminator output -->\n    <defs>\n     <path d=\"M 8.5 21.578125 \nL 8.5 54.6875 \nL 17.484375 54.6875 \nL 17.484375 21.921875 \nQ 17.484375 14.15625 20.5 10.265625 \nQ 23.53125 6.390625 29.59375 6.390625 \nQ 36.859375 6.390625 41.078125 11.03125 \nQ 45.3125 15.671875 45.3125 23.6875 \nL 45.3125 54.6875 \nL 54.296875 54.6875 \nL 54.296875 0 \nL 45.3125 0 \nL 45.3125 8.40625 \nQ 42.046875 3.421875 37.71875 1 \nQ 33.40625 -1.421875 27.6875 -1.421875 \nQ 18.265625 -1.421875 13.375 4.4375 \nQ 8.5 10.296875 8.5 21.578125 \nz\nM 31.109375 56 \nz\n\" id=\"DejaVuSans-117\"/>\n    </defs>\n    <g transform=\"translate(838.45318 16.318125)scale(0.12 -0.12)\">\n     <use xlink:href=\"#DejaVuSans-68\"/>\n     <use x=\"77.001953\" xlink:href=\"#DejaVuSans-105\"/>\n     <use x=\"104.785156\" xlink:href=\"#DejaVuSans-115\"/>\n     <use x=\"156.884766\" xlink:href=\"#DejaVuSans-99\"/>\n     <use x=\"211.865234\" xlink:href=\"#DejaVuSans-114\"/>\n     <use x=\"252.978516\" xlink:href=\"#DejaVuSans-105\"/>\n     <use x=\"280.761719\" xlink:href=\"#DejaVuSans-109\"/>\n     <use x=\"378.173828\" xlink:href=\"#DejaVuSans-105\"/>\n     <use x=\"405.957031\" xlink:href=\"#DejaVuSans-110\"/>\n     <use x=\"469.335938\" xlink:href=\"#DejaVuSans-97\"/>\n     <use x=\"530.615234\" xlink:href=\"#DejaVuSans-116\"/>\n     <use x=\"569.824219\" xlink:href=\"#DejaVuSans-111\"/>\n     <use x=\"631.005859\" xlink:href=\"#DejaVuSans-114\"/>\n     <use x=\"672.119141\" xlink:href=\"#DejaVuSans-32\"/>\n     <use x=\"703.90625\" xlink:href=\"#DejaVuSans-111\"/>\n     <use x=\"765.087891\" xlink:href=\"#DejaVuSans-117\"/>\n     <use x=\"828.466797\" xlink:href=\"#DejaVuSans-116\"/>\n     <use x=\"867.675781\" xlink:href=\"#DejaVuSans-112\"/>\n     <use x=\"931.152344\" xlink:href=\"#DejaVuSans-117\"/>\n     <use x=\"994.53125\" xlink:href=\"#DejaVuSans-116\"/>\n    </g>\n   </g>\n   <g id=\"legend_2\">\n    <g id=\"patch_18\">\n     <path d=\"M 986.632813 59.674375 \nL 1041.18125 59.674375 \nQ 1043.18125 59.674375 1043.18125 57.674375 \nL 1043.18125 29.318125 \nQ 1043.18125 27.318125 1041.18125 27.318125 \nL 986.632813 27.318125 \nQ 984.632813 27.318125 984.632813 29.318125 \nL 984.632813 57.674375 \nQ 984.632813 59.674375 986.632813 59.674375 \nz\n\" style=\"fill:#ffffff;opacity:0.8;stroke:#cccccc;stroke-linejoin:miter;\"/>\n    </g>\n    <g id=\"line2d_53\">\n     <path d=\"M 988.632813 35.416562 \nL 1008.632813 35.416562 \n\" style=\"fill:none;stroke:#1f77b4;stroke-linecap:square;stroke-width:1.5;\"/>\n    </g>\n    <g id=\"line2d_54\"/>\n    <g id=\"text_54\">\n     <!-- Real -->\n     <defs>\n      <path d=\"M 44.390625 34.1875 \nQ 47.5625 33.109375 50.5625 29.59375 \nQ 53.5625 26.078125 56.59375 19.921875 \nL 66.609375 0 \nL 56 0 \nL 46.6875 18.703125 \nQ 43.0625 26.03125 39.671875 28.421875 \nQ 36.28125 30.8125 30.421875 30.8125 \nL 19.671875 30.8125 \nL 19.671875 0 \nL 9.8125 0 \nL 9.8125 72.90625 \nL 32.078125 72.90625 \nQ 44.578125 72.90625 50.734375 67.671875 \nQ 56.890625 62.453125 56.890625 51.90625 \nQ 56.890625 45.015625 53.6875 40.46875 \nQ 50.484375 35.9375 44.390625 34.1875 \nz\nM 19.671875 64.796875 \nL 19.671875 38.921875 \nL 32.078125 38.921875 \nQ 39.203125 38.921875 42.84375 42.21875 \nQ 46.484375 45.515625 46.484375 51.90625 \nQ 46.484375 58.296875 42.84375 61.546875 \nQ 39.203125 64.796875 32.078125 64.796875 \nz\n\" id=\"DejaVuSans-82\"/>\n     </defs>\n     <g transform=\"translate(1016.632813 38.916562)scale(0.1 -0.1)\">\n      <use xlink:href=\"#DejaVuSans-82\"/>\n      <use x=\"64.982422\" xlink:href=\"#DejaVuSans-101\"/>\n      <use x=\"126.505859\" xlink:href=\"#DejaVuSans-97\"/>\n      <use x=\"187.785156\" xlink:href=\"#DejaVuSans-108\"/>\n     </g>\n    </g>\n    <g id=\"line2d_55\">\n     <path d=\"M 988.632813 50.094688 \nL 1008.632813 50.094688 \n\" style=\"fill:none;stroke:#ff7f0e;stroke-linecap:square;stroke-width:1.5;\"/>\n    </g>\n    <g id=\"line2d_56\"/>\n    <g id=\"text_55\">\n     <!-- Fake -->\n     <defs>\n      <path d=\"M 9.8125 72.90625 \nL 51.703125 72.90625 \nL 51.703125 64.59375 \nL 19.671875 64.59375 \nL 19.671875 43.109375 \nL 48.578125 43.109375 \nL 48.578125 34.8125 \nL 19.671875 34.8125 \nL 19.671875 0 \nL 9.8125 0 \nz\n\" id=\"DejaVuSans-70\"/>\n      <path d=\"M 9.078125 75.984375 \nL 18.109375 75.984375 \nL 18.109375 31.109375 \nL 44.921875 54.6875 \nL 56.390625 54.6875 \nL 27.390625 29.109375 \nL 57.625 0 \nL 45.90625 0 \nL 18.109375 26.703125 \nL 18.109375 0 \nL 9.078125 0 \nz\n\" id=\"DejaVuSans-107\"/>\n     </defs>\n     <g transform=\"translate(1016.632813 53.594688)scale(0.1 -0.1)\">\n      <use xlink:href=\"#DejaVuSans-70\"/>\n      <use x=\"48.394531\" xlink:href=\"#DejaVuSans-97\"/>\n      <use x=\"109.673828\" xlink:href=\"#DejaVuSans-107\"/>\n      <use x=\"163.958984\" xlink:href=\"#DejaVuSans-101\"/>\n     </g>\n    </g>\n   </g>\n  </g>\n </g>\n <defs>\n  <clipPath id=\"p2055743ed9\">\n   <rect height=\"271.8\" width=\"295.411765\" x=\"43.78125\" y=\"22.318125\"/>\n  </clipPath>\n  <clipPath id=\"p4efae4b83c\">\n   <rect height=\"271.8\" width=\"295.411765\" x=\"398.275368\" y=\"22.318125\"/>\n  </clipPath>\n  <clipPath id=\"p58fa2ec96f\">\n   <rect height=\"271.8\" width=\"295.411765\" x=\"752.769485\" y=\"22.318125\"/>\n  </clipPath>\n </defs>\n</svg>\n"
          },
          "metadata": {
            "needs_background": "light"
          }
        }
      ]
    },
    {
      "cell_type": "code",
      "source": [
        ""
      ],
      "metadata": {
        "id": "msN9LD9XUzPi"
      },
      "execution_count": 38,
      "outputs": []
    },
    {
      "cell_type": "code",
      "metadata": {
        "id": "AzCz1UqGCP8T",
        "colab": {
          "base_uri": "https://localhost:8080/",
          "height": 475
        },
        "outputId": "512699fa-3294-4851-c4ad-b0ca2f03703b"
      },
      "source": [
        "# generate the images from the generator network\n",
        "gnet.eval()\n",
        "fake_data = gnet(torch.randn(12,64).to(device)).cpu()\n",
        "\n",
        "# and visualize...\n",
        "fig,axs = plt.subplots(3,4,figsize=(8,6))\n",
        "for i,ax in enumerate(axs.flatten()):\n",
        "  ax.imshow(fake_data[i,:,].detach().view(28,28),cmap='gray')\n",
        "  ax.axis('off')\n",
        "\n",
        "plt.show()"
      ],
      "execution_count": 39,
      "outputs": [
        {
          "output_type": "display_data",
          "data": {
            "text/plain": [
              "<Figure size 576x432 with 12 Axes>"
            ],
            "image/svg+xml": "<?xml version=\"1.0\" encoding=\"utf-8\" standalone=\"no\"?>\n<!DOCTYPE svg PUBLIC \"-//W3C//DTD SVG 1.1//EN\"\n  \"http://www.w3.org/Graphics/SVG/1.1/DTD/svg11.dtd\">\n<!-- Created with matplotlib (https://matplotlib.org/) -->\n<svg height=\"340.56pt\" version=\"1.1\" viewBox=\"0 0 459.685934 340.56\" width=\"459.685934pt\" xmlns=\"http://www.w3.org/2000/svg\" xmlns:xlink=\"http://www.w3.org/1999/xlink\">\n <defs>\n  <style type=\"text/css\">\n*{stroke-linecap:butt;stroke-linejoin:round;}\n  </style>\n </defs>\n <g id=\"figure_1\">\n  <g id=\"patch_1\">\n   <path d=\"M 0 340.56 \nL 459.685934 340.56 \nL 459.685934 0 \nL 0 0 \nz\n\" style=\"fill:none;\"/>\n  </g>\n  <g id=\"axes_1\">\n   <g clip-path=\"url(#p038cb7d15b)\">\n    <image height=\"96\" id=\"image3dc006d230\" transform=\"scale(1 -1)translate(0 -96)\" width=\"96\" x=\"7.2\" xlink:href=\"data:image/png;base64,\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\" y=\"-7.129412\"/>\n   </g>\n  </g>\n  <g id=\"axes_2\">\n   <g clip-path=\"url(#pc6b89152d9)\">\n    <image height=\"96\" id=\"image5fe640df1c\" transform=\"scale(1 -1)translate(0 -96)\" width=\"96\" x=\"123.652174\" xlink:href=\"data:image/png;base64,\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\" y=\"-7.129412\"/>\n   </g>\n  </g>\n  <g id=\"axes_3\">\n   <g clip-path=\"url(#p470ce1dc93)\">\n    <image height=\"96\" id=\"image591fae94fa\" transform=\"scale(1 -1)translate(0 -96)\" width=\"96\" x=\"240.104348\" xlink:href=\"data:image/png;base64,\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\" y=\"-7.129412\"/>\n   </g>\n  </g>\n  <g id=\"axes_4\">\n   <g clip-path=\"url(#pa968069604)\">\n    <image height=\"96\" id=\"image6dc393edd1\" transform=\"scale(1 -1)translate(0 -96)\" width=\"96\" x=\"356.556522\" xlink:href=\"data:image/png;base64,\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\" y=\"-7.129412\"/>\n   </g>\n  </g>\n  <g id=\"axes_5\">\n   <g clip-path=\"url(#p140566a63b)\">\n    <image height=\"96\" id=\"imageb6e1f88260\" transform=\"scale(1 -1)translate(0 -96)\" width=\"96\" x=\"7.2\" xlink:href=\"data:image/png;base64,\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\" y=\"-122.244706\"/>\n   </g>\n  </g>\n  <g id=\"axes_6\">\n   <g clip-path=\"url(#pee2272fbd4)\">\n    <image height=\"96\" id=\"imageb22bea702c\" transform=\"scale(1 -1)translate(0 -96)\" width=\"96\" x=\"123.652174\" xlink:href=\"data:image/png;base64,\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\" y=\"-122.244706\"/>\n   </g>\n  </g>\n  <g id=\"axes_7\">\n   <g clip-path=\"url(#pe80170033c)\">\n    <image height=\"96\" id=\"imagedc9a8746f8\" transform=\"scale(1 -1)translate(0 -96)\" width=\"96\" x=\"240.104348\" xlink:href=\"data:image/png;base64,\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\" y=\"-122.244706\"/>\n   </g>\n  </g>\n  <g id=\"axes_8\">\n   <g clip-path=\"url(#pae6b4af4f1)\">\n    <image height=\"96\" id=\"image1d97c492d2\" transform=\"scale(1 -1)translate(0 -96)\" width=\"96\" x=\"356.556522\" xlink:href=\"data:image/png;base64,\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\" y=\"-122.244706\"/>\n   </g>\n  </g>\n  <g id=\"axes_9\">\n   <g clip-path=\"url(#p9dfc11ee36)\">\n    <image height=\"96\" id=\"image9095d74b8f\" transform=\"scale(1 -1)translate(0 -96)\" width=\"96\" x=\"7.2\" xlink:href=\"data:image/png;base64,\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\" y=\"-237.36\"/>\n   </g>\n  </g>\n  <g id=\"axes_10\">\n   <g clip-path=\"url(#pf51bf84df7)\">\n    <image height=\"96\" id=\"image76b61f811a\" transform=\"scale(1 -1)translate(0 -96)\" width=\"96\" x=\"123.652174\" xlink:href=\"data:image/png;base64,\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\" y=\"-237.36\"/>\n   </g>\n  </g>\n  <g id=\"axes_11\">\n   <g clip-path=\"url(#pc825209652)\">\n    <image height=\"96\" id=\"image3fe1b1f753\" transform=\"scale(1 -1)translate(0 -96)\" width=\"96\" x=\"240.104348\" xlink:href=\"data:image/png;base64,\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\" y=\"-237.36\"/>\n   </g>\n  </g>\n  <g id=\"axes_12\">\n   <g clip-path=\"url(#pdddf81cc7d)\">\n    <image height=\"96\" id=\"image39825100c9\" transform=\"scale(1 -1)translate(0 -96)\" width=\"96\" x=\"356.556522\" xlink:href=\"data:image/png;base64,\niVBORw0KGgoAAAANSUhEUgAAAGAAAABgCAYAAADimHc4AAAABHNCSVQICAgIfAhkiAAABtFJREFUeJztnctLVV8Ux5dlhT2kJ9lT7SE9qBQbRRJiCjqSEEKix98QOJAmQvMGjRrVoHSgk4IQgtSgrFCyrBQlC00re6k9tMwev9Fv/b5r/bzX4/Xesy60PqPvYR3PObTaa++99tr7phDRH0oCMjIyxPXZs2dZj42NCduFCxdYP3/+nHVKSoq4r6amhvX+/fuFrbq6mnV3d7ew/fz5M+BXz515ob3JmRZ3gDEplCQhaNmyZeK6paWFdX5+vrBduXKF9fHjx1nPnz9f3Pf582fW3759E7bHjx+zLi0tFbbJycmgnz1nvAUY4w4wxh1gTKr1B/xLYWGhuM7NzWX9/ft3Yevv72eNQ8+lS5eK+3p7e1nv2bNH2N68eRPx77wP+ItwBxiTNCFIh5lfv36xnjdP/j/p6upi/efPf6PoiYkJcd/27dtZY8ghkkNPvI+I6OPHj0E/e854CzDGHWCMO8CYhPQBODTEGK3B1EFlZaWwjY6Osl6yZImwPX36dMb3Esks6tTUlLA9ePCANaYlwsZbgDHuAGMSEoKihR1kwYIFrBcvXixs6enprHUmc82aNTM+j4ho5cqVrH///i1snz59CvSNicZbgDHuAGPcAcbE3AcEHWoiOqWwefNm1jpbicNQnUa4d+/ejN+k3zc4OChs2F/ovwsTbwHGuAOMiTkEBQ07yMKFC8X1mTNnWC9fvlzYnjx5whrrgIgiL5gsWrRIXA8PD7PesGGDsN24cYP16tWrhW18fHza58eKDnH4b+ctwBh3gDGp2Dx0U9Gzxzm/LFVGPFz31SOktWvXRrRFGoH9+PFD3Ldp0ybWnZ2dwob36hD08uXLaZ8fK9Ge4S3AGHeAMe4AY1IxPs0m3sUyE8YMJxFRW1sba70wvnXrVtZ9fX3CFqlv0n0Y1g+NjIwIG9aifv36VdjiEfeD4i3AGHeAMaHOhHUJ+rZt21jv2LFD2HA9N2idDtYSEcmZsV4TxlmyTvbFGx0a8dpbgDHuAGPcAcbEZVE+WrYPOXHihLjGBZn3798L2+vXr1l/+PAh0HfoxXp8xqpVq4Tt0qVLrHUqArc2xQqmXfSuS8+GJhHuAGPiEoKCDkl1KFm/fj3r+vp6YcvJyWEddOO0zppu2bKFNe6sJJK7K5uamgI9fzYE/ua4v9mZFe4AY9wBxoS6Ren06dPiGuO+LkHH0vW0tDRhw0VzzIzu3LlT3IepiIKCAmF79OgR66ArbrMh6DO8BRjjDjAm1BB09epVcb13717W7e3twoYhY9++fcJ29+5d1hg+9Gbv27dvs75586awYQZUl7UHBd+twwzOhHUmVjwjpjc7ccMdYEyoIUhvrjtw4ABrvQumtbWVtT7ODEdI2Lz1aOngwYOsddlibW0t61hHQTgC08/A78KFJyK5xu0twBh3gDHuAGNC7QNOnTolrrFcXW/UxkWRsrIyYcP+AYeTWVlZ4j48B0jbSkpKWOPhH0REr169mubr/0+0vgJtuq4J8RZgjDvAmFBDkG7qOHO9fv26sB07dow1LtwQEZ0/f571u3fvWOfl5Yn7GhsbWb948ULY8KwILGGcDfEoYfQWYIw7wBh3gDGh9gEXL14U10eOHGF96NAhYcNycl3zWVRUxBprPHVdUGZmJmvcDkVEdP/+fda6j8F+JR74Lskkxh1gTOAQpE8m12EhCLrkD89vqKuri/h8XdJYUVHBOtoJu7j5W5e4444c3BQeK9HCjK8JJzHuAGPcAcYE7gNiifkafUp5Q0MDa9zVTiRrQ/WCPa6eYX+gGRgYYH358mVhO3nyJGvMrhLJH/WJ92kBGm8BxrgDjAl1Jvzw4UNxXVVVxVoftIFhQP8G2LNnz1jj8WW6JHz37t2s9RlA+L63b98KG86Mh4aGKAixZka9BRjjDjAm1BCkZ9MbN25kjUk1IqIVK1aw1kedFRcXs8aknT6EG3fk4BowkZyV69JHvVsnkXgLMMYdYIw7wJhQ+wA91Lxz5w7r8vJyYcNMqa4pxWEi9g+6j8HzifR5dXh6uq7r9J+z/YtwBxgTagjSCb1r166x1mvCuLiiN99hOMEyQj0b7enpifgMnJUHne0mAm8BxrgDjHEHGBNqH6BjNKYb9HlyuOiCP0tLRLRr1y7W+PuRmKIgkv3DunXrhA2HtvrHHeKxUTsa2Id5CzDGHWBMChGFd0ysAteI8cRyItlMdc0NZkAxo9rR0SHuw1JF/TtluM587tw5YWtubmad6FN0vQUY4w4wxh1gjOlPmmPW8ejRo8KWnZ3N+suXL8KGu9AxjaD7EcyG6kzs4cOHWd+6dUvYEj0M9aOLkwh3gDH/ABdgbuYYnW0XAAAAAElFTkSuQmCC\" y=\"-237.36\"/>\n   </g>\n  </g>\n </g>\n <defs>\n  <clipPath id=\"p038cb7d15b\">\n   <rect height=\"95.929412\" width=\"95.929412\" x=\"7.2\" y=\"7.2\"/>\n  </clipPath>\n  <clipPath id=\"pc6b89152d9\">\n   <rect height=\"95.929412\" width=\"95.929412\" x=\"123.652174\" y=\"7.2\"/>\n  </clipPath>\n  <clipPath id=\"p470ce1dc93\">\n   <rect height=\"95.929412\" width=\"95.929412\" x=\"240.104348\" y=\"7.2\"/>\n  </clipPath>\n  <clipPath id=\"pa968069604\">\n   <rect height=\"95.929412\" width=\"95.929412\" x=\"356.556522\" y=\"7.2\"/>\n  </clipPath>\n  <clipPath id=\"p140566a63b\">\n   <rect height=\"95.929412\" width=\"95.929412\" x=\"7.2\" y=\"122.315294\"/>\n  </clipPath>\n  <clipPath id=\"pee2272fbd4\">\n   <rect height=\"95.929412\" width=\"95.929412\" x=\"123.652174\" y=\"122.315294\"/>\n  </clipPath>\n  <clipPath id=\"pe80170033c\">\n   <rect height=\"95.929412\" width=\"95.929412\" x=\"240.104348\" y=\"122.315294\"/>\n  </clipPath>\n  <clipPath id=\"pae6b4af4f1\">\n   <rect height=\"95.929412\" width=\"95.929412\" x=\"356.556522\" y=\"122.315294\"/>\n  </clipPath>\n  <clipPath id=\"p9dfc11ee36\">\n   <rect height=\"95.929412\" width=\"95.929412\" x=\"7.2\" y=\"237.430588\"/>\n  </clipPath>\n  <clipPath id=\"pf51bf84df7\">\n   <rect height=\"95.929412\" width=\"95.929412\" x=\"123.652174\" y=\"237.430588\"/>\n  </clipPath>\n  <clipPath id=\"pc825209652\">\n   <rect height=\"95.929412\" width=\"95.929412\" x=\"240.104348\" y=\"237.430588\"/>\n  </clipPath>\n  <clipPath id=\"pdddf81cc7d\">\n   <rect height=\"95.929412\" width=\"95.929412\" x=\"356.556522\" y=\"237.430588\"/>\n  </clipPath>\n </defs>\n</svg>\n"
          },
          "metadata": {
            "needs_background": "light"
          }
        }
      ]
    },
    {
      "cell_type": "code",
      "source": [
        ""
      ],
      "metadata": {
        "id": "qX2PiXMkB9HZ"
      },
      "execution_count": null,
      "outputs": []
    }
  ]
}